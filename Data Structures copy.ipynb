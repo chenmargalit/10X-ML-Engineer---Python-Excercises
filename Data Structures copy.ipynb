{
 "cells": [
  {
   "cell_type": "markdown",
   "id": "ed3a4eb0",
   "metadata": {},
   "source": [
    "In some of the following exercises you will have the knowledge on how to perform the action. On other's you wont. If you have no clue how to do something, look it up online and then do another example on your own. Its important to know how to find answers yourself as you'll be doing that quite a lot in real work"
   ]
  },
  {
   "cell_type": "markdown",
   "id": "4618bdf3",
   "metadata": {},
   "source": [
    "## Numbers"
   ]
  },
  {
   "cell_type": "markdown",
   "id": "d2d09342",
   "metadata": {},
   "source": [
    "A data structure you can perform arithmetic operations on"
   ]
  },
  {
   "cell_type": "code",
   "execution_count": 7,
   "id": "a90d0367",
   "metadata": {},
   "outputs": [
    {
     "name": "stdout",
     "output_type": "stream",
     "text": [
      "Sum: 15\n",
      "Difference: 5\n",
      "Product: 50\n",
      "Division: 2.0\n"
     ]
    }
   ],
   "source": [
    "num1 = 10\n",
    "num2 = 5\n",
    "\n",
    "# add something to num1. Name the varialbe holding the result sum_result\n",
    "# substract something to num1. Name the varialbe holding the result difference_result\n",
    "# dividie something from num1 Name the varialbe holding the result division_result\n",
    "# multiple num1 by something. Name the varialbe holding the result product_result\n",
    "\n",
    "\n",
    "# Display results\n",
    "print(\"Sum:\", sum_result)\n",
    "print(\"Difference:\", difference_result)\n",
    "print(\"Product:\", product_result)\n",
    "print(\"Division:\", division_result)\n"
   ]
  },
  {
   "cell_type": "markdown",
   "id": "7a09dccc",
   "metadata": {},
   "source": [
    "find a way to decide if a number is even or odd. Hint, you could use their remainder"
   ]
  },
  {
   "cell_type": "code",
   "execution_count": 9,
   "id": "d544a4b2",
   "metadata": {},
   "outputs": [],
   "source": [
    "is_number_odd = 7\n",
    "is_number_odd = 8"
   ]
  },
  {
   "cell_type": "markdown",
   "id": "7de91061",
   "metadata": {},
   "source": [
    "## Strings"
   ]
  },
  {
   "cell_type": "markdown",
   "id": "5b2f4215",
   "metadata": {},
   "source": [
    "A data structure that represents words in a way a human understands"
   ]
  },
  {
   "cell_type": "markdown",
   "id": "1b79cadc",
   "metadata": {},
   "source": [
    "Calculate the lenght of the string"
   ]
  },
  {
   "cell_type": "code",
   "execution_count": 13,
   "id": "7157e867",
   "metadata": {},
   "outputs": [],
   "source": [
    "string_to_calculate_length = 'its only difficult'"
   ]
  },
  {
   "cell_type": "markdown",
   "id": "5afbe8b9",
   "metadata": {},
   "source": [
    "Concatenate these two strings (e.g. turn 'aaa' 'bbb' to 'aaabbb'"
   ]
  },
  {
   "cell_type": "code",
   "execution_count": 11,
   "id": "f044be7e",
   "metadata": {},
   "outputs": [],
   "source": [
    "first_string = 'red'\n",
    "second_string = 'car'"
   ]
  },
  {
   "cell_type": "markdown",
   "id": "aad1c3f3",
   "metadata": {},
   "source": [
    "Print a string's first 3 chars"
   ]
  },
  {
   "cell_type": "code",
   "execution_count": 14,
   "id": "b3ade714",
   "metadata": {},
   "outputs": [],
   "source": [
    "first_three_chars_str = 'at the start'"
   ]
  },
  {
   "cell_type": "markdown",
   "id": "7166bd07",
   "metadata": {},
   "source": [
    "## Lists"
   ]
  },
  {
   "cell_type": "markdown",
   "id": "f3ff09f4",
   "metadata": {},
   "source": [
    "A data structure that can hold any number of different items. Lists are mutable, meaning you can replace any of its values."
   ]
  },
  {
   "cell_type": "markdown",
   "id": "604797bd",
   "metadata": {},
   "source": [
    "Mutability - let's say you have a list, with 3 items. You can take the second item and change its value. If you thnink this is obvious, its not. Some other data structures are mutable. The advtanges of being mutable is that you are more flexbile. In some cases its also more memory efficient becasue changing a value doesn't mean reassigning the data structure in a different place in the memory. On the other hand, something that is flexbiel is less predictable. If you can't change it, it means you know for sure the same value you put is there. This make imutable data structure better suited for tasks like being keys in hash functions and multithreaded work (which we will talk about in some time).|"
   ]
  },
  {
   "cell_type": "markdown",
   "id": "a796a890",
   "metadata": {},
   "source": [
    "Lets continue with 2 exercises using lists."
   ]
  },
  {
   "cell_type": "markdown",
   "id": "a65c9409",
   "metadata": {},
   "source": [
    "1. Create a list of a few fruits with at least 4.\n",
    "2. Add a new fruit to the list.\n",
    "3. Remove the first fruit from the list.\n",
    "4. Print the modified list."
   ]
  },
  {
   "cell_type": "markdown",
   "id": "7b23686b",
   "metadata": {},
   "source": [
    "Change the 3rd item to be something else"
   ]
  },
  {
   "cell_type": "markdown",
   "id": "3921508b",
   "metadata": {},
   "source": [
    "## Tuples"
   ]
  },
  {
   "cell_type": "markdown",
   "id": "7a2954c2",
   "metadata": {},
   "source": [
    "A data structure that can hold any number of different items. Tuples are imutable, meaning you can replace any of its values."
   ]
  },
  {
   "cell_type": "markdown",
   "id": "efd96d53",
   "metadata": {},
   "source": [
    "1. Create a tuple of a few fruits with at least 4.\n",
    "2. Add a new fruit to the list. \n",
    "\n",
    "Were you able to keep the same tuple? or is it a new one now?"
   ]
  },
  {
   "cell_type": "markdown",
   "id": "9afc6338",
   "metadata": {},
   "source": [
    "## Sets"
   ]
  },
  {
   "cell_type": "markdown",
   "id": "75effcec",
   "metadata": {},
   "source": [
    "Create a set with duplicated numbers (e.g. {1, 4, -5, 1, 2, 4}\n",
    "print the set. Do you notice what happened?"
   ]
  },
  {
   "cell_type": "markdown",
   "id": "59c52e10",
   "metadata": {},
   "source": [
    "Random numbers is a list of random numbers from 1 to 10. Turn it into a set."
   ]
  },
  {
   "cell_type": "code",
   "execution_count": 31,
   "id": "fa575fde",
   "metadata": {},
   "outputs": [],
   "source": [
    "import random\n",
    "random_numbers = [random.randint(1, 10) for _ in range(10)]"
   ]
  },
  {
   "cell_type": "markdown",
   "id": "83feeef2",
   "metadata": {},
   "source": [
    "## Dict"
   ]
  },
  {
   "cell_type": "markdown",
   "id": "e3aef896",
   "metadata": {},
   "source": [
    "Generate a dict with a few key and value pairs"
   ]
  },
  {
   "cell_type": "markdown",
   "id": "2c1470cd",
   "metadata": {},
   "source": [
    "print all the dict's keys"
   ]
  },
  {
   "cell_type": "markdown",
   "id": "c58e1c81",
   "metadata": {},
   "source": [
    "print all the dict's values"
   ]
  },
  {
   "cell_type": "markdown",
   "id": "c2ba4851",
   "metadata": {},
   "source": [
    "## Bool"
   ]
  },
  {
   "cell_type": "markdown",
   "id": "c05b5fd6",
   "metadata": {},
   "source": [
    "Generate a mathematical statement that is True and store it in a variable. Print the variable."
   ]
  },
  {
   "cell_type": "markdown",
   "id": "b8c0f3b9",
   "metadata": {},
   "source": [
    "Generate a mathematical statement that is True. Print the variable."
   ]
  },
  {
   "cell_type": "markdown",
   "id": "d9b71da0",
   "metadata": {},
   "source": [
    "## None"
   ]
  },
  {
   "cell_type": "markdown",
   "id": "96ff1e82",
   "metadata": {},
   "source": [
    "Enter something for the user input and check if user input is None"
   ]
  },
  {
   "cell_type": "code",
   "execution_count": 35,
   "id": "0ab5e9fa",
   "metadata": {},
   "outputs": [
    {
     "name": "stdout",
     "output_type": "stream",
     "text": [
      "Enter something: None\n"
     ]
    }
   ],
   "source": [
    "user_input = input(\"Enter something: \")"
   ]
  },
  {
   "cell_type": "markdown",
   "id": "fb5765b0",
   "metadata": {},
   "source": [
    "What is the data structure of user_input?"
   ]
  },
  {
   "cell_type": "code",
   "execution_count": null,
   "id": "7ed19142",
   "metadata": {},
   "outputs": [],
   "source": []
  },
  {
   "cell_type": "code",
   "execution_count": null,
   "id": "5f5a0b86",
   "metadata": {},
   "outputs": [],
   "source": []
  },
  {
   "cell_type": "code",
   "execution_count": null,
   "id": "d9f6bdf0",
   "metadata": {},
   "outputs": [],
   "source": []
  },
  {
   "cell_type": "code",
   "execution_count": null,
   "id": "de498ab1",
   "metadata": {},
   "outputs": [],
   "source": []
  },
  {
   "cell_type": "code",
   "execution_count": null,
   "id": "f3ca4ca7",
   "metadata": {},
   "outputs": [],
   "source": []
  },
  {
   "cell_type": "code",
   "execution_count": null,
   "id": "0b7425da",
   "metadata": {},
   "outputs": [],
   "source": []
  }
 ],
 "metadata": {
  "kernelspec": {
   "display_name": "Python 3 (ipykernel)",
   "language": "python",
   "name": "python3"
  },
  "language_info": {
   "codemirror_mode": {
    "name": "ipython",
    "version": 3
   },
   "file_extension": ".py",
   "mimetype": "text/x-python",
   "name": "python",
   "nbconvert_exporter": "python",
   "pygments_lexer": "ipython3",
   "version": "3.11.2"
  }
 },
 "nbformat": 4,
 "nbformat_minor": 5
}
