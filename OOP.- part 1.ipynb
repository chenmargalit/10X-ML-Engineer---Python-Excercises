{
 "cells": [
  {
   "cell_type": "markdown",
   "id": "2f3b5140",
   "metadata": {},
   "source": [
    "# Exercise 1"
   ]
  },
  {
   "cell_type": "markdown",
   "id": "1de6aacf",
   "metadata": {},
   "source": [
    "We are building a sports team. Everything from the team, the coach, the players, and the goal keeper.\n",
    "Each Entity should have a sport_id, team_name, team_id, league_id and what ever personal details you think it should have.\n",
    "Each entity should also have its own set of methods, whatever you think is right.\n",
    "Each class should be completely separated. No class should depend on another class."
   ]
  },
  {
   "cell_type": "markdown",
   "id": "d7757198",
   "metadata": {},
   "source": [
    "Create a conversation between the different entities, however you see fit, that demonstrates their different capabilities."
   ]
  },
  {
   "cell_type": "markdown",
   "id": "7bac9d2b",
   "metadata": {},
   "source": [
    "# Exercise 2\n"
   ]
  },
  {
   "cell_type": "markdown",
   "id": "95953d34",
   "metadata": {},
   "source": [
    "1. Expand the sports team entities by introducing inheritance and polymorphism. Create subclasses for a specific type of team, coach, player and transform the entities you have prepared to match the new form (e.g. your player should now inherit from the main player class)\n",
    "2. Introduce polymorphism by overwriting methods the class you're inheriting from has."
   ]
  },
  {
   "cell_type": "markdown",
   "id": "8823df68",
   "metadata": {},
   "source": [
    "# Exercise 3\n"
   ]
  },
  {
   "cell_type": "markdown",
   "id": "51531d57",
   "metadata": {},
   "source": [
    "1. Encapsulate a few of the variables, like sport_id, or league_id (where you find appropriate) as private attributes.\n",
    "2. Implement methods for changing teams/leagues and don't forget to change the according league/team private variables."
   ]
  },
  {
   "cell_type": "markdown",
   "id": "ab115416",
   "metadata": {},
   "source": [
    "# Exercise 4\n"
   ]
  },
  {
   "cell_type": "markdown",
   "id": "b4af8be6",
   "metadata": {},
   "source": [
    "Do Something of your own! Build a very simple service that does a very simple thing. For example:\n",
    "Read a file and state how many stopwords it has or whatever you see fit."
   ]
  },
  {
   "cell_type": "code",
   "execution_count": null,
   "id": "4bcf6cfa",
   "metadata": {},
   "outputs": [],
   "source": []
  }
 ],
 "metadata": {
  "kernelspec": {
   "display_name": "Python 3 (ipykernel)",
   "language": "python",
   "name": "python3"
  },
  "language_info": {
   "codemirror_mode": {
    "name": "ipython",
    "version": 3
   },
   "file_extension": ".py",
   "mimetype": "text/x-python",
   "name": "python",
   "nbconvert_exporter": "python",
   "pygments_lexer": "ipython3",
   "version": "3.11.2"
  }
 },
 "nbformat": 4,
 "nbformat_minor": 5
}
