{
 "cells": [
  {
   "cell_type": "markdown",
   "id": "39ffbdb0",
   "metadata": {},
   "source": [
    "# Final Exercise"
   ]
  },
  {
   "cell_type": "markdown",
   "id": "7254669a",
   "metadata": {},
   "source": [
    "Let's summarize what we've learned.\n",
    "\n",
    "1. Print the Python version you are currently using.\n",
    "2. If the version is less than 3, print something like: \"On the great clock of time there is only one word - NOW\"\n",
    "If it's between 3.1 and 3.9, print something like: \"Better things ahead\"\n",
    "If it's at least 3.10, print something like: \"Whats the rush??\"\n",
    "If you ARE using python of at least 3.10, try using the match-case keywords.\n",
    "3. What ever happened in part 2, activate another function that writes a txt file with some text you give it.\n",
    "4. Another function should then read that file, loop through it and count the number of A-E-I-O-U characters it finds (either capital or small letters). Print the answer, and you're done.\n",
    "*The answer is "
   ]
  },
  {
   "cell_type": "code",
   "execution_count": null,
   "id": "b9bd4472",
   "metadata": {},
   "outputs": [],
   "source": []
  }
 ],
 "metadata": {
  "kernelspec": {
   "display_name": "all_purpose_venv",
   "language": "python",
   "name": "all_purpose_venv"
  },
  "language_info": {
   "codemirror_mode": {
    "name": "ipython",
    "version": 3
   },
   "file_extension": ".py",
   "mimetype": "text/x-python",
   "name": "python",
   "nbconvert_exporter": "python",
   "pygments_lexer": "ipython3",
   "version": "3.11.2"
  }
 },
 "nbformat": 4,
 "nbformat_minor": 5
}
