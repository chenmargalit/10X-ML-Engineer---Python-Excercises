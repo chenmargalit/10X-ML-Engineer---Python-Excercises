{
 "cells": [
  {
   "cell_type": "markdown",
   "id": "39ffbdb0",
   "metadata": {},
   "source": [
    "# Final Exercise"
   ]
  },
  {
   "cell_type": "markdown",
   "id": "7254669a",
   "metadata": {},
   "source": [
    "Let's summarize what we've learned.\n",
    "\n",
    "1. Print the Python version you are currently using.\n",
    "2. If the version is less than 3, print something like: \"On the great clock of time there is only one word - NOW\"\n",
    "If it's between 3.1 and 3.9, print something like: \"Better things ahead\"\n",
    "If it's at least 3.10, print something like: \"Whats the rush??\"\n",
    "If you ARE using python of at least 3.10, try using the match-case keywords.\n",
    "3. What ever happened in part 2, activate another function that writes the lorem text presented here into a txt file.\n",
    "4. Another function should then read that file, loop through it and count the number of A-E-I-O-U characters it finds (all letters, no matter if they are capital or small). Print the answer, and you're done.\n",
    "\n",
    "*The answer is 167"
   ]
  },
  {
   "cell_type": "code",
   "execution_count": 8,
   "id": "c363153e",
   "metadata": {},
   "outputs": [],
   "source": [
    "lorem = 'Lorem ipsum dolor sit amet, consectetur adipiscing elit. Sed do eiusmod tempor incididunt ut labore et dolore magna aliqua. Ut Enim ad minim veniam, quIs nostrud exercitation Ullamco laboris nisi ut aliquip ex ea commodo consequat. Duis aute irure dolor in reprehenderit in voluptate velit esse cillum dolore eu fugiat nulla pariatur. Excepteur sint occaecat cupidatat non proident, sunt in culpa qui officia deserunt mollit anim id est laborum.'"
   ]
  },
  {
   "cell_type": "code",
   "execution_count": null,
   "id": "307dbd66",
   "metadata": {},
   "outputs": [],
   "source": []
  }
 ],
 "metadata": {
  "kernelspec": {
   "display_name": "all_purpose_venv",
   "language": "python",
   "name": "all_purpose_venv"
  },
  "language_info": {
   "codemirror_mode": {
    "name": "ipython",
    "version": 3
   },
   "file_extension": ".py",
   "mimetype": "text/x-python",
   "name": "python",
   "nbconvert_exporter": "python",
   "pygments_lexer": "ipython3",
   "version": "3.11.2"
  }
 },
 "nbformat": 4,
 "nbformat_minor": 5
}
