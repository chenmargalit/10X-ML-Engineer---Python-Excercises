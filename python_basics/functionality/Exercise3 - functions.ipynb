{
 "cells": [
  {
   "cell_type": "markdown",
   "id": "f9562905",
   "metadata": {},
   "source": [
    "# Functions"
   ]
  },
  {
   "cell_type": "markdown",
   "id": "9feea1ae",
   "metadata": {},
   "source": [
    "In all exercises, return the answer and print it."
   ]
  },
  {
   "cell_type": "markdown",
   "id": "cadbdd94",
   "metadata": {},
   "source": [
    "## Exercise 1"
   ]
  },
  {
   "cell_type": "markdown",
   "id": "ac74fa29",
   "metadata": {},
   "source": [
    "Write a function that prints the word wopa"
   ]
  },
  {
   "cell_type": "markdown",
   "id": "99f1afd0",
   "metadata": {},
   "source": [
    "## Exercise 2"
   ]
  },
  {
   "cell_type": "markdown",
   "id": "671becae",
   "metadata": {},
   "source": [
    "Write a function that sums two numbers, adds their product to the sum and returns the total sum"
   ]
  },
  {
   "cell_type": "markdown",
   "id": "2880ec47",
   "metadata": {},
   "source": [
    "## Exercise 3"
   ]
  },
  {
   "cell_type": "markdown",
   "id": "b65d45f9",
   "metadata": {},
   "source": [
    "Write a function that rounds a float number. It should return as many digits as there are to the right of the decimal point, up to 3, no more than 3."
   ]
  },
  {
   "cell_type": "markdown",
   "id": "a6bccd03",
   "metadata": {},
   "source": [
    "## Exercise 4"
   ]
  },
  {
   "cell_type": "markdown",
   "id": "abfc9b41",
   "metadata": {},
   "source": [
    "Write a function that returns the maximum of two numbers. Do it in 2 different ways, using Python's built in functionality and one you write from scratch"
   ]
  },
  {
   "cell_type": "markdown",
   "id": "ac16e713",
   "metadata": {},
   "source": [
    "## Exercise 5"
   ]
  },
  {
   "cell_type": "markdown",
   "id": "ac004f39",
   "metadata": {},
   "source": [
    "Write a function that takes a list of strings as input and returns a new list with only the strings that have more than 5 characters."
   ]
  },
  {
   "cell_type": "markdown",
   "id": "90af09ec",
   "metadata": {},
   "source": [
    "## Intermediate difficulty"
   ]
  },
  {
   "cell_type": "markdown",
   "id": "65c28595",
   "metadata": {},
   "source": [
    "## Exercise 6"
   ]
  },
  {
   "cell_type": "markdown",
   "id": "5f2b3a92",
   "metadata": {},
   "source": [
    "Write a function that takes a string as input and returns true if the string is a palindrome (reads the same forwards and backwards), return false otherwise.\n",
    "\n",
    "For example: 'aabaa' should reutrn true as it doesn't matter if you read it write to left to left to write."
   ]
  },
  {
   "cell_type": "markdown",
   "id": "fc77b2fd",
   "metadata": {},
   "source": [
    "## Exercise 7"
   ]
  },
  {
   "cell_type": "markdown",
   "id": "bf4a7f56",
   "metadata": {},
   "source": [
    "Write a function that takes a list of strings as input and returns a new list with only the strings that are palindromes."
   ]
  },
  {
   "cell_type": "markdown",
   "id": "682bc0f9",
   "metadata": {},
   "source": [
    "## Exercise 8"
   ]
  },
  {
   "cell_type": "markdown",
   "id": "77139250",
   "metadata": {},
   "source": [
    "Write a function that takes a list of numbers as input and returns a new list with the numbers sorted in descending order."
   ]
  },
  {
   "cell_type": "code",
   "execution_count": null,
   "id": "f83384e5",
   "metadata": {},
   "outputs": [],
   "source": []
  }
 ],
 "metadata": {
  "kernelspec": {
   "display_name": "all_purpose_venv",
   "language": "python",
   "name": "all_purpose_venv"
  },
  "language_info": {
   "codemirror_mode": {
    "name": "ipython",
    "version": 3
   },
   "file_extension": ".py",
   "mimetype": "text/x-python",
   "name": "python",
   "nbconvert_exporter": "python",
   "pygments_lexer": "ipython3",
   "version": "3.11.2"
  }
 },
 "nbformat": 4,
 "nbformat_minor": 5
}
