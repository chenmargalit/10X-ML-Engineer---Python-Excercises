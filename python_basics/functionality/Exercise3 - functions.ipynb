{
 "cells": [
  {
   "cell_type": "markdown",
   "id": "f9562905",
   "metadata": {},
   "source": [
    "# Functions"
   ]
  },
  {
   "cell_type": "markdown",
   "id": "9feea1ae",
   "metadata": {},
   "source": [
    "In all exercises, return the answer and print it."
   ]
  },
  {
   "cell_type": "markdown",
   "id": "cadbdd94",
   "metadata": {},
   "source": [
    "## Exercise 1"
   ]
  },
  {
   "cell_type": "markdown",
   "id": "ac74fa29",
   "metadata": {},
   "source": [
    "Write a function that prints the word wopa"
   ]
  },
  {
   "cell_type": "code",
   "execution_count": 5,
   "id": "0fc5ce85",
   "metadata": {},
   "outputs": [],
   "source": [
    "def print_wopa():\n",
    "    print('wopa')\n",
    "    return 3"
   ]
  },
  {
   "cell_type": "code",
   "execution_count": 9,
   "id": "fe0dcbd8",
   "metadata": {},
   "outputs": [
    {
     "name": "stdout",
     "output_type": "stream",
     "text": [
      "wopa\n"
     ]
    },
    {
     "data": {
      "text/plain": [
       "int"
      ]
     },
     "execution_count": 9,
     "metadata": {},
     "output_type": "execute_result"
    }
   ],
   "source": [
    "type(print_wopa())"
   ]
  },
  {
   "cell_type": "markdown",
   "id": "99f1afd0",
   "metadata": {},
   "source": [
    "## Exercise 2"
   ]
  },
  {
   "cell_type": "markdown",
   "id": "671becae",
   "metadata": {},
   "source": [
    "Write a function that sums two numbers, adds their product to the sum and returns the total sum"
   ]
  },
  {
   "cell_type": "code",
   "execution_count": 11,
   "id": "0cf37ed7",
   "metadata": {},
   "outputs": [],
   "source": [
    "def sum_and_multiplie(a,b):\n",
    "    sum_ = a+b\n",
    "    product = a * b\n",
    "    \n",
    "    return sum_ + product"
   ]
  },
  {
   "cell_type": "code",
   "execution_count": 14,
   "id": "c21ca7e8",
   "metadata": {},
   "outputs": [
    {
     "data": {
      "text/plain": [
       "11"
      ]
     },
     "execution_count": 14,
     "metadata": {},
     "output_type": "execute_result"
    }
   ],
   "source": [
    "sum_and_multiplie(2,3)"
   ]
  },
  {
   "cell_type": "markdown",
   "id": "2880ec47",
   "metadata": {},
   "source": [
    "## Exercise 3"
   ]
  },
  {
   "cell_type": "markdown",
   "id": "b65d45f9",
   "metadata": {},
   "source": [
    "Write a function that rounds a float number. It should return as many digits as there are to the right of the decimal point, up to 3, no more than 3."
   ]
  },
  {
   "cell_type": "code",
   "execution_count": null,
   "id": "01a346c9",
   "metadata": {},
   "outputs": [],
   "source": []
  },
  {
   "cell_type": "code",
   "execution_count": 21,
   "id": "8c69737b",
   "metadata": {},
   "outputs": [],
   "source": [
    "def round_number(float_):\n",
    "    return round(float_)\n",
    "    "
   ]
  },
  {
   "cell_type": "code",
   "execution_count": 27,
   "id": "750dda87",
   "metadata": {},
   "outputs": [
    {
     "data": {
      "text/plain": [
       "1"
      ]
     },
     "execution_count": 27,
     "metadata": {},
     "output_type": "execute_result"
    }
   ],
   "source": [
    "round_number(0.000001 * 1000000)"
   ]
  },
  {
   "cell_type": "markdown",
   "id": "a6bccd03",
   "metadata": {},
   "source": [
    "## Exercise 4"
   ]
  },
  {
   "cell_type": "markdown",
   "id": "abfc9b41",
   "metadata": {},
   "source": [
    "Write a function that returns the maximum of two numbers. Do it in 2 different ways, using Python's built in functionality and one you write from scratch"
   ]
  },
  {
   "cell_type": "code",
   "execution_count": 32,
   "id": "f90d0171",
   "metadata": {},
   "outputs": [],
   "source": [
    "def return_max_number(a,b):\n",
    "    return max(a,b)"
   ]
  },
  {
   "cell_type": "code",
   "execution_count": 33,
   "id": "1b689cc5",
   "metadata": {},
   "outputs": [
    {
     "data": {
      "text/plain": [
       "2"
      ]
     },
     "execution_count": 33,
     "metadata": {},
     "output_type": "execute_result"
    }
   ],
   "source": [
    "return_max_number(1,2)"
   ]
  },
  {
   "cell_type": "code",
   "execution_count": 30,
   "id": "d8e2a4e8",
   "metadata": {},
   "outputs": [],
   "source": [
    "def return_max_number_self_implementation(a,b):\n",
    "    if a > b:\n",
    "        return a\n",
    "    elif a < b:\n",
    "        return b"
   ]
  },
  {
   "cell_type": "markdown",
   "id": "ac16e713",
   "metadata": {},
   "source": [
    "## Exercise 5"
   ]
  },
  {
   "cell_type": "markdown",
   "id": "ac004f39",
   "metadata": {},
   "source": [
    "Write a function that takes a list of strings as input and returns a new list with only the strings that have more than 5 characters."
   ]
  },
  {
   "cell_type": "code",
   "execution_count": null,
   "id": "dd20ffe4",
   "metadata": {},
   "outputs": [],
   "source": [
    "def return_list_with_short_strings(list_of_words):\n",
    "    new_list = []\n",
    "    for word in list_of_words:\n",
    "        if len(word) > 5:\n",
    "            new_list.append(word)\n",
    "    return new_list            "
   ]
  },
  {
   "cell_type": "code",
   "execution_count": null,
   "id": "5245a11f",
   "metadata": {},
   "outputs": [],
   "source": []
  },
  {
   "cell_type": "code",
   "execution_count": 62,
   "id": "ba268b5e",
   "metadata": {},
   "outputs": [
    {
     "name": "stdout",
     "output_type": "stream",
     "text": [
      "CPU times: user 35 ms, sys: 10.8 ms, total: 45.8 ms\n",
      "Wall time: 48.3 ms\n"
     ]
    }
   ],
   "source": [
    "%time list_of_milion_numbers = [num for num in range(1_000_000)]"
   ]
  },
  {
   "cell_type": "code",
   "execution_count": 66,
   "id": "0b5e5b57",
   "metadata": {},
   "outputs": [
    {
     "name": "stdout",
     "output_type": "stream",
     "text": [
      "CPU times: user 81.8 ms, sys: 2.22 ms, total: 84 ms\n",
      "Wall time: 86.4 ms\n"
     ]
    }
   ],
   "source": [
    "%%time\n",
    "\n",
    "sum_ = 0\n",
    "for num in list_of_milion_numbers:\n",
    "    sum_ += num"
   ]
  },
  {
   "cell_type": "code",
   "execution_count": 67,
   "id": "0e9fa7e1",
   "metadata": {},
   "outputs": [
    {
     "data": {
      "text/plain": [
       "499999500000"
      ]
     },
     "execution_count": 67,
     "metadata": {},
     "output_type": "execute_result"
    }
   ],
   "source": [
    "sum_"
   ]
  },
  {
   "cell_type": "code",
   "execution_count": null,
   "id": "f6090b72",
   "metadata": {},
   "outputs": [],
   "source": []
  },
  {
   "cell_type": "markdown",
   "id": "90af09ec",
   "metadata": {},
   "source": [
    "## Intermediate difficulty"
   ]
  },
  {
   "cell_type": "markdown",
   "id": "65c28595",
   "metadata": {},
   "source": [
    "## Exercise 6"
   ]
  },
  {
   "cell_type": "markdown",
   "id": "5f2b3a92",
   "metadata": {},
   "source": [
    "Write a function that takes a string as input and returns true if the string is a palindrome (reads the same forwards and backwards), return false otherwise.\n",
    "\n",
    "For example: 'aabaa' should reutrn true as it doesn't matter if you read it write to left to left to write."
   ]
  },
  {
   "cell_type": "markdown",
   "id": "fc77b2fd",
   "metadata": {},
   "source": [
    "## Exercise 7"
   ]
  },
  {
   "cell_type": "markdown",
   "id": "bf4a7f56",
   "metadata": {},
   "source": [
    "Write a function that takes a list of strings as input and returns a new list with only the strings that are palindromes."
   ]
  },
  {
   "cell_type": "markdown",
   "id": "682bc0f9",
   "metadata": {},
   "source": [
    "## Exercise 8"
   ]
  },
  {
   "cell_type": "markdown",
   "id": "77139250",
   "metadata": {},
   "source": [
    "Write a function that takes a list of numbers as input and returns true if the list is sorted in ascending order, false otherwise."
   ]
  },
  {
   "cell_type": "markdown",
   "id": "be9f0270",
   "metadata": {},
   "source": [
    "## Exercise 9"
   ]
  },
  {
   "cell_type": "markdown",
   "id": "d7993ae0",
   "metadata": {},
   "source": [
    "Write a function that takes a list of numbers as input and returns a new list with the numbers sorted in descending order."
   ]
  },
  {
   "cell_type": "code",
   "execution_count": null,
   "id": "04d1597e",
   "metadata": {},
   "outputs": [],
   "source": []
  }
 ],
 "metadata": {
  "kernelspec": {
   "display_name": "all_purpose_venv",
   "language": "python",
   "name": "all_purpose_venv"
  },
  "language_info": {
   "codemirror_mode": {
    "name": "ipython",
    "version": 3
   },
   "file_extension": ".py",
   "mimetype": "text/x-python",
   "name": "python",
   "nbconvert_exporter": "python",
   "pygments_lexer": "ipython3",
   "version": "3.11.2"
  }
 },
 "nbformat": 4,
 "nbformat_minor": 5
}
