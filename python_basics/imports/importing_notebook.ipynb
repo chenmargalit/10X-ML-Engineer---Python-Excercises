{
 "cells": [
  {
   "cell_type": "markdown",
   "id": "d553c45e",
   "metadata": {},
   "source": [
    "# Imports"
   ]
  },
  {
   "cell_type": "code",
   "execution_count": 1,
   "id": "bfe00012",
   "metadata": {},
   "outputs": [
    {
     "ename": "ImportError",
     "evalue": "cannot import name 'some_num' from 'imports' (/Users/chen.m/Desktop/int/10xml/python_basics/imports/imports.py)",
     "output_type": "error",
     "traceback": [
      "\u001b[0;31m---------------------------------------------------------------------------\u001b[0m",
      "\u001b[0;31mImportError\u001b[0m                               Traceback (most recent call last)",
      "Cell \u001b[0;32mIn[1], line 1\u001b[0m\n\u001b[0;32m----> 1\u001b[0m \u001b[38;5;28;01mfrom\u001b[39;00m \u001b[38;5;21;01mimports\u001b[39;00m \u001b[38;5;28;01mimport\u001b[39;00m some_num\n",
      "\u001b[0;31mImportError\u001b[0m: cannot import name 'some_num' from 'imports' (/Users/chen.m/Desktop/int/10xml/python_basics/imports/imports.py)"
     ]
    }
   ],
   "source": [
    "from imports import some_num"
   ]
  },
  {
   "cell_type": "code",
   "execution_count": 2,
   "id": "5effd04c",
   "metadata": {},
   "outputs": [
    {
     "name": "stdout",
     "output_type": "stream",
     "text": [
      "5\n"
     ]
    }
   ],
   "source": [
    "print(some_num)"
   ]
  },
  {
   "cell_type": "code",
   "execution_count": 3,
   "id": "bc545fd0",
   "metadata": {},
   "outputs": [],
   "source": [
    "def some_code():\n",
    "    print('some code')"
   ]
  },
  {
   "cell_type": "code",
   "execution_count": null,
   "id": "8886d6ac",
   "metadata": {},
   "outputs": [],
   "source": []
  },
  {
   "cell_type": "code",
   "execution_count": null,
   "id": "180307eb",
   "metadata": {},
   "outputs": [],
   "source": []
  }
 ],
 "metadata": {
  "kernelspec": {
   "display_name": "all_purpose_venv",
   "language": "python",
   "name": "all_purpose_venv"
  },
  "language_info": {
   "codemirror_mode": {
    "name": "ipython",
    "version": 3
   },
   "file_extension": ".py",
   "mimetype": "text/x-python",
   "name": "python",
   "nbconvert_exporter": "python",
   "pygments_lexer": "ipython3",
   "version": "3.11.2"
  }
 },
 "nbformat": 4,
 "nbformat_minor": 5
}
