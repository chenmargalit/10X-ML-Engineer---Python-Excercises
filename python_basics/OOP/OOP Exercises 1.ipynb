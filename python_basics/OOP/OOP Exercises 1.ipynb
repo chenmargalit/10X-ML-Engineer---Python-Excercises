{
 "cells": [
  {
   "cell_type": "markdown",
   "id": "166b086c",
   "metadata": {},
   "source": [
    "# OOP Basics"
   ]
  },
  {
   "cell_type": "markdown",
   "id": "5ee28d69",
   "metadata": {},
   "source": [
    "## Exercise 1"
   ]
  },
  {
   "cell_type": "markdown",
   "id": "c5d83b0b",
   "metadata": {},
   "source": [
    "Create a Car class with an init method and another method that prints the data you put in init. Call this new method activate. Instantiate an instance and run activate."
   ]
  },
  {
   "cell_type": "markdown",
   "id": "097324e5",
   "metadata": {},
   "source": [
    "## Exericse 2"
   ]
  },
  {
   "cell_type": "markdown",
   "id": "b8db33fb",
   "metadata": {},
   "source": [
    "Create a class called Player with attributes name, player_id, average_num_goals, and salary. Include a method to give a raise to the player by a specified percentage times his scoring average. The method should print the amount after the raise."
   ]
  },
  {
   "cell_type": "markdown",
   "id": "be3be435",
   "metadata": {},
   "source": [
    "# Intermediate difficulty"
   ]
  },
  {
   "cell_type": "markdown",
   "id": "0eba2505",
   "metadata": {},
   "source": [
    "\n",
    "Exercise: Sports League Management System\n",
    "\n",
    "Create a program to manage a sports league. The program should allow for the creation of teams, players, and matches, and should provide functionality to record match results and display league standings.\n",
    "\n",
    "Instructions:\n",
    "\n",
    "Define a Team class with the following attributes:\n",
    "\n",
    "Team name\n",
    "List of players (player names. If you know how to do this, feel free to fetch the players using an API with\n",
    "the requests or any other package. Dont spend too much time on this if it doesnt work quickly)\n",
    "Total number of matches played\n",
    "Total number of matches won\n",
    "Total number of matches lost\n",
    "Total number of matches drawn\n",
    "\n",
    "Provide methods to add players to the team, update the match statistics (e.g., record_match_result(result)), and calculate the team's points based on match results (e.g., calculate_points()).\n",
    "\n",
    "Define a Player class with the following attributes:\n",
    "Player name\n",
    "Player position\n",
    "Player number\n",
    "Provide methods to update the player's position or number if needed.\n",
    "\n",
    "Define a Match class with the following attributes:\n",
    "Home team\n",
    "Away team\n",
    "Home team score\n",
    "Away team score\n",
    "Provide a method to record the match result (e.g., record_match_result(home_score, away_score)).\n",
    "\n",
    "Create a League class to manage the league. The League class should have a list of teams and a list of matches. Provide methods to add teams to the league, schedule matches between teams, and display the league standings (e.g., team names, points, matches played, matches won, matches lost, matches drawn).\n",
    "\n",
    "Create an example league with multiple teams and players. Simulate some matches and record the results. Display the league standings after each match."
   ]
  },
  {
   "cell_type": "code",
   "execution_count": null,
   "id": "1513bceb",
   "metadata": {},
   "outputs": [],
   "source": []
  }
 ],
 "metadata": {
  "kernelspec": {
   "display_name": "all_purpose_venv",
   "language": "python",
   "name": "all_purpose_venv"
  },
  "language_info": {
   "codemirror_mode": {
    "name": "ipython",
    "version": 3
   },
   "file_extension": ".py",
   "mimetype": "text/x-python",
   "name": "python",
   "nbconvert_exporter": "python",
   "pygments_lexer": "ipython3",
   "version": "3.11.2"
  }
 },
 "nbformat": 4,
 "nbformat_minor": 5
}
