{
 "cells": [
  {
   "cell_type": "markdown",
   "id": "989b4a30",
   "metadata": {},
   "source": [
    "# Final Exercise"
   ]
  },
  {
   "cell_type": "markdown",
   "id": "56d743a4",
   "metadata": {},
   "source": [
    "Create a movie theater handler class. In the theater you can have how many rooms you want, each should present a different movie, of a different genre, with different length etc. In this theater you can sell and buy tickets (as long as there are remaining tickets to be bought). \n",
    "\n",
    "Bonus: You can also buy a \"chance ticket\". A chance ticket is only offered when there are no more tickets left, it costs 50% of the price, and it works like that:\n",
    "You choose a number between 1 and 10. Every 10 seconds a random integer is being generated. If it's your number, you can enter. If it's not, you can't. You only get 5 turns to try."
   ]
  }
 ],
 "metadata": {
  "kernelspec": {
   "display_name": "all_purpose_venv",
   "language": "python",
   "name": "all_purpose_venv"
  },
  "language_info": {
   "codemirror_mode": {
    "name": "ipython",
    "version": 3
   },
   "file_extension": ".py",
   "mimetype": "text/x-python",
   "name": "python",
   "nbconvert_exporter": "python",
   "pygments_lexer": "ipython3",
   "version": "3.11.2"
  }
 },
 "nbformat": 4,
 "nbformat_minor": 5
}
