{
 "cells": [
  {
   "cell_type": "markdown",
   "id": "989b4a30",
   "metadata": {},
   "source": [
    "# Final Exercise"
   ]
  },
  {
   "cell_type": "markdown",
   "id": "56d743a4",
   "metadata": {},
   "source": [
    "Create a movie theater handler class. In the theater you can have how many rooms you want, each should present a different movie, of a different genre, with different length etc. In this theater you can sell and buy tickets (as long as there are remaining tickets to be bought). \n",
    "\n",
    "Bonus: You can also buy a \"chance ticket\". A chance ticket is only offered when there are no more tickets left, it costs 50% of the price, and it works like that:\n",
    "You choose a number between 1 and 10. Every 10 seconds a random integer is being generated. If it's your number, you can enter. If it's not, you can't. You only get 5 turns to try."
   ]
  },
  {
   "cell_type": "markdown",
   "id": "158cb216",
   "metadata": {},
   "source": [
    "## Intermediate difficulty"
   ]
  },
  {
   "cell_type": "markdown",
   "id": "94bf1ea4",
   "metadata": {},
   "source": [
    "Create a Python program that models a sports league management system. The system should include the following classes:\n",
    "\n",
    "1. SportsLeague: A base class representing a sports league. It should have attributes name, sport, and teams (a list of Team instances in the league). Implement methods to add a team to the league, remove a team from the league, and get the number of teams in the league.\n",
    "\n",
    "2. Team: A class representing a team in the league. It should include attributes name, city, players (a list of Player instances in the team), and captain (an instance of Player who is the team's captain). Implement methods to add a player to the team, remove a player from the team, and set the captain of the team.\n",
    "\n",
    "3. Player: A class representing a player. It should include attributes name, age, and position. Implement a method to get the player's details as a string.\n",
    "\n",
    "4. FootballLeague: A subclass of SportsLeague representing a football league. Implement a class method to get the total number of goals scored by all teams in the league.\n",
    "\n",
    "5. BasketballLeague: A subclass of SportsLeague representing a basketball league. Implement a static method to check if a given team name contains the city name."
   ]
  },
  {
   "cell_type": "code",
   "execution_count": null,
   "id": "f9b3a8be",
   "metadata": {},
   "outputs": [],
   "source": []
  }
 ],
 "metadata": {
  "kernelspec": {
   "display_name": "all_purpose_venv",
   "language": "python",
   "name": "all_purpose_venv"
  },
  "language_info": {
   "codemirror_mode": {
    "name": "ipython",
    "version": 3
   },
   "file_extension": ".py",
   "mimetype": "text/x-python",
   "name": "python",
   "nbconvert_exporter": "python",
   "pygments_lexer": "ipython3",
   "version": "3.11.2"
  }
 },
 "nbformat": 4,
 "nbformat_minor": 5
}
