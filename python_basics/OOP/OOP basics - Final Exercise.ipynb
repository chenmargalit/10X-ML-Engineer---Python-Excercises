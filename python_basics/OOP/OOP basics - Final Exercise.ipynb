{
 "cells": [
  {
   "cell_type": "markdown",
   "id": "989b4a30",
   "metadata": {},
   "source": [
    "# Final Exercise"
   ]
  },
  {
   "cell_type": "markdown",
   "id": "56d743a4",
   "metadata": {},
   "source": [
    "Create a movie theater handler class. In the theater you can have how many rooms you want, each should present a different movie, of a different genre, with different length etc. In this theater you can sell and buy tickets (as long as there are remaining tickets to be bought). \n",
    "\n",
    "Bonus: You can also buy a \"chance ticket\". A chance ticket is only offered when there are no more tickets left, it costs 50% of the price, and it works like that:\n",
    "You choose a number between 1 and 10. Every 10 seconds a random integer is being generated. If it's your number, you can enter. If it's not, you can't. You only get 5 turns to try."
   ]
  },
  {
   "cell_type": "markdown",
   "id": "d33680fb",
   "metadata": {},
   "source": [
    "## solution"
   ]
  },
  {
   "cell_type": "code",
   "execution_count": 98,
   "id": "4e6ff4aa",
   "metadata": {},
   "outputs": [],
   "source": [
    "class Room:\n",
    "    \n",
    "    def __init__(self, name, genre, movie_length, room_number, room_size = 20):\n",
    "        self.name = name\n",
    "        self.genre = genre\n",
    "        self.movie_length = movie_length\n",
    "        self.room_number = room_number\n",
    "        self.room_size = room_size\n",
    "        self.tickets_left = room_size\n",
    "        \n",
    "    def __str__(self):\n",
    "        return f'in room {self.room_number} the movie that is presenting is {self.name}. Its length is {self.movie_length} and is of the {self.genre} genre'\n"
   ]
  },
  {
   "cell_type": "code",
   "execution_count": 112,
   "id": "d9453e48",
   "metadata": {},
   "outputs": [],
   "source": [
    "class User:\n",
    "    \n",
    "    def __init__(self,name, money, tickets = 0):\n",
    "        self.name = name\n",
    "        self.money = 100\n",
    "        self.tickets = tickets"
   ]
  },
  {
   "cell_type": "code",
   "execution_count": 113,
   "id": "23ab735d",
   "metadata": {},
   "outputs": [],
   "source": [
    "user_1 = User('Alice', 100)\n",
    "user_2 = User('Bob', 10)\n",
    "user_3 = User('Carol', 40)"
   ]
  },
  {
   "cell_type": "code",
   "execution_count": 114,
   "id": "9beb100d",
   "metadata": {},
   "outputs": [],
   "source": [
    "room_1 = Room('LOTR', 'Deality', 180, 40)\n",
    "room_2 = Room('Shawshank Redemption', 'Drama', 154, 10)\n",
    "room_3 = Room('Inception', 'Sci-Fi', 148, 100)\n",
    "room_4 = Room('The Godfather', 'Crime', 175, 30)"
   ]
  },
  {
   "cell_type": "code",
   "execution_count": 120,
   "id": "d19a286b",
   "metadata": {},
   "outputs": [],
   "source": [
    "class TheaterHandler:\n",
    "    \n",
    "    def __init__(self, num_rooms=4):\n",
    "        self.num_rooms = num_rooms\n",
    "        self.rooms = [room_1, room_2, room_3, room_4]\n",
    "        self.users = [user_1, user_2, user_3]\n",
    "        \n",
    "        \n",
    "    def sell_ticket(self, movie_name):\n",
    "        for room in self.rooms:\n",
    "            if movie_name == room.name:\n",
    "                room.tickets_left -=1\n",
    "\n",
    "    \n",
    "    def buy_ticket(self, user_name, price = 5):\n",
    "        for user in self.users:\n",
    "            if user.name == user_name:\n",
    "                user.tickets += 1\n",
    "                user.money -= price"
   ]
  },
  {
   "cell_type": "code",
   "execution_count": 116,
   "id": "72459869",
   "metadata": {},
   "outputs": [],
   "source": [
    "t = TheaterHandler()"
   ]
  },
  {
   "cell_type": "code",
   "execution_count": 117,
   "id": "533e02f9",
   "metadata": {},
   "outputs": [],
   "source": []
  },
  {
   "cell_type": "code",
   "execution_count": 118,
   "id": "4e35273c",
   "metadata": {},
   "outputs": [],
   "source": []
  },
  {
   "cell_type": "code",
   "execution_count": null,
   "id": "97fb1ce8",
   "metadata": {},
   "outputs": [],
   "source": []
  },
  {
   "cell_type": "code",
   "execution_count": null,
   "id": "1587f81f",
   "metadata": {},
   "outputs": [],
   "source": []
  },
  {
   "cell_type": "code",
   "execution_count": null,
   "id": "a7c52e09",
   "metadata": {},
   "outputs": [],
   "source": []
  },
  {
   "cell_type": "code",
   "execution_count": 51,
   "id": "c49036ae",
   "metadata": {},
   "outputs": [],
   "source": [
    "r = Room('a', 'b', 'c', 'd')"
   ]
  },
  {
   "cell_type": "code",
   "execution_count": 52,
   "id": "56d5a183",
   "metadata": {},
   "outputs": [
    {
     "name": "stdout",
     "output_type": "stream",
     "text": [
      "in room d the movie that is presenting is a. Its length is c and is of the b genre\n"
     ]
    }
   ],
   "source": [
    "print(r)"
   ]
  },
  {
   "cell_type": "code",
   "execution_count": 48,
   "id": "0100c206",
   "metadata": {},
   "outputs": [],
   "source": []
  },
  {
   "cell_type": "markdown",
   "id": "158cb216",
   "metadata": {},
   "source": [
    "## Intermediate difficulty"
   ]
  },
  {
   "cell_type": "markdown",
   "id": "94bf1ea4",
   "metadata": {},
   "source": [
    "Create a Python program that models a sports league management system. The system should include the following classes:\n",
    "\n",
    "1. SportsLeague: A base class representing a sports league. It should have attributes name, sport, and teams (a list of Team instances in the league). Implement methods to add a team to the league, remove a team from the league, and get the number of teams in the league.\n",
    "\n",
    "2. Team: A class representing a team in the league. It should include attributes name, city, players (a list of Player instances in the team), and captain (an instance of Player who is the team's captain). Implement methods to add a player to the team, remove a player from the team, and set the captain of the team.\n",
    "\n",
    "3. Player: A class representing a player. It should include attributes name, age, and position. Implement a method to get the player's details as a string.\n",
    "\n",
    "4. FootballLeague: A subclass of SportsLeague representing a football league. Implement a class method to get the total number of goals scored by all teams in the league.\n",
    "\n",
    "5. BasketballLeague: A subclass of SportsLeague representing a basketball league. Implement a static method to check if a given team name contains the city name."
   ]
  },
  {
   "cell_type": "code",
   "execution_count": null,
   "id": "af84cd94",
   "metadata": {},
   "outputs": [],
   "source": []
  }
 ],
 "metadata": {
  "kernelspec": {
   "display_name": "all_purpose_venv",
   "language": "python",
   "name": "all_purpose_venv"
  },
  "language_info": {
   "codemirror_mode": {
    "name": "ipython",
    "version": 3
   },
   "file_extension": ".py",
   "mimetype": "text/x-python",
   "name": "python",
   "nbconvert_exporter": "python",
   "pygments_lexer": "ipython3",
   "version": "3.11.2"
  }
 },
 "nbformat": 4,
 "nbformat_minor": 5
}
