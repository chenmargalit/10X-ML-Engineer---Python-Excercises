{
 "cells": [
  {
   "cell_type": "markdown",
   "id": "e39d348e",
   "metadata": {},
   "source": [
    "# Encapsulation"
   ]
  },
  {
   "cell_type": "markdown",
   "id": "021d94c2",
   "metadata": {},
   "source": [
    "Create a class that uses encapsulation. It should introduce at least 3 methods (besides init):\n",
    "The first:  should do some calculation on some protected data inserted in init, and store it as an instance's attribute.\n",
    "The second:  should change the protected data somehow. \n",
    "The third: should print the data before and after it was changed"
   ]
  },
  {
   "cell_type": "markdown",
   "id": "0accc649",
   "metadata": {},
   "source": [
    "# Intermediate difficulty"
   ]
  },
  {
   "cell_type": "markdown",
   "id": "e2bcd530",
   "metadata": {},
   "source": [
    "You are tasked with implementing a program to track statistics for a sports team. The program should allow for the creation of players and teams, and should provide functionality to track goals scored, assists made, and matches played for each player. Additionally, it should be able to display the statistics for each player and for the team as a whole.\n",
    "\n",
    "More detailed instructions:\n",
    "\n",
    "Define a Player class with the following attributes:\n",
    "\n",
    "Name\n",
    "Age\n",
    "Number of goals scored\n",
    "Number of assists made\n",
    "Number of matches played\n",
    "Encapsulate these attributes appropriately and provide methods to update the statistics (e.g., score_goal(), make_assist(), play_match()), and to retrieve the player's statistics (e.g., get_stats()).\n",
    "Define a Team class with the following attributes:\n",
    "\n",
    "Team name\n",
    "List of players\n",
    "Encapsulate these attributes appropriately and provide a method to add players to the team (e.g., add_player(player)), and to retrieve the statistics of all players in the team (e.g., get_players_stats()).\n",
    "Create an example team and players, and simulate some matches by updating the player statistics. Display the team statistics after each match."
   ]
  },
  {
   "cell_type": "markdown",
   "id": "1a05a256",
   "metadata": {},
   "source": [
    "# Inhertiance"
   ]
  },
  {
   "cell_type": "markdown",
   "id": "e8bcdf4b",
   "metadata": {},
   "source": [
    "Write a class for a bird and another class that inherits from it. The bird baseclass should take some general attributes, and the inherting class should take some specific attributes like name, color, etc.\n",
    "Generate an instance and run two methods on it, one owned by the base class and one owned by the inheriting class"
   ]
  },
  {
   "cell_type": "markdown",
   "id": "7d4457ea",
   "metadata": {},
   "source": [
    "# Polymorphism"
   ]
  },
  {
   "cell_type": "markdown",
   "id": "d547b64c",
   "metadata": {},
   "source": [
    "Write a class that inherits from two classes. The subclass (class that inheirts) should demonstrate polymorphism, e.g. overwrite one of the methods. The subclass should print both the regularly inherited method (from one class) and the over written method (from the other class)"
   ]
  }
 ],
 "metadata": {
  "kernelspec": {
   "display_name": "Python 3 (ipykernel)",
   "language": "python",
   "name": "python3"
  },
  "language_info": {
   "codemirror_mode": {
    "name": "ipython",
    "version": 3
   },
   "file_extension": ".py",
   "mimetype": "text/x-python",
   "name": "python",
   "nbconvert_exporter": "python",
   "pygments_lexer": "ipython3",
   "version": "3.11.2"
  }
 },
 "nbformat": 4,
 "nbformat_minor": 5
}
