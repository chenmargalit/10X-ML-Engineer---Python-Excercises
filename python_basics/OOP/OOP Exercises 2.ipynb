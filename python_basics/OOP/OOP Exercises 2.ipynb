{
 "cells": [
  {
   "cell_type": "markdown",
   "id": "51c173a0",
   "metadata": {
    "heading_collapsed": true
   },
   "source": [
    "# Encapsulation"
   ]
  },
  {
   "cell_type": "markdown",
   "id": "65536541",
   "metadata": {
    "hidden": true
   },
   "source": [
    "Create a class that uses encapsulation. It should introduce at least 3 methods (besides init):\n",
    "The first:  should do some calculation on some protected data inserted in init, and store it as a new instance's attribute.\n",
    "The second:  should change the protected data somehow. \n",
    "The third: should print the 2 varialbes."
   ]
  },
  {
   "cell_type": "markdown",
   "id": "68682198",
   "metadata": {
    "heading_collapsed": true,
    "hidden": true
   },
   "source": [
    "## Intermediate difficulty"
   ]
  },
  {
   "cell_type": "markdown",
   "id": "709d2680",
   "metadata": {
    "hidden": true
   },
   "source": [
    "In this exercise, you should implement a program to track statistics for a sports team. The program should allow for the creation of players and teams, and should provide functionality to track goals scored, assists made, and matches played for each player. Additionally, it should be able to display the statistics for each player and for the team as a whole.\n",
    "\n",
    "More detailed instructions:\n",
    "\n",
    "Define a Player class with the following attributes:\n",
    "\n",
    "Name\n",
    "Age\n",
    "Number of goals scored\n",
    "Number of assists made\n",
    "Number of matches played\n",
    "\n",
    "Encapsulate these attributes appropriately and provide methods to update the statistics (e.g., score_goal(), make_assist(), play_match()), and to retrieve the player's statistics (e.g., get_stats()).\n",
    "\n",
    "Define a Team class with the following attributes:\n",
    "Team name\n",
    "List of players\n",
    "Encapsulate these attributes appropriately and provide a method to add players to the team (e.g., add_player(player)), and to retrieve the statistics of all players in the team (e.g., get_players_stats()).\n",
    "\n",
    "Create an example team and players, and simulate some matches by updating the player statistics. Display the team statistics after each match."
   ]
  },
  {
   "cell_type": "markdown",
   "id": "aa233473",
   "metadata": {},
   "source": [
    "# Inhertiance"
   ]
  },
  {
   "cell_type": "markdown",
   "id": "39f978d6",
   "metadata": {},
   "source": [
    "Write a class for a bird and another class that inherits from it. The bird baseclass should take some general attributes, and the inherting class should take some specific attributes like name, color, etc.\n",
    "Generate an instance and run two methods on it, one owned by the base class and one owned by the inheriting class"
   ]
  },
  {
   "cell_type": "markdown",
   "id": "5449df9f",
   "metadata": {
    "heading_collapsed": true
   },
   "source": [
    "## Intermediate difficulty"
   ]
  },
  {
   "cell_type": "markdown",
   "id": "213a1aec",
   "metadata": {
    "hidden": true
   },
   "source": [
    "Create a program to manage sports teams, including different types of sports such as football, basketball, and volleyball. Each type of sport has specific attributes and behaviors unique to that sport.\n",
    "\n",
    "Instructions:\n",
    "\n",
    "Define a base class called Team with the following attributes:\n",
    "\n",
    "Team name\n",
    "List of players (player names)\n",
    "Provide methods to add players to the team and display the team's information.\n",
    "Create subclasses for each type of sport, such as FootballTeam, BasketballTeam, and VolleyballTeam, that inherit from the Team class. Each subclass should have sport-specific attributes and methods:\n",
    "\n",
    "FootballTeam:\n",
    "Additional attribute: coach name\n",
    "Additional method: set formation (e.g., set_formation(formation))\n",
    "\n",
    "BasketballTeam:\n",
    "Additional attribute: home court\n",
    "Additional method: set starting lineup (e.g., set_starting_lineup(lineup))\n",
    "\n",
    "VolleyballTeam:\n",
    "Additional attribute: captain name\n",
    "Additional method: set rotation (e.g., set_rotation(rotation))\n",
    "\n",
    "Create instances of each type of team and demonstrate the use of sport-specific methods for each team type."
   ]
  },
  {
   "cell_type": "markdown",
   "id": "fd1806b2",
   "metadata": {
    "heading_collapsed": true
   },
   "source": [
    "# Polymorphism"
   ]
  },
  {
   "cell_type": "markdown",
   "id": "a918cc8f",
   "metadata": {
    "hidden": true
   },
   "source": [
    "Write a class that inherits from two classes. The subclass (class that inheirts) should demonstrate polymorphism, e.g. overwrite one of the methods. The subclass should print both the regularly inherited method (from one class) and the over written method (from the other class)"
   ]
  },
  {
   "cell_type": "markdown",
   "id": "13e8f36c",
   "metadata": {
    "hidden": true
   },
   "source": [
    "## Intermediate difficulty"
   ]
  },
  {
   "cell_type": "markdown",
   "id": "4976fee8",
   "metadata": {
    "hidden": true
   },
   "source": [
    "You should develop a sports event management system that needs to handle different types of sports events, such as matches, tournaments, and training sessions. Each type of event has specific attributes and behaviors, but they all share common functionality, such as starting the event and displaying event details.\n",
    "\n",
    "Instructions:\n",
    "\n",
    "Define a base class called Event with the following methods:\n",
    "\n",
    "init function that takes:\n",
    "start_time\n",
    "display_details\n",
    "\n",
    "Create subclasses for different types of events, such as Match, Tournament, and TrainingSession, that inherit from the Event class. Each subclass should have event-specific attributes and behaviors:\n",
    "\n",
    "Match:\n",
    "Additional attribute: teams (list of team names)\n",
    "Additional method: set_winner(team_name)\n",
    "\n",
    "Tournament:\n",
    "Additional attribute: number_of_teams\n",
    "Additional method: generate_fixture()\n",
    "\n",
    "TrainingSession:\n",
    "Additional attribute: coach\n",
    "Additional method: set_location(location)\n",
    "Implement the methods for each subclass to perform the specific behaviors of that type of event.\n",
    "\n",
    "Create instances of each type of event and demonstrate polymorphism by calling the common methods (start and display_details) on each instance, showing that they behave differently based on the type of event."
   ]
  },
  {
   "cell_type": "code",
   "execution_count": null,
   "id": "7a678293",
   "metadata": {
    "hidden": true
   },
   "outputs": [],
   "source": []
  }
 ],
 "metadata": {
  "kernelspec": {
   "display_name": "Python 3 (ipykernel)",
   "language": "python",
   "name": "python3"
  },
  "language_info": {
   "codemirror_mode": {
    "name": "ipython",
    "version": 3
   },
   "file_extension": ".py",
   "mimetype": "text/x-python",
   "name": "python",
   "nbconvert_exporter": "python",
   "pygments_lexer": "ipython3",
   "version": "3.11.2"
  }
 },
 "nbformat": 4,
 "nbformat_minor": 5
}
