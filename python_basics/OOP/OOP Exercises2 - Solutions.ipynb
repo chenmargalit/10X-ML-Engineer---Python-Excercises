{
 "cells": [
  {
   "cell_type": "markdown",
   "id": "51c173a0",
   "metadata": {},
   "source": [
    "# Encapsulation"
   ]
  },
  {
   "cell_type": "markdown",
   "id": "65536541",
   "metadata": {},
   "source": [
    "Create a class that uses encapsulation. It should introduce at least 3 methods (besides init):\n",
    "The first:  should do some calculation on some protected data inserted in init, and store it as a new instance's attribute.\n",
    "The second:  should change the protected data somehow. \n",
    "The third: should print the 2 varialbes."
   ]
  },
  {
   "cell_type": "markdown",
   "id": "416c8703",
   "metadata": {},
   "source": [
    "## Solution"
   ]
  },
  {
   "cell_type": "code",
   "execution_count": 103,
   "id": "8f7b62a3",
   "metadata": {},
   "outputs": [],
   "source": [
    "class Calculator:\n",
    "    \n",
    "    def __init__(self, age):\n",
    "        self._age = age\n",
    "        self._incremented_age = None\n",
    "        \n",
    "    def increment_age(self):\n",
    "        self._incremented_age = self._age + 1\n",
    "        \n",
    "    def decrement_age(self):\n",
    "        self._age -=1\n",
    "        \n",
    "    def print_ages(self):\n",
    "        if self._incremented_age is not None:\n",
    "            print('current age', self._age)\n",
    "            print('incremented age', self._incremented_age)\n",
    "            \n",
    "        else:\n",
    "            print('please activate the increment age method')\n",
    "        "
   ]
  },
  {
   "cell_type": "code",
   "execution_count": 104,
   "id": "ed5b5de6",
   "metadata": {},
   "outputs": [
    {
     "name": "stdout",
     "output_type": "stream",
     "text": [
      "init ran\n"
     ]
    }
   ],
   "source": [
    "c = Calculator(10)"
   ]
  },
  {
   "cell_type": "code",
   "execution_count": 80,
   "id": "5e42bffd",
   "metadata": {},
   "outputs": [
    {
     "name": "stdout",
     "output_type": "stream",
     "text": [
      "please activate the increment age method\n"
     ]
    }
   ],
   "source": [
    "c.print_ages()"
   ]
  },
  {
   "cell_type": "code",
   "execution_count": 81,
   "id": "ec2d85d4",
   "metadata": {},
   "outputs": [],
   "source": [
    "c.increment_age(10)"
   ]
  },
  {
   "cell_type": "code",
   "execution_count": 82,
   "id": "c0418a3e",
   "metadata": {},
   "outputs": [],
   "source": [
    "c.decrement_age()"
   ]
  },
  {
   "cell_type": "code",
   "execution_count": 83,
   "id": "5aa13fb9",
   "metadata": {},
   "outputs": [
    {
     "name": "stdout",
     "output_type": "stream",
     "text": [
      "current age 9\n",
      "incremented age 11\n"
     ]
    }
   ],
   "source": [
    "c.print_ages()"
   ]
  },
  {
   "cell_type": "code",
   "execution_count": null,
   "id": "4ecd5afa",
   "metadata": {},
   "outputs": [],
   "source": []
  },
  {
   "cell_type": "markdown",
   "id": "68682198",
   "metadata": {},
   "source": [
    "## Intermediate difficulty"
   ]
  },
  {
   "cell_type": "markdown",
   "id": "709d2680",
   "metadata": {},
   "source": [
    "In this exercise, you should implement a program to track statistics for a sports team. The program should allow for the creation of players and teams, and should provide functionality to track goals scored, assists made, and matches played for each player. Additionally, it should be able to display the statistics for each player and for the team as a whole.\n",
    "\n",
    "More detailed instructions:\n",
    "\n",
    "Define a Player class with the following attributes:\n",
    "\n",
    "Name\n",
    "Age\n",
    "Number of goals scored\n",
    "Number of assists made\n",
    "Number of matches played\n",
    "\n",
    "Encapsulate these attributes appropriately and provide methods to update the statistics (e.g., score_goal(), make_assist(), play_match()), and to retrieve the player's statistics (e.g., get_stats()).\n",
    "\n",
    "Define a Team class with the following attributes:\n",
    "Team name\n",
    "List of players\n",
    "Encapsulate these attributes appropriately and provide a method to add players to the team (e.g., add_player(player)), and to retrieve the statistics of all players in the team (e.g., get_players_stats()).\n",
    "\n",
    "Create an example team and players, and simulate some matches by updating the player statistics. Display the team statistics after each match."
   ]
  },
  {
   "cell_type": "markdown",
   "id": "aa233473",
   "metadata": {
    "heading_collapsed": true
   },
   "source": [
    "# Inhertiance"
   ]
  },
  {
   "cell_type": "markdown",
   "id": "39f978d6",
   "metadata": {
    "hidden": true
   },
   "source": [
    "Write a class for a bird and another class that inherits from it. The bird baseclass should take some general attributes, and the inherting class should take some specific attributes like name, color, etc.\n",
    "Generate an instance and run two methods on it, one owned by the base class and one owned by the inheriting class"
   ]
  },
  {
   "cell_type": "markdown",
   "id": "11bfa108",
   "metadata": {
    "heading_collapsed": true,
    "hidden": true
   },
   "source": [
    "## Solution"
   ]
  },
  {
   "cell_type": "code",
   "execution_count": 55,
   "id": "b006430f",
   "metadata": {
    "hidden": true
   },
   "outputs": [],
   "source": [
    "class Bird:\n",
    "    \n",
    "    def __init__(self, has_wings=True, can_fly=True):\n",
    "        self.has_wins = has_wings\n",
    "        self.can_fly = can_fly\n",
    "        \n",
    "\n",
    "    def fly(self):\n",
    "        if self.can_fly is True:\n",
    "            print(f'this bird flies')\n",
    "        else:\n",
    "            print('this bird does not fly') "
   ]
  },
  {
   "cell_type": "code",
   "execution_count": 61,
   "id": "de67308c",
   "metadata": {
    "hidden": true
   },
   "outputs": [],
   "source": [
    "class Penguin(Bird):\n",
    "    \n",
    "    def __init__(self, has_wings, can_fly, name, age):\n",
    "        super().__init__(has_wings, can_fly)\n",
    "        \n",
    "        self.name = name\n",
    "        self.age = age\n",
    "        \n",
    "    def print_meta_data(self):\n",
    "        print(f'my name is {self.name} and I am {self.age} years old')\n",
    "\n",
    "    "
   ]
  },
  {
   "cell_type": "code",
   "execution_count": 70,
   "id": "e1626127",
   "metadata": {
    "hidden": true
   },
   "outputs": [],
   "source": [
    "penguin_instace = Penguin(True, False, 'emperor', 13)"
   ]
  },
  {
   "cell_type": "markdown",
   "id": "5449df9f",
   "metadata": {
    "hidden": true
   },
   "source": [
    "## Intermediate difficulty"
   ]
  },
  {
   "cell_type": "markdown",
   "id": "213a1aec",
   "metadata": {
    "hidden": true
   },
   "source": [
    "Create a program to manage sports teams, including different types of sports such as football, basketball, and volleyball. Each type of sport has specific attributes and behaviors unique to that sport.\n",
    "\n",
    "Instructions:\n",
    "\n",
    "Define a base class called Team with the following attributes:\n",
    "\n",
    "Team name\n",
    "List of players (player names)\n",
    "Provide methods to add players to the team and display the team's information.\n",
    "Create subclasses for each type of sport, such as FootballTeam, BasketballTeam, and VolleyballTeam, that inherit from the Team class. Each subclass should have sport-specific attributes and methods:\n",
    "\n",
    "FootballTeam:\n",
    "Additional attribute: coach name\n",
    "Additional method: set formation (e.g., set_formation(formation))\n",
    "\n",
    "BasketballTeam:\n",
    "Additional attribute: home court\n",
    "Additional method: set starting lineup (e.g., set_starting_lineup(lineup))\n",
    "\n",
    "VolleyballTeam:\n",
    "Additional attribute: captain name\n",
    "Additional method: set rotation (e.g., set_rotation(rotation))\n",
    "\n",
    "Create instances of each type of team and demonstrate the use of sport-specific methods for each team type."
   ]
  },
  {
   "cell_type": "markdown",
   "id": "fd1806b2",
   "metadata": {
    "heading_collapsed": true
   },
   "source": [
    "# Polymorphism"
   ]
  },
  {
   "cell_type": "markdown",
   "id": "a918cc8f",
   "metadata": {
    "hidden": true
   },
   "source": [
    "Create a Sports class with a method play() that prints \"Playing sports\". Then create two subclasses, Soccer and Basketball, each with their own play() method that prints \"Playing soccer\" and \"Playing basketball\" respectively. Finally, create a function play_sports that takes an instance of Sports (or its subclasses) and calls the play() method on it."
   ]
  },
  {
   "cell_type": "code",
   "execution_count": 91,
   "id": "a25f1f3d",
   "metadata": {
    "hidden": true
   },
   "outputs": [],
   "source": [
    "class Sports:\n",
    "    \n",
    "    def __init__(self, love_sport=True):\n",
    "        self.love_sport = love_sport\n",
    "        \n",
    "    def does_user_love_sport(self):\n",
    "        print(self.love_sport)\n",
    "        \n",
    "    def play(self):\n",
    "        raise NotImplementedError()\n",
    "        \n",
    "class Soccer(Sports):\n",
    "    \n",
    "    def __init__(self, love_sport=True):\n",
    "        super().__init__(love_sport)\n",
    "    \n",
    "    def play(self):\n",
    "        print(f'Soccer is around 90 minutes')\n",
    "        \n",
    "class BasketBall(Sports):\n",
    "    \n",
    "    def __init__(self, love_sport=True):\n",
    "        super().__init__(love_sport)\n",
    "        \n",
    "    def play(self):\n",
    "        print('Basketball is played 5 against 5')\n"
   ]
  },
  {
   "cell_type": "code",
   "execution_count": 95,
   "id": "446089b2",
   "metadata": {
    "hidden": true
   },
   "outputs": [
    {
     "name": "stdout",
     "output_type": "stream",
     "text": [
      "Soccer is around 90 minutes\n"
     ]
    }
   ],
   "source": [
    "soccer_instance = Soccer(False)\n",
    "soccer_instance.play()"
   ]
  },
  {
   "cell_type": "code",
   "execution_count": null,
   "id": "68c09bd1",
   "metadata": {
    "hidden": true
   },
   "outputs": [],
   "source": []
  },
  {
   "cell_type": "code",
   "execution_count": 96,
   "id": "3a8c0408",
   "metadata": {
    "hidden": true
   },
   "outputs": [
    {
     "name": "stdout",
     "output_type": "stream",
     "text": [
      "Basketball is played 5 against 5\n"
     ]
    }
   ],
   "source": [
    "basketball_instance = BasketBall()\n",
    "basketball_instance.play()"
   ]
  },
  {
   "cell_type": "code",
   "execution_count": 97,
   "id": "6a645f83",
   "metadata": {
    "hidden": true
   },
   "outputs": [
    {
     "name": "stdout",
     "output_type": "stream",
     "text": [
      "False\n"
     ]
    }
   ],
   "source": [
    "soccer_instance.does_user_love_sport()"
   ]
  },
  {
   "cell_type": "code",
   "execution_count": 98,
   "id": "8fe9b93f",
   "metadata": {
    "hidden": true
   },
   "outputs": [
    {
     "name": "stdout",
     "output_type": "stream",
     "text": [
      "True\n"
     ]
    }
   ],
   "source": [
    "basketball_instance.does_user_love_sport()"
   ]
  },
  {
   "cell_type": "markdown",
   "id": "13e8f36c",
   "metadata": {
    "hidden": true
   },
   "source": [
    "## Intermediate difficulty"
   ]
  },
  {
   "cell_type": "markdown",
   "id": "4976fee8",
   "metadata": {
    "hidden": true
   },
   "source": [
    "You should develop a sports event management system that needs to handle different types of sports events, such as matches, tournaments, and training sessions. Each type of event has specific attributes and behaviors, but they all share common functionality, such as starting the event and displaying event details.\n",
    "\n",
    "Instructions:\n",
    "\n",
    "Define a base class called Event with the following methods:\n",
    "\n",
    "init function that takes:\n",
    "start_time\n",
    "display_details\n",
    "\n",
    "Create subclasses for different types of events, such as Match, Tournament, and TrainingSession, that inherit from the Event class. Each subclass should have event-specific attributes and behaviors:\n",
    "\n",
    "Match:\n",
    "Additional attribute: teams (list of team names)\n",
    "Additional method: set_winner(team_name)\n",
    "\n",
    "Tournament:\n",
    "Additional attribute: number_of_teams\n",
    "Additional method: generate_fixture()\n",
    "\n",
    "TrainingSession:\n",
    "Additional attribute: coach\n",
    "Additional method: set_location(location)\n",
    "Implement the methods for each subclass to perform the specific behaviors of that type of event.\n",
    "\n",
    "Create instances of each type of event and demonstrate polymorphism by calling the common methods (start and display_details) on each instance, showing that they behave differently based on the type of event."
   ]
  },
  {
   "cell_type": "code",
   "execution_count": null,
   "id": "7a678293",
   "metadata": {
    "hidden": true
   },
   "outputs": [],
   "source": []
  }
 ],
 "metadata": {
  "kernelspec": {
   "display_name": "Python 3 (ipykernel)",
   "language": "python",
   "name": "python3"
  },
  "language_info": {
   "codemirror_mode": {
    "name": "ipython",
    "version": 3
   },
   "file_extension": ".py",
   "mimetype": "text/x-python",
   "name": "python",
   "nbconvert_exporter": "python",
   "pygments_lexer": "ipython3",
   "version": "3.11.2"
  }
 },
 "nbformat": 4,
 "nbformat_minor": 5
}
