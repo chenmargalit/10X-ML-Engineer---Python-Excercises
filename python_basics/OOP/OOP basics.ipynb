{
 "cells": [
  {
   "cell_type": "markdown",
   "id": "57455479",
   "metadata": {},
   "source": [
    "# Class Methods"
   ]
  },
  {
   "cell_type": "markdown",
   "id": "3a793ad8",
   "metadata": {},
   "source": []
  },
  {
   "cell_type": "markdown",
   "id": "92eac31f",
   "metadata": {},
   "source": [
    "Write a class with class and instance attributes. Instantiate the class and show how you can only access the instantiate attribute and not the class attribute (using the class attribute should result in an error)"
   ]
  },
  {
   "cell_type": "code",
   "execution_count": 1,
   "id": "595aad23",
   "metadata": {},
   "outputs": [],
   "source": [
    "class A:\n",
    "    wopa = 4"
   ]
  },
  {
   "cell_type": "code",
   "execution_count": 2,
   "id": "08d2d905",
   "metadata": {},
   "outputs": [],
   "source": [
    "a = A()"
   ]
  },
  {
   "cell_type": "code",
   "execution_count": 3,
   "id": "32f4d6b9",
   "metadata": {},
   "outputs": [
    {
     "data": {
      "text/plain": [
       "4"
      ]
     },
     "execution_count": 3,
     "metadata": {},
     "output_type": "execute_result"
    }
   ],
   "source": [
    "a.wopa"
   ]
  },
  {
   "cell_type": "markdown",
   "id": "0390a984",
   "metadata": {},
   "source": [
    "Build 3 classes. Factory, Movie and Song. In the Factory class, use classmethod to create song or movie according to some parameter you recieve, either in init or in the method itself, your call"
   ]
  },
  {
   "cell_type": "code",
   "execution_count": 14,
   "id": "96d89c7e",
   "metadata": {},
   "outputs": [
    {
     "name": "stdout",
     "output_type": "stream",
     "text": [
      "Class method called with class attribute: Class Attribute\n"
     ]
    }
   ],
   "source": []
  },
  {
   "cell_type": "code",
   "execution_count": 17,
   "id": "17968460",
   "metadata": {},
   "outputs": [
    {
     "name": "stdout",
     "output_type": "stream",
     "text": [
      "Class Attribute\n"
     ]
    }
   ],
   "source": [
    "class Car:\n",
    "    class_attribute = \"Class Attribute\"\n",
    "\n",
    "    def __init__(self, make, model):\n",
    "        self.make = make\n",
    "        self.model = model\n",
    "\n",
    "    def get_class_attribute(self):\n",
    "        return self.class_attribute\n",
    "\n",
    "# Creating an instance of the Car class\n",
    "car = Car(\"Toyota\", \"Corolla\")\n",
    "\n",
    "# Accessing the class attribute using a regular method\n",
    "print(car.get_class_attribute())  # Output: Class Attribute\n"
   ]
  },
  {
   "cell_type": "code",
   "execution_count": null,
   "id": "f3cad582",
   "metadata": {},
   "outputs": [],
   "source": [
    "class Person:\n",
    "    def __init__(self, name, age):\n",
    "        self.name = name\n",
    "        self.age = age\n",
    "\n",
    "    @classmethod\n",
    "    def from_birth_year(cls, name, birth_year):\n",
    "        age = cls.calculate_age(birth_year)\n",
    "        return cls(name, age)"
   ]
  },
  {
   "cell_type": "code",
   "execution_count": null,
   "id": "2a4eba9c",
   "metadata": {},
   "outputs": [],
   "source": []
  },
  {
   "cell_type": "markdown",
   "id": "a2a914df",
   "metadata": {},
   "source": [
    "## Exercise 6\n"
   ]
  },
  {
   "cell_type": "markdown",
   "id": "1415719d",
   "metadata": {},
   "source": [
    "Create a movie theater handler class. In the theater you can have how many rooms you want, each should present a different movie, of a different genre, with different length etc. In this theater you can sell and buy tickets (as long as there are remaining tickets to be bought). \n",
    "\n",
    "Bonus: You can also buy a \"chance ticket\". A chance ticket is only offered when there are no more tickets left, it costs 50% of the price, and it works like that:\n",
    "You choose a number between 1 and 10. Every 10 seconds a random integer is being generated. If it's your number, you can enter. If it's not, you can't. You only get 5 turns to try."
   ]
  },
  {
   "cell_type": "code",
   "execution_count": null,
   "id": "5a940b09",
   "metadata": {},
   "outputs": [],
   "source": []
  }
 ],
 "metadata": {
  "kernelspec": {
   "display_name": "all_purpose_venv",
   "language": "python",
   "name": "all_purpose_venv"
  },
  "language_info": {
   "codemirror_mode": {
    "name": "ipython",
    "version": 3
   },
   "file_extension": ".py",
   "mimetype": "text/x-python",
   "name": "python",
   "nbconvert_exporter": "python",
   "pygments_lexer": "ipython3",
   "version": "3.11.2"
  }
 },
 "nbformat": 4,
 "nbformat_minor": 5
}
