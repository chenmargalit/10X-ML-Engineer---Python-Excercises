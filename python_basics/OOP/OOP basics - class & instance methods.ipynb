{
 "cells": [
  {
   "cell_type": "markdown",
   "id": "57455479",
   "metadata": {},
   "source": [
    "# Class Method"
   ]
  },
  {
   "cell_type": "markdown",
   "id": "92eac31f",
   "metadata": {},
   "source": [
    "Write a class with class and instance attributes. Instantiate the class and show how you can only access the instantiate attribute and not the class attribute (using the class attribute should result in an error)"
   ]
  },
  {
   "cell_type": "markdown",
   "id": "7693ed13",
   "metadata": {},
   "source": [
    "Build 3 classes. Factory, Movie and Song. In the Factory class, use classmethod to create song or movie according to some parameter you recieve, either in init or in the method itself, your call"
   ]
  },
  {
   "cell_type": "markdown",
   "id": "94f1bd4c",
   "metadata": {},
   "source": [
    "# Static Method"
   ]
  },
  {
   "cell_type": "markdown",
   "id": "bab31452",
   "metadata": {},
   "source": [
    "Create a calculator class with a few different methods. There should be at least one function that operates on the class's data (for example to complete a complicated calculation that is a combination of a few different methods) and one that is a static method that only operates on the data it gets."
   ]
  },
  {
   "cell_type": "markdown",
   "id": "1415719d",
   "metadata": {},
   "source": [
    "Create a movie theater handler class. In the theater you can have how many rooms you want, each should present a different movie, of a different genre, with different length etc. In this theater you can sell and buy tickets (as long as there are remaining tickets to be bought). \n",
    "\n",
    "Bonus: You can also buy a \"chance ticket\". A chance ticket is only offered when there are no more tickets left, it costs 50% of the price, and it works like that:\n",
    "You choose a number between 1 and 10. Every 10 seconds a random integer is being generated. If it's your number, you can enter. If it's not, you can't. You only get 5 turns to try."
   ]
  },
  {
   "cell_type": "code",
   "execution_count": null,
   "id": "e6170f75",
   "metadata": {},
   "outputs": [],
   "source": []
  }
 ],
 "metadata": {
  "kernelspec": {
   "display_name": "all_purpose_venv",
   "language": "python",
   "name": "all_purpose_venv"
  },
  "language_info": {
   "codemirror_mode": {
    "name": "ipython",
    "version": 3
   },
   "file_extension": ".py",
   "mimetype": "text/x-python",
   "name": "python",
   "nbconvert_exporter": "python",
   "pygments_lexer": "ipython3",
   "version": "3.11.2"
  }
 },
 "nbformat": 4,
 "nbformat_minor": 5
}
