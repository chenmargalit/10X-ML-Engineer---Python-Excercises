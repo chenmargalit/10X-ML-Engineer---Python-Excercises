{
 "cells": [
  {
   "cell_type": "markdown",
   "id": "57455479",
   "metadata": {},
   "source": [
    "# Class Method"
   ]
  },
  {
   "cell_type": "markdown",
   "id": "7693ed13",
   "metadata": {},
   "source": [
    "Build 3 classes. Factory, Movie and Song. In the Factory class, use classmethod to create song or movie according to some parameter you recieve, either in init or in the method itself, your call"
   ]
  },
  {
   "cell_type": "code",
   "execution_count": null,
   "id": "e2944afb",
   "metadata": {},
   "outputs": [],
   "source": [
    "class Factory:\n",
    "    \n",
    "    maximum_length = 5\n",
    "\n",
    "    @classmethod\n",
    "    def create_entity(cls, length):\n",
    "        if cls.maximum_length < 10:\n",
    "            return Song\n",
    "        else:\n",
    "            return Movie\n",
    "\n",
    "class Movie(Fan):\n",
    "    pass\n",
    "\n",
    "class Song(Fan):\n",
    "    pass\n",
    "\n",
    "soccer_fan_instance = Fan.create_fan('soccer')\n",
    "basketball_fan_instance = Fan.create_fan('basketball')"
   ]
  },
  {
   "cell_type": "code",
   "execution_count": null,
   "id": "0e4c581e",
   "metadata": {},
   "outputs": [],
   "source": [
    "class MediaFactory:\n",
    "    \n",
    "    @classmethod\n",
    "    def create_media(cls, type_, title, duration):\n",
    "        if type_ == \"movie\":\n",
    "            return Movie(title, duration)\n",
    "        elif type_ == \"song\":\n",
    "            return Song(title, duration)\n",
    "        else:\n",
    "            raise ValueError(\"Invalid media type\")\n",
    "\n",
    "class Movie:\n",
    "    def __init__(self, title, duration):\n",
    "        self.title = title\n",
    "        self.duration = duration\n",
    "\n",
    "    def __str__(self):\n",
    "        return f\"Movie: {self.title} ({self.duration} mins)\"\n",
    "\n",
    "class Song:\n",
    "    def __init__(self, title, duration):\n",
    "        self.title = title\n",
    "        self.duration = duration\n",
    "\n",
    "    def __str__(self):\n",
    "        return f\"Song: {self.title} ({self.duration} mins)\"\n",
    "\n",
    "media1 = MediaFactory.create_media(\"movie\", \"The Matrix\", 136)\n",
    "media2 = MediaFactory.create_media(\"song\", \"Bohemian Rhapsody\", 354)\n",
    "\n",
    "print(media1)  \n",
    "print(media2)\n"
   ]
  },
  {
   "cell_type": "code",
   "execution_count": null,
   "id": "dfca374c",
   "metadata": {},
   "outputs": [],
   "source": []
  },
  {
   "cell_type": "code",
   "execution_count": 69,
   "id": "82c99cc5",
   "metadata": {},
   "outputs": [],
   "source": [
    "class Player:\n",
    "    def __init__(self, name, position):\n",
    "        self.name = name\n",
    "        self.position = position\n",
    "\n",
    "    @classmethod\n",
    "    def create_striker(cls, name):\n",
    "        return cls(name, \"Striker\")\n",
    "\n",
    "    @classmethod\n",
    "    def create_midfielder(cls, name):\n",
    "        return cls(name, \"Midfielder\")\n",
    "\n",
    "striker = Player.create_striker(\"Ronaldo\")\n",
    "midfielder = Player.create_midfielder(\"Modric\")\n"
   ]
  },
  {
   "cell_type": "code",
   "execution_count": 71,
   "id": "56b058a2",
   "metadata": {},
   "outputs": [
    {
     "data": {
      "text/plain": [
       "'Ronaldo'"
      ]
     },
     "execution_count": 71,
     "metadata": {},
     "output_type": "execute_result"
    }
   ],
   "source": [
    "striker.name"
   ]
  },
  {
   "cell_type": "markdown",
   "id": "1635d4fa",
   "metadata": {},
   "source": [
    "Write a class with class and instance attributes. Instantiate the class and show how you can only access the instantiate attribute and not the class attribute (using the class attribute should result in an error)"
   ]
  },
  {
   "cell_type": "code",
   "execution_count": 54,
   "id": "23f9e2d1",
   "metadata": {},
   "outputs": [],
   "source": [
    "class Sport:\n",
    "    \n",
    "    description = 'basic sport class'\n",
    "    \n",
    "    def __init__(self):\n",
    "        pass\n",
    "    \n",
    "    def test(self):\n",
    "        print(Sport.description)\n",
    "        "
   ]
  },
  {
   "cell_type": "code",
   "execution_count": 55,
   "id": "8ae00d97",
   "metadata": {},
   "outputs": [],
   "source": [
    "sport_1 = Sport()\n",
    "sport_2 = Sport()"
   ]
  },
  {
   "cell_type": "code",
   "execution_count": 56,
   "id": "c37f3fad",
   "metadata": {},
   "outputs": [
    {
     "data": {
      "text/plain": [
       "'basic sport class'"
      ]
     },
     "execution_count": 56,
     "metadata": {},
     "output_type": "execute_result"
    }
   ],
   "source": [
    "sport_1.description"
   ]
  },
  {
   "cell_type": "code",
   "execution_count": 57,
   "id": "a0377a4f",
   "metadata": {},
   "outputs": [
    {
     "data": {
      "text/plain": [
       "'basic sport class'"
      ]
     },
     "execution_count": 57,
     "metadata": {},
     "output_type": "execute_result"
    }
   ],
   "source": [
    "sport_2.description"
   ]
  },
  {
   "cell_type": "code",
   "execution_count": 62,
   "id": "c351ece6",
   "metadata": {},
   "outputs": [
    {
     "data": {
      "text/plain": [
       "'sport 1 changed this'"
      ]
     },
     "execution_count": 62,
     "metadata": {},
     "output_type": "execute_result"
    }
   ],
   "source": [
    "sport_1.description = 'sport 1 changed this'\n",
    "sport_1.description"
   ]
  },
  {
   "cell_type": "code",
   "execution_count": 65,
   "id": "06cb61b6",
   "metadata": {},
   "outputs": [
    {
     "data": {
      "text/plain": [
       "'basic sport class'"
      ]
     },
     "execution_count": 65,
     "metadata": {},
     "output_type": "execute_result"
    }
   ],
   "source": [
    "sport_2.description"
   ]
  },
  {
   "cell_type": "code",
   "execution_count": 91,
   "id": "8a75461f",
   "metadata": {},
   "outputs": [],
   "source": [
    "Sport.description = 'Sport changed this back'"
   ]
  },
  {
   "cell_type": "code",
   "execution_count": 92,
   "id": "9b09d82c",
   "metadata": {},
   "outputs": [
    {
     "data": {
      "text/plain": [
       "'sport 1 changed this'"
      ]
     },
     "execution_count": 92,
     "metadata": {},
     "output_type": "execute_result"
    }
   ],
   "source": [
    "sport_1.description"
   ]
  },
  {
   "cell_type": "code",
   "execution_count": 93,
   "id": "ec1ad7b1",
   "metadata": {},
   "outputs": [
    {
     "data": {
      "text/plain": [
       "'Sport changed this back'"
      ]
     },
     "execution_count": 93,
     "metadata": {},
     "output_type": "execute_result"
    }
   ],
   "source": [
    "sport_2.description"
   ]
  },
  {
   "cell_type": "code",
   "execution_count": null,
   "id": "a2ed579d",
   "metadata": {},
   "outputs": [],
   "source": []
  },
  {
   "cell_type": "markdown",
   "id": "900430ab",
   "metadata": {},
   "source": [
    "## Intermediate difficulty"
   ]
  },
  {
   "cell_type": "markdown",
   "id": "b56c31ed",
   "metadata": {},
   "source": [
    "1. Create a Python class called Team that represents a sports team. The class should have the following attributes:\n",
    "\n",
    "name: Name of the team\n",
    "points: Total points earned by the team in the league\n",
    "goals_for: Total goals scored by the team\n",
    "goals_against: Total goals conceded by the team\n",
    "The class should also have the following methods:\n",
    "\n",
    "__init__(self, name, points=0, goals_for=0, goals_against=0): Constructor to initialize the team with its name and optional initial values for points, goals for, and goals against.\n",
    "record_result(self, goals_for, goals_against): Method to record a match result for the team. It should update the team's points, goals for, and goals against based on the match result.\n",
    "__str__(self): Method to return a string representation of the team, including its name, points, goals for, and goals against.\n",
    "\n",
    "2. Next, create a class called League that represents a sports league. The class should have the following attributes:\n",
    "\n",
    "name: Name of the league\n",
    "teams: A list of Team instances participating in the league\n",
    "The class should also have the following methods:\n",
    "\n",
    "__init__(self, name): Constructor to initialize the league with its name and an empty list of teams.\n",
    "add_team(self, team): Method to add a team to the league.\n",
    "remove_team(self, team_name): Method to remove a team from the league based on the team's name.\n",
    "get_standings(self): Class method that returns the current standings of the teams in the league, sorted by points (descending), goals difference (goals for - goals against, descending), and then goals for (descending).\n"
   ]
  },
  {
   "cell_type": "markdown",
   "id": "94f1bd4c",
   "metadata": {},
   "source": [
    "# Static Method"
   ]
  },
  {
   "cell_type": "markdown",
   "id": "bab31452",
   "metadata": {},
   "source": [
    "Create a calculator class with a few different methods. There should be at least one function that operates on the class's data (for example to complete a complicated calculation that is a combination of a few different methods) and one that is a static method that only operates on the data it gets."
   ]
  },
  {
   "cell_type": "markdown",
   "id": "6c148358",
   "metadata": {},
   "source": [
    "## Solution"
   ]
  },
  {
   "cell_type": "code",
   "execution_count": 94,
   "id": "b0d5526c",
   "metadata": {},
   "outputs": [],
   "source": [
    "class Calculator:\n",
    "    \n",
    "    def __init__(self):\n",
    "        self.current_calculation = 0\n",
    "        \n",
    "    def store_number(self, num):\n",
    "        self.current_calculation = self.current_calculation + num\n",
    "    \n",
    "    \n",
    "    def add(self, x, y):\n",
    "        \n",
    "        result = x + y\n",
    "        self.store_number(result)\n",
    "        return self.current_calculation\n",
    "\n",
    "    def subtract(self, x, y):\n",
    "        \n",
    "        result = x - y\n",
    "        self.store_number(result)\n",
    "        return self.current_calculation\n",
    "\n",
    "\n",
    "    def multiply(self, x, y):\n",
    "        \n",
    "        result = x * y\n",
    "        self.store_number(result)\n",
    "        return self.current_calculation\n",
    "\n",
    "\n",
    "    def divide(self, x, y):\n",
    "        \n",
    "        if y == 0:\n",
    "            raise ValueError(\"Divison by 0 is not possible\")\n",
    "            \n",
    "        result = x / y\n",
    "        self.store_number(result)\n",
    "        return self.current_calculation\n",
    "\n",
    "    \n",
    "    @staticmethod\n",
    "    def add_5(num):\n",
    "        return num + 5\n",
    "        "
   ]
  },
  {
   "cell_type": "code",
   "execution_count": null,
   "id": "ca2d827b",
   "metadata": {},
   "outputs": [],
   "source": []
  },
  {
   "cell_type": "code",
   "execution_count": 95,
   "id": "cfad495e",
   "metadata": {},
   "outputs": [],
   "source": [
    "c = Calculator()"
   ]
  },
  {
   "cell_type": "code",
   "execution_count": 96,
   "id": "cf8c2076",
   "metadata": {},
   "outputs": [
    {
     "data": {
      "text/plain": [
       "7"
      ]
     },
     "execution_count": 96,
     "metadata": {},
     "output_type": "execute_result"
    }
   ],
   "source": [
    "c.add(3,4)"
   ]
  },
  {
   "cell_type": "code",
   "execution_count": 97,
   "id": "3f2f45d8",
   "metadata": {},
   "outputs": [
    {
     "data": {
      "text/plain": [
       "12"
      ]
     },
     "execution_count": 97,
     "metadata": {},
     "output_type": "execute_result"
    }
   ],
   "source": [
    "c.add(2,3)"
   ]
  },
  {
   "cell_type": "code",
   "execution_count": 98,
   "id": "60adf0c5",
   "metadata": {},
   "outputs": [
    {
     "data": {
      "text/plain": [
       "18"
      ]
     },
     "execution_count": 98,
     "metadata": {},
     "output_type": "execute_result"
    }
   ],
   "source": [
    "c.multiply(2,3)"
   ]
  },
  {
   "cell_type": "code",
   "execution_count": 99,
   "id": "82a83669",
   "metadata": {},
   "outputs": [
    {
     "data": {
      "text/plain": [
       "8"
      ]
     },
     "execution_count": 99,
     "metadata": {},
     "output_type": "execute_result"
    }
   ],
   "source": [
    "Calculator.add_5(3)"
   ]
  },
  {
   "cell_type": "code",
   "execution_count": null,
   "id": "bde0751c",
   "metadata": {},
   "outputs": [],
   "source": []
  },
  {
   "cell_type": "markdown",
   "id": "f7c472fb",
   "metadata": {},
   "source": [
    "## Intermediate difficulty"
   ]
  },
  {
   "cell_type": "markdown",
   "id": "1415719d",
   "metadata": {},
   "source": [
    "Create a movie theater handler class. In the theater you can have how many rooms you want, each should present a different movie, of a different genre, with different length etc. In this theater you can sell and buy tickets (as long as there are remaining tickets to be bought). \n",
    "\n",
    "Bonus: You can also buy a \"chance ticket\". A chance ticket is only offered when there are no more tickets left, it costs 50% of the price, and it works like that:\n",
    "You choose a number between 1 and 10. Every 10 seconds a random integer is being generated. If it's your number, you can enter. If it's not, you can't. You only get 5 turns to try."
   ]
  },
  {
   "cell_type": "markdown",
   "id": "95b0b31d",
   "metadata": {},
   "source": [
    "1. Create a Python class called SportsStatistics that provides statistical analysis for sports teams. The class should have the following features:\n",
    "\n",
    "2. A static method calculate_goal_average(goals_for, goals_against) that calculates the goal average for a team based on the total goals scored (goals_for) and the total goals conceded (goals_against). The goal average is calculated as (goals_for - goals_against) / total_games_played, where total_games_played is a class variable representing the total number of games played by the team.\n",
    "\n",
    "3. A static method calculate_win_percentage(wins, total_games_played) that calculates the win percentage for a team based on the number of wins (wins) and the total number of games played (total_games_played).\n",
    "\n",
    "4. A static method calculate_points_per_game(points, total_games_played) that calculates the average points per game for a team based on the total points earned (points) and the total number of games played (total_games_played).\n",
    "\n",
    "(Optional) Add additional statistical methods as needed for different sports or analysis requirements."
   ]
  },
  {
   "cell_type": "code",
   "execution_count": null,
   "id": "8824f0d6",
   "metadata": {},
   "outputs": [],
   "source": []
  }
 ],
 "metadata": {
  "kernelspec": {
   "display_name": "all_purpose_venv",
   "language": "python",
   "name": "all_purpose_venv"
  },
  "language_info": {
   "codemirror_mode": {
    "name": "ipython",
    "version": 3
   },
   "file_extension": ".py",
   "mimetype": "text/x-python",
   "name": "python",
   "nbconvert_exporter": "python",
   "pygments_lexer": "ipython3",
   "version": "3.11.2"
  }
 },
 "nbformat": 4,
 "nbformat_minor": 5
}
