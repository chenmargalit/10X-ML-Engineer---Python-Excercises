{
 "cells": [
  {
   "cell_type": "markdown",
   "id": "57455479",
   "metadata": {},
   "source": [
    "# Class Method"
   ]
  },
  {
   "cell_type": "markdown",
   "id": "92eac31f",
   "metadata": {},
   "source": [
    "Write a class with class and instance attributes. Instantiate the class and show how you can only access the instantiate attribute and not the class attribute (using the class attribute should result in an error)"
   ]
  },
  {
   "cell_type": "markdown",
   "id": "7693ed13",
   "metadata": {},
   "source": [
    "Build 3 classes. Factory, Movie and Song. In the Factory class, use classmethod to create song or movie according to some parameter you recieve, either in init or in the method itself, your call"
   ]
  },
  {
   "cell_type": "markdown",
   "id": "900430ab",
   "metadata": {},
   "source": [
    "## Intermediate difficulty"
   ]
  },
  {
   "cell_type": "markdown",
   "id": "b56c31ed",
   "metadata": {},
   "source": [
    "1. Create a Python class called Team that represents a sports team. The class should have the following attributes:\n",
    "\n",
    "name: Name of the team\n",
    "points: Total points earned by the team in the league\n",
    "goals_for: Total goals scored by the team\n",
    "goals_against: Total goals conceded by the team\n",
    "The class should also have the following methods:\n",
    "\n",
    "__init__(self, name, points=0, goals_for=0, goals_against=0): Constructor to initialize the team with its name and optional initial values for points, goals for, and goals against.\n",
    "record_result(self, goals_for, goals_against): Method to record a match result for the team. It should update the team's points, goals for, and goals against based on the match result.\n",
    "__str__(self): Method to return a string representation of the team, including its name, points, goals for, and goals against.\n",
    "\n",
    "2. Next, create a class called League that represents a sports league. The class should have the following attributes:\n",
    "\n",
    "name: Name of the league\n",
    "teams: A list of Team instances participating in the league\n",
    "The class should also have the following methods:\n",
    "\n",
    "__init__(self, name): Constructor to initialize the league with its name and an empty list of teams.\n",
    "add_team(self, team): Method to add a team to the league.\n",
    "remove_team(self, team_name): Method to remove a team from the league based on the team's name.\n",
    "get_standings(self): Class method that returns the current standings of the teams in the league, sorted by points (descending), goals difference (goals for - goals against, descending), and then goals for (descending).\n"
   ]
  },
  {
   "cell_type": "markdown",
   "id": "94f1bd4c",
   "metadata": {},
   "source": [
    "# Static Method"
   ]
  },
  {
   "cell_type": "markdown",
   "id": "bab31452",
   "metadata": {},
   "source": [
    "Create a calculator class with a few different methods. There should be at least one function that operates on the class's data (for example to complete a complicated calculation that is a combination of a few different methods) and one that is a static method that only operates on the data it gets."
   ]
  },
  {
   "cell_type": "markdown",
   "id": "1415719d",
   "metadata": {},
   "source": [
    "Create a movie theater handler class. In the theater you can have how many rooms you want, each should present a different movie, of a different genre, with different length etc. In this theater you can sell and buy tickets (as long as there are remaining tickets to be bought). \n",
    "\n",
    "Bonus: You can also buy a \"chance ticket\". A chance ticket is only offered when there are no more tickets left, it costs 50% of the price, and it works like that:\n",
    "You choose a number between 1 and 10. Every 10 seconds a random integer is being generated. If it's your number, you can enter. If it's not, you can't. You only get 5 turns to try."
   ]
  },
  {
   "cell_type": "markdown",
   "id": "95b0b31d",
   "metadata": {},
   "source": [
    "1. Create a Python class called SportsStatistics that provides statistical analysis for sports teams. The class should have the following features:\n",
    "\n",
    "2. A static method calculate_goal_average(goals_for, goals_against) that calculates the goal average for a team based on the total goals scored (goals_for) and the total goals conceded (goals_against). The goal average is calculated as (goals_for - goals_against) / total_games_played, where total_games_played is a class variable representing the total number of games played by the team.\n",
    "\n",
    "3. A static method calculate_win_percentage(wins, total_games_played) that calculates the win percentage for a team based on the number of wins (wins) and the total number of games played (total_games_played).\n",
    "\n",
    "4. A static method calculate_points_per_game(points, total_games_played) that calculates the average points per game for a team based on the total points earned (points) and the total number of games played (total_games_played).\n",
    "\n",
    "(Optional) Add additional statistical methods as needed for different sports or analysis requirements."
   ]
  },
  {
   "cell_type": "code",
   "execution_count": null,
   "id": "8824f0d6",
   "metadata": {},
   "outputs": [],
   "source": []
  }
 ],
 "metadata": {
  "kernelspec": {
   "display_name": "all_purpose_venv",
   "language": "python",
   "name": "all_purpose_venv"
  },
  "language_info": {
   "codemirror_mode": {
    "name": "ipython",
    "version": 3
   },
   "file_extension": ".py",
   "mimetype": "text/x-python",
   "name": "python",
   "nbconvert_exporter": "python",
   "pygments_lexer": "ipython3",
   "version": "3.11.2"
  }
 },
 "nbformat": 4,
 "nbformat_minor": 5
}
