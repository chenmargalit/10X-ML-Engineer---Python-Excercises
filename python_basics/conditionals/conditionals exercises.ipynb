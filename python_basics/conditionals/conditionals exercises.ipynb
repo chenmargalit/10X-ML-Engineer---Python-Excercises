{
 "cells": [
  {
   "cell_type": "markdown",
   "id": "44f7addc",
   "metadata": {},
   "source": [
    "# Exercise 1"
   ]
  },
  {
   "cell_type": "markdown",
   "id": "d1183b7f",
   "metadata": {},
   "source": [
    "Tennis Scoring\n",
    "In tennis, the scoring system is a bit unique. Write a Python program that takes the current score as input and prints the score after a point is won, following these rules:\n",
    "\n",
    "If both players have less than 40 points, the score should be updated as 15, 30, 40, or \"Advantage\" based on the current score.\n",
    "If a player has 40 points and scores again, they win the game."
   ]
  },
  {
   "cell_type": "markdown",
   "id": "74758c7d",
   "metadata": {},
   "source": [
    "# Exercise 2"
   ]
  },
  {
   "cell_type": "markdown",
   "id": "cf6cc4e6",
   "metadata": {},
   "source": [
    "Exercise 2: Football Match Outcome\n",
    "Write a Python program that takes the number of goals scored by two football teams as input and prints the outcome of the match (win, lose, or draw) based on the scores."
   ]
  },
  {
   "cell_type": "markdown",
   "id": "3bdc2f55",
   "metadata": {},
   "source": [
    "# Exercise 3"
   ]
  },
  {
   "cell_type": "markdown",
   "id": "5b6db6ab",
   "metadata": {},
   "source": [
    "Exercise 3: Basketball Shot Selection\n",
    "In basketball, a shot taken from inside the three-point line scores 2 points, and a shot taken from outside scores 3 points. Write a Python program that takes the distance of the shot as input and prints the points scored based on the shot selection."
   ]
  },
  {
   "cell_type": "markdown",
   "id": "e1446ffd",
   "metadata": {},
   "source": [
    "# Exercise 4"
   ]
  },
  {
   "cell_type": "markdown",
   "id": "6f0af0d1",
   "metadata": {},
   "source": [
    "Exercise 4: Swimming Stroke Classifier\n",
    "Write a Python program that takes the name of a swimming stroke as input and prints whether it is a freestyle, backstroke, breaststroke, or butterfly stroke."
   ]
  }
 ],
 "metadata": {
  "kernelspec": {
   "display_name": "Python 3 (ipykernel)",
   "language": "python",
   "name": "python3"
  },
  "language_info": {
   "codemirror_mode": {
    "name": "ipython",
    "version": 3
   },
   "file_extension": ".py",
   "mimetype": "text/x-python",
   "name": "python",
   "nbconvert_exporter": "python",
   "pygments_lexer": "ipython3",
   "version": "3.11.2"
  }
 },
 "nbformat": 4,
 "nbformat_minor": 5
}
