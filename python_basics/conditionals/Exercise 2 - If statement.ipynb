{
 "cells": [
  {
   "cell_type": "markdown",
   "id": "9812911b",
   "metadata": {},
   "source": [
    "# The If Statement"
   ]
  },
  {
   "cell_type": "markdown",
   "id": "e73ea4ae",
   "metadata": {},
   "source": [
    "The if statement is extremely important in Python (and any equivalent programming language). It let's you write conditional code which as you can probably imagine, helps a lot"
   ]
  },
  {
   "cell_type": "markdown",
   "id": "642c7517",
   "metadata": {},
   "source": [
    "## Exercise 1"
   ]
  },
  {
   "cell_type": "markdown",
   "id": "2dfa050e",
   "metadata": {},
   "source": [
    "create a variable that holds a number. If that number is above some threshold you decide on, print: \"above\", if its below, print: \"below\""
   ]
  },
  {
   "cell_type": "code",
   "execution_count": 10,
   "id": "b46e656d",
   "metadata": {},
   "outputs": [
    {
     "name": "stdout",
     "output_type": "stream",
     "text": [
      "below\n"
     ]
    }
   ],
   "source": [
    "some_number = 0\n",
    "threshold = 0\n",
    "\n",
    "if some_number > threshold:\n",
    "    print('above')\n",
    "else:\n",
    "    print('below')"
   ]
  },
  {
   "cell_type": "markdown",
   "id": "b8648691",
   "metadata": {},
   "source": [
    "## Exercise 2"
   ]
  },
  {
   "cell_type": "markdown",
   "id": "d9c479a2",
   "metadata": {},
   "source": [
    "Create a prompt input (like the first exercise in the data structures notebook) and store a string in it. If the length of the string is bigger than 10, print \"bigger than 10\". If its between 5 and 8, print \"in between\" and if its smaller than 5, print \"very small\""
   ]
  },
  {
   "cell_type": "markdown",
   "id": "6f892f13",
   "metadata": {},
   "source": [
    "## Exercise 3"
   ]
  },
  {
   "cell_type": "markdown",
   "id": "f5303a62",
   "metadata": {},
   "source": [
    "Create 3 variables. a,b, and c. Print statements according to the following order:\n",
    "1. if a is equal to b but not to c, print 1.\n",
    "2. If a is equal to c but not to b, print 2.\n",
    "3. If a is equal to b or c, print 3.\n",
    "4. If a is equal to both a and b, print 4.\n",
    "\n",
    "Test your code by running it on a couple of different a, b and c."
   ]
  },
  {
   "cell_type": "code",
   "execution_count": 6,
   "id": "0e55731d",
   "metadata": {},
   "outputs": [],
   "source": [
    "a = 2\n",
    "b = 2\n",
    "c = 2"
   ]
  },
  {
   "cell_type": "code",
   "execution_count": 11,
   "id": "1b0a28cc",
   "metadata": {},
   "outputs": [
    {
     "name": "stdout",
     "output_type": "stream",
     "text": [
      "4\n"
     ]
    }
   ],
   "source": [
    "if a == b and a != c:\n",
    "    print(1)\n",
    "elif a == c and a != b:\n",
    "    print(2)\n",
    "elif a == b and a !=c or a == c and a !=b:\n",
    "    print(3)\n",
    "elif a == b and a == c:\n",
    "    print(4)"
   ]
  },
  {
   "cell_type": "code",
   "execution_count": 15,
   "id": "89175668",
   "metadata": {},
   "outputs": [
    {
     "name": "stdout",
     "output_type": "stream",
     "text": [
      "default\n"
     ]
    }
   ],
   "source": [
    "param = 'test1'\n",
    "\n",
    "\n",
    "match param:\n",
    "    \n",
    "    case 'test':\n",
    "        print(1)\n",
    "    case 'something else':\n",
    "        print(2)\n",
    "    case _:\n",
    "        print('default')\n"
   ]
  },
  {
   "cell_type": "code",
   "execution_count": null,
   "id": "b5ff6b89",
   "metadata": {},
   "outputs": [],
   "source": []
  },
  {
   "cell_type": "markdown",
   "id": "a85599f4",
   "metadata": {},
   "source": [
    "## Exercise 4"
   ]
  },
  {
   "cell_type": "markdown",
   "id": "eaf2aaea",
   "metadata": {},
   "source": [
    "1. Create variables for username and password\n",
    "2. prompt the user for inputs that will be stored as something like user_username and user_password\n",
    "\n",
    "If both the username and password generated from the prompts are identical to the ones you stated before, print: authentication complete. Otherwise, print which one is not correct (e.g. username not correct, password not correct, or both are not correct).\n",
    "\n",
    "*Please note, in a real scenario you usually wouldnt want to give such detailed information about what went wrong."
   ]
  },
  {
   "cell_type": "code",
   "execution_count": 6,
   "id": "fd81a676",
   "metadata": {},
   "outputs": [],
   "source": [
    "USER_NAME = 'Chen'\n",
    "PASSWORD = 'secret'\n",
    "AUTH_SUCCESS_MESSAGE = 'authentication complete'"
   ]
  },
  {
   "cell_type": "code",
   "execution_count": 29,
   "id": "6c72c77c",
   "metadata": {},
   "outputs": [
    {
     "name": "stdout",
     "output_type": "stream",
     "text": [
      "username?a\n"
     ]
    }
   ],
   "source": [
    "user_input_username = input('username?')"
   ]
  },
  {
   "cell_type": "code",
   "execution_count": 30,
   "id": "566dd5a1",
   "metadata": {},
   "outputs": [
    {
     "name": "stdout",
     "output_type": "stream",
     "text": [
      "password?A\n"
     ]
    }
   ],
   "source": [
    "user_input_password = input('password?')"
   ]
  },
  {
   "cell_type": "code",
   "execution_count": 31,
   "id": "1e7b2913",
   "metadata": {},
   "outputs": [
    {
     "name": "stdout",
     "output_type": "stream",
     "text": [
      "both incorrect\n"
     ]
    }
   ],
   "source": [
    "if user_input_username == USER_NAME and user_input_password == PASSWORD:\n",
    "    print(AUTH_SUCCESS_MESSAGE)\n",
    "elif user_input_username == USER_NAME and user_input_password != PASSWORD:\n",
    "    print('password is incorrect')\n",
    "elif user_input_username != USER_NAME and user_input_password == PASSWORD:\n",
    "    print('username is incorrect')\n",
    "elif user_input_password != PASSWORD and user_input_username != USER_NAME:\n",
    "    print('both incorrect')"
   ]
  },
  {
   "cell_type": "code",
   "execution_count": null,
   "id": "486503ba",
   "metadata": {},
   "outputs": [],
   "source": []
  }
 ],
 "metadata": {
  "kernelspec": {
   "display_name": "all_purpose_venv",
   "language": "python",
   "name": "all_purpose_venv"
  },
  "language_info": {
   "codemirror_mode": {
    "name": "ipython",
    "version": 3
   },
   "file_extension": ".py",
   "mimetype": "text/x-python",
   "name": "python",
   "nbconvert_exporter": "python",
   "pygments_lexer": "ipython3",
   "version": "3.11.2"
  }
 },
 "nbformat": 4,
 "nbformat_minor": 5
}
