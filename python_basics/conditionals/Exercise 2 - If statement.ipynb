{
 "cells": [
  {
   "cell_type": "markdown",
   "id": "9812911b",
   "metadata": {},
   "source": [
    "# The If Statement"
   ]
  },
  {
   "cell_type": "markdown",
   "id": "e73ea4ae",
   "metadata": {},
   "source": [
    "The if statement is extremely important in Python (and any equivalent programming language). It let's you write conditional code which as you can probably imagine, helps a lot"
   ]
  },
  {
   "cell_type": "markdown",
   "id": "642c7517",
   "metadata": {},
   "source": [
    "## Exercise 1"
   ]
  },
  {
   "cell_type": "markdown",
   "id": "2dfa050e",
   "metadata": {},
   "source": [
    "create a variable that holds a number. If that number is above some threshold you decide on, print: \"above\", if its below, print: \"below\""
   ]
  },
  {
   "cell_type": "markdown",
   "id": "b8648691",
   "metadata": {},
   "source": [
    "## Exercise 2"
   ]
  },
  {
   "cell_type": "markdown",
   "id": "d9c479a2",
   "metadata": {},
   "source": [
    "Create a prompt input (like the first exercise in the data structures notebook) and store a string in it. If the length of the string is bigger than 10, print \"bigger than 10\". If its between 5 and 8, print \"in between\" and if its smaller than 5, print \"very small\""
   ]
  },
  {
   "cell_type": "markdown",
   "id": "6f892f13",
   "metadata": {},
   "source": [
    "## Exercise 3"
   ]
  },
  {
   "cell_type": "markdown",
   "id": "f5303a62",
   "metadata": {},
   "source": [
    "Create 3 variables. a,b, and c. Print statements according to the following order:\n",
    "1. if a is equal to b but not to c, print 1.\n",
    "2. If a is equal to c but not to b, print 2.\n",
    "3. If a is equal to a or b, print 3.\n",
    "4. If a is equal to both a and b, print 4.\n",
    "\n",
    "Test your code by running it on a couple of different a, b and c."
   ]
  },
  {
   "cell_type": "markdown",
   "id": "a85599f4",
   "metadata": {},
   "source": [
    "## Exercise 4"
   ]
  },
  {
   "cell_type": "markdown",
   "id": "eaf2aaea",
   "metadata": {},
   "source": [
    "1. Create variables for username and password\n",
    "2. prompt the user for inputs that will be stored as something like user_username and user_password\n",
    "\n",
    "If both the username and password generated from the prompts are identical to the ones you stated before, print: authentication complete. Otherwise, print which one is not correct (e.g. username not correct, password not correct, or both are not correct).\n",
    "\n",
    "*Please note, in a real scenario you usually wouldnt want to give such detailed information about what went wrong."
   ]
  },
  {
   "cell_type": "code",
   "execution_count": null,
   "id": "1195ea4f",
   "metadata": {},
   "outputs": [],
   "source": []
  },
  {
   "cell_type": "code",
   "execution_count": null,
   "id": "168e57eb",
   "metadata": {},
   "outputs": [],
   "source": []
  },
  {
   "cell_type": "code",
   "execution_count": null,
   "id": "3c6042c2",
   "metadata": {},
   "outputs": [],
   "source": []
  },
  {
   "cell_type": "code",
   "execution_count": null,
   "id": "96a8acd8",
   "metadata": {},
   "outputs": [],
   "source": []
  },
  {
   "cell_type": "code",
   "execution_count": null,
   "id": "2c201601",
   "metadata": {},
   "outputs": [],
   "source": []
  }
 ],
 "metadata": {
  "kernelspec": {
   "display_name": "Python 3 (ipykernel)",
   "language": "python",
   "name": "python3"
  },
  "language_info": {
   "codemirror_mode": {
    "name": "ipython",
    "version": 3
   },
   "file_extension": ".py",
   "mimetype": "text/x-python",
   "name": "python",
   "nbconvert_exporter": "python",
   "pygments_lexer": "ipython3",
   "version": "3.11.2"
  }
 },
 "nbformat": 4,
 "nbformat_minor": 5
}
