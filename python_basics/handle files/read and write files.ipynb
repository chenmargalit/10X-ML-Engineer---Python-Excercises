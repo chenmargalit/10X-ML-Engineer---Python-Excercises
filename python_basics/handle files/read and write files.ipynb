{
 "cells": [
  {
   "cell_type": "markdown",
   "id": "325b52c9",
   "metadata": {},
   "source": [
    "# Files"
   ]
  },
  {
   "cell_type": "markdown",
   "id": "d1e687c5",
   "metadata": {},
   "source": [
    "## Creating a file"
   ]
  },
  {
   "cell_type": "markdown",
   "id": "de7045eb",
   "metadata": {},
   "source": [
    "## TXT file"
   ]
  },
  {
   "cell_type": "markdown",
   "id": "1e29f64d",
   "metadata": {},
   "source": [
    "After you run this, you will suddenly see a new file in your filesystem called example.txt"
   ]
  },
  {
   "cell_type": "code",
   "execution_count": 1,
   "id": "65ce9d9e",
   "metadata": {},
   "outputs": [
    {
     "name": "stdout",
     "output_type": "stream",
     "text": [
      "Content has been written to example.txt\n"
     ]
    }
   ],
   "source": [
    "# Content to write to the file\n",
    "content = \"Hello, this is a sample text I'm writing just as an example.\"\n",
    "\n",
    "file_path = \"example.txt\"\n",
    "\n",
    "# Open the file in write mode ('w')\n",
    "with open(file_path, 'w') as file:\n",
    "    file.write(content)\n",
    "\n",
    "print(f\"Content has been written to {file_path}\")"
   ]
  },
  {
   "cell_type": "markdown",
   "id": "3e95a153",
   "metadata": {},
   "source": [
    "if you run this !ls command you see a list of the files in the current working directory. Among them will be example.txt"
   ]
  },
  {
   "cell_type": "code",
   "execution_count": 2,
   "id": "f66994fd",
   "metadata": {
    "scrolled": true
   },
   "outputs": [
    {
     "name": "stdout",
     "output_type": "stream",
     "text": [
      "Data Structures.ipynb           README.md\r\n",
      "Exercise 2 - If statement.ipynb \u001b[1m\u001b[36m__pycache__\u001b[m\u001b[m\r\n",
      "Exercise1 - data types.ipynb    example.txt\r\n",
      "Exercise3 - loops.ipynb         imports.py\r\n",
      "Imports demonstration.ipynb     read and write files.ipynb\r\n"
     ]
    }
   ],
   "source": [
    "!ls"
   ]
  },
  {
   "cell_type": "markdown",
   "id": "8f9dd9df",
   "metadata": {},
   "source": [
    "## Read a txt file"
   ]
  },
  {
   "cell_type": "markdown",
   "id": "7c64988e",
   "metadata": {},
   "source": [
    "As you see, its very simple to read the file."
   ]
  },
  {
   "cell_type": "code",
   "execution_count": 3,
   "id": "611a7f0b",
   "metadata": {},
   "outputs": [
    {
     "name": "stdout",
     "output_type": "stream",
     "text": [
      "Content read from the file:\n",
      "Hello, this is a sample text I'm writing just as an example.\n"
     ]
    }
   ],
   "source": [
    "file_path = \"example.txt\"\n",
    "\n",
    "with open(file_path, 'r') as file:\n",
    "    file_content = file.read()\n",
    "\n",
    "print(\"Content read from the file:\")\n",
    "print(file_content)"
   ]
  },
  {
   "cell_type": "markdown",
   "id": "6d22b587",
   "metadata": {},
   "source": [
    "In both cases, read and write, we open the file in some mode, could be 'r' for writing or 'w' for writing."
   ]
  },
  {
   "cell_type": "markdown",
   "id": "0455e40c",
   "metadata": {},
   "source": [
    "## With keyword"
   ]
  },
  {
   "cell_type": "markdown",
   "id": "f861ca12",
   "metadata": {},
   "source": [
    "What you might've noticed is that we use a keyword called with. The with keyword is often referred as context in Python. What does context mean? Basically, when we want to read a file from Python we need to establish a connection to it. The operating system decides how many files can access a file at any given time in order to protect it from multiple reads/writes that can lead to inconsistency in the file itself. When you use \"with\", Python automatically takes care of opening the connection and closing it after you're finished, for you. You could handle it in other ways, closing it yourself, but using with is a best practice and saves you code and bugs."
   ]
  },
  {
   "cell_type": "code",
   "execution_count": null,
   "id": "6934f655",
   "metadata": {},
   "outputs": [],
   "source": []
  }
 ],
 "metadata": {
  "kernelspec": {
   "display_name": "Python 3 (ipykernel)",
   "language": "python",
   "name": "python3"
  },
  "language_info": {
   "codemirror_mode": {
    "name": "ipython",
    "version": 3
   },
   "file_extension": ".py",
   "mimetype": "text/x-python",
   "name": "python",
   "nbconvert_exporter": "python",
   "pygments_lexer": "ipython3",
   "version": "3.11.2"
  }
 },
 "nbformat": 4,
 "nbformat_minor": 5
}
