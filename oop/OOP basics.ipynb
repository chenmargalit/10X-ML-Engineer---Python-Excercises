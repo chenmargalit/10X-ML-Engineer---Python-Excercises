{
 "cells": [
  {
   "cell_type": "markdown",
   "id": "57455479",
   "metadata": {},
   "source": [
    "# OOP"
   ]
  },
  {
   "cell_type": "markdown",
   "id": "164f38fd",
   "metadata": {},
   "source": [
    "## Exercise 1"
   ]
  },
  {
   "cell_type": "markdown",
   "id": "c8fbbda0",
   "metadata": {},
   "source": [
    "Create a Car class with an init method and another method that prints the data put in init. Instantiate an instance and print activate the method that prints the data"
   ]
  },
  {
   "cell_type": "markdown",
   "id": "c2c1e728",
   "metadata": {},
   "source": [
    "## Exercise 2\n"
   ]
  },
  {
   "cell_type": "markdown",
   "id": "b93cb336",
   "metadata": {},
   "source": [
    "Create a class that uses encapsulation. It should introduce at least 3 methods (besides init):\n",
    "The first should do some calculation on some protected data inserted in init, and store it in the class's attributes.\n",
    "The second should change the protected data in a way that makes sense for a user\n",
    "The third should print the data before and after it was changed"
   ]
  },
  {
   "cell_type": "markdown",
   "id": "98825bfa",
   "metadata": {},
   "source": [
    "## Exercise 3\n"
   ]
  },
  {
   "cell_type": "markdown",
   "id": "f98a2ece",
   "metadata": {},
   "source": [
    "Write a class for a bird and another class that inherits from it. The bird baseclass should take some general attributes, and the inherting class should take some specific attributes like name, color, etc.\n",
    "Generate an instance and run two classes on it, one owned by the base class and one owned by the inheriting class"
   ]
  },
  {
   "cell_type": "markdown",
   "id": "7c1aefa6",
   "metadata": {},
   "source": [
    "## Exercise 4\n"
   ]
  },
  {
   "cell_type": "markdown",
   "id": "baf1a54d",
   "metadata": {},
   "source": [
    "Write a class that inherits from two classes. The subclass (class that inheirts) should present polymorphism, e.g. overwrite one of the methods. The subclass should print both the regularly inherited method (from one class) and the over written method (from the other class)"
   ]
  },
  {
   "cell_type": "markdown",
   "id": "3a793ad8",
   "metadata": {},
   "source": [
    "## Exercise 5\n"
   ]
  },
  {
   "cell_type": "markdown",
   "id": "92eac31f",
   "metadata": {},
   "source": [
    "Write a class with class and instance attributes. Instantiate the class and show how you can only access the instantiate attribute and not the class attribute (using the class attribute should result in an error)"
   ]
  },
  {
   "cell_type": "markdown",
   "id": "a2a914df",
   "metadata": {},
   "source": [
    "## Exercise 6\n"
   ]
  },
  {
   "cell_type": "markdown",
   "id": "1415719d",
   "metadata": {},
   "source": [
    "Create a movie theater handler class. In the theater you can have how many rooms you want, each should present a different movie, of a different genre, with different length etc. In this theater you can sell and buy tickets (as long as there are remaining tickets to be bought). \n",
    "\n",
    "Bonus: You can also buy a \"chance ticket\". A chance ticket is only offered when there are no more tickets left, it costs 50% of the price, and it works like that:\n",
    "You choose a number between 1 and 10. Every 10 seconds a random integer is being generated. If it's your number, you can enter. If it's not, you can't. You only get 5 turns to try."
   ]
  },
  {
   "cell_type": "code",
   "execution_count": null,
   "id": "c5ba13d7",
   "metadata": {},
   "outputs": [],
   "source": []
  }
 ],
 "metadata": {
  "kernelspec": {
   "display_name": "all_purpose_venv",
   "language": "python",
   "name": "all_purpose_venv"
  },
  "language_info": {
   "codemirror_mode": {
    "name": "ipython",
    "version": 3
   },
   "file_extension": ".py",
   "mimetype": "text/x-python",
   "name": "python",
   "nbconvert_exporter": "python",
   "pygments_lexer": "ipython3",
   "version": "3.11.2"
  }
 },
 "nbformat": 4,
 "nbformat_minor": 5
}
