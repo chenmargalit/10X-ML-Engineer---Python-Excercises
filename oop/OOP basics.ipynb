{
 "cells": [
  {
   "cell_type": "markdown",
   "id": "57455479",
   "metadata": {},
   "source": [
    "# OOP"
   ]
  },
  {
   "cell_type": "markdown",
   "id": "164f38fd",
   "metadata": {},
   "source": [
    "## Exercise 1"
   ]
  },
  {
   "cell_type": "markdown",
   "id": "c8fbbda0",
   "metadata": {},
   "source": [
    "Create a Car class with an init method and another method that prints the data put in init. Instantiate an instance and print activate the method that prints the data"
   ]
  },
  {
   "cell_type": "markdown",
   "id": "c2c1e728",
   "metadata": {},
   "source": [
    "## Exercise 2\n"
   ]
  },
  {
   "cell_type": "markdown",
   "id": "b93cb336",
   "metadata": {},
   "source": [
    "Create a class that uses encapsulation. It should introduce at least 3 methods (besides init):\n",
    "The first should do some calculation on some protected data inserted in init, and store it in the class's attributes.\n",
    "The second should change the protected data in a way that makes sense for a user\n",
    "The third should print the data before and after it was changed"
   ]
  },
  {
   "cell_type": "markdown",
   "id": "98825bfa",
   "metadata": {},
   "source": [
    "## Exercise 3\n"
   ]
  },
  {
   "cell_type": "markdown",
   "id": "f98a2ece",
   "metadata": {},
   "source": [
    "Create a movie theater handler class. In the theater you can have how many rooms you want, each should have "
   ]
  },
  {
   "cell_type": "markdown",
   "id": "7c1aefa6",
   "metadata": {},
   "source": [
    "## Exercise 4\n"
   ]
  },
  {
   "cell_type": "markdown",
   "id": "3a793ad8",
   "metadata": {},
   "source": [
    "## Exercise 5\n"
   ]
  },
  {
   "cell_type": "markdown",
   "id": "59507088",
   "metadata": {},
   "source": [
    "## Exercise 6\n"
   ]
  },
  {
   "cell_type": "markdown",
   "id": "a2a914df",
   "metadata": {},
   "source": [
    "## Exercise 7\n"
   ]
  },
  {
   "cell_type": "code",
   "execution_count": null,
   "id": "5e282f5e",
   "metadata": {},
   "outputs": [],
   "source": []
  }
 ],
 "metadata": {
  "kernelspec": {
   "display_name": "all_purpose_venv",
   "language": "python",
   "name": "all_purpose_venv"
  },
  "language_info": {
   "codemirror_mode": {
    "name": "ipython",
    "version": 3
   },
   "file_extension": ".py",
   "mimetype": "text/x-python",
   "name": "python",
   "nbconvert_exporter": "python",
   "pygments_lexer": "ipython3",
   "version": "3.11.2"
  }
 },
 "nbformat": 4,
 "nbformat_minor": 5
}
