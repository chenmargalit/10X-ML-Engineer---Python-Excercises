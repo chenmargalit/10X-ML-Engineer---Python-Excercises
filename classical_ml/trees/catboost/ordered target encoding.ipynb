{
 "cells": [
  {
   "cell_type": "markdown",
   "id": "3d1954e8",
   "metadata": {
    "heading_collapsed": true
   },
   "source": [
    "# Ordered Target Encoding"
   ]
  },
  {
   "cell_type": "markdown",
   "id": "c983eb6e",
   "metadata": {
    "hidden": true
   },
   "source": [
    "### Example Scenario\n",
    "We have a dataset containing information about soccer matches. The dataset includes:\n",
    "- `Team`: The name of the team playing in the match.\n",
    "- `Goals`: The number of goals scored by the team in that match.\n",
    "\n",
    "Our goal is to transform the categorical feature `Team` into a numeric feature using **Ordered Target Encoding**, which captures the relationship between the team and the number of goals scored."
   ]
  },
  {
   "cell_type": "code",
   "execution_count": 1,
   "id": "4d15758f",
   "metadata": {
    "hidden": true
   },
   "outputs": [
    {
     "data": {
      "text/html": [
       "<div>\n",
       "<style scoped>\n",
       "    .dataframe tbody tr th:only-of-type {\n",
       "        vertical-align: middle;\n",
       "    }\n",
       "\n",
       "    .dataframe tbody tr th {\n",
       "        vertical-align: top;\n",
       "    }\n",
       "\n",
       "    .dataframe thead th {\n",
       "        text-align: right;\n",
       "    }\n",
       "</style>\n",
       "<table border=\"1\" class=\"dataframe\">\n",
       "  <thead>\n",
       "    <tr style=\"text-align: right;\">\n",
       "      <th></th>\n",
       "      <th>Match</th>\n",
       "      <th>Team</th>\n",
       "      <th>Goals</th>\n",
       "    </tr>\n",
       "  </thead>\n",
       "  <tbody>\n",
       "    <tr>\n",
       "      <th>0</th>\n",
       "      <td>1</td>\n",
       "      <td>Manchester</td>\n",
       "      <td>3</td>\n",
       "    </tr>\n",
       "    <tr>\n",
       "      <th>1</th>\n",
       "      <td>2</td>\n",
       "      <td>Barca</td>\n",
       "      <td>1</td>\n",
       "    </tr>\n",
       "    <tr>\n",
       "      <th>2</th>\n",
       "      <td>3</td>\n",
       "      <td>Manchester</td>\n",
       "      <td>4</td>\n",
       "    </tr>\n",
       "    <tr>\n",
       "      <th>3</th>\n",
       "      <td>4</td>\n",
       "      <td>Real</td>\n",
       "      <td>5</td>\n",
       "    </tr>\n",
       "    <tr>\n",
       "      <th>4</th>\n",
       "      <td>5</td>\n",
       "      <td>Barca</td>\n",
       "      <td>2</td>\n",
       "    </tr>\n",
       "    <tr>\n",
       "      <th>5</th>\n",
       "      <td>6</td>\n",
       "      <td>Manchester</td>\n",
       "      <td>2</td>\n",
       "    </tr>\n",
       "    <tr>\n",
       "      <th>6</th>\n",
       "      <td>7</td>\n",
       "      <td>Real</td>\n",
       "      <td>3</td>\n",
       "    </tr>\n",
       "    <tr>\n",
       "      <th>7</th>\n",
       "      <td>5</td>\n",
       "      <td>Manchester</td>\n",
       "      <td>1</td>\n",
       "    </tr>\n",
       "  </tbody>\n",
       "</table>\n",
       "</div>"
      ],
      "text/plain": [
       "   Match        Team  Goals\n",
       "0      1  Manchester      3\n",
       "1      2       Barca      1\n",
       "2      3  Manchester      4\n",
       "3      4        Real      5\n",
       "4      5       Barca      2\n",
       "5      6  Manchester      2\n",
       "6      7        Real      3\n",
       "7      5  Manchester      1"
      ]
     },
     "execution_count": 1,
     "metadata": {},
     "output_type": "execute_result"
    }
   ],
   "source": [
    "import pandas as pd\n",
    "\n",
    "data = {\n",
    "    'Match': [1, 2, 3, 4, 5, 6, 7, 5],\n",
    "    'Team': ['Manchester', 'Barca', 'Manchester', 'Real', 'Barca', 'Manchester', 'Real', 'Manchester'],\n",
    "    'Goals': [3, 1, 4, 5, 2, 2, 3, 1]\n",
    "}\n",
    "\n",
    "df = pd.DataFrame(data)\n",
    "df"
   ]
  },
  {
   "cell_type": "markdown",
   "id": "a152c357",
   "metadata": {
    "hidden": true
   },
   "source": [
    "### Step 1: Sequential Processing\n",
    "We will process the rows in order and calculate the encoded value for each `Team` based on the average goals scored in all **preceding rows** by the same team. We will avoid including the current match's goals to prevent data leakage."
   ]
  },
  {
   "cell_type": "code",
   "execution_count": 2,
   "id": "e76e7a73",
   "metadata": {
    "hidden": true
   },
   "outputs": [],
   "source": [
    "def ordered_target_encoding(df, cat_column, target_column, prior_mean=0):\n",
    "    encoded_values = []\n",
    "    category_stats = {}\n",
    "\n",
    "    for index, row in df.iterrows():\n",
    "        category = row[cat_column]\n",
    "        target_value = row[target_column]\n",
    "\n",
    "        if category in category_stats:\n",
    "            prior_mean_for_category = category_stats[category]['sum'] / category_stats[category]['count']\n",
    "        else:\n",
    "            prior_mean_for_category = prior_mean\n",
    "\n",
    "        encoded_values.append(prior_mean_for_category)\n",
    "\n",
    "        if category not in category_stats:\n",
    "            category_stats[category] = {'sum': target_value, 'count': 1}\n",
    "        else:\n",
    "            category_stats[category]['sum'] += target_value\n",
    "            category_stats[category]['count'] += 1\n",
    "\n",
    "    return encoded_values"
   ]
  },
  {
   "cell_type": "code",
   "execution_count": 3,
   "id": "5aa7f846",
   "metadata": {
    "hidden": true,
    "scrolled": true
   },
   "outputs": [
    {
     "data": {
      "text/html": [
       "<div>\n",
       "<style scoped>\n",
       "    .dataframe tbody tr th:only-of-type {\n",
       "        vertical-align: middle;\n",
       "    }\n",
       "\n",
       "    .dataframe tbody tr th {\n",
       "        vertical-align: top;\n",
       "    }\n",
       "\n",
       "    .dataframe thead th {\n",
       "        text-align: right;\n",
       "    }\n",
       "</style>\n",
       "<table border=\"1\" class=\"dataframe\">\n",
       "  <thead>\n",
       "    <tr style=\"text-align: right;\">\n",
       "      <th></th>\n",
       "      <th>Match</th>\n",
       "      <th>Team</th>\n",
       "      <th>Goals</th>\n",
       "      <th>Encoded_Team</th>\n",
       "    </tr>\n",
       "  </thead>\n",
       "  <tbody>\n",
       "    <tr>\n",
       "      <th>0</th>\n",
       "      <td>1</td>\n",
       "      <td>Manchester</td>\n",
       "      <td>3</td>\n",
       "      <td>0.0</td>\n",
       "    </tr>\n",
       "    <tr>\n",
       "      <th>1</th>\n",
       "      <td>2</td>\n",
       "      <td>Barca</td>\n",
       "      <td>1</td>\n",
       "      <td>0.0</td>\n",
       "    </tr>\n",
       "    <tr>\n",
       "      <th>2</th>\n",
       "      <td>3</td>\n",
       "      <td>Manchester</td>\n",
       "      <td>4</td>\n",
       "      <td>3.0</td>\n",
       "    </tr>\n",
       "    <tr>\n",
       "      <th>3</th>\n",
       "      <td>4</td>\n",
       "      <td>Real</td>\n",
       "      <td>5</td>\n",
       "      <td>0.0</td>\n",
       "    </tr>\n",
       "    <tr>\n",
       "      <th>4</th>\n",
       "      <td>5</td>\n",
       "      <td>Barca</td>\n",
       "      <td>2</td>\n",
       "      <td>1.0</td>\n",
       "    </tr>\n",
       "    <tr>\n",
       "      <th>5</th>\n",
       "      <td>6</td>\n",
       "      <td>Manchester</td>\n",
       "      <td>2</td>\n",
       "      <td>3.5</td>\n",
       "    </tr>\n",
       "    <tr>\n",
       "      <th>6</th>\n",
       "      <td>7</td>\n",
       "      <td>Real</td>\n",
       "      <td>3</td>\n",
       "      <td>5.0</td>\n",
       "    </tr>\n",
       "    <tr>\n",
       "      <th>7</th>\n",
       "      <td>5</td>\n",
       "      <td>Manchester</td>\n",
       "      <td>1</td>\n",
       "      <td>3.0</td>\n",
       "    </tr>\n",
       "  </tbody>\n",
       "</table>\n",
       "</div>"
      ],
      "text/plain": [
       "   Match        Team  Goals  Encoded_Team\n",
       "0      1  Manchester      3           0.0\n",
       "1      2       Barca      1           0.0\n",
       "2      3  Manchester      4           3.0\n",
       "3      4        Real      5           0.0\n",
       "4      5       Barca      2           1.0\n",
       "5      6  Manchester      2           3.5\n",
       "6      7        Real      3           5.0\n",
       "7      5  Manchester      1           3.0"
      ]
     },
     "execution_count": 3,
     "metadata": {},
     "output_type": "execute_result"
    }
   ],
   "source": [
    "df['Encoded_Team'] = ordered_target_encoding(df, cat_column='Team', target_column='Goals')\n",
    "df"
   ]
  },
  {
   "cell_type": "markdown",
   "id": "ad195cba",
   "metadata": {},
   "source": [
    "# Ordered Boosting"
   ]
  },
  {
   "cell_type": "markdown",
   "id": "7540a494",
   "metadata": {},
   "source": [
    "In XGBoost, everytime we try to predict the residuals we use the entire dataset. \n",
    "\n",
    "CatBoost uses ordered boosting which means everytime it tries to predict a data point, it only uses data previous to that data point. This helps mitigate overfitting, especially in small datasets. "
   ]
  },
  {
   "cell_type": "code",
   "execution_count": null,
   "id": "55428de2",
   "metadata": {},
   "outputs": [],
   "source": []
  }
 ],
 "metadata": {
  "kernelspec": {
   "display_name": "Python 3 (ipykernel)",
   "language": "python",
   "name": "python3"
  },
  "language_info": {
   "codemirror_mode": {
    "name": "ipython",
    "version": 3
   },
   "file_extension": ".py",
   "mimetype": "text/x-python",
   "name": "python",
   "nbconvert_exporter": "python",
   "pygments_lexer": "ipython3",
   "version": "3.11.2"
  }
 },
 "nbformat": 4,
 "nbformat_minor": 5
}
