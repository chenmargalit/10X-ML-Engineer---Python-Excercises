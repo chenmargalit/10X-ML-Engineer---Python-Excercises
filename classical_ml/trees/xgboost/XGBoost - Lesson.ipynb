{
 "cells": [
  {
   "cell_type": "code",
   "execution_count": 12,
   "id": "bd0b204f",
   "metadata": {},
   "outputs": [],
   "source": [
    "# If you dont have xgboost installed, plesae install it using:\n",
    "# pip install xgboost"
   ]
  },
  {
   "cell_type": "code",
   "execution_count": 1,
   "id": "287a407a",
   "metadata": {},
   "outputs": [],
   "source": [
    "import xgboost as xgb\n",
    "import pandas as pd\n",
    "import numpy as np\n",
    "import matplotlib.pyplot as plt\n",
    "from sklearn.datasets import load_breast_cancer\n",
    "from sklearn.model_selection import train_test_split\n",
    "from sklearn.metrics import accuracy_score, confusion_matrix, classification_report\n",
    "import seaborn as sns\n",
    "from sklearn.preprocessing import StandardScaler\n",
    "from sklearn.neighbors import KNeighborsClassifier"
   ]
  },
  {
   "cell_type": "markdown",
   "id": "a7561e10",
   "metadata": {},
   "source": [
    "# XGBoost - A Powerful Boosting Algorithm\n",
    "\n",
    "XGBoost (Extreme Gradient Boosting) is a powerful machine learning model that provides an efficient implementation of gradient boosting for supervised learning tasks. In this notebook, we will cover:\n",
    "1. What is XGBoost?\n",
    "2. Why is XGBoost popular?\n",
    "3. How to implement and use XGBoost in Python.\n",
    "4. Applying XGBoost to a sample dataset."
   ]
  },
  {
   "cell_type": "markdown",
   "id": "d8b855c4",
   "metadata": {},
   "source": [
    "## What is XGBoost?\n",
    "\n",
    "XGBoost stands for Extreme Gradient Boosting, which is an advanced implementation of the Gradient Boosting algorithm. Its quite popular (23m downloads a month) due to its speed, performance, and scalability. It works by building an ensemble of trees, where each subsequent tree is built to correct the errors of the previous trees."
   ]
  },
  {
   "cell_type": "markdown",
   "id": "9a43893b",
   "metadata": {
    "heading_collapsed": true
   },
   "source": [
    "## Why is XGBoost Popular?\n",
    "\n",
    "XGBoost has 3 main features that make it stand out from other boosting algorithms:\n",
    "- **Speed**: Optimized for fast computation through parallel processing.\n",
    "- **Performance**: Regularization, pruning, and handling of missing values make it robust and powerful.\n",
    "- **Flexibility**: Can be used for regression, classification, and ranking problems.\n"
   ]
  },
  {
   "cell_type": "markdown",
   "id": "11a3b1f0",
   "metadata": {},
   "source": [
    "## Gradient Boosting"
   ]
  },
  {
   "cell_type": "markdown",
   "id": "f65d6d60",
   "metadata": {},
   "source": [
    "Gradient Boosting is a machine learning technique for building predictive models for regression and classification tasks. It is based on the concept of \"boosting,\" which combines multiple weak learners (typically decision trees) to create a strong predictive model. The key idea is to sequentially build models in such a way that each new model aims to correct the errors made by the previous models. Here's how gradient boosting works in simple terms:"
   ]
  },
  {
   "cell_type": "markdown",
   "id": "a3608130",
   "metadata": {},
   "source": [
    "### Key Concepts of Gradient Boosting\n",
    "\n",
    "1. Weak Learners (Base Models): The individual models used in gradient boosting are often decision trees that are not very deep (shallow). These trees are called \"weak learners\" because they alone might not be very accurate.\n",
    "\n",
    "2. Sequential Model Building: Gradient boosting builds the model stage by stage. It starts by fitting the first weak learner to the data. Then, each subsequent learner is trained to minimize the errors or \"residuals\" made by the ensemble of previous learners.\n",
    "\n",
    "3. Gradient Descent Optimization: Gradient boosting is called \"gradient\" boosting because it uses gradient descent to optimize the model. In each stage, a new learner is added that minimizes a loss function (e.g., mean squared error for regression or log-loss for classification). The loss function is essentially the difference between the current predictions and the actual values, and the gradient represents the direction and magnitude of changes needed to minimize this loss.\n",
    "\n",
    "4. Additive Model: The final model is a sum (or an additive ensemble) of all the weak learners' predictions. Each learner corrects the errors of the combined model of the previous learners."
   ]
  },
  {
   "cell_type": "markdown",
   "id": "d7a8ad80",
   "metadata": {},
   "source": [
    "### Workflow of Gradient Boosting\n",
    "\n",
    "Here's a high-level overview of the steps involved in gradient boosting:\n",
    "\n",
    "1. Initialize the Model: Start with a simple model, often predicting the mean of the target variable for regression or the log-odds for classification.\n",
    "\n",
    "2. Calculate Residuals: Compute the residuals (errors) between the actual target values and the predictions made by the current model.\n",
    "\n",
    "3. Fit a Weak Learner to Residuals: Fit a new weak learner (e.g., a small decision tree) to the residuals.\n",
    "\n",
    "4. Update Model: Update the overall model by adding the new learner with a certain weight (learning rate).\n",
    "\n",
    "5. Repeat: Repeat steps 2-4 for a predefined number of iterations or until the residuals are minimized.\n",
    "\n",
    "6. Final Prediction: Make final predictions by summing the outputs of all the weak learners."
   ]
  },
  {
   "cell_type": "markdown",
   "id": "211a9d18",
   "metadata": {},
   "source": [
    "### Why Use Gradient Boosting?\n",
    "* Handles Complex Data Relationships: It can capture complex relationships in the data through the sequential corrections made by each learner.\n",
    "\n",
    "* Flexibility: It works well for various types of predictive modeling problems (regression, classification, ranking).\n",
    "\n",
    "* Performance: Gradient boosting often achieves state-of-the-art results in many machine learning competitions because of its accuracy and generalizability."
   ]
  },
  {
   "cell_type": "markdown",
   "id": "186db15c",
   "metadata": {},
   "source": [
    "### Trade-offs\n",
    "While gradient boosting is powerful, it can be computationally expensive, especially with large datasets, and may overfit if not regularized properly. Techniques like regularization (L1/L2 penalties), early stopping, and learning rate tuning are used to mitigate these issues."
   ]
  },
  {
   "cell_type": "markdown",
   "id": "60d6b70f",
   "metadata": {},
   "source": [
    "### Regulating XGBoost"
   ]
  },
  {
   "cell_type": "markdown",
   "id": "ec10af34",
   "metadata": {},
   "source": [
    "#### L1 Regularization (Lasso Regularization)\n",
    "**Concept**: L1 regularization adds a penalty to the model based on the absolute values of the weights (leaf weights in the context of trees). This tends to drive some weights to zero, effectively performing feature selection and simplifying the model.\n",
    "\n",
    "**Purpose**: Helps to reduce overfitting by simplifying the model and encouraging sparsity in the weights.\n",
    "How to activate in XGBoost: Use the parameter alpha.\n",
    "A higher alpha value means a stronger penalty, resulting in more aggressive regularization."
   ]
  },
  {
   "cell_type": "markdown",
   "id": "d2fe8adc",
   "metadata": {},
   "source": [
    "#### L2 Regularization (Ridge Regularization)\n",
    "\n",
    "**Concept**: L2 regularization adds a penalty based on the squared values of the weights. Unlike L1, L2 doesn't enforce sparsity, but it shrinks weights to be as small as possible.\n",
    "\n",
    "**Purpose**: Helps to stabilize the model by preventing the weights from becoming too large and thus overfitting the data.\n",
    "How to activate in XGBoost: Use the parameter reg_lambda\n",
    "\n",
    "A higher reg_lambda value means a stronger penalty."
   ]
  },
  {
   "cell_type": "markdown",
   "id": "b2cf5e65",
   "metadata": {},
   "source": [
    "#### Learning Rate Tuning (Shrinkage)\n",
    "\n",
    "**Concept**: The learning rate (often referred to as eta) controls how much the model adjusts each tree's weights in response to the error of the previous trees. A smaller learning rate makes the model learn more slowly, usually requiring more boosting rounds to converge, but it often leads to better generalization.\n",
    "\n",
    "**Purpose**: To control overfitting by making the model learn more conservatively and slowly from the residuals.\n",
    "How to activate in XGBoost:\n",
    "Use the learning_rate (or eta) parameter."
   ]
  },
  {
   "cell_type": "markdown",
   "id": "9a8d6f7c",
   "metadata": {},
   "source": [
    "#### Early Stopping\n",
    "**Concept**: Early stopping allows the model to stop training before the maximum number of boosting rounds if the performance on a validation set stops improving. This prevents the model from overfitting as it will stop as soon as the model starts to learn noise rather than patterns in the data.\n",
    "\n",
    "**Purpose:** To halt training as soon as overfitting is detected on a validation set, ensuring that the model is not overly complex.\n",
    "How to activate in XGBoost:\n",
    "Use early_stopping_rounds during the .fit() method. You need to provide a validation set and specify the metric to monitor."
   ]
  },
  {
   "cell_type": "markdown",
   "id": "3a825785",
   "metadata": {},
   "source": [
    "In practice, you usually combine these techniques to achieve better generalization. Here's an example of how you might initialize an XGBClassifier with all these regularization techniques"
   ]
  },
  {
   "cell_type": "markdown",
   "id": "a476698d",
   "metadata": {},
   "source": [
    "## Important Hyperparameters"
   ]
  },
  {
   "cell_type": "markdown",
   "id": "832a6dd2",
   "metadata": {},
   "source": [
    "\n",
    "### 1. `n_estimators` (Number of Boosting Rounds)\n",
    "- **What it does**: Specifies the number of boosting rounds or trees to build.\n",
    "- **Tuning guidance**: A larger number of trees usually improves performance but can lead to overfitting. It should be used alongside `learning_rate` to find a good balance.\n",
    "\n",
    "```python\n",
    "n_estimators = 100  # Common values range from 100 to 1000\n"
   ]
  },
  {
   "cell_type": "markdown",
   "id": "b3533235",
   "metadata": {},
   "source": [
    "### 2. max_depth\n",
    "**What it does:** Maximum depth of each tree, controlling the complexity of the model.\n",
    "\n",
    "**Tuning guidance:** A deeper tree captures more complex patterns but may overfit. Typical values are between 3 and 10.\n"
   ]
  },
  {
   "cell_type": "markdown",
   "id": "53123c8b",
   "metadata": {},
   "source": [
    "### 3. min_child_weight\n",
    "**What it does:** Minimum sum of weights in a child node. Higher values make the model more conservative.\n",
    "\n",
    "**Tuning guidance:** Controls tree depth by forcing splits to have a certain minimum weight. A larger value can prevent overfitting.\n"
   ]
  },
  {
   "cell_type": "markdown",
   "id": "c3805bfa",
   "metadata": {},
   "source": [
    "### 4. subsample\n",
    "**What it does:** Fraction of training data used for each boosting round.\n",
    "\n",
    "**Tuning guidance:** Introduces randomness to prevent overfitting. Typical values range from 0.5 to 1.0.\n"
   ]
  },
  {
   "cell_type": "markdown",
   "id": "067c7207",
   "metadata": {},
   "source": [
    "### 5. colsample_bytree\n",
    "**What it does:** Fraction of features (columns) used for each tree.\n",
    "\n",
    "**Tuning guidance:** Reduces overfitting by sampling columns for each tree. Typical values range from 0.5 to 1.0.\n"
   ]
  },
  {
   "cell_type": "markdown",
   "id": "b4f639b5",
   "metadata": {},
   "source": [
    "### 6. gamma\n",
    "**What it does:** Minimum loss reduction required to make a split. A higher value makes the algorithm more conservative.\n",
    "\n",
    "**Tuning guidance:** Prevents unnecessary splits in trees, which can reduce overfitting.\n"
   ]
  },
  {
   "cell_type": "markdown",
   "id": "8a904eb1",
   "metadata": {},
   "source": [
    "## Loading and Preparing the Data\n",
    "\n",
    "For this example, we will use the Breast Cancer dataset from `sklearn`. Let's load the data and prepare it for training.\n"
   ]
  },
  {
   "cell_type": "code",
   "execution_count": 3,
   "id": "b71b2bf7",
   "metadata": {},
   "outputs": [
    {
     "name": "stdout",
     "output_type": "stream",
     "text": [
      "Training set: (455, 30)\n",
      "Test set: (114, 30)\n"
     ]
    }
   ],
   "source": [
    "data = load_breast_cancer()\n",
    "X = pd.DataFrame(data.data, columns=data.feature_names)\n",
    "y = data.target\n",
    "\n",
    "X_train, X_test, y_train, y_test = train_test_split(X, y, test_size=0.2, random_state=42)\n",
    "\n",
    "print(f\"Training set: {X_train.shape}\")\n",
    "print(f\"Test set: {X_test.shape}\")"
   ]
  },
  {
   "cell_type": "markdown",
   "id": "cfa6e58e",
   "metadata": {},
   "source": [
    "## Training the XGBoost Model\n",
    "\n",
    "Now that our data is ready, let's train an XGBoost model. We will use `XGBClassifier` for this classification task.\n"
   ]
  },
  {
   "cell_type": "code",
   "execution_count": 9,
   "id": "de7443b5",
   "metadata": {
    "scrolled": true
   },
   "outputs": [
    {
     "data": {
      "text/html": [
       "<div>\n",
       "<style scoped>\n",
       "    .dataframe tbody tr th:only-of-type {\n",
       "        vertical-align: middle;\n",
       "    }\n",
       "\n",
       "    .dataframe tbody tr th {\n",
       "        vertical-align: top;\n",
       "    }\n",
       "\n",
       "    .dataframe thead th {\n",
       "        text-align: right;\n",
       "    }\n",
       "</style>\n",
       "<table border=\"1\" class=\"dataframe\">\n",
       "  <thead>\n",
       "    <tr style=\"text-align: right;\">\n",
       "      <th></th>\n",
       "      <th>mean radius</th>\n",
       "      <th>mean texture</th>\n",
       "      <th>mean perimeter</th>\n",
       "      <th>mean area</th>\n",
       "      <th>mean smoothness</th>\n",
       "      <th>mean compactness</th>\n",
       "      <th>mean concavity</th>\n",
       "      <th>mean concave points</th>\n",
       "      <th>mean symmetry</th>\n",
       "      <th>mean fractal dimension</th>\n",
       "      <th>...</th>\n",
       "      <th>worst radius</th>\n",
       "      <th>worst texture</th>\n",
       "      <th>worst perimeter</th>\n",
       "      <th>worst area</th>\n",
       "      <th>worst smoothness</th>\n",
       "      <th>worst compactness</th>\n",
       "      <th>worst concavity</th>\n",
       "      <th>worst concave points</th>\n",
       "      <th>worst symmetry</th>\n",
       "      <th>worst fractal dimension</th>\n",
       "    </tr>\n",
       "  </thead>\n",
       "  <tbody>\n",
       "    <tr>\n",
       "      <th>0</th>\n",
       "      <td>17.99</td>\n",
       "      <td>10.38</td>\n",
       "      <td>122.80</td>\n",
       "      <td>1001.0</td>\n",
       "      <td>0.11840</td>\n",
       "      <td>0.27760</td>\n",
       "      <td>0.3001</td>\n",
       "      <td>0.14710</td>\n",
       "      <td>0.2419</td>\n",
       "      <td>0.07871</td>\n",
       "      <td>...</td>\n",
       "      <td>25.38</td>\n",
       "      <td>17.33</td>\n",
       "      <td>184.60</td>\n",
       "      <td>2019.0</td>\n",
       "      <td>0.1622</td>\n",
       "      <td>0.6656</td>\n",
       "      <td>0.7119</td>\n",
       "      <td>0.2654</td>\n",
       "      <td>0.4601</td>\n",
       "      <td>0.11890</td>\n",
       "    </tr>\n",
       "    <tr>\n",
       "      <th>1</th>\n",
       "      <td>20.57</td>\n",
       "      <td>17.77</td>\n",
       "      <td>132.90</td>\n",
       "      <td>1326.0</td>\n",
       "      <td>0.08474</td>\n",
       "      <td>0.07864</td>\n",
       "      <td>0.0869</td>\n",
       "      <td>0.07017</td>\n",
       "      <td>0.1812</td>\n",
       "      <td>0.05667</td>\n",
       "      <td>...</td>\n",
       "      <td>24.99</td>\n",
       "      <td>23.41</td>\n",
       "      <td>158.80</td>\n",
       "      <td>1956.0</td>\n",
       "      <td>0.1238</td>\n",
       "      <td>0.1866</td>\n",
       "      <td>0.2416</td>\n",
       "      <td>0.1860</td>\n",
       "      <td>0.2750</td>\n",
       "      <td>0.08902</td>\n",
       "    </tr>\n",
       "    <tr>\n",
       "      <th>2</th>\n",
       "      <td>19.69</td>\n",
       "      <td>21.25</td>\n",
       "      <td>130.00</td>\n",
       "      <td>1203.0</td>\n",
       "      <td>0.10960</td>\n",
       "      <td>0.15990</td>\n",
       "      <td>0.1974</td>\n",
       "      <td>0.12790</td>\n",
       "      <td>0.2069</td>\n",
       "      <td>0.05999</td>\n",
       "      <td>...</td>\n",
       "      <td>23.57</td>\n",
       "      <td>25.53</td>\n",
       "      <td>152.50</td>\n",
       "      <td>1709.0</td>\n",
       "      <td>0.1444</td>\n",
       "      <td>0.4245</td>\n",
       "      <td>0.4504</td>\n",
       "      <td>0.2430</td>\n",
       "      <td>0.3613</td>\n",
       "      <td>0.08758</td>\n",
       "    </tr>\n",
       "    <tr>\n",
       "      <th>3</th>\n",
       "      <td>11.42</td>\n",
       "      <td>20.38</td>\n",
       "      <td>77.58</td>\n",
       "      <td>386.1</td>\n",
       "      <td>0.14250</td>\n",
       "      <td>0.28390</td>\n",
       "      <td>0.2414</td>\n",
       "      <td>0.10520</td>\n",
       "      <td>0.2597</td>\n",
       "      <td>0.09744</td>\n",
       "      <td>...</td>\n",
       "      <td>14.91</td>\n",
       "      <td>26.50</td>\n",
       "      <td>98.87</td>\n",
       "      <td>567.7</td>\n",
       "      <td>0.2098</td>\n",
       "      <td>0.8663</td>\n",
       "      <td>0.6869</td>\n",
       "      <td>0.2575</td>\n",
       "      <td>0.6638</td>\n",
       "      <td>0.17300</td>\n",
       "    </tr>\n",
       "    <tr>\n",
       "      <th>4</th>\n",
       "      <td>20.29</td>\n",
       "      <td>14.34</td>\n",
       "      <td>135.10</td>\n",
       "      <td>1297.0</td>\n",
       "      <td>0.10030</td>\n",
       "      <td>0.13280</td>\n",
       "      <td>0.1980</td>\n",
       "      <td>0.10430</td>\n",
       "      <td>0.1809</td>\n",
       "      <td>0.05883</td>\n",
       "      <td>...</td>\n",
       "      <td>22.54</td>\n",
       "      <td>16.67</td>\n",
       "      <td>152.20</td>\n",
       "      <td>1575.0</td>\n",
       "      <td>0.1374</td>\n",
       "      <td>0.2050</td>\n",
       "      <td>0.4000</td>\n",
       "      <td>0.1625</td>\n",
       "      <td>0.2364</td>\n",
       "      <td>0.07678</td>\n",
       "    </tr>\n",
       "  </tbody>\n",
       "</table>\n",
       "<p>5 rows × 30 columns</p>\n",
       "</div>"
      ],
      "text/plain": [
       "   mean radius  mean texture  mean perimeter  mean area  mean smoothness  \\\n",
       "0        17.99         10.38          122.80     1001.0          0.11840   \n",
       "1        20.57         17.77          132.90     1326.0          0.08474   \n",
       "2        19.69         21.25          130.00     1203.0          0.10960   \n",
       "3        11.42         20.38           77.58      386.1          0.14250   \n",
       "4        20.29         14.34          135.10     1297.0          0.10030   \n",
       "\n",
       "   mean compactness  mean concavity  mean concave points  mean symmetry  \\\n",
       "0           0.27760          0.3001              0.14710         0.2419   \n",
       "1           0.07864          0.0869              0.07017         0.1812   \n",
       "2           0.15990          0.1974              0.12790         0.2069   \n",
       "3           0.28390          0.2414              0.10520         0.2597   \n",
       "4           0.13280          0.1980              0.10430         0.1809   \n",
       "\n",
       "   mean fractal dimension  ...  worst radius  worst texture  worst perimeter  \\\n",
       "0                 0.07871  ...         25.38          17.33           184.60   \n",
       "1                 0.05667  ...         24.99          23.41           158.80   \n",
       "2                 0.05999  ...         23.57          25.53           152.50   \n",
       "3                 0.09744  ...         14.91          26.50            98.87   \n",
       "4                 0.05883  ...         22.54          16.67           152.20   \n",
       "\n",
       "   worst area  worst smoothness  worst compactness  worst concavity  \\\n",
       "0      2019.0            0.1622             0.6656           0.7119   \n",
       "1      1956.0            0.1238             0.1866           0.2416   \n",
       "2      1709.0            0.1444             0.4245           0.4504   \n",
       "3       567.7            0.2098             0.8663           0.6869   \n",
       "4      1575.0            0.1374             0.2050           0.4000   \n",
       "\n",
       "   worst concave points  worst symmetry  worst fractal dimension  \n",
       "0                0.2654          0.4601                  0.11890  \n",
       "1                0.1860          0.2750                  0.08902  \n",
       "2                0.2430          0.3613                  0.08758  \n",
       "3                0.2575          0.6638                  0.17300  \n",
       "4                0.1625          0.2364                  0.07678  \n",
       "\n",
       "[5 rows x 30 columns]"
      ]
     },
     "execution_count": 9,
     "metadata": {},
     "output_type": "execute_result"
    }
   ],
   "source": [
    "X.head()"
   ]
  },
  {
   "cell_type": "code",
   "execution_count": 12,
   "id": "76def7bc",
   "metadata": {},
   "outputs": [
    {
     "name": "stdout",
     "output_type": "stream",
     "text": [
      "Accuracy: 0.96\n"
     ]
    },
    {
     "name": "stderr",
     "output_type": "stream",
     "text": [
      "/Library/Frameworks/Python.framework/Versions/3.11/lib/python3.11/site-packages/xgboost/sklearn.py:1395: UserWarning: `use_label_encoder` is deprecated in 1.7.0.\n",
      "  warnings.warn(\"`use_label_encoder` is deprecated in 1.7.0.\")\n"
     ]
    }
   ],
   "source": [
    "model = xgb.XGBClassifier(use_label_encoder=False, eval_metric='logloss', random_state=42)\n",
    "\n",
    "model.fit(X_train, y_train)\n",
    "\n",
    "y_pred = model.predict(X_test)\n",
    "\n",
    "accuracy = accuracy_score(y_test, y_pred)\n",
    "print(f\"Accuracy: {accuracy:.2f}\")"
   ]
  },
  {
   "cell_type": "markdown",
   "id": "62fdc3da",
   "metadata": {},
   "source": [
    "## Evaluating the Model\n",
    "\n",
    "To understand how well our model performs, we can use metrics like accuracy, confusion matrix, and a classification report.\n"
   ]
  },
  {
   "cell_type": "code",
   "execution_count": 13,
   "id": "f303027e",
   "metadata": {},
   "outputs": [
    {
     "data": {
      "image/png": "[encoded data removed]",
      "text/plain": [
       "<Figure size 800x600 with 2 Axes>"
      ]
     },
     "metadata": {},
     "output_type": "display_data"
    }
   ],
   "source": [
    "cm = confusion_matrix(y_test, y_pred)\n",
    "\n",
    "plt.figure(figsize=(8, 6))\n",
    "sns.heatmap(cm, annot=True, fmt='d', cmap='Blues', xticklabels=data.target_names, yticklabels=data.target_names)\n",
    "plt.xlabel('Predicted')\n",
    "plt.ylabel('True')\n",
    "plt.title('Confusion Matrix')\n",
    "plt.show()"
   ]
  },
  {
   "cell_type": "markdown",
   "id": "f7189b8d",
   "metadata": {},
   "source": [
    "## Feature Importance\n",
    "\n",
    "XGBoost allows us to visualize which features are most important in making predictions. Let's plot the feature importances.\n"
   ]
  },
  {
   "cell_type": "code",
   "execution_count": 14,
   "id": "c5cdd24b",
   "metadata": {},
   "outputs": [
    {
     "data": {
      "text/plain": [
       "0      17.33\n",
       "1      23.41\n",
       "2      25.53\n",
       "3      26.50\n",
       "4      16.67\n",
       "       ...  \n",
       "564    26.40\n",
       "565    38.25\n",
       "566    34.12\n",
       "567    39.42\n",
       "568    30.37\n",
       "Name: worst texture, Length: 569, dtype: float64"
      ]
     },
     "execution_count": 14,
     "metadata": {},
     "output_type": "execute_result"
    }
   ],
   "source": [
    "X['worst texture']"
   ]
  },
  {
   "cell_type": "code",
   "execution_count": 17,
   "id": "0365c059",
   "metadata": {},
   "outputs": [
    {
     "data": {
      "text/plain": [
       "511"
      ]
     },
     "execution_count": 17,
     "metadata": {},
     "output_type": "execute_result"
    }
   ],
   "source": [
    "len(X['worst texture'].value_counts())"
   ]
  },
  {
   "cell_type": "code",
   "execution_count": 15,
   "id": "d8fc065f",
   "metadata": {
    "scrolled": false
   },
   "outputs": [
    {
     "data": {
      "image/png": "[encoded data removed]",
      "text/plain": [
       "<Figure size 640x480 with 1 Axes>"
      ]
     },
     "metadata": {},
     "output_type": "display_data"
    }
   ],
   "source": [
    "xgb.plot_importance(model, max_num_features=10, importance_type='weight')\n",
    "plt.show()"
   ]
  },
  {
   "cell_type": "markdown",
   "id": "f3c3f517",
   "metadata": {},
   "source": [
    "## Conclusion\n",
    "\n",
    "In this notebook, we explored XGBoost, a powerful and efficient gradient boosting algorithm. We loaded a dataset, trained a model, evaluated its performance, and visualized feature importance. XGBoost can be a very effective tool for a wide range of supervised learning tasks.\n"
   ]
  }
 ],
 "metadata": {
  "kernelspec": {
   "display_name": "all_purpose_venv",
   "language": "python",
   "name": "all_purpose_venv"
  },
  "language_info": {
   "codemirror_mode": {
    "name": "ipython",
    "version": 3
   },
   "file_extension": ".py",
   "mimetype": "text/x-python",
   "name": "python",
   "nbconvert_exporter": "python",
   "pygments_lexer": "ipython3",
   "version": "3.11.2"
  }
 },
 "nbformat": 4,
 "nbformat_minor": 5
}
