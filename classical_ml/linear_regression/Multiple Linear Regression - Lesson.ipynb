{
 "cells": [
  {
   "cell_type": "code",
   "execution_count": 10,
   "id": "8aca29c5",
   "metadata": {},
   "outputs": [],
   "source": [
    "import numpy as np\n",
    "import pandas as pd\n",
    "from sklearn.model_selection import train_test_split\n",
    "from sklearn.linear_model import LinearRegression\n",
    "from sklearn.metrics import mean_squared_error, r2_score\n",
    "from sklearn.datasets import make_regression\n",
    "import matplotlib.pyplot as plt"
   ]
  },
  {
   "cell_type": "markdown",
   "id": "651dbcf0",
   "metadata": {
    "heading_collapsed": true
   },
   "source": [
    "# Multiplie Linear Regression - Sklearn"
   ]
  },
  {
   "cell_type": "code",
   "execution_count": 11,
   "id": "8ae0531f",
   "metadata": {
    "hidden": true
   },
   "outputs": [],
   "source": [
    "np.random.seed(42)\n",
    "X = 2 * np.random.rand(100, 3)\n",
    "y = 4 + 3 * X[:, 0] + 5 * X[:, 1] + 2 * X[:, 2] + np.random.randn(100)\n",
    "\n",
    "X_train, X_test, y_train, y_test = train_test_split(X, y, test_size=0.2, random_state=42)"
   ]
  },
  {
   "cell_type": "code",
   "execution_count": 12,
   "id": "79384274",
   "metadata": {
    "hidden": true
   },
   "outputs": [
    {
     "name": "stdout",
     "output_type": "stream",
     "text": [
      "Mean Squared Error: 2.0173924806103027\n",
      "R-squared: 0.8856631070983083\n"
     ]
    }
   ],
   "source": [
    "model = LinearRegression()\n",
    "\n",
    "model.fit(X_train, y_train)\n",
    "\n",
    "y_pred = model.predict(X_test)\n",
    "\n",
    "mse = mean_squared_error(y_test, y_pred)\n",
    "r2 = r2_score(y_test, y_pred)\n",
    "\n",
    "print(f\"Mean Squared Error: {mse}\")\n",
    "print(f\"R-squared: {r2}\")"
   ]
  },
  {
   "cell_type": "markdown",
   "id": "b1b7baf3",
   "metadata": {
    "hidden": true
   },
   "source": [
    "## R squared"
   ]
  },
  {
   "cell_type": "markdown",
   "id": "24f81890",
   "metadata": {
    "hidden": true
   },
   "source": [
    "Its a way of measuring a how my model behaves vs a baseline model. How much is my model better than just predicting the average"
   ]
  },
  {
   "cell_type": "markdown",
   "id": "45abee27",
   "metadata": {
    "hidden": true
   },
   "source": [
    "$$\n",
    "R^2 = 1 - \\frac {SS_{ \\text {res}}} {SS_ {\\text {tot}}}\n",
    "$$"
   ]
  },
  {
   "cell_type": "markdown",
   "id": "6138e866",
   "metadata": {
    "hidden": true
   },
   "source": [
    "SSres - sum of squares of residuals. Measures the squared differences between observed values and <b>predicted</b> values."
   ]
  },
  {
   "cell_type": "markdown",
   "id": "812099ca",
   "metadata": {
    "hidden": true
   },
   "source": [
    "$$\n",
    "SSres = \\sum (y_i - \\hat{y}_i)^2\n",
    "$$"
   ]
  },
  {
   "cell_type": "markdown",
   "id": "fe319e2c",
   "metadata": {
    "hidden": true
   },
   "source": [
    "$$\n",
    "SStot = \\sum (y_i - \\bar{y}_i)^2\n",
    "$$"
   ]
  },
  {
   "cell_type": "markdown",
   "id": "a07ca586",
   "metadata": {
    "hidden": true
   },
   "source": [
    "SStot - total sum of squares. Measures the squared difference between observed values and the <b>mean</b> observed value."
   ]
  },
  {
   "cell_type": "markdown",
   "id": "879ad788",
   "metadata": {
    "hidden": true
   },
   "source": [
    "### R squared vs MSE"
   ]
  },
  {
   "cell_type": "markdown",
   "id": "8baa9ab5",
   "metadata": {
    "hidden": true
   },
   "source": [
    "#### R squared pros and cons"
   ]
  },
  {
   "cell_type": "markdown",
   "id": "64da6fa7",
   "metadata": {
    "hidden": true
   },
   "source": [
    "Pros:\n",
    "1. Easy to interpret as a percentage of variance explained.\n",
    "2. Good for comparing models with the same dependent variable.\n",
    "\n",
    "Cons:\n",
    "1. It doesn’t provide information on the magnitude of the error.\n",
    "2. It can be misleading if used alone, especially with non-linear models or if the model has many predictors."
   ]
  },
  {
   "cell_type": "markdown",
   "id": "ebd3ab4e",
   "metadata": {
    "hidden": true
   },
   "source": [
    "#### MSE pros and cons"
   ]
  },
  {
   "cell_type": "markdown",
   "id": "19a3bc16",
   "metadata": {
    "hidden": true
   },
   "source": [
    "Pros:\n",
    "1. Directly measures the error magnitude.\n",
    "2. Useful for optimization, as it penalizes larger errors more heavily due to squaring.\n",
    "\n",
    "Cons:\n",
    "1. The scale of MSE depends on the scale of the dependent variable, which can make it harder to interpret in relative terms.\n",
    "2. MSE is not normalized, so it doesn’t provide a direct measure of how well the model explains the variance."
   ]
  },
  {
   "cell_type": "markdown",
   "id": "abb3219f",
   "metadata": {},
   "source": [
    "# Multiple Linear Regression From Scratch"
   ]
  },
  {
   "cell_type": "markdown",
   "id": "867d22c0",
   "metadata": {},
   "source": [
    "### Exercise"
   ]
  },
  {
   "cell_type": "markdown",
   "id": "11cddafc",
   "metadata": {},
   "source": [
    "Lets write our own make regression function"
   ]
  },
  {
   "cell_type": "markdown",
   "id": "30204a05",
   "metadata": {},
   "source": [
    "Instructions:\n",
    "\n",
    "The function should take the following parameters:\n",
    "Number of samples, number of features (X), number of targets (y), amount of noise, intercept and an optional random state\n",
    "\n",
    "1. Generate random numbers of some configureable size (e.g. 2 by 2, 3 by 4, etc) (this is X)\n",
    "2. Generate a random matrix of coefficients by the size num_features by num_targets\n",
    "3. Calculate the dot product between X and the coefficients to generate some y\n",
    "4. Add the intercept to y\n",
    "5. Add some random noise to y\n",
    "6. If random_state exists, make sure to integrate it. Check numpy documentation/Google to find our how to insert a random state (a.k.a random seed) to numpy.\n",
    "7. Plot the result of your function. Is the result actually linear?"
   ]
  },
  {
   "cell_type": "markdown",
   "id": "c4c6daad",
   "metadata": {},
   "source": [
    "## Back to Linear Regression for Scratch Builders"
   ]
  },
  {
   "cell_type": "code",
   "execution_count": 34,
   "id": "788a39c3",
   "metadata": {},
   "outputs": [],
   "source": [
    "X, y = make_regression_self_made(n_samples=100, n_features=3, noise=100, random_state=0)\n",
    "X_train, X_test, y_train, y_test = train_test_split(X,y, test_size=0.2)\n",
    "\n",
    "# add a column of ones to X to act as the intercept\n",
    "train_rows, train_cols = X_train.shape\n",
    "test_rows, test_cols = X_test.shape\n",
    "X_train = np.c_[np.ones((train_rows, 1)), X_train]\n",
    "X_test = np.c_[np.ones((test_rows, 1)), X_test]"
   ]
  },
  {
   "cell_type": "code",
   "execution_count": 17,
   "id": "4eb32fd3",
   "metadata": {},
   "outputs": [],
   "source": [
    "lr = 0.01\n",
    "num_iterations = 100"
   ]
  },
  {
   "cell_type": "code",
   "execution_count": 18,
   "id": "55ab2a1f",
   "metadata": {},
   "outputs": [],
   "source": [
    "n_features = X_train.shape[1]\n",
    "params = np.random.randn(n_features)"
   ]
  },
  {
   "cell_type": "code",
   "execution_count": 19,
   "id": "1ddd181f",
   "metadata": {},
   "outputs": [],
   "source": [
    "def compute_loss(X, y, params):\n",
    "    \n",
    "    num_lablels = len(y)\n",
    "    preds = X @ params # note the intercept is already included in params\n",
    "    errors = preds - y\n",
    "    loss = (1 / (2 * num_lablels)) * np.sum(np.square(errors))\n",
    "    return loss"
   ]
  },
  {
   "cell_type": "code",
   "execution_count": 20,
   "id": "4fafd4bc",
   "metadata": {},
   "outputs": [],
   "source": [
    "def gradient_descent(X, y, params1, lr, num_iterations):\n",
    "    \n",
    "    num_lablels = len(y)\n",
    "    loss_history = np.zeros(num_iterations)\n",
    "    \n",
    "    for i in range(num_iterations):\n",
    "        predictions = X @ params\n",
    "        errors = predictions - y\n",
    "        gradients = (1 / num_lablels) * (X.T @ errors)\n",
    "        params1 -= lr * gradients\n",
    "        loss_history[i] = compute_loss(X, y, params)\n",
    "        \n",
    "    return params1, loss_history"
   ]
  },
  {
   "cell_type": "code",
   "execution_count": 21,
   "id": "9843ac22",
   "metadata": {
    "scrolled": true
   },
   "outputs": [],
   "source": [
    "params_, loss_history_ = gradient_descent(X_train, y_train, params, lr, num_iterations)"
   ]
  },
  {
   "cell_type": "code",
   "execution_count": 24,
   "id": "06e3b143",
   "metadata": {},
   "outputs": [],
   "source": [
    "losses = []\n",
    "for loss in loss_history_:\n",
    "    losses.append(loss)"
   ]
  },
  {
   "cell_type": "code",
   "execution_count": 32,
   "id": "fd299408",
   "metadata": {},
   "outputs": [],
   "source": [
    "x_plot = [num for num in range(len(losses))]\n",
    "y_plot = losses"
   ]
  },
  {
   "cell_type": "code",
   "execution_count": 33,
   "id": "ca270cf2",
   "metadata": {},
   "outputs": [
    {
     "data": {
      "text/plain": [
       "<matplotlib.collections.PathCollection at 0x31f54a2d0>"
      ]
     },
     "execution_count": 33,
     "metadata": {},
     "output_type": "execute_result"
    },
    {
     "data": {
      "image/png": "[encoded data removed]",
      "text/plain": [
       "<Figure size 640x480 with 1 Axes>"
      ]
     },
     "metadata": {},
     "output_type": "display_data"
    }
   ],
   "source": [
    "plt.scatter(x_plot, y_plot)"
   ]
  },
  {
   "cell_type": "markdown",
   "id": "2966f538",
   "metadata": {},
   "source": [
    "# Building a Real Model Prediction"
   ]
  },
  {
   "cell_type": "markdown",
   "id": "ab958255",
   "metadata": {},
   "source": [
    "### Exercise"
   ]
  },
  {
   "cell_type": "markdown",
   "id": "2c63eb6b",
   "metadata": {},
   "source": [
    "take the airbnb dataset and predict the price"
   ]
  }
 ],
 "metadata": {
  "kernelspec": {
   "display_name": "all_purpose_venv",
   "language": "python",
   "name": "all_purpose_venv"
  },
  "language_info": {
   "codemirror_mode": {
    "name": "ipython",
    "version": 3
   },
   "file_extension": ".py",
   "mimetype": "text/x-python",
   "name": "python",
   "nbconvert_exporter": "python",
   "pygments_lexer": "ipython3",
   "version": "3.11.2"
  }
 },
 "nbformat": 4,
 "nbformat_minor": 5
}
