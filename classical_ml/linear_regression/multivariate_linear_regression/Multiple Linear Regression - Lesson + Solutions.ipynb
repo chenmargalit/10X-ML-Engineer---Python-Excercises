{
 "cells": [
  {
   "cell_type": "code",
   "execution_count": 1,
   "id": "8aca29c5",
   "metadata": {},
   "outputs": [],
   "source": [
    "import numpy as np\n",
    "import pandas as pd\n",
    "from sklearn.model_selection import train_test_split\n",
    "from sklearn.linear_model import LinearRegression\n",
    "from sklearn.metrics import mean_squared_error, r2_score\n",
    "from sklearn.datasets import make_regression\n",
    "import matplotlib.pyplot as plt"
   ]
  },
  {
   "cell_type": "markdown",
   "id": "651dbcf0",
   "metadata": {
    "heading_collapsed": true
   },
   "source": [
    "# Multivariate Linear Regression - Sklearn"
   ]
  },
  {
   "cell_type": "code",
   "execution_count": 29,
   "id": "8ae0531f",
   "metadata": {
    "hidden": true
   },
   "outputs": [],
   "source": [
    "np.random.seed(42)\n",
    "X = 2 * np.random.rand(100, 3)\n",
    "y = 4 + 3 * X[:, 0] + 5 * X[:, 1] + 2 * X[:, 2] + np.random.randn(100)\n",
    "\n",
    "X_train, X_test, y_train, y_test = train_test_split(X, y, test_size=0.2, random_state=42)"
   ]
  },
  {
   "cell_type": "code",
   "execution_count": 5,
   "id": "79384274",
   "metadata": {
    "hidden": true
   },
   "outputs": [
    {
     "name": "stdout",
     "output_type": "stream",
     "text": [
      "Mean Squared Error: 2.0173924806103027\n",
      "R-squared: 0.8856631070983083\n"
     ]
    }
   ],
   "source": [
    "model = LinearRegression()\n",
    "\n",
    "model.fit(X_train, y_train)\n",
    "\n",
    "y_pred = model.predict(X_test)\n",
    "\n",
    "mse = mean_squared_error(y_test, y_pred)\n",
    "r2 = r2_score(y_test, y_pred)\n",
    "\n",
    "print(f\"Mean Squared Error: {mse}\")\n",
    "print(f\"R-squared: {r2}\")"
   ]
  },
  {
   "cell_type": "markdown",
   "id": "b1b7baf3",
   "metadata": {
    "heading_collapsed": true,
    "hidden": true
   },
   "source": [
    "## R squared"
   ]
  },
  {
   "cell_type": "markdown",
   "id": "24f81890",
   "metadata": {
    "hidden": true
   },
   "source": [
    "Its a way of measuring a how my model behaves vs a baseline model. How much is my model better than just predicting the average"
   ]
  },
  {
   "cell_type": "markdown",
   "id": "45abee27",
   "metadata": {
    "hidden": true
   },
   "source": [
    "$$\n",
    "R^2 = 1 - \\frac {SS_{ \\text {res}}} {SS_ {\\text {tot}}}\n",
    "$$"
   ]
  },
  {
   "cell_type": "markdown",
   "id": "6138e866",
   "metadata": {
    "hidden": true
   },
   "source": [
    "SSres - sum of squares of residuals. Measures the squared differences between observed values and <b>predicted</b> values."
   ]
  },
  {
   "cell_type": "markdown",
   "id": "812099ca",
   "metadata": {
    "hidden": true
   },
   "source": [
    "$$\n",
    "SSres = \\sum (y_i - \\hat{y}_i)^2\n",
    "$$"
   ]
  },
  {
   "cell_type": "markdown",
   "id": "fe319e2c",
   "metadata": {
    "hidden": true
   },
   "source": [
    "$$\n",
    "SStot = \\sum (y_i - \\bar{y}_i)^2\n",
    "$$"
   ]
  },
  {
   "cell_type": "markdown",
   "id": "a07ca586",
   "metadata": {
    "hidden": true
   },
   "source": [
    "SStot - total sum of squares. Measures the squared difference between observed values and the <b>mean</b> observed value."
   ]
  },
  {
   "cell_type": "markdown",
   "id": "879ad788",
   "metadata": {
    "heading_collapsed": true,
    "hidden": true
   },
   "source": [
    "### R squared vs MSE"
   ]
  },
  {
   "cell_type": "markdown",
   "id": "8baa9ab5",
   "metadata": {
    "hidden": true
   },
   "source": [
    "#### R squared pros and cons"
   ]
  },
  {
   "cell_type": "markdown",
   "id": "64da6fa7",
   "metadata": {
    "hidden": true
   },
   "source": [
    "Pros:\n",
    "1. Easy to interpret as a percentage of variance explained.\n",
    "2. Good for comparing models with the same dependent variable.\n",
    "\n",
    "Cons:\n",
    "1. It doesn’t provide information on the magnitude of the error.\n",
    "2. It can be misleading if used alone, especially with non-linear models or if the model has many predictors."
   ]
  },
  {
   "cell_type": "markdown",
   "id": "ebd3ab4e",
   "metadata": {
    "hidden": true
   },
   "source": [
    "#### MSE pros and cons"
   ]
  },
  {
   "cell_type": "markdown",
   "id": "19a3bc16",
   "metadata": {
    "hidden": true
   },
   "source": [
    "Pros:\n",
    "1. Directly measures the error magnitude.\n",
    "2. Useful for optimization, as it penalizes larger errors more heavily due to squaring.\n",
    "\n",
    "Cons:\n",
    "1. The scale of MSE depends on the scale of the dependent variable, which can make it harder to interpret in relative terms.\n",
    "2. MSE is not normalized, so it doesn’t provide a direct measure of how well the model explains the variance."
   ]
  },
  {
   "cell_type": "markdown",
   "id": "abb3219f",
   "metadata": {
    "heading_collapsed": true
   },
   "source": [
    "# Multiple Linear Regression From Scratch"
   ]
  },
  {
   "cell_type": "markdown",
   "id": "867d22c0",
   "metadata": {
    "hidden": true
   },
   "source": [
    "### Exercise"
   ]
  },
  {
   "cell_type": "markdown",
   "id": "11cddafc",
   "metadata": {
    "hidden": true
   },
   "source": [
    "Lets write our own make regression function"
   ]
  },
  {
   "cell_type": "markdown",
   "id": "30204a05",
   "metadata": {
    "hidden": true
   },
   "source": [
    "Instructions:\n",
    "\n",
    "The function should take the following parameters:\n",
    "Number of samples, number of features (X), number of targets (y), amount of noise, intercept and an optional random state\n",
    "\n",
    "1. Generate random numbers of some configureable size (e.g. 2 by 2, 3 by 4, etc) (this is X)\n",
    "2. Generate a random matrix of coefficients by the size num_features by num_targets\n",
    "3. Calculate the dot product between X and the coefficients to generate some y\n",
    "4. Add the intercept to y\n",
    "5. Add some random noise to y\n",
    "6. If random_state exists, make sure to integrate it. Check numpy documentation/Google to find our how to insert a random state (a.k.a random seed) to numpy.\n",
    "7. Plot the result of your function. Is the result actually linear?"
   ]
  },
  {
   "cell_type": "markdown",
   "id": "848b1ca2",
   "metadata": {
    "hidden": true
   },
   "source": [
    "#### Soilution"
   ]
  },
  {
   "cell_type": "code",
   "execution_count": 118,
   "id": "cdfc737f",
   "metadata": {
    "hidden": true
   },
   "outputs": [],
   "source": [
    "def make_regression_self_made(n_samples=100, n_features=1, n_targets=1, noise=0.0, intercept=0.0, random_state=None):\n",
    "    \n",
    "    if random_state is not None:\n",
    "        np.random.seed(random_state)\n",
    "\n",
    "    X = np.random.randn(n_samples, n_features)\n",
    "\n",
    "    coefficients = np.random.randn(n_features, n_targets)\n",
    "    \n",
    "    y = X.dot(coefficients)\n",
    "    \n",
    "    y += intercept\n",
    "    \n",
    "    y += noise * 0.01 * np.random.randn(n_samples, n_targets)\n",
    "    \n",
    "    y = np.squeeze(y)\n",
    "    \n",
    "    return X, y"
   ]
  },
  {
   "cell_type": "code",
   "execution_count": 214,
   "id": "46a83269",
   "metadata": {
    "hidden": true
   },
   "outputs": [
    {
     "data": {
      "text/plain": [
       "array([-0.04570396,  0.22050766, -1.02993528])"
      ]
     },
     "execution_count": 214,
     "metadata": {},
     "output_type": "execute_result"
    }
   ],
   "source": [
    "np.random.randn(3)"
   ]
  },
  {
   "cell_type": "code",
   "execution_count": 215,
   "id": "3d7314b6",
   "metadata": {
    "hidden": true
   },
   "outputs": [
    {
     "data": {
      "text/plain": [
       "array([-0.34994336,  1.10028434,  1.29802197])"
      ]
     },
     "execution_count": 215,
     "metadata": {},
     "output_type": "execute_result"
    }
   ],
   "source": [
    "np.random.randn(3)"
   ]
  },
  {
   "cell_type": "code",
   "execution_count": 119,
   "id": "420f57eb",
   "metadata": {
    "hidden": true
   },
   "outputs": [],
   "source": [
    "X_res, y_res = make_regression_self_made(n_features=3)\n",
    "assert y_res.ndim == 1"
   ]
  },
  {
   "cell_type": "code",
   "execution_count": 127,
   "id": "02a768db",
   "metadata": {
    "hidden": true
   },
   "outputs": [
    {
     "data": {
      "text/plain": [
       "<matplotlib.collections.PathCollection at 0x31d64c790>"
      ]
     },
     "execution_count": 127,
     "metadata": {},
     "output_type": "execute_result"
    },
    {
     "data": {
      "image/png": "[encoded data removed]",
      "text/plain": [
       "<Figure size 640x480 with 1 Axes>"
      ]
     },
     "metadata": {},
     "output_type": "display_data"
    }
   ],
   "source": [
    "X, y = make_regression_self_made(n_samples=1000, n_features=1, noise=10, random_state=0)\n",
    "plt.scatter(X,y)"
   ]
  },
  {
   "cell_type": "markdown",
   "id": "c4c6daad",
   "metadata": {
    "hidden": true
   },
   "source": [
    "## Back to Linear Regression for Scratch Builders"
   ]
  },
  {
   "cell_type": "code",
   "execution_count": 132,
   "id": "788a39c3",
   "metadata": {
    "hidden": true
   },
   "outputs": [],
   "source": [
    "X, y = make_regression_self_made(n_samples=100, n_features=3, noise=100, random_state=0)\n",
    "X_train, X_test, y_train, y_test = train_test_split(X,y, test_size=0.2)\n",
    "\n",
    "# add a column of ones to X to act as the intercept\n",
    "train_rows, train_cols = X_train.shape\n",
    "test_rows, test_cols = X_test.shape\n",
    "X_train = np.c_[np.ones((train_rows, 1)), X_train]\n",
    "X_test = np.c_[np.ones((test_rows, 1)), X_test]"
   ]
  },
  {
   "cell_type": "code",
   "execution_count": 199,
   "id": "4eb32fd3",
   "metadata": {
    "hidden": true
   },
   "outputs": [],
   "source": [
    "lr = 0.01\n",
    "num_iterations = 100"
   ]
  },
  {
   "cell_type": "code",
   "execution_count": 219,
   "id": "55ab2a1f",
   "metadata": {
    "hidden": true
   },
   "outputs": [],
   "source": [
    "n_features = X_train.shape[1]\n",
    "params = np.random.randn(n_features)"
   ]
  },
  {
   "cell_type": "code",
   "execution_count": 201,
   "id": "1ddd181f",
   "metadata": {
    "hidden": true
   },
   "outputs": [],
   "source": [
    "def compute_loss(X, y, params):\n",
    "    \n",
    "    num_lablels = len(y)\n",
    "    preds = X @ params # note the intercept is already included in params\n",
    "    errors = preds - y\n",
    "    loss = (1 / (2 * num_lablels)) * np.sum(np.square(errors))\n",
    "    return loss"
   ]
  },
  {
   "cell_type": "code",
   "execution_count": 202,
   "id": "4fafd4bc",
   "metadata": {
    "hidden": true
   },
   "outputs": [],
   "source": [
    "def gradient_descent(X, y, params1, lr, num_iterations):\n",
    "    \n",
    "    num_lablels = len(y)\n",
    "    loss_history = np.zeros(num_iterations)\n",
    "    \n",
    "    for i in range(num_iterations):\n",
    "        predictions = X @ params\n",
    "        errors = predictions - y\n",
    "        gradients = (1 / num_lablels) * (X.T @ errors)\n",
    "        params1 -= lr * gradients\n",
    "        loss_history[i] = compute_loss(X, y, params)\n",
    "        \n",
    "    return params1, loss_history"
   ]
  },
  {
   "cell_type": "code",
   "execution_count": 208,
   "id": "9843ac22",
   "metadata": {
    "hidden": true,
    "scrolled": true
   },
   "outputs": [
    {
     "name": "stdout",
     "output_type": "stream",
     "text": [
      "CPU times: user 3.56 ms, sys: 81 µs, total: 3.65 ms\n",
      "Wall time: 4.06 ms\n"
     ]
    }
   ],
   "source": [
    "%time params_, loss_history_ = gradient_descent(X_train, y_train, params, lr, num_iterations)"
   ]
  },
  {
   "cell_type": "code",
   "execution_count": 204,
   "id": "89edd446",
   "metadata": {
    "hidden": true
   },
   "outputs": [
    {
     "data": {
      "text/plain": [
       "array([ 0.24000607, -0.33640187,  0.51034915,  0.28791898])"
      ]
     },
     "execution_count": 204,
     "metadata": {},
     "output_type": "execute_result"
    }
   ],
   "source": [
    "params"
   ]
  },
  {
   "cell_type": "code",
   "execution_count": 205,
   "id": "23b8d4d6",
   "metadata": {
    "hidden": true
   },
   "outputs": [
    {
     "data": {
      "text/plain": [
       "array([ 0.24000607, -0.33640187,  0.51034915,  0.28791898])"
      ]
     },
     "execution_count": 205,
     "metadata": {},
     "output_type": "execute_result"
    }
   ],
   "source": [
    "params_"
   ]
  },
  {
   "cell_type": "code",
   "execution_count": 206,
   "id": "fd299408",
   "metadata": {
    "hidden": true
   },
   "outputs": [],
   "source": [
    "x_plot = [num for num in range(len(loss_history_))]"
   ]
  },
  {
   "cell_type": "code",
   "execution_count": 207,
   "id": "ca270cf2",
   "metadata": {
    "hidden": true
   },
   "outputs": [
    {
     "data": {
      "text/plain": [
       "<matplotlib.collections.PathCollection at 0x31d934990>"
      ]
     },
     "execution_count": 207,
     "metadata": {},
     "output_type": "execute_result"
    },
    {
     "data": {
      "image/png": "[encoded data removed]",
      "text/plain": [
       "<Figure size 640x480 with 1 Axes>"
      ]
     },
     "metadata": {},
     "output_type": "display_data"
    }
   ],
   "source": [
    "plt.scatter(x_plot, loss_history_)"
   ]
  },
  {
   "cell_type": "markdown",
   "id": "a98bdad6",
   "metadata": {
    "heading_collapsed": true
   },
   "source": [
    "# Linear Regression Limitations"
   ]
  },
  {
   "cell_type": "markdown",
   "id": "0266734e",
   "metadata": {
    "hidden": true
   },
   "source": [
    "1. Assumes linearity.\n",
    "2. Sensitive to outliers\n",
    "3. Assums homoscedasticity - the variance of the errors is the same across all the levels of the independent variables\n",
    "4. Lack of Multicolinearity - independent variables are not very correlated with each other\n",
    "5. Independence of errors\n",
    "6. Limited capacity."
   ]
  },
  {
   "cell_type": "markdown",
   "id": "2966f538",
   "metadata": {},
   "source": [
    "# Building a Real Model Prediction"
   ]
  },
  {
   "cell_type": "markdown",
   "id": "ab958255",
   "metadata": {
    "heading_collapsed": true
   },
   "source": [
    "### Exercise"
   ]
  },
  {
   "cell_type": "markdown",
   "id": "2c63eb6b",
   "metadata": {
    "hidden": true
   },
   "source": [
    "take the airbnb dataset and predict the price. Test your code accordingly."
   ]
  },
  {
   "cell_type": "code",
   "execution_count": 102,
   "id": "a8d7b1f2",
   "metadata": {
    "hidden": true
   },
   "outputs": [],
   "source": [
    "df = pd.read_csv('../../../datasets/AB_NYC_2019.csv')"
   ]
  },
  {
   "cell_type": "code",
   "execution_count": 90,
   "id": "9870a814",
   "metadata": {
    "hidden": true
   },
   "outputs": [
    {
     "data": {
      "text/plain": [
       "16"
      ]
     },
     "execution_count": 90,
     "metadata": {},
     "output_type": "execute_result"
    }
   ],
   "source": [
    "len(df.columns)"
   ]
  },
  {
   "cell_type": "code",
   "execution_count": 91,
   "id": "33b46480",
   "metadata": {
    "hidden": true,
    "scrolled": true
   },
   "outputs": [
    {
     "data": {
      "text/html": [
       "<div>\n",
       "<style scoped>\n",
       "    .dataframe tbody tr th:only-of-type {\n",
       "        vertical-align: middle;\n",
       "    }\n",
       "\n",
       "    .dataframe tbody tr th {\n",
       "        vertical-align: top;\n",
       "    }\n",
       "\n",
       "    .dataframe thead th {\n",
       "        text-align: right;\n",
       "    }\n",
       "</style>\n",
       "<table border=\"1\" class=\"dataframe\">\n",
       "  <thead>\n",
       "    <tr style=\"text-align: right;\">\n",
       "      <th></th>\n",
       "      <th>id</th>\n",
       "      <th>name</th>\n",
       "      <th>host_id</th>\n",
       "      <th>host_name</th>\n",
       "      <th>neighbourhood_group</th>\n",
       "      <th>neighbourhood</th>\n",
       "      <th>latitude</th>\n",
       "      <th>longitude</th>\n",
       "      <th>room_type</th>\n",
       "      <th>price</th>\n",
       "      <th>minimum_nights</th>\n",
       "      <th>number_of_reviews</th>\n",
       "      <th>last_review</th>\n",
       "      <th>reviews_per_month</th>\n",
       "      <th>calculated_host_listings_count</th>\n",
       "      <th>availability_365</th>\n",
       "    </tr>\n",
       "  </thead>\n",
       "  <tbody>\n",
       "    <tr>\n",
       "      <th>0</th>\n",
       "      <td>2539</td>\n",
       "      <td>Clean &amp; quiet apt home by the park</td>\n",
       "      <td>2787</td>\n",
       "      <td>John</td>\n",
       "      <td>Brooklyn</td>\n",
       "      <td>Kensington</td>\n",
       "      <td>40.64749</td>\n",
       "      <td>-73.97237</td>\n",
       "      <td>Private room</td>\n",
       "      <td>149</td>\n",
       "      <td>1</td>\n",
       "      <td>9</td>\n",
       "      <td>2018-10-19</td>\n",
       "      <td>0.21</td>\n",
       "      <td>6</td>\n",
       "      <td>365</td>\n",
       "    </tr>\n",
       "    <tr>\n",
       "      <th>1</th>\n",
       "      <td>2595</td>\n",
       "      <td>Skylit Midtown Castle</td>\n",
       "      <td>2845</td>\n",
       "      <td>Jennifer</td>\n",
       "      <td>Manhattan</td>\n",
       "      <td>Midtown</td>\n",
       "      <td>40.75362</td>\n",
       "      <td>-73.98377</td>\n",
       "      <td>Entire home/apt</td>\n",
       "      <td>225</td>\n",
       "      <td>1</td>\n",
       "      <td>45</td>\n",
       "      <td>2019-05-21</td>\n",
       "      <td>0.38</td>\n",
       "      <td>2</td>\n",
       "      <td>355</td>\n",
       "    </tr>\n",
       "    <tr>\n",
       "      <th>2</th>\n",
       "      <td>3647</td>\n",
       "      <td>THE VILLAGE OF HARLEM....NEW YORK !</td>\n",
       "      <td>4632</td>\n",
       "      <td>Elisabeth</td>\n",
       "      <td>Manhattan</td>\n",
       "      <td>Harlem</td>\n",
       "      <td>40.80902</td>\n",
       "      <td>-73.94190</td>\n",
       "      <td>Private room</td>\n",
       "      <td>150</td>\n",
       "      <td>3</td>\n",
       "      <td>0</td>\n",
       "      <td>NaN</td>\n",
       "      <td>NaN</td>\n",
       "      <td>1</td>\n",
       "      <td>365</td>\n",
       "    </tr>\n",
       "    <tr>\n",
       "      <th>3</th>\n",
       "      <td>3831</td>\n",
       "      <td>Cozy Entire Floor of Brownstone</td>\n",
       "      <td>4869</td>\n",
       "      <td>LisaRoxanne</td>\n",
       "      <td>Brooklyn</td>\n",
       "      <td>Clinton Hill</td>\n",
       "      <td>40.68514</td>\n",
       "      <td>-73.95976</td>\n",
       "      <td>Entire home/apt</td>\n",
       "      <td>89</td>\n",
       "      <td>1</td>\n",
       "      <td>270</td>\n",
       "      <td>2019-07-05</td>\n",
       "      <td>4.64</td>\n",
       "      <td>1</td>\n",
       "      <td>194</td>\n",
       "    </tr>\n",
       "    <tr>\n",
       "      <th>4</th>\n",
       "      <td>5022</td>\n",
       "      <td>Entire Apt: Spacious Studio/Loft by central park</td>\n",
       "      <td>7192</td>\n",
       "      <td>Laura</td>\n",
       "      <td>Manhattan</td>\n",
       "      <td>East Harlem</td>\n",
       "      <td>40.79851</td>\n",
       "      <td>-73.94399</td>\n",
       "      <td>Entire home/apt</td>\n",
       "      <td>80</td>\n",
       "      <td>10</td>\n",
       "      <td>9</td>\n",
       "      <td>2018-11-19</td>\n",
       "      <td>0.10</td>\n",
       "      <td>1</td>\n",
       "      <td>0</td>\n",
       "    </tr>\n",
       "  </tbody>\n",
       "</table>\n",
       "</div>"
      ],
      "text/plain": [
       "     id                                              name  host_id  \\\n",
       "0  2539                Clean & quiet apt home by the park     2787   \n",
       "1  2595                             Skylit Midtown Castle     2845   \n",
       "2  3647               THE VILLAGE OF HARLEM....NEW YORK !     4632   \n",
       "3  3831                   Cozy Entire Floor of Brownstone     4869   \n",
       "4  5022  Entire Apt: Spacious Studio/Loft by central park     7192   \n",
       "\n",
       "     host_name neighbourhood_group neighbourhood  latitude  longitude  \\\n",
       "0         John            Brooklyn    Kensington  40.64749  -73.97237   \n",
       "1     Jennifer           Manhattan       Midtown  40.75362  -73.98377   \n",
       "2    Elisabeth           Manhattan        Harlem  40.80902  -73.94190   \n",
       "3  LisaRoxanne            Brooklyn  Clinton Hill  40.68514  -73.95976   \n",
       "4        Laura           Manhattan   East Harlem  40.79851  -73.94399   \n",
       "\n",
       "         room_type  price  minimum_nights  number_of_reviews last_review  \\\n",
       "0     Private room    149               1                  9  2018-10-19   \n",
       "1  Entire home/apt    225               1                 45  2019-05-21   \n",
       "2     Private room    150               3                  0         NaN   \n",
       "3  Entire home/apt     89               1                270  2019-07-05   \n",
       "4  Entire home/apt     80              10                  9  2018-11-19   \n",
       "\n",
       "   reviews_per_month  calculated_host_listings_count  availability_365  \n",
       "0               0.21                               6               365  \n",
       "1               0.38                               2               355  \n",
       "2                NaN                               1               365  \n",
       "3               4.64                               1               194  \n",
       "4               0.10                               1                 0  "
      ]
     },
     "execution_count": 91,
     "metadata": {},
     "output_type": "execute_result"
    }
   ],
   "source": [
    "df.head()"
   ]
  },
  {
   "cell_type": "markdown",
   "id": "5172d216",
   "metadata": {
    "heading_collapsed": true
   },
   "source": [
    "## Naive Solution"
   ]
  },
  {
   "cell_type": "code",
   "execution_count": 58,
   "id": "fdca62d8",
   "metadata": {
    "hidden": true
   },
   "outputs": [],
   "source": [
    "df = pd.read_csv('../../../datasets/AB_NYC_2019.csv')"
   ]
  },
  {
   "cell_type": "code",
   "execution_count": 59,
   "id": "523687d3",
   "metadata": {
    "hidden": true
   },
   "outputs": [
    {
     "name": "stdout",
     "output_type": "stream",
     "text": [
      "<class 'pandas.core.frame.DataFrame'>\n",
      "RangeIndex: 48895 entries, 0 to 48894\n",
      "Data columns (total 16 columns):\n",
      " #   Column                          Non-Null Count  Dtype  \n",
      "---  ------                          --------------  -----  \n",
      " 0   id                              48895 non-null  int64  \n",
      " 1   name                            48879 non-null  object \n",
      " 2   host_id                         48895 non-null  int64  \n",
      " 3   host_name                       48874 non-null  object \n",
      " 4   neighbourhood_group             48895 non-null  object \n",
      " 5   neighbourhood                   48895 non-null  object \n",
      " 6   latitude                        48895 non-null  float64\n",
      " 7   longitude                       48895 non-null  float64\n",
      " 8   room_type                       48895 non-null  object \n",
      " 9   price                           48895 non-null  int64  \n",
      " 10  minimum_nights                  48895 non-null  int64  \n",
      " 11  number_of_reviews               48895 non-null  int64  \n",
      " 12  last_review                     38843 non-null  object \n",
      " 13  reviews_per_month               38843 non-null  float64\n",
      " 14  calculated_host_listings_count  48895 non-null  int64  \n",
      " 15  availability_365                48895 non-null  int64  \n",
      "dtypes: float64(3), int64(7), object(6)\n",
      "memory usage: 6.0+ MB\n"
     ]
    }
   ],
   "source": [
    "df.info()"
   ]
  },
  {
   "cell_type": "code",
   "execution_count": 51,
   "id": "4d0e6073",
   "metadata": {
    "hidden": true
   },
   "outputs": [],
   "source": [
    "df_numeric = df.drop(['id', 'name', 'host_id', 'host_name', 'neighbourhood_group', 'neighbourhood', 'room_type',\n",
    "                     'last_review'\n",
    "                     ], axis=1)"
   ]
  },
  {
   "cell_type": "code",
   "execution_count": 52,
   "id": "6bbd03d2",
   "metadata": {
    "hidden": true
   },
   "outputs": [],
   "source": [
    "nan_indices_df1 = df_numeric[df_numeric.isna().any(axis=1)].index"
   ]
  },
  {
   "cell_type": "code",
   "execution_count": 53,
   "id": "673c0c95",
   "metadata": {
    "hidden": true
   },
   "outputs": [],
   "source": [
    "df_numeric.drop(nan_indices_df1, inplace=True)"
   ]
  },
  {
   "cell_type": "code",
   "execution_count": 54,
   "id": "4265000f",
   "metadata": {
    "hidden": true
   },
   "outputs": [],
   "source": [
    "target = df_numeric['price']\n",
    "df_numeric.drop(['price'], axis=1, inplace=True)"
   ]
  },
  {
   "cell_type": "code",
   "execution_count": 55,
   "id": "b3655e3c",
   "metadata": {
    "hidden": true
   },
   "outputs": [
    {
     "data": {
      "text/plain": [
       "(38843, 38843)"
      ]
     },
     "execution_count": 55,
     "metadata": {},
     "output_type": "execute_result"
    }
   ],
   "source": [
    "len(df_numeric), len(target)"
   ]
  },
  {
   "cell_type": "code",
   "execution_count": 56,
   "id": "cd2aaf34",
   "metadata": {
    "hidden": true,
    "scrolled": true
   },
   "outputs": [],
   "source": [
    "X_train, X_test, y_train, y_test = train_test_split(df_numeric, target, test_size=0.2, random_state=42)"
   ]
  },
  {
   "cell_type": "code",
   "execution_count": 57,
   "id": "cc5288a9",
   "metadata": {
    "hidden": true
   },
   "outputs": [
    {
     "name": "stdout",
     "output_type": "stream",
     "text": [
      "Mean Squared Error: 27373.30743809134\n",
      "R-squared: 0.048695784366156514\n"
     ]
    }
   ],
   "source": [
    "model = LinearRegression()\n",
    "\n",
    "model.fit(X_train, y_train)\n",
    "\n",
    "y_pred = model.predict(X_test)\n",
    "\n",
    "mse = mean_squared_error(y_test, y_pred)\n",
    "r2 = r2_score(y_test, y_pred)\n",
    "\n",
    "print(f\"Mean Squared Error: {mse}\")\n",
    "print(f\"R-squared: {r2}\")"
   ]
  },
  {
   "cell_type": "markdown",
   "id": "caa84d71",
   "metadata": {
    "heading_collapsed": true
   },
   "source": [
    "## Less Naive"
   ]
  },
  {
   "cell_type": "code",
   "execution_count": 69,
   "id": "aed633ca",
   "metadata": {
    "hidden": true
   },
   "outputs": [],
   "source": [
    "from sklearn.preprocessing import StandardScaler, MinMaxScaler\n",
    "import numpy as np\n",
    "import pandas as pd\n",
    "from sklearn.model_selection import train_test_split\n",
    "from sklearn.linear_model import LinearRegression\n",
    "from sklearn.metrics import mean_squared_error, r2_score\n",
    "from sklearn.datasets import make_regression\n",
    "import matplotlib.pyplot as plt"
   ]
  },
  {
   "cell_type": "code",
   "execution_count": 2,
   "id": "ce0b8932",
   "metadata": {
    "hidden": true
   },
   "outputs": [],
   "source": [
    "df = pd.read_csv('../../../datasets/AB_NYC_2019.csv')"
   ]
  },
  {
   "cell_type": "code",
   "execution_count": 74,
   "id": "07827535",
   "metadata": {
    "hidden": true
   },
   "outputs": [],
   "source": [
    "df_numeric = df.drop(['id', 'name', 'host_id', 'host_name', 'last_review', 'neighbourhood'], axis=1)"
   ]
  },
  {
   "cell_type": "code",
   "execution_count": 75,
   "id": "aa0f6f84",
   "metadata": {
    "hidden": true
   },
   "outputs": [],
   "source": [
    "nan_indices_df1 = df_numeric[df_numeric.isna().any(axis=1)].index\n",
    "df_dummies = df_numeric.drop(nan_indices_df1)"
   ]
  },
  {
   "cell_type": "code",
   "execution_count": 76,
   "id": "1e0ea137",
   "metadata": {
    "hidden": true
   },
   "outputs": [],
   "source": [
    "df_dummies = pd.get_dummies(df_dummies, columns=['neighbourhood_group', 'room_type'])"
   ]
  },
  {
   "cell_type": "code",
   "execution_count": 77,
   "id": "6300f4a2",
   "metadata": {
    "hidden": true
   },
   "outputs": [],
   "source": [
    "target = df_dummies['price']\n",
    "df_dummies.drop(['price'], axis=1, inplace=True)"
   ]
  },
  {
   "cell_type": "code",
   "execution_count": 46,
   "id": "d27ff9f6",
   "metadata": {
    "hidden": true
   },
   "outputs": [],
   "source": [
    "assert len(df_normalized) == len(target)"
   ]
  },
  {
   "cell_type": "code",
   "execution_count": 78,
   "id": "6d1846dc",
   "metadata": {
    "hidden": true
   },
   "outputs": [],
   "source": [
    "X_train, X_test, y_train, y_test = train_test_split(df_dummies, target, test_size=0.2, random_state=42)"
   ]
  },
  {
   "cell_type": "code",
   "execution_count": 79,
   "id": "ba03a2b2",
   "metadata": {
    "hidden": true
   },
   "outputs": [
    {
     "name": "stdout",
     "output_type": "stream",
     "text": [
      "Mean Squared Error: 23954.273037870138\n",
      "R-squared: 0.1675174446892157\n"
     ]
    }
   ],
   "source": [
    "model = LinearRegression()\n",
    "\n",
    "model.fit(X_train, y_train)\n",
    "\n",
    "y_pred = model.predict(X_test)\n",
    "\n",
    "mse = mean_squared_error(y_test, y_pred)\n",
    "r2 = r2_score(y_test, y_pred)\n",
    "\n",
    "print(f\"Mean Squared Error: {mse}\")\n",
    "print(f\"R-squared: {r2}\")"
   ]
  },
  {
   "cell_type": "code",
   "execution_count": 80,
   "id": "1b0ee63b",
   "metadata": {
    "hidden": true
   },
   "outputs": [
    {
     "data": {
      "text/plain": [
       "3.34"
      ]
     },
     "execution_count": 80,
     "metadata": {},
     "output_type": "execute_result"
    }
   ],
   "source": [
    "0.167 / 0.05"
   ]
  },
  {
   "cell_type": "markdown",
   "id": "f90e0429",
   "metadata": {},
   "source": [
    "## Not Naive"
   ]
  },
  {
   "cell_type": "code",
   "execution_count": 7,
   "id": "9c582468",
   "metadata": {},
   "outputs": [],
   "source": [
    "df.drop(['id', 'host_id'], axis=1, inplace=True)"
   ]
  },
  {
   "cell_type": "code",
   "execution_count": 8,
   "id": "7b5fb1fd",
   "metadata": {},
   "outputs": [
    {
     "data": {
      "text/html": [
       "<div>\n",
       "<style scoped>\n",
       "    .dataframe tbody tr th:only-of-type {\n",
       "        vertical-align: middle;\n",
       "    }\n",
       "\n",
       "    .dataframe tbody tr th {\n",
       "        vertical-align: top;\n",
       "    }\n",
       "\n",
       "    .dataframe thead th {\n",
       "        text-align: right;\n",
       "    }\n",
       "</style>\n",
       "<table border=\"1\" class=\"dataframe\">\n",
       "  <thead>\n",
       "    <tr style=\"text-align: right;\">\n",
       "      <th></th>\n",
       "      <th>name</th>\n",
       "      <th>host_name</th>\n",
       "      <th>neighbourhood_group</th>\n",
       "      <th>neighbourhood</th>\n",
       "      <th>latitude</th>\n",
       "      <th>longitude</th>\n",
       "      <th>room_type</th>\n",
       "      <th>price</th>\n",
       "      <th>minimum_nights</th>\n",
       "      <th>number_of_reviews</th>\n",
       "      <th>last_review</th>\n",
       "      <th>reviews_per_month</th>\n",
       "      <th>calculated_host_listings_count</th>\n",
       "      <th>availability_365</th>\n",
       "    </tr>\n",
       "  </thead>\n",
       "  <tbody>\n",
       "    <tr>\n",
       "      <th>0</th>\n",
       "      <td>Clean &amp; quiet apt home by the park</td>\n",
       "      <td>John</td>\n",
       "      <td>Brooklyn</td>\n",
       "      <td>Kensington</td>\n",
       "      <td>40.64749</td>\n",
       "      <td>-73.97237</td>\n",
       "      <td>Private room</td>\n",
       "      <td>149</td>\n",
       "      <td>1</td>\n",
       "      <td>9</td>\n",
       "      <td>2018-10-19</td>\n",
       "      <td>0.21</td>\n",
       "      <td>6</td>\n",
       "      <td>365</td>\n",
       "    </tr>\n",
       "    <tr>\n",
       "      <th>1</th>\n",
       "      <td>Skylit Midtown Castle</td>\n",
       "      <td>Jennifer</td>\n",
       "      <td>Manhattan</td>\n",
       "      <td>Midtown</td>\n",
       "      <td>40.75362</td>\n",
       "      <td>-73.98377</td>\n",
       "      <td>Entire home/apt</td>\n",
       "      <td>225</td>\n",
       "      <td>1</td>\n",
       "      <td>45</td>\n",
       "      <td>2019-05-21</td>\n",
       "      <td>0.38</td>\n",
       "      <td>2</td>\n",
       "      <td>355</td>\n",
       "    </tr>\n",
       "    <tr>\n",
       "      <th>2</th>\n",
       "      <td>THE VILLAGE OF HARLEM....NEW YORK !</td>\n",
       "      <td>Elisabeth</td>\n",
       "      <td>Manhattan</td>\n",
       "      <td>Harlem</td>\n",
       "      <td>40.80902</td>\n",
       "      <td>-73.94190</td>\n",
       "      <td>Private room</td>\n",
       "      <td>150</td>\n",
       "      <td>3</td>\n",
       "      <td>0</td>\n",
       "      <td>NaN</td>\n",
       "      <td>NaN</td>\n",
       "      <td>1</td>\n",
       "      <td>365</td>\n",
       "    </tr>\n",
       "    <tr>\n",
       "      <th>3</th>\n",
       "      <td>Cozy Entire Floor of Brownstone</td>\n",
       "      <td>LisaRoxanne</td>\n",
       "      <td>Brooklyn</td>\n",
       "      <td>Clinton Hill</td>\n",
       "      <td>40.68514</td>\n",
       "      <td>-73.95976</td>\n",
       "      <td>Entire home/apt</td>\n",
       "      <td>89</td>\n",
       "      <td>1</td>\n",
       "      <td>270</td>\n",
       "      <td>2019-07-05</td>\n",
       "      <td>4.64</td>\n",
       "      <td>1</td>\n",
       "      <td>194</td>\n",
       "    </tr>\n",
       "    <tr>\n",
       "      <th>4</th>\n",
       "      <td>Entire Apt: Spacious Studio/Loft by central park</td>\n",
       "      <td>Laura</td>\n",
       "      <td>Manhattan</td>\n",
       "      <td>East Harlem</td>\n",
       "      <td>40.79851</td>\n",
       "      <td>-73.94399</td>\n",
       "      <td>Entire home/apt</td>\n",
       "      <td>80</td>\n",
       "      <td>10</td>\n",
       "      <td>9</td>\n",
       "      <td>2018-11-19</td>\n",
       "      <td>0.10</td>\n",
       "      <td>1</td>\n",
       "      <td>0</td>\n",
       "    </tr>\n",
       "  </tbody>\n",
       "</table>\n",
       "</div>"
      ],
      "text/plain": [
       "                                               name    host_name  \\\n",
       "0                Clean & quiet apt home by the park         John   \n",
       "1                             Skylit Midtown Castle     Jennifer   \n",
       "2               THE VILLAGE OF HARLEM....NEW YORK !    Elisabeth   \n",
       "3                   Cozy Entire Floor of Brownstone  LisaRoxanne   \n",
       "4  Entire Apt: Spacious Studio/Loft by central park        Laura   \n",
       "\n",
       "  neighbourhood_group neighbourhood  latitude  longitude        room_type  \\\n",
       "0            Brooklyn    Kensington  40.64749  -73.97237     Private room   \n",
       "1           Manhattan       Midtown  40.75362  -73.98377  Entire home/apt   \n",
       "2           Manhattan        Harlem  40.80902  -73.94190     Private room   \n",
       "3            Brooklyn  Clinton Hill  40.68514  -73.95976  Entire home/apt   \n",
       "4           Manhattan   East Harlem  40.79851  -73.94399  Entire home/apt   \n",
       "\n",
       "   price  minimum_nights  number_of_reviews last_review  reviews_per_month  \\\n",
       "0    149               1                  9  2018-10-19               0.21   \n",
       "1    225               1                 45  2019-05-21               0.38   \n",
       "2    150               3                  0         NaN                NaN   \n",
       "3     89               1                270  2019-07-05               4.64   \n",
       "4     80              10                  9  2018-11-19               0.10   \n",
       "\n",
       "   calculated_host_listings_count  availability_365  \n",
       "0                               6               365  \n",
       "1                               2               355  \n",
       "2                               1               365  \n",
       "3                               1               194  \n",
       "4                               1                 0  "
      ]
     },
     "execution_count": 8,
     "metadata": {},
     "output_type": "execute_result"
    }
   ],
   "source": [
    "df.head()"
   ]
  },
  {
   "cell_type": "code",
   "execution_count": null,
   "id": "5196425b",
   "metadata": {},
   "outputs": [],
   "source": []
  },
  {
   "cell_type": "code",
   "execution_count": null,
   "id": "f462f333",
   "metadata": {},
   "outputs": [],
   "source": []
  },
  {
   "cell_type": "code",
   "execution_count": null,
   "id": "37322ab4",
   "metadata": {},
   "outputs": [],
   "source": []
  },
  {
   "cell_type": "code",
   "execution_count": null,
   "id": "6140a92f",
   "metadata": {},
   "outputs": [],
   "source": []
  },
  {
   "cell_type": "code",
   "execution_count": null,
   "id": "e0613522",
   "metadata": {},
   "outputs": [],
   "source": []
  }
 ],
 "metadata": {
  "kernelspec": {
   "display_name": "all_purpose_venv",
   "language": "python",
   "name": "all_purpose_venv"
  },
  "language_info": {
   "codemirror_mode": {
    "name": "ipython",
    "version": 3
   },
   "file_extension": ".py",
   "mimetype": "text/x-python",
   "name": "python",
   "nbconvert_exporter": "python",
   "pygments_lexer": "ipython3",
   "version": "3.11.2"
  }
 },
 "nbformat": 4,
 "nbformat_minor": 5
}
