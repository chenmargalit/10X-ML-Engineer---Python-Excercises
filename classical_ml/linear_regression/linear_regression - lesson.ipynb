{
 "cells": [
  {
   "cell_type": "code",
   "execution_count": 11,
   "id": "4f120a12",
   "metadata": {},
   "outputs": [],
   "source": [
    "import numpy as np\n",
    "import matplotlib.pyplot as plt\n",
    "from sklearn.datasets import make_regression\n",
    "from sklearn.linear_model import LinearRegression\n",
    "from sklearn.model_selection import train_test_split\n",
    "from sklearn.metrics import mean_squared_error"
   ]
  },
  {
   "cell_type": "markdown",
   "id": "b7cb4575",
   "metadata": {
    "heading_collapsed": true
   },
   "source": [
    "# Linear Regression Easy Version"
   ]
  },
  {
   "cell_type": "code",
   "execution_count": 27,
   "id": "559235c7",
   "metadata": {
    "hidden": true
   },
   "outputs": [],
   "source": [
    "X, y = make_regression(n_samples=100, n_features=1, noise=10, random_state=0)"
   ]
  },
  {
   "cell_type": "code",
   "execution_count": 28,
   "id": "dc7d91a4",
   "metadata": {
    "hidden": true
   },
   "outputs": [
    {
     "data": {
      "text/html": [
       "<style>#sk-container-id-2 {\n",
       "  /* Definition of color scheme common for light and dark mode */\n",
       "  --sklearn-color-text: black;\n",
       "  --sklearn-color-line: gray;\n",
       "  /* Definition of color scheme for unfitted estimators */\n",
       "  --sklearn-color-unfitted-level-0: #fff5e6;\n",
       "  --sklearn-color-unfitted-level-1: #f6e4d2;\n",
       "  --sklearn-color-unfitted-level-2: #ffe0b3;\n",
       "  --sklearn-color-unfitted-level-3: chocolate;\n",
       "  /* Definition of color scheme for fitted estimators */\n",
       "  --sklearn-color-fitted-level-0: #f0f8ff;\n",
       "  --sklearn-color-fitted-level-1: #d4ebff;\n",
       "  --sklearn-color-fitted-level-2: #b3dbfd;\n",
       "  --sklearn-color-fitted-level-3: cornflowerblue;\n",
       "\n",
       "  /* Specific color for light theme */\n",
       "  --sklearn-color-text-on-default-background: var(--sg-text-color, var(--theme-code-foreground, var(--jp-content-font-color1, black)));\n",
       "  --sklearn-color-background: var(--sg-background-color, var(--theme-background, var(--jp-layout-color0, white)));\n",
       "  --sklearn-color-border-box: var(--sg-text-color, var(--theme-code-foreground, var(--jp-content-font-color1, black)));\n",
       "  --sklearn-color-icon: #696969;\n",
       "\n",
       "  @media (prefers-color-scheme: dark) {\n",
       "    /* Redefinition of color scheme for dark theme */\n",
       "    --sklearn-color-text-on-default-background: var(--sg-text-color, var(--theme-code-foreground, var(--jp-content-font-color1, white)));\n",
       "    --sklearn-color-background: var(--sg-background-color, var(--theme-background, var(--jp-layout-color0, #111)));\n",
       "    --sklearn-color-border-box: var(--sg-text-color, var(--theme-code-foreground, var(--jp-content-font-color1, white)));\n",
       "    --sklearn-color-icon: #878787;\n",
       "  }\n",
       "}\n",
       "\n",
       "#sk-container-id-2 {\n",
       "  color: var(--sklearn-color-text);\n",
       "}\n",
       "\n",
       "#sk-container-id-2 pre {\n",
       "  padding: 0;\n",
       "}\n",
       "\n",
       "#sk-container-id-2 input.sk-hidden--visually {\n",
       "  border: 0;\n",
       "  clip: rect(1px 1px 1px 1px);\n",
       "  clip: rect(1px, 1px, 1px, 1px);\n",
       "  height: 1px;\n",
       "  margin: -1px;\n",
       "  overflow: hidden;\n",
       "  padding: 0;\n",
       "  position: absolute;\n",
       "  width: 1px;\n",
       "}\n",
       "\n",
       "#sk-container-id-2 div.sk-dashed-wrapped {\n",
       "  border: 1px dashed var(--sklearn-color-line);\n",
       "  margin: 0 0.4em 0.5em 0.4em;\n",
       "  box-sizing: border-box;\n",
       "  padding-bottom: 0.4em;\n",
       "  background-color: var(--sklearn-color-background);\n",
       "}\n",
       "\n",
       "#sk-container-id-2 div.sk-container {\n",
       "  /* jupyter's `normalize.less` sets `[hidden] { display: none; }`\n",
       "     but bootstrap.min.css set `[hidden] { display: none !important; }`\n",
       "     so we also need the `!important` here to be able to override the\n",
       "     default hidden behavior on the sphinx rendered scikit-learn.org.\n",
       "     See: https://github.com/scikit-learn/scikit-learn/issues/21755 */\n",
       "  display: inline-block !important;\n",
       "  position: relative;\n",
       "}\n",
       "\n",
       "#sk-container-id-2 div.sk-text-repr-fallback {\n",
       "  display: none;\n",
       "}\n",
       "\n",
       "div.sk-parallel-item,\n",
       "div.sk-serial,\n",
       "div.sk-item {\n",
       "  /* draw centered vertical line to link estimators */\n",
       "  background-image: linear-gradient(var(--sklearn-color-text-on-default-background), var(--sklearn-color-text-on-default-background));\n",
       "  background-size: 2px 100%;\n",
       "  background-repeat: no-repeat;\n",
       "  background-position: center center;\n",
       "}\n",
       "\n",
       "/* Parallel-specific style estimator block */\n",
       "\n",
       "#sk-container-id-2 div.sk-parallel-item::after {\n",
       "  content: \"\";\n",
       "  width: 100%;\n",
       "  border-bottom: 2px solid var(--sklearn-color-text-on-default-background);\n",
       "  flex-grow: 1;\n",
       "}\n",
       "\n",
       "#sk-container-id-2 div.sk-parallel {\n",
       "  display: flex;\n",
       "  align-items: stretch;\n",
       "  justify-content: center;\n",
       "  background-color: var(--sklearn-color-background);\n",
       "  position: relative;\n",
       "}\n",
       "\n",
       "#sk-container-id-2 div.sk-parallel-item {\n",
       "  display: flex;\n",
       "  flex-direction: column;\n",
       "}\n",
       "\n",
       "#sk-container-id-2 div.sk-parallel-item:first-child::after {\n",
       "  align-self: flex-end;\n",
       "  width: 50%;\n",
       "}\n",
       "\n",
       "#sk-container-id-2 div.sk-parallel-item:last-child::after {\n",
       "  align-self: flex-start;\n",
       "  width: 50%;\n",
       "}\n",
       "\n",
       "#sk-container-id-2 div.sk-parallel-item:only-child::after {\n",
       "  width: 0;\n",
       "}\n",
       "\n",
       "/* Serial-specific style estimator block */\n",
       "\n",
       "#sk-container-id-2 div.sk-serial {\n",
       "  display: flex;\n",
       "  flex-direction: column;\n",
       "  align-items: center;\n",
       "  background-color: var(--sklearn-color-background);\n",
       "  padding-right: 1em;\n",
       "  padding-left: 1em;\n",
       "}\n",
       "\n",
       "\n",
       "/* Toggleable style: style used for estimator/Pipeline/ColumnTransformer box that is\n",
       "clickable and can be expanded/collapsed.\n",
       "- Pipeline and ColumnTransformer use this feature and define the default style\n",
       "- Estimators will overwrite some part of the style using the `sk-estimator` class\n",
       "*/\n",
       "\n",
       "/* Pipeline and ColumnTransformer style (default) */\n",
       "\n",
       "#sk-container-id-2 div.sk-toggleable {\n",
       "  /* Default theme specific background. It is overwritten whether we have a\n",
       "  specific estimator or a Pipeline/ColumnTransformer */\n",
       "  background-color: var(--sklearn-color-background);\n",
       "}\n",
       "\n",
       "/* Toggleable label */\n",
       "#sk-container-id-2 label.sk-toggleable__label {\n",
       "  cursor: pointer;\n",
       "  display: block;\n",
       "  width: 100%;\n",
       "  margin-bottom: 0;\n",
       "  padding: 0.5em;\n",
       "  box-sizing: border-box;\n",
       "  text-align: center;\n",
       "}\n",
       "\n",
       "#sk-container-id-2 label.sk-toggleable__label-arrow:before {\n",
       "  /* Arrow on the left of the label */\n",
       "  content: \"▸\";\n",
       "  float: left;\n",
       "  margin-right: 0.25em;\n",
       "  color: var(--sklearn-color-icon);\n",
       "}\n",
       "\n",
       "#sk-container-id-2 label.sk-toggleable__label-arrow:hover:before {\n",
       "  color: var(--sklearn-color-text);\n",
       "}\n",
       "\n",
       "/* Toggleable content - dropdown */\n",
       "\n",
       "#sk-container-id-2 div.sk-toggleable__content {\n",
       "  max-height: 0;\n",
       "  max-width: 0;\n",
       "  overflow: hidden;\n",
       "  text-align: left;\n",
       "  /* unfitted */\n",
       "  background-color: var(--sklearn-color-unfitted-level-0);\n",
       "}\n",
       "\n",
       "#sk-container-id-2 div.sk-toggleable__content.fitted {\n",
       "  /* fitted */\n",
       "  background-color: var(--sklearn-color-fitted-level-0);\n",
       "}\n",
       "\n",
       "#sk-container-id-2 div.sk-toggleable__content pre {\n",
       "  margin: 0.2em;\n",
       "  border-radius: 0.25em;\n",
       "  color: var(--sklearn-color-text);\n",
       "  /* unfitted */\n",
       "  background-color: var(--sklearn-color-unfitted-level-0);\n",
       "}\n",
       "\n",
       "#sk-container-id-2 div.sk-toggleable__content.fitted pre {\n",
       "  /* unfitted */\n",
       "  background-color: var(--sklearn-color-fitted-level-0);\n",
       "}\n",
       "\n",
       "#sk-container-id-2 input.sk-toggleable__control:checked~div.sk-toggleable__content {\n",
       "  /* Expand drop-down */\n",
       "  max-height: 200px;\n",
       "  max-width: 100%;\n",
       "  overflow: auto;\n",
       "}\n",
       "\n",
       "#sk-container-id-2 input.sk-toggleable__control:checked~label.sk-toggleable__label-arrow:before {\n",
       "  content: \"▾\";\n",
       "}\n",
       "\n",
       "/* Pipeline/ColumnTransformer-specific style */\n",
       "\n",
       "#sk-container-id-2 div.sk-label input.sk-toggleable__control:checked~label.sk-toggleable__label {\n",
       "  color: var(--sklearn-color-text);\n",
       "  background-color: var(--sklearn-color-unfitted-level-2);\n",
       "}\n",
       "\n",
       "#sk-container-id-2 div.sk-label.fitted input.sk-toggleable__control:checked~label.sk-toggleable__label {\n",
       "  background-color: var(--sklearn-color-fitted-level-2);\n",
       "}\n",
       "\n",
       "/* Estimator-specific style */\n",
       "\n",
       "/* Colorize estimator box */\n",
       "#sk-container-id-2 div.sk-estimator input.sk-toggleable__control:checked~label.sk-toggleable__label {\n",
       "  /* unfitted */\n",
       "  background-color: var(--sklearn-color-unfitted-level-2);\n",
       "}\n",
       "\n",
       "#sk-container-id-2 div.sk-estimator.fitted input.sk-toggleable__control:checked~label.sk-toggleable__label {\n",
       "  /* fitted */\n",
       "  background-color: var(--sklearn-color-fitted-level-2);\n",
       "}\n",
       "\n",
       "#sk-container-id-2 div.sk-label label.sk-toggleable__label,\n",
       "#sk-container-id-2 div.sk-label label {\n",
       "  /* The background is the default theme color */\n",
       "  color: var(--sklearn-color-text-on-default-background);\n",
       "}\n",
       "\n",
       "/* On hover, darken the color of the background */\n",
       "#sk-container-id-2 div.sk-label:hover label.sk-toggleable__label {\n",
       "  color: var(--sklearn-color-text);\n",
       "  background-color: var(--sklearn-color-unfitted-level-2);\n",
       "}\n",
       "\n",
       "/* Label box, darken color on hover, fitted */\n",
       "#sk-container-id-2 div.sk-label.fitted:hover label.sk-toggleable__label.fitted {\n",
       "  color: var(--sklearn-color-text);\n",
       "  background-color: var(--sklearn-color-fitted-level-2);\n",
       "}\n",
       "\n",
       "/* Estimator label */\n",
       "\n",
       "#sk-container-id-2 div.sk-label label {\n",
       "  font-family: monospace;\n",
       "  font-weight: bold;\n",
       "  display: inline-block;\n",
       "  line-height: 1.2em;\n",
       "}\n",
       "\n",
       "#sk-container-id-2 div.sk-label-container {\n",
       "  text-align: center;\n",
       "}\n",
       "\n",
       "/* Estimator-specific */\n",
       "#sk-container-id-2 div.sk-estimator {\n",
       "  font-family: monospace;\n",
       "  border: 1px dotted var(--sklearn-color-border-box);\n",
       "  border-radius: 0.25em;\n",
       "  box-sizing: border-box;\n",
       "  margin-bottom: 0.5em;\n",
       "  /* unfitted */\n",
       "  background-color: var(--sklearn-color-unfitted-level-0);\n",
       "}\n",
       "\n",
       "#sk-container-id-2 div.sk-estimator.fitted {\n",
       "  /* fitted */\n",
       "  background-color: var(--sklearn-color-fitted-level-0);\n",
       "}\n",
       "\n",
       "/* on hover */\n",
       "#sk-container-id-2 div.sk-estimator:hover {\n",
       "  /* unfitted */\n",
       "  background-color: var(--sklearn-color-unfitted-level-2);\n",
       "}\n",
       "\n",
       "#sk-container-id-2 div.sk-estimator.fitted:hover {\n",
       "  /* fitted */\n",
       "  background-color: var(--sklearn-color-fitted-level-2);\n",
       "}\n",
       "\n",
       "/* Specification for estimator info (e.g. \"i\" and \"?\") */\n",
       "\n",
       "/* Common style for \"i\" and \"?\" */\n",
       "\n",
       ".sk-estimator-doc-link,\n",
       "a:link.sk-estimator-doc-link,\n",
       "a:visited.sk-estimator-doc-link {\n",
       "  float: right;\n",
       "  font-size: smaller;\n",
       "  line-height: 1em;\n",
       "  font-family: monospace;\n",
       "  background-color: var(--sklearn-color-background);\n",
       "  border-radius: 1em;\n",
       "  height: 1em;\n",
       "  width: 1em;\n",
       "  text-decoration: none !important;\n",
       "  margin-left: 1ex;\n",
       "  /* unfitted */\n",
       "  border: var(--sklearn-color-unfitted-level-1) 1pt solid;\n",
       "  color: var(--sklearn-color-unfitted-level-1);\n",
       "}\n",
       "\n",
       ".sk-estimator-doc-link.fitted,\n",
       "a:link.sk-estimator-doc-link.fitted,\n",
       "a:visited.sk-estimator-doc-link.fitted {\n",
       "  /* fitted */\n",
       "  border: var(--sklearn-color-fitted-level-1) 1pt solid;\n",
       "  color: var(--sklearn-color-fitted-level-1);\n",
       "}\n",
       "\n",
       "/* On hover */\n",
       "div.sk-estimator:hover .sk-estimator-doc-link:hover,\n",
       ".sk-estimator-doc-link:hover,\n",
       "div.sk-label-container:hover .sk-estimator-doc-link:hover,\n",
       ".sk-estimator-doc-link:hover {\n",
       "  /* unfitted */\n",
       "  background-color: var(--sklearn-color-unfitted-level-3);\n",
       "  color: var(--sklearn-color-background);\n",
       "  text-decoration: none;\n",
       "}\n",
       "\n",
       "div.sk-estimator.fitted:hover .sk-estimator-doc-link.fitted:hover,\n",
       ".sk-estimator-doc-link.fitted:hover,\n",
       "div.sk-label-container:hover .sk-estimator-doc-link.fitted:hover,\n",
       ".sk-estimator-doc-link.fitted:hover {\n",
       "  /* fitted */\n",
       "  background-color: var(--sklearn-color-fitted-level-3);\n",
       "  color: var(--sklearn-color-background);\n",
       "  text-decoration: none;\n",
       "}\n",
       "\n",
       "/* Span, style for the box shown on hovering the info icon */\n",
       ".sk-estimator-doc-link span {\n",
       "  display: none;\n",
       "  z-index: 9999;\n",
       "  position: relative;\n",
       "  font-weight: normal;\n",
       "  right: .2ex;\n",
       "  padding: .5ex;\n",
       "  margin: .5ex;\n",
       "  width: min-content;\n",
       "  min-width: 20ex;\n",
       "  max-width: 50ex;\n",
       "  color: var(--sklearn-color-text);\n",
       "  box-shadow: 2pt 2pt 4pt #999;\n",
       "  /* unfitted */\n",
       "  background: var(--sklearn-color-unfitted-level-0);\n",
       "  border: .5pt solid var(--sklearn-color-unfitted-level-3);\n",
       "}\n",
       "\n",
       ".sk-estimator-doc-link.fitted span {\n",
       "  /* fitted */\n",
       "  background: var(--sklearn-color-fitted-level-0);\n",
       "  border: var(--sklearn-color-fitted-level-3);\n",
       "}\n",
       "\n",
       ".sk-estimator-doc-link:hover span {\n",
       "  display: block;\n",
       "}\n",
       "\n",
       "/* \"?\"-specific style due to the `<a>` HTML tag */\n",
       "\n",
       "#sk-container-id-2 a.estimator_doc_link {\n",
       "  float: right;\n",
       "  font-size: 1rem;\n",
       "  line-height: 1em;\n",
       "  font-family: monospace;\n",
       "  background-color: var(--sklearn-color-background);\n",
       "  border-radius: 1rem;\n",
       "  height: 1rem;\n",
       "  width: 1rem;\n",
       "  text-decoration: none;\n",
       "  /* unfitted */\n",
       "  color: var(--sklearn-color-unfitted-level-1);\n",
       "  border: var(--sklearn-color-unfitted-level-1) 1pt solid;\n",
       "}\n",
       "\n",
       "#sk-container-id-2 a.estimator_doc_link.fitted {\n",
       "  /* fitted */\n",
       "  border: var(--sklearn-color-fitted-level-1) 1pt solid;\n",
       "  color: var(--sklearn-color-fitted-level-1);\n",
       "}\n",
       "\n",
       "/* On hover */\n",
       "#sk-container-id-2 a.estimator_doc_link:hover {\n",
       "  /* unfitted */\n",
       "  background-color: var(--sklearn-color-unfitted-level-3);\n",
       "  color: var(--sklearn-color-background);\n",
       "  text-decoration: none;\n",
       "}\n",
       "\n",
       "#sk-container-id-2 a.estimator_doc_link.fitted:hover {\n",
       "  /* fitted */\n",
       "  background-color: var(--sklearn-color-fitted-level-3);\n",
       "}\n",
       "</style><div id=\"sk-container-id-2\" class=\"sk-top-container\"><div class=\"sk-text-repr-fallback\"><pre>LinearRegression()</pre><b>In a Jupyter environment, please rerun this cell to show the HTML representation or trust the notebook. <br />On GitHub, the HTML representation is unable to render, please try loading this page with nbviewer.org.</b></div><div class=\"sk-container\" hidden><div class=\"sk-item\"><div class=\"sk-estimator fitted sk-toggleable\"><input class=\"sk-toggleable__control sk-hidden--visually\" id=\"sk-estimator-id-2\" type=\"checkbox\" checked><label for=\"sk-estimator-id-2\" class=\"sk-toggleable__label fitted sk-toggleable__label-arrow fitted\">&nbsp;&nbsp;LinearRegression<a class=\"sk-estimator-doc-link fitted\" rel=\"noreferrer\" target=\"_blank\" href=\"https://scikit-learn.org/1.4/modules/generated/sklearn.linear_model.LinearRegression.html\">?<span>Documentation for LinearRegression</span></a><span class=\"sk-estimator-doc-link fitted\">i<span>Fitted</span></span></label><div class=\"sk-toggleable__content fitted\"><pre>LinearRegression()</pre></div> </div></div></div></div>"
      ],
      "text/plain": [
       "LinearRegression()"
      ]
     },
     "execution_count": 28,
     "metadata": {},
     "output_type": "execute_result"
    }
   ],
   "source": [
    "model = LinearRegression()\n",
    "model.fit(X, y)"
   ]
  },
  {
   "cell_type": "code",
   "execution_count": 29,
   "id": "a328a62b",
   "metadata": {
    "hidden": true
   },
   "outputs": [],
   "source": [
    "y_pred = model.predict(X)"
   ]
  },
  {
   "cell_type": "code",
   "execution_count": 30,
   "id": "7e1dab8b",
   "metadata": {
    "hidden": true
   },
   "outputs": [
    {
     "data": {
      "image/png": "[encoded data removed]",
      "text/plain": [
       "<Figure size 640x480 with 1 Axes>"
      ]
     },
     "metadata": {},
     "output_type": "display_data"
    },
    {
     "name": "stdout",
     "output_type": "stream",
     "text": [
      "Coefficients: [42.61943029]\n",
      "Intercept: -0.8141818270307248\n",
      "Mean Squared Error: 114.1714861681948\n"
     ]
    }
   ],
   "source": [
    "plt.scatter(X, y, color='blue', label='Actual data')\n",
    "plt.plot(X, y_pred, color='red', linewidth=2, label='Fitted line')\n",
    "plt.xlabel('Feature')\n",
    "plt.ylabel('Target')\n",
    "plt.title('Linear Regression')\n",
    "plt.legend()\n",
    "plt.show()\n",
    "\n",
    "print(f\"Coefficients: {model.coef_}\")\n",
    "print(f\"Intercept: {model.intercept_}\")\n",
    "print(f\"Mean Squared Error: {mean_squared_error(y, y_pred)}\")"
   ]
  },
  {
   "cell_type": "code",
   "execution_count": 31,
   "id": "3065cf92",
   "metadata": {
    "hidden": true
   },
   "outputs": [
    {
     "data": {
      "text/plain": [
       "array([[-0.35955316],\n",
       "       [ 0.97663904],\n",
       "       [ 0.40234164],\n",
       "       [-0.81314628],\n",
       "       [-0.88778575]])"
      ]
     },
     "execution_count": 31,
     "metadata": {},
     "output_type": "execute_result"
    }
   ],
   "source": [
    "X[:5]"
   ]
  },
  {
   "cell_type": "code",
   "execution_count": 32,
   "id": "54278055",
   "metadata": {
    "hidden": true
   },
   "outputs": [
    {
     "data": {
      "text/plain": [
       "array([-16.13813273,  40.80961751,  16.3333897 , -35.47001311,\n",
       "       -38.65110461])"
      ]
     },
     "execution_count": 32,
     "metadata": {},
     "output_type": "execute_result"
    }
   ],
   "source": [
    "y_pred[:5]"
   ]
  },
  {
   "cell_type": "code",
   "execution_count": 33,
   "id": "32be045b",
   "metadata": {
    "hidden": true
   },
   "outputs": [
    {
     "name": "stdout",
     "output_type": "stream",
     "text": [
      "Mean Squared Error: 0.6536995137170025\n",
      "Intercept: [4.14291332]\n",
      "Coefficient: [[2.79932366]]\n"
     ]
    }
   ],
   "source": [
    "np.random.seed(42)\n",
    "X = 2 * np.random.rand(100, 1)\n",
    "y = 4 + 3 * X + np.random.randn(100, 1)\n",
    "\n",
    "X_train, X_test, y_train, y_test = train_test_split(X, y, test_size=0.2, random_state=42)\n",
    "\n",
    "model = LinearRegression()\n",
    "\n",
    "model.fit(X_train, y_train)\n",
    "\n",
    "y_pred = model.predict(X_test)\n",
    "\n",
    "mse = mean_squared_error(y_test, y_pred)\n",
    "\n",
    "print(\"Mean Squared Error:\", mse)\n",
    "\n",
    "print(\"Intercept:\", model.intercept_)\n",
    "print(\"Coefficient:\", model.coef_)"
   ]
  },
  {
   "cell_type": "code",
   "execution_count": 34,
   "id": "05c4d619",
   "metadata": {
    "hidden": true
   },
   "outputs": [
    {
     "data": {
      "image/png": "[encoded data removed]",
      "text/plain": [
       "<Figure size 1000x600 with 1 Axes>"
      ]
     },
     "metadata": {},
     "output_type": "display_data"
    }
   ],
   "source": [
    "plt.figure(figsize=(10, 6))\n",
    "\n",
    "# plt.scatter(X_train, y_train, color='blue', label='Training data')\n",
    "\n",
    "plt.scatter(X_test, y_test, color='green', label='Testing data')\n",
    "\n",
    "X_range = np.linspace(X.min(), X.max(), 100).reshape(-1, 1)\n",
    "y_range = model.predict(X_range)\n",
    "plt.plot(X_range, y_range, color='red', linewidth=2, label='Regression line')\n",
    "\n",
    "plt.xlabel('Feature')\n",
    "plt.ylabel('Target')\n",
    "plt.title('Linear Regression')\n",
    "plt.legend()\n",
    "plt.grid(True)\n",
    "plt.show()"
   ]
  },
  {
   "cell_type": "markdown",
   "id": "7fe3d9b3",
   "metadata": {
    "heading_collapsed": true
   },
   "source": [
    "# Ordinary Least Squares"
   ]
  },
  {
   "cell_type": "markdown",
   "id": "99599e68",
   "metadata": {
    "hidden": true
   },
   "source": [
    "$$\n",
    "\\text{RSS} = \\sum_{i=1}^{n} (y_i - \\hat{y}_i)^2 = \\sum_{i=1}^{n} (y_i - (\\beta_0 + \\beta_1 X_i))^2\n",
    "$$\n"
   ]
  },
  {
   "cell_type": "markdown",
   "id": "31354a5b",
   "metadata": {
    "hidden": true
   },
   "source": [
    "$$\n",
    "\\begin{pmatrix}\n",
    "\\beta_0 \\\\\n",
    "\\beta_1\n",
    "\\end{pmatrix}\n",
    "=\n",
    "(X^T X)^{-1} X^T y\n",
    "$$\n"
   ]
  },
  {
   "cell_type": "markdown",
   "id": "f1f454bf",
   "metadata": {
    "hidden": true
   },
   "source": [
    "X is the design matrix that includes a column of ones for the intercept and the values of the independent variable."
   ]
  },
  {
   "cell_type": "code",
   "execution_count": 35,
   "id": "e3abf5db",
   "metadata": {
    "hidden": true
   },
   "outputs": [
    {
     "data": {
      "text/plain": [
       "array([[0.74908024],\n",
       "       [1.90142861],\n",
       "       [1.46398788]])"
      ]
     },
     "execution_count": 35,
     "metadata": {},
     "output_type": "execute_result"
    }
   ],
   "source": [
    "X[:3]"
   ]
  },
  {
   "cell_type": "code",
   "execution_count": 36,
   "id": "69877c5a",
   "metadata": {
    "hidden": true
   },
   "outputs": [
    {
     "data": {
      "text/plain": [
       "array([[0.74908024],\n",
       "       [1.90142861],\n",
       "       [1.46398788],\n",
       "       [1.19731697],\n",
       "       [0.31203728]])"
      ]
     },
     "execution_count": 36,
     "metadata": {},
     "output_type": "execute_result"
    }
   ],
   "source": [
    "X[:5]"
   ]
  },
  {
   "cell_type": "code",
   "execution_count": 37,
   "id": "968d09f5",
   "metadata": {
    "hidden": true,
    "scrolled": true
   },
   "outputs": [
    {
     "data": {
      "text/plain": [
       "array([[1.        , 0.74908024],\n",
       "       [1.        , 1.90142861],\n",
       "       [1.        , 1.46398788],\n",
       "       [1.        , 1.19731697],\n",
       "       [1.        , 0.31203728]])"
      ]
     },
     "execution_count": 37,
     "metadata": {},
     "output_type": "execute_result"
    }
   ],
   "source": [
    "concatenated_matr = np.hstack((np.ones((X.shape[0], 1)), X))\n",
    "concatenated_matr[:5]"
   ]
  },
  {
   "cell_type": "code",
   "execution_count": 61,
   "id": "f5ad5989",
   "metadata": {
    "hidden": true
   },
   "outputs": [],
   "source": [
    "temp_x = np.array([[4], [5], [6]])\n",
    "temp_y = np.array([[1], [2], [3]])"
   ]
  },
  {
   "cell_type": "code",
   "execution_count": 62,
   "id": "be95d6ec",
   "metadata": {
    "hidden": true
   },
   "outputs": [],
   "source": [
    "stacked_temp_x = np.hstack((np.ones((temp_x.shape[0], 1)), temp_x))"
   ]
  },
  {
   "cell_type": "markdown",
   "id": "7c72a202",
   "metadata": {
    "hidden": true
   },
   "source": [
    "$$\n",
    "X^T X = \n",
    "\\begin{pmatrix}\n",
    "\\sum_{i=1}^{n} 1 & \\sum_{i=1}^{n} X_i \\\\\n",
    "\\sum_{i=1}^{n} X_i & \\sum_{i=1}^{n} X_i^2\n",
    "\\end{pmatrix}\n",
    "=\n",
    "\\begin{pmatrix}\n",
    "n & \\sum_{i=1}^{n} X_i \\\\\n",
    "\\sum_{i=1}^{n} X_i & \\sum_{i=1}^{n} X_i^2\n",
    "\\end{pmatrix}\n",
    "$$\n"
   ]
  },
  {
   "cell_type": "code",
   "execution_count": 65,
   "id": "cb644c61",
   "metadata": {
    "hidden": true,
    "scrolled": true
   },
   "outputs": [
    {
     "data": {
      "text/plain": [
       "array([[ 3., 15.],\n",
       "       [15., 77.]])"
      ]
     },
     "execution_count": 65,
     "metadata": {},
     "output_type": "execute_result"
    }
   ],
   "source": [
    "stacked_temp_x.transpose() @ stacked_temp_x"
   ]
  },
  {
   "cell_type": "markdown",
   "id": "09acfc16",
   "metadata": {
    "hidden": true
   },
   "source": [
    "What does this matrix tell me?"
   ]
  },
  {
   "cell_type": "markdown",
   "id": "4c6e6df5",
   "metadata": {
    "hidden": true
   },
   "source": [
    "index 0,0: Provides the scale, indicating how many data points we have.\n",
    "\n",
    "index 0, 1/1, 0: Gives the overall magnitude of the independent variable. This term helps in computing the covariance between the independent variable and the dependent variable.\n",
    "\n",
    "index 1,1: Represents the distribution and variance of the independent variable. It's a key term in understanding how the independent variable changes."
   ]
  },
  {
   "cell_type": "code",
   "execution_count": 67,
   "id": "2f82a6f8",
   "metadata": {
    "hidden": true
   },
   "outputs": [
    {
     "data": {
      "text/plain": [
       "(3, 1)"
      ]
     },
     "execution_count": 67,
     "metadata": {},
     "output_type": "execute_result"
    }
   ],
   "source": [
    "temp_x.shape"
   ]
  },
  {
   "cell_type": "code",
   "execution_count": 68,
   "id": "3ed5ff94",
   "metadata": {
    "hidden": true
   },
   "outputs": [
    {
     "data": {
      "text/plain": [
       "array([[4],\n",
       "       [5],\n",
       "       [6]])"
      ]
     },
     "execution_count": 68,
     "metadata": {},
     "output_type": "execute_result"
    }
   ],
   "source": [
    "temp_x"
   ]
  },
  {
   "cell_type": "markdown",
   "id": "0c4aa585",
   "metadata": {
    "hidden": true
   },
   "source": [
    "$$X^T X$$\n",
    "\n",
    "is a matrix that combines the information from the independent variable and its interaction with itself.\n"
   ]
  },
  {
   "cell_type": "markdown",
   "id": "64d68eff",
   "metadata": {
    "hidden": true
   },
   "source": [
    "$$ X^Ty $$"
   ]
  },
  {
   "cell_type": "markdown",
   "id": "2b9ed370",
   "metadata": {
    "hidden": true
   },
   "source": [
    "captures the relationship between the independent variable and the observed values (its covariance)"
   ]
  },
  {
   "cell_type": "markdown",
   "id": "0602ef0e",
   "metadata": {
    "hidden": true
   },
   "source": [
    "$$\n",
    "X^T y = \n",
    "\\begin{pmatrix}\n",
    "\\sum_{i=1}^{n} y_i \\\\\n",
    "\\sum_{i=1}^{n} X_i y_i\n",
    "\\end{pmatrix}\n",
    "$$\n"
   ]
  },
  {
   "cell_type": "markdown",
   "id": "1d026c59",
   "metadata": {
    "hidden": true
   },
   "source": [
    "\n",
    "Index 0,0 : This provides information on the overall level of the dependent variable.\n",
    "\n",
    "Index 0,1: This term is crucial as it encapsulates how each independent variable is related to its corresponding observed value."
   ]
  },
  {
   "cell_type": "markdown",
   "id": "10ea41f3",
   "metadata": {
    "hidden": true
   },
   "source": [
    "$$ (X^T X)^{-1} $$"
   ]
  },
  {
   "cell_type": "markdown",
   "id": "f15425b7",
   "metadata": {
    "hidden": true
   },
   "source": [
    "is the inverse of the matrix. Normalizes the data."
   ]
  },
  {
   "cell_type": "code",
   "execution_count": 73,
   "id": "6fc9e23f",
   "metadata": {
    "hidden": true
   },
   "outputs": [
    {
     "data": {
      "text/plain": [
       "array([[ 0.03523199, -0.02683222],\n",
       "       [-0.02683222,  0.02853394]])"
      ]
     },
     "execution_count": 73,
     "metadata": {},
     "output_type": "execute_result"
    }
   ],
   "source": [
    "np.linalg.inv(concatenated_matr.transpose()@concatenated_matr)"
   ]
  },
  {
   "cell_type": "markdown",
   "id": "fd87383f",
   "metadata": {
    "heading_collapsed": true,
    "hidden": true
   },
   "source": [
    "### Exercise"
   ]
  },
  {
   "cell_type": "markdown",
   "id": "14bddef0",
   "metadata": {
    "hidden": true
   },
   "source": [
    "Implement the OLS technique"
   ]
  },
  {
   "cell_type": "code",
   "execution_count": 114,
   "id": "36e27704",
   "metadata": {
    "hidden": true
   },
   "outputs": [
    {
     "data": {
      "text/plain": [
       "114.1714861681948"
      ]
     },
     "execution_count": 114,
     "metadata": {},
     "output_type": "execute_result"
    }
   ],
   "source": [
    "X, y = make_regression(n_samples=100, n_features=1, noise=10, random_state=0)\n",
    "model = LinearRegression()\n",
    "model.fit(X, y)\n",
    "y_pred = model.predict(X)\n",
    "mean_squared_error(y_pred, y)"
   ]
  },
  {
   "cell_type": "code",
   "execution_count": 116,
   "id": "da2b2c6f",
   "metadata": {
    "hidden": true
   },
   "outputs": [
    {
     "name": "stdout",
     "output_type": "stream",
     "text": [
      "Coefficients: [42.61943029]\n",
      "Intercept: -0.8141818270307248\n"
     ]
    }
   ],
   "source": [
    "print(f\"Coefficients: {model.coef_}\")\n",
    "print(f\"Intercept: {model.intercept_}\")"
   ]
  },
  {
   "cell_type": "markdown",
   "id": "3c38b932",
   "metadata": {
    "hidden": true
   },
   "source": [
    "If you use this data, you should be getting pretty much the same results."
   ]
  },
  {
   "cell_type": "markdown",
   "id": "23dc0a5f",
   "metadata": {
    "hidden": true
   },
   "source": [
    "$$\n",
    "\\begin{pmatrix}\n",
    "\\beta_0 \\\\\n",
    "\\beta_1\n",
    "\\end{pmatrix}\n",
    "=\n",
    "(X^T X)^{-1} X^T y\n",
    "$$"
   ]
  },
  {
   "cell_type": "markdown",
   "id": "ed40c234",
   "metadata": {
    "hidden": true
   },
   "source": [
    "Note, X is not the feature matrix only, its a ones by feature matrix."
   ]
  },
  {
   "cell_type": "markdown",
   "id": "f20c5817",
   "metadata": {
    "hidden": true
   },
   "source": [
    "Also note, the -1 is the inverse of a matrix. How do you do that in Python?"
   ]
  },
  {
   "cell_type": "markdown",
   "id": "a051c5ec",
   "metadata": {
    "hidden": true
   },
   "source": [
    "#### Solutions"
   ]
  },
  {
   "cell_type": "code",
   "execution_count": 118,
   "id": "44125983",
   "metadata": {
    "hidden": true
   },
   "outputs": [],
   "source": [
    "def ols(X, y):\n",
    "    \n",
    "    X = np.hstack([np.ones((X.shape[0], 1)), X])\n",
    "    X_transpose = X.T\n",
    "    b, m = (np.linalg.inv(X_transpose @ X)) @ X_transpose @ y\n",
    "    return (b, m)"
   ]
  },
  {
   "cell_type": "code",
   "execution_count": 119,
   "id": "47aeae66",
   "metadata": {
    "hidden": true
   },
   "outputs": [
    {
     "data": {
      "text/plain": [
       "(-0.8141818270307214, 42.61943029136694)"
      ]
     },
     "execution_count": 119,
     "metadata": {},
     "output_type": "execute_result"
    }
   ],
   "source": [
    "X, y = make_regression(n_samples=100, n_features=1, noise=10, random_state=0)\n",
    "b, m = ols(X,y)\n",
    "b, m"
   ]
  },
  {
   "cell_type": "code",
   "execution_count": 111,
   "id": "fa34bc15",
   "metadata": {
    "hidden": true
   },
   "outputs": [],
   "source": [
    "def predict_(m, x, b):\n",
    "    return m * x + b"
   ]
  },
  {
   "cell_type": "code",
   "execution_count": 120,
   "id": "758a404a",
   "metadata": {
    "hidden": true
   },
   "outputs": [],
   "source": [
    "predictions = predict_(m, X, b)"
   ]
  },
  {
   "cell_type": "code",
   "execution_count": 125,
   "id": "0a367052",
   "metadata": {
    "hidden": true
   },
   "outputs": [
    {
     "data": {
      "text/plain": [
       "114.17148616819482"
      ]
     },
     "execution_count": 125,
     "metadata": {},
     "output_type": "execute_result"
    }
   ],
   "source": [
    "mean_squared_error(predictions, y)"
   ]
  },
  {
   "cell_type": "markdown",
   "id": "7fb68cac",
   "metadata": {
    "heading_collapsed": true
   },
   "source": [
    "# Linear Regression From Scratch"
   ]
  },
  {
   "cell_type": "markdown",
   "id": "73303e29",
   "metadata": {
    "heading_collapsed": true,
    "hidden": true
   },
   "source": [
    "## MSE"
   ]
  },
  {
   "cell_type": "code",
   "execution_count": 236,
   "id": "253ebd1e",
   "metadata": {
    "hidden": true
   },
   "outputs": [],
   "source": [
    "def mean_squared_error_1(y_true, y_pred):\n",
    "\n",
    "    mse = sum((true - pred) ** 2 for true, pred in zip(y_true, y_pred)) / len(y_true)\n",
    "    return mse"
   ]
  },
  {
   "cell_type": "code",
   "execution_count": 245,
   "id": "a75cbcd9",
   "metadata": {
    "hidden": true
   },
   "outputs": [
    {
     "name": "stdout",
     "output_type": "stream",
     "text": [
      "Mean Squared Error: 0.375\n"
     ]
    }
   ],
   "source": [
    "y_true = [3, -0.5, 2, 7]\n",
    "y_pred = [2.5, 0.0, 2, 8]\n",
    "mse = mean_squared_error(y_true, y_pred)\n",
    "print(f\"Mean Squared Error: {mse}\")"
   ]
  },
  {
   "cell_type": "code",
   "execution_count": 246,
   "id": "a8026f9c",
   "metadata": {
    "hidden": true
   },
   "outputs": [],
   "source": [
    "def mean_squared_error_2(y_true, y_pred):\n",
    "    y_true = np.array(y_true)\n",
    "    y_pred = np.array(y_pred)\n",
    "    mse = np.mean((y_true - y_pred) ** 2)\n",
    "    return mse"
   ]
  },
  {
   "cell_type": "code",
   "execution_count": 247,
   "id": "d20ffacc",
   "metadata": {
    "hidden": true
   },
   "outputs": [],
   "source": [
    "assert mean_squared_error_1(y_true, y_pred) == mean_squared_error_2(y_true, y_pred)"
   ]
  },
  {
   "cell_type": "code",
   "execution_count": 248,
   "id": "60ca4521",
   "metadata": {
    "hidden": true
   },
   "outputs": [
    {
     "name": "stdout",
     "output_type": "stream",
     "text": [
      "Mean Squared Error: 0.375\n"
     ]
    }
   ],
   "source": [
    "mse = mean_squared_error(y_true, y_pred)\n",
    "print(f\"Mean Squared Error: {mse}\")"
   ]
  },
  {
   "cell_type": "markdown",
   "id": "03b3ec79",
   "metadata": {
    "hidden": true
   },
   "source": [
    "## Derivative with respect to m"
   ]
  },
  {
   "cell_type": "markdown",
   "id": "7309c52a",
   "metadata": {
    "hidden": true
   },
   "source": [
    "$$\n",
    "\\frac{\\partial \\text{MSE}}{\\partial m} = \\frac{\\partial \\text{MSE}}{\\partial \\hat{y}_i} \\cdot \\frac{\\partial \\hat{y}_i}{\\partial m}\n",
    "$$"
   ]
  },
  {
   "attachments": {
    "image.png": {
     "image/png": "[encoded data removed]"
    }
   },
   "cell_type": "markdown",
   "id": "e7773b05",
   "metadata": {
    "hidden": true
   },
   "source": [
    "![image.png](attachment:image.png)"
   ]
  },
  {
   "attachments": {
    "image.png": {
     "image/png": "[encoded data removed]"
    }
   },
   "cell_type": "markdown",
   "id": "bf6a78f4",
   "metadata": {
    "hidden": true
   },
   "source": [
    "![image.png](attachment:image.png)"
   ]
  },
  {
   "cell_type": "markdown",
   "id": "d8d4bc7e",
   "metadata": {
    "hidden": true
   },
   "source": [
    "Gradient with respect to m --> 2 * (y - (mx + b)) * x --> -2x * (y - (mx + b))"
   ]
  },
  {
   "cell_type": "markdown",
   "id": "66912079",
   "metadata": {
    "hidden": true
   },
   "source": [
    "Gradient with respect to b --> 2 * (y - (mx + b)) * 1 --> -2 * (y - (mx + b))"
   ]
  },
  {
   "cell_type": "markdown",
   "id": "971a592f",
   "metadata": {
    "heading_collapsed": true,
    "hidden": true
   },
   "source": [
    "### Exercise"
   ]
  },
  {
   "cell_type": "markdown",
   "id": "676f4868",
   "metadata": {
    "hidden": true
   },
   "source": [
    "Take this dataset, and implement a gradient descent linear regression model that best fits a line to that data."
   ]
  },
  {
   "cell_type": "code",
   "execution_count": 73,
   "id": "47d86e97",
   "metadata": {
    "hidden": true
   },
   "outputs": [],
   "source": [
    "X = 2 * np.random.rand(n_samples, 1)\n",
    "X2 = 3 * np.random.rand(n_samples, 1)\n",
    "y = 5 + 4 * X + 2 * X2 + np.random.randn(n_samples, 1) * 0.5"
   ]
  },
  {
   "cell_type": "code",
   "execution_count": 74,
   "id": "ad6022bc",
   "metadata": {
    "hidden": true
   },
   "outputs": [],
   "source": [
    "def predict(m, x, b):\n",
    "    return m * x + b"
   ]
  },
  {
   "cell_type": "code",
   "execution_count": 75,
   "id": "20dd21a8",
   "metadata": {
    "hidden": true
   },
   "outputs": [
    {
     "data": {
      "text/plain": [
       "array([1.46398788])"
      ]
     },
     "execution_count": 75,
     "metadata": {},
     "output_type": "execute_result"
    }
   ],
   "source": [
    "X[0]"
   ]
  },
  {
   "cell_type": "code",
   "execution_count": 76,
   "id": "ac5d272f",
   "metadata": {
    "hidden": true
   },
   "outputs": [
    {
     "data": {
      "text/plain": [
       "14"
      ]
     },
     "execution_count": 76,
     "metadata": {},
     "output_type": "execute_result"
    }
   ],
   "source": [
    "predict(3, 4, 2)"
   ]
  },
  {
   "cell_type": "markdown",
   "id": "76535462",
   "metadata": {
    "heading_collapsed": true,
    "hidden": true
   },
   "source": [
    "### Instructions:"
   ]
  },
  {
   "cell_type": "markdown",
   "id": "a35b4f9d",
   "metadata": {
    "hidden": true
   },
   "source": [
    "m_gradient = -2/n * np.sum(errors * X)\n",
    "\n",
    "b_gradient = -2/n * np.sum(errors)"
   ]
  },
  {
   "cell_type": "markdown",
   "id": "b5442326",
   "metadata": {
    "hidden": true
   },
   "source": [
    "1. Decide on a learning rate and number of iterations.\n",
    "2. Create a random m and a random b\n",
    "\n",
    "3. create a training loop, for every iteration, do the following:\n",
    "4. Calculate one prediction according to the straight line formula (mx + b). *Make sure X is one dimensional, otherwise you will have broadcasting issues which leads to wrong calculations. You might want to use numpy's flatten method.\n",
    "5. calculate the error, e.g. the gap between the label and the predicted label\n",
    "6. Calculate a new m in the following form:\n",
    "    Reduce (lr times m_gradient) from m.\n",
    "7. Do the same for b (with its respective gradient)"
   ]
  },
  {
   "cell_type": "markdown",
   "id": "b3fe59ca",
   "metadata": {
    "hidden": true
   },
   "source": [
    "You now hopefully have an efficient m and b"
   ]
  },
  {
   "cell_type": "markdown",
   "id": "a580ed70",
   "metadata": {
    "hidden": true
   },
   "source": [
    "Now generate a prediction, using your m and b."
   ]
  },
  {
   "cell_type": "markdown",
   "id": "c063720f",
   "metadata": {
    "hidden": true
   },
   "source": [
    "Write you own mse function and calculate the mean error."
   ]
  },
  {
   "cell_type": "markdown",
   "id": "ba074df8",
   "metadata": {
    "hidden": true
   },
   "source": [
    "Use this plotting code to see how close are you"
   ]
  },
  {
   "cell_type": "code",
   "execution_count": 78,
   "id": "cc213f3a",
   "metadata": {
    "hidden": true
   },
   "outputs": [
    {
     "data": {
      "text/plain": [
       "Text(0.5, 1.0, 'Linear Regression from Scratch')"
      ]
     },
     "execution_count": 78,
     "metadata": {},
     "output_type": "execute_result"
    },
    {
     "data": {
      "image/png": "[encoded data removed]",
      "text/plain": [
       "<Figure size 640x480 with 1 Axes>"
      ]
     },
     "metadata": {},
     "output_type": "display_data"
    }
   ],
   "source": [
    "plt.scatter(X, y, color=\"blue\", label=\"Data points\")\n",
    "plt.plot(X, y_pred, color=\"red\", label=\"Regression line\")\n",
    "plt.xlabel(\"X\")\n",
    "plt.ylabel(\"y\")\n",
    "plt.legend()\n",
    "plt.title(\"Linear Regression from Scratch\")"
   ]
  },
  {
   "cell_type": "markdown",
   "id": "e8e04c11",
   "metadata": {
    "hidden": true
   },
   "source": [
    "### Solution"
   ]
  },
  {
   "cell_type": "code",
   "execution_count": 99,
   "id": "dcdb2169",
   "metadata": {
    "hidden": true
   },
   "outputs": [
    {
     "name": "stdout",
     "output_type": "stream",
     "text": [
      "Estimated slope (m): [5.56990958]\n",
      "Estimated intercept (b): [5.36453179]\n"
     ]
    }
   ],
   "source": [
    "np.random.seed(42)\n",
    "\n",
    "\n",
    "m = np.random.randn(1)\n",
    "b = np.random.randn(1)\n",
    "\n",
    "learning_rate = 0.1\n",
    "n_iterations = 5\n",
    "n = len(y_train)\n",
    "\n",
    "for iteration in range(n_iterations):\n",
    "    y_pred = m * X_train + b\n",
    "    errors = y_train - y_pred\n",
    "    m_gradient = -2/n * np.sum(errors * X_train)\n",
    "    b_gradient = -2/n * np.sum(errors)\n",
    "    m = m - learning_rate * m_gradient\n",
    "    b = b - learning_rate * b_gradient\n",
    "\n",
    "print(\"Estimated slope (m):\", m)\n",
    "print(\"Estimated intercept (b):\", b)"
   ]
  },
  {
   "cell_type": "code",
   "execution_count": 222,
   "id": "0566160e",
   "metadata": {
    "hidden": true
   },
   "outputs": [
    {
     "name": "stdout",
     "output_type": "stream",
     "text": [
      "Estimated slope (m): [42.61943019]\n",
      "Estimated intercept (b): [-0.81418173]\n"
     ]
    }
   ],
   "source": [
    "np.random.seed(42)\n",
    "\n",
    "\n",
    "m = np.random.randn(1)\n",
    "b = np.random.randn(1)\n",
    "\n",
    "learning_rate = 0.01\n",
    "epochs = 1000\n",
    "n = len(y)\n",
    "X = X.flatten()\n",
    "\n",
    "for epoch in range(epochs):\n",
    "    y_pred = m * X + b\n",
    "    errors = y - y_pred\n",
    "    m_gradient = -2/n * np.sum(errors * X)\n",
    "    b_gradient = -2/n * np.sum(errors)\n",
    "    m = m - learning_rate * m_gradient\n",
    "    b = b - learning_rate * b_gradient\n",
    "\n",
    "print(\"Estimated slope (m):\", m)\n",
    "print(\"Estimated intercept (b):\", b)"
   ]
  },
  {
   "cell_type": "code",
   "execution_count": 220,
   "id": "142d9f02",
   "metadata": {
    "hidden": true
   },
   "outputs": [],
   "source": [
    "y_pred = m * X + b\n",
    "\n",
    "mse = np.mean((y - y_pred) ** 2)"
   ]
  },
  {
   "cell_type": "code",
   "execution_count": 221,
   "id": "bd48286c",
   "metadata": {
    "hidden": true
   },
   "outputs": [
    {
     "data": {
      "text/plain": [
       "114.1714862071646"
      ]
     },
     "execution_count": 221,
     "metadata": {},
     "output_type": "execute_result"
    }
   ],
   "source": [
    "mse"
   ]
  },
  {
   "cell_type": "code",
   "execution_count": 210,
   "id": "75a9ea7f",
   "metadata": {
    "hidden": true
   },
   "outputs": [
    {
     "data": {
      "text/plain": [
       "(5, 1)"
      ]
     },
     "execution_count": 210,
     "metadata": {},
     "output_type": "execute_result"
    }
   ],
   "source": [
    "x[:5].shape"
   ]
  },
  {
   "cell_type": "code",
   "execution_count": 212,
   "id": "a7624431",
   "metadata": {
    "hidden": true
   },
   "outputs": [
    {
     "data": {
      "text/plain": [
       "(5,)"
      ]
     },
     "execution_count": 212,
     "metadata": {},
     "output_type": "execute_result"
    }
   ],
   "source": [
    "x[:5].flatten().shape"
   ]
  },
  {
   "cell_type": "code",
   "execution_count": 225,
   "id": "d8500670",
   "metadata": {
    "hidden": true
   },
   "outputs": [
    {
     "name": "stdout",
     "output_type": "stream",
     "text": [
      "Mean Squared Error: 114.1714862071646\n"
     ]
    },
    {
     "data": {
      "text/plain": [
       "Text(0.5, 1.0, 'Linear Regression from Scratch')"
      ]
     },
     "execution_count": 225,
     "metadata": {},
     "output_type": "execute_result"
    },
    {
     "data": {
      "image/png": "[encoded data removed]",
      "text/plain": [
       "<Figure size 640x480 with 1 Axes>"
      ]
     },
     "metadata": {},
     "output_type": "display_data"
    }
   ],
   "source": [
    "print(\"Mean Squared Error:\", mse)\n",
    "\n",
    "plt.scatter(x, y, color=\"blue\", label=\"Data points\")\n",
    "plt.plot(x, y_pred, color=\"red\", label=\"Regression line\")\n",
    "plt.xlabel(\"X\")\n",
    "plt.ylabel(\"y\")\n",
    "plt.legend()\n",
    "plt.title(\"Linear Regression from Scratch\")"
   ]
  },
  {
   "cell_type": "markdown",
   "id": "e1683dc2",
   "metadata": {
    "heading_collapsed": true
   },
   "source": [
    "# Handling Overfit"
   ]
  },
  {
   "cell_type": "markdown",
   "id": "be105bbd",
   "metadata": {
    "hidden": true
   },
   "source": [
    "## Train/Test Split"
   ]
  },
  {
   "cell_type": "markdown",
   "id": "82fdd979",
   "metadata": {
    "hidden": true
   },
   "source": [
    "Why is it important to split data into train/test?"
   ]
  },
  {
   "cell_type": "markdown",
   "id": "52cd3fde",
   "metadata": {
    "hidden": true
   },
   "source": [
    "### Exercise"
   ]
  },
  {
   "cell_type": "markdown",
   "id": "b76cfddc",
   "metadata": {
    "hidden": true
   },
   "source": [
    "Build your own version of test_train_split. You get an x and y, you need to return each feature divided into two configurable groups.\n",
    "\n",
    "Add the possibility to decide what is the size of each group (train/test) and whether the data should be shuffled. Feel free to add anything else you want."
   ]
  },
  {
   "cell_type": "markdown",
   "id": "4346b0a4",
   "metadata": {
    "hidden": true
   },
   "source": [
    "#### solution"
   ]
  },
  {
   "cell_type": "code",
   "execution_count": 250,
   "id": "3d820a8d",
   "metadata": {
    "hidden": true
   },
   "outputs": [],
   "source": [
    "def random_data_split(X, y, test_size=0.2, random_state=None):\n",
    "\n",
    "    if random_state is not None:\n",
    "        np.random.seed(random_state)\n",
    "\n",
    "    indices = np.arange(X.shape[0])\n",
    "    np.random.shuffle(indices)\n",
    "    \n",
    "    split_index = int(X.shape[0] * (1 - test_size))\n",
    "    \n",
    "    X_train = X[indices[:split_index]]\n",
    "    X_test = X[indices[split_index:]]\n",
    "    y_train = y[indices[:split_index]]\n",
    "    y_test = y[indices[split_index:]]\n",
    "    \n",
    "    return X_train, X_test, y_train, y_test\n",
    "\n",
    "X = np.array([\n",
    "    [-0.35955316], [0.97663904], [0.40234164], [-0.81314628], [-0.88778575],\n",
    "    [0.44386323], [-0.97727788], [0.42833187], [0.20827498], [-0.31155253],\n",
    "    [-0.51080514], [0.12691209], [-1.53624369], [-0.40178094], [0.6536186],\n",
    "    [1.17877957], [-0.17992484], [1.78587049], [1.45427351], [-0.68481009]\n",
    "])\n",
    "y = np.array([\n",
    "    -1.99558856e+01, 2.13397727e+01, 1.15568946e+01, -1.63420692e+01,\n",
    "    -3.57006385e+01, 2.79953955e+01, -5.63235304e+01, 1.76104141e+01,\n",
    "    2.14510620e+01, -2.23528647e+01, -2.74674636e+01, 9.30231368e+00,\n",
    "    -7.64902562e+01, -2.83346523e+01, 3.06916745e+01, 6.04429895e+01,\n",
    "    -5.12662959e+00, 7.38599937e+01, 8.02758700e+01, -2.38147640e+01\n",
    "])\n"
   ]
  },
  {
   "cell_type": "code",
   "execution_count": 261,
   "id": "ba2a3410",
   "metadata": {
    "hidden": true
   },
   "outputs": [
    {
     "data": {
      "text/plain": [
       "array([ 2,  0,  5, 12, 10, 15, 14,  4, 16,  8])"
      ]
     },
     "execution_count": 261,
     "metadata": {},
     "output_type": "execute_result"
    }
   ],
   "source": [
    "indices = np.arange(X.shape[0])\n",
    "np.random.shuffle(indices)\n",
    "indices[:10]"
   ]
  }
 ],
 "metadata": {
  "kernelspec": {
   "display_name": "all_purpose_venv",
   "language": "python",
   "name": "all_purpose_venv"
  },
  "language_info": {
   "codemirror_mode": {
    "name": "ipython",
    "version": 3
   },
   "file_extension": ".py",
   "mimetype": "text/x-python",
   "name": "python",
   "nbconvert_exporter": "python",
   "pygments_lexer": "ipython3",
   "version": "3.11.2"
  }
 },
 "nbformat": 4,
 "nbformat_minor": 5
}
