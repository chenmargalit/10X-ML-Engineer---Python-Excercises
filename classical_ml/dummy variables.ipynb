{
 "cells": [
  {
   "cell_type": "code",
   "execution_count": 1,
   "id": "58375fdc",
   "metadata": {},
   "outputs": [],
   "source": [
    "import pandas as pd"
   ]
  },
  {
   "cell_type": "markdown",
   "id": "b49fc943",
   "metadata": {},
   "source": [
    "# Handling Categorical Features Using Dummy Variables"
   ]
  },
  {
   "cell_type": "markdown",
   "id": "8a923ea4",
   "metadata": {},
   "source": [
    "When working with machine learning models, handling categorical features is essential. Many algorithms require that all input features be numeric, so it's necessary to transform any categorical variables into a format that the model can understand.\n",
    "\n",
    "One of the most common techniques to handle categorical variables is **One-Hot Encoding**, which creates **dummy variables** for each category in the feature. This is a powerful and easy-to-use approach to convert categorical features into numeric features."
   ]
  },
  {
   "cell_type": "markdown",
   "id": "7d1ce25f",
   "metadata": {},
   "source": [
    "## Example Dataset"
   ]
  },
  {
   "cell_type": "code",
   "execution_count": 2,
   "id": "71aa0f36",
   "metadata": {},
   "outputs": [
    {
     "data": {
      "text/html": [
       "<div>\n",
       "<style scoped>\n",
       "    .dataframe tbody tr th:only-of-type {\n",
       "        vertical-align: middle;\n",
       "    }\n",
       "\n",
       "    .dataframe tbody tr th {\n",
       "        vertical-align: top;\n",
       "    }\n",
       "\n",
       "    .dataframe thead th {\n",
       "        text-align: right;\n",
       "    }\n",
       "</style>\n",
       "<table border=\"1\" class=\"dataframe\">\n",
       "  <thead>\n",
       "    <tr style=\"text-align: right;\">\n",
       "      <th></th>\n",
       "      <th>City</th>\n",
       "      <th>Temperature</th>\n",
       "      <th>Rain</th>\n",
       "    </tr>\n",
       "  </thead>\n",
       "  <tbody>\n",
       "    <tr>\n",
       "      <th>0</th>\n",
       "      <td>New York</td>\n",
       "      <td>60</td>\n",
       "      <td>Yes</td>\n",
       "    </tr>\n",
       "    <tr>\n",
       "      <th>1</th>\n",
       "      <td>Los Angeles</td>\n",
       "      <td>75</td>\n",
       "      <td>No</td>\n",
       "    </tr>\n",
       "    <tr>\n",
       "      <th>2</th>\n",
       "      <td>Chicago</td>\n",
       "      <td>55</td>\n",
       "      <td>Yes</td>\n",
       "    </tr>\n",
       "    <tr>\n",
       "      <th>3</th>\n",
       "      <td>Houston</td>\n",
       "      <td>80</td>\n",
       "      <td>No</td>\n",
       "    </tr>\n",
       "    <tr>\n",
       "      <th>4</th>\n",
       "      <td>Phoenix</td>\n",
       "      <td>85</td>\n",
       "      <td>No</td>\n",
       "    </tr>\n",
       "  </tbody>\n",
       "</table>\n",
       "</div>"
      ],
      "text/plain": [
       "          City  Temperature Rain\n",
       "0     New York           60  Yes\n",
       "1  Los Angeles           75   No\n",
       "2      Chicago           55  Yes\n",
       "3      Houston           80   No\n",
       "4      Phoenix           85   No"
      ]
     },
     "execution_count": 2,
     "metadata": {},
     "output_type": "execute_result"
    }
   ],
   "source": [
    "\n",
    "data = {\n",
    "    'City': ['New York', 'Los Angeles', 'Chicago', 'Houston', 'Phoenix'],\n",
    "    'Temperature': [60, 75, 55, 80, 85],\n",
    "    'Rain': ['Yes', 'No', 'Yes', 'No', 'No']\n",
    "}\n",
    "\n",
    "df = pd.DataFrame(data)\n",
    "\n",
    "df"
   ]
  },
  {
   "cell_type": "markdown",
   "id": "fe329b10",
   "metadata": {},
   "source": [
    "The dataset contains two categorical features, `City` and `Rain`. Our goal is to transform these features into numeric features using **dummy variables**."
   ]
  },
  {
   "cell_type": "markdown",
   "id": "4cd5c3e1",
   "metadata": {},
   "source": [
    "## One-Hot Encoding with `pandas.get_dummies()`"
   ]
  },
  {
   "cell_type": "code",
   "execution_count": 3,
   "id": "952faadc",
   "metadata": {},
   "outputs": [
    {
     "data": {
      "text/html": [
       "<div>\n",
       "<style scoped>\n",
       "    .dataframe tbody tr th:only-of-type {\n",
       "        vertical-align: middle;\n",
       "    }\n",
       "\n",
       "    .dataframe tbody tr th {\n",
       "        vertical-align: top;\n",
       "    }\n",
       "\n",
       "    .dataframe thead th {\n",
       "        text-align: right;\n",
       "    }\n",
       "</style>\n",
       "<table border=\"1\" class=\"dataframe\">\n",
       "  <thead>\n",
       "    <tr style=\"text-align: right;\">\n",
       "      <th></th>\n",
       "      <th>Temperature</th>\n",
       "      <th>City_Houston</th>\n",
       "      <th>City_Los Angeles</th>\n",
       "      <th>City_New York</th>\n",
       "      <th>City_Phoenix</th>\n",
       "      <th>Rain_Yes</th>\n",
       "    </tr>\n",
       "  </thead>\n",
       "  <tbody>\n",
       "    <tr>\n",
       "      <th>0</th>\n",
       "      <td>60</td>\n",
       "      <td>False</td>\n",
       "      <td>False</td>\n",
       "      <td>True</td>\n",
       "      <td>False</td>\n",
       "      <td>True</td>\n",
       "    </tr>\n",
       "    <tr>\n",
       "      <th>1</th>\n",
       "      <td>75</td>\n",
       "      <td>False</td>\n",
       "      <td>True</td>\n",
       "      <td>False</td>\n",
       "      <td>False</td>\n",
       "      <td>False</td>\n",
       "    </tr>\n",
       "    <tr>\n",
       "      <th>2</th>\n",
       "      <td>55</td>\n",
       "      <td>False</td>\n",
       "      <td>False</td>\n",
       "      <td>False</td>\n",
       "      <td>False</td>\n",
       "      <td>True</td>\n",
       "    </tr>\n",
       "    <tr>\n",
       "      <th>3</th>\n",
       "      <td>80</td>\n",
       "      <td>True</td>\n",
       "      <td>False</td>\n",
       "      <td>False</td>\n",
       "      <td>False</td>\n",
       "      <td>False</td>\n",
       "    </tr>\n",
       "    <tr>\n",
       "      <th>4</th>\n",
       "      <td>85</td>\n",
       "      <td>False</td>\n",
       "      <td>False</td>\n",
       "      <td>False</td>\n",
       "      <td>True</td>\n",
       "      <td>False</td>\n",
       "    </tr>\n",
       "  </tbody>\n",
       "</table>\n",
       "</div>"
      ],
      "text/plain": [
       "   Temperature  City_Houston  City_Los Angeles  City_New York  City_Phoenix  \\\n",
       "0           60         False             False           True         False   \n",
       "1           75         False              True          False         False   \n",
       "2           55         False             False          False         False   \n",
       "3           80          True             False          False         False   \n",
       "4           85         False             False          False          True   \n",
       "\n",
       "   Rain_Yes  \n",
       "0      True  \n",
       "1     False  \n",
       "2      True  \n",
       "3     False  \n",
       "4     False  "
      ]
     },
     "execution_count": 3,
     "metadata": {},
     "output_type": "execute_result"
    }
   ],
   "source": [
    "df_dummies = pd.get_dummies(df, columns=['City', 'Rain'], drop_first=True)\n",
    "\n",
    "df_dummies"
   ]
  },
  {
   "cell_type": "code",
   "execution_count": 4,
   "id": "7ec0913e",
   "metadata": {},
   "outputs": [
    {
     "data": {
      "text/plain": [
       "(5, 3)"
      ]
     },
     "execution_count": 4,
     "metadata": {},
     "output_type": "execute_result"
    }
   ],
   "source": [
    "df.shape"
   ]
  },
  {
   "cell_type": "code",
   "execution_count": 5,
   "id": "21bd1e20",
   "metadata": {},
   "outputs": [
    {
     "data": {
      "text/plain": [
       "(5, 6)"
      ]
     },
     "execution_count": 5,
     "metadata": {},
     "output_type": "execute_result"
    }
   ],
   "source": [
    "df_dummies.shape"
   ]
  },
  {
   "cell_type": "markdown",
   "id": "a7334053",
   "metadata": {},
   "source": [
    "### Explanation\n",
    "- The `City` column is transformed into multiple binary columns, one for each unique value (category) in the column.\n",
    "- The `Rain` column, which has only two categories (`Yes` and `No`), is transformed into a single binary column (`Rain_Yes`).\n",
    "- The parameter `drop_first=True` is used to avoid the **dummy variable trap** by dropping the first category in each categorical column. This prevents multicollinearity when one category can be perfectly predicted using the others.\n",
    "\n",
    "The transformed dataset now contains only numeric features that can be used as inputs for machine learning models."
   ]
  },
  {
   "cell_type": "markdown",
   "id": "e6ffb422",
   "metadata": {},
   "source": [
    "## Practical Considerations"
   ]
  },
  {
   "cell_type": "markdown",
   "id": "3e0cb724",
   "metadata": {},
   "source": [
    "- **High Cardinality**: If a categorical feature has many unique categories (high cardinality), one-hot encoding can lead to a large number of columns. In such cases, other encoding techniques like **target encoding** or **frequency encoding** might be more efficient.\n",
    "- **Avoiding Multicollinearity**: The `drop_first` option is recommended to avoid the dummy variable trap and multicollinearity.\n",
    "- **Model Type**: One-hot encoding is particularly useful for algorithms that don't handle categorical data well (e.g., linear models, neural networks). For **tree-based algorithms** like **Random Forests** or **XGBoost**, one-hot encoding is generally effective, but sometimes those models can handle categorical data natively."
   ]
  }
 ],
 "metadata": {
  "kernelspec": {
   "display_name": "Python 3 (ipykernel)",
   "language": "python",
   "name": "python3"
  },
  "language_info": {
   "codemirror_mode": {
    "name": "ipython",
    "version": 3
   },
   "file_extension": ".py",
   "mimetype": "text/x-python",
   "name": "python",
   "nbconvert_exporter": "python",
   "pygments_lexer": "ipython3",
   "version": "3.11.2"
  }
 },
 "nbformat": 4,
 "nbformat_minor": 5
}
