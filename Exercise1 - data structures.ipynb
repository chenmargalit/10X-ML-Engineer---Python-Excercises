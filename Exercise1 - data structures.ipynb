{
 "cells": [
  {
   "cell_type": "markdown",
   "id": "2a7449e7",
   "metadata": {},
   "source": [
    "### Guess the right datatype\n",
    "\n",
    "Possible data types are: bool, float, str, int"
   ]
  },
  {
   "cell_type": "code",
   "execution_count": null,
   "id": "e39c4f29",
   "metadata": {},
   "outputs": [
    {
     "name": "stdout",
     "output_type": "stream",
     "text": [
      "You want to store the number of days in a week.\n"
     ]
    }
   ],
   "source": [
    "situation_1 = \"You want to store the number of days in a week.\"\n",
    "print(situation_1)\n",
    "data_type_1 = input(\"Situation 1: What data type would you use? \")\n",
    "\n",
    "situation_2 = \"You are storing the temperature of a city in degrees Celsius.\"\n",
    "print(situation_2)\n",
    "data_type_2 = input(\"Situation 2: What data type would you use? \")\n",
    "\n",
    "situation_3 = \"You are storing the name of a person.\"\n",
    "print(situation_3)\n",
    "data_type_3 = input(\"Situation 3: What data type would you use? \")\n",
    "\n",
    "situation_4 = \"You want to represent whether a light switch is on or off.\"\n",
    "print(situation_4)\n",
    "data_type_4 = input(\"Situation 4: What data type would you use? \")\n",
    "\n",
    "situation_5 = \"You are storing the price of a product with decimal values.\"\n",
    "print(situation_5)\n",
    "data_type_5 = input(\"Situation 5: What data type would you use? \")\n",
    "\n",
    "print(\"\\nCorrect Answers:\")\n",
    "print(\"Situation 1:\", \"int\")\n",
    "print(\"Situation 2:\", \"float\")\n",
    "print(\"Situation 3:\", \"str\")\n",
    "print(\"Situation 4:\", \"bool\")\n",
    "print(\"Situation 5:\", \"float\")\n",
    "\n",
    "score = 0\n",
    "\n",
    "if data_type_1.lower() == \"int\":\n",
    "    score += 1\n",
    "\n",
    "if data_type_2.lower() == \"float\":\n",
    "    score += 1\n",
    "\n",
    "if data_type_3.lower() == \"str\":\n",
    "    score += 1\n",
    "am\n",
    "if data_type_4.lower() == \"bool\":\n",
    "    score += 1\n",
    "\n",
    "if data_type_5.lower() == \"float\":\n",
    "    score += 1\n",
    "\n",
    "print(\"\\nYour Score:\", score, \"/ 5\")"
   ]
  },
  {
   "cell_type": "markdown",
   "id": "f46f136c",
   "metadata": {},
   "source": [
    "### Create a variable for each of the following datatypes.\n",
    "\n",
    "Try to make the varialbe name understandable and use python conventions (e.g. name_of_variable). Also try to use data that makes sense in the world world. E.g. if you use an int, try to use a reasonable use case, like temperature, score board, age. This will help you imagine how it would be applicable in the real world\n",
    "\n",
    "int, float, list, str, tuple, set, dict, bool, None"
   ]
  },
  {
   "cell_type": "markdown",
   "id": "f51a18bf",
   "metadata": {},
   "source": []
  },
  {
   "cell_type": "markdown",
   "id": "e6acf3ec",
   "metadata": {},
   "source": [
    "## What data structure should you use in which usecase?"
   ]
  },
  {
   "cell_type": "markdown",
   "id": "19843b87",
   "metadata": {},
   "source": [
    "Well, you can usually use a few for the same usecase, but there are things which are more and less obvious."
   ]
  },
  {
   "cell_type": "markdown",
   "id": "c0b95175",
   "metadata": {},
   "source": [
    "int - when you need whole numbers, for exampe when you want to calculate something or do any kind of arithmetic operation (addition, substraction, etc.)\n",
    "\n",
    "float - Same as int but you need precise numbers, you don't want Python to round numbers for you (which it will in the case of an int)\n",
    "\n",
    "list - When you have a set of items you want to iterate over conveniently. \n",
    "\n",
    "str - When you want to hold a word, or something that is better represented as a word\n",
    "\n",
    "tuple - Same as list, but for immutable data. If you know you won't be changing anything inside.\n",
    "\n",
    "set - When you want to make sure you have a collection of unique elements.\n",
    "\n",
    "dict - When the data is better represented as a key:value pair. Where there is a connection between the key and value\n",
    "\n",
    "bool - When it makes sense to describe data as True or False. \n",
    "\n",
    "None - When you explicitly want to state that this variable as no value, or better stated - a None value."
   ]
  },
  {
   "cell_type": "markdown",
   "id": "47c13969",
   "metadata": {},
   "source": [
    "Please note - this is by no means a set of strict rules, only a very high level introductory to the uses of data structu"
   ]
  }
 ],
 "metadata": {
  "kernelspec": {
   "display_name": "Python 3 (ipykernel)",
   "language": "python",
   "name": "python3"
  },
  "language_info": {
   "codemirror_mode": {
    "name": "ipython",
    "version": 3
   },
   "file_extension": ".py",
   "mimetype": "text/x-python",
   "name": "python",
   "nbconvert_exporter": "python",
   "pygments_lexer": "ipython3",
   "version": "3.11.2"
  }
 },
 "nbformat": 4,
 "nbformat_minor": 5
}
