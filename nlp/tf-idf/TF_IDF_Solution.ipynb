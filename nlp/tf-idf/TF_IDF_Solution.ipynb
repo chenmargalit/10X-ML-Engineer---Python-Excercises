{
 "cells": [
  {
   "cell_type": "markdown",
   "metadata": {},
   "source": [
    "# Understanding TF-IDF in Natural Language Processing\n",
    "This notebook covers:\n",
    "1. What TF-IDF is and its importance in NLP.\n",
    "2. The mathematics behind TF-IDF.\n",
    "3. A manual implementation of TF-IDF in Python.\n",
    "4. Using Scikit-learn's `TfidfVectorizer`.\n",
    "5. Applications and visualizations."
   ]
  },
  {
   "cell_type": "code",
   "execution_count": 4,
   "metadata": {},
   "outputs": [],
   "source": [
    "from collections import Counter\n",
    "import math\n",
    "import numpy as np\n",
    "from sklearn.feature_extraction.text import TfidfVectorizer\n",
    "from sklearn.metrics.pairwise import cosine_similarity\n",
    "import matplotlib.pyplot as plt\n",
    "import pandas as pd"
   ]
  },
  {
   "cell_type": "markdown",
   "metadata": {},
   "source": [
    "## Section 1: What is TF-IDF?\n",
    "TF-IDF stands for Term Frequency-Inverse Document Frequency. It is a numerical statistic that reflects how important a word is to a document in a collection or corpus."
   ]
  },
  {
   "cell_type": "code",
   "execution_count": 17,
   "metadata": {},
   "outputs": [],
   "source": [
    "documents = [\n",
    "    \"TF-IDF stands for Term Frequency-Inverse Document Frequency.\",\n",
    "    \"It is a statistical measure used in information retrieval and text mining.\",\n",
    "    \"TF measures how frequently a term occurs in a document.\",\n",
    "    \"IDF measures how important a term is across all documents.\",\n",
    "    \"TF-IDF is often used in search engines and for document similarity tasks.\",\n",
    "]"
   ]
  },
  {
   "cell_type": "markdown",
   "metadata": {},
   "source": [
    "## Mathematics of TF-IDF\n",
    "**TF (Term Frequency):** Measures how frequently a term occurs in a document.\n",
    "\n",
    "**IDF (Inverse Document Frequency):** Measures how unique or important a term is across all documents."
   ]
  },
  {
   "cell_type": "code",
   "execution_count": 18,
   "metadata": {},
   "outputs": [],
   "source": [
    "preprocessed_docs = [doc.lower() for doc in documents]"
   ]
  },
  {
   "cell_type": "code",
   "execution_count": 19,
   "metadata": {},
   "outputs": [],
   "source": [
    "def compute_tf(doc):\n",
    "    words = doc.split()\n",
    "    tf = Counter(words)\n",
    "    total_words = len(words)\n",
    "    return {word: count / total_words for word, count in tf.items()}"
   ]
  },
  {
   "cell_type": "code",
   "execution_count": 20,
   "metadata": {},
   "outputs": [],
   "source": [
    "def compute_idf(docs):\n",
    "    n_docs = len(docs)\n",
    "    all_words = set(word for doc in docs for word in doc.split())\n",
    "    idf = {}\n",
    "    for word in all_words:\n",
    "        containing_docs = sum(1 for doc in docs if word in doc.split())\n",
    "        idf[word] = math.log(n_docs / (1 + containing_docs))  # Add 1 to avoid division by zero\n",
    "    return idf"
   ]
  },
  {
   "cell_type": "code",
   "execution_count": 21,
   "metadata": {},
   "outputs": [],
   "source": [
    "tf_list = [compute_tf(doc) for doc in preprocessed_docs]\n",
    "idf = compute_idf(preprocessed_docs)"
   ]
  },
  {
   "cell_type": "code",
   "execution_count": 22,
   "metadata": {},
   "outputs": [
    {
     "data": {
      "text/plain": [
       "{'search': 0.9162907318741551,\n",
       " 'measure': 0.9162907318741551,\n",
       " 'document.': 0.9162907318741551,\n",
       " 'idf': 0.9162907318741551,\n",
       " 'all': 0.9162907318741551,\n",
       " 'measures': 0.5108256237659907,\n",
       " 'text': 0.9162907318741551,\n",
       " 'across': 0.9162907318741551,\n",
       " 'and': 0.5108256237659907,\n",
       " 'frequency-inverse': 0.9162907318741551,\n",
       " 'information': 0.9162907318741551,\n",
       " 'tf-idf': 0.5108256237659907,\n",
       " 'used': 0.5108256237659907,\n",
       " 'term': 0.22314355131420976,\n",
       " 'is': 0.22314355131420976,\n",
       " 'mining.': 0.9162907318741551,\n",
       " 'similarity': 0.9162907318741551,\n",
       " 'a': 0.22314355131420976,\n",
       " 'tasks.': 0.9162907318741551,\n",
       " 'in': 0.22314355131420976,\n",
       " 'it': 0.9162907318741551,\n",
       " 'frequently': 0.9162907318741551,\n",
       " 'frequency.': 0.9162907318741551,\n",
       " 'document': 0.5108256237659907,\n",
       " 'often': 0.9162907318741551,\n",
       " 'stands': 0.9162907318741551,\n",
       " 'tf': 0.9162907318741551,\n",
       " 'how': 0.5108256237659907,\n",
       " 'engines': 0.9162907318741551,\n",
       " 'retrieval': 0.9162907318741551,\n",
       " 'documents.': 0.9162907318741551,\n",
       " 'statistical': 0.9162907318741551,\n",
       " 'occurs': 0.9162907318741551,\n",
       " 'for': 0.5108256237659907,\n",
       " 'important': 0.9162907318741551}"
      ]
     },
     "execution_count": 22,
     "metadata": {},
     "output_type": "execute_result"
    }
   ],
   "source": [
    "idf"
   ]
  },
  {
   "cell_type": "code",
   "execution_count": 23,
   "metadata": {},
   "outputs": [],
   "source": [
    "tf_idf_list = []\n",
    "for tf in tf_list:\n",
    "    tf_idf = {word: tf[word] * idf[word] for word in tf.keys()}\n",
    "    tf_idf_list.append(tf_idf)"
   ]
  },
  {
   "cell_type": "code",
   "execution_count": 24,
   "metadata": {},
   "outputs": [
    {
     "data": {
      "text/plain": [
       "[{'tf-idf': 0.07297508910942724,\n",
       "  'stands': 0.13089867598202215,\n",
       "  'for': 0.07297508910942724,\n",
       "  'term': 0.03187765018774425,\n",
       "  'frequency-inverse': 0.13089867598202215,\n",
       "  'document': 0.07297508910942724,\n",
       "  'frequency.': 0.13089867598202215},\n",
       " {'it': 0.07635756098951292,\n",
       "  'is': 0.018595295942850813,\n",
       "  'a': 0.018595295942850813,\n",
       "  'statistical': 0.07635756098951292,\n",
       "  'measure': 0.07635756098951292,\n",
       "  'used': 0.04256880198049923,\n",
       "  'in': 0.018595295942850813,\n",
       "  'information': 0.07635756098951292,\n",
       "  'retrieval': 0.07635756098951292,\n",
       "  'and': 0.04256880198049923,\n",
       "  'text': 0.07635756098951292,\n",
       "  'mining.': 0.07635756098951292},\n",
       " {'tf': 0.09162907318741552,\n",
       "  'measures': 0.051082562376599076,\n",
       "  'how': 0.051082562376599076,\n",
       "  'frequently': 0.09162907318741552,\n",
       "  'a': 0.04462871026284196,\n",
       "  'term': 0.02231435513142098,\n",
       "  'occurs': 0.09162907318741552,\n",
       "  'in': 0.02231435513142098,\n",
       "  'document.': 0.09162907318741552},\n",
       " {'idf': 0.09162907318741552,\n",
       "  'measures': 0.051082562376599076,\n",
       "  'how': 0.051082562376599076,\n",
       "  'important': 0.09162907318741552,\n",
       "  'a': 0.02231435513142098,\n",
       "  'term': 0.02231435513142098,\n",
       "  'is': 0.02231435513142098,\n",
       "  'across': 0.09162907318741552,\n",
       "  'all': 0.09162907318741552,\n",
       "  'documents.': 0.09162907318741552},\n",
       " {'tf-idf': 0.04256880198049923,\n",
       "  'is': 0.018595295942850813,\n",
       "  'often': 0.07635756098951292,\n",
       "  'used': 0.04256880198049923,\n",
       "  'in': 0.018595295942850813,\n",
       "  'search': 0.07635756098951292,\n",
       "  'engines': 0.07635756098951292,\n",
       "  'and': 0.04256880198049923,\n",
       "  'for': 0.04256880198049923,\n",
       "  'document': 0.04256880198049923,\n",
       "  'similarity': 0.07635756098951292,\n",
       "  'tasks.': 0.07635756098951292}]"
      ]
     },
     "execution_count": 24,
     "metadata": {},
     "output_type": "execute_result"
    }
   ],
   "source": [
    "tf_idf_list"
   ]
  },
  {
   "cell_type": "markdown",
   "metadata": {},
   "source": [
    "## Exercise"
   ]
  },
  {
   "cell_type": "code",
   "execution_count": 25,
   "metadata": {},
   "outputs": [],
   "source": [
    "documents = [\n",
    "    \"The Solar System consists of the Sun and the objects that orbit it, including eight planets.\",\n",
    "    \"Jupiter is the largest planet in the Solar System and has a Great Red Spot.\",\n",
    "    \"Saturn is known for its extensive ring system and is the second-largest planet in the Solar System.\"\n",
    "]"
   ]
  },
  {
   "cell_type": "markdown",
   "metadata": {},
   "source": [
    "Take these documents and calculate their tf-idf using the functions above. Write a function that best fits the document that can answer your query."
   ]
  },
  {
   "cell_type": "markdown",
   "metadata": {},
   "source": [
    "## Section 2: Using Scikit-learn's TfidfVectorizer"
   ]
  },
  {
   "cell_type": "code",
   "execution_count": 23,
   "metadata": {},
   "outputs": [],
   "source": [
    "vectorizer = TfidfVectorizer()\n",
    "tfidf_matrix = vectorizer.fit_transform(preprocessed_docs)\n",
    "\n",
    "sklearn_tfidf_df = pd.DataFrame(tfidf_matrix.toarray(), columns=vectorizer.get_feature_names_out())"
   ]
  },
  {
   "cell_type": "code",
   "execution_count": 25,
   "metadata": {},
   "outputs": [
    {
     "data": {
      "text/html": [
       "<div>\n",
       "<style scoped>\n",
       "    .dataframe tbody tr th:only-of-type {\n",
       "        vertical-align: middle;\n",
       "    }\n",
       "\n",
       "    .dataframe tbody tr th {\n",
       "        vertical-align: top;\n",
       "    }\n",
       "\n",
       "    .dataframe thead th {\n",
       "        text-align: right;\n",
       "    }\n",
       "</style>\n",
       "<table border=\"1\" class=\"dataframe\">\n",
       "  <thead>\n",
       "    <tr style=\"text-align: right;\">\n",
       "      <th></th>\n",
       "      <th>across</th>\n",
       "      <th>all</th>\n",
       "      <th>and</th>\n",
       "      <th>document</th>\n",
       "      <th>documents</th>\n",
       "      <th>engines</th>\n",
       "      <th>for</th>\n",
       "      <th>frequency</th>\n",
       "      <th>frequently</th>\n",
       "      <th>how</th>\n",
       "      <th>...</th>\n",
       "      <th>retrieval</th>\n",
       "      <th>search</th>\n",
       "      <th>similarity</th>\n",
       "      <th>stands</th>\n",
       "      <th>statistical</th>\n",
       "      <th>tasks</th>\n",
       "      <th>term</th>\n",
       "      <th>text</th>\n",
       "      <th>tf</th>\n",
       "      <th>used</th>\n",
       "    </tr>\n",
       "  </thead>\n",
       "  <tbody>\n",
       "    <tr>\n",
       "      <th>0</th>\n",
       "      <td>0.00000</td>\n",
       "      <td>0.00000</td>\n",
       "      <td>0.000000</td>\n",
       "      <td>0.230456</td>\n",
       "      <td>0.00000</td>\n",
       "      <td>0.000000</td>\n",
       "      <td>0.277628</td>\n",
       "      <td>0.688226</td>\n",
       "      <td>0.000000</td>\n",
       "      <td>0.000000</td>\n",
       "      <td>...</td>\n",
       "      <td>0.000000</td>\n",
       "      <td>0.000000</td>\n",
       "      <td>0.000000</td>\n",
       "      <td>0.344113</td>\n",
       "      <td>0.000000</td>\n",
       "      <td>0.000000</td>\n",
       "      <td>0.230456</td>\n",
       "      <td>0.000000</td>\n",
       "      <td>0.230456</td>\n",
       "      <td>0.000000</td>\n",
       "    </tr>\n",
       "    <tr>\n",
       "      <th>1</th>\n",
       "      <td>0.00000</td>\n",
       "      <td>0.00000</td>\n",
       "      <td>0.266008</td>\n",
       "      <td>0.000000</td>\n",
       "      <td>0.00000</td>\n",
       "      <td>0.000000</td>\n",
       "      <td>0.000000</td>\n",
       "      <td>0.000000</td>\n",
       "      <td>0.000000</td>\n",
       "      <td>0.000000</td>\n",
       "      <td>...</td>\n",
       "      <td>0.329711</td>\n",
       "      <td>0.000000</td>\n",
       "      <td>0.000000</td>\n",
       "      <td>0.000000</td>\n",
       "      <td>0.329711</td>\n",
       "      <td>0.000000</td>\n",
       "      <td>0.000000</td>\n",
       "      <td>0.329711</td>\n",
       "      <td>0.000000</td>\n",
       "      <td>0.266008</td>\n",
       "    </tr>\n",
       "    <tr>\n",
       "      <th>2</th>\n",
       "      <td>0.00000</td>\n",
       "      <td>0.00000</td>\n",
       "      <td>0.000000</td>\n",
       "      <td>0.296673</td>\n",
       "      <td>0.00000</td>\n",
       "      <td>0.000000</td>\n",
       "      <td>0.000000</td>\n",
       "      <td>0.000000</td>\n",
       "      <td>0.442986</td>\n",
       "      <td>0.357398</td>\n",
       "      <td>...</td>\n",
       "      <td>0.000000</td>\n",
       "      <td>0.000000</td>\n",
       "      <td>0.000000</td>\n",
       "      <td>0.000000</td>\n",
       "      <td>0.000000</td>\n",
       "      <td>0.000000</td>\n",
       "      <td>0.296673</td>\n",
       "      <td>0.000000</td>\n",
       "      <td>0.296673</td>\n",
       "      <td>0.000000</td>\n",
       "    </tr>\n",
       "    <tr>\n",
       "      <th>3</th>\n",
       "      <td>0.38786</td>\n",
       "      <td>0.38786</td>\n",
       "      <td>0.000000</td>\n",
       "      <td>0.000000</td>\n",
       "      <td>0.38786</td>\n",
       "      <td>0.000000</td>\n",
       "      <td>0.000000</td>\n",
       "      <td>0.000000</td>\n",
       "      <td>0.000000</td>\n",
       "      <td>0.312923</td>\n",
       "      <td>...</td>\n",
       "      <td>0.000000</td>\n",
       "      <td>0.000000</td>\n",
       "      <td>0.000000</td>\n",
       "      <td>0.000000</td>\n",
       "      <td>0.000000</td>\n",
       "      <td>0.000000</td>\n",
       "      <td>0.259754</td>\n",
       "      <td>0.000000</td>\n",
       "      <td>0.000000</td>\n",
       "      <td>0.000000</td>\n",
       "    </tr>\n",
       "    <tr>\n",
       "      <th>4</th>\n",
       "      <td>0.00000</td>\n",
       "      <td>0.00000</td>\n",
       "      <td>0.266060</td>\n",
       "      <td>0.220854</td>\n",
       "      <td>0.00000</td>\n",
       "      <td>0.329774</td>\n",
       "      <td>0.266060</td>\n",
       "      <td>0.000000</td>\n",
       "      <td>0.000000</td>\n",
       "      <td>0.000000</td>\n",
       "      <td>...</td>\n",
       "      <td>0.000000</td>\n",
       "      <td>0.329774</td>\n",
       "      <td>0.329774</td>\n",
       "      <td>0.000000</td>\n",
       "      <td>0.000000</td>\n",
       "      <td>0.329774</td>\n",
       "      <td>0.000000</td>\n",
       "      <td>0.000000</td>\n",
       "      <td>0.220854</td>\n",
       "      <td>0.266060</td>\n",
       "    </tr>\n",
       "  </tbody>\n",
       "</table>\n",
       "<p>5 rows × 32 columns</p>\n",
       "</div>"
      ],
      "text/plain": [
       "    across      all       and  document  documents   engines       for  \\\n",
       "0  0.00000  0.00000  0.000000  0.230456    0.00000  0.000000  0.277628   \n",
       "1  0.00000  0.00000  0.266008  0.000000    0.00000  0.000000  0.000000   \n",
       "2  0.00000  0.00000  0.000000  0.296673    0.00000  0.000000  0.000000   \n",
       "3  0.38786  0.38786  0.000000  0.000000    0.38786  0.000000  0.000000   \n",
       "4  0.00000  0.00000  0.266060  0.220854    0.00000  0.329774  0.266060   \n",
       "\n",
       "   frequency  frequently       how  ...  retrieval    search  similarity  \\\n",
       "0   0.688226    0.000000  0.000000  ...   0.000000  0.000000    0.000000   \n",
       "1   0.000000    0.000000  0.000000  ...   0.329711  0.000000    0.000000   \n",
       "2   0.000000    0.442986  0.357398  ...   0.000000  0.000000    0.000000   \n",
       "3   0.000000    0.000000  0.312923  ...   0.000000  0.000000    0.000000   \n",
       "4   0.000000    0.000000  0.000000  ...   0.000000  0.329774    0.329774   \n",
       "\n",
       "     stands  statistical     tasks      term      text        tf      used  \n",
       "0  0.344113     0.000000  0.000000  0.230456  0.000000  0.230456  0.000000  \n",
       "1  0.000000     0.329711  0.000000  0.000000  0.329711  0.000000  0.266008  \n",
       "2  0.000000     0.000000  0.000000  0.296673  0.000000  0.296673  0.000000  \n",
       "3  0.000000     0.000000  0.000000  0.259754  0.000000  0.000000  0.000000  \n",
       "4  0.000000     0.000000  0.329774  0.000000  0.000000  0.220854  0.266060  \n",
       "\n",
       "[5 rows x 32 columns]"
      ]
     },
     "execution_count": 25,
     "metadata": {},
     "output_type": "execute_result"
    }
   ],
   "source": [
    "sklearn_tfidf_df"
   ]
  },
  {
   "cell_type": "markdown",
   "metadata": {},
   "source": [
    "### Visualizing the results"
   ]
  },
  {
   "cell_type": "code",
   "execution_count": 17,
   "metadata": {},
   "outputs": [
    {
     "data": {
      "image/png": "[encoded data removed]",
      "text/plain": [
       "<Figure size 640x480 with 1 Axes>"
      ]
     },
     "metadata": {},
     "output_type": "display_data"
    }
   ],
   "source": [
    "document_idx = 0\n",
    "tfidf_scores = sklearn_tfidf_df.iloc[document_idx].sort_values(ascending=False).head(10)\n",
    "tfidf_scores.plot(kind=\"bar\", title=\"Top TF-IDF Terms for Document\")\n",
    "plt.show()"
   ]
  },
  {
   "cell_type": "markdown",
   "metadata": {},
   "source": [
    "## Summary\n",
    "- We manually calculated TF-IDF.\n",
    "- We used Scikit-learn's `TfidfVectorizer` to streamline the process.\n",
    "- Visualizations helped interpret the importance of terms within documents."
   ]
  },
  {
   "cell_type": "markdown",
   "metadata": {},
   "source": [
    "# Exercise"
   ]
  },
  {
   "cell_type": "markdown",
   "metadata": {},
   "source": [
    "Exercise: Search Using TF-IDF\n",
    "Task:\n",
    "You are given three documents related to the solar system. Your task is to:\n",
    "\n",
    "1. Preprocess the text.\n",
    "2. Compute the TF-IDF scores for each word in the documents.\n",
    "3. Implement a search function where the user inputs a query, and the function returns the document most relevant to the query based on cosine similarity."
   ]
  },
  {
   "cell_type": "code",
   "execution_count": 18,
   "metadata": {},
   "outputs": [],
   "source": [
    "documents = [\n",
    "    \"The Solar System consists of the Sun and the objects that orbit it, including eight planets.\",\n",
    "    \"Jupiter is the largest planet in the Solar System and has a Great Red Spot.\",\n",
    "    \"Saturn is known for its extensive ring system and is the second-largest planet in the Solar System.\"\n",
    "]"
   ]
  },
  {
   "cell_type": "markdown",
   "metadata": {},
   "source": [
    "### Solution"
   ]
  },
  {
   "cell_type": "code",
   "execution_count": 19,
   "metadata": {},
   "outputs": [],
   "source": [
    "vectorizer = TfidfVectorizer()\n",
    "tfidf_matrix = vectorizer.fit_transform(documents)"
   ]
  },
  {
   "cell_type": "code",
   "execution_count": 20,
   "metadata": {},
   "outputs": [],
   "source": [
    "def search(query, tfidf_matrix, vectorizer):\n",
    "    \n",
    "    query_vec = vectorizer.transform([query])\n",
    "    similarities = cosine_similarity(query_vec, tfidf_matrix)    \n",
    "    most_relevant_idx = np.argmax(similarities)\n",
    "    \n",
    "    return most_relevant_idx, similarities[0, most_relevant_idx]"
   ]
  },
  {
   "cell_type": "code",
   "execution_count": 21,
   "metadata": {},
   "outputs": [
    {
     "name": "stdout",
     "output_type": "stream",
     "text": [
      "Query: which star has a ring system?\n",
      "Most relevant document: Saturn is known for its extensive ring system and is the second-largest planet in the Solar System.\n",
      "Relevance score: 0.29\n"
     ]
    }
   ],
   "source": [
    "query = \"which star has a ring system?\"\n",
    "most_relevant_idx, score = search(query, tfidf_matrix, vectorizer)\n",
    "\n",
    "print(f\"Query: {query}\")\n",
    "print(f\"Most relevant document: {documents[most_relevant_idx]}\")\n",
    "print(f\"Relevance score: {score:.2f}\")"
   ]
  },
  {
   "cell_type": "code",
   "execution_count": 22,
   "metadata": {},
   "outputs": [],
   "source": [
    "feature_names = vectorizer.get_feature_names_out()  \n",
    "df = pd.DataFrame(tfidf_matrix.toarray(), columns=feature_names, index=[f\"Doc {i+1}\" for i in range(len(documents))])"
   ]
  }
 ],
 "metadata": {
  "kernelspec": {
   "display_name": "Python 3 (ipykernel)",
   "language": "python",
   "name": "python3"
  },
  "language_info": {
   "codemirror_mode": {
    "name": "ipython",
    "version": 3
   },
   "file_extension": ".py",
   "mimetype": "text/x-python",
   "name": "python",
   "nbconvert_exporter": "python",
   "pygments_lexer": "ipython3",
   "version": "3.11.2"
  },
  "toc": {
   "base_numbering": 1,
   "nav_menu": {},
   "number_sections": true,
   "sideBar": true,
   "skip_h1_title": false,
   "title_cell": "Table of Contents",
   "title_sidebar": "Contents",
   "toc_cell": false,
   "toc_position": {},
   "toc_section_display": true,
   "toc_window_display": false
  }
 },
 "nbformat": 4,
 "nbformat_minor": 4
}
