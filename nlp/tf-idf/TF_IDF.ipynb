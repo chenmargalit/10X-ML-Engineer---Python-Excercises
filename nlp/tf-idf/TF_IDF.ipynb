{
 "cells": [
  {
   "cell_type": "markdown",
   "metadata": {},
   "source": [
    "# Understanding TF-IDF in Natural Language Processing\n",
    "This notebook covers:\n",
    "1. What TF-IDF is and its importance in NLP.\n",
    "2. The mathematics behind TF-IDF.\n",
    "3. A manual implementation of TF-IDF in Python.\n",
    "4. Using Scikit-learn's `TfidfVectorizer`.\n",
    "5. Applications and visualizations."
   ]
  },
  {
   "cell_type": "code",
   "execution_count": 7,
   "metadata": {},
   "outputs": [],
   "source": [
    "from collections import Counter\n",
    "import math\n",
    "import numpy as np\n",
    "from sklearn.feature_extraction.text import TfidfVectorizer\n",
    "from sklearn.metrics.pairwise import cosine_similarity\n",
    "import matplotlib.pyplot as plt\n",
    "import pandas as pd"
   ]
  },
  {
   "cell_type": "markdown",
   "metadata": {},
   "source": [
    "## Section 1: What is TF-IDF?\n",
    "TF-IDF stands for Term Frequency-Inverse Document Frequency. It is a numerical statistic that reflects how important a word is to a document in a collection or corpus."
   ]
  },
  {
   "cell_type": "code",
   "execution_count": 8,
   "metadata": {},
   "outputs": [],
   "source": [
    "documents = [\n",
    "    \"Messie won the best soccer messie player messie in the messie world prize\",\n",
    "    \"TF-IDF meesie stands for Term Frequency-Inverse Document Frequency.\",\n",
    "    \"It is a statistical measure used in information retrieval and text mining.\",\n",
    "    \"TF measures how frequently a term occurs in a document.\",\n",
    "    \"IDF measures how important a term is across all documents.\",\n",
    "    \"TF-IDF is often used in search engines and for document similarity tasks.\",\n",
    "]"
   ]
  },
  {
   "cell_type": "markdown",
   "metadata": {},
   "source": [
    "## Mathematics of TF-IDF\n",
    "**TF (Term Frequency):** Measures how frequently a term occurs in a document.\n",
    "\n",
    "**IDF (Inverse Document Frequency):** Measures how unique or important a term is across all documents."
   ]
  },
  {
   "cell_type": "code",
   "execution_count": 9,
   "metadata": {},
   "outputs": [],
   "source": [
    "preprocessed_docs = [doc.lower() for doc in documents]"
   ]
  },
  {
   "cell_type": "code",
   "execution_count": 10,
   "metadata": {},
   "outputs": [
    {
     "data": {
      "text/plain": [
       "['messie',\n",
       " 'won',\n",
       " 'the',\n",
       " 'best',\n",
       " 'soccer',\n",
       " 'messie',\n",
       " 'player',\n",
       " 'messie',\n",
       " 'in',\n",
       " 'the',\n",
       " 'messie',\n",
       " 'world',\n",
       " 'prize']"
      ]
     },
     "execution_count": 10,
     "metadata": {},
     "output_type": "execute_result"
    }
   ],
   "source": [
    "preprocessed_docs[0].split()"
   ]
  },
  {
   "cell_type": "code",
   "execution_count": 11,
   "metadata": {},
   "outputs": [
    {
     "data": {
      "text/plain": [
       "{'messie': 0.3076923076923077,\n",
       " 'won': 0.07692307692307693,\n",
       " 'the': 0.15384615384615385,\n",
       " 'best': 0.07692307692307693,\n",
       " 'soccer': 0.07692307692307693,\n",
       " 'player': 0.07692307692307693,\n",
       " 'in': 0.07692307692307693,\n",
       " 'world': 0.07692307692307693,\n",
       " 'prize': 0.07692307692307693}"
      ]
     },
     "execution_count": 11,
     "metadata": {},
     "output_type": "execute_result"
    }
   ],
   "source": [
    "doc = preprocessed_docs[0]\n",
    "compute_tf(doc)"
   ]
  },
  {
   "cell_type": "code",
   "execution_count": 6,
   "metadata": {},
   "outputs": [],
   "source": [
    "def compute_tf(doc):\n",
    "    words = doc.split()\n",
    "    tf = Counter(words)\n",
    "    total_words = len(words)\n",
    "    return {word: count / total_words for word, count in tf.items()}"
   ]
  },
  {
   "cell_type": "code",
   "execution_count": null,
   "metadata": {},
   "outputs": [],
   "source": [
    "preprocessed_docs"
   ]
  },
  {
   "cell_type": "code",
   "execution_count": 12,
   "metadata": {},
   "outputs": [],
   "source": [
    "def compute_idf(docs):\n",
    "    n_docs = len(docs)\n",
    "    all_words = set(word for doc in docs for word in doc.split())\n",
    "    idf = {}\n",
    "    for word in all_words:\n",
    "        containing_docs = sum(1 for doc in docs if word in doc.split())\n",
    "        idf[word] = math.log(n_docs / (1 + containing_docs))  # Add 1 to avoid division by zero\n",
    "    return idf"
   ]
  },
  {
   "cell_type": "code",
   "execution_count": 13,
   "metadata": {},
   "outputs": [],
   "source": [
    "tf_list = [compute_tf(doc) for doc in preprocessed_docs]\n",
    "idf = compute_idf(preprocessed_docs)"
   ]
  },
  {
   "cell_type": "code",
   "execution_count": null,
   "metadata": {},
   "outputs": [],
   "source": [
    "tf_list"
   ]
  },
  {
   "cell_type": "code",
   "execution_count": 14,
   "metadata": {},
   "outputs": [
    {
     "data": {
      "text/plain": [
       "{'tasks.': 1.0986122886681098,\n",
       " 'information': 1.0986122886681098,\n",
       " 'meesie': 1.0986122886681098,\n",
       " 'it': 1.0986122886681098,\n",
       " 'messie': 1.0986122886681098,\n",
       " 'mining.': 1.0986122886681098,\n",
       " 'document': 0.6931471805599453,\n",
       " 'measures': 0.6931471805599453,\n",
       " 'frequency.': 1.0986122886681098,\n",
       " 'the': 1.0986122886681098,\n",
       " 'occurs': 1.0986122886681098,\n",
       " 'important': 1.0986122886681098,\n",
       " 'engines': 1.0986122886681098,\n",
       " 'how': 0.6931471805599453,\n",
       " 'term': 0.4054651081081644,\n",
       " 'world': 1.0986122886681098,\n",
       " 'used': 0.6931471805599453,\n",
       " 'search': 1.0986122886681098,\n",
       " 'is': 0.4054651081081644,\n",
       " 'frequency-inverse': 1.0986122886681098,\n",
       " 'across': 1.0986122886681098,\n",
       " 'a': 0.4054651081081644,\n",
       " 'soccer': 1.0986122886681098,\n",
       " 'often': 1.0986122886681098,\n",
       " 'similarity': 1.0986122886681098,\n",
       " 'documents.': 1.0986122886681098,\n",
       " 'prize': 1.0986122886681098,\n",
       " 'and': 0.6931471805599453,\n",
       " 'tf-idf': 0.6931471805599453,\n",
       " 'text': 1.0986122886681098,\n",
       " 'stands': 1.0986122886681098,\n",
       " 'idf': 1.0986122886681098,\n",
       " 'won': 1.0986122886681098,\n",
       " 'all': 1.0986122886681098,\n",
       " 'document.': 1.0986122886681098,\n",
       " 'best': 1.0986122886681098,\n",
       " 'player': 1.0986122886681098,\n",
       " 'for': 0.6931471805599453,\n",
       " 'statistical': 1.0986122886681098,\n",
       " 'tf': 1.0986122886681098,\n",
       " 'in': 0.1823215567939546,\n",
       " 'retrieval': 1.0986122886681098,\n",
       " 'measure': 1.0986122886681098,\n",
       " 'frequently': 1.0986122886681098}"
      ]
     },
     "execution_count": 14,
     "metadata": {},
     "output_type": "execute_result"
    }
   ],
   "source": [
    "idf"
   ]
  },
  {
   "cell_type": "code",
   "execution_count": null,
   "metadata": {
    "scrolled": true
   },
   "outputs": [],
   "source": [
    "tf_list"
   ]
  },
  {
   "cell_type": "code",
   "execution_count": 15,
   "metadata": {},
   "outputs": [],
   "source": [
    "tf_idf_list = []\n",
    "for tf in tf_list:\n",
    "    tf_idf = {word: tf[word] * idf[word] for word in tf.keys()}\n",
    "    tf_idf_list.append(tf_idf)"
   ]
  },
  {
   "cell_type": "code",
   "execution_count": 16,
   "metadata": {},
   "outputs": [
    {
     "data": {
      "text/plain": [
       "[{'messie': 0.33803455035941843,\n",
       "  'won': 0.08450863758985461,\n",
       "  'the': 0.16901727517970921,\n",
       "  'best': 0.08450863758985461,\n",
       "  'soccer': 0.08450863758985461,\n",
       "  'player': 0.08450863758985461,\n",
       "  'in': 0.014024735137996508,\n",
       "  'world': 0.08450863758985461,\n",
       "  'prize': 0.08450863758985461},\n",
       " {'tf-idf': 0.08664339756999316,\n",
       "  'meesie': 0.13732653608351372,\n",
       "  'stands': 0.13732653608351372,\n",
       "  'for': 0.08664339756999316,\n",
       "  'term': 0.05068313851352055,\n",
       "  'frequency-inverse': 0.13732653608351372,\n",
       "  'document': 0.08664339756999316,\n",
       "  'frequency.': 0.13732653608351372},\n",
       " {'it': 0.0915510240556758,\n",
       "  'is': 0.033788759009013694,\n",
       "  'a': 0.033788759009013694,\n",
       "  'statistical': 0.0915510240556758,\n",
       "  'measure': 0.0915510240556758,\n",
       "  'used': 0.057762265046662105,\n",
       "  'in': 0.015193463066162882,\n",
       "  'information': 0.0915510240556758,\n",
       "  'retrieval': 0.0915510240556758,\n",
       "  'and': 0.057762265046662105,\n",
       "  'text': 0.0915510240556758,\n",
       "  'mining.': 0.0915510240556758},\n",
       " {'tf': 0.10986122886681099,\n",
       "  'measures': 0.06931471805599453,\n",
       "  'how': 0.06931471805599453,\n",
       "  'frequently': 0.10986122886681099,\n",
       "  'a': 0.08109302162163289,\n",
       "  'term': 0.04054651081081644,\n",
       "  'occurs': 0.10986122886681099,\n",
       "  'in': 0.01823215567939546,\n",
       "  'document.': 0.10986122886681099},\n",
       " {'idf': 0.10986122886681099,\n",
       "  'measures': 0.06931471805599453,\n",
       "  'how': 0.06931471805599453,\n",
       "  'important': 0.10986122886681099,\n",
       "  'a': 0.04054651081081644,\n",
       "  'term': 0.04054651081081644,\n",
       "  'is': 0.04054651081081644,\n",
       "  'across': 0.10986122886681099,\n",
       "  'all': 0.10986122886681099,\n",
       "  'documents.': 0.10986122886681099},\n",
       " {'tf-idf': 0.057762265046662105,\n",
       "  'is': 0.033788759009013694,\n",
       "  'often': 0.0915510240556758,\n",
       "  'used': 0.057762265046662105,\n",
       "  'in': 0.015193463066162882,\n",
       "  'search': 0.0915510240556758,\n",
       "  'engines': 0.0915510240556758,\n",
       "  'and': 0.057762265046662105,\n",
       "  'for': 0.057762265046662105,\n",
       "  'document': 0.057762265046662105,\n",
       "  'similarity': 0.0915510240556758,\n",
       "  'tasks.': 0.0915510240556758}]"
      ]
     },
     "execution_count": 16,
     "metadata": {},
     "output_type": "execute_result"
    }
   ],
   "source": [
    "tf_idf_list"
   ]
  },
  {
   "cell_type": "markdown",
   "metadata": {},
   "source": [
    "## Exercise"
   ]
  },
  {
   "cell_type": "code",
   "execution_count": null,
   "metadata": {},
   "outputs": [],
   "source": [
    "documents = [\n",
    "    \"The Solar System consists of the Sun and the objects that orbit it, including eight planets.\",\n",
    "    \"Jupiter is the largest planet in the Solar System and has a Great Red Spot.\",\n",
    "    \"Saturn is known for its extensive ring system and is the second-largest planet in the Solar System.\"\n",
    "]"
   ]
  },
  {
   "cell_type": "markdown",
   "metadata": {},
   "source": [
    "Take these documents and calculate their tf-idf using the functions above. Write a function that best fits the document that can answer your query."
   ]
  },
  {
   "cell_type": "markdown",
   "metadata": {},
   "source": [
    "## Section 2: Using Scikit-learn's TfidfVectorizer"
   ]
  },
  {
   "cell_type": "code",
   "execution_count": 26,
   "metadata": {},
   "outputs": [],
   "source": [
    "vectorizer = TfidfVectorizer()\n",
    "tfidf_matrix = vectorizer.fit_transform(preprocessed_docs)"
   ]
  },
  {
   "cell_type": "code",
   "execution_count": 30,
   "metadata": {},
   "outputs": [],
   "source": [
    "sklearn_tfidf_df = pd.DataFrame(tfidf_matrix.toarray(), columns=vectorizer.get_feature_names_out())"
   ]
  },
  {
   "cell_type": "code",
   "execution_count": 33,
   "metadata": {},
   "outputs": [
    {
     "data": {
      "text/plain": [
       "['messie won the best soccer messie player messie in the messie world prize',\n",
       " 'tf-idf meesie stands for term frequency-inverse document frequency.',\n",
       " 'it is a statistical measure used in information retrieval and text mining.',\n",
       " 'tf measures how frequently a term occurs in a document.',\n",
       " 'idf measures how important a term is across all documents.',\n",
       " 'tf-idf is often used in search engines and for document similarity tasks.']"
      ]
     },
     "execution_count": 33,
     "metadata": {},
     "output_type": "execute_result"
    }
   ],
   "source": [
    "preprocessed_docs"
   ]
  },
  {
   "cell_type": "code",
   "execution_count": 31,
   "metadata": {},
   "outputs": [
    {
     "data": {
      "text/html": [
       "<div>\n",
       "<style scoped>\n",
       "    .dataframe tbody tr th:only-of-type {\n",
       "        vertical-align: middle;\n",
       "    }\n",
       "\n",
       "    .dataframe tbody tr th {\n",
       "        vertical-align: top;\n",
       "    }\n",
       "\n",
       "    .dataframe thead th {\n",
       "        text-align: right;\n",
       "    }\n",
       "</style>\n",
       "<table border=\"1\" class=\"dataframe\">\n",
       "  <thead>\n",
       "    <tr style=\"text-align: right;\">\n",
       "      <th></th>\n",
       "      <th>across</th>\n",
       "      <th>all</th>\n",
       "      <th>and</th>\n",
       "      <th>best</th>\n",
       "      <th>document</th>\n",
       "      <th>documents</th>\n",
       "      <th>engines</th>\n",
       "      <th>for</th>\n",
       "      <th>frequency</th>\n",
       "      <th>frequently</th>\n",
       "      <th>...</th>\n",
       "      <th>stands</th>\n",
       "      <th>statistical</th>\n",
       "      <th>tasks</th>\n",
       "      <th>term</th>\n",
       "      <th>text</th>\n",
       "      <th>tf</th>\n",
       "      <th>the</th>\n",
       "      <th>used</th>\n",
       "      <th>won</th>\n",
       "      <th>world</th>\n",
       "    </tr>\n",
       "  </thead>\n",
       "  <tbody>\n",
       "    <tr>\n",
       "      <th>0</th>\n",
       "      <td>0.00000</td>\n",
       "      <td>0.00000</td>\n",
       "      <td>0.000000</td>\n",
       "      <td>0.194802</td>\n",
       "      <td>0.000000</td>\n",
       "      <td>0.00000</td>\n",
       "      <td>0.000000</td>\n",
       "      <td>0.000000</td>\n",
       "      <td>0.000000</td>\n",
       "      <td>0.000000</td>\n",
       "      <td>...</td>\n",
       "      <td>0.000000</td>\n",
       "      <td>0.000000</td>\n",
       "      <td>0.000000</td>\n",
       "      <td>0.000000</td>\n",
       "      <td>0.000000</td>\n",
       "      <td>0.000000</td>\n",
       "      <td>0.389604</td>\n",
       "      <td>0.000000</td>\n",
       "      <td>0.194802</td>\n",
       "      <td>0.194802</td>\n",
       "    </tr>\n",
       "    <tr>\n",
       "      <th>1</th>\n",
       "      <td>0.00000</td>\n",
       "      <td>0.00000</td>\n",
       "      <td>0.000000</td>\n",
       "      <td>0.000000</td>\n",
       "      <td>0.223564</td>\n",
       "      <td>0.00000</td>\n",
       "      <td>0.000000</td>\n",
       "      <td>0.264802</td>\n",
       "      <td>0.645847</td>\n",
       "      <td>0.000000</td>\n",
       "      <td>...</td>\n",
       "      <td>0.322923</td>\n",
       "      <td>0.000000</td>\n",
       "      <td>0.000000</td>\n",
       "      <td>0.223564</td>\n",
       "      <td>0.000000</td>\n",
       "      <td>0.223564</td>\n",
       "      <td>0.000000</td>\n",
       "      <td>0.000000</td>\n",
       "      <td>0.000000</td>\n",
       "      <td>0.000000</td>\n",
       "    </tr>\n",
       "    <tr>\n",
       "      <th>2</th>\n",
       "      <td>0.00000</td>\n",
       "      <td>0.00000</td>\n",
       "      <td>0.270703</td>\n",
       "      <td>0.000000</td>\n",
       "      <td>0.000000</td>\n",
       "      <td>0.00000</td>\n",
       "      <td>0.000000</td>\n",
       "      <td>0.000000</td>\n",
       "      <td>0.000000</td>\n",
       "      <td>0.000000</td>\n",
       "      <td>...</td>\n",
       "      <td>0.000000</td>\n",
       "      <td>0.330119</td>\n",
       "      <td>0.000000</td>\n",
       "      <td>0.000000</td>\n",
       "      <td>0.330119</td>\n",
       "      <td>0.000000</td>\n",
       "      <td>0.000000</td>\n",
       "      <td>0.270703</td>\n",
       "      <td>0.000000</td>\n",
       "      <td>0.000000</td>\n",
       "    </tr>\n",
       "    <tr>\n",
       "      <th>3</th>\n",
       "      <td>0.00000</td>\n",
       "      <td>0.00000</td>\n",
       "      <td>0.000000</td>\n",
       "      <td>0.000000</td>\n",
       "      <td>0.305524</td>\n",
       "      <td>0.00000</td>\n",
       "      <td>0.000000</td>\n",
       "      <td>0.000000</td>\n",
       "      <td>0.000000</td>\n",
       "      <td>0.441309</td>\n",
       "      <td>...</td>\n",
       "      <td>0.000000</td>\n",
       "      <td>0.000000</td>\n",
       "      <td>0.000000</td>\n",
       "      <td>0.305524</td>\n",
       "      <td>0.000000</td>\n",
       "      <td>0.305524</td>\n",
       "      <td>0.000000</td>\n",
       "      <td>0.000000</td>\n",
       "      <td>0.000000</td>\n",
       "      <td>0.000000</td>\n",
       "    </tr>\n",
       "    <tr>\n",
       "      <th>4</th>\n",
       "      <td>0.38397</td>\n",
       "      <td>0.38397</td>\n",
       "      <td>0.000000</td>\n",
       "      <td>0.000000</td>\n",
       "      <td>0.000000</td>\n",
       "      <td>0.38397</td>\n",
       "      <td>0.000000</td>\n",
       "      <td>0.000000</td>\n",
       "      <td>0.000000</td>\n",
       "      <td>0.000000</td>\n",
       "      <td>...</td>\n",
       "      <td>0.000000</td>\n",
       "      <td>0.000000</td>\n",
       "      <td>0.000000</td>\n",
       "      <td>0.265827</td>\n",
       "      <td>0.000000</td>\n",
       "      <td>0.000000</td>\n",
       "      <td>0.000000</td>\n",
       "      <td>0.000000</td>\n",
       "      <td>0.000000</td>\n",
       "      <td>0.000000</td>\n",
       "    </tr>\n",
       "    <tr>\n",
       "      <th>5</th>\n",
       "      <td>0.00000</td>\n",
       "      <td>0.00000</td>\n",
       "      <td>0.269090</td>\n",
       "      <td>0.000000</td>\n",
       "      <td>0.227184</td>\n",
       "      <td>0.00000</td>\n",
       "      <td>0.328153</td>\n",
       "      <td>0.269090</td>\n",
       "      <td>0.000000</td>\n",
       "      <td>0.000000</td>\n",
       "      <td>...</td>\n",
       "      <td>0.000000</td>\n",
       "      <td>0.000000</td>\n",
       "      <td>0.328153</td>\n",
       "      <td>0.000000</td>\n",
       "      <td>0.000000</td>\n",
       "      <td>0.227184</td>\n",
       "      <td>0.000000</td>\n",
       "      <td>0.269090</td>\n",
       "      <td>0.000000</td>\n",
       "      <td>0.000000</td>\n",
       "    </tr>\n",
       "  </tbody>\n",
       "</table>\n",
       "<p>6 rows × 41 columns</p>\n",
       "</div>"
      ],
      "text/plain": [
       "    across      all       and      best  document  documents   engines  \\\n",
       "0  0.00000  0.00000  0.000000  0.194802  0.000000    0.00000  0.000000   \n",
       "1  0.00000  0.00000  0.000000  0.000000  0.223564    0.00000  0.000000   \n",
       "2  0.00000  0.00000  0.270703  0.000000  0.000000    0.00000  0.000000   \n",
       "3  0.00000  0.00000  0.000000  0.000000  0.305524    0.00000  0.000000   \n",
       "4  0.38397  0.38397  0.000000  0.000000  0.000000    0.38397  0.000000   \n",
       "5  0.00000  0.00000  0.269090  0.000000  0.227184    0.00000  0.328153   \n",
       "\n",
       "        for  frequency  frequently  ...    stands  statistical     tasks  \\\n",
       "0  0.000000   0.000000    0.000000  ...  0.000000     0.000000  0.000000   \n",
       "1  0.264802   0.645847    0.000000  ...  0.322923     0.000000  0.000000   \n",
       "2  0.000000   0.000000    0.000000  ...  0.000000     0.330119  0.000000   \n",
       "3  0.000000   0.000000    0.441309  ...  0.000000     0.000000  0.000000   \n",
       "4  0.000000   0.000000    0.000000  ...  0.000000     0.000000  0.000000   \n",
       "5  0.269090   0.000000    0.000000  ...  0.000000     0.000000  0.328153   \n",
       "\n",
       "       term      text        tf       the      used       won     world  \n",
       "0  0.000000  0.000000  0.000000  0.389604  0.000000  0.194802  0.194802  \n",
       "1  0.223564  0.000000  0.223564  0.000000  0.000000  0.000000  0.000000  \n",
       "2  0.000000  0.330119  0.000000  0.000000  0.270703  0.000000  0.000000  \n",
       "3  0.305524  0.000000  0.305524  0.000000  0.000000  0.000000  0.000000  \n",
       "4  0.265827  0.000000  0.000000  0.000000  0.000000  0.000000  0.000000  \n",
       "5  0.000000  0.000000  0.227184  0.000000  0.269090  0.000000  0.000000  \n",
       "\n",
       "[6 rows x 41 columns]"
      ]
     },
     "execution_count": 31,
     "metadata": {},
     "output_type": "execute_result"
    }
   ],
   "source": [
    "sklearn_tfidf_df"
   ]
  },
  {
   "cell_type": "markdown",
   "metadata": {},
   "source": [
    "### Visualizing the results"
   ]
  },
  {
   "cell_type": "code",
   "execution_count": 19,
   "metadata": {
    "scrolled": true
   },
   "outputs": [
    {
     "data": {
      "image/png": "[encoded data removed]",
      "text/plain": [
       "<Figure size 640x480 with 1 Axes>"
      ]
     },
     "metadata": {},
     "output_type": "display_data"
    }
   ],
   "source": [
    "document_idx = 0\n",
    "tfidf_scores = sklearn_tfidf_df.iloc[document_idx].sort_values(ascending=False).head(10)\n",
    "tfidf_scores.plot(kind=\"bar\", title=\"Top TF-IDF Terms for Document\")\n",
    "plt.show()"
   ]
  },
  {
   "cell_type": "markdown",
   "metadata": {},
   "source": [
    "## Summary\n",
    "- We manually calculated TF-IDF.\n",
    "- We used Scikit-learn's `TfidfVectorizer` to streamline the process.\n",
    "- Visualizations helped interpret the importance of terms within documents."
   ]
  },
  {
   "cell_type": "markdown",
   "metadata": {},
   "source": [
    "Exercise: Search Using TF-IDF\n",
    "Task:\n",
    "You are given three documents related to the solar system. Your task is to:\n",
    "\n",
    "1. Preprocess the text.\n",
    "2. Compute the TF-IDF scores for each word in the documents.\n",
    "3. Implement a search function where the user inputs a query, and the function returns the document most relevant to the query based on cosine similarity."
   ]
  },
  {
   "cell_type": "markdown",
   "metadata": {},
   "source": [
    "# Exercise"
   ]
  },
  {
   "cell_type": "code",
   "execution_count": 53,
   "metadata": {},
   "outputs": [
    {
     "data": {
      "text/plain": [
       "['The Solar System consists of the Sun and the objects that orbit it, including eight planets.',\n",
       " 'Jupiter is the largest planet in the Solar System and has a Great Red Spot.',\n",
       " 'Saturn is known for its extensive ring system and is the second-largest planet in the Solar System.']"
      ]
     },
     "execution_count": 53,
     "metadata": {},
     "output_type": "execute_result"
    }
   ],
   "source": [
    "documents"
   ]
  },
  {
   "cell_type": "code",
   "execution_count": 54,
   "metadata": {},
   "outputs": [],
   "source": [
    "vectorizer = TfidfVectorizer()\n",
    "tfidf_matrix = vectorizer.fit_transform(documents)"
   ]
  },
  {
   "cell_type": "code",
   "execution_count": 55,
   "metadata": {},
   "outputs": [],
   "source": [
    "def search(query, tfidf_matrix, vectorizer):\n",
    "    \n",
    "    query_vec = vectorizer.transform([query])\n",
    "    similarities = cosine_similarity(query_vec, tfidf_matrix)    \n",
    "    print(similarities)\n",
    "    most_relevant_idx = np.argmax(similarities)\n",
    "    \n",
    "    return most_relevant_idx, similarities[0, most_relevant_idx], most_relevant_idx"
   ]
  },
  {
   "cell_type": "code",
   "execution_count": 56,
   "metadata": {},
   "outputs": [
    {
     "name": "stdout",
     "output_type": "stream",
     "text": [
      "[[0.         0.40224083 0.24149657]]\n",
      "Query: what is Jupiter?\n",
      "Most relevant document: Jupiter is the largest planet in the Solar System and has a Great Red Spot.\n",
      "Relevance score: 0.40\n",
      "most relevant document index is 1\n"
     ]
    }
   ],
   "source": [
    "query = \"what is Jupiter?\"\n",
    "most_relevant_idx, score, document_idx = search(query, tfidf_matrix, vectorizer)\n",
    "\n",
    "print(f\"Query: {query}\")\n",
    "print(f\"Most relevant document: {documents[most_relevant_idx]}\")\n",
    "print(f\"Relevance score: {score:.2f}\")\n",
    "print(f'most relevant document index is {most_relevant_idx}')"
   ]
  },
  {
   "cell_type": "code",
   "execution_count": 39,
   "metadata": {},
   "outputs": [],
   "source": [
    "feature_names = vectorizer.get_feature_names_out()  \n",
    "df = pd.DataFrame(tfidf_matrix.toarray(), columns=feature_names, index=[f\"Doc {i+1}\" for i in range(len(documents))])"
   ]
  },
  {
   "cell_type": "markdown",
   "metadata": {},
   "source": [
    "In the course Github repo and the website, please find a zip file called sports_files.zip. The zip contains a few txt files with explanations about different sports. Your task it to write software that receives a query and returns the right document to search for. Do it either using a real API or a simple input prompt."
   ]
  },
  {
   "cell_type": "code",
   "execution_count": null,
   "metadata": {},
   "outputs": [],
   "source": []
  },
  {
   "cell_type": "code",
   "execution_count": null,
   "metadata": {},
   "outputs": [],
   "source": []
  },
  {
   "cell_type": "code",
   "execution_count": null,
   "metadata": {},
   "outputs": [],
   "source": []
  }
 ],
 "metadata": {
  "kernelspec": {
   "display_name": "Python 3 (ipykernel)",
   "language": "python",
   "name": "python3"
  },
  "language_info": {
   "codemirror_mode": {
    "name": "ipython",
    "version": 3
   },
   "file_extension": ".py",
   "mimetype": "text/x-python",
   "name": "python",
   "nbconvert_exporter": "python",
   "pygments_lexer": "ipython3",
   "version": "3.11.2"
  },
  "toc": {
   "base_numbering": 1,
   "nav_menu": {},
   "number_sections": true,
   "sideBar": true,
   "skip_h1_title": false,
   "title_cell": "Table of Contents",
   "title_sidebar": "Contents",
   "toc_cell": false,
   "toc_position": {},
   "toc_section_display": true,
   "toc_window_display": false
  }
 },
 "nbformat": 4,
 "nbformat_minor": 4
}
