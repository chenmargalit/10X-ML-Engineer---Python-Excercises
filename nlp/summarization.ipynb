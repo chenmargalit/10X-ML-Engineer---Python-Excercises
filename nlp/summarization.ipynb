{
 "cells": [
  {
   "cell_type": "code",
   "execution_count": 27,
   "id": "d6e7b1c3",
   "metadata": {},
   "outputs": [],
   "source": [
    "real_madrid = '''\n",
    "Real Madrid Club de Fútbol, commonly known as Real Madrid, is one of the most prestigious and successful football clubs in the world. Founded on 6 March 1902 in Madrid, Spain, the club has become a global sporting phenomenon that transcends the boundaries of football. With a rich history spanning over a century, Real Madrid has established itself as a symbol of excellence, tradition, and sporting achievement. \\\n",
    "The club's home stadium, Santiago Bernabéu, located in the heart of Madrid, is more than just a football ground—it's a cathedral of football that has witnessed countless historic moments. Named after the club's legendary president Santiago Bernabéu, the stadium has a capacity of over 81,000 spectators and is considered one of the most iconic venues in world football. \\\n",
    "Real Madrid's most remarkable achievement is undoubtedly their success in the UEFA Champions League, the most prestigious club competition in European football. The club has won the tournament a record 14 times, significantly more than any other team in history. Their European dominance was particularly evident during the 1950s, when they won five consecutive European Cups from 1956 to 1960, a feat that remains unmatched in the competition's history. \\\n",
    "The club is renowned for its policy of signing the world's best players, a strategy that has earned them the nickname Los Blancos (The Whites) and the moniker Galácticos during periods when they assembled star-studded lineups. Legendary players like Alfredo Di Stéfano, who is considered one of the greatest footballers of all time, helped establish the club's global reputation in the 1950s and 1960s. \\\n",
    "Throughout different eras, Real Madrid has been home to some of football's most iconic players. In the 1980s and 1990s, players like Hugo Sánchez brought flair and goal-scoring prowess. The early 2000s saw the emergence of the first Galácticos era, with players like Zinedine Zidane, Ronaldo (the Brazilian), David Beckham, and Luis Figo creating a team of global superstars. \\\n",
    "More recently, Cristiano Ronaldo's nine-year tenure from 2009 to 2018 marked another golden period for the club. During this time, Real Madrid won four Champions League titles in five years (2014, 2016, 2017, 2018), a feat that solidified their status as the most successful team in the modern Champions League era. Ronaldo became the club's all-time leading goal scorer and won multiple individual awards while wearing the white jersey. \\\n",
    "The club's success is not just limited to men's football. Real Madrid's women's team, founded in 2020, has quickly become a powerhouse in women's football, competing at the highest levels and attracting top talent from around the world. \\\n",
    "Beyond football, Real Madrid is a global brand with millions of fans worldwide. The club has a massive social media following and generates significant revenue through sponsorships, merchandise, and broadcasting rights. Their economic model and global appeal have made them one of the most valuable sports franchises in the world. \\\n",
    "The club's philosophy emphasizes not just winning, but winning with style and dignity. They have a commitment to developing young talent through their youth academy, Cantera, while also being willing to invest in the world's best players. This balance of nurturing homegrown talent and acquiring global superstars has been key to their sustained success. \\\n",
    "Now, let's use the NLTK summarization technique to generate a summary. This is a non important sentence I add here\n",
    "just for testing\n",
    "'''"
   ]
  },
  {
   "cell_type": "code",
   "execution_count": 8,
   "id": "e089af94-be79-49ca-ace9-1820e145e43c",
   "metadata": {},
   "outputs": [],
   "source": [
    "import networkx as nx\n",
    "from sklearn.feature_extraction.text import TfidfVectorizer\n",
    "from sklearn.metrics.pairwise import cosine_similarity"
   ]
  },
  {
   "cell_type": "markdown",
   "id": "fe6c9670",
   "metadata": {},
   "source": [
    "# Summarization in Natural Language Processing (NLP)\n",
    "\n",
    "This notebook provides a detailed overview of summarization techniques in NLP, including extractive and abstractive methods, key algorithms, metrics, challenges, and applications. It also includes practical examples and code implementations.\n"
   ]
  },
  {
   "cell_type": "markdown",
   "id": "24ebe4b0",
   "metadata": {
    "heading_collapsed": true
   },
   "source": [
    "## Extractive Summarization"
   ]
  },
  {
   "cell_type": "markdown",
   "id": "6264a940",
   "metadata": {
    "hidden": true
   },
   "source": [
    "### How Extractive Summarization Works"
   ]
  },
  {
   "cell_type": "markdown",
   "id": "7142e9ad",
   "metadata": {
    "hidden": true
   },
   "source": [
    "\n",
    "Extractive summarization involves selecting important sentences or phrases directly from the text. The most important sentences are chosen based on statistical or heuristic techniques.\n"
   ]
  },
  {
   "cell_type": "markdown",
   "id": "9e06b152",
   "metadata": {
    "hidden": true
   },
   "source": [
    "### Example: Using TextRank for Extractive Summarization"
   ]
  },
  {
   "cell_type": "code",
   "execution_count": 5,
   "id": "0af47840",
   "metadata": {
    "hidden": true
   },
   "outputs": [
    {
     "data": {
      "text/plain": [
       "\"\\nReal Madrid Club de Fútbol, commonly known as Real Madrid, is one of the most prestigious and successful football clubs in the world. Founded on 6 March 1902 in Madrid, Spain, the club has become a global sporting phenomenon that transcends the boundaries of football. With a rich history spanning over a century, Real Madrid has established itself as a symbol of excellence, tradition, and sporting achievement. The club's home stadium, Santiago Bernabéu, located in the heart of Madrid, is more than just a football ground—it's a cathedral of football that has witnessed countless historic moments. Named after the club's legendary president Santiago Bernabéu, the stadium has a capacity of over 81,000 spectators and is considered one of the most iconic venues in world football. Real Madrid's most remarkable achievement is undoubtedly their success in the UEFA Champions League, the most prestigious club competition in European football. The club has won the tournament a record 14 times, significantly more than any other team in history. Their European dominance was particularly evident during the 1950s, when they won five consecutive European Cups from 1956 to 1960, a feat that remains unmatched in the competition's history. The club is renowned for its policy of signing the world's best players, a strategy that has earned them the nickname Los Blancos (The Whites) and the moniker Galácticos during periods when they assembled star-studded lineups. Legendary players like Alfredo Di Stéfano, who is considered one of the greatest footballers of all time, helped establish the club's global reputation in the 1950s and 1960s. Throughout different eras, Real Madrid has been home to some of football's most iconic players. In the 1980s and 1990s, players like Hugo Sánchez brought flair and goal-scoring prowess. The early 2000s saw the emergence of the first Galácticos era, with players like Zinedine Zidane, Ronaldo (the Brazilian), David Beckham, and Luis Figo creating a team of global superstars. More recently, Cristiano Ronaldo's nine-year tenure from 2009 to 2018 marked another golden period for the club. During this time, Real Madrid won four Champions League titles in five years (2014, 2016, 2017, 2018), a feat that solidified their status as the most successful team in the modern Champions League era. Ronaldo became the club's all-time leading goal scorer and won multiple individual awards while wearing the white jersey. The club's success is not just limited to men's football. Real Madrid's women's team, founded in 2020, has quickly become a powerhouse in women's football, competing at the highest levels and attracting top talent from around the world. Beyond football, Real Madrid is a global brand with millions of fans worldwide. The club has a massive social media following and generates significant revenue through sponsorships, merchandise, and broadcasting rights. Their economic model and global appeal have made them one of the most valuable sports franchises in the world. The club's philosophy emphasizes not just winning, but winning with style and dignity. They have a commitment to developing young talent through their youth academy, Cantera, while also being willing to invest in the world's best players. This balance of nurturing homegrown talent and acquiring global superstars has been key to their sustained success. Now, let's use the NLTK summarization technique to generate a summary. This is a non important sentence I add here\\njust for testing\\n\""
      ]
     },
     "execution_count": 5,
     "metadata": {},
     "output_type": "execute_result"
    }
   ],
   "source": [
    "real_madrid"
   ]
  },
  {
   "cell_type": "code",
   "execution_count": 28,
   "id": "1eedc36f-b3aa-4c53-9ef0-68a0c1f3421d",
   "metadata": {},
   "outputs": [],
   "source": [
    "sentences = real_madrid.split('. ')"
   ]
  },
  {
   "cell_type": "code",
   "execution_count": 31,
   "id": "c1dcfe65",
   "metadata": {
    "hidden": true
   },
   "outputs": [],
   "source": [
    "vectorizer = TfidfVectorizer()\n",
    "tfidf = vectorizer.fit_transform(sentences)"
   ]
  },
  {
   "cell_type": "code",
   "execution_count": 32,
   "id": "596e2868-37bc-4141-852a-e93583d3db4f",
   "metadata": {},
   "outputs": [
    {
     "data": {
      "text/plain": [
       "<26x279 sparse matrix of type '<class 'numpy.float64'>'\n",
       "\twith 497 stored elements in Compressed Sparse Row format>"
      ]
     },
     "execution_count": 32,
     "metadata": {},
     "output_type": "execute_result"
    }
   ],
   "source": [
    "tfidf"
   ]
  },
  {
   "cell_type": "code",
   "execution_count": 34,
   "id": "54ed7ced-44cf-4bb0-b1b8-e081ff533e1f",
   "metadata": {},
   "outputs": [],
   "source": [
    "similarity_matrix = cosine_similarity(tfidf)"
   ]
  },
  {
   "cell_type": "code",
   "execution_count": 37,
   "id": "18254559-47c3-4157-8da0-f0a13c06eeb6",
   "metadata": {},
   "outputs": [
    {
     "data": {
      "text/plain": [
       "(26, 26)"
      ]
     },
     "execution_count": 37,
     "metadata": {},
     "output_type": "execute_result"
    }
   ],
   "source": [
    "similarity_matrix.shape"
   ]
  },
  {
   "cell_type": "code",
   "execution_count": 38,
   "id": "0d88289d-23f3-4a10-b76d-2eedc49626c9",
   "metadata": {},
   "outputs": [],
   "source": [
    "graph = nx.from_numpy_array(similarity_matrix)"
   ]
  },
  {
   "cell_type": "code",
   "execution_count": 41,
   "id": "b2e7c996-748c-43d3-bcdd-b6433ae67acb",
   "metadata": {},
   "outputs": [
    {
     "data": {
      "text/plain": [
       "EdgeDataView([(0, 0, {'weight': 0.9999999999999997}), (0, 1, {'weight': 0.15814794558931544}), (0, 2, {'weight': 0.18301775579061544}), (0, 3, {'weight': 0.1823216253076884}), (0, 4, {'weight': 0.24222703065062026}), (0, 5, {'weight': 0.35345485066949206}), (0, 6, {'weight': 0.070835503298112}), (0, 7, {'weight': 0.03834551590478817}), (0, 8, {'weight': 0.13343943719187212}), (0, 9, {'weight': 0.16659066702182698}), (0, 10, {'weight': 0.21205637818206347}), (0, 11, {'weight': 0.07084114648830608}), (0, 12, {'weight': 0.09260636060896665}), (0, 13, {'weight': 0.03178134047489587}), (0, 14, {'weight': 0.21961340047842326}), (0, 15, {'weight': 0.06357343800329977}), (0, 16, {'weight': 0.12464419007975781}), (0, 17, {'weight': 0.19212929111834354}), (0, 18, {'weight': 0.22138432461655055}), (0, 19, {'weight': 0.06468604111353028}), (0, 20, {'weight': 0.199093707313793}), (0, 21, {'weight': 0.05244052261484362}), (0, 22, {'weight': 0.056306030058494896}), (0, 23, {'weight': 0.03579731308009815}), (0, 24, {'weight': 0.02105019295458895}), (0, 25, {'weight': 0.029374236967162234}), (1, 1, {'weight': 1.0000000000000004}), (1, 2, {'weight': 0.12393087951943879}), (1, 3, {'weight': 0.19970724116484417}), (1, 4, {'weight': 0.14252065671400363}), (1, 5, {'weight': 0.13261614792669743}), (1, 6, {'weight': 0.09728834748404874}), (1, 7, {'weight': 0.06921290040860247}), (1, 8, {'weight': 0.12883455810605052}), (1, 9, {'weight': 0.1307148690766536}), (1, 10, {'weight': 0.10613159352373676}), (1, 11, {'weight': 0.03740928373023948}), (1, 12, {'weight': 0.10959816780803161}), (1, 13, {'weight': 0.03309581167819439}), (1, 14, {'weight': 0.09246046103024715}), (1, 15, {'weight': 0.05011553099842794}), (1, 16, {'weight': 0.09186382658157767}), (1, 17, {'weight': 0.2096744856143382}), (1, 18, {'weight': 0.13219366133537575}), (1, 19, {'weight': 0.05594492019753312}), (1, 20, {'weight': 0.1087126026309031}), (1, 21, {'weight': 0.036749290505493845}), (1, 22, {'weight': 0.029647654958048622}), (1, 23, {'weight': 0.0787019943714493}), (1, 24, {'weight': 0.021920825597807413}), (2, 2, {'weight': 1.0000000000000002}), (2, 3, {'weight': 0.0657667407825617}), (2, 4, {'weight': 0.10984971969514484}), (2, 5, {'weight': 0.1093233566973609}), (2, 6, {'weight': 0.0747522091683537}), (2, 7, {'weight': 0.037498993527852874}), (2, 8, {'weight': 0.03789781888594616}), (2, 9, {'weight': 0.04213076533467513}), (2, 10, {'weight': 0.10717635890538268}), (2, 11, {'weight': 0.0344920834582457}), (2, 12, {'weight': 0.07171809740338514}), (2, 14, {'weight': 0.0706509086631894}), (2, 15, {'weight': 0.015260071487687085}), (2, 17, {'weight': 0.0699869741907561}), (2, 18, {'weight': 0.14545695749981252}), (2, 19, {'weight': 0.052160929568453446}), (2, 20, {'weight': 0.034683301496360744}), (2, 21, {'weight': 0.06148386674245617}), (2, 23, {'weight': 0.057548671190316175}), (3, 3, {'weight': 1.0000000000000004}), (3, 4, {'weight': 0.302127155275623}), (3, 5, {'weight': 0.14684060428978796}), (3, 6, {'weight': 0.1783810241771327}), (3, 7, {'weight': 0.056292546581297453}), (3, 8, {'weight': 0.12902174165431565}), (3, 9, {'weight': 0.12468299938099983}), (3, 10, {'weight': 0.18834871482760812}), (3, 11, {'weight': 0.03042588642471833}), (3, 12, {'weight': 0.09094963731874817}), (3, 13, {'weight': 0.06726296948145283}), (3, 14, {'weight': 0.07520035685177727}), (3, 15, {'weight': 0.04076018844060498}), (3, 16, {'weight': 0.19246688034976123}), (3, 17, {'weight': 0.10564514323812323}), (3, 18, {'weight': 0.14291004165663676}), (3, 19, {'weight': 0.04550137340892564}), (3, 20, {'weight': 0.07533293619893588}), (3, 21, {'weight': 0.06808008285085823}), (3, 22, {'weight': 0.024113163700690027}), (3, 23, {'weight': 0.05066887583594117}), (3, 24, {'weight': 0.017828744190464534}), (3, 25, {'weight': 0.07006949073798677}), (4, 4, {'weight': 1.0}), (4, 5, {'weight': 0.1770609264248433}), (4, 6, {'weight': 0.0949642505925032}), (4, 7, {'weight': 0.043695785615058214}), (4, 8, {'weight': 0.1619207818755563}), (4, 9, {'weight': 0.26959311571818906}), (4, 10, {'weight': 0.17473278110158078}), (4, 11, {'weight': 0.06811952779788527}), (4, 12, {'weight': 0.12445753093963957}), (4, 13, {'weight': 0.03398524245813195}), (4, 14, {'weight': 0.06915713550881541}), (4, 15, {'weight': 0.06798198792608484}), (4, 16, {'weight': 0.11735860061031796}), (4, 17, {'weight': 0.11886989293073497}), (4, 18, {'weight': 0.09142252469069047}), (4, 19, {'weight': 0.07999840139145453}), (4, 20, {'weight': 0.20006391686503155}), (4, 21, {'weight': 0.05232731777911014}), (4, 22, {'weight': 0.05412476866836792}), (4, 23, {'weight': 0.06545391633055947}), (4, 24, {'weight': 0.026861500235529984}), (4, 25, {'weight': 0.024989036914898583}), (5, 5, {'weight': 1.0000000000000002}), (5, 6, {'weight': 0.08801859698908052}), (5, 7, {'weight': 0.21286444772741295}), (5, 8, {'weight': 0.0871604022369592}), (5, 9, {'weight': 0.10207535255541936}), (5, 10, {'weight': 0.16743790038866938}), (5, 11, {'weight': 0.05336416683209741}), (5, 12, {'weight': 0.05282795683841724}), (5, 13, {'weight': 0.03177053286290467}), (5, 14, {'weight': 0.342542310994593}), (5, 15, {'weight': 0.04810871961712643}), (5, 16, {'weight': 0.2021950328590377}), (5, 17, {'weight': 0.1378362525889396}), (5, 18, {'weight': 0.12973140854339857}), (5, 19, {'weight': 0.03279108949599366}), (5, 20, {'weight': 0.17034836570912087}), (5, 21, {'weight': 0.035277712873332395}), (5, 22, {'weight': 0.07011866942978572}), (5, 23, {'weight': 0.08718996126178055}), (5, 24, {'weight': 0.021043034593286575}), (5, 25, {'weight': 0.02936424791852757}), (6, 6, {'weight': 1.0000000000000002}), (6, 7, {'weight': 0.11761348315747175}), (6, 8, {'weight': 0.09271811697609647}), (6, 9, {'weight': 0.07502016110796231}), (6, 10, {'weight': 0.027319215907371512}), (6, 11, {'weight': 0.03888023263213657}), (6, 12, {'weight': 0.09274118442853452}), (6, 13, {'weight': 0.08595312111737101}), (6, 14, {'weight': 0.11478943413494101}), (6, 15, {'weight': 0.09604471441954826}), (6, 16, {'weight': 0.05604867880506001}), (6, 17, {'weight': 0.11132807519973378}), (6, 19, {'weight': 0.05814469818645947}), (6, 20, {'weight': 0.05660253464817518}), (6, 21, {'weight': 0.03819428819388469}), (6, 22, {'weight': 0.03081341332484444}), (6, 23, {'weight': 0.02431012427561274}), (6, 24, {'weight': 0.022782761757138576}), (7, 7, {'weight': 0.9999999999999996}), (7, 8, {'weight': 0.15235458646904235}), (7, 9, {'weight': 0.08189804908681846}), (7, 10, {'weight': 0.026641874810821205}), (7, 11, {'weight': 0.027803319078030523}), (7, 12, {'weight': 0.040900592833235064}), (7, 13, {'weight': 0.07090483725584311}), (7, 14, {'weight': 0.18891765107661473}), (7, 15, {'weight': 0.0567253400525996}), (7, 16, {'weight': 0.05546195312204938}), (7, 17, {'weight': 0.07113863291849343}), (7, 19, {'weight': 0.013049220081671468}), (7, 20, {'weight': 0.06661584150411798}), (7, 21, {'weight': 0.014038772310946647}), (7, 22, {'weight': 0.1149352076422048}), (7, 23, {'weight': 0.0503574326253589}), (7, 24, {'weight': 0.04386046459731917}), (8, 8, {'weight': 1.0000000000000002}), (8, 9, {'weight': 0.1479031142211649}), (8, 10, {'weight': 0.0601919409423588}), (8, 11, {'weight': 0.08235462315670757}), (8, 12, {'weight': 0.17259095400276098}), (8, 13, {'weight': 0.07364980278917298}), (8, 14, {'weight': 0.08545481393266513}), (8, 15, {'weight': 0.07979332405347693}), (8, 16, {'weight': 0.09081666773802796}), (8, 17, {'weight': 0.0869745115064846}), (8, 18, {'weight': 0.03808137968231752}), (8, 19, {'weight': 0.07859469134589413}), (8, 20, {'weight': 0.15604461197133446}), (8, 21, {'weight': 0.056448454229673886}), (8, 22, {'weight': 0.13214449182905935}), (8, 23, {'weight': 0.0412888985869308}), (8, 24, {'weight': 0.037296533969308286}), (8, 25, {'weight': 0.06517519347717067}), (9, 9, {'weight': 1.0000000000000002}), (9, 10, {'weight': 0.0679788754079782}), (9, 11, {'weight': 0.14242371311422988}), (9, 12, {'weight': 0.19806869100222216}), (9, 13, {'weight': 0.0336588457996774}), (9, 14, {'weight': 0.07871516131563071}), (9, 15, {'weight': 0.1559425980212811}), (9, 16, {'weight': 0.08553855967113388}), (9, 17, {'weight': 0.06640119252833876}), (9, 18, {'weight': 0.10060779514742449}), (9, 19, {'weight': 0.061603511292246005}), (9, 20, {'weight': 0.16968692293944188}), (9, 21, {'weight': 0.051824762539434216}), (9, 22, {'weight': 0.053604950583952475}), (9, 23, {'weight': 0.07491220267839824}), (9, 24, {'weight': 0.026603520498332162}), (9, 25, {'weight': 0.024749040447106175}), (10, 10, {'weight': 1.0000000000000002}), (10, 11, {'weight': 0.04247845967442445}), (10, 12, {'weight': 0.06337239461643965}), (10, 13, {'weight': 0.03343091142027666}), (10, 14, {'weight': 0.07182705419247434}), (10, 16, {'weight': 0.09853184291589023}), (10, 17, {'weight': 0.0925960790515232}), (10, 18, {'weight': 0.14784102969706756}), (10, 19, {'weight': 0.02530176400127635}), (10, 20, {'weight': 0.0630065147788423}), (10, 22, {'weight': 0.09356076823149204}), (10, 23, {'weight': 0.16389343190533495}), (10, 24, {'weight': 0.043079352425392695}), (11, 11, {'weight': 1.0000000000000002}), (11, 12, {'weight': 0.1263111065216619}), (11, 13, {'weight': 0.00896629456543313}), (11, 14, {'weight': 0.037978788452136855}), (11, 15, {'weight': 0.11500770447779352}), (11, 16, {'weight': 0.014610190667138636}), (11, 17, {'weight': 0.07088473538517384}), (11, 19, {'weight': 0.07925590502703782}), (11, 20, {'weight': 0.07477814098802103}), (11, 21, {'weight': 0.047611077133309226}), (11, 22, {'weight': 0.05377845134711856}), (11, 23, {'weight': 0.0375784194928321}), (11, 24, {'weight': 0.01155404226580253}), (12, 12, {'weight': 1.0000000000000002}), (12, 13, {'weight': 0.06307663008243886}), (12, 14, {'weight': 0.09405972405723753}), (12, 15, {'weight': 0.10088709810229535}), (12, 16, {'weight': 0.0418144050691661}), (12, 17, {'weight': 0.07881635574311588}), (12, 18, {'weight': 0.11343405050472138}), (12, 19, {'weight': 0.051528970730515405}), (12, 20, {'weight': 0.12428027585460391}), (12, 21, {'weight': 0.07738263711930662}), (12, 22, {'weight': 0.04485162798509604}), (12, 23, {'weight': 0.119901032342815}), (12, 24, {'weight': 0.033067700107102804}), (13, 13, {'weight': 1.0000000000000007}), (13, 14, {'weight': 0.05254510734851237}), (13, 15, {'weight': 0.0771411956169576}), (13, 16, {'weight': 0.08111244372780174}), (13, 17, {'weight': 0.05135401934762255}), (13, 19, {'weight': 0.02366976526657434}), (13, 20, {'weight': 0.01724345208994473}), (13, 21, {'weight': 0.025464697748313794}), (13, 22, {'weight': 0.05520348078589527}), (13, 23, {'weight': 0.02974864337356895}), (13, 24, {'weight': 0.04481543673862708}), (13, 25, {'weight': 0.060784548943983795}), (14, 14, {'weight': 1.0}), (14, 15, {'weight': 0.08603959581870567}), (14, 16, {'weight': 0.018937457622087393}), (14, 17, {'weight': 0.10883057179209404}), (14, 18, {'weight': 0.04874071966050096}), (14, 19, {'weight': 0.011995273105060811}), (14, 20, {'weight': 0.09720728792324725}), (14, 21, {'weight': 0.012904902122548965}), (14, 22, {'weight': 0.049902814395996455}), (14, 23, {'weight': 0.06205229633454058}), (14, 24, {'weight': 0.014976134860757035}), (14, 25, {'weight': 0.04452822149185027}), (15, 15, {'weight': 1.0000000000000002}), (15, 16, {'weight': 0.05030256073969783}), (15, 17, {'weight': 0.038633465135020216}), (15, 19, {'weight': 0.06283267860844641}), (15, 20, {'weight': 0.05079963520752315}), (15, 21, {'weight': 0.05093801455146137}), (15, 22, {'weight': 0.06426595053850112}), (15, 23, {'weight': 0.016625535785598437}), (15, 24, {'weight': 0.020447069967384594}), (16, 16, {'weight': 1.0}), (16, 17, {'weight': 0.05061243223457065}), (16, 18, {'weight': 0.09695428835741914}), (16, 19, {'weight': 0.03856886265194449}), (16, 20, {'weight': 0.028097462218674374}), (16, 21, {'weight': 0.21392677210426495}), (16, 22, {'weight': 0.0899516934097841}), (16, 23, {'weight': 0.13200846540473993}), (16, 24, {'weight': 0.07302482322036027}), (16, 25, {'weight': 0.13092080888475915}), (17, 17, {'weight': 1.0}), (17, 18, {'weight': 0.07958866775987375}), (17, 19, {'weight': 0.05592497953590566}), (17, 20, {'weight': 0.0960494924503926}), (17, 21, {'weight': 0.028329589753828245}), (17, 22, {'weight': 0.09056456065010743}), (17, 23, {'weight': 0.07414687355976117}), (17, 24, {'weight': 0.01689850301077957}), (18, 18, {'weight': 1.0000000000000002}), (18, 20, {'weight': 0.06932685818841594}), (18, 21, {'weight': 0.06000490733678892}), (18, 23, {'weight': 0.07068152387708934}), (18, 25, {'weight': 0.03908923540736658}), (19, 19, {'weight': 1.0}), (19, 20, {'weight': 0.051453096901109864}), (19, 21, {'weight': 0.06066598646016437}), (19, 22, {'weight': 0.05898488238765136}), (19, 23, {'weight': 0.05682826596521019}), (19, 24, {'weight': 0.010550157501425272}), (20, 20, {'weight': 1.0000000000000002}), (20, 21, {'weight': 0.0372509382744631}), (20, 22, {'weight': 0.1432097217688335}), (20, 23, {'weight': 0.11048080696446154}), (20, 24, {'weight': 0.022220056769453034}), (21, 21, {'weight': 1.0000000000000007}), (21, 22, {'weight': 0.007890415611121242}), (21, 23, {'weight': 0.018457721145340934}), (21, 24, {'weight': 0.011350200094729621}), (21, 25, {'weight': 0.05753879037669501}), (22, 22, {'weight': 0.9999999999999997}), (22, 23, {'weight': 0.12917943199337625}), (22, 24, {'weight': 0.07113566764565032}), (23, 23, {'weight': 1.0000000000000002}), (23, 24, {'weight': 0.03833435098302486}), (23, 25, {'weight': 0.06735737540996367}), (24, 24, {'weight': 1.0000000000000004}), (25, 25, {'weight': 1.0000000000000002})])"
      ]
     },
     "execution_count": 41,
     "metadata": {},
     "output_type": "execute_result"
    }
   ],
   "source": [
    "graph.edges(data=True)"
   ]
  },
  {
   "cell_type": "markdown",
   "id": "6f19c2c9-7f78-4756-a8aa-3f2e5a3154d6",
   "metadata": {},
   "source": [
    "PageRank is an algorithm that assigns importance to nodes based on their connections (weights) and the connections of their connections. The weights come from the ranking algorithm, TFIDF in our case. scores is calculated using PageRank."
   ]
  },
  {
   "cell_type": "code",
   "execution_count": 42,
   "id": "584f5afd-f6a5-40b1-a5a9-448c516a1d08",
   "metadata": {},
   "outputs": [],
   "source": [
    "scores = nx.pagerank(graph)"
   ]
  },
  {
   "cell_type": "code",
   "execution_count": 43,
   "id": "796b26d9-cef9-42b2-9a96-eb8e564edfc8",
   "metadata": {},
   "outputs": [
    {
     "data": {
      "text/plain": [
       "<26x279 sparse matrix of type '<class 'numpy.float64'>'\n",
       "\twith 497 stored elements in Compressed Sparse Row format>"
      ]
     },
     "execution_count": 43,
     "metadata": {},
     "output_type": "execute_result"
    }
   ],
   "source": [
    "tfidf"
   ]
  },
  {
   "cell_type": "code",
   "execution_count": 45,
   "id": "7e3064f7-b5ad-4cae-8e03-49a51106f081",
   "metadata": {},
   "outputs": [],
   "source": [
    "ranked_sentences = sorted(((scores[i], s) for i, s in enumerate(sentences)), reverse=True)"
   ]
  },
  {
   "cell_type": "code",
   "execution_count": 46,
   "id": "2d41b9b3-c1e7-46fd-9c10-6418f47c754c",
   "metadata": {},
   "outputs": [
    {
     "data": {
      "text/plain": [
       "[(0.051941662356947395,\n",
       "  '\\nReal Madrid Club de Fútbol, commonly known as Real Madrid, is one of the most prestigious and successful football clubs in the world'),\n",
       " (0.049894891925761325,\n",
       "  \"Real Madrid's most remarkable achievement is undoubtedly their success in the UEFA Champions League, the most prestigious club competition in European football\"),\n",
       " (0.04872450703016316,\n",
       "  \"Named after the club's legendary president Santiago Bernabéu, the stadium has a capacity of over 81,000 spectators and is considered one of the most iconic venues in world football\"),\n",
       " (0.046313960699239994,\n",
       "  \"The club's home stadium, Santiago Bernabéu, located in the heart of Madrid, is more than just a football ground—it's a cathedral of football that has witnessed countless historic moments\"),\n",
       " (0.04492313092784338,\n",
       "  \"Legendary players like Alfredo Di Stéfano, who is considered one of the greatest footballers of all time, helped establish the club's global reputation in the 1950s and 1960s\"),\n",
       " (0.04392758335587761,\n",
       "  \"The club is renowned for its policy of signing the world's best players, a strategy that has earned them the nickname Los Blancos (The Whites) and the moniker Galácticos during periods when they assembled star-studded lineups\"),\n",
       " (0.04298308879582437,\n",
       "  'Founded on 6 March 1902 in Madrid, Spain, the club has become a global sporting phenomenon that transcends the boundaries of football'),\n",
       " (0.04191665980548977,\n",
       "  \"The club's success is not just limited to men's football\"),\n",
       " (0.04133621433996259,\n",
       "  'Their economic model and global appeal have made them one of the most valuable sports franchises in the world'),\n",
       " (0.041326572365893766,\n",
       "  'The early 2000s saw the emergence of the first Galácticos era, with players like Zinedine Zidane, Ronaldo (the Brazilian), David Beckham, and Luis Figo creating a team of global superstars'),\n",
       " (0.04066442136463189,\n",
       "  'During this time, Real Madrid won four Champions League titles in five years (2014, 2016, 2017, 2018), a feat that solidified their status as the most successful team in the modern Champions League era'),\n",
       " (0.04016643135261561,\n",
       "  \"Real Madrid's women's team, founded in 2020, has quickly become a powerhouse in women's football, competing at the highest levels and attracting top talent from around the world\"),\n",
       " (0.039775846788553636,\n",
       "  \"Throughout different eras, Real Madrid has been home to some of football's most iconic players\"),\n",
       " (0.03667339051953625,\n",
       "  'The club has won the tournament a record 14 times, significantly more than any other team in history'),\n",
       " (0.0364589517902398,\n",
       "  'This balance of nurturing homegrown talent and acquiring global superstars has been key to their sustained success'),\n",
       " (0.036009870800901046,\n",
       "  'Beyond football, Real Madrid is a global brand with millions of fans worldwide'),\n",
       " (0.03570647587397294,\n",
       "  \"Their European dominance was particularly evident during the 1950s, when they won five consecutive European Cups from 1956 to 1960, a feat that remains unmatched in the competition's history\"),\n",
       " (0.03467450392470242,\n",
       "  \"They have a commitment to developing young talent through their youth academy, Cantera, while also being willing to invest in the world's best players\"),\n",
       " (0.033858859308943806,\n",
       "  'With a rich history spanning over a century, Real Madrid has established itself as a symbol of excellence, tradition, and sporting achievement'),\n",
       " (0.03350331483603302,\n",
       "  \"Ronaldo became the club's all-time leading goal scorer and won multiple individual awards while wearing the white jersey\"),\n",
       " (0.032321943664026784,\n",
       "  'In the 1980s and 1990s, players like Hugo Sánchez brought flair and goal-scoring prowess'),\n",
       " (0.03139980305581355,\n",
       "  \"The club's philosophy emphasizes not just winning, but winning with style and dignity\"),\n",
       " (0.030746066399148543,\n",
       "  \"More recently, Cristiano Ronaldo's nine-year tenure from 2009 to 2018 marked another golden period for the club\"),\n",
       " (0.030742523503774502,\n",
       "  'The club has a massive social media following and generates significant revenue through sponsorships, merchandise, and broadcasting rights'),\n",
       " (0.027041061587775365,\n",
       "  \"Now, let's use the NLTK summarization technique to generate a summary\"),\n",
       " (0.026968263626327618,\n",
       "  'This is a non important sentence I add here\\njust for testing\\n')]"
      ]
     },
     "execution_count": 46,
     "metadata": {},
     "output_type": "execute_result"
    }
   ],
   "source": [
    "ranked_sentences"
   ]
  },
  {
   "cell_type": "code",
   "execution_count": 48,
   "id": "ed8871fe-4eb4-4c3c-9ea3-4907b741a1f2",
   "metadata": {},
   "outputs": [
    {
     "data": {
      "text/plain": [
       "\"\\nReal Madrid Club de Fútbol, commonly known as Real Madrid, is one of the most prestigious and successful football clubs in the world. Founded on 6 March 1902 in Madrid, Spain, the club has become a global sporting phenomenon that transcends the boundaries of football. With a rich history spanning over a century, Real Madrid has established itself as a symbol of excellence, tradition, and sporting achievement. The club's home stadium, Santiago Bernabéu, located in the heart of Madrid, is more than just a football ground—it's a cathedral of football that has witnessed countless historic moments. Named after the club's legendary president Santiago Bernabéu, the stadium has a capacity of over 81,000 spectators and is considered one of the most iconic venues in world football. Real Madrid's most remarkable achievement is undoubtedly their success in the UEFA Champions League, the most prestigious club competition in European football. The club has won the tournament a record 14 times, significantly more than any other team in history. Their European dominance was particularly evident during the 1950s, when they won five consecutive European Cups from 1956 to 1960, a feat that remains unmatched in the competition's history. The club is renowned for its policy of signing the world's best players, a strategy that has earned them the nickname Los Blancos (The Whites) and the moniker Galácticos during periods when they assembled star-studded lineups. Legendary players like Alfredo Di Stéfano, who is considered one of the greatest footballers of all time, helped establish the club's global reputation in the 1950s and 1960s. Throughout different eras, Real Madrid has been home to some of football's most iconic players. In the 1980s and 1990s, players like Hugo Sánchez brought flair and goal-scoring prowess. The early 2000s saw the emergence of the first Galácticos era, with players like Zinedine Zidane, Ronaldo (the Brazilian), David Beckham, and Luis Figo creating a team of global superstars. More recently, Cristiano Ronaldo's nine-year tenure from 2009 to 2018 marked another golden period for the club. During this time, Real Madrid won four Champions League titles in five years (2014, 2016, 2017, 2018), a feat that solidified their status as the most successful team in the modern Champions League era. Ronaldo became the club's all-time leading goal scorer and won multiple individual awards while wearing the white jersey. The club's success is not just limited to men's football. Real Madrid's women's team, founded in 2020, has quickly become a powerhouse in women's football, competing at the highest levels and attracting top talent from around the world. Beyond football, Real Madrid is a global brand with millions of fans worldwide. The club has a massive social media following and generates significant revenue through sponsorships, merchandise, and broadcasting rights. Their economic model and global appeal have made them one of the most valuable sports franchises in the world. The club's philosophy emphasizes not just winning, but winning with style and dignity. They have a commitment to developing young talent through their youth academy, Cantera, while also being willing to invest in the world's best players. This balance of nurturing homegrown talent and acquiring global superstars has been key to their sustained success. Now, let's use the NLTK summarization technique to generate a summary. This is a non important sentence I add here\\njust for testing\\n\""
      ]
     },
     "execution_count": 48,
     "metadata": {},
     "output_type": "execute_result"
    }
   ],
   "source": [
    "real_madrid"
   ]
  },
  {
   "cell_type": "code",
   "execution_count": 47,
   "id": "24df37d4",
   "metadata": {
    "hidden": true
   },
   "outputs": [
    {
     "data": {
      "text/plain": [
       "\"\\nReal Madrid Club de Fútbol, commonly known as Real Madrid, is one of the most prestigious and successful football clubs in the world Real Madrid's most remarkable achievement is undoubtedly their success in the UEFA Champions League, the most prestigious club competition in European football Named after the club's legendary president Santiago Bernabéu, the stadium has a capacity of over 81,000 spectators and is considered one of the most iconic venues in world football The club's home stadium, Santiago Bernabéu, located in the heart of Madrid, is more than just a football ground—it's a cathedral of football that has witnessed countless historic moments Legendary players like Alfredo Di Stéfano, who is considered one of the greatest footballers of all time, helped establish the club's global reputation in the 1950s and 1960s\""
      ]
     },
     "execution_count": 47,
     "metadata": {},
     "output_type": "execute_result"
    }
   ],
   "source": [
    "ranked_sentences = sorted(((scores[i], s) for i, s in enumerate(sentences)), reverse=True)\n",
    "summary = ' '.join([s for _, s in ranked_sentences[:5]])\n",
    "summary"
   ]
  },
  {
   "cell_type": "code",
   "execution_count": 12,
   "id": "224ec587",
   "metadata": {
    "hidden": true
   },
   "outputs": [
    {
     "data": {
      "text/plain": [
       "<networkx.classes.graph.Graph at 0x11b376d50>"
      ]
     },
     "execution_count": 12,
     "metadata": {},
     "output_type": "execute_result"
    }
   ],
   "source": [
    "graph"
   ]
  },
  {
   "cell_type": "code",
   "execution_count": 21,
   "id": "3c916e49-f6cc-4a04-9e7f-035c2d9020fd",
   "metadata": {},
   "outputs": [
    {
     "data": {
      "text/plain": [
       "EdgeDataView([(0, 0, {'weight': 0.9999999999999997}), (0, 1, {'weight': 0.15814794558931544}), (0, 2, {'weight': 0.18301775579061544}), (0, 3, {'weight': 0.1823216253076884}), (0, 4, {'weight': 0.24222703065062026}), (0, 5, {'weight': 0.35345485066949206}), (0, 6, {'weight': 0.070835503298112}), (0, 7, {'weight': 0.03834551590478817}), (0, 8, {'weight': 0.13343943719187212}), (0, 9, {'weight': 0.16659066702182698}), (0, 10, {'weight': 0.21205637818206347}), (0, 11, {'weight': 0.07084114648830608}), (0, 12, {'weight': 0.09260636060896665}), (0, 13, {'weight': 0.03178134047489587}), (0, 14, {'weight': 0.21961340047842326}), (0, 15, {'weight': 0.06357343800329977}), (0, 16, {'weight': 0.12464419007975781}), (0, 17, {'weight': 0.19212929111834354}), (0, 18, {'weight': 0.22138432461655055}), (0, 19, {'weight': 0.06468604111353028}), (0, 20, {'weight': 0.199093707313793}), (0, 21, {'weight': 0.05244052261484362}), (0, 22, {'weight': 0.056306030058494896}), (0, 23, {'weight': 0.03579731308009815}), (0, 24, {'weight': 0.02105019295458895}), (0, 25, {'weight': 0.029374236967162234}), (1, 1, {'weight': 1.0000000000000004}), (1, 2, {'weight': 0.12393087951943879}), (1, 3, {'weight': 0.19970724116484417}), (1, 4, {'weight': 0.14252065671400363}), (1, 5, {'weight': 0.13261614792669743}), (1, 6, {'weight': 0.09728834748404874}), (1, 7, {'weight': 0.06921290040860247}), (1, 8, {'weight': 0.12883455810605052}), (1, 9, {'weight': 0.1307148690766536}), (1, 10, {'weight': 0.10613159352373676}), (1, 11, {'weight': 0.03740928373023948}), (1, 12, {'weight': 0.10959816780803161}), (1, 13, {'weight': 0.03309581167819439}), (1, 14, {'weight': 0.09246046103024715}), (1, 15, {'weight': 0.05011553099842794}), (1, 16, {'weight': 0.09186382658157767}), (1, 17, {'weight': 0.2096744856143382}), (1, 18, {'weight': 0.13219366133537575}), (1, 19, {'weight': 0.05594492019753312}), (1, 20, {'weight': 0.1087126026309031}), (1, 21, {'weight': 0.036749290505493845}), (1, 22, {'weight': 0.029647654958048622}), (1, 23, {'weight': 0.0787019943714493}), (1, 24, {'weight': 0.021920825597807413}), (2, 2, {'weight': 1.0000000000000002}), (2, 3, {'weight': 0.0657667407825617}), (2, 4, {'weight': 0.10984971969514484}), (2, 5, {'weight': 0.1093233566973609}), (2, 6, {'weight': 0.0747522091683537}), (2, 7, {'weight': 0.037498993527852874}), (2, 8, {'weight': 0.03789781888594616}), (2, 9, {'weight': 0.04213076533467513}), (2, 10, {'weight': 0.10717635890538268}), (2, 11, {'weight': 0.0344920834582457}), (2, 12, {'weight': 0.07171809740338514}), (2, 14, {'weight': 0.0706509086631894}), (2, 15, {'weight': 0.015260071487687085}), (2, 17, {'weight': 0.0699869741907561}), (2, 18, {'weight': 0.14545695749981252}), (2, 19, {'weight': 0.052160929568453446}), (2, 20, {'weight': 0.034683301496360744}), (2, 21, {'weight': 0.06148386674245617}), (2, 23, {'weight': 0.057548671190316175}), (3, 3, {'weight': 1.0000000000000004}), (3, 4, {'weight': 0.302127155275623}), (3, 5, {'weight': 0.14684060428978796}), (3, 6, {'weight': 0.1783810241771327}), (3, 7, {'weight': 0.056292546581297453}), (3, 8, {'weight': 0.12902174165431565}), (3, 9, {'weight': 0.12468299938099983}), (3, 10, {'weight': 0.18834871482760812}), (3, 11, {'weight': 0.03042588642471833}), (3, 12, {'weight': 0.09094963731874817}), (3, 13, {'weight': 0.06726296948145283}), (3, 14, {'weight': 0.07520035685177727}), (3, 15, {'weight': 0.04076018844060498}), (3, 16, {'weight': 0.19246688034976123}), (3, 17, {'weight': 0.10564514323812323}), (3, 18, {'weight': 0.14291004165663676}), (3, 19, {'weight': 0.04550137340892564}), (3, 20, {'weight': 0.07533293619893588}), (3, 21, {'weight': 0.06808008285085823}), (3, 22, {'weight': 0.024113163700690027}), (3, 23, {'weight': 0.05066887583594117}), (3, 24, {'weight': 0.017828744190464534}), (3, 25, {'weight': 0.07006949073798677}), (4, 4, {'weight': 1.0}), (4, 5, {'weight': 0.1770609264248433}), (4, 6, {'weight': 0.0949642505925032}), (4, 7, {'weight': 0.043695785615058214}), (4, 8, {'weight': 0.1619207818755563}), (4, 9, {'weight': 0.26959311571818906}), (4, 10, {'weight': 0.17473278110158078}), (4, 11, {'weight': 0.06811952779788527}), (4, 12, {'weight': 0.12445753093963957}), (4, 13, {'weight': 0.03398524245813195}), (4, 14, {'weight': 0.06915713550881541}), (4, 15, {'weight': 0.06798198792608484}), (4, 16, {'weight': 0.11735860061031796}), (4, 17, {'weight': 0.11886989293073497}), (4, 18, {'weight': 0.09142252469069047}), (4, 19, {'weight': 0.07999840139145453}), (4, 20, {'weight': 0.20006391686503155}), (4, 21, {'weight': 0.05232731777911014}), (4, 22, {'weight': 0.05412476866836792}), (4, 23, {'weight': 0.06545391633055947}), (4, 24, {'weight': 0.026861500235529984}), (4, 25, {'weight': 0.024989036914898583}), (5, 5, {'weight': 1.0000000000000002}), (5, 6, {'weight': 0.08801859698908052}), (5, 7, {'weight': 0.21286444772741295}), (5, 8, {'weight': 0.0871604022369592}), (5, 9, {'weight': 0.10207535255541936}), (5, 10, {'weight': 0.16743790038866938}), (5, 11, {'weight': 0.05336416683209741}), (5, 12, {'weight': 0.05282795683841724}), (5, 13, {'weight': 0.03177053286290467}), (5, 14, {'weight': 0.342542310994593}), (5, 15, {'weight': 0.04810871961712643}), (5, 16, {'weight': 0.2021950328590377}), (5, 17, {'weight': 0.1378362525889396}), (5, 18, {'weight': 0.12973140854339857}), (5, 19, {'weight': 0.03279108949599366}), (5, 20, {'weight': 0.17034836570912087}), (5, 21, {'weight': 0.035277712873332395}), (5, 22, {'weight': 0.07011866942978572}), (5, 23, {'weight': 0.08718996126178055}), (5, 24, {'weight': 0.021043034593286575}), (5, 25, {'weight': 0.02936424791852757}), (6, 6, {'weight': 1.0000000000000002}), (6, 7, {'weight': 0.11761348315747175}), (6, 8, {'weight': 0.09271811697609647}), (6, 9, {'weight': 0.07502016110796231}), (6, 10, {'weight': 0.027319215907371512}), (6, 11, {'weight': 0.03888023263213657}), (6, 12, {'weight': 0.09274118442853452}), (6, 13, {'weight': 0.08595312111737101}), (6, 14, {'weight': 0.11478943413494101}), (6, 15, {'weight': 0.09604471441954826}), (6, 16, {'weight': 0.05604867880506001}), (6, 17, {'weight': 0.11132807519973378}), (6, 19, {'weight': 0.05814469818645947}), (6, 20, {'weight': 0.05660253464817518}), (6, 21, {'weight': 0.03819428819388469}), (6, 22, {'weight': 0.03081341332484444}), (6, 23, {'weight': 0.02431012427561274}), (6, 24, {'weight': 0.022782761757138576}), (7, 7, {'weight': 0.9999999999999996}), (7, 8, {'weight': 0.15235458646904235}), (7, 9, {'weight': 0.08189804908681846}), (7, 10, {'weight': 0.026641874810821205}), (7, 11, {'weight': 0.027803319078030523}), (7, 12, {'weight': 0.040900592833235064}), (7, 13, {'weight': 0.07090483725584311}), (7, 14, {'weight': 0.18891765107661473}), (7, 15, {'weight': 0.0567253400525996}), (7, 16, {'weight': 0.05546195312204938}), (7, 17, {'weight': 0.07113863291849343}), (7, 19, {'weight': 0.013049220081671468}), (7, 20, {'weight': 0.06661584150411798}), (7, 21, {'weight': 0.014038772310946647}), (7, 22, {'weight': 0.1149352076422048}), (7, 23, {'weight': 0.0503574326253589}), (7, 24, {'weight': 0.04386046459731917}), (8, 8, {'weight': 1.0000000000000002}), (8, 9, {'weight': 0.1479031142211649}), (8, 10, {'weight': 0.0601919409423588}), (8, 11, {'weight': 0.08235462315670757}), (8, 12, {'weight': 0.17259095400276098}), (8, 13, {'weight': 0.07364980278917298}), (8, 14, {'weight': 0.08545481393266513}), (8, 15, {'weight': 0.07979332405347693}), (8, 16, {'weight': 0.09081666773802796}), (8, 17, {'weight': 0.0869745115064846}), (8, 18, {'weight': 0.03808137968231752}), (8, 19, {'weight': 0.07859469134589413}), (8, 20, {'weight': 0.15604461197133446}), (8, 21, {'weight': 0.056448454229673886}), (8, 22, {'weight': 0.13214449182905935}), (8, 23, {'weight': 0.0412888985869308}), (8, 24, {'weight': 0.037296533969308286}), (8, 25, {'weight': 0.06517519347717067}), (9, 9, {'weight': 1.0000000000000002}), (9, 10, {'weight': 0.0679788754079782}), (9, 11, {'weight': 0.14242371311422988}), (9, 12, {'weight': 0.19806869100222216}), (9, 13, {'weight': 0.0336588457996774}), (9, 14, {'weight': 0.07871516131563071}), (9, 15, {'weight': 0.1559425980212811}), (9, 16, {'weight': 0.08553855967113388}), (9, 17, {'weight': 0.06640119252833876}), (9, 18, {'weight': 0.10060779514742449}), (9, 19, {'weight': 0.061603511292246005}), (9, 20, {'weight': 0.16968692293944188}), (9, 21, {'weight': 0.051824762539434216}), (9, 22, {'weight': 0.053604950583952475}), (9, 23, {'weight': 0.07491220267839824}), (9, 24, {'weight': 0.026603520498332162}), (9, 25, {'weight': 0.024749040447106175}), (10, 10, {'weight': 1.0000000000000002}), (10, 11, {'weight': 0.04247845967442445}), (10, 12, {'weight': 0.06337239461643965}), (10, 13, {'weight': 0.03343091142027666}), (10, 14, {'weight': 0.07182705419247434}), (10, 16, {'weight': 0.09853184291589023}), (10, 17, {'weight': 0.0925960790515232}), (10, 18, {'weight': 0.14784102969706756}), (10, 19, {'weight': 0.02530176400127635}), (10, 20, {'weight': 0.0630065147788423}), (10, 22, {'weight': 0.09356076823149204}), (10, 23, {'weight': 0.16389343190533495}), (10, 24, {'weight': 0.043079352425392695}), (11, 11, {'weight': 1.0000000000000002}), (11, 12, {'weight': 0.1263111065216619}), (11, 13, {'weight': 0.00896629456543313}), (11, 14, {'weight': 0.037978788452136855}), (11, 15, {'weight': 0.11500770447779352}), (11, 16, {'weight': 0.014610190667138636}), (11, 17, {'weight': 0.07088473538517384}), (11, 19, {'weight': 0.07925590502703782}), (11, 20, {'weight': 0.07477814098802103}), (11, 21, {'weight': 0.047611077133309226}), (11, 22, {'weight': 0.05377845134711856}), (11, 23, {'weight': 0.0375784194928321}), (11, 24, {'weight': 0.01155404226580253}), (12, 12, {'weight': 1.0000000000000002}), (12, 13, {'weight': 0.06307663008243886}), (12, 14, {'weight': 0.09405972405723753}), (12, 15, {'weight': 0.10088709810229535}), (12, 16, {'weight': 0.0418144050691661}), (12, 17, {'weight': 0.07881635574311588}), (12, 18, {'weight': 0.11343405050472138}), (12, 19, {'weight': 0.051528970730515405}), (12, 20, {'weight': 0.12428027585460391}), (12, 21, {'weight': 0.07738263711930662}), (12, 22, {'weight': 0.04485162798509604}), (12, 23, {'weight': 0.119901032342815}), (12, 24, {'weight': 0.033067700107102804}), (13, 13, {'weight': 1.0000000000000007}), (13, 14, {'weight': 0.05254510734851237}), (13, 15, {'weight': 0.0771411956169576}), (13, 16, {'weight': 0.08111244372780174}), (13, 17, {'weight': 0.05135401934762255}), (13, 19, {'weight': 0.02366976526657434}), (13, 20, {'weight': 0.01724345208994473}), (13, 21, {'weight': 0.025464697748313794}), (13, 22, {'weight': 0.05520348078589527}), (13, 23, {'weight': 0.02974864337356895}), (13, 24, {'weight': 0.04481543673862708}), (13, 25, {'weight': 0.060784548943983795}), (14, 14, {'weight': 1.0}), (14, 15, {'weight': 0.08603959581870567}), (14, 16, {'weight': 0.018937457622087393}), (14, 17, {'weight': 0.10883057179209404}), (14, 18, {'weight': 0.04874071966050096}), (14, 19, {'weight': 0.011995273105060811}), (14, 20, {'weight': 0.09720728792324725}), (14, 21, {'weight': 0.012904902122548965}), (14, 22, {'weight': 0.049902814395996455}), (14, 23, {'weight': 0.06205229633454058}), (14, 24, {'weight': 0.014976134860757035}), (14, 25, {'weight': 0.04452822149185027}), (15, 15, {'weight': 1.0000000000000002}), (15, 16, {'weight': 0.05030256073969783}), (15, 17, {'weight': 0.038633465135020216}), (15, 19, {'weight': 0.06283267860844641}), (15, 20, {'weight': 0.05079963520752315}), (15, 21, {'weight': 0.05093801455146137}), (15, 22, {'weight': 0.06426595053850112}), (15, 23, {'weight': 0.016625535785598437}), (15, 24, {'weight': 0.020447069967384594}), (16, 16, {'weight': 1.0}), (16, 17, {'weight': 0.05061243223457065}), (16, 18, {'weight': 0.09695428835741914}), (16, 19, {'weight': 0.03856886265194449}), (16, 20, {'weight': 0.028097462218674374}), (16, 21, {'weight': 0.21392677210426495}), (16, 22, {'weight': 0.0899516934097841}), (16, 23, {'weight': 0.13200846540473993}), (16, 24, {'weight': 0.07302482322036027}), (16, 25, {'weight': 0.13092080888475915}), (17, 17, {'weight': 1.0}), (17, 18, {'weight': 0.07958866775987375}), (17, 19, {'weight': 0.05592497953590566}), (17, 20, {'weight': 0.0960494924503926}), (17, 21, {'weight': 0.028329589753828245}), (17, 22, {'weight': 0.09056456065010743}), (17, 23, {'weight': 0.07414687355976117}), (17, 24, {'weight': 0.01689850301077957}), (18, 18, {'weight': 1.0000000000000002}), (18, 20, {'weight': 0.06932685818841594}), (18, 21, {'weight': 0.06000490733678892}), (18, 23, {'weight': 0.07068152387708934}), (18, 25, {'weight': 0.03908923540736658}), (19, 19, {'weight': 1.0}), (19, 20, {'weight': 0.051453096901109864}), (19, 21, {'weight': 0.06066598646016437}), (19, 22, {'weight': 0.05898488238765136}), (19, 23, {'weight': 0.05682826596521019}), (19, 24, {'weight': 0.010550157501425272}), (20, 20, {'weight': 1.0000000000000002}), (20, 21, {'weight': 0.0372509382744631}), (20, 22, {'weight': 0.1432097217688335}), (20, 23, {'weight': 0.11048080696446154}), (20, 24, {'weight': 0.022220056769453034}), (21, 21, {'weight': 1.0000000000000007}), (21, 22, {'weight': 0.007890415611121242}), (21, 23, {'weight': 0.018457721145340934}), (21, 24, {'weight': 0.011350200094729621}), (21, 25, {'weight': 0.05753879037669501}), (22, 22, {'weight': 0.9999999999999997}), (22, 23, {'weight': 0.12917943199337625}), (22, 24, {'weight': 0.07113566764565032}), (23, 23, {'weight': 1.0000000000000002}), (23, 24, {'weight': 0.03833435098302486}), (23, 25, {'weight': 0.06735737540996367}), (24, 24, {'weight': 1.0000000000000004}), (25, 25, {'weight': 1.0000000000000002})])"
      ]
     },
     "execution_count": 21,
     "metadata": {},
     "output_type": "execute_result"
    }
   ],
   "source": [
    "graph.edges(data=True)"
   ]
  },
  {
   "cell_type": "code",
   "execution_count": 16,
   "id": "bc2b4702",
   "metadata": {
    "hidden": true
   },
   "outputs": [],
   "source": [
    "degrees = dict(graph.degree)"
   ]
  },
  {
   "cell_type": "markdown",
   "id": "01eea8ef-0613-49f7-b648-ec58ca039b35",
   "metadata": {},
   "source": [
    "Each key is a node and the value is the amount of sentences similar to that sentence. In this calcualtion, any sentence that has a positive similarity score, is considered similar. The higher the number, the more representative the sentence of the data, hence the higher the chance it will be in the summary."
   ]
  },
  {
   "cell_type": "code",
   "execution_count": 18,
   "id": "1ca458ae-8cc7-4cb3-8357-a59dee8371b4",
   "metadata": {},
   "outputs": [
    {
     "data": {
      "text/plain": [
       "{0: 27,\n",
       " 1: 26,\n",
       " 2: 22,\n",
       " 3: 27,\n",
       " 4: 27,\n",
       " 5: 27,\n",
       " 6: 25,\n",
       " 7: 25,\n",
       " 8: 27,\n",
       " 9: 27,\n",
       " 10: 24,\n",
       " 11: 25,\n",
       " 12: 26,\n",
       " 13: 25,\n",
       " 14: 27,\n",
       " 15: 24,\n",
       " 16: 26,\n",
       " 17: 26,\n",
       " 18: 19,\n",
       " 19: 25,\n",
       " 20: 26,\n",
       " 21: 26,\n",
       " 22: 24,\n",
       " 23: 27,\n",
       " 24: 24,\n",
       " 25: 14}"
      ]
     },
     "execution_count": 18,
     "metadata": {},
     "output_type": "execute_result"
    }
   ],
   "source": [
    "degrees"
   ]
  },
  {
   "cell_type": "code",
   "execution_count": 19,
   "id": "45e5b445",
   "metadata": {
    "hidden": true
   },
   "outputs": [
    {
     "data": {
      "text/plain": [
       "'\\nReal Madrid Club de Fútbol, commonly known as Real Madrid, is one of the most prestigious and successful football clubs in the world'"
      ]
     },
     "execution_count": 19,
     "metadata": {},
     "output_type": "execute_result"
    }
   ],
   "source": [
    "sentences[0]"
   ]
  },
  {
   "cell_type": "code",
   "execution_count": 20,
   "id": "0caffd4e-ab65-4c1b-b2f5-158ab94325e0",
   "metadata": {},
   "outputs": [
    {
     "data": {
      "text/plain": [
       "'With a rich history spanning over a century, Real Madrid has established itself as a symbol of excellence, tradition, and sporting achievement'"
      ]
     },
     "execution_count": 20,
     "metadata": {},
     "output_type": "execute_result"
    }
   ],
   "source": [
    "sentences[2]"
   ]
  },
  {
   "cell_type": "code",
   "execution_count": 13,
   "id": "a3340465",
   "metadata": {
    "hidden": true
   },
   "outputs": [
    {
     "data": {
      "text/plain": [
       "\"\\nReal Madrid Club de Fútbol, commonly known as Real Madrid, is one of the most prestigious and successful football clubs in the world Real Madrid's most remarkable achievement is undoubtedly their success in the UEFA Champions League, the most prestigious club competition in European football Named after the club's legendary president Santiago Bernabéu, the stadium has a capacity of over 81,000 spectators and is considered one of the most iconic venues in world football The club's home stadium, Santiago Bernabéu, located in the heart of Madrid, is more than just a football ground—it's a cathedral of football that has witnessed countless historic moments Legendary players like Alfredo Di Stéfano, who is considered one of the greatest footballers of all time, helped establish the club's global reputation in the 1950s and 1960s\""
      ]
     },
     "execution_count": 13,
     "metadata": {},
     "output_type": "execute_result"
    }
   ],
   "source": [
    "summary"
   ]
  },
  {
   "cell_type": "code",
   "execution_count": 14,
   "id": "7f89251b",
   "metadata": {
    "hidden": true
   },
   "outputs": [
    {
     "data": {
      "text/plain": [
       "[(0, 27), (3, 27), (4, 27), (5, 27), (8, 27)]"
      ]
     },
     "execution_count": 14,
     "metadata": {},
     "output_type": "execute_result"
    }
   ],
   "source": [
    "sorted(degrees.items(), key=lambda key: key[1], reverse=True)[:5]"
   ]
  },
  {
   "cell_type": "code",
   "execution_count": 15,
   "id": "48a94c90",
   "metadata": {
    "hidden": true
   },
   "outputs": [
    {
     "data": {
      "text/plain": [
       "'\\nReal Madrid Club de Fútbol, commonly known as Real Madrid, is one of the most prestigious and successful football clubs in the world'"
      ]
     },
     "execution_count": 15,
     "metadata": {},
     "output_type": "execute_result"
    }
   ],
   "source": [
    "sentences[0]"
   ]
  },
  {
   "cell_type": "code",
   "execution_count": 16,
   "id": "659a26c1",
   "metadata": {
    "hidden": true
   },
   "outputs": [
    {
     "data": {
      "text/plain": [
       "\"The club's home stadium, Santiago Bernabéu, located in the heart of Madrid, is more than just a football ground—it's a cathedral of football that has witnessed countless historic moments\""
      ]
     },
     "execution_count": 16,
     "metadata": {},
     "output_type": "execute_result"
    }
   ],
   "source": [
    "sentences[3]"
   ]
  },
  {
   "cell_type": "code",
   "execution_count": 17,
   "id": "7f057eda",
   "metadata": {
    "hidden": true
   },
   "outputs": [
    {
     "data": {
      "text/plain": [
       "\"Named after the club's legendary president Santiago Bernabéu, the stadium has a capacity of over 81,000 spectators and is considered one of the most iconic venues in world football\""
      ]
     },
     "execution_count": 17,
     "metadata": {},
     "output_type": "execute_result"
    }
   ],
   "source": [
    "sentences[4]"
   ]
  },
  {
   "cell_type": "code",
   "execution_count": 18,
   "id": "756b4ba7",
   "metadata": {
    "hidden": true
   },
   "outputs": [
    {
     "data": {
      "text/plain": [
       "[(0, 0.051941662356947395),\n",
       " (5, 0.049894891925761325),\n",
       " (4, 0.04872450703016316),\n",
       " (3, 0.046313960699239994),\n",
       " (9, 0.04492313092784338),\n",
       " (8, 0.04392758335587761),\n",
       " (1, 0.04298308879582437),\n",
       " (16, 0.04191665980548977),\n",
       " (20, 0.04133621433996259),\n",
       " (12, 0.041326572365893766),\n",
       " (14, 0.04066442136463189),\n",
       " (17, 0.04016643135261561),\n",
       " (10, 0.039775846788553636),\n",
       " (6, 0.03667339051953625),\n",
       " (23, 0.0364589517902398),\n",
       " (18, 0.036009870800901046),\n",
       " (7, 0.03570647587397294),\n",
       " (22, 0.03467450392470242),\n",
       " (2, 0.033858859308943806),\n",
       " (15, 0.03350331483603302),\n",
       " (11, 0.032321943664026784),\n",
       " (21, 0.03139980305581355),\n",
       " (13, 0.030746066399148543),\n",
       " (19, 0.030742523503774502),\n",
       " (24, 0.027041061587775365),\n",
       " (25, 0.026968263626327618)]"
      ]
     },
     "execution_count": 18,
     "metadata": {},
     "output_type": "execute_result"
    }
   ],
   "source": [
    "sorted(scores.items(), key=lambda item: item[1], reverse=True)"
   ]
  },
  {
   "cell_type": "code",
   "execution_count": 19,
   "id": "63cccbcc",
   "metadata": {
    "hidden": true
   },
   "outputs": [
    {
     "data": {
      "text/plain": [
       "[(0.051941662356947395,\n",
       "  '\\nReal Madrid Club de Fútbol, commonly known as Real Madrid, is one of the most prestigious and successful football clubs in the world'),\n",
       " (0.049894891925761325,\n",
       "  \"Real Madrid's most remarkable achievement is undoubtedly their success in the UEFA Champions League, the most prestigious club competition in European football\"),\n",
       " (0.04872450703016316,\n",
       "  \"Named after the club's legendary president Santiago Bernabéu, the stadium has a capacity of over 81,000 spectators and is considered one of the most iconic venues in world football\"),\n",
       " (0.046313960699239994,\n",
       "  \"The club's home stadium, Santiago Bernabéu, located in the heart of Madrid, is more than just a football ground—it's a cathedral of football that has witnessed countless historic moments\"),\n",
       " (0.04492313092784338,\n",
       "  \"Legendary players like Alfredo Di Stéfano, who is considered one of the greatest footballers of all time, helped establish the club's global reputation in the 1950s and 1960s\"),\n",
       " (0.04392758335587761,\n",
       "  \"The club is renowned for its policy of signing the world's best players, a strategy that has earned them the nickname Los Blancos (The Whites) and the moniker Galácticos during periods when they assembled star-studded lineups\"),\n",
       " (0.04298308879582437,\n",
       "  'Founded on 6 March 1902 in Madrid, Spain, the club has become a global sporting phenomenon that transcends the boundaries of football'),\n",
       " (0.04191665980548977,\n",
       "  \"The club's success is not just limited to men's football\"),\n",
       " (0.04133621433996259,\n",
       "  'Their economic model and global appeal have made them one of the most valuable sports franchises in the world'),\n",
       " (0.041326572365893766,\n",
       "  'The early 2000s saw the emergence of the first Galácticos era, with players like Zinedine Zidane, Ronaldo (the Brazilian), David Beckham, and Luis Figo creating a team of global superstars'),\n",
       " (0.04066442136463189,\n",
       "  'During this time, Real Madrid won four Champions League titles in five years (2014, 2016, 2017, 2018), a feat that solidified their status as the most successful team in the modern Champions League era'),\n",
       " (0.04016643135261561,\n",
       "  \"Real Madrid's women's team, founded in 2020, has quickly become a powerhouse in women's football, competing at the highest levels and attracting top talent from around the world\"),\n",
       " (0.039775846788553636,\n",
       "  \"Throughout different eras, Real Madrid has been home to some of football's most iconic players\"),\n",
       " (0.03667339051953625,\n",
       "  'The club has won the tournament a record 14 times, significantly more than any other team in history'),\n",
       " (0.0364589517902398,\n",
       "  'This balance of nurturing homegrown talent and acquiring global superstars has been key to their sustained success'),\n",
       " (0.036009870800901046,\n",
       "  'Beyond football, Real Madrid is a global brand with millions of fans worldwide'),\n",
       " (0.03570647587397294,\n",
       "  \"Their European dominance was particularly evident during the 1950s, when they won five consecutive European Cups from 1956 to 1960, a feat that remains unmatched in the competition's history\"),\n",
       " (0.03467450392470242,\n",
       "  \"They have a commitment to developing young talent through their youth academy, Cantera, while also being willing to invest in the world's best players\"),\n",
       " (0.033858859308943806,\n",
       "  'With a rich history spanning over a century, Real Madrid has established itself as a symbol of excellence, tradition, and sporting achievement'),\n",
       " (0.03350331483603302,\n",
       "  \"Ronaldo became the club's all-time leading goal scorer and won multiple individual awards while wearing the white jersey\"),\n",
       " (0.032321943664026784,\n",
       "  'In the 1980s and 1990s, players like Hugo Sánchez brought flair and goal-scoring prowess'),\n",
       " (0.03139980305581355,\n",
       "  \"The club's philosophy emphasizes not just winning, but winning with style and dignity\"),\n",
       " (0.030746066399148543,\n",
       "  \"More recently, Cristiano Ronaldo's nine-year tenure from 2009 to 2018 marked another golden period for the club\"),\n",
       " (0.030742523503774502,\n",
       "  'The club has a massive social media following and generates significant revenue through sponsorships, merchandise, and broadcasting rights'),\n",
       " (0.027041061587775365,\n",
       "  \"Now, let's use the NLTK summarization technique to generate a summary\"),\n",
       " (0.026968263626327618,\n",
       "  'This is a non important sentence I add here\\njust for testing\\n')]"
      ]
     },
     "execution_count": 19,
     "metadata": {},
     "output_type": "execute_result"
    }
   ],
   "source": [
    "sorted(ranked_sentences, reverse=True)"
   ]
  },
  {
   "cell_type": "code",
   "execution_count": null,
   "id": "4cbbbb06-f5ac-4401-bb60-14c2acc72d7b",
   "metadata": {},
   "outputs": [],
   "source": []
  },
  {
   "cell_type": "markdown",
   "id": "706134cf",
   "metadata": {},
   "source": [
    "## Abstractive Summarization"
   ]
  },
  {
   "cell_type": "markdown",
   "id": "7e1d2a51",
   "metadata": {},
   "source": [
    "### How Abstractive Summarization Works"
   ]
  },
  {
   "cell_type": "markdown",
   "id": "967ca135",
   "metadata": {},
   "source": [
    "\n",
    "Abstractive summarization generates new sentences that capture the core meaning of the text, often requiring advanced neural networks.\n"
   ]
  },
  {
   "cell_type": "markdown",
   "id": "92566477",
   "metadata": {},
   "source": [
    "### Example: Using Hugging Face for Abstractive Summarization"
   ]
  },
  {
   "cell_type": "code",
   "execution_count": 23,
   "id": "f4f460fb",
   "metadata": {},
   "outputs": [],
   "source": [
    "from transformers import pipeline"
   ]
  },
  {
   "cell_type": "code",
   "execution_count": 24,
   "id": "005027ca",
   "metadata": {},
   "outputs": [
    {
     "name": "stderr",
     "output_type": "stream",
     "text": [
      "No model was supplied, defaulted to sshleifer/distilbart-cnn-12-6 and revision a4f8f3e (https://huggingface.co/sshleifer/distilbart-cnn-12-6).\n",
      "Using a pipeline without specifying a model name and revision in production is not recommended.\n",
      "Hardware accelerator e.g. GPU is available in the environment, but no `device` argument is passed to the `Pipeline` object. Model will be on CPU.\n"
     ]
    },
    {
     "name": "stdout",
     "output_type": "stream",
     "text": [
      "CPU times: user 988 ms, sys: 1.22 s, total: 2.21 s\n",
      "Wall time: 2.66 s\n"
     ]
    }
   ],
   "source": [
    "%%time\n",
    "# Load pre-trained model and tokenizer\n",
    "summarizer = pipeline(\"summarization\")"
   ]
  },
  {
   "cell_type": "code",
   "execution_count": 22,
   "id": "30e9378d",
   "metadata": {},
   "outputs": [
    {
     "data": {
      "text/plain": [
       "BartForConditionalGeneration(\n",
       "  (model): BartModel(\n",
       "    (shared): BartScaledWordEmbedding(50264, 1024, padding_idx=1)\n",
       "    (encoder): BartEncoder(\n",
       "      (embed_tokens): BartScaledWordEmbedding(50264, 1024, padding_idx=1)\n",
       "      (embed_positions): BartLearnedPositionalEmbedding(1026, 1024)\n",
       "      (layers): ModuleList(\n",
       "        (0-11): 12 x BartEncoderLayer(\n",
       "          (self_attn): BartSdpaAttention(\n",
       "            (k_proj): Linear(in_features=1024, out_features=1024, bias=True)\n",
       "            (v_proj): Linear(in_features=1024, out_features=1024, bias=True)\n",
       "            (q_proj): Linear(in_features=1024, out_features=1024, bias=True)\n",
       "            (out_proj): Linear(in_features=1024, out_features=1024, bias=True)\n",
       "          )\n",
       "          (self_attn_layer_norm): LayerNorm((1024,), eps=1e-05, elementwise_affine=True)\n",
       "          (activation_fn): GELUActivation()\n",
       "          (fc1): Linear(in_features=1024, out_features=4096, bias=True)\n",
       "          (fc2): Linear(in_features=4096, out_features=1024, bias=True)\n",
       "          (final_layer_norm): LayerNorm((1024,), eps=1e-05, elementwise_affine=True)\n",
       "        )\n",
       "      )\n",
       "      (layernorm_embedding): LayerNorm((1024,), eps=1e-05, elementwise_affine=True)\n",
       "    )\n",
       "    (decoder): BartDecoder(\n",
       "      (embed_tokens): BartScaledWordEmbedding(50264, 1024, padding_idx=1)\n",
       "      (embed_positions): BartLearnedPositionalEmbedding(1026, 1024)\n",
       "      (layers): ModuleList(\n",
       "        (0-5): 6 x BartDecoderLayer(\n",
       "          (self_attn): BartSdpaAttention(\n",
       "            (k_proj): Linear(in_features=1024, out_features=1024, bias=True)\n",
       "            (v_proj): Linear(in_features=1024, out_features=1024, bias=True)\n",
       "            (q_proj): Linear(in_features=1024, out_features=1024, bias=True)\n",
       "            (out_proj): Linear(in_features=1024, out_features=1024, bias=True)\n",
       "          )\n",
       "          (activation_fn): GELUActivation()\n",
       "          (self_attn_layer_norm): LayerNorm((1024,), eps=1e-05, elementwise_affine=True)\n",
       "          (encoder_attn): BartSdpaAttention(\n",
       "            (k_proj): Linear(in_features=1024, out_features=1024, bias=True)\n",
       "            (v_proj): Linear(in_features=1024, out_features=1024, bias=True)\n",
       "            (q_proj): Linear(in_features=1024, out_features=1024, bias=True)\n",
       "            (out_proj): Linear(in_features=1024, out_features=1024, bias=True)\n",
       "          )\n",
       "          (encoder_attn_layer_norm): LayerNorm((1024,), eps=1e-05, elementwise_affine=True)\n",
       "          (fc1): Linear(in_features=1024, out_features=4096, bias=True)\n",
       "          (fc2): Linear(in_features=4096, out_features=1024, bias=True)\n",
       "          (final_layer_norm): LayerNorm((1024,), eps=1e-05, elementwise_affine=True)\n",
       "        )\n",
       "      )\n",
       "      (layernorm_embedding): LayerNorm((1024,), eps=1e-05, elementwise_affine=True)\n",
       "    )\n",
       "  )\n",
       "  (lm_head): Linear(in_features=1024, out_features=50264, bias=False)\n",
       ")"
      ]
     },
     "execution_count": 22,
     "metadata": {},
     "output_type": "execute_result"
    }
   ],
   "source": [
    "summarizer.model"
   ]
  },
  {
   "cell_type": "code",
   "execution_count": 26,
   "id": "88cc7484",
   "metadata": {},
   "outputs": [
    {
     "name": "stdout",
     "output_type": "stream",
     "text": [
      "Summary:\n",
      " Real Madrid Club de Fútbol, commonly known as Real Madrid, is one of the most prestigious and successful football clubs in the world . Founded on 6 March 1902 in Madrid, Spain, the club has become a global sporting phenomenon that transcends the boundaries of football . Real Madrid's most remarkable achievement is undoubtedly their success in the UEFA Champions League . The club is renowned for its policy of signing the world's best players .\n",
      "CPU times: user 22 s, sys: 18.7 s, total: 40.7 s\n",
      "Wall time: 4.89 s\n"
     ]
    }
   ],
   "source": [
    "%%time\n",
    "# Generate summary\n",
    "summary = summarizer(real_madrid, max_length=364, min_length=25, do_sample=False)\n",
    "print(\"Summary:\")\n",
    "print(summary[0]['summary_text'])"
   ]
  },
  {
   "cell_type": "markdown",
   "id": "3ae3fd63",
   "metadata": {},
   "source": [
    "# Evaluation Metrics for Summarization"
   ]
  },
  {
   "cell_type": "markdown",
   "id": "9f76c064",
   "metadata": {},
   "source": [
    "\n",
    "Summarization quality can be evaluated using the following metrics:\n",
    "- **ROUGE**: Measures overlap between generated and reference summaries.\n",
    "- **BERTScore**: Evaluates summaries using contextual embeddings.\n"
   ]
  },
  {
   "cell_type": "markdown",
   "id": "cf7967af",
   "metadata": {},
   "source": [
    "### Example: Evaluating with ROUGE"
   ]
  },
  {
   "cell_type": "markdown",
   "id": "b41589ea-9480-415f-abb2-12be65882e3f",
   "metadata": {},
   "source": [
    "ROUGE: A general metric family for text evaluation, including multiple variants"
   ]
  },
  {
   "cell_type": "markdown",
   "id": "5d80c98f-db2d-4b99-8200-6058e7a8286f",
   "metadata": {},
   "source": [
    "One of these variants is ROGUE-L which specifically measures the Longest Common Subsequence (LCS) between the generated and reference text, focusing on capturing sentence-level structure and word order."
   ]
  },
  {
   "cell_type": "code",
   "execution_count": 50,
   "id": "abf784df",
   "metadata": {},
   "outputs": [
    {
     "name": "stdout",
     "output_type": "stream",
     "text": [
      "ROUGE Scores:\n",
      "{'rouge1': Score(precision=0.3333333333333333, recall=0.3333333333333333, fmeasure=0.3333333333333333), 'rougeL': Score(precision=0.3333333333333333, recall=0.3333333333333333, fmeasure=0.3333333333333333)}\n"
     ]
    }
   ],
   "source": [
    "\n",
    "from rouge_score import rouge_scorer\n",
    "\n",
    "# Reference and generated summaries\n",
    "reference = \"Summarization condenses information.\"\n",
    "generated = \"Summarization compresses data.\"\n",
    "\n",
    "# Compute ROUGE score\n",
    "scorer = rouge_scorer.RougeScorer(['rouge1', 'rougeL'], use_stemmer=True)\n",
    "scores = scorer.score(reference, generated)\n",
    "print(\"ROUGE Scores:\")\n",
    "print(scores)\n"
   ]
  },
  {
   "cell_type": "code",
   "execution_count": 51,
   "id": "ce49031e",
   "metadata": {},
   "outputs": [
    {
     "data": {
      "text/plain": [
       "Score(precision=0.3333333333333333, recall=0.3333333333333333, fmeasure=0.3333333333333333)"
      ]
     },
     "execution_count": 51,
     "metadata": {},
     "output_type": "execute_result"
    }
   ],
   "source": [
    "scores['rougeL']"
   ]
  },
  {
   "cell_type": "code",
   "execution_count": null,
   "id": "fc859035-ae2e-49c7-9963-c17ecaaff6fa",
   "metadata": {},
   "outputs": [],
   "source": []
  }
 ],
 "metadata": {
  "kernelspec": {
   "display_name": "Python 3 (ipykernel)",
   "language": "python",
   "name": "python3"
  },
  "language_info": {
   "codemirror_mode": {
    "name": "ipython",
    "version": 3
   },
   "file_extension": ".py",
   "mimetype": "text/x-python",
   "name": "python",
   "nbconvert_exporter": "python",
   "pygments_lexer": "ipython3",
   "version": "3.11.2"
  },
  "toc": {
   "base_numbering": 1,
   "nav_menu": {},
   "number_sections": true,
   "sideBar": true,
   "skip_h1_title": false,
   "title_cell": "Table of Contents",
   "title_sidebar": "Contents",
   "toc_cell": false,
   "toc_position": {},
   "toc_section_display": true,
   "toc_window_display": false
  }
 },
 "nbformat": 4,
 "nbformat_minor": 5
}
