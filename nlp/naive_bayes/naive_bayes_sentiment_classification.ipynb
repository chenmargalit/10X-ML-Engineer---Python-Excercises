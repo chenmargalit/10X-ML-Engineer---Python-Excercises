{
 "cells": [
  {
   "cell_type": "code",
   "execution_count": 31,
   "id": "32a6fe71",
   "metadata": {},
   "outputs": [],
   "source": [
    "from collections import defaultdict, Counter\n",
    "import math\n",
    "import nltk\n",
    "from sklearn.feature_extraction.text import CountVectorizer\n",
    "from sklearn.naive_bayes import MultinomialNB\n",
    "from sklearn.pipeline import make_pipeline\n",
    "from nltk.corpus import movie_reviews\n",
    "from sklearn.model_selection import train_test_split\n",
    "from sklearn.metrics import accuracy_score\n",
    "import pandas as pd"
   ]
  },
  {
   "cell_type": "markdown",
   "id": "0ad196e4",
   "metadata": {},
   "source": [
    "# Naive Bayes"
   ]
  },
  {
   "cell_type": "markdown",
   "id": "e7fac5aa",
   "metadata": {},
   "source": [
    "Naïve Bayes is a probabilistic machine learning algorithm based on Bayes' Theorem. It is called \"naïve\" because it assumes that the features are independent of each other, which is often not true in real-world data. Despite this simplification, it works well for many tasks, especially text classification."
   ]
  },
  {
   "cell_type": "markdown",
   "id": "a23e49f3",
   "metadata": {},
   "source": [
    "$$\n",
    "P(A \\mid B) = \\frac{P(B \\mid A) \\cdot P(A)}{P(B)}\n",
    "$$"
   ]
  },
  {
   "cell_type": "markdown",
   "id": "c596a485",
   "metadata": {},
   "source": [
    "$P(A)$: The prior probability of \\(A\\), i.e., the probability of \\(A\\) before observing any evidence.\n",
    "\n",
    "$P(B)$: The probability of \\(B\\), often calculated as:\n",
    "\n",
    "$$\n",
    "P(B) = \\sum_{i} P(B \\mid A_i) \\cdot P(A_i)\n",
    "$$\n",
    "\n",
    "$P(A \\mid B)$: The probability of event \\(A\\) (the hypothesis) given that \\(B\\) (the evidence) has occurred. This is the posterior probability.\n",
    "\n",
    "$P(B \\mid A)$: The probability of observing \\(B\\) given that \\(A\\) is true. This is the likelihood."
   ]
  },
  {
   "cell_type": "markdown",
   "id": "4a8c7409",
   "metadata": {},
   "source": [
    "Because this approach is so simple, its quite fast and might fit simple text classification tasks."
   ]
  },
  {
   "cell_type": "code",
   "execution_count": 32,
   "id": "cb2ec09e",
   "metadata": {},
   "outputs": [],
   "source": [
    "docs = [\n",
    "    \"I love coding\",     \n",
    "    \"coding is fun\", \n",
    "    \"I hate bugs\",       \n",
    "    \"debugging is hard\", \n",
    "]\n",
    "labels = [\"Positive\", \"Positive\", \"Negative\", \"Negative\"]"
   ]
  },
  {
   "cell_type": "code",
   "execution_count": 33,
   "id": "43a72506",
   "metadata": {},
   "outputs": [],
   "source": [
    "vectorizer = CountVectorizer()\n",
    "X_train = vectorizer.fit_transform(docs)"
   ]
  },
  {
   "cell_type": "code",
   "execution_count": 34,
   "id": "4ed535eb",
   "metadata": {},
   "outputs": [
    {
     "data": {
      "text/html": [
       "<style>#sk-container-id-1 {\n",
       "  /* Definition of color scheme common for light and dark mode */\n",
       "  --sklearn-color-text: black;\n",
       "  --sklearn-color-line: gray;\n",
       "  /* Definition of color scheme for unfitted estimators */\n",
       "  --sklearn-color-unfitted-level-0: #fff5e6;\n",
       "  --sklearn-color-unfitted-level-1: #f6e4d2;\n",
       "  --sklearn-color-unfitted-level-2: #ffe0b3;\n",
       "  --sklearn-color-unfitted-level-3: chocolate;\n",
       "  /* Definition of color scheme for fitted estimators */\n",
       "  --sklearn-color-fitted-level-0: #f0f8ff;\n",
       "  --sklearn-color-fitted-level-1: #d4ebff;\n",
       "  --sklearn-color-fitted-level-2: #b3dbfd;\n",
       "  --sklearn-color-fitted-level-3: cornflowerblue;\n",
       "\n",
       "  /* Specific color for light theme */\n",
       "  --sklearn-color-text-on-default-background: var(--sg-text-color, var(--theme-code-foreground, var(--jp-content-font-color1, black)));\n",
       "  --sklearn-color-background: var(--sg-background-color, var(--theme-background, var(--jp-layout-color0, white)));\n",
       "  --sklearn-color-border-box: var(--sg-text-color, var(--theme-code-foreground, var(--jp-content-font-color1, black)));\n",
       "  --sklearn-color-icon: #696969;\n",
       "\n",
       "  @media (prefers-color-scheme: dark) {\n",
       "    /* Redefinition of color scheme for dark theme */\n",
       "    --sklearn-color-text-on-default-background: var(--sg-text-color, var(--theme-code-foreground, var(--jp-content-font-color1, white)));\n",
       "    --sklearn-color-background: var(--sg-background-color, var(--theme-background, var(--jp-layout-color0, #111)));\n",
       "    --sklearn-color-border-box: var(--sg-text-color, var(--theme-code-foreground, var(--jp-content-font-color1, white)));\n",
       "    --sklearn-color-icon: #878787;\n",
       "  }\n",
       "}\n",
       "\n",
       "#sk-container-id-1 {\n",
       "  color: var(--sklearn-color-text);\n",
       "}\n",
       "\n",
       "#sk-container-id-1 pre {\n",
       "  padding: 0;\n",
       "}\n",
       "\n",
       "#sk-container-id-1 input.sk-hidden--visually {\n",
       "  border: 0;\n",
       "  clip: rect(1px 1px 1px 1px);\n",
       "  clip: rect(1px, 1px, 1px, 1px);\n",
       "  height: 1px;\n",
       "  margin: -1px;\n",
       "  overflow: hidden;\n",
       "  padding: 0;\n",
       "  position: absolute;\n",
       "  width: 1px;\n",
       "}\n",
       "\n",
       "#sk-container-id-1 div.sk-dashed-wrapped {\n",
       "  border: 1px dashed var(--sklearn-color-line);\n",
       "  margin: 0 0.4em 0.5em 0.4em;\n",
       "  box-sizing: border-box;\n",
       "  padding-bottom: 0.4em;\n",
       "  background-color: var(--sklearn-color-background);\n",
       "}\n",
       "\n",
       "#sk-container-id-1 div.sk-container {\n",
       "  /* jupyter's `normalize.less` sets `[hidden] { display: none; }`\n",
       "     but bootstrap.min.css set `[hidden] { display: none !important; }`\n",
       "     so we also need the `!important` here to be able to override the\n",
       "     default hidden behavior on the sphinx rendered scikit-learn.org.\n",
       "     See: https://github.com/scikit-learn/scikit-learn/issues/21755 */\n",
       "  display: inline-block !important;\n",
       "  position: relative;\n",
       "}\n",
       "\n",
       "#sk-container-id-1 div.sk-text-repr-fallback {\n",
       "  display: none;\n",
       "}\n",
       "\n",
       "div.sk-parallel-item,\n",
       "div.sk-serial,\n",
       "div.sk-item {\n",
       "  /* draw centered vertical line to link estimators */\n",
       "  background-image: linear-gradient(var(--sklearn-color-text-on-default-background), var(--sklearn-color-text-on-default-background));\n",
       "  background-size: 2px 100%;\n",
       "  background-repeat: no-repeat;\n",
       "  background-position: center center;\n",
       "}\n",
       "\n",
       "/* Parallel-specific style estimator block */\n",
       "\n",
       "#sk-container-id-1 div.sk-parallel-item::after {\n",
       "  content: \"\";\n",
       "  width: 100%;\n",
       "  border-bottom: 2px solid var(--sklearn-color-text-on-default-background);\n",
       "  flex-grow: 1;\n",
       "}\n",
       "\n",
       "#sk-container-id-1 div.sk-parallel {\n",
       "  display: flex;\n",
       "  align-items: stretch;\n",
       "  justify-content: center;\n",
       "  background-color: var(--sklearn-color-background);\n",
       "  position: relative;\n",
       "}\n",
       "\n",
       "#sk-container-id-1 div.sk-parallel-item {\n",
       "  display: flex;\n",
       "  flex-direction: column;\n",
       "}\n",
       "\n",
       "#sk-container-id-1 div.sk-parallel-item:first-child::after {\n",
       "  align-self: flex-end;\n",
       "  width: 50%;\n",
       "}\n",
       "\n",
       "#sk-container-id-1 div.sk-parallel-item:last-child::after {\n",
       "  align-self: flex-start;\n",
       "  width: 50%;\n",
       "}\n",
       "\n",
       "#sk-container-id-1 div.sk-parallel-item:only-child::after {\n",
       "  width: 0;\n",
       "}\n",
       "\n",
       "/* Serial-specific style estimator block */\n",
       "\n",
       "#sk-container-id-1 div.sk-serial {\n",
       "  display: flex;\n",
       "  flex-direction: column;\n",
       "  align-items: center;\n",
       "  background-color: var(--sklearn-color-background);\n",
       "  padding-right: 1em;\n",
       "  padding-left: 1em;\n",
       "}\n",
       "\n",
       "\n",
       "/* Toggleable style: style used for estimator/Pipeline/ColumnTransformer box that is\n",
       "clickable and can be expanded/collapsed.\n",
       "- Pipeline and ColumnTransformer use this feature and define the default style\n",
       "- Estimators will overwrite some part of the style using the `sk-estimator` class\n",
       "*/\n",
       "\n",
       "/* Pipeline and ColumnTransformer style (default) */\n",
       "\n",
       "#sk-container-id-1 div.sk-toggleable {\n",
       "  /* Default theme specific background. It is overwritten whether we have a\n",
       "  specific estimator or a Pipeline/ColumnTransformer */\n",
       "  background-color: var(--sklearn-color-background);\n",
       "}\n",
       "\n",
       "/* Toggleable label */\n",
       "#sk-container-id-1 label.sk-toggleable__label {\n",
       "  cursor: pointer;\n",
       "  display: block;\n",
       "  width: 100%;\n",
       "  margin-bottom: 0;\n",
       "  padding: 0.5em;\n",
       "  box-sizing: border-box;\n",
       "  text-align: center;\n",
       "}\n",
       "\n",
       "#sk-container-id-1 label.sk-toggleable__label-arrow:before {\n",
       "  /* Arrow on the left of the label */\n",
       "  content: \"▸\";\n",
       "  float: left;\n",
       "  margin-right: 0.25em;\n",
       "  color: var(--sklearn-color-icon);\n",
       "}\n",
       "\n",
       "#sk-container-id-1 label.sk-toggleable__label-arrow:hover:before {\n",
       "  color: var(--sklearn-color-text);\n",
       "}\n",
       "\n",
       "/* Toggleable content - dropdown */\n",
       "\n",
       "#sk-container-id-1 div.sk-toggleable__content {\n",
       "  max-height: 0;\n",
       "  max-width: 0;\n",
       "  overflow: hidden;\n",
       "  text-align: left;\n",
       "  /* unfitted */\n",
       "  background-color: var(--sklearn-color-unfitted-level-0);\n",
       "}\n",
       "\n",
       "#sk-container-id-1 div.sk-toggleable__content.fitted {\n",
       "  /* fitted */\n",
       "  background-color: var(--sklearn-color-fitted-level-0);\n",
       "}\n",
       "\n",
       "#sk-container-id-1 div.sk-toggleable__content pre {\n",
       "  margin: 0.2em;\n",
       "  border-radius: 0.25em;\n",
       "  color: var(--sklearn-color-text);\n",
       "  /* unfitted */\n",
       "  background-color: var(--sklearn-color-unfitted-level-0);\n",
       "}\n",
       "\n",
       "#sk-container-id-1 div.sk-toggleable__content.fitted pre {\n",
       "  /* unfitted */\n",
       "  background-color: var(--sklearn-color-fitted-level-0);\n",
       "}\n",
       "\n",
       "#sk-container-id-1 input.sk-toggleable__control:checked~div.sk-toggleable__content {\n",
       "  /* Expand drop-down */\n",
       "  max-height: 200px;\n",
       "  max-width: 100%;\n",
       "  overflow: auto;\n",
       "}\n",
       "\n",
       "#sk-container-id-1 input.sk-toggleable__control:checked~label.sk-toggleable__label-arrow:before {\n",
       "  content: \"▾\";\n",
       "}\n",
       "\n",
       "/* Pipeline/ColumnTransformer-specific style */\n",
       "\n",
       "#sk-container-id-1 div.sk-label input.sk-toggleable__control:checked~label.sk-toggleable__label {\n",
       "  color: var(--sklearn-color-text);\n",
       "  background-color: var(--sklearn-color-unfitted-level-2);\n",
       "}\n",
       "\n",
       "#sk-container-id-1 div.sk-label.fitted input.sk-toggleable__control:checked~label.sk-toggleable__label {\n",
       "  background-color: var(--sklearn-color-fitted-level-2);\n",
       "}\n",
       "\n",
       "/* Estimator-specific style */\n",
       "\n",
       "/* Colorize estimator box */\n",
       "#sk-container-id-1 div.sk-estimator input.sk-toggleable__control:checked~label.sk-toggleable__label {\n",
       "  /* unfitted */\n",
       "  background-color: var(--sklearn-color-unfitted-level-2);\n",
       "}\n",
       "\n",
       "#sk-container-id-1 div.sk-estimator.fitted input.sk-toggleable__control:checked~label.sk-toggleable__label {\n",
       "  /* fitted */\n",
       "  background-color: var(--sklearn-color-fitted-level-2);\n",
       "}\n",
       "\n",
       "#sk-container-id-1 div.sk-label label.sk-toggleable__label,\n",
       "#sk-container-id-1 div.sk-label label {\n",
       "  /* The background is the default theme color */\n",
       "  color: var(--sklearn-color-text-on-default-background);\n",
       "}\n",
       "\n",
       "/* On hover, darken the color of the background */\n",
       "#sk-container-id-1 div.sk-label:hover label.sk-toggleable__label {\n",
       "  color: var(--sklearn-color-text);\n",
       "  background-color: var(--sklearn-color-unfitted-level-2);\n",
       "}\n",
       "\n",
       "/* Label box, darken color on hover, fitted */\n",
       "#sk-container-id-1 div.sk-label.fitted:hover label.sk-toggleable__label.fitted {\n",
       "  color: var(--sklearn-color-text);\n",
       "  background-color: var(--sklearn-color-fitted-level-2);\n",
       "}\n",
       "\n",
       "/* Estimator label */\n",
       "\n",
       "#sk-container-id-1 div.sk-label label {\n",
       "  font-family: monospace;\n",
       "  font-weight: bold;\n",
       "  display: inline-block;\n",
       "  line-height: 1.2em;\n",
       "}\n",
       "\n",
       "#sk-container-id-1 div.sk-label-container {\n",
       "  text-align: center;\n",
       "}\n",
       "\n",
       "/* Estimator-specific */\n",
       "#sk-container-id-1 div.sk-estimator {\n",
       "  font-family: monospace;\n",
       "  border: 1px dotted var(--sklearn-color-border-box);\n",
       "  border-radius: 0.25em;\n",
       "  box-sizing: border-box;\n",
       "  margin-bottom: 0.5em;\n",
       "  /* unfitted */\n",
       "  background-color: var(--sklearn-color-unfitted-level-0);\n",
       "}\n",
       "\n",
       "#sk-container-id-1 div.sk-estimator.fitted {\n",
       "  /* fitted */\n",
       "  background-color: var(--sklearn-color-fitted-level-0);\n",
       "}\n",
       "\n",
       "/* on hover */\n",
       "#sk-container-id-1 div.sk-estimator:hover {\n",
       "  /* unfitted */\n",
       "  background-color: var(--sklearn-color-unfitted-level-2);\n",
       "}\n",
       "\n",
       "#sk-container-id-1 div.sk-estimator.fitted:hover {\n",
       "  /* fitted */\n",
       "  background-color: var(--sklearn-color-fitted-level-2);\n",
       "}\n",
       "\n",
       "/* Specification for estimator info (e.g. \"i\" and \"?\") */\n",
       "\n",
       "/* Common style for \"i\" and \"?\" */\n",
       "\n",
       ".sk-estimator-doc-link,\n",
       "a:link.sk-estimator-doc-link,\n",
       "a:visited.sk-estimator-doc-link {\n",
       "  float: right;\n",
       "  font-size: smaller;\n",
       "  line-height: 1em;\n",
       "  font-family: monospace;\n",
       "  background-color: var(--sklearn-color-background);\n",
       "  border-radius: 1em;\n",
       "  height: 1em;\n",
       "  width: 1em;\n",
       "  text-decoration: none !important;\n",
       "  margin-left: 1ex;\n",
       "  /* unfitted */\n",
       "  border: var(--sklearn-color-unfitted-level-1) 1pt solid;\n",
       "  color: var(--sklearn-color-unfitted-level-1);\n",
       "}\n",
       "\n",
       ".sk-estimator-doc-link.fitted,\n",
       "a:link.sk-estimator-doc-link.fitted,\n",
       "a:visited.sk-estimator-doc-link.fitted {\n",
       "  /* fitted */\n",
       "  border: var(--sklearn-color-fitted-level-1) 1pt solid;\n",
       "  color: var(--sklearn-color-fitted-level-1);\n",
       "}\n",
       "\n",
       "/* On hover */\n",
       "div.sk-estimator:hover .sk-estimator-doc-link:hover,\n",
       ".sk-estimator-doc-link:hover,\n",
       "div.sk-label-container:hover .sk-estimator-doc-link:hover,\n",
       ".sk-estimator-doc-link:hover {\n",
       "  /* unfitted */\n",
       "  background-color: var(--sklearn-color-unfitted-level-3);\n",
       "  color: var(--sklearn-color-background);\n",
       "  text-decoration: none;\n",
       "}\n",
       "\n",
       "div.sk-estimator.fitted:hover .sk-estimator-doc-link.fitted:hover,\n",
       ".sk-estimator-doc-link.fitted:hover,\n",
       "div.sk-label-container:hover .sk-estimator-doc-link.fitted:hover,\n",
       ".sk-estimator-doc-link.fitted:hover {\n",
       "  /* fitted */\n",
       "  background-color: var(--sklearn-color-fitted-level-3);\n",
       "  color: var(--sklearn-color-background);\n",
       "  text-decoration: none;\n",
       "}\n",
       "\n",
       "/* Span, style for the box shown on hovering the info icon */\n",
       ".sk-estimator-doc-link span {\n",
       "  display: none;\n",
       "  z-index: 9999;\n",
       "  position: relative;\n",
       "  font-weight: normal;\n",
       "  right: .2ex;\n",
       "  padding: .5ex;\n",
       "  margin: .5ex;\n",
       "  width: min-content;\n",
       "  min-width: 20ex;\n",
       "  max-width: 50ex;\n",
       "  color: var(--sklearn-color-text);\n",
       "  box-shadow: 2pt 2pt 4pt #999;\n",
       "  /* unfitted */\n",
       "  background: var(--sklearn-color-unfitted-level-0);\n",
       "  border: .5pt solid var(--sklearn-color-unfitted-level-3);\n",
       "}\n",
       "\n",
       ".sk-estimator-doc-link.fitted span {\n",
       "  /* fitted */\n",
       "  background: var(--sklearn-color-fitted-level-0);\n",
       "  border: var(--sklearn-color-fitted-level-3);\n",
       "}\n",
       "\n",
       ".sk-estimator-doc-link:hover span {\n",
       "  display: block;\n",
       "}\n",
       "\n",
       "/* \"?\"-specific style due to the `<a>` HTML tag */\n",
       "\n",
       "#sk-container-id-1 a.estimator_doc_link {\n",
       "  float: right;\n",
       "  font-size: 1rem;\n",
       "  line-height: 1em;\n",
       "  font-family: monospace;\n",
       "  background-color: var(--sklearn-color-background);\n",
       "  border-radius: 1rem;\n",
       "  height: 1rem;\n",
       "  width: 1rem;\n",
       "  text-decoration: none;\n",
       "  /* unfitted */\n",
       "  color: var(--sklearn-color-unfitted-level-1);\n",
       "  border: var(--sklearn-color-unfitted-level-1) 1pt solid;\n",
       "}\n",
       "\n",
       "#sk-container-id-1 a.estimator_doc_link.fitted {\n",
       "  /* fitted */\n",
       "  border: var(--sklearn-color-fitted-level-1) 1pt solid;\n",
       "  color: var(--sklearn-color-fitted-level-1);\n",
       "}\n",
       "\n",
       "/* On hover */\n",
       "#sk-container-id-1 a.estimator_doc_link:hover {\n",
       "  /* unfitted */\n",
       "  background-color: var(--sklearn-color-unfitted-level-3);\n",
       "  color: var(--sklearn-color-background);\n",
       "  text-decoration: none;\n",
       "}\n",
       "\n",
       "#sk-container-id-1 a.estimator_doc_link.fitted:hover {\n",
       "  /* fitted */\n",
       "  background-color: var(--sklearn-color-fitted-level-3);\n",
       "}\n",
       "</style><div id=\"sk-container-id-1\" class=\"sk-top-container\"><div class=\"sk-text-repr-fallback\"><pre>MultinomialNB()</pre><b>In a Jupyter environment, please rerun this cell to show the HTML representation or trust the notebook. <br />On GitHub, the HTML representation is unable to render, please try loading this page with nbviewer.org.</b></div><div class=\"sk-container\" hidden><div class=\"sk-item\"><div class=\"sk-estimator fitted sk-toggleable\"><input class=\"sk-toggleable__control sk-hidden--visually\" id=\"sk-estimator-id-1\" type=\"checkbox\" checked><label for=\"sk-estimator-id-1\" class=\"sk-toggleable__label fitted sk-toggleable__label-arrow fitted\">&nbsp;&nbsp;MultinomialNB<a class=\"sk-estimator-doc-link fitted\" rel=\"noreferrer\" target=\"_blank\" href=\"https://scikit-learn.org/1.4/modules/generated/sklearn.naive_bayes.MultinomialNB.html\">?<span>Documentation for MultinomialNB</span></a><span class=\"sk-estimator-doc-link fitted\">i<span>Fitted</span></span></label><div class=\"sk-toggleable__content fitted\"><pre>MultinomialNB()</pre></div> </div></div></div></div>"
      ],
      "text/plain": [
       "MultinomialNB()"
      ]
     },
     "execution_count": 34,
     "metadata": {},
     "output_type": "execute_result"
    }
   ],
   "source": [
    "model = MultinomialNB()\n",
    "model.fit(X_train, labels)"
   ]
  },
  {
   "cell_type": "code",
   "execution_count": 35,
   "id": "b68f458f",
   "metadata": {},
   "outputs": [
    {
     "name": "stdout",
     "output_type": "stream",
     "text": [
      "The sentence 'I hate bugs' is predicted to be: Negative\n"
     ]
    }
   ],
   "source": [
    "test_sentence = [\"I hate bugs\"]\n",
    "X_test = vectorizer.transform(test_sentence)\n",
    "predicted_class = model.predict(X_test)[0]\n",
    "\n",
    "print(f\"The sentence '{test_sentence[0]}' is predicted to be: {predicted_class}\")"
   ]
  },
  {
   "cell_type": "markdown",
   "id": "7b172b25",
   "metadata": {},
   "source": [
    "## Count Vectorizer"
   ]
  },
  {
   "cell_type": "code",
   "execution_count": 36,
   "id": "2946823c",
   "metadata": {
    "scrolled": true
   },
   "outputs": [
    {
     "name": "stdout",
     "output_type": "stream",
     "text": [
      "\n",
      "Feature names (vocabulary):\n",
      "['coding' 'great' 'is' 'love' 'python']\n",
      "Dense matrix:\n",
      "[[1 0 0 1 0]\n",
      " [0 0 0 1 1]\n",
      " [0 1 1 0 1]]\n"
     ]
    }
   ],
   "source": [
    "texts = [\"I love coding\", \"I love Python\", \"Python is great\"]\n",
    "vectorizer = CountVectorizer()\n",
    "X_vectors = vectorizer.fit_transform(texts)\n",
    "\n",
    "print(\"\\nFeature names (vocabulary):\")\n",
    "print(vectorizer.get_feature_names_out())\n",
    "\n",
    "print(\"Dense matrix:\")\n",
    "print(X_vectors.toarray())"
   ]
  },
  {
   "cell_type": "markdown",
   "id": "87899c62",
   "metadata": {},
   "source": [
    "Feature names are the words in the vocabulary. Each has an index. "
   ]
  },
  {
   "cell_type": "markdown",
   "id": "df9ae8b3",
   "metadata": {},
   "source": [
    "Please note, the word \"I\" is not there. Why? Because CountVectorizer removes stop words like I "
   ]
  },
  {
   "cell_type": "markdown",
   "id": "566a6c1f",
   "metadata": {},
   "source": [
    "The dense matrix represents wether the word exists in the sentence. For example in the first sentence we have:\n",
    "I love coding. These are indexes:\n",
    "- I is not part of the index\n",
    "- love is index 3\n",
    "- coding is index 0\n",
    "\n",
    "Therefor in the first row I expect to see 1 in index 0 and 3. Zeros in all the rest. This **IS** what I get."
   ]
  },
  {
   "cell_type": "code",
   "execution_count": 7,
   "id": "267d4a18",
   "metadata": {},
   "outputs": [
    {
     "name": "stdout",
     "output_type": "stream",
     "text": [
      "Message: Free hiking gear for you\n",
      "Predicted Class: Spam\n",
      "Predicted Probabilities: {'Not Spam': 0.1229815214288261, 'Spam': 0.8770184785711737}\n"
     ]
    }
   ],
   "source": [
    "data = [\n",
    "    (\"Discover the best hiking trails\", \"Not Spam\"),\n",
    "    (\"Win a trip to the Amazon jungle\", \"Spam\"),\n",
    "    (\"Experience the beauty of forests\", \"Not Spam\"),\n",
    "    (\"Exclusive safari deal for you\", \"Spam\"),\n",
    "    (\"Save the whales, donate today\", \"Not Spam\"),\n",
    "    (\"Free camping gear with purchase\", \"Spam\")\n",
    "]\n",
    "\n",
    "messages, labels = zip(*data)\n",
    "\n",
    "pipeline = make_pipeline(CountVectorizer(), MultinomialNB())\n",
    "\n",
    "pipeline.fit(messages, labels)"
   ]
  },
  {
   "cell_type": "code",
   "execution_count": null,
   "id": "af8cd72a-c82d-42b1-add1-ef88723502ac",
   "metadata": {},
   "outputs": [],
   "source": [
    "test_message = [\"Free hiking gear for you\"]\n",
    "predicted_class = pipeline.predict(test_message)\n",
    "predicted_proba = pipeline.predict_proba(test_message)\n",
    "\n",
    "print(f\"Message: {test_message[0]}\")\n",
    "print(f\"Predicted Class: {predicted_class[0]}\")\n",
    "print(\"Predicted Probabilities:\", dict(zip(pipeline.classes_, predicted_proba[0])))"
   ]
  },
  {
   "cell_type": "markdown",
   "id": "b90909f5",
   "metadata": {},
   "source": [
    "\n",
    "# Naive Bayes Text Classification with a Nature Theme\n",
    "\n",
    "### Step 1: Data Preparation\n",
    "\n",
    "#### Training Data\n",
    "| Message                             | Class    |\n",
    "|-------------------------------------|----------|\n",
    "| \"Discover the best hiking trails\"   | Not Spam |\n",
    "| \"Win a trip to the Amazon jungle\"   | Spam     |\n",
    "| \"Experience the beauty of forests\"  | Not Spam |\n",
    "| \"Exclusive safari deal for you\"     | Spam     |\n",
    "| \"Save the whales, donate today\"     | Not Spam |\n",
    "| \"Free camping gear with purchase\"   | Spam     |\n"
   ]
  },
  {
   "cell_type": "markdown",
   "id": "37411ab3",
   "metadata": {},
   "source": [
    "### Vocabulary\n",
    "The unique words across all messages form the vocabulary:"
   ]
  },
  {
   "cell_type": "code",
   "execution_count": 7,
   "id": "218dd063",
   "metadata": {},
   "outputs": [],
   "source": [
    "bag_of_words = ['discover', 'the', 'best', 'hiking', 'trails', 'win', 'a', 'trip', 'to',\n",
    "                'amazon', 'jungle', 'experience', 'beauty', 'of', 'forests', 'exclusive', 'safari',\n",
    "                'deal', 'for', 'you', 'save', 'whales', 'donate', 'today', 'free', 'camping', 'gear',\n",
    "                'with', 'purchase']"
   ]
  },
  {
   "cell_type": "markdown",
   "id": "3a482b5b",
   "metadata": {},
   "source": [
    "We use this vocabulary to calculate word probabilities for each class."
   ]
  },
  {
   "cell_type": "markdown",
   "id": "17085b24",
   "metadata": {},
   "source": [
    "### Step 2: Word Frequency Calculation"
   ]
  },
  {
   "cell_type": "code",
   "execution_count": 11,
   "id": "e1bfb653",
   "metadata": {},
   "outputs": [],
   "source": [
    "spam_words = ['win', 'a', 'trip', 'to', 'amazon', 'jungle', 'exclusive', 'safari',\n",
    "        'deal', 'for', 'you', 'free', 'camping', 'gear', 'with', 'purchase']"
   ]
  },
  {
   "cell_type": "code",
   "execution_count": 10,
   "id": "24ad1fb9",
   "metadata": {},
   "outputs": [
    {
     "data": {
      "text/plain": [
       "16"
      ]
     },
     "execution_count": 10,
     "metadata": {},
     "output_type": "execute_result"
    }
   ],
   "source": [
    "len(spam)"
   ]
  },
  {
   "cell_type": "code",
   "execution_count": 12,
   "id": "80a13005",
   "metadata": {},
   "outputs": [],
   "source": [
    "non_spam_words = ['discover', 'the', 'best', 'hiking', 'trails', 'experience', 'the', 'beauty', 'of', 'forests',\n",
    "                'save', 'the', 'whales', 'donate', 'today']"
   ]
  },
  {
   "cell_type": "code",
   "execution_count": 13,
   "id": "7910d518",
   "metadata": {},
   "outputs": [
    {
     "data": {
      "text/plain": [
       "15"
      ]
     },
     "execution_count": 13,
     "metadata": {},
     "output_type": "execute_result"
    }
   ],
   "source": [
    "len(non_spam_words)"
   ]
  },
  {
   "cell_type": "markdown",
   "id": "34c4fc5e",
   "metadata": {},
   "source": [
    "\n",
    "### Step 3: Laplace Smoothing\n",
    "\n",
    "To handle words that may not appear in a specific class, we apply Laplace smoothing.  \n",
    "The formula is:\n",
    "\n",
    "$$ P(\\text{Word} \\mid \\text{Class}) = \\frac{\\text{Word Count in Class} + 1}{\\text{Total Words in Class} + \\text{Vocabulary Size}} $$\n",
    "\n",
    "**Vocabulary Size = 28** (total unique words).\n",
    "\n",
    "#### Example Calculations:\n",
    "- For the word \"win\" in Spam:\n",
    "$$ P(\\text{win} \\mid \\text{Spam}) = \\frac{1 + 1}{16 + 28} = \\frac{2}{44} \\approx 0.0455 $$\n",
    "\n",
    "- For the word \"forests\" in Spam (not present):\n",
    "$$ P(\\text{forests} \\mid \\text{Spam}) = \\frac{0 + 1}{16 + 28} = \\frac{1}{44} \\approx 0.0227 $$\n"
   ]
  },
  {
   "cell_type": "markdown",
   "id": "47ce784e",
   "metadata": {},
   "source": [
    "\n",
    "### Step 4: Prior Probabilities\n",
    "\n",
    "The prior probabilities are based on the class distribution in the dataset.\n",
    "\n",
    "- **Spam**:\n",
    "$$ P(\\text{Spam}) = \\frac{\\text{Spam Messages}}{\\text{Total Messages}} = \\frac{3}{6} = 0.5 $$\n",
    "\n",
    "- **Not Spam**:\n",
    "$$ P(\\text{Not Spam}) = \\frac{\\text{Not Spam Messages}}{\\text{Total Messages}} = \\frac{3}{6} = 0.5 $$\n"
   ]
  },
  {
   "cell_type": "markdown",
   "id": "7fe77012",
   "metadata": {},
   "source": [
    "\n",
    "### Step 5: Classifying a New Message\n",
    "\n",
    "Let’s classify the message: `\"free hiking gear for you\"`.\n",
    "\n",
    "We calculate the posterior probabilities for both Spam and Not Spam using Bayes’ theorem:\n",
    "\n",
    "$$ P(\\text{Spam} \\mid \\text{Message}) \\propto P(\\text{Spam}) \\prod_{\\text{Wor d} \\in \\text{Message}} P(\\text{Word} \\mid \\text{Spam}) $$\n",
    "\n",
    "$$ P(\\text{Not Spam} \\mid \\text{Message}) \\propto P(\\text{Not Spam}) \\prod_{\\text{Word} \\in \\text{Message}} P(\\text{Word} \\mid \\text{Not Spam}) $$\n",
    "\n",
    "Next, we compute these probabilities step-by-step.\n"
   ]
  },
  {
   "cell_type": "markdown",
   "id": "79ccf9ea-8e7c-4c4c-84df-837dec4d05d2",
   "metadata": {},
   "source": [
    "Weird signs explanation:\n",
    "\n",
    "The chance of the message being spam, is proportional to the chance of it being spam (with no regards to the message itself) times, times the probability of it being spam times each word's probability of being spam"
   ]
  },
  {
   "cell_type": "markdown",
   "id": "13e51ddf-0b72-45b2-9a53-1604e4c4cad9",
   "metadata": {},
   "source": [
    "Basically you take the chance of something being spam or not spam, unrelated to the message it self, lets say the chance of being spam is 0.3.\n",
    "\n",
    "You take each word, calculate its chance of being spam, and multiply by 0.3. You sum this over all the words in the message, and you get the chance of it being spam."
   ]
  },
  {
   "cell_type": "code",
   "execution_count": 5,
   "id": "b2607525",
   "metadata": {},
   "outputs": [],
   "source": [
    "data = [\n",
    "    (\"Discover the best hiking trails\", \"Not Spam\"),\n",
    "    (\"Win a trip to the Amazon jungle\", \"Spam\"),\n",
    "    (\"Experience the beauty of forests\", \"Not Spam\"),\n",
    "    (\"Exclusive safari deal for you\", \"Spam\"),\n",
    "    (\"Save the whales, donate today\", \"Not Spam\"),\n",
    "    (\"Free camping gear with purchase\", \"Spam\")\n",
    "]"
   ]
  },
  {
   "cell_type": "markdown",
   "id": "3beb90f3",
   "metadata": {},
   "source": [
    "## Exercise"
   ]
  },
  {
   "cell_type": "markdown",
   "id": "23744ce2",
   "metadata": {},
   "source": [
    "Build your own Naive Bayes model from scratch"
   ]
  },
  {
   "cell_type": "markdown",
   "id": "1c5a3823",
   "metadata": {},
   "source": [
    "Instructions:\n",
    "\n",
    "1. Tokenize the data in what ever way you see fit\n",
    "2. Create a data structure that for each class, holds the probability of each word in that class. For example:\n",
    "- in the class spam: free: 0.3, commit: 0.03 (made up numbers)\n",
    "3. Given a sentence, calculate its probability for each class and choose the higher probability as the prediction"
   ]
  },
  {
   "cell_type": "markdown",
   "id": "afc3ff86",
   "metadata": {},
   "source": [
    "Once its ready, use it to classify the IMDB dataset"
   ]
  },
  {
   "cell_type": "code",
   "execution_count": 37,
   "id": "c28fef80",
   "metadata": {},
   "outputs": [],
   "source": [
    "df = pd.read_csv('datasets/IMDB Dataset.csv')"
   ]
  },
  {
   "cell_type": "code",
   "execution_count": 38,
   "id": "f968a03b",
   "metadata": {},
   "outputs": [
    {
     "data": {
      "text/html": [
       "<div>\n",
       "<style scoped>\n",
       "    .dataframe tbody tr th:only-of-type {\n",
       "        vertical-align: middle;\n",
       "    }\n",
       "\n",
       "    .dataframe tbody tr th {\n",
       "        vertical-align: top;\n",
       "    }\n",
       "\n",
       "    .dataframe thead th {\n",
       "        text-align: right;\n",
       "    }\n",
       "</style>\n",
       "<table border=\"1\" class=\"dataframe\">\n",
       "  <thead>\n",
       "    <tr style=\"text-align: right;\">\n",
       "      <th></th>\n",
       "      <th>review</th>\n",
       "      <th>sentiment</th>\n",
       "    </tr>\n",
       "  </thead>\n",
       "  <tbody>\n",
       "    <tr>\n",
       "      <th>0</th>\n",
       "      <td>One of the other reviewers has mentioned that ...</td>\n",
       "      <td>positive</td>\n",
       "    </tr>\n",
       "    <tr>\n",
       "      <th>1</th>\n",
       "      <td>A wonderful little production. &lt;br /&gt;&lt;br /&gt;The...</td>\n",
       "      <td>positive</td>\n",
       "    </tr>\n",
       "    <tr>\n",
       "      <th>2</th>\n",
       "      <td>I thought this was a wonderful way to spend ti...</td>\n",
       "      <td>positive</td>\n",
       "    </tr>\n",
       "    <tr>\n",
       "      <th>3</th>\n",
       "      <td>Basically there's a family where a little boy ...</td>\n",
       "      <td>negative</td>\n",
       "    </tr>\n",
       "    <tr>\n",
       "      <th>4</th>\n",
       "      <td>Petter Mattei's \"Love in the Time of Money\" is...</td>\n",
       "      <td>positive</td>\n",
       "    </tr>\n",
       "  </tbody>\n",
       "</table>\n",
       "</div>"
      ],
      "text/plain": [
       "                                              review sentiment\n",
       "0  One of the other reviewers has mentioned that ...  positive\n",
       "1  A wonderful little production. <br /><br />The...  positive\n",
       "2  I thought this was a wonderful way to spend ti...  positive\n",
       "3  Basically there's a family where a little boy ...  negative\n",
       "4  Petter Mattei's \"Love in the Time of Money\" is...  positive"
      ]
     },
     "execution_count": 38,
     "metadata": {},
     "output_type": "execute_result"
    }
   ],
   "source": [
    "df.head()"
   ]
  }
 ],
 "metadata": {
  "kernelspec": {
   "display_name": "Python 3 (ipykernel)",
   "language": "python",
   "name": "python3"
  },
  "language_info": {
   "codemirror_mode": {
    "name": "ipython",
    "version": 3
   },
   "file_extension": ".py",
   "mimetype": "text/x-python",
   "name": "python",
   "nbconvert_exporter": "python",
   "pygments_lexer": "ipython3",
   "version": "3.11.2"
  },
  "toc": {
   "base_numbering": 1,
   "nav_menu": {},
   "number_sections": true,
   "sideBar": true,
   "skip_h1_title": false,
   "title_cell": "Table of Contents",
   "title_sidebar": "Contents",
   "toc_cell": false,
   "toc_position": {},
   "toc_section_display": true,
   "toc_window_display": false
  }
 },
 "nbformat": 4,
 "nbformat_minor": 5
}
