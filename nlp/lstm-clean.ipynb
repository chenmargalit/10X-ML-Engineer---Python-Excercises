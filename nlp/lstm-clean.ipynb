{
 "cells": [
  {
   "cell_type": "code",
   "execution_count": 32,
   "id": "db17671a-603d-419a-99bb-053ee0cfda71",
   "metadata": {
    "execution": {
     "iopub.execute_input": "2025-01-22T12:00:03.341514Z",
     "iopub.status.busy": "2025-01-22T12:00:03.341102Z",
     "iopub.status.idle": "2025-01-22T12:00:03.346174Z",
     "shell.execute_reply": "2025-01-22T12:00:03.345387Z",
     "shell.execute_reply.started": "2025-01-22T12:00:03.341481Z"
    }
   },
   "outputs": [],
   "source": [
    "import torch.nn as nn\n",
    "import torch\n",
    "from torch.utils.data import DataLoader, Dataset\n",
    "import io\n",
    "import os\n",
    "import unicodedata\n",
    "import string\n",
    "import glob\n",
    "import matplotlib.pyplot as plt\n",
    "import random"
   ]
  },
  {
   "cell_type": "code",
   "execution_count": 33,
   "id": "6d4cc8cd-963d-4713-b9c9-6cad7172b83d",
   "metadata": {
    "execution": {
     "iopub.execute_input": "2025-01-22T12:00:03.834438Z",
     "iopub.status.busy": "2025-01-22T12:00:03.834117Z",
     "iopub.status.idle": "2025-01-22T12:00:03.838283Z",
     "shell.execute_reply": "2025-01-22T12:00:03.837384Z",
     "shell.execute_reply.started": "2025-01-22T12:00:03.834411Z"
    }
   },
   "outputs": [],
   "source": [
    "ALL_LETTERS = string.ascii_letters + \" .,;'\"\n",
    "N_LETTERS = len(ALL_LETTERS)"
   ]
  },
  {
   "cell_type": "code",
   "execution_count": 34,
   "id": "02c7ef11-6e9f-4c48-9857-8498057d5d56",
   "metadata": {
    "execution": {
     "iopub.execute_input": "2025-01-22T12:00:03.913149Z",
     "iopub.status.busy": "2025-01-22T12:00:03.912887Z",
     "iopub.status.idle": "2025-01-22T12:00:03.917450Z",
     "shell.execute_reply": "2025-01-22T12:00:03.916526Z",
     "shell.execute_reply.started": "2025-01-22T12:00:03.913127Z"
    }
   },
   "outputs": [],
   "source": [
    "def unicode_to_ascii(s):\n",
    "    return ''.join(\n",
    "        c for c in unicodedata.normalize('NFD', s)\n",
    "        if unicodedata.category(c) != 'Mn' and c in ALL_LETTERS\n",
    "    )"
   ]
  },
  {
   "cell_type": "code",
   "execution_count": 35,
   "id": "b973c0f8-6423-4262-861a-7271ccfb3086",
   "metadata": {
    "execution": {
     "iopub.execute_input": "2025-01-22T12:00:03.997997Z",
     "iopub.status.busy": "2025-01-22T12:00:03.997635Z",
     "iopub.status.idle": "2025-01-22T12:00:04.001973Z",
     "shell.execute_reply": "2025-01-22T12:00:04.000902Z",
     "shell.execute_reply.started": "2025-01-22T12:00:03.997968Z"
    }
   },
   "outputs": [],
   "source": [
    "PATH_TO_DATA = '../input/names'"
   ]
  },
  {
   "cell_type": "code",
   "execution_count": 36,
   "id": "6432bae3-965d-48c6-a5fc-13fff6916839",
   "metadata": {
    "execution": {
     "iopub.execute_input": "2025-01-22T12:00:04.089079Z",
     "iopub.status.busy": "2025-01-22T12:00:04.088825Z",
     "iopub.status.idle": "2025-01-22T12:00:04.092746Z",
     "shell.execute_reply": "2025-01-22T12:00:04.091884Z",
     "shell.execute_reply.started": "2025-01-22T12:00:04.089059Z"
    }
   },
   "outputs": [],
   "source": [
    "def find_files(path):\n",
    "    return glob.glob(path)"
   ]
  },
  {
   "cell_type": "code",
   "execution_count": 37,
   "id": "5ec884b8-26f9-43c0-a612-d1b83038cc14",
   "metadata": {
    "ExecuteTime": {
     "start_time": "2025-01-01T13:29:55.853104Z"
    },
    "execution": {
     "iopub.execute_input": "2025-01-22T12:00:04.244859Z",
     "iopub.status.busy": "2025-01-22T12:00:04.244513Z",
     "iopub.status.idle": "2025-01-22T12:00:04.250251Z",
     "shell.execute_reply": "2025-01-22T12:00:04.249217Z",
     "shell.execute_reply.started": "2025-01-22T12:00:04.244830Z"
    },
    "is_executing": true
   },
   "outputs": [],
   "source": [
    "def load_data():\n",
    "    # Build the category_lines dictionary, a list of names per language\n",
    "    category_lines = {}\n",
    "    all_categories = []\n",
    "    \n",
    "    # Read a file and split into lines\n",
    "    def read_lines(filename):\n",
    "        lines = io.open(filename, encoding='utf-8').read().strip().split('\\n')\n",
    "        return [unicode_to_ascii(line) for line in lines]\n",
    "    \n",
    "    for filename in find_files(f'{PATH_TO_DATA}/*.txt'):\n",
    "        category = os.path.splitext(os.path.basename(filename))[0]\n",
    "        all_categories.append(category)\n",
    "        \n",
    "        lines = read_lines(filename)\n",
    "        category_lines[category] = lines\n",
    "        \n",
    "    return category_lines, all_categories"
   ]
  },
  {
   "cell_type": "markdown",
   "id": "2ead7cda-da61-4f08-9a77-4fcc36c39fb6",
   "metadata": {},
   "source": [
    "To represent a single letter, we use a “one-hot vector” of size 1 x n_letters. A one-hot vector is filled with 0s except for a 1 at index of the current letter, e.g. \"b\" = <0 1 0 0 0 ...>.\n",
    "\n",
    "To make a word we join a bunch of those into a 2D matrix <line_length x 1 x n_letters>.\n",
    "\n",
    "That extra 1 dimension is because PyTorch assumes everything is in batches - we’re just using a batch size of 1 here.\n"
   ]
  },
  {
   "cell_type": "code",
   "execution_count": 38,
   "id": "41523041-acd3-4457-a51f-42acb3efeaa2",
   "metadata": {
    "execution": {
     "iopub.execute_input": "2025-01-22T12:00:04.547659Z",
     "iopub.status.busy": "2025-01-22T12:00:04.547370Z",
     "iopub.status.idle": "2025-01-22T12:00:04.551622Z",
     "shell.execute_reply": "2025-01-22T12:00:04.550607Z",
     "shell.execute_reply.started": "2025-01-22T12:00:04.547638Z"
    }
   },
   "outputs": [],
   "source": [
    "def letter_to_index(letter):\n",
    "    return ALL_LETTERS.find(letter)"
   ]
  },
  {
   "cell_type": "code",
   "execution_count": 39,
   "id": "88086412-b462-457d-9921-0caface56485",
   "metadata": {
    "execution": {
     "iopub.execute_input": "2025-01-22T12:00:06.469760Z",
     "iopub.status.busy": "2025-01-22T12:00:06.469406Z",
     "iopub.status.idle": "2025-01-22T12:00:06.474333Z",
     "shell.execute_reply": "2025-01-22T12:00:06.473402Z",
     "shell.execute_reply.started": "2025-01-22T12:00:06.469728Z"
    }
   },
   "outputs": [],
   "source": [
    "def line_to_tensor(line):\n",
    "    tensor = torch.zeros(len(line), 1, N_LETTERS)\n",
    "    for i, letter in enumerate(line):\n",
    "        tensor[i][0][letter_to_index(letter)] = 1\n",
    "    return tensor"
   ]
  },
  {
   "cell_type": "code",
   "execution_count": 40,
   "id": "f5582358-22b1-4da9-9c10-8cd04f622be8",
   "metadata": {
    "execution": {
     "iopub.execute_input": "2025-01-22T12:00:06.645607Z",
     "iopub.status.busy": "2025-01-22T12:00:06.645349Z",
     "iopub.status.idle": "2025-01-22T12:00:06.649461Z",
     "shell.execute_reply": "2025-01-22T12:00:06.648460Z",
     "shell.execute_reply.started": "2025-01-22T12:00:06.645587Z"
    }
   },
   "outputs": [],
   "source": [
    "def category_from_output(output):\n",
    "    category_idx = torch.argmax(output).item()\n",
    "    return all_categories[category_idx]"
   ]
  },
  {
   "cell_type": "code",
   "execution_count": 41,
   "id": "4502f6d2-b938-4f1c-aa77-626502443faa",
   "metadata": {
    "execution": {
     "iopub.execute_input": "2025-01-22T12:00:06.795655Z",
     "iopub.status.busy": "2025-01-22T12:00:06.795308Z",
     "iopub.status.idle": "2025-01-22T12:00:06.799996Z",
     "shell.execute_reply": "2025-01-22T12:00:06.799080Z",
     "shell.execute_reply.started": "2025-01-22T12:00:06.795630Z"
    }
   },
   "outputs": [],
   "source": [
    "def random_training_example(category_lines, all_categories):\n",
    "    \n",
    "    def random_choice(a):\n",
    "        random_idx = random.randint(0, len(a) - 1)\n",
    "        return a[random_idx]"
   ]
  },
  {
   "cell_type": "code",
   "execution_count": 42,
   "id": "8b6ed10d-49b3-4590-928b-790e1841681b",
   "metadata": {
    "execution": {
     "iopub.execute_input": "2025-01-22T12:00:06.946164Z",
     "iopub.status.busy": "2025-01-22T12:00:06.945816Z",
     "iopub.status.idle": "2025-01-22T12:00:06.951150Z",
     "shell.execute_reply": "2025-01-22T12:00:06.950200Z",
     "shell.execute_reply.started": "2025-01-22T12:00:06.946133Z"
    },
    "scrolled": true
   },
   "outputs": [],
   "source": [
    "def read_lines_from_files(directory):\n",
    "    results = []  # To store the tuples\n",
    "    for filename in os.listdir(directory):\n",
    "        if filename.endswith('.txt'):  # Process only .txt files\n",
    "            file_path = os.path.join(directory, filename)\n",
    "            with open(file_path, 'r', encoding='utf-8') as file:\n",
    "                for line in file:\n",
    "                    line_content = line.strip()  # Remove leading/trailing whitespace\n",
    "                    results.append((line_content, filename.replace('.txt', '')))\n",
    "    return results"
   ]
  },
  {
   "cell_type": "code",
   "execution_count": 43,
   "id": "e21821c2-80c2-40b7-8183-4ee6b586c011",
   "metadata": {
    "execution": {
     "iopub.execute_input": "2025-01-22T12:00:08.764805Z",
     "iopub.status.busy": "2025-01-22T12:00:08.764433Z",
     "iopub.status.idle": "2025-01-22T12:00:08.794707Z",
     "shell.execute_reply": "2025-01-22T12:00:08.793756Z",
     "shell.execute_reply.started": "2025-01-22T12:00:08.764773Z"
    }
   },
   "outputs": [],
   "source": [
    "category_lines, all_categories = load_data()\n",
    "n_categories = len(all_categories)"
   ]
  },
  {
   "cell_type": "code",
   "execution_count": 44,
   "id": "03cd41eb-2783-42d5-87ea-37d8c79f0392",
   "metadata": {
    "execution": {
     "iopub.execute_input": "2025-01-22T12:00:08.944339Z",
     "iopub.status.busy": "2025-01-22T12:00:08.943986Z",
     "iopub.status.idle": "2025-01-22T12:00:08.968303Z",
     "shell.execute_reply": "2025-01-22T12:00:08.967614Z",
     "shell.execute_reply.started": "2025-01-22T12:00:08.944307Z"
    }
   },
   "outputs": [],
   "source": [
    "lines_with_files = read_lines_from_files(PATH_TO_DATA)"
   ]
  },
  {
   "cell_type": "code",
   "execution_count": 45,
   "id": "bff87f06-55a2-445c-acf0-30f22b398998",
   "metadata": {
    "execution": {
     "iopub.execute_input": "2025-01-22T12:00:09.074639Z",
     "iopub.status.busy": "2025-01-22T12:00:09.074281Z",
     "iopub.status.idle": "2025-01-22T12:00:09.079334Z",
     "shell.execute_reply": "2025-01-22T12:00:09.078301Z",
     "shell.execute_reply.started": "2025-01-22T12:00:09.074607Z"
    }
   },
   "outputs": [],
   "source": [
    "class NamesDataset:\n",
    "\n",
    "    def __init__(self, data):\n",
    "        self.data = data\n",
    "\n",
    "    def __len__(self):\n",
    "        return len(self.data)\n",
    "\n",
    "    def __getitem__(self, idx):\n",
    "        name, language = self.data[idx]\n",
    "        return name, language"
   ]
  },
  {
   "cell_type": "code",
   "execution_count": 46,
   "id": "eef2550f-0eb9-499a-943d-66015cd14977",
   "metadata": {
    "execution": {
     "iopub.execute_input": "2025-01-22T12:00:09.255430Z",
     "iopub.status.busy": "2025-01-22T12:00:09.255094Z",
     "iopub.status.idle": "2025-01-22T12:00:09.259642Z",
     "shell.execute_reply": "2025-01-22T12:00:09.258635Z",
     "shell.execute_reply.started": "2025-01-22T12:00:09.255403Z"
    }
   },
   "outputs": [],
   "source": [
    "ds = NamesDataset(lines_with_files)"
   ]
  },
  {
   "cell_type": "code",
   "execution_count": 47,
   "id": "4ac1776b-5786-4389-85d7-0acb4cbb09b7",
   "metadata": {
    "execution": {
     "iopub.execute_input": "2025-01-22T12:00:09.421052Z",
     "iopub.status.busy": "2025-01-22T12:00:09.420704Z",
     "iopub.status.idle": "2025-01-22T12:00:09.426087Z",
     "shell.execute_reply": "2025-01-22T12:00:09.425168Z",
     "shell.execute_reply.started": "2025-01-22T12:00:09.421027Z"
    }
   },
   "outputs": [],
   "source": [
    "dl = DataLoader(ds, batch_size=1, shuffle=True)"
   ]
  },
  {
   "cell_type": "code",
   "execution_count": 116,
   "id": "f278b760-5264-41ef-b586-a9925c933e06",
   "metadata": {
    "execution": {
     "iopub.execute_input": "2025-01-22T12:39:10.569106Z",
     "iopub.status.busy": "2025-01-22T12:39:10.568723Z",
     "iopub.status.idle": "2025-01-22T12:39:10.573204Z",
     "shell.execute_reply": "2025-01-22T12:39:10.572180Z",
     "shell.execute_reply.started": "2025-01-22T12:39:10.569074Z"
    }
   },
   "outputs": [],
   "source": [
    "device = torch.device(\"cuda\" if torch.cuda.is_available() else \"cpu\")\n",
    "# device = 'cpu'"
   ]
  },
  {
   "cell_type": "code",
   "execution_count": 117,
   "id": "1115e8ae-c9c8-4fa2-b95b-fd6c58f4568d",
   "metadata": {
    "execution": {
     "iopub.execute_input": "2025-01-22T12:39:26.380915Z",
     "iopub.status.busy": "2025-01-22T12:39:26.380562Z",
     "iopub.status.idle": "2025-01-22T12:39:26.387170Z",
     "shell.execute_reply": "2025-01-22T12:39:26.386194Z",
     "shell.execute_reply.started": "2025-01-22T12:39:26.380889Z"
    }
   },
   "outputs": [],
   "source": [
    "class LSTM(nn.Module):\n",
    "    def __init__(self, input_size, hidden_size, output_size):\n",
    "        super().__init__()\n",
    "        \n",
    "        self.hidden_size = hidden_size\n",
    "        self.lstm = nn.LSTM(input_size, hidden_size, batch_first=True)\n",
    "        self.fc = nn.Linear(hidden_size, output_size)\n",
    "        \n",
    "    def forward(self, input_tensor, hidden_state):\n",
    "        # LSTM expects input in the shape (batch, seq_len, input_size)\n",
    "        # Reshape input_tensor to include batch and seq_len\n",
    "        input_tensor = input_tensor.unsqueeze(1)\n",
    "        output, (hidden, cell) = self.lstm(input_tensor, hidden_state)\n",
    "        \n",
    "        # Pass the LSTM's hidden state through the output layer\n",
    "        output = self.fc(output.squeeze(1))  # Remove the seq_len dimension\n",
    "        return output, (hidden, cell)\n",
    "    \n",
    "    def init_hidden(self):\n",
    "        # Initialize both hidden and cell states as zeros\n",
    "        return (torch.zeros(1, 1, self.hidden_size, device=device),  # Hidden state\n",
    "                torch.zeros(1, 1, self.hidden_size, device=device))  # Cell state"
   ]
  },
  {
   "cell_type": "code",
   "execution_count": 118,
   "id": "d50d69f0-16fb-40b1-a928-8876cf746f68",
   "metadata": {
    "execution": {
     "iopub.execute_input": "2025-01-22T12:39:26.538331Z",
     "iopub.status.busy": "2025-01-22T12:39:26.538038Z",
     "iopub.status.idle": "2025-01-22T12:39:26.543121Z",
     "shell.execute_reply": "2025-01-22T12:39:26.542084Z",
     "shell.execute_reply.started": "2025-01-22T12:39:26.538309Z"
    }
   },
   "outputs": [],
   "source": [
    "def train_helper(line_tensor, category_tensor, mdl):\n",
    "    hidden = mdl.init_hidden()\n",
    "    for i in range(line_tensor.size()[0]):\n",
    "        output, hidden = mdl(line_tensor[i], hidden)\n",
    "    loss = criterion(output, category_tensor)\n",
    "    \n",
    "    optimizer.zero_grad()\n",
    "    loss.backward()\n",
    "    optimizer.step()\n",
    "    return output, loss.item()"
   ]
  },
  {
   "cell_type": "code",
   "execution_count": 119,
   "id": "f52ac372-7049-49a7-bc3d-d7f5bd81cfd3",
   "metadata": {
    "execution": {
     "iopub.execute_input": "2025-01-22T12:39:26.928497Z",
     "iopub.status.busy": "2025-01-22T12:39:26.928160Z",
     "iopub.status.idle": "2025-01-22T12:39:26.932519Z",
     "shell.execute_reply": "2025-01-22T12:39:26.931716Z",
     "shell.execute_reply.started": "2025-01-22T12:39:26.928468Z"
    }
   },
   "outputs": [],
   "source": [
    "num_of_letters = len(ALL_LETTERS)"
   ]
  },
  {
   "cell_type": "code",
   "execution_count": 120,
   "id": "fb081f7f-edd9-49a9-acad-acc15d92774e",
   "metadata": {
    "execution": {
     "iopub.execute_input": "2025-01-22T12:39:31.370354Z",
     "iopub.status.busy": "2025-01-22T12:39:31.370033Z",
     "iopub.status.idle": "2025-01-22T12:39:31.374899Z",
     "shell.execute_reply": "2025-01-22T12:39:31.373819Z",
     "shell.execute_reply.started": "2025-01-22T12:39:31.370325Z"
    }
   },
   "outputs": [],
   "source": [
    "criterion = nn.CrossEntropyLoss()\n",
    "learning_rate = 0.001\n",
    "num_epochs=10"
   ]
  },
  {
   "cell_type": "code",
   "execution_count": 121,
   "id": "eb02378d-3c74-4149-812b-22a46b7c4f68",
   "metadata": {
    "execution": {
     "iopub.execute_input": "2025-01-22T12:39:31.519233Z",
     "iopub.status.busy": "2025-01-22T12:39:31.518922Z",
     "iopub.status.idle": "2025-01-22T12:39:31.527413Z",
     "shell.execute_reply": "2025-01-22T12:39:31.526372Z",
     "shell.execute_reply.started": "2025-01-22T12:39:31.519209Z"
    }
   },
   "outputs": [],
   "source": [
    "mdl = LSTM(num_of_letters, 100, n_categories).to(device)\n",
    "optimizer = torch.optim.Adam(mdl.parameters(), lr=learning_rate)"
   ]
  },
  {
   "cell_type": "code",
   "execution_count": 122,
   "id": "d2b536eb-e528-40ef-b691-5390d4392c00",
   "metadata": {
    "execution": {
     "iopub.execute_input": "2025-01-22T12:39:31.670942Z",
     "iopub.status.busy": "2025-01-22T12:39:31.670569Z",
     "iopub.status.idle": "2025-01-22T12:39:31.676946Z",
     "shell.execute_reply": "2025-01-22T12:39:31.676008Z",
     "shell.execute_reply.started": "2025-01-22T12:39:31.670910Z"
    }
   },
   "outputs": [],
   "source": [
    "def train(mdl):\n",
    "    counter = 0\n",
    "    losses = []\n",
    "    num_correct = 0\n",
    "    num_wrong = 0\n",
    "\n",
    "    for i in range(num_epochs):\n",
    "        for name, language in dl:\n",
    "            language = language[0]\n",
    "            name = name[0]\n",
    "            category_tensor = torch.tensor([all_categories.index(language)], dtype=torch.long).to(device)\n",
    "            line_tensor = line_to_tensor(name).to(device)\n",
    "\n",
    "            output, loss = train_helper(line_tensor, category_tensor, mdl)\n",
    "            # current_loss += loss \n",
    "            counter +=1\n",
    "            if counter % 1000 == 0:\n",
    "                guess = category_from_output(output)\n",
    "                correct_or_wrong = f\"CORRECT {name, language}\" if guess == language else f\"WRONG ({language})\"\n",
    "                print(correct_or_wrong)\n",
    "                if guess == language:\n",
    "                    num_correct +=1\n",
    "                else:\n",
    "                    num_wrong+=1    \n",
    "        print('loss is', loss)\n",
    "    return num_correct, num_wrong"
   ]
  },
  {
   "cell_type": "code",
   "execution_count": 133,
   "id": "51d24542-e3a6-4936-b84b-e77aab59fd82",
   "metadata": {
    "execution": {
     "iopub.execute_input": "2025-01-22T12:47:05.041059Z",
     "iopub.status.busy": "2025-01-22T12:47:05.040622Z",
     "iopub.status.idle": "2025-01-22T12:52:10.564042Z",
     "shell.execute_reply": "2025-01-22T12:52:10.562899Z",
     "shell.execute_reply.started": "2025-01-22T12:47:05.041029Z"
    }
   },
   "outputs": [
    {
     "name": "stdout",
     "output_type": "stream",
     "text": [
      "CORRECT ('Pietri', 'Italian')\n",
      "WRONG (Korean)\n",
      "CORRECT ('Otomo', 'Japanese')\n",
      "CORRECT ('Teunissen', 'Dutch')\n",
      "loss is 0.003699840744957328\n",
      "CORRECT ('Zangari', 'Italian')\n",
      "CORRECT ('Novotny', 'Czech')\n",
      "CORRECT ('Wirth', 'German')\n",
      "CORRECT ('Amadori', 'Italian')\n",
      "CORRECT ('De la cruz', 'Spanish')\n",
      "loss is 0.38489726185798645\n",
      "CORRECT ('Kerner', 'German')\n",
      "CORRECT ('Luc', 'Vietnamese')\n",
      "CORRECT ('Qing', 'Chinese')\n",
      "CORRECT ('Schlusser', 'German')\n",
      "WRONG (Dutch)\n",
      "loss is 0.02932055853307247\n",
      "CORRECT ('Jones', 'Scottish')\n",
      "CORRECT ('Tomasek', 'Czech')\n",
      "CORRECT ('Egami', 'Japanese')\n",
      "CORRECT ('Sarti', 'Italian')\n",
      "CORRECT ('Paquet', 'French')\n",
      "loss is 0.07192995399236679\n",
      "CORRECT ('Atshushi', 'Japanese')\n",
      "CORRECT ('Gim', 'Chinese')\n",
      "CORRECT ('Schultze', 'German')\n",
      "CORRECT ('Schuchard', 'German')\n",
      "CORRECT ('Kalbfleisch', 'German')\n",
      "loss is 2.95634672511369e-05\n",
      "CORRECT ('Phi', 'Vietnamese')\n",
      "CORRECT ('Noel', 'French')\n",
      "CORRECT ('Merta', 'Czech')\n",
      "CORRECT ('Okazawaya', 'Japanese')\n",
      "CORRECT ('Vlach', 'Czech')\n",
      "loss is 0.059752918779850006\n",
      "CORRECT ('Messerli', 'German')\n",
      "CORRECT ('Voneve', 'Czech')\n",
      "CORRECT ('Isayama', 'Japanese')\n",
      "CORRECT ('Herrero', 'Spanish')\n",
      "CORRECT ('Taku', 'Japanese')\n",
      "loss is 0.09911926090717316\n",
      "WRONG (Czech)\n",
      "CORRECT ('Goretti', 'Italian')\n",
      "CORRECT ('Zhu', 'Chinese')\n",
      "CORRECT ('Perrault', 'French')\n",
      "WRONG (Spanish)\n",
      "loss is 1.3280696868896484\n",
      "CORRECT ('Turati', 'Italian')\n",
      "CORRECT ('Fukuyama', 'Japanese')\n",
      "CORRECT ('Alagona', 'Italian')\n",
      "CORRECT ('Yamanouchi', 'Japanese')\n",
      "CORRECT ('Shigeki', 'Japanese')\n",
      "loss is 0.020810354501008987\n",
      "CORRECT ('Williamson', 'Scottish')\n",
      "CORRECT ('Reuter', 'German')\n",
      "CORRECT ('Sarto', 'Italian')\n",
      "CORRECT ('Schröder', 'German')\n",
      "CORRECT ('Agosti', 'Italian')\n",
      "loss is 0.22616499662399292\n",
      "CPU times: user 4min 59s, sys: 2.11 s, total: 5min 1s\n",
      "Wall time: 5min 5s\n"
     ]
    },
    {
     "data": {
      "text/plain": [
       "0.9183673469387755"
      ]
     },
     "execution_count": 133,
     "metadata": {},
     "output_type": "execute_result"
    }
   ],
   "source": [
    "%%time\n",
    "num_correct, num_wrong = train(mdl)\n",
    "num_correct / (num_correct + num_wrong)"
   ]
  },
  {
   "cell_type": "code",
   "execution_count": 127,
   "id": "c3713071-2b58-4d89-a488-c7322d82e2e3",
   "metadata": {
    "execution": {
     "iopub.execute_input": "2025-01-22T12:46:30.435086Z",
     "iopub.status.busy": "2025-01-22T12:46:30.434723Z",
     "iopub.status.idle": "2025-01-22T12:46:30.439882Z",
     "shell.execute_reply": "2025-01-22T12:46:30.439035Z",
     "shell.execute_reply.started": "2025-01-22T12:46:30.435056Z"
    }
   },
   "outputs": [],
   "source": [
    "def predict(input_line, verbose=False):\n",
    "    with torch.no_grad():\n",
    "        line_tensor = line_to_tensor(input_line).to(device)\n",
    "        \n",
    "        hidden = mdl.init_hidden()\n",
    "    \n",
    "        for i in range(line_tensor.size()[0]):\n",
    "            output, hidden = mdl(line_tensor[i], hidden)\n",
    "        \n",
    "        guess = category_from_output(output)\n",
    "        if verbose is True:\n",
    "            print(guess)\n",
    "        return guess"
   ]
  },
  {
   "cell_type": "code",
   "execution_count": 128,
   "id": "cba00282",
   "metadata": {
    "execution": {
     "iopub.execute_input": "2025-01-22T12:46:32.024157Z",
     "iopub.status.busy": "2025-01-22T12:46:32.023860Z",
     "iopub.status.idle": "2025-01-22T12:46:32.033771Z",
     "shell.execute_reply": "2025-01-22T12:46:32.032971Z",
     "shell.execute_reply.started": "2025-01-22T12:46:32.024134Z"
    }
   },
   "outputs": [
    {
     "name": "stdout",
     "output_type": "stream",
     "text": [
      "Polish\n"
     ]
    },
    {
     "data": {
      "text/plain": [
       "'Polish'"
      ]
     },
     "execution_count": 128,
     "metadata": {},
     "output_type": "execute_result"
    }
   ],
   "source": [
    "predict('Jaskulski', True)"
   ]
  },
  {
   "cell_type": "code",
   "execution_count": 129,
   "id": "cc46f558-5155-4abe-8dd6-81ef3acc1a76",
   "metadata": {
    "execution": {
     "iopub.execute_input": "2025-01-22T12:46:34.258631Z",
     "iopub.status.busy": "2025-01-22T12:46:34.258303Z",
     "iopub.status.idle": "2025-01-22T12:46:34.278433Z",
     "shell.execute_reply": "2025-01-22T12:46:34.277558Z",
     "shell.execute_reply.started": "2025-01-22T12:46:34.258605Z"
    }
   },
   "outputs": [],
   "source": [
    "arabic_names = [\n",
    "    \"Khoury\", \"Nahas\", \"Daher\", \"Gerges\", \"Nazari\", \"Maalouf\", \"Gerges\", \"Naifeh\", \"Guirguis\", \n",
    "    \"Baba\", \"Sabbagh\", \"Attia\", \"Tahan\", \"Haddad\", \"Aswad\", \"Najjar\", \"Dagher\", \"Maloof\", \"Isa\", \n",
    "    \"Asghar\", \"Nader\", \"Gaber\", \"Abboud\", \"Maalouf\", \"Zogby\", \"Srour\", \"Bahar\", \"Mustafa\", \n",
    "    \"Hanania\", \"Daher\", \"Tuma\", \"Nahas\", \"Saliba\", \"Shamoon\", \"Handal\", \"Baba\", \"Amari\", \"Bahar\", \n",
    "    \"Atiyeh\", \"Said\", \"Khouri\", \"Tahan\", \"Baba\", \"Mustafa\", \"Guirguis\", \"Sleiman\", \"Seif\", \"Dagher\", \n",
    "    \"Bahar\", \"Gaber\", \"Harb\", \"Seif\", \"Asker\", \"Nader\", \"Antar\", \"Awad\", \"Srour\", \"Shadid\", \"Hajjar\", \n",
    "    \"Hanania\", \"Kalb\", \"Shadid\", \"Bazzi\", \"Mustafa\", \"Masih\", \"Ghanem\", \"Haddad\", \"Isa\", \"Antoun\", \n",
    "    \"Sarraf\", \"Sleiman\", \"Dagher\", \"Najjar\", \"Malouf\", \"Nahas\", \"Naser\", \"Saliba\", \"Shamon\", \"Malouf\", \n",
    "    \"Kalb\", \"Daher\", \"Maalouf\", \"Wasem\", \"Kanaan\", \"Naifeh\", \"Boutros\", \"Moghadam\", \"Masih\", \"Sleiman\", \n",
    "    \"Aswad\", \"Cham\", \"Assaf\", \"Quraishi\", \"Shalhoub\", \"Sabbag\", \"Mifsud\", \"Gaber\", \"Shammas\", \"Tannous\", \n",
    "    \"Sleiman\", \"Bazzi\", \"Quraishi\", \"Rahal\", \"Cham\", \"Ghanem\", \"Ghanem\", \"Naser\", \"Baba\", \"Shamon\", \n",
    "    \"Almasi\", \"Basara\", \"Quraishi\", \"Bata\", \"Wasem\", \"Shamoun\", \"Deeb\", \"Touma\", \"Asfour\", \"Deeb\", \n",
    "    \"Hadad\", \"Naifeh\", \"Touma\", \"Bazzi\", \"Shamoun\", \"Nahas\", \"Haddad\", \"Arian\", \"Kouri\", \"Deeb\", \n",
    "    \"Toma\", \"Halabi\", \"Nazari\", \"Saliba\", \"Fakhoury\", \"Hadad\", \"Baba\", \"Mansour\", \"Sayegh\", \"Antar\", \n",
    "    \"Deeb\", \"Morcos\", \"Shalhoub\", \"Sarraf\", \"Amari\", \"Wasem\", \"Ganim\", \"Tuma\", \"Fakhoury\", \"Hadad\", \n",
    "    \"Hakimi\", \"Nader\", \"Said\", \"Ganim\", \"Daher\", \"Ganem\", \"Tuma\", \"Boutros\", \"Aswad\", \"Sarkis\", \"Daher\", \n",
    "    \"Toma\", \"Boutros\", \"Kanaan\", \"Antar\", \"Gerges\", \"Kouri\", \"Maroun\", \"Wasem\", \"Dagher\", \"Naifeh\", \n",
    "    \"Bishara\", \"Ba\", \"Cham\", \"Kalb\", \"Bazzi\", \"Bitar\", \"Hadad\", \"Moghadam\", \"Sleiman\", \"Shamoun\", \n",
    "    \"Antar\", \"Atiyeh\", \"Koury\", \"Nahas\", \"Kouri\", \"Maroun\", \"Nassar\", \"Sayegh\", \"Haik\", \"Ghanem\", \n",
    "    \"Sayegh\", \"Salib\", \"Cham\", \"Bata\", \"Touma\", \"Antoun\", \"Antar\", \"Bata\", \"Botros\", \"Shammas\", \"Ganim\", \n",
    "    \"Sleiman\", \"Seif\", \"Moghadam\", \"Ba\", \"Tannous\", \"Bazzi\", \"Seif\", \"Salib\", \"Hadad\", \"Quraishi\", \n",
    "    \"Halabi\", \"Essa\", \"Bahar\", \"Kattan\", \"Boutros\", \"Nahas\", \"Sabbagh\", \"Kanaan\", \"Sayegh\", \"Said\", \n",
    "    \"Botros\", \"Najjar\", \"Toma\", \"Bata\", \"Atiyeh\", \"Halabi\", \"Tannous\", \"Kouri\", \"Shamoon\", \"Kassis\", \n",
    "    \"Haddad\", \"Tuma\", \"Mansour\", \"Antar\", \"Kassis\", \"Kalb\", \"Basara\", \"Rahal\", \"Mansour\", \"Handal\", \n",
    "    \"Morcos\", \"Fakhoury\", \"Hadad\", \"Morcos\", \"Kouri\", \"Quraishi\", \"Almasi\", \"Awad\", \"Naifeh\", \"Koury\", \n",
    "    \"Asker\", \"Maroun\", \"Fakhoury\", \"Sabbag\", \"Sarraf\", \"Shamon\", \"Assaf\", \"Boutros\", \"Malouf\", \"Nassar\", \n",
    "    \"Qureshi\", \"Ghanem\", \"Srour\", \"Almasi\", \"Qureshi\", \"Ghannam\", \"Mustafa\", \"Najjar\", \"Kassab\", \"Shadid\", \n",
    "    \"Shamoon\", \"Morcos\", \"Atiyeh\", \"Isa\", \"Ba\", \"Baz\", \"Asker\", \"Seif\", \"Asghar\", \"Hajjar\", \"Deeb\", \n",
    "    \"Essa\", \"Qureshi\", \"Abboud\", \"Ganem\", \"Haddad\", \"Koury\", \"Nassar\", \"Abadi\", \"Toma\", \"Tannous\", \n",
    "    \"Harb\", \"Issa\", \"Khouri\", \"Mifsud\", \"Kalb\", \"Gaber\", \"Ganim\", \"Boulos\", \"Samaha\", \"Haddad\", \n",
    "    \"Sabbag\", \"Wasem\", \"Dagher\", \"Rahal\", \"Atiyeh\", \"Antar\", \"Asghar\", \"Mansour\", \"Awad\", \"Boulos\", \n",
    "    \"Sarraf\", \"Deeb\", \"Abadi\", \"Nazari\", \"Daher\", \"Gerges\", \"Shamoon\", \"Gaber\", \"Amari\", \"Sarraf\", \n",
    "    \"Nazari\", \"Saliba\", \"Naifeh\", \"Nazari\", \"Hakimi\", \"Shamon\", \"Abboud\", \"Quraishi\", \"Tahan\", \"Safar\", \n",
    "    \"Hajjar\", \"Srour\", \"Gaber\", \"Shalhoub\", \"Attia\", \"Safar\", \"Said\", \"Ganem\", \"Nader\", \"Asghar\", \n",
    "    \"Mustafa\", \"Said\", \"Antar\", \"Botros\", \"Nader\", \"Ghannam\", \"Asfour\", \"Tahan\", \"Mansour\", \"Attia\", \n",
    "    \"Touma\", \"Najjar\", \"Kassis\", \"Abboud\", \"Bishara\", \"Bazzi\", \"Shalhoub\", \"Shalhoub\", \"Safar\", \"Khoury\", \n",
    "    \"Nazari\", \"Sabbag\", \"Sleiman\", \"Atiyeh\", \"Kouri\", \"Bitar\", \"Zogby\", \"Ghanem\", \"Assaf\", \"Abadi\", \n",
    "    \"Arian\", \"Shalhoub\", \"Khoury\", \"Morcos\", \"Shamon\", \"Wasem\", \"Abadi\", \"Antoun\", \"Baz\", \"Naser\", \n",
    "    \"Assaf\", \"Saliba\", \"Nader\", \"Mikhail\", \"Naser\", \"Daher\", \"Morcos\", \"Awad\", \"Nahas\", \"Sarkis\", \n",
    "    \"Malouf\", \"Mustafa\", \"Fakhoury\", \"Ghannam\", \"Shadid\", \"Gaber\", \"Koury\", \"Atiyeh\", \"Shamon\", \"Boutros\", \n",
    "    \"Sarraf\", \"Arian\", \"Fakhoury\", \"Abadi\", \"Kassab\", \"Nahas\", \"Quraishi\", \"Mansour\", \"Samaha\", \"Wasem\", \n",
    "    \"Seif\", \"Fakhoury\", \"Saliba\", \"Cham\", \"Bahar\", \"Shamoun\", \"Essa\", \"Shamon\", \"Asfour\", \"Bitar\", \n",
    "    \"Cham\", \"Tahan\", \"Tannous\", \"Daher\", \"Khoury\", \"Shamon\", \"Bahar\", \"Quraishi\", \"Ghannam\", \"Kassab\", \n",
    "    \"Zogby\", \"Basara\", \"Shammas\", \"Arian\", \"Sayegh\", \"Naifeh\", \"Mifsud\", \"Sleiman\", \"Arian\", \"Kassis\", \n",
    "    \"Shamoun\", \"Kassis\", \"Harb\", \"Mustafa\", \"Boulos\", \"Asghar\", \"Shamon\", \"Kanaan\", \"Atiyeh\", \"Kassab\", \n",
    "    \"Tahan\", \"Bazzi\", \"Kassis\", \"Qureshi\", \"Basara\", \"Shalhoub\", \"Sayegh\", \"Haik\", \"Attia\", \"Maroun\", \n",
    "    \"Kassis\", \"Sarkis\", \"Harb\", \"Assaf\", \"Kattan\", \"Antar\", \"Sleiman\", \"Touma\", \"Sarraf\", \"Bazzi\", \n",
    "    \"Boulos\", \"Baz\", \"Issa\", \"Shamon\", \"Shadid\", \"Deeb\", \"Sabbag\", \"Wasem\", \"Awad\", \"Mansour\", \"Saliba\", \n",
    "    \"Fakhoury\", \"Arian\", \"Bishara\", \"Dagher\", \"Bishara\", \"Koury\", \"Fakhoury\", \"Naser\", \"Nader\", \"Antar\", \n",
    "    \"Gerges\", \"Handal\", \"Hanania\", \"Shadid\", \"Gerges\", \"Kassis\", \"Essa\", \"Assaf\", \"Shadid\", \"Seif\", \n",
    "    \"Shalhoub\", \"Shamoun\", \"Hajjar\", \"Baba\", \"Sayegh\", \"Mustafa\", \"Sabbagh\", \"Isa\", \"Najjar\", \"Tannous\", \n",
    "    \"Hanania\", \"Ganem\", \"Gerges\", \"Fakhoury\", \"Mifsud\", \"Nahas\", \"Bishara\", \"Bishara\", \"Abadi\", \"Sarkis\", \n",
    "    \"Masih\", \"Isa\", \"Attia\", \"Kalb\", \"Essa\", \"Boulos\", \"Basara\", \"Halabi\", \"Halabi\", \"Dagher\", \"Attia\", \n",
    "    \"Kassis\", \"Tuma\", \"Gerges\", \"Ghannam\", \"Toma\", \"Baz\", \"Asghar\", \"Zogby\", \"Aswad\", \"Hadad\", \"Dagher\", \n",
    "    \"Naser\", \"Shadid\", \"Atiyeh\", \"Zogby\", \"Abboud\", \"Tannous\", \"Khouri\", \"Atiyeh\", \"Ganem\", \"Maalouf\", \n",
    "    \"Isa\", \"Maroun\", \"Issa\", \"Khouri\", \"Harb\", \"Nader\", \"Awad\", \"Nahas\", \"Said\", \"Baba\", \"Totah\", \"Ganim\", \n",
    "    \"Handal\", \"Mansour\", \"Basara\", \"Malouf\", \"Said\", \"Botros\", \"Samaha\", \"Safar\", \"Tahan\", \"Botros\", \n",
    "    \"Shamoun\", \"Handal\", \"Sarraf\", \"Malouf\", \"Bishara\", \"Aswad\", \"Khouri\", \"Baz\", \"Asker\", \"Toma\", \n",
    "    \"Koury\", \"Gerges\", \"Bishara\", \"Boulos\", \"Najjar\", \"Aswad\", \"Shamon\", \"Kouri\", \"Srour\", \"Assaf\", \n",
    "    \"Tannous\", \"Attia\", \"Mustafa\", \"Kattan\", \"Asghar\", \"Amari\", \"Shadid\", \"Said\", \"Bazzi\", \"Masih\", \n",
    "    \"Antar\", \"Fakhoury\", \"Shadid\", \"Masih\", \"Handal\", \"Sarraf\", \"Kassis\", \"Salib\", \"Hajjar\", \"Totah\", \n",
    "    \"Koury\", \"Totah\", \"Mustafa\", \"Sabbagh\", \"Moghadam\", \"Toma\", \"Srour\", \"Almasi\", \"Totah\", \"Maroun\", \n",
    "    \"Kattan\", \"Naifeh\", \"Sarkis\", \"Mikhail\", \"Nazari\", \"Boutros\", \"Guirguis\", \"Gaber\", \"Kassis\", \"Masih\", \n",
    "    \"Hanania\", \"Maloof\", \"Quraishi\", \"Cham\", \"Hadad\", \"Tahan\", \"Bitar\", \"Arian\", \"Gaber\", \"Baz\", \n",
    "    \"Mansour\", \"Kalb\", \"Sarkis\", \"Attia\", \"Antar\", \"Asfour\", \"Said\", \"Essa\", \"Koury\", \"Hadad\", \"Tuma\", \n",
    "    \"Moghadam\", \"Sabbagh\", \"Amari\", \"Dagher\", \"Srour\", \"Antoun\", \"Sleiman\", \"Maroun\", \"Tuma\", \"Nahas\", \n",
    "    \"Hanania\", \"Sayegh\", \"Amari\", \"Sabbagh\", \"Said\", \"Cham\", \"Asker\", \"Nassar\", \"Bitar\", \"Said\", \"Dagher\", \n",
    "    \"Safar\", \"Khouri\", \"Totah\", \"Khoury\", \"Salib\", \"Basara\", \"Abboud\", \"Baz\", \"Isa\", \"Cham\", \"Amari\", \n",
    "    \"Mifsud\", \"Hadad\", \"Rahal\", \"Khoury\", \"Bazzi\", \"Basara\", \"Totah\", \"Ghannam\", \"Koury\", \"Malouf\", \n",
    "    \"Zogby\", \"Zogby\", \"Boutros\", \"Nassar\", \"Handal\", \"Hajjar\", \"Maloof\", \"Abadi\", \"Maroun\", \"Mifsud\", \n",
    "    \"Kalb\", \"Amari\", \"Hakimi\", \"Boutros\", \"Masih\", \"Kattan\", \"Haddad\", \"Arian\", \"Nazari\", \"Assaf\", \n",
    "    \"Attia\", \"Wasem\", \"Gerges\", \"Asker\", \"Tahan\", \"Fakhoury\", \"Shadid\", \"Sarraf\", \"Attia\", \"Naifeh\", \n",
    "    \"Aswad\", \"Deeb\", \"Tannous\", \"Totah\", \"Cham\", \"Baba\", \"Najjar\", \"Hajjar\", \"Shamoon\", \"Handal\", \n",
    "    \"Awad\", \"Guirguis\", \"Awad\", \"Ganem\", \"Naifeh\", \"Khoury\", \"Hajjar\", \"Moghadam\", \"Mikhail\", \"Ghannam\", \n",
    "    \"Guirguis\", \"Tannous\", \"Kanaan\", \"Handal\", \"Khoury\", \"Kalb\", \"Qureshi\", \"Najjar\", \"Atiyeh\", \"Gerges\", \n",
    "    \"Nassar\", \"Tahan\", \"Hadad\", \"Fakhoury\", \"Salib\", \"Wasem\", \"Bitar\", \"Fakhoury\", \"Attia\", \"Awad\", \n",
    "    \"Totah\", \"Deeb\", \"Touma\", \"Botros\", \"Nazari\", \"Nahas\", \"Kouri\", \"Ghannam\", \"Assaf\", \"Asfour\", \n",
    "    \"Sarraf\", \"Naifeh\", \"Toma\", \"Asghar\", \"Abboud\", \"Issa\", \"Sabbag\", \"Sabbagh\", \"Isa\", \"Koury\", \n",
    "    \"Kattan\", \"Shamoon\", \"Rahal\", \"Kalb\", \"Naser\", \"Masih\", \"Sayegh\", \"Dagher\", \"Asker\", \"Maroun\", \n",
    "    \"Dagher\", \"Sleiman\", \"Botros\", \"Sleiman\", \"Harb\", \"Tahan\", \"Tuma\", \"Said\", \"Hadad\", \"Samaha\", \n",
    "    \"Harb\", \"Cham\", \"Atiyeh\", \"Haik\", \"Malouf\", \"Bazzi\", \"Harb\", \"Malouf\", \"Ghanem\", \"Cham\", \"Asghar\", \n",
    "    \"Samaha\", \"Khouri\", \"Nassar\", \"Rahal\", \"Baz\", \"Kalb\", \"Rahal\", \"Gerges\", \"Cham\", \"Sayegh\", \n",
    "    \"Shadid\", \"Morcos\", \"Shamoon\", \"Hakimi\", \"Shamoon\", \"Qureshi\", \"Ganim\", \"Shadid\", \"Khoury\", \n",
    "    \"Boutros\", \"Hanania\", \"Antoun\", \"Naifeh\", \"Deeb\", \"Samaha\", \"Awad\", \"Asghar\", \"Awad\", \"Saliba\", \n",
    "    \"Shamoun\", \"Mikhail\", \"Hakimi\", \"Mikhail\", \"Cham\", \"Halabi\", \"Sarkis\", \"Kattan\", \"Nazari\", \n",
    "    \"Safar\", \"Morcos\", \"Khoury\", \"Essa\", \"Nassar\", \"Haik\", \"Shadid\", \"Fakhoury\", \"Najjar\", \"Arian\", \n",
    "    \"Botros\", \"Daher\"\n",
    "]\n"
   ]
  },
  {
   "cell_type": "code",
   "execution_count": 130,
   "id": "3137854b-076e-47a7-aa89-d880b7a8ed47",
   "metadata": {
    "execution": {
     "iopub.execute_input": "2025-01-22T12:46:34.378224Z",
     "iopub.status.busy": "2025-01-22T12:46:34.377924Z",
     "iopub.status.idle": "2025-01-22T12:46:34.386971Z",
     "shell.execute_reply": "2025-01-22T12:46:34.386110Z",
     "shell.execute_reply.started": "2025-01-22T12:46:34.378184Z"
    }
   },
   "outputs": [],
   "source": [
    "french_names = [\n",
    "    \"Abel\", \"Abraham\", \"Adam\", \"Albert\", \"Allard\", \"Archambault\", \"Armistead\", \"Arthur\", \"Augustin\", \n",
    "    \"Babineaux\", \"Baudin\", \"Beauchene\", \"Beaulieu\", \"Beaumont\", \"Bélanger\", \"Bellamy\", \"Bellerose\", \n",
    "    \"Belrose\", \"Berger\", \"Béringer\", \"Bernard\", \"Bertrand\", \"Bisset\", \"Bissette\", \"Blaise\", \"Blanc\", \n",
    "    \"Blanchet\", \"Blanchett\", \"Bonfils\", \"Bonheur\", \"Bonhomme\", \"Bonnaire\", \"Bonnay\", \"Bonner\", \n",
    "    \"Bonnet\", \"Borde\", \"Bordelon\", \"Bouchard\", \"Boucher\", \"Brisbois\", \"Brodeur\", \"Bureau\", \"Caron\", \n",
    "    \"Cavey\", \"Chaput\", \"Charbonneau\", \"Charpentier\", \"Charron\", \"Chastain\", \"Chevalier\", \"Chevrolet\", \n",
    "    \"Cloutier\", \"Colbert\", \"Comtois\", \"Cornett\", \"Coté\", \"Coupe\", \"Courtemanche\", \"Cousineau\", \n",
    "    \"Couture\", \"Daniau\", \"D'aramitz\", \"Daviau\", \"David\", \"Deforest\", \"Degarmo\", \"Delacroix\", \n",
    "    \"De la fontaine\", \"Deniau\", \"Deniaud\", \"Deniel\", \"Denis\", \"De sauveterre\", \"Deschamps\", \n",
    "    \"Descoteaux\", \"Desjardins\", \"Desrochers\", \"Desrosiers\", \"Dubois\", \"Duchamps\", \"Dufort\", \"Dufour\", \n",
    "    \"Duguay\", \"Dupond\", \"Dupont\", \"Durand\", \"Durant\", \"Duval\", \"Émile\", \"Eustis\", \"Fabian\", \"Fabre\", \n",
    "    \"Fabron\", \"Faucher\", \"Faucheux\", \"Faure\", \"Favager\", \"Favre\", \"Favreau\", \"Fay\", \"Félix\", \"Firmin\", \n",
    "    \"Fontaine\", \"Forest\", \"Forestier\", \"Fortier\", \"Foss\", \"Fournier\", \"Gage\", \"Gagne\", \"Gagnier\", \n",
    "    \"Gagnon\", \"Garcon\", \"Gardinier\", \"Germain\", \"Géroux\", \"Giles\", \"Girard\", \"Giroux\", \"Glaisyer\", \n",
    "    \"Gosse\", \"Gosselin\", \"Granger\", \"Guérin\", \"Guillory\", \"Hardy\", \"Harman\", \"Hébert\", \"Herbert\", \n",
    "    \"Herriot\", \"Jacques\", \"Janvier\", \"Jordan\", \"Joubert\", \"Labelle\", \"Lachance\", \"Lachapelle\", \n",
    "    \"Lamar\", \"Lambert\", \"Lane\", \"Langlais\", \"Langlois\", \"Lapointe\", \"Larue\", \"Laurent\", \"Lavigne\", \n",
    "    \"Lavoie\", \"Leandres\", \"Lebeau\", \"Leblanc\", \"Leclair\", \"Leclerc\", \"Lécuyer\", \"Lefebvre\", \n",
    "    \"Lefévre\", \"Lefurgey\", \"Legrand\", \"Lemaire\", \"Lémieux\", \"Leon\", \"Leroy\", \"Lesauvage\", \n",
    "    \"Lestrange\", \"Lévêque\", \"Lévesque\", \"Linville\", \"Lyon\", \"Lyon\", \"Maçon\", \"Marchand\", \"Marie\", \n",
    "    \"Marion\", \"Martel\", \"Martel\", \"Martin\", \"Masson\", \"Masson\", \"Mathieu\", \"Mercier\", \"Merle\", \n",
    "    \"Michaud\", \"Michel\", \"Monet\", \"Monette\", \"Montagne\", \"Moreau\", \"Moulin\", \"Mullins\", \"Noel\", \n",
    "    \"Oliver\", \"Olivier\", \"Page\", \"Paget\", \"Palomer\", \"Pan\", \"Pape\", \"Paquet\", \"Paquet\", \"Parent\", \n",
    "    \"Paris\", \"Parris\", \"Pascal\", \"Patenaude\", \"Paternoster\", \"Paul\", \"Pelletier\", \"Perrault\", \n",
    "    \"Perreault\", \"Perrot\", \"Petit\", \"Pettigrew\", \"Pierre\", \"Plamondon\", \"Plourde\", \"Poingdestre\", \n",
    "    \"Poirier\", \"Porcher\", \"Poulin\", \"Proulx\", \"Renaud\", \"Rey\", \"Reyer\", \"Richard\", \"Richelieu\", \n",
    "    \"Robert\", \"Roche\", \"Rome\", \"Romilly\", \"Rose\", \"Rousseau\", \"Roux\", \"Roy\", \"Royer\", \"Salomon\", \n",
    "    \"Salvage\", \"Samson\", \"Samuel\", \"Sargent\", \"Sarkozi\", \"Sarkozy\", \"Sartre\", \"Sault\", \"Sauvage\", \n",
    "    \"Sauvageau\", \"Sauvageon\", \"Sauvageot\", \"Sauveterre\", \"Savatier\", \"Segal\", \"Sergeant\", \n",
    "    \"Séverin\", \"Simon\", \"Solomon\", \"Soucy\", \"St martin\", \"St pierre\", \"Tailler\", \"Tasse\", \n",
    "    \"Thayer\", \"Thibault\", \"Thomas\", \"Tobias\", \"Tolbert\", \"Traver\", \"Travere\", \"Travers\", \"Traverse\", \n",
    "    \"Travert\", \"Tremblay\", \"Tremble\", \"Victor\", \"Victors\", \"Villeneuve\", \"Vincent\", \"Vipond\", \n",
    "    \"Voclain\", \"Yount\"\n",
    "]\n"
   ]
  },
  {
   "cell_type": "code",
   "execution_count": 131,
   "id": "fcec9bd1-b589-477e-b968-378ccdd2f389",
   "metadata": {
    "execution": {
     "iopub.execute_input": "2025-01-22T12:46:37.853378Z",
     "iopub.status.busy": "2025-01-22T12:46:37.853077Z",
     "iopub.status.idle": "2025-01-22T12:46:39.015032Z",
     "shell.execute_reply": "2025-01-22T12:46:39.014125Z",
     "shell.execute_reply.started": "2025-01-22T12:46:37.853353Z"
    }
   },
   "outputs": [
    {
     "name": "stdout",
     "output_type": "stream",
     "text": [
      "0.0\n"
     ]
    }
   ],
   "source": [
    "true = 0\n",
    "wrong = 0\n",
    "for name in arabic_names:\n",
    "    res = predict(name)\n",
    "    if res == 'Arabic':\n",
    "        true +=1\n",
    "    else:\n",
    "        wrong +=1\n",
    "        \n",
    "print((true / (true+wrong)))"
   ]
  },
  {
   "cell_type": "code",
   "execution_count": 132,
   "id": "de7a7d2c-f7f1-4d7e-8ddf-55b36519fa4d",
   "metadata": {
    "execution": {
     "iopub.execute_input": "2025-01-22T12:46:40.672567Z",
     "iopub.status.busy": "2025-01-22T12:46:40.672211Z",
     "iopub.status.idle": "2025-01-22T12:46:41.114245Z",
     "shell.execute_reply": "2025-01-22T12:46:41.113260Z",
     "shell.execute_reply.started": "2025-01-22T12:46:40.672537Z"
    }
   },
   "outputs": [
    {
     "name": "stdout",
     "output_type": "stream",
     "text": [
      "0.8916967509025271\n"
     ]
    }
   ],
   "source": [
    "true = 0\n",
    "wrong = 0\n",
    "for name in french_names:\n",
    "    res = predict(name)\n",
    "    if res == 'French':\n",
    "        true +=1\n",
    "    else:\n",
    "        wrong +=1\n",
    "        \n",
    "print((true / (true+wrong)))"
   ]
  },
  {
   "cell_type": "code",
   "execution_count": 135,
   "id": "abd2f970-af1b-4fd2-a4e4-6eb5f4d1bfa2",
   "metadata": {
    "execution": {
     "iopub.execute_input": "2025-01-22T12:53:15.315117Z",
     "iopub.status.busy": "2025-01-22T12:53:15.314519Z",
     "iopub.status.idle": "2025-01-22T12:53:15.320809Z",
     "shell.execute_reply": "2025-01-22T12:53:15.319955Z",
     "shell.execute_reply.started": "2025-01-22T12:53:15.315082Z"
    }
   },
   "outputs": [
    {
     "data": {
      "text/plain": [
       "'../input/names'"
      ]
     },
     "execution_count": 135,
     "metadata": {},
     "output_type": "execute_result"
    }
   ],
   "source": [
    "PATH_TO_DATA"
   ]
  },
  {
   "cell_type": "code",
   "execution_count": 137,
   "id": "630e5395-560f-4845-ae9d-a648c2b14b76",
   "metadata": {
    "execution": {
     "iopub.execute_input": "2025-01-22T12:53:28.640617Z",
     "iopub.status.busy": "2025-01-22T12:53:28.640302Z",
     "iopub.status.idle": "2025-01-22T12:53:29.461695Z",
     "shell.execute_reply": "2025-01-22T12:53:29.460779Z",
     "shell.execute_reply.started": "2025-01-22T12:53:28.640592Z"
    }
   },
   "outputs": [
    {
     "name": "stdout",
     "output_type": "stream",
     "text": [
      "Accuracy: 61.42%\n"
     ]
    }
   ],
   "source": [
    "import os\n",
    "import pandas as pd\n",
    "from sklearn.feature_extraction.text import CountVectorizer\n",
    "from sklearn.linear_model import LogisticRegression\n",
    "from sklearn.metrics import accuracy_score\n",
    "\n",
    "# Step 1: Read the data\n",
    "folder_path = \"path_to_your_folder\"  # Replace with your folder path\n",
    "\n",
    "data = []\n",
    "labels = []\n",
    "\n",
    "for file_name in os.listdir(PATH_TO_DATA):\n",
    "    if file_name.endswith(\".txt\"):\n",
    "        language = file_name.replace(\".txt\", \"\")\n",
    "        with open(os.path.join(PATH_TO_DATA, file_name), 'r', encoding='utf-8') as file:\n",
    "            for line in file:\n",
    "                data.append(line.strip())\n",
    "                labels.append(language)\n",
    "\n",
    "# Step 2: Prepare the data\n",
    "vectorizer = CountVectorizer()\n",
    "X = vectorizer.fit_transform(data)\n",
    "y = labels\n",
    "\n",
    "# Step 3: Train the logistic regression model\n",
    "model = LogisticRegression(max_iter=3000)\n",
    "model.fit(X, y)\n",
    "\n",
    "# Step 4: Evaluate the model (using the same data for testing)\n",
    "y_pred = model.predict(X)\n",
    "accuracy = accuracy_score(y, y_pred)\n",
    "\n",
    "print(f\"Accuracy: {accuracy * 100:.2f}%\")\n"
   ]
  },
  {
   "cell_type": "code",
   "execution_count": 139,
   "id": "429ccc56-f77e-4047-a9f9-d457f8c1e3a0",
   "metadata": {
    "execution": {
     "iopub.execute_input": "2025-01-22T12:54:19.896390Z",
     "iopub.status.busy": "2025-01-22T12:54:19.896063Z",
     "iopub.status.idle": "2025-01-22T12:54:29.633707Z",
     "shell.execute_reply": "2025-01-22T12:54:29.632885Z",
     "shell.execute_reply.started": "2025-01-22T12:54:19.896363Z"
    }
   },
   "outputs": [
    {
     "name": "stdout",
     "output_type": "stream",
     "text": [
      "Accuracy: 95.38%\n"
     ]
    }
   ],
   "source": [
    "import os\n",
    "import pandas as pd\n",
    "from sklearn.feature_extraction.text import CountVectorizer\n",
    "from sklearn.ensemble import RandomForestClassifier\n",
    "from sklearn.metrics import accuracy_score\n",
    "\n",
    "# Step 1: Read the data\n",
    "folder_path = \"path_to_your_folder\"  # Replace with your folder path\n",
    "\n",
    "data = []\n",
    "labels = []\n",
    "\n",
    "for file_name in os.listdir(PATH_TO_DATA):\n",
    "    if file_name.endswith(\".txt\"):\n",
    "        language = file_name.replace(\".txt\", \"\")\n",
    "        with open(os.path.join(PATH_TO_DATA, file_name), 'r', encoding='utf-8') as file:\n",
    "            for line in file:\n",
    "                data.append(line.strip())\n",
    "                labels.append(language)\n",
    "\n",
    "# Step 2: Prepare the data\n",
    "vectorizer = CountVectorizer()\n",
    "X = vectorizer.fit_transform(data)\n",
    "y = labels\n",
    "\n",
    "# Step 3: Train the random forest model\n",
    "model = RandomForestClassifier(n_estimators=100, random_state=42)\n",
    "model.fit(X, y)\n",
    "\n",
    "# Step 4: Evaluate the model (using the same data for testing)\n",
    "y_pred = model.predict(X)\n",
    "accuracy = accuracy_score(y, y_pred)\n",
    "\n",
    "print(f\"Accuracy: {accuracy * 100:.2f}%\")\n"
   ]
  },
  {
   "cell_type": "code",
   "execution_count": null,
   "id": "93a1be96-fd54-4990-87c5-6997fbc4ab92",
   "metadata": {},
   "outputs": [],
   "source": []
  }
 ],
 "metadata": {
  "kaggle": {
   "accelerator": "gpu",
   "dataSources": [
    {
     "datasetId": 6525998,
     "sourceId": 10547491,
     "sourceType": "datasetVersion"
    }
   ],
   "dockerImageVersionId": 30840,
   "isGpuEnabled": true,
   "isInternetEnabled": true,
   "language": "python",
   "sourceType": "notebook"
  },
  "kernelspec": {
   "display_name": "Python 3 (ipykernel)",
   "language": "python",
   "name": "python3"
  },
  "language_info": {
   "codemirror_mode": {
    "name": "ipython",
    "version": 3
   },
   "file_extension": ".py",
   "mimetype": "text/x-python",
   "name": "python",
   "nbconvert_exporter": "python",
   "pygments_lexer": "ipython3",
   "version": "3.11.2"
  }
 },
 "nbformat": 4,
 "nbformat_minor": 5
}
