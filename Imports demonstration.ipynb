{
 "cells": [
  {
   "cell_type": "markdown",
   "id": "2980e7df",
   "metadata": {},
   "source": [
    "You can important packages from the standard librarty, e.g. packages that came with Python when you installed it"
   ]
  },
  {
   "cell_type": "code",
   "execution_count": 8,
   "id": "f17dc797",
   "metadata": {},
   "outputs": [],
   "source": [
    "import os"
   ]
  },
  {
   "cell_type": "code",
   "execution_count": 9,
   "id": "45d62e63",
   "metadata": {},
   "outputs": [
    {
     "name": "stdout",
     "output_type": "stream",
     "text": [
      "<module 'posixpath' (frozen)>\n"
     ]
    }
   ],
   "source": [
    "print(os.path)"
   ]
  },
  {
   "cell_type": "markdown",
   "id": "2f32f47c",
   "metadata": {},
   "source": [
    "You can also import your own files"
   ]
  },
  {
   "cell_type": "code",
   "execution_count": 10,
   "id": "a1f3ca11",
   "metadata": {},
   "outputs": [],
   "source": [
    "from imports import some_num"
   ]
  },
  {
   "cell_type": "code",
   "execution_count": 12,
   "id": "5a5f4d72",
   "metadata": {},
   "outputs": [
    {
     "name": "stdout",
     "output_type": "stream",
     "text": [
      "0\n",
      "1\n",
      "2\n",
      "3\n"
     ]
    }
   ],
   "source": [
    "for i in range(some_num):\n",
    "    print(i)"
   ]
  },
  {
   "cell_type": "code",
   "execution_count": null,
   "id": "09064d2e",
   "metadata": {},
   "outputs": [],
   "source": []
  },
  {
   "cell_type": "code",
   "execution_count": null,
   "id": "027583f0",
   "metadata": {},
   "outputs": [],
   "source": []
  }
 ],
 "metadata": {
  "kernelspec": {
   "display_name": "Python 3 (ipykernel)",
   "language": "python",
   "name": "python3"
  },
  "language_info": {
   "codemirror_mode": {
    "name": "ipython",
    "version": 3
   },
   "file_extension": ".py",
   "mimetype": "text/x-python",
   "name": "python",
   "nbconvert_exporter": "python",
   "pygments_lexer": "ipython3",
   "version": "3.11.2"
  }
 },
 "nbformat": 4,
 "nbformat_minor": 5
}
