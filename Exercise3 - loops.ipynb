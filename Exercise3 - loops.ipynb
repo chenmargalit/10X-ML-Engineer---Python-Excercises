{
 "cells": [
  {
   "cell_type": "markdown",
   "id": "8eec4408",
   "metadata": {},
   "source": [
    "# Loops"
   ]
  },
  {
   "cell_type": "markdown",
   "id": "578a62bf",
   "metadata": {},
   "source": [
    "Lopps are also of extreme imporance in programming languages and also Python. It let's you do many things and although its not very efficient in Python, its easy to use and easy to read. If the number of times you are looping is not super big, its a very good option. We will talk about more optimized ways when we get further down the line."
   ]
  },
  {
   "cell_type": "markdown",
   "id": "e2c07a0e",
   "metadata": {
    "heading_collapsed": true
   },
   "source": [
    "# For loops"
   ]
  },
  {
   "cell_type": "markdown",
   "id": "89700ef9",
   "metadata": {
    "hidden": true
   },
   "source": [
    "## Exercise 1"
   ]
  },
  {
   "cell_type": "markdown",
   "id": "1c9f4366",
   "metadata": {
    "hidden": true
   },
   "source": [
    "Write a for loop that prints numbers from 3 to 10"
   ]
  },
  {
   "cell_type": "markdown",
   "id": "971f1138",
   "metadata": {
    "hidden": true
   },
   "source": [
    "## Exercise 2"
   ]
  },
  {
   "cell_type": "markdown",
   "id": "7d200f9e",
   "metadata": {
    "hidden": true
   },
   "source": [
    "1. Create a counter variable.\n",
    "2. Request a number a prompt from a user.\n",
    "3. What is the type of that prompt? change it to the data structure you need in order to use it for looping.\n",
    "4. Iterate a number of times matching that number.\n",
    "5. Increase the counter by how ever you want\n",
    "6. Check that counter is what you expected"
   ]
  },
  {
   "cell_type": "markdown",
   "id": "237f97f6",
   "metadata": {},
   "source": [
    "# While loops"
   ]
  },
  {
   "cell_type": "markdown",
   "id": "0728e108",
   "metadata": {},
   "source": [
    "## Exercise 3"
   ]
  },
  {
   "cell_type": "markdown",
   "id": "7cb4b881",
   "metadata": {},
   "source": [
    "Create a while loop that lets the user guess a random number you generated. The user should be able to guess how ever many times you want. If the user guesses right, print it. If the user doesn't, continue until the number of attempts is over and then print something like: game over"
   ]
  },
  {
   "cell_type": "markdown",
   "id": "1933998b",
   "metadata": {},
   "source": [
    "## Exercise 4"
   ]
  },
  {
   "cell_type": "markdown",
   "id": "4503e146",
   "metadata": {},
   "source": [
    "Create a list with 20 random numbers. \n",
    "Create a while loop that iterates over that list, while the number is odd, it keeps on printing. If it has come across an even number 3 times, it should stop printing.\n",
    "\n",
    "Check your code"
   ]
  },
  {
   "cell_type": "code",
   "execution_count": null,
   "id": "2657f731",
   "metadata": {},
   "outputs": [],
   "source": []
  },
  {
   "cell_type": "code",
   "execution_count": null,
   "id": "8da6bd59",
   "metadata": {},
   "outputs": [],
   "source": []
  },
  {
   "cell_type": "code",
   "execution_count": null,
   "id": "2d1d2e58",
   "metadata": {},
   "outputs": [],
   "source": []
  },
  {
   "cell_type": "code",
   "execution_count": null,
   "id": "1091f323",
   "metadata": {},
   "outputs": [],
   "source": []
  },
  {
   "cell_type": "code",
   "execution_count": null,
   "id": "d56f6940",
   "metadata": {},
   "outputs": [],
   "source": []
  },
  {
   "cell_type": "code",
   "execution_count": null,
   "id": "08505e13",
   "metadata": {},
   "outputs": [],
   "source": []
  },
  {
   "cell_type": "code",
   "execution_count": null,
   "id": "1a3d85da",
   "metadata": {},
   "outputs": [],
   "source": []
  },
  {
   "cell_type": "code",
   "execution_count": null,
   "id": "89df536e",
   "metadata": {},
   "outputs": [],
   "source": []
  }
 ],
 "metadata": {
  "kernelspec": {
   "display_name": "Python 3 (ipykernel)",
   "language": "python",
   "name": "python3"
  },
  "language_info": {
   "codemirror_mode": {
    "name": "ipython",
    "version": 3
   },
   "file_extension": ".py",
   "mimetype": "text/x-python",
   "name": "python",
   "nbconvert_exporter": "python",
   "pygments_lexer": "ipython3",
   "version": "3.11.2"
  }
 },
 "nbformat": 4,
 "nbformat_minor": 5
}
