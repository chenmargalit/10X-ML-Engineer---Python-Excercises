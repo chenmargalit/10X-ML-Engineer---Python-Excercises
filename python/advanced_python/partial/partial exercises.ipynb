{
 "cells": [
  {
   "cell_type": "markdown",
   "id": "c0c8a9b2",
   "metadata": {},
   "source": [
    "# Exercise 1"
   ]
  },
  {
   "cell_type": "markdown",
   "id": "6447626b",
   "metadata": {},
   "source": [
    "Exercise: Planting Seeds with Fixed Seed Type\n",
    "Use functools.partial to create a function plant_seeds that plants a fixed type of seeds (e.g., \"Tomato\") with variable quantities. The function should take the quantity as an argument and return a message indicating the action.\n",
    "Create another variable for the same vegtable, with a different seed"
   ]
  },
  {
   "cell_type": "markdown",
   "id": "835ddc2c",
   "metadata": {},
   "source": [
    "# Exercise 2"
   ]
  },
  {
   "cell_type": "markdown",
   "id": "dea23eca",
   "metadata": {},
   "source": [
    "Exercise: Watering Plants with Fixed Frequency\n",
    "Use functools.partial to create a function water_plants that waters plants with a fixed frequency (e.g., every 3 days) but variable plant names. The function should take the plant name as an argument and return a message indicating the watering schedule.\n",
    "\n",
    "Create another plant that needs the same frequent watering and print it too."
   ]
  },
  {
   "cell_type": "markdown",
   "id": "668c335b",
   "metadata": {},
   "source": [
    "# Exercise 3"
   ]
  },
  {
   "cell_type": "markdown",
   "id": "fd5ea9c6",
   "metadata": {},
   "source": [
    "Exercise: Harvesting Vegetables with Fixed Harvesting Time\n",
    "Use functools.partial to create a function harvest_vegetables that indicates when to harvest a fixed type of vegetable (e.g., \"Carrot\") with variable expected days to harvest. The function should take the days to harvest as an argument and return a message indicating when to harvest."
   ]
  },
  {
   "cell_type": "markdown",
   "id": "ce1fe50e",
   "metadata": {},
   "source": [
    "# Intermediate difficulty"
   ]
  },
  {
   "cell_type": "markdown",
   "id": "bb281c04",
   "metadata": {},
   "source": [
    "Create a pipeline for gardening tasks using functools.partial. Define a series of functions representing different gardening tasks, such as planting seeds, watering plants, and harvesting vegetables. Use functools.partial to create partial functions for each task with some fixed parameters (e.g., specific plant types, quantities, or frequencies). Then, combine these partial functions into a pipeline that executes the tasks in a specific order."
   ]
  },
  {
   "cell_type": "code",
   "execution_count": null,
   "id": "06d08026",
   "metadata": {},
   "outputs": [],
   "source": []
  }
 ],
 "metadata": {
  "kernelspec": {
   "display_name": "Python 3 (ipykernel)",
   "language": "python",
   "name": "python3"
  },
  "language_info": {
   "codemirror_mode": {
    "name": "ipython",
    "version": 3
   },
   "file_extension": ".py",
   "mimetype": "text/x-python",
   "name": "python",
   "nbconvert_exporter": "python",
   "pygments_lexer": "ipython3",
   "version": "3.11.2"
  }
 },
 "nbformat": 4,
 "nbformat_minor": 5
}
