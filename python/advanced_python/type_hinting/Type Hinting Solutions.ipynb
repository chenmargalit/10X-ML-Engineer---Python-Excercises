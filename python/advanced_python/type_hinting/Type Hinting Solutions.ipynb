{
 "cells": [
  {
   "cell_type": "markdown",
   "id": "612e125c",
   "metadata": {},
   "source": [
    "# Exercise 1"
   ]
  },
  {
   "cell_type": "markdown",
   "id": "2a8dc347",
   "metadata": {},
   "source": [
    "Define a Car class with the following attributes:\n",
    "\n",
    "make (str): The make of the car.\n",
    "model (str): The model of the car.\n",
    "year (int): The year the car was manufactured.\n",
    "mileage (float): The mileage of the car.\n",
    "color optional string, defaults to None"
   ]
  },
  {
   "cell_type": "code",
   "execution_count": 1,
   "id": "48053211",
   "metadata": {},
   "outputs": [],
   "source": [
    "from typing import Optional\n",
    "\n",
    "class Car:\n",
    "    def __init__(self, make: str, model: str, year: int, mileage: float, color: Optional[str] = None):\n",
    "        self.make = make\n",
    "        self.model = model\n",
    "        self.year = year\n",
    "        self.mileage = mileage\n",
    "        self.color = color"
   ]
  },
  {
   "cell_type": "markdown",
   "id": "c57f5024",
   "metadata": {},
   "source": [
    "# Exercise 2"
   ]
  },
  {
   "cell_type": "markdown",
   "id": "b896cdaf",
   "metadata": {},
   "source": [
    "Define a function called drive_car that takes a Car object as input and returns a str indicating its make and model"
   ]
  },
  {
   "cell_type": "code",
   "execution_count": 3,
   "id": "1699f8e0",
   "metadata": {},
   "outputs": [],
   "source": [
    "def drive_car(car: Car) -> str:\n",
    "    return f\"Driving {car.make} {car.model}\""
   ]
  },
  {
   "cell_type": "markdown",
   "id": "63a5ae1a",
   "metadata": {},
   "source": [
    "# Exercise 3"
   ]
  },
  {
   "cell_type": "markdown",
   "id": "42bcfffb",
   "metadata": {},
   "source": [
    "Define a function called find_most_mileage_car that takes a list of Car objects as input and returns the Car object with the highest mileage."
   ]
  },
  {
   "cell_type": "code",
   "execution_count": null,
   "id": "0ad0303d",
   "metadata": {},
   "outputs": [],
   "source": [
    "from typing import List\n",
    "\n",
    "def find_most_mileage_car(cars: List[Car]) -> Car:\n",
    "    return max(cars, key=lambda x: x.mileage)"
   ]
  },
  {
   "cell_type": "markdown",
   "id": "ae065946",
   "metadata": {},
   "source": [
    "# Exercise 4"
   ]
  },
  {
   "cell_type": "markdown",
   "id": "a05b9a92",
   "metadata": {},
   "source": [
    "Define a function called group_cars_by_make that takes a list of Car objects as input and returns a dictionary where the keys are the makes of the cars (stirng) and the values are lists of Car objects of that make."
   ]
  },
  {
   "cell_type": "code",
   "execution_count": null,
   "id": "fd6a2adf",
   "metadata": {},
   "outputs": [],
   "source": [
    "from typing import Dict\n",
    "\n",
    "def group_cars_by_make(cars: List[Car]) -> Dict[str, List[Car]]:\n",
    "    grouped_cars = {}\n",
    "    for car in cars:\n",
    "        if car.make in grouped_cars:\n",
    "            grouped_cars[car.make].append(car)\n",
    "        else:\n",
    "            grouped_cars[car.make] = [car]\n",
    "    return grouped_cars\n"
   ]
  }
 ],
 "metadata": {
  "kernelspec": {
   "display_name": "Python 3 (ipykernel)",
   "language": "python",
   "name": "python3"
  },
  "language_info": {
   "codemirror_mode": {
    "name": "ipython",
    "version": 3
   },
   "file_extension": ".py",
   "mimetype": "text/x-python",
   "name": "python",
   "nbconvert_exporter": "python",
   "pygments_lexer": "ipython3",
   "version": "3.11.2"
  }
 },
 "nbformat": 4,
 "nbformat_minor": 5
}
