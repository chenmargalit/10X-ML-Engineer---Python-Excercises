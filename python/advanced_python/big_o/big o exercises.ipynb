{
 "cells": [
  {
   "cell_type": "markdown",
   "id": "83d63e94",
   "metadata": {},
   "source": [
    "Determine the Big O notation for the following functions:"
   ]
  },
  {
   "cell_type": "markdown",
   "id": "44f7addc",
   "metadata": {},
   "source": [
    "# Exercise 1"
   ]
  },
  {
   "cell_type": "code",
   "execution_count": 2,
   "id": "14e50bcb",
   "metadata": {},
   "outputs": [],
   "source": [
    "def print_numbers(n):\n",
    "    for i in range(n):\n",
    "        print(i)"
   ]
  },
  {
   "cell_type": "markdown",
   "id": "74758c7d",
   "metadata": {},
   "source": [
    "# Exercise 2"
   ]
  },
  {
   "cell_type": "code",
   "execution_count": 3,
   "id": "0c34dbed",
   "metadata": {},
   "outputs": [],
   "source": [
    "def print_pairs(n):\n",
    "    for i in range(n):\n",
    "        for j in range(n):\n",
    "            print(i, j)"
   ]
  },
  {
   "cell_type": "markdown",
   "id": "3bdc2f55",
   "metadata": {},
   "source": [
    "# Exercise 3"
   ]
  },
  {
   "cell_type": "code",
   "execution_count": null,
   "id": "4cd2b0d7",
   "metadata": {},
   "outputs": [],
   "source": [
    "def print_half(n):\n",
    "    for i in range(n):\n",
    "        print(i)\n",
    "    for j in range(n // 2):\n",
    "        print(j)"
   ]
  }
 ],
 "metadata": {
  "kernelspec": {
   "display_name": "Python 3 (ipykernel)",
   "language": "python",
   "name": "python3"
  },
  "language_info": {
   "codemirror_mode": {
    "name": "ipython",
    "version": 3
   },
   "file_extension": ".py",
   "mimetype": "text/x-python",
   "name": "python",
   "nbconvert_exporter": "python",
   "pygments_lexer": "ipython3",
   "version": "3.11.2"
  }
 },
 "nbformat": 4,
 "nbformat_minor": 5
}
