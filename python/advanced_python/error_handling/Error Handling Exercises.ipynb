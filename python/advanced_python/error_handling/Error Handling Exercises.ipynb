{
 "cells": [
  {
   "cell_type": "markdown",
   "id": "cf74b732",
   "metadata": {},
   "source": [
    "# Exercise 1"
   ]
  },
  {
   "cell_type": "markdown",
   "id": "a1415b47",
   "metadata": {},
   "source": [
    "Write a program that takes two numbers from the user and divides the first number by the second number. Handle the ZeroDivisionError if the second number is zero."
   ]
  },
  {
   "cell_type": "markdown",
   "id": "f3bcd640",
   "metadata": {},
   "source": [
    "# Exercise 2"
   ]
  },
  {
   "cell_type": "markdown",
   "id": "42626cf2",
   "metadata": {},
   "source": [
    "Write a program that opens a file specified by the user and reads its contents. Handle the FileNotFoundError if the specified file does not exist."
   ]
  },
  {
   "cell_type": "markdown",
   "id": "bba63d94",
   "metadata": {},
   "source": [
    "# Exercise 3"
   ]
  },
  {
   "cell_type": "markdown",
   "id": "06d6764c",
   "metadata": {},
   "source": [
    "Write a program that takes an integer input from the user and converts it into a float. Handle the ValueError if the user enters a non-integer input."
   ]
  },
  {
   "cell_type": "markdown",
   "id": "d08e071b",
   "metadata": {},
   "source": [
    "# Exercise 4\n"
   ]
  },
  {
   "cell_type": "markdown",
   "id": "5767e8b9",
   "metadata": {},
   "source": [
    "Write a program that takes a list from the user and prints the element at a specified index. Handle the IndexError if the specified index is out of range."
   ]
  },
  {
   "cell_type": "markdown",
   "id": "39ef98cf",
   "metadata": {},
   "source": [
    "# Exercise 5\n"
   ]
  },
  {
   "cell_type": "markdown",
   "id": "e273e1ad",
   "metadata": {},
   "source": [
    "Write a program that takes a dictionary from the user and prints the value associated with a specified key. Handle the KeyError if the specified key does not exist in the dictionary."
   ]
  },
  {
   "cell_type": "markdown",
   "id": "14f664e3",
   "metadata": {},
   "source": [
    "# Intermediate difficuly"
   ]
  },
  {
   "cell_type": "markdown",
   "id": "fa84f88f",
   "metadata": {},
   "source": [
    "# Exercise 1"
   ]
  },
  {
   "cell_type": "markdown",
   "id": "074ade54",
   "metadata": {},
   "source": [
    "Custom Error Handling: Define a custom exception class called CustomError. Write a program that takes a number as input from the user. If the number is less than 0, raise a CustomError with a message \"Number must be positive\". Handle this custom error in your program."
   ]
  },
  {
   "cell_type": "markdown",
   "id": "a7ebac31",
   "metadata": {},
   "source": [
    "# Exercise 2"
   ]
  },
  {
   "cell_type": "markdown",
   "id": "6515d017",
   "metadata": {},
   "source": [
    "Write a program that reads a file name from the user, opens the file, and reads its contents. If the file does not exist, log an error message to a file called error.log with the current timestamp and the file name that was not found. Use the logging module for logging."
   ]
  },
  {
   "cell_type": "markdown",
   "id": "06ff2a30",
   "metadata": {},
   "source": [
    "# Exercise 3"
   ]
  },
  {
   "cell_type": "markdown",
   "id": "dd72132d",
   "metadata": {},
   "source": [
    "Nested Error Handling: Write a program that takes a list of file names from the user and tries to open each file. If a file does not exist, log an error message to the console and continue to the next file. If there is an error while reading a file, log an error message to a file called read_errors.log with the current timestamp and the file name that could not be read. Use nested try-except blocks for error handling."
   ]
  }
 ],
 "metadata": {
  "kernelspec": {
   "display_name": "Python 3 (ipykernel)",
   "language": "python",
   "name": "python3"
  },
  "language_info": {
   "codemirror_mode": {
    "name": "ipython",
    "version": 3
   },
   "file_extension": ".py",
   "mimetype": "text/x-python",
   "name": "python",
   "nbconvert_exporter": "python",
   "pygments_lexer": "ipython3",
   "version": "3.11.2"
  }
 },
 "nbformat": 4,
 "nbformat_minor": 5
}
