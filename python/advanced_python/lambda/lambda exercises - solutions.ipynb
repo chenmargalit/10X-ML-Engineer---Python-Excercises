{
 "cells": [
  {
   "cell_type": "markdown",
   "id": "44f7addc",
   "metadata": {},
   "source": [
    "# Exercise 1"
   ]
  },
  {
   "cell_type": "markdown",
   "id": "d1183b7f",
   "metadata": {},
   "source": [
    "Create a dictionary of plants with their names and types (e.g., \"Rose\": \"Flower\", \"Tomato\": \"Vegetable\", \"Lemon Tree\": \"Fruit Tree\"). Use a lambda function to filter only the plants that are flowers. * Use the filter built in method"
   ]
  },
  {
   "cell_type": "code",
   "execution_count": 34,
   "id": "14e50bcb",
   "metadata": {},
   "outputs": [
    {
     "name": "stdout",
     "output_type": "stream",
     "text": [
      "['Rose', 'Narkis']\n"
     ]
    }
   ],
   "source": [
    "plants = {\n",
    "    \"Rose\": \"Flower\",\n",
    "    \"Tomato\": \"Vegetable\",\n",
    "    \"Lemon Tree\": \"Fruit Tree\",\n",
    "    'Narkis': 'Flower'\n",
    "}\n",
    "\n",
    "flowers = list(filter(lambda x: plants[x] == \"Flower\", plants))\n",
    "print(flowers)"
   ]
  },
  {
   "cell_type": "markdown",
   "id": "74758c7d",
   "metadata": {},
   "source": [
    "# Exercise 2"
   ]
  },
  {
   "cell_type": "markdown",
   "id": "cf6cc4e6",
   "metadata": {},
   "source": [
    "Create a list of plant heights at the beginning of the season. Use a lambda function to calculate the growth of each plant by subtracting the final height from the initial height. * Use the map built in method"
   ]
  },
  {
   "cell_type": "code",
   "execution_count": 40,
   "id": "0c34dbed",
   "metadata": {},
   "outputs": [
    {
     "name": "stdout",
     "output_type": "stream",
     "text": [
      "[5, 10, 5, 10]\n"
     ]
    }
   ],
   "source": [
    "initial_heights = [10, 20, 15, 30] \n",
    "final_heights = [15, 30, 20, 40, 12] \n",
    "\n",
    "growths = list(map(lambda x, y: x - y, final_heights, initial_heights))\n",
    "print(growths)"
   ]
  },
  {
   "cell_type": "markdown",
   "id": "3bdc2f55",
   "metadata": {},
   "source": [
    "# Exercise 3"
   ]
  },
  {
   "cell_type": "markdown",
   "id": "5b6db6ab",
   "metadata": {},
   "source": [
    "Create a list of plant names. Use a lambda function to sort the plant names based on the length of their names, from shortest to longest. * Use the sorted built in method. \n",
    "\n",
    "Bonus: Do the same, but start with the longest names first"
   ]
  },
  {
   "cell_type": "code",
   "execution_count": 46,
   "id": "4cd2b0d7",
   "metadata": {},
   "outputs": [
    {
     "name": "stdout",
     "output_type": "stream",
     "text": [
      "['Lemon Tree', 'Tomato', 'Basil', 'Rose']\n"
     ]
    }
   ],
   "source": [
    "plant_names = [\"Rose\", \"Tomato\", \"Lemon Tree\", \"Basil\"]\n",
    "sorted_plant_names = sorted(plant_names, key=lambda x: len(x), reverse=True)\n",
    "print(sorted_plant_names)"
   ]
  },
  {
   "cell_type": "code",
   "execution_count": 48,
   "id": "02ac0e07",
   "metadata": {},
   "outputs": [
    {
     "data": {
      "text/plain": [
       "['Rose', 'Tomato', 'Lemon Tree', 'Basil']"
      ]
     },
     "execution_count": 48,
     "metadata": {},
     "output_type": "execute_result"
    }
   ],
   "source": [
    "plant_names"
   ]
  },
  {
   "cell_type": "code",
   "execution_count": 49,
   "id": "7b5cb76e",
   "metadata": {},
   "outputs": [
    {
     "data": {
      "text/plain": [
       "['Lemon Tree', 'Tomato', 'Basil', 'Rose']"
      ]
     },
     "execution_count": 49,
     "metadata": {},
     "output_type": "execute_result"
    }
   ],
   "source": [
    "sorted_plant_names"
   ]
  },
  {
   "cell_type": "code",
   "execution_count": null,
   "id": "b6a60d9c",
   "metadata": {},
   "outputs": [],
   "source": []
  },
  {
   "cell_type": "code",
   "execution_count": null,
   "id": "2c999e4d",
   "metadata": {},
   "outputs": [],
   "source": []
  },
  {
   "cell_type": "code",
   "execution_count": 47,
   "id": "b1f1c363",
   "metadata": {},
   "outputs": [],
   "source": [
    "def func(x): return len(x)"
   ]
  },
  {
   "cell_type": "code",
   "execution_count": null,
   "id": "aa1079c2",
   "metadata": {},
   "outputs": [],
   "source": []
  },
  {
   "cell_type": "code",
   "execution_count": null,
   "id": "4fdcb7cd",
   "metadata": {},
   "outputs": [],
   "source": []
  },
  {
   "cell_type": "markdown",
   "id": "fcc69f59",
   "metadata": {},
   "source": [
    "# Intermediate difficulty"
   ]
  },
  {
   "cell_type": "markdown",
   "id": "778ae305",
   "metadata": {},
   "source": [
    "You have a list of tuples containing plant names and the number of days since they were last watered. Write a function that takes this list and a threshold value for the number of days (e.g., 3 days) and returns a list of plants that need to be watered (i.e., those that have not been watered for more than the threshold number of days)."
   ]
  },
  {
   "cell_type": "code",
   "execution_count": 5,
   "id": "5de170eb",
   "metadata": {},
   "outputs": [
    {
     "name": "stdout",
     "output_type": "stream",
     "text": [
      "['Tomato']\n"
     ]
    }
   ],
   "source": [
    "plants = [(\"Rose\", 2), (\"Tomato\", 5), (\"Lemon Tree\", 1), (\"Basil\", 3)]\n",
    "\n",
    "get_plants_to_water = lambda plants, threshold: [plant[0] for plant in plants if plant[1] > threshold]\n",
    "\n",
    "threshold_days = 3\n",
    "plants_to_water = get_plants_to_water(plants, threshold_days)\n",
    "print(plants_to_water)"
   ]
  },
  {
   "cell_type": "code",
   "execution_count": null,
   "id": "cef96f43",
   "metadata": {},
   "outputs": [],
   "source": []
  }
 ],
 "metadata": {
  "kernelspec": {
   "display_name": "Python 3 (ipykernel)",
   "language": "python",
   "name": "python3"
  },
  "language_info": {
   "codemirror_mode": {
    "name": "ipython",
    "version": 3
   },
   "file_extension": ".py",
   "mimetype": "text/x-python",
   "name": "python",
   "nbconvert_exporter": "python",
   "pygments_lexer": "ipython3",
   "version": "3.11.2"
  }
 },
 "nbformat": 4,
 "nbformat_minor": 5
}
