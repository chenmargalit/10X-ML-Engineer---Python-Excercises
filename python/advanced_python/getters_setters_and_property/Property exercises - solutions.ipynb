{
 "cells": [
  {
   "cell_type": "markdown",
   "id": "44f7addc",
   "metadata": {},
   "source": [
    "# Exercise 1"
   ]
  },
  {
   "cell_type": "markdown",
   "id": "04cf65bf",
   "metadata": {},
   "source": [
    "Plant Class with Getter and Setter:\n",
    "Create a Plant class with attributes name, type, and watered. Implement a property needs_water which returns True if the plant has not been watered (watered is False), and False otherwise. Implement a setter for needs_water to update the watered attribute."
   ]
  },
  {
   "cell_type": "code",
   "execution_count": 19,
   "id": "14e50bcb",
   "metadata": {},
   "outputs": [],
   "source": [
    "class Plant:\n",
    "    def __init__(self, name, type_):\n",
    "        self.name = name\n",
    "        self.type = type_\n",
    "        self.watered = False\n",
    "\n",
    "    @property\n",
    "    def needs_water(self):\n",
    "        return not self.watered\n",
    "\n",
    "    @needs_water.setter\n",
    "    def needs_water(self, value):\n",
    "        print('value is', value)\n",
    "        self.watered = value"
   ]
  },
  {
   "cell_type": "code",
   "execution_count": 20,
   "id": "9490e1ba",
   "metadata": {},
   "outputs": [],
   "source": [
    "p = Plant('narkis', 'flower')"
   ]
  },
  {
   "cell_type": "code",
   "execution_count": 21,
   "id": "4c736ae1",
   "metadata": {},
   "outputs": [
    {
     "data": {
      "text/plain": [
       "True"
      ]
     },
     "execution_count": 21,
     "metadata": {},
     "output_type": "execute_result"
    }
   ],
   "source": [
    "p.needs_water "
   ]
  },
  {
   "cell_type": "code",
   "execution_count": 23,
   "id": "898fbce9",
   "metadata": {},
   "outputs": [
    {
     "data": {
      "text/plain": [
       "False"
      ]
     },
     "execution_count": 23,
     "metadata": {},
     "output_type": "execute_result"
    }
   ],
   "source": [
    "p.watered"
   ]
  },
  {
   "cell_type": "code",
   "execution_count": 24,
   "id": "7c61868a",
   "metadata": {},
   "outputs": [
    {
     "name": "stdout",
     "output_type": "stream",
     "text": [
      "value is True\n"
     ]
    }
   ],
   "source": [
    "p.needs_water = True"
   ]
  },
  {
   "cell_type": "code",
   "execution_count": 18,
   "id": "f1891cb0",
   "metadata": {},
   "outputs": [
    {
     "data": {
      "text/plain": [
       "True"
      ]
     },
     "execution_count": 18,
     "metadata": {},
     "output_type": "execute_result"
    }
   ],
   "source": [
    "p.needs_water"
   ]
  },
  {
   "cell_type": "markdown",
   "id": "74758c7d",
   "metadata": {},
   "source": [
    "# Exercise 2"
   ]
  },
  {
   "cell_type": "markdown",
   "id": "86f06b02",
   "metadata": {},
   "source": [
    "Garden Class with Property:\n",
    "Create a Garden class that contains a list of Plant objects. Implement a property needs_watering which returns a list of plants in the garden that need watering (based on their needs_water property)."
   ]
  },
  {
   "cell_type": "code",
   "execution_count": 16,
   "id": "0c34dbed",
   "metadata": {},
   "outputs": [],
   "source": [
    "class Garden:\n",
    "    def __init__(self):\n",
    "        self.plants = [{'needs_water': True, 'name': '123'}]\n",
    "\n",
    "    def add_plant(self, plant):\n",
    "        self.plants.append(plant)\n",
    "\n",
    "    @property\n",
    "    def needs_watering(self):\n",
    "        return [plant for plant in self.plants if plant['needs_water']]\n"
   ]
  },
  {
   "cell_type": "code",
   "execution_count": null,
   "id": "2880fc56",
   "metadata": {},
   "outputs": [],
   "source": [
    "g = Garden()\n",
    "\n",
    "g.add_plant({'needs_water': False})\n",
    "g.add_plant({'needs_water': True})\n",
    "g.add_plant({'needs_water': 123})"
   ]
  },
  {
   "cell_type": "code",
   "execution_count": null,
   "id": "d1b0ca12",
   "metadata": {},
   "outputs": [],
   "source": [
    "g.needs_watering"
   ]
  },
  {
   "cell_type": "code",
   "execution_count": null,
   "id": "d2bb32fd",
   "metadata": {},
   "outputs": [],
   "source": []
  },
  {
   "cell_type": "markdown",
   "id": "3bdc2f55",
   "metadata": {},
   "source": [
    "# Exercise 3"
   ]
  },
  {
   "cell_type": "markdown",
   "id": "fbdb2984",
   "metadata": {},
   "source": [
    "Gardener Class with Property and Setter:\n",
    "Create a Gardener class with attributes name and plants. Implement a property favorite_plant which returns the name of the gardener's favorite plant. Implement a setter for favorite_plant to update the plants attribute to include the favorite plant if it's not already in the list."
   ]
  },
  {
   "cell_type": "code",
   "execution_count": 63,
   "id": "4cd2b0d7",
   "metadata": {},
   "outputs": [],
   "source": [
    "class Gardener:\n",
    "    def __init__(self, name):\n",
    "        self.name = name\n",
    "        self.plants = []\n",
    "        self._favorite_plant = 'a'\n",
    "\n",
    "    @property\n",
    "    def favorite_plant(self):\n",
    "        return self._favorite_plant\n",
    "\n",
    "    @favorite_plant.setter\n",
    "    def favorite_plant(self, plant_name):\n",
    "        if plant_name not in self.plants:\n",
    "            self.plants.append(plant_name)\n",
    "        self._favorite_plant = plant_name"
   ]
  },
  {
   "cell_type": "code",
   "execution_count": 64,
   "id": "75207101",
   "metadata": {},
   "outputs": [],
   "source": [
    "g = Gardener('abc')"
   ]
  },
  {
   "cell_type": "code",
   "execution_count": 65,
   "id": "156a0b06",
   "metadata": {
    "scrolled": true
   },
   "outputs": [
    {
     "data": {
      "text/plain": [
       "'a'"
      ]
     },
     "execution_count": 65,
     "metadata": {},
     "output_type": "execute_result"
    }
   ],
   "source": [
    "g.favorite_plant"
   ]
  },
  {
   "cell_type": "code",
   "execution_count": 66,
   "id": "09271c6d",
   "metadata": {},
   "outputs": [
    {
     "data": {
      "text/plain": [
       "[]"
      ]
     },
     "execution_count": 66,
     "metadata": {},
     "output_type": "execute_result"
    }
   ],
   "source": [
    "g.plants"
   ]
  },
  {
   "cell_type": "code",
   "execution_count": 67,
   "id": "d059f03e",
   "metadata": {},
   "outputs": [],
   "source": [
    "g.favorite_plant = 'abc'"
   ]
  },
  {
   "cell_type": "code",
   "execution_count": 68,
   "id": "f72043dd",
   "metadata": {},
   "outputs": [
    {
     "data": {
      "text/plain": [
       "'abc'"
      ]
     },
     "execution_count": 68,
     "metadata": {},
     "output_type": "execute_result"
    }
   ],
   "source": [
    "g._favorite_plant"
   ]
  },
  {
   "cell_type": "code",
   "execution_count": 69,
   "id": "172d1737",
   "metadata": {},
   "outputs": [
    {
     "data": {
      "text/plain": [
       "['abc']"
      ]
     },
     "execution_count": 69,
     "metadata": {},
     "output_type": "execute_result"
    }
   ],
   "source": [
    "g.plants"
   ]
  },
  {
   "cell_type": "code",
   "execution_count": null,
   "id": "8dfff055",
   "metadata": {},
   "outputs": [],
   "source": [
    "a = 5"
   ]
  },
  {
   "cell_type": "markdown",
   "id": "fcc69f59",
   "metadata": {},
   "source": [
    "# Intermediate difficulty"
   ]
  },
  {
   "cell_type": "markdown",
   "id": "f62d6fbf",
   "metadata": {},
   "source": [
    "Create a Plant class with attributes name, age, growth_rate, and max_height. Implement a property current_height which calculates and returns the current height of the plant based on its age and growth rate. Ensure that the current height does not exceed the max_height of the plant.\n",
    "\n",
    "You can also add methods to simulate the passage of time and water the plant, which could affect its growth rate and thus its height. The goal is to use the @property decorator to calculate and return the current height dynamically."
   ]
  },
  {
   "cell_type": "code",
   "execution_count": 6,
   "id": "5de170eb",
   "metadata": {},
   "outputs": [
    {
     "name": "stdout",
     "output_type": "stream",
     "text": [
      "Rose is 2 years old and 20 cm tall.\n",
      "Rose is 5 years old and 50 cm tall.\n",
      "Rose is 6 years old and 50 cm tall.\n"
     ]
    }
   ],
   "source": [
    "class Plant:\n",
    "    def __init__(self, name, age, growth_rate, max_height):\n",
    "        self.name = name\n",
    "        self.age = age\n",
    "        self.growth_rate = growth_rate\n",
    "        self.max_height = max_height\n",
    "\n",
    "    @property\n",
    "    def current_height(self):\n",
    "        growth = self.age * self.growth_rate\n",
    "        return min(growth, self.max_height)\n",
    "\n",
    "    def simulate_growth(self, years=1):\n",
    "        self.age += years\n",
    "\n",
    "    def __str__(self):\n",
    "        return f\"{self.name} is {self.age} years old and {self.current_height} cm tall.\"\n",
    "\n",
    "\n",
    "plant = Plant(\"Rose\", 2, 10, 50)\n",
    "print(plant)  \n",
    "plant.simulate_growth(3)\n",
    "print(plant) \n",
    "plant.simulate_growth(1)\n",
    "print(plant) "
   ]
  },
  {
   "cell_type": "code",
   "execution_count": null,
   "id": "011286fa",
   "metadata": {},
   "outputs": [],
   "source": []
  }
 ],
 "metadata": {
  "kernelspec": {
   "display_name": "Python 3 (ipykernel)",
   "language": "python",
   "name": "python3"
  },
  "language_info": {
   "codemirror_mode": {
    "name": "ipython",
    "version": 3
   },
   "file_extension": ".py",
   "mimetype": "text/x-python",
   "name": "python",
   "nbconvert_exporter": "python",
   "pygments_lexer": "ipython3",
   "version": "3.11.2"
  }
 },
 "nbformat": 4,
 "nbformat_minor": 5
}
