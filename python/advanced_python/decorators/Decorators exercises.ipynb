{
 "cells": [
  {
   "cell_type": "markdown",
   "id": "44f7addc",
   "metadata": {},
   "source": [
    "# Exercise 1"
   ]
  },
  {
   "cell_type": "markdown",
   "id": "c0de37dc",
   "metadata": {},
   "source": [
    "Timing Decorator: Create a decorator that calculates and prints the time taken by a function to execute."
   ]
  },
  {
   "cell_type": "markdown",
   "id": "74758c7d",
   "metadata": {},
   "source": [
    "# Exercise 2"
   ]
  },
  {
   "cell_type": "markdown",
   "id": "4bebabd0",
   "metadata": {},
   "source": [
    "Logging Decorator: Implement a decorator that logs the arguments and return value of a function."
   ]
  },
  {
   "cell_type": "markdown",
   "id": "3bdc2f55",
   "metadata": {},
   "source": [
    "# Exercise 3"
   ]
  },
  {
   "cell_type": "markdown",
   "id": "c1db5a5f",
   "metadata": {},
   "source": [
    "Authorization Decorator: Create a decorator that checks if a user is authorized to call a function. It could for example expect the type of user as an argument and decide whether it should respond"
   ]
  },
  {
   "cell_type": "markdown",
   "id": "fcc69f59",
   "metadata": {},
   "source": [
    "# Intermediate difficulty"
   ]
  },
  {
   "cell_type": "markdown",
   "id": "e764fcd4",
   "metadata": {},
   "source": [
    "Caching Decorator:\n",
    "Create a decorator that caches the return value of the fibonacci function you see. The cache should be made such that if the function is called again with the same arguments, it returns the cached result instead of recalculating it."
   ]
  },
  {
   "cell_type": "code",
   "execution_count": 8,
   "id": "971d5530",
   "metadata": {},
   "outputs": [],
   "source": [
    "def fibonacci(n):\n",
    "    if n < 2:\n",
    "        return n\n",
    "    return fibonacci(n-1) + fibonacci(n-2)"
   ]
  },
  {
   "cell_type": "code",
   "execution_count": null,
   "id": "a15c47a8",
   "metadata": {},
   "outputs": [],
   "source": []
  }
 ],
 "metadata": {
  "kernelspec": {
   "display_name": "Python 3 (ipykernel)",
   "language": "python",
   "name": "python3"
  },
  "language_info": {
   "codemirror_mode": {
    "name": "ipython",
    "version": 3
   },
   "file_extension": ".py",
   "mimetype": "text/x-python",
   "name": "python",
   "nbconvert_exporter": "python",
   "pygments_lexer": "ipython3",
   "version": "3.11.2"
  }
 },
 "nbformat": 4,
 "nbformat_minor": 5
}
