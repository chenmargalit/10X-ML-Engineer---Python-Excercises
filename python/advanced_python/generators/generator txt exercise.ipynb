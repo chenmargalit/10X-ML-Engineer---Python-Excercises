{
 "cells": [
  {
   "cell_type": "code",
   "execution_count": null,
   "id": "28d4bb88",
   "metadata": {},
   "outputs": [],
   "source": [
    "# Some lorem ipsum, sample text.\n",
    "sample_text = \"\"\"Lorem ipsum dolor sit amet, consectetur adipiscing elit.\n",
    "Sed do eiusmod tempor incididunt ut labore et dolore magna aliqua.\n",
    "Ut enim ad minim veniam, quis nostrud exercitation ullamco laboris.\n",
    "Duis aute irure dolor in reprehenderit in voluptate velit esse.\n",
    "Cillum dolore eu fugiat nulla pariatur. Excepteur sint occaecat cupidatat.\n",
    "Non proident, sunt in culpa qui officia deserunt mollit anim id est laborum.\n",
    "Integer posuere erat a ante venenatis dapibus posuere velit aliquet.\n",
    "Curabitur blandit tempus porttitor. Nullam id dolor id nibh ultricies vehicula ut id elit.\n",
    "Fusce dapibus, tellus ac cursus commodo, tortor mauris condimentum nibh.\"\"\"\n",
    "\n",
    "file_path = 'test_txt_file.txt'\n",
    "with open(file_path, 'w') as file:\n",
    "    for _ in range(500_000):\n",
    "        file.write(sample_text + '\\n')\n",
    "\n",
    "print(f'Text file written at: {file_path}')"
   ]
  },
  {
   "cell_type": "code",
   "execution_count": null,
   "id": "f699cbd3",
   "metadata": {},
   "outputs": [],
   "source": [
    "def find_wopa_without_generator():\n",
    "    with open('test_txt_file.txt', 'r') as f:\n",
    "        for line in f.readlines():\n",
    "            if 'wopa' in line.lower():\n",
    "                break"
   ]
  },
  {
   "cell_type": "code",
   "execution_count": null,
   "id": "cf3af707",
   "metadata": {},
   "outputs": [],
   "source": [
    "def read_file_with_yield():\n",
    "    with open('test_txt_file.txt', 'r') as file:\n",
    "        for line in file:\n",
    "            yield line.strip()\n",
    "\n",
    "def find_wopa_with_generator():\n",
    "            \n",
    "    for line in read_file_with_yield():\n",
    "        if 'wopa' in line.lower():\n",
    "            print(\"Condition met. Stopping.\")\n",
    "            break"
   ]
  },
  {
   "cell_type": "code",
   "execution_count": null,
   "id": "d877816e",
   "metadata": {},
   "outputs": [],
   "source": [
    "import tracemalloc\n",
    "\n",
    "def calc_memory_consumption(func):\n",
    " \n",
    "    tracemalloc.start()\n",
    "    func()\n",
    "    start_memory, end_memory = tracemalloc.get_traced_memory()\n",
    "    print(end_memory - start_memory)\n",
    "    tracemalloc.stop()"
   ]
  },
  {
   "cell_type": "code",
   "execution_count": null,
   "id": "a2e2d9b6",
   "metadata": {},
   "outputs": [],
   "source": [
    "%time calc_memory(find_wopa_without_generator)\n",
    "\n",
    "%time calc_memory(find_wopa_with_generator)"
   ]
  }
 ],
 "metadata": {
  "kernelspec": {
   "display_name": "Python 3 (ipykernel)",
   "language": "python",
   "name": "python3"
  },
  "language_info": {
   "codemirror_mode": {
    "name": "ipython",
    "version": 3
   },
   "file_extension": ".py",
   "mimetype": "text/x-python",
   "name": "python",
   "nbconvert_exporter": "python",
   "pygments_lexer": "ipython3",
   "version": "3.11.2"
  }
 },
 "nbformat": 4,
 "nbformat_minor": 5
}
