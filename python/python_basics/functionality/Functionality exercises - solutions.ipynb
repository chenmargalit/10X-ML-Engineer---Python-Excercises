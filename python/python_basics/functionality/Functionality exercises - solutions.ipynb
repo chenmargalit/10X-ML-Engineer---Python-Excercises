{
 "cells": [
  {
   "cell_type": "markdown",
   "id": "44f7addc",
   "metadata": {},
   "source": [
    "# Exercise 1"
   ]
  },
  {
   "cell_type": "markdown",
   "id": "d1183b7f",
   "metadata": {},
   "source": [
    "Write a function that takes a list of scores and returns the average score."
   ]
  },
  {
   "cell_type": "code",
   "execution_count": 1,
   "id": "14e50bcb",
   "metadata": {},
   "outputs": [
    {
     "name": "stdout",
     "output_type": "stream",
     "text": [
      "The average score is: 90.0\n"
     ]
    }
   ],
   "source": [
    "def calculate_average_score(scores):\n",
    "    total = sum(scores)\n",
    "    average = total / len(scores)\n",
    "    return average\n",
    "\n",
    "scores = [85, 90, 88, 92, 95]\n",
    "average_score = calculate_average_score(scores)\n",
    "print(f\"The average score is: {average_score}\")"
   ]
  },
  {
   "cell_type": "markdown",
   "id": "74758c7d",
   "metadata": {},
   "source": [
    "# Exercise 2"
   ]
  },
  {
   "cell_type": "markdown",
   "id": "cf6cc4e6",
   "metadata": {},
   "source": [
    "Write a function that takes a distance in kilometers and returns the equivalent distance in miles (1 km is approximately 0.621371 miles)."
   ]
  },
  {
   "cell_type": "code",
   "execution_count": null,
   "id": "0c34dbed",
   "metadata": {},
   "outputs": [],
   "source": [
    "def km_to_miles(km):\n",
    "    miles = km * 0.621371\n",
    "    return miles\n",
    "\n",
    "distance_km = 10\n",
    "distance_miles = km_to_miles(distance_km)\n",
    "print(f\"{distance_km} kilometers is approximately {distance_miles:.2f} miles\")"
   ]
  },
  {
   "cell_type": "markdown",
   "id": "3bdc2f55",
   "metadata": {},
   "source": [
    "# Exercise 3"
   ]
  },
  {
   "cell_type": "markdown",
   "id": "5b6db6ab",
   "metadata": {},
   "source": [
    "Write a function that takes a player's age and returns True if the player is old enough to join a team (age 16 or older), otherwise returns False."
   ]
  },
  {
   "cell_type": "code",
   "execution_count": null,
   "id": "4cd2b0d7",
   "metadata": {},
   "outputs": [],
   "source": [
    "def is_eligible_for_team(age):\n",
    "    return age >= 16\n",
    "\n",
    "player_age = 18\n",
    "if is_eligible_for_team(player_age):\n",
    "    print(\"The player is eligible to join the team.\")\n",
    "else:\n",
    "    print(\"The player is not old enough to join the team.\")"
   ]
  },
  {
   "cell_type": "markdown",
   "id": "389e0f1a",
   "metadata": {},
   "source": [
    "# Exercise 4"
   ]
  },
  {
   "cell_type": "markdown",
   "id": "778ae305",
   "metadata": {},
   "source": [
    "Write a function that calculates the BMI of a person given their weight in kilograms and height in meters (BMI = weight / (height * height))."
   ]
  },
  {
   "cell_type": "code",
   "execution_count": null,
   "id": "5de170eb",
   "metadata": {},
   "outputs": [],
   "source": [
    "def calculate_bmi(weight_kg, height_m):\n",
    "    bmi = weight_kg / (height_m ** 2)\n",
    "    return bmi\n",
    "\n",
    "weight = 70\n",
    "height = 1.75\n",
    "bmi = calculate_bmi(weight, height)\n",
    "print(f\"The BMI is: {bmi:.2f}\")"
   ]
  },
  {
   "cell_type": "markdown",
   "id": "9fcb3212",
   "metadata": {},
   "source": [
    "# Exercise 5"
   ]
  },
  {
   "cell_type": "markdown",
   "id": "98a5fc22",
   "metadata": {},
   "source": [
    "Write a function that takes a year as input and returns True if it is a leap year, otherwise returns False (a leap year is divisible by 4, but not by 100 unless it is also divisible by 400)."
   ]
  },
  {
   "cell_type": "code",
   "execution_count": null,
   "id": "a723a42e",
   "metadata": {},
   "outputs": [],
   "source": [
    "def is_leap_year(year):\n",
    "    return (year % 4 == 0 and year % 100 != 0) or (year % 400 == 0)\n",
    "\n",
    "year = 2024\n",
    "if is_leap_year(year):\n",
    "    print(f\"{year} is a leap year.\")\n",
    "else:\n",
    "    print(f\"{year} is not a leap year.\")"
   ]
  }
 ],
 "metadata": {
  "kernelspec": {
   "display_name": "Python 3 (ipykernel)",
   "language": "python",
   "name": "python3"
  },
  "language_info": {
   "codemirror_mode": {
    "name": "ipython",
    "version": 3
   },
   "file_extension": ".py",
   "mimetype": "text/x-python",
   "name": "python",
   "nbconvert_exporter": "python",
   "pygments_lexer": "ipython3",
   "version": "3.11.2"
  }
 },
 "nbformat": 4,
 "nbformat_minor": 5
}
