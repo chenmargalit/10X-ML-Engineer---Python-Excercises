{
 "cells": [
  {
   "cell_type": "markdown",
   "id": "ed3a4eb0",
   "metadata": {},
   "source": [
    "In some of the following exercises you will have the knowledge on how to perform the action. On other's you wont. If you have no clue how to do something, look it up online and then do another example on your own. Its important to know how to find answers yourself as you'll be doing that quite a lot in real work"
   ]
  },
  {
   "cell_type": "markdown",
   "id": "7de91061",
   "metadata": {},
   "source": [
    "## Strings"
   ]
  },
  {
   "cell_type": "markdown",
   "id": "5b2f4215",
   "metadata": {},
   "source": [
    "A data structure that represents words in a way a human understands"
   ]
  },
  {
   "cell_type": "markdown",
   "id": "1b79cadc",
   "metadata": {},
   "source": [
    "Calculate the lenght of the string"
   ]
  },
  {
   "cell_type": "code",
   "execution_count": 2,
   "id": "7157e867",
   "metadata": {},
   "outputs": [],
   "source": [
    "string_to_calculate_length = 'its only difficult'"
   ]
  },
  {
   "cell_type": "code",
   "execution_count": 10,
   "id": "ab2feda2",
   "metadata": {},
   "outputs": [
    {
     "data": {
      "text/plain": [
       "18"
      ]
     },
     "execution_count": 10,
     "metadata": {},
     "output_type": "execute_result"
    }
   ],
   "source": [
    "len(string_to_calculate_length)"
   ]
  },
  {
   "cell_type": "markdown",
   "id": "5afbe8b9",
   "metadata": {},
   "source": [
    "Concatenate these two strings (e.g. turn 'aaa' 'bbb' to 'aaabbb'"
   ]
  },
  {
   "cell_type": "code",
   "execution_count": 11,
   "id": "f044be7e",
   "metadata": {},
   "outputs": [],
   "source": [
    "first_string = 'red'\n",
    "second_string = 'car'"
   ]
  },
  {
   "cell_type": "code",
   "execution_count": 12,
   "id": "048135ab",
   "metadata": {},
   "outputs": [
    {
     "data": {
      "text/plain": [
       "'redcar'"
      ]
     },
     "execution_count": 12,
     "metadata": {},
     "output_type": "execute_result"
    }
   ],
   "source": [
    "first_string + second_string"
   ]
  },
  {
   "cell_type": "markdown",
   "id": "aad1c3f3",
   "metadata": {},
   "source": [
    "Print a string's first 3 chars"
   ]
  },
  {
   "cell_type": "code",
   "execution_count": 13,
   "id": "b3ade714",
   "metadata": {},
   "outputs": [],
   "source": [
    "first_three_chars_str = 'at the start'"
   ]
  },
  {
   "cell_type": "code",
   "execution_count": 17,
   "id": "e3ce45a1",
   "metadata": {},
   "outputs": [
    {
     "name": "stdout",
     "output_type": "stream",
     "text": [
      "at th\n"
     ]
    }
   ],
   "source": [
    "print(first_three_chars_str[:5])"
   ]
  },
  {
   "cell_type": "markdown",
   "id": "7166bd07",
   "metadata": {},
   "source": [
    "## Lists"
   ]
  },
  {
   "cell_type": "markdown",
   "id": "f3ff09f4",
   "metadata": {},
   "source": [
    "A data structure that can hold any number of different items. Lists are mutable, meaning you can replace any of its values."
   ]
  },
  {
   "cell_type": "markdown",
   "id": "604797bd",
   "metadata": {},
   "source": [
    "Mutability - let's say you have a list, with 3 items. You can take the second item and change its value. If you find this is obvious, its not. Some other data structures are mutable. The advantage of being mutable is that you are more flexible. In some cases its also more memory efficient because changing a value doesn't mean reassigning the data structure in a different place in memory. On the other hand, something that is flexible is less predictable. If you can't change it, it means you know for sure the same value you put is there. This makes immutable data structure better suited for tasks like being keys in hash functions and multithreaded work (which we will talk about in some time).|"
   ]
  },
  {
   "cell_type": "markdown",
   "id": "a796a890",
   "metadata": {},
   "source": [
    "Lets continue with 2 exercises using lists."
   ]
  },
  {
   "cell_type": "markdown",
   "id": "a65c9409",
   "metadata": {},
   "source": [
    "1. Create a list that contains names of a few fruits. At least 4.\n",
    "2. Add a new fruit to the list.\n",
    "3. Remove the first fruit from the list.\n",
    "4. Print the modified list."
   ]
  },
  {
   "cell_type": "code",
   "execution_count": 24,
   "id": "defbae66",
   "metadata": {},
   "outputs": [],
   "source": [
    "fruits_list = ['apple', 'banana', 'orange', 'grapes']"
   ]
  },
  {
   "cell_type": "markdown",
   "id": "7b23686b",
   "metadata": {},
   "source": [
    "Change the 3rd item to be something else"
   ]
  },
  {
   "cell_type": "code",
   "execution_count": 30,
   "id": "8daf3122",
   "metadata": {},
   "outputs": [],
   "source": [
    "fruits_list[2] = 'wopa'"
   ]
  },
  {
   "cell_type": "code",
   "execution_count": 31,
   "id": "7e860c33",
   "metadata": {},
   "outputs": [
    {
     "data": {
      "text/plain": [
       "['banana', 'orange', 'wopa', 'esperagus']"
      ]
     },
     "execution_count": 31,
     "metadata": {},
     "output_type": "execute_result"
    }
   ],
   "source": [
    "fruits_list"
   ]
  },
  {
   "cell_type": "markdown",
   "id": "3921508b",
   "metadata": {},
   "source": [
    "## Tuples"
   ]
  },
  {
   "cell_type": "markdown",
   "id": "7a2954c2",
   "metadata": {},
   "source": [
    "A data structure that can hold any number of different items. Tuples are immutable, meaning you cant replace any of its values."
   ]
  },
  {
   "cell_type": "markdown",
   "id": "efd96d53",
   "metadata": {},
   "source": [
    "1. Create a tuple of a few fruits with at least 4.\n",
    "2. Add a new fruit to the tuple. \n",
    "\n",
    "Were you able to keep the same tuple? or is it a new one now? how could you verify this?"
   ]
  },
  {
   "cell_type": "code",
   "execution_count": 32,
   "id": "6d2baac8",
   "metadata": {},
   "outputs": [],
   "source": [
    "fruits_tuple = ('apple', 'banana', 'grapes')"
   ]
  },
  {
   "cell_type": "code",
   "execution_count": 38,
   "id": "fce5b67b",
   "metadata": {
    "scrolled": false
   },
   "outputs": [
    {
     "data": {
      "text/plain": [
       "('apple', 'banana', 'grapes', 'esperagus')"
      ]
     },
     "execution_count": 38,
     "metadata": {},
     "output_type": "execute_result"
    }
   ],
   "source": [
    "fruits_tuple + ('esperagus',)"
   ]
  },
  {
   "cell_type": "code",
   "execution_count": 39,
   "id": "b75f6a54",
   "metadata": {},
   "outputs": [
    {
     "data": {
      "text/plain": [
       "('apple', 'banana', 'grapes')"
      ]
     },
     "execution_count": 39,
     "metadata": {},
     "output_type": "execute_result"
    }
   ],
   "source": [
    "fruits_tuple"
   ]
  },
  {
   "cell_type": "markdown",
   "id": "9afc6338",
   "metadata": {},
   "source": [
    "## Sets"
   ]
  },
  {
   "cell_type": "markdown",
   "id": "75effcec",
   "metadata": {},
   "source": [
    "Create a set with duplicated numbers (e.g. {1, 4, -5, 1, 2, 4})\n",
    "print the set. Did you notice any change?"
   ]
  },
  {
   "cell_type": "markdown",
   "id": "59c52e10",
   "metadata": {},
   "source": [
    "Random numbers is a list of random numbers from 1 to 10. Turn it into a set."
   ]
  },
  {
   "cell_type": "code",
   "execution_count": 43,
   "id": "fa575fde",
   "metadata": {},
   "outputs": [],
   "source": [
    "import random\n",
    "random_numbers = [random.randint(1, 10) for _ in range(10)]"
   ]
  },
  {
   "cell_type": "code",
   "execution_count": 45,
   "id": "1d2b11eb",
   "metadata": {},
   "outputs": [
    {
     "data": {
      "text/plain": [
       "{1, 2, 3, 4, 7}"
      ]
     },
     "execution_count": 45,
     "metadata": {},
     "output_type": "execute_result"
    }
   ],
   "source": [
    "set(random_numbers)"
   ]
  },
  {
   "cell_type": "markdown",
   "id": "83feeef2",
   "metadata": {},
   "source": [
    "## Dict"
   ]
  },
  {
   "cell_type": "markdown",
   "id": "e3aef896",
   "metadata": {},
   "source": [
    "Generate a dict with a few key and value pairs"
   ]
  },
  {
   "cell_type": "code",
   "execution_count": 51,
   "id": "b10e1ad5",
   "metadata": {},
   "outputs": [],
   "source": [
    "example_dict = {'fruit_name1': 'banana', 'fruit_name2': 'apple'}"
   ]
  },
  {
   "cell_type": "markdown",
   "id": "2c1470cd",
   "metadata": {},
   "source": [
    "print all the dict's keys"
   ]
  },
  {
   "cell_type": "code",
   "execution_count": 52,
   "id": "91b0e52c",
   "metadata": {},
   "outputs": [
    {
     "data": {
      "text/plain": [
       "dict_keys(['fruit_name1', 'fruit_name2'])"
      ]
     },
     "execution_count": 52,
     "metadata": {},
     "output_type": "execute_result"
    }
   ],
   "source": [
    "example_dict.keys()"
   ]
  },
  {
   "cell_type": "markdown",
   "id": "c58e1c81",
   "metadata": {},
   "source": [
    "print all the dict's values"
   ]
  },
  {
   "cell_type": "code",
   "execution_count": 53,
   "id": "bb049d68",
   "metadata": {},
   "outputs": [
    {
     "data": {
      "text/plain": [
       "dict_values(['banana', 'apple'])"
      ]
     },
     "execution_count": 53,
     "metadata": {},
     "output_type": "execute_result"
    }
   ],
   "source": [
    "example_dict.values()"
   ]
  },
  {
   "cell_type": "markdown",
   "id": "c2ba4851",
   "metadata": {},
   "source": [
    "## Bool"
   ]
  },
  {
   "cell_type": "markdown",
   "id": "c05b5fd6",
   "metadata": {},
   "source": [
    "Generate a mathematical statement that is True and store it in a variable. Print the variable."
   ]
  },
  {
   "cell_type": "code",
   "execution_count": 57,
   "id": "1f505154",
   "metadata": {},
   "outputs": [
    {
     "data": {
      "text/plain": [
       "True"
      ]
     },
     "execution_count": 57,
     "metadata": {},
     "output_type": "execute_result"
    }
   ],
   "source": [
    "some_true_statement = 3 > 2\n",
    "some_true_statement"
   ]
  },
  {
   "cell_type": "markdown",
   "id": "b8c0f3b9",
   "metadata": {},
   "source": [
    "Generate a mathematical statement that is False. Print the variable."
   ]
  },
  {
   "cell_type": "code",
   "execution_count": 58,
   "id": "dfe0554b",
   "metadata": {},
   "outputs": [
    {
     "data": {
      "text/plain": [
       "False"
      ]
     },
     "execution_count": 58,
     "metadata": {},
     "output_type": "execute_result"
    }
   ],
   "source": [
    "some_false_statement = 2 > 3\n",
    "some_false_statement"
   ]
  },
  {
   "cell_type": "code",
   "execution_count": 61,
   "id": "af8c64f3",
   "metadata": {},
   "outputs": [
    {
     "data": {
      "text/plain": [
       "False"
      ]
     },
     "execution_count": 61,
     "metadata": {},
     "output_type": "execute_result"
    }
   ],
   "source": [
    "some_false_statement is True"
   ]
  },
  {
   "cell_type": "markdown",
   "id": "d9b71da0",
   "metadata": {},
   "source": [
    "## None"
   ]
  },
  {
   "cell_type": "markdown",
   "id": "96ff1e82",
   "metadata": {},
   "source": [
    "Enter something for the user input and check if user input is None."
   ]
  },
  {
   "cell_type": "code",
   "execution_count": 71,
   "id": "0ab5e9fa",
   "metadata": {},
   "outputs": [
    {
     "name": "stdout",
     "output_type": "stream",
     "text": [
      "Enter something: wopa\n"
     ]
    }
   ],
   "source": [
    "user_input = input(\"Enter something: \")"
   ]
  },
  {
   "cell_type": "code",
   "execution_count": 72,
   "id": "1a436b9c",
   "metadata": {},
   "outputs": [
    {
     "name": "stdout",
     "output_type": "stream",
     "text": [
      "Enter something: wopa\n"
     ]
    },
    {
     "data": {
      "text/plain": [
       "'wopa'"
      ]
     },
     "execution_count": 72,
     "metadata": {},
     "output_type": "execute_result"
    }
   ],
   "source": [
    "input(\"Enter something: \")"
   ]
  },
  {
   "cell_type": "code",
   "execution_count": null,
   "id": "3f6300e0",
   "metadata": {},
   "outputs": [],
   "source": []
  },
  {
   "cell_type": "code",
   "execution_count": null,
   "id": "4400e654",
   "metadata": {},
   "outputs": [],
   "source": []
  },
  {
   "cell_type": "code",
   "execution_count": null,
   "id": "d464258c",
   "metadata": {},
   "outputs": [],
   "source": []
  },
  {
   "cell_type": "code",
   "execution_count": null,
   "id": "f045a600",
   "metadata": {},
   "outputs": [],
   "source": []
  },
  {
   "cell_type": "code",
   "execution_count": 65,
   "id": "c6bd6218",
   "metadata": {},
   "outputs": [
    {
     "data": {
      "text/plain": [
       "False"
      ]
     },
     "execution_count": 65,
     "metadata": {},
     "output_type": "execute_result"
    }
   ],
   "source": [
    "type(user_input) is None"
   ]
  },
  {
   "cell_type": "code",
   "execution_count": 66,
   "id": "a834d4a3",
   "metadata": {},
   "outputs": [],
   "source": [
    "some_none_var = None"
   ]
  },
  {
   "cell_type": "code",
   "execution_count": 67,
   "id": "81f124c7",
   "metadata": {},
   "outputs": [
    {
     "data": {
      "text/plain": [
       "True"
      ]
     },
     "execution_count": 67,
     "metadata": {},
     "output_type": "execute_result"
    }
   ],
   "source": [
    "some_none_var is None"
   ]
  },
  {
   "cell_type": "markdown",
   "id": "fb5765b0",
   "metadata": {},
   "source": [
    "What is the data structure of user_input?"
   ]
  },
  {
   "cell_type": "markdown",
   "id": "e0eed615",
   "metadata": {},
   "source": [
    "### What data structure should you use in which usecase?"
   ]
  },
  {
   "cell_type": "markdown",
   "id": "9a1ee0ae",
   "metadata": {},
   "source": [
    "Well, you can usually use a few for the same use case, but there are things which are more and less obvious.\n",
    "\n",
    "int - when you need whole numbers, for example when you want to calculate something or do any kind of arithmetic operation (addition, subtraction, etc.)\n",
    "\n",
    "float - Same as int, but if you need precise numbers, you don't want Python to round numbers for you (which it will in the case of an int)\n",
    "\n",
    "list - When you have a set of items you want to iterate over conveniently.\n",
    "\n",
    "str - When you want to hold a word, or something that is better represented as a word\n",
    "\n",
    "tuple - Same as list, but for immutable data. If you know you won't be changing anything inside.\n",
    "\n",
    "set - When you want to make sure you have a collection of unique elements.\n",
    "\n",
    "dict - When the data is better represented as a key:value pair. Where there is a connection between the key and value\n",
    "\n",
    "bool - When it makes sense to describe data as True or False.\n",
    "\n",
    "None - When you explicitly want to state that this variable as no value, or better stated - a None value.\n",
    "\n",
    "Please note - this is by no means a set of strict rules, only a very high level introductory to the uses of data structures"
   ]
  },
  {
   "cell_type": "code",
   "execution_count": null,
   "id": "39562f80",
   "metadata": {},
   "outputs": [],
   "source": []
  },
  {
   "cell_type": "code",
   "execution_count": null,
   "id": "d9f6bdf0",
   "metadata": {},
   "outputs": [],
   "source": []
  },
  {
   "cell_type": "code",
   "execution_count": null,
   "id": "de498ab1",
   "metadata": {},
   "outputs": [],
   "source": []
  },
  {
   "cell_type": "code",
   "execution_count": null,
   "id": "f3ca4ca7",
   "metadata": {},
   "outputs": [],
   "source": []
  },
  {
   "cell_type": "code",
   "execution_count": null,
   "id": "0b7425da",
   "metadata": {},
   "outputs": [],
   "source": []
  }
 ],
 "metadata": {
  "kernelspec": {
   "display_name": "Python 3 (ipykernel)",
   "language": "python",
   "name": "python3"
  },
  "language_info": {
   "codemirror_mode": {
    "name": "ipython",
    "version": 3
   },
   "file_extension": ".py",
   "mimetype": "text/x-python",
   "name": "python",
   "nbconvert_exporter": "python",
   "pygments_lexer": "ipython3",
   "version": "3.11.2"
  }
 },
 "nbformat": 4,
 "nbformat_minor": 5
}
