{
 "cells": [
  {
   "cell_type": "markdown",
   "id": "989b4a30",
   "metadata": {},
   "source": [
    "# Final Exercise"
   ]
  },
  {
   "cell_type": "markdown",
   "id": "56d743a4",
   "metadata": {},
   "source": [
    "Create a movie theater handler class. In the theater you can have how many rooms you want, each should present a different movie, of a different genre, with different length etc. In this theater you can sell and buy tickets (as long as there are remaining tickets to be bought). \n",
    "\n",
    "Bonus: You can also buy a \"chance ticket\". A chance ticket is only offered when there are no more tickets left, it costs 50% of the price, and it works like that:\n",
    "You choose a number between 1 and 10. Every 10 seconds a random integer is being generated. If it's your number, you can enter. If it's not, you can't. You only get 5 turns to try."
   ]
  },
  {
   "cell_type": "markdown",
   "id": "d33680fb",
   "metadata": {},
   "source": [
    "## solution"
   ]
  },
  {
   "cell_type": "code",
   "execution_count": 17,
   "id": "4e6ff4aa",
   "metadata": {},
   "outputs": [],
   "source": [
    "class Room:\n",
    "    \n",
    "    def __init__(self, name, genre, movie_length, room_number, room_size = 20):\n",
    "        self.name = name\n",
    "        self.genre = genre\n",
    "        self.movie_length = movie_length\n",
    "        self.room_number = room_number\n",
    "        self.room_size = room_size\n",
    "        self.tickets_left = room_size\n",
    "        \n",
    "    def __str__(self):\n",
    "        return f'in room {self.room_number} the movie that is presenting is {self.name}. Its length is {self.movie_length} and is of the {self.genre} genre'\n"
   ]
  },
  {
   "cell_type": "code",
   "execution_count": 18,
   "id": "d9453e48",
   "metadata": {},
   "outputs": [],
   "source": [
    "class User:\n",
    "    \n",
    "    def __init__(self,name, money):\n",
    "        self.name = name\n",
    "        self.money = 100\n",
    "        self.tickets = {}               "
   ]
  },
  {
   "cell_type": "code",
   "execution_count": 19,
   "id": "23ab735d",
   "metadata": {},
   "outputs": [],
   "source": [
    "alice = User('Alice', 100)\n",
    "bob = User('Bob', 10)\n",
    "carol = User('Carol', 40)"
   ]
  },
  {
   "cell_type": "code",
   "execution_count": 20,
   "id": "9beb100d",
   "metadata": {},
   "outputs": [],
   "source": [
    "lotr_room = Room('LOTR', 'Reality', 180, 40)\n",
    "shaw_room = Room('Shawshank Redemption', 'Drama', 154, 10)\n",
    "inception_room = Room('Inception', 'Sci-Fi', 148, 100)\n",
    "god_father_room = Room('The Godfather', 'Crime', 175, 30)"
   ]
  },
  {
   "cell_type": "code",
   "execution_count": 43,
   "id": "d19a286b",
   "metadata": {},
   "outputs": [
    {
     "name": "stdout",
     "output_type": "stream",
     "text": [
      "continuing\n",
      "continuing\n",
      "continuing\n",
      "continuing\n",
      "can enter\n"
     ]
    }
   ],
   "source": [
    "class TheaterHandler:\n",
    "    \n",
    "    def __init__(self, num_rooms=4):\n",
    "        self.num_rooms = num_rooms\n",
    "        self.users = [alice, bob, carol]\n",
    "        self.rooms = [lotr_room, shaw_room, inception_room, god_father_room]\n",
    "        \n",
    "        \n",
    "        \n",
    "    def sell_ticket(self, user_name, movie_name, price):\n",
    "        \n",
    "        user = self.return_user(user_name)\n",
    "        user_money_left = user.money\n",
    "\n",
    "        if user_money_left >= price:\n",
    "            user.money -= price\n",
    "            if movie_name in user.tickets:\n",
    "                user.tickets[movie_name] +=1\n",
    "            else:\n",
    "                user.tickets[movie_name] = 1\n",
    "        else:\n",
    "            print('Show me the money')\n",
    "        \n",
    "        for room in self.rooms:\n",
    "            if movie_name == room.name:\n",
    "                room.tickets_left -=1\n",
    "                \n",
    "    def return_user(self, user_name):\n",
    "        for user in self.users:\n",
    "            if user.name == user_name:\n",
    "                return user\n",
    "            \n",
    "    def return_room_by_movie(self, movie_name):\n",
    "        for room in self.rooms:\n",
    "            if room.name == movie_name:\n",
    "                return room\n",
    "                \n",
    "    def buy_ticket(self, user_name, movie_name, price=5):\n",
    "        if price > 5:\n",
    "            print('Crazy price, not buying this')\n",
    "        else:\n",
    "            user = self.return_user(user_name)\n",
    "            if movie_name in user.tickets and user.tickets[movie_name] >=1:\n",
    "                room_presenting_movie = self.return_room_by_movie(movie_name)\n",
    "                room_presenting_movie.tickets_left +=1\n",
    "                user.money += price\n",
    "                user.tickets[movie_name] -=1\n",
    "            else:\n",
    "                print('you cant sell what you dont have')"
   ]
  },
  {
   "cell_type": "code",
   "execution_count": 24,
   "id": "72459869",
   "metadata": {},
   "outputs": [],
   "source": [
    "t = TheaterHandler()"
   ]
  },
  {
   "cell_type": "code",
   "execution_count": 28,
   "id": "533e02f9",
   "metadata": {},
   "outputs": [],
   "source": [
    "t.sell_ticket('Alice', 'LOTR', 10)"
   ]
  },
  {
   "cell_type": "code",
   "execution_count": 34,
   "id": "194aa3b3",
   "metadata": {},
   "outputs": [
    {
     "name": "stdout",
     "output_type": "stream",
     "text": [
      "Crazy price, not buying this\n"
     ]
    }
   ],
   "source": [
    "t.buy_ticket('Alice', 'LOTR', 100)"
   ]
  },
  {
   "cell_type": "code",
   "execution_count": 35,
   "id": "2085a43a",
   "metadata": {},
   "outputs": [
    {
     "data": {
      "text/plain": [
       "85"
      ]
     },
     "execution_count": 35,
     "metadata": {},
     "output_type": "execute_result"
    }
   ],
   "source": [
    "alice.money"
   ]
  },
  {
   "cell_type": "code",
   "execution_count": 36,
   "id": "de48f6c7",
   "metadata": {},
   "outputs": [
    {
     "data": {
      "text/plain": [
       "{'LOTR': 1}"
      ]
     },
     "execution_count": 36,
     "metadata": {},
     "output_type": "execute_result"
    }
   ],
   "source": [
    "alice.tickets"
   ]
  },
  {
   "cell_type": "markdown",
   "id": "158cb216",
   "metadata": {},
   "source": [
    "## Intermediate difficulty"
   ]
  },
  {
   "cell_type": "markdown",
   "id": "94bf1ea4",
   "metadata": {},
   "source": [
    "Create a Python program that models a sports league management system. The system should include the following classes:\n",
    "\n",
    "1. SportsLeague: A base class representing a sports league. It should have attributes name, sport, and teams (a list of Team instances in the league). Implement methods to add a team to the league, remove a team from the league, and get the number of teams in the league.\n",
    "\n",
    "2. Team: A class representing a team in the league. It should include attributes name, city, players (a list of Player instances in the team), and captain (an instance of Player who is the team's captain). Implement methods to add a player to the team, remove a player from the team, and set the captain of the team.\n",
    "\n",
    "3. Player: A class representing a player. It should include attributes name, age, and position. Implement a method to get the player's details as a string.\n",
    "\n",
    "4. FootballLeague: A subclass of SportsLeague representing a football league. Implement a class method to get the total number of goals scored by all teams in the league.\n",
    "\n",
    "5. BasketballLeague: A subclass of SportsLeague representing a basketball league. Implement a static method to check if a given team name contains the city name."
   ]
  },
  {
   "cell_type": "code",
   "execution_count": null,
   "id": "eb22b146",
   "metadata": {},
   "outputs": [],
   "source": []
  }
 ],
 "metadata": {
  "kernelspec": {
   "display_name": "all_purpose_venv",
   "language": "python",
   "name": "all_purpose_venv"
  },
  "language_info": {
   "codemirror_mode": {
    "name": "ipython",
    "version": 3
   },
   "file_extension": ".py",
   "mimetype": "text/x-python",
   "name": "python",
   "nbconvert_exporter": "python",
   "pygments_lexer": "ipython3",
   "version": "3.11.2"
  }
 },
 "nbformat": 4,
 "nbformat_minor": 5
}
