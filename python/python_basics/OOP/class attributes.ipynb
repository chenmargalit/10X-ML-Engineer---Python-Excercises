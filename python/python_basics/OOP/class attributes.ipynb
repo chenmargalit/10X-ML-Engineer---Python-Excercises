{
 "cells": [
  {
   "cell_type": "code",
   "execution_count": 29,
   "id": "af2e7a41",
   "metadata": {},
   "outputs": [],
   "source": [
    "class TeslaCar:\n",
    "    \n",
    "    num_tesla_cars_sold = 0\n",
    "    \n",
    "    def __init__(self, model, type_, price ):\n",
    "        self.model = model\n",
    "        self.type_ = type_\n",
    "        self.price = price\n",
    "        \n",
    "    def print_how_many_instances_bought(self):\n",
    "        print(self.num_tesla_cars_sold)\n",
    "        \n",
    "    def buy_tesla(self):\n",
    "        self.num_tesla_cars_sold +=1                "
   ]
  },
  {
   "cell_type": "markdown",
   "id": "a7002ad3",
   "metadata": {},
   "source": [
    "TeslaCar is a class, it's a cars factory. There is only once class like that."
   ]
  },
  {
   "cell_type": "code",
   "execution_count": 38,
   "id": "59a0702d",
   "metadata": {},
   "outputs": [],
   "source": [
    "tesla_car_instance1 = TeslaCar('x', 'electric', 100)\n",
    "tesla_car_instance2 = TeslaCar('s', 'electric', 200)"
   ]
  },
  {
   "cell_type": "markdown",
   "id": "88136385",
   "metadata": {},
   "source": [
    "tesla_car_isntance1 and tesla_car_instance_2 are instances. There are currently two instances, two cars that came out of the same factory. "
   ]
  },
  {
   "cell_type": "markdown",
   "id": "f8968f8e",
   "metadata": {},
   "source": [
    "## A Story About Mona Lisa"
   ]
  },
  {
   "cell_type": "markdown",
   "id": "0fbfb991",
   "metadata": {},
   "source": [
    "Let's say I want you to see the Mona Lisa, it has to be exactly the same as the original one, every inch, it must\n",
    "look identical. Python can either give me the original copy, the one De Vinci made, or it can also just copy it perfectly. Let's assume it can copy it 100% to the last detail. Exactly the same, but now I have two of these.\n",
    "If I destroy one, it won't affect the other.\n",
    "\n",
    "To summarize, one approach - creating an exact copy. Second approach, letting me use the original one."
   ]
  },
  {
   "cell_type": "markdown",
   "id": "e7cd1850",
   "metadata": {},
   "source": [
    "This two ways of presenting the Mona Lisa is the way computer software treats variables. I won't go deep into this but let's say I have the stirng wopa and I assign it to a variable called a. I do this again and I assign the new wopa to a variable named b"
   ]
  },
  {
   "cell_type": "code",
   "execution_count": 31,
   "id": "668a1cb1",
   "metadata": {},
   "outputs": [],
   "source": [
    "a = 'wopa'"
   ]
  },
  {
   "cell_type": "code",
   "execution_count": 32,
   "id": "48a60e07",
   "metadata": {},
   "outputs": [],
   "source": [
    "b = 'wopa'"
   ]
  },
  {
   "cell_type": "markdown",
   "id": "ba7e4d0f",
   "metadata": {},
   "source": [
    "In this case, as I will soon prove to you, Python has decided there will be only one wopa in the world, both a and b will use the same wopa. The same mona lisa. There will be only one place in the RAM (computer memory) where wopa is stored. \n",
    "\n",
    "How do I know that?"
   ]
  },
  {
   "cell_type": "markdown",
   "id": "bfba0794",
   "metadata": {},
   "source": [
    "id is a Python built in function that assigns a unique number to every Python object. I give it a Python object \n",
    "(varialbe, number, stirng, class, whatever) and it assigns it a unique id. No other varialbe will have the same id\n",
    "as long as the old id is taken by another varialbe unless its the same variable!.\n",
    "\n",
    "If Python has decided to make a copy of wopa, there will be two different ids. If its the same one, same original Mona Lisa, I will get the same id."
   ]
  },
  {
   "cell_type": "code",
   "execution_count": 33,
   "id": "f21e6705",
   "metadata": {},
   "outputs": [
    {
     "data": {
      "text/plain": [
       "(4374222064, 4374222064)"
      ]
     },
     "execution_count": 33,
     "metadata": {},
     "output_type": "execute_result"
    }
   ],
   "source": [
    "id(a), id(b)"
   ]
  },
  {
   "cell_type": "markdown",
   "id": "556b603e",
   "metadata": {},
   "source": [
    "Both a and b have the same exact id. It's one varialbe, exact copy. This isn't obvious as with other data structures (like list), Python decides to act differently. It creates a copy, giving me two identical objects, but separate ones. Change one, it won't affect the other."
   ]
  },
  {
   "cell_type": "code",
   "execution_count": 34,
   "id": "16888b70",
   "metadata": {},
   "outputs": [],
   "source": [
    "some_list = [1,2,3]"
   ]
  },
  {
   "cell_type": "code",
   "execution_count": 35,
   "id": "e5502c79",
   "metadata": {},
   "outputs": [],
   "source": [
    "some_list2 = [1,2,3]"
   ]
  },
  {
   "cell_type": "code",
   "execution_count": 36,
   "id": "d7cb7e90",
   "metadata": {},
   "outputs": [
    {
     "data": {
      "text/plain": [
       "(4397112000, 4374196608)"
      ]
     },
     "execution_count": 36,
     "metadata": {},
     "output_type": "execute_result"
    }
   ],
   "source": [
    "id(some_list), id(some_list2)"
   ]
  },
  {
   "cell_type": "code",
   "execution_count": 37,
   "id": "173087f1",
   "metadata": {},
   "outputs": [
    {
     "data": {
      "text/plain": [
       "False"
      ]
     },
     "execution_count": 37,
     "metadata": {},
     "output_type": "execute_result"
    }
   ],
   "source": [
    "id(some_list) == id(some_list2)"
   ]
  },
  {
   "cell_type": "markdown",
   "id": "fb5eb4d5",
   "metadata": {},
   "source": [
    "# Back to Tesla"
   ]
  },
  {
   "cell_type": "code",
   "execution_count": 39,
   "id": "849f58be",
   "metadata": {},
   "outputs": [
    {
     "data": {
      "text/plain": [
       "(4400514064, 4400521616)"
      ]
     },
     "execution_count": 39,
     "metadata": {},
     "output_type": "execute_result"
    }
   ],
   "source": [
    "id(tesla_car_instance1), id(tesla_car_instance2)"
   ]
  },
  {
   "cell_type": "markdown",
   "id": "9201f02c",
   "metadata": {},
   "source": [
    "The ids are different. You already know what this means. Python has created a copy, it's not the same. In our specific case its obvious that it's not the same because each instance got different attributes (model and price). Nonetheless, even if it were the exact same, the two instances would still get different ids as they are two different objects."
   ]
  },
  {
   "cell_type": "code",
   "execution_count": 40,
   "id": "2a595696",
   "metadata": {},
   "outputs": [
    {
     "name": "stdout",
     "output_type": "stream",
     "text": [
      "0\n"
     ]
    }
   ],
   "source": [
    "tesla_car_instance1.print_how_many_instances_bought()"
   ]
  },
  {
   "cell_type": "code",
   "execution_count": 41,
   "id": "b84aa2d4",
   "metadata": {},
   "outputs": [
    {
     "name": "stdout",
     "output_type": "stream",
     "text": [
      "0\n"
     ]
    }
   ],
   "source": [
    "tesla_car_instance2.print_how_many_instances_bought()"
   ]
  },
  {
   "cell_type": "markdown",
   "id": "f8b4af94",
   "metadata": {},
   "source": [
    "When we created the instance, we created it with a method named print_how_many_instances_bought. This method\n",
    "prints the self (instance) attribute, num_tesla_cars sold. It's not the same attribute of the class \n",
    "itself, its a property of the instance, not the class."
   ]
  },
  {
   "cell_type": "markdown",
   "id": "ee6c4dfd",
   "metadata": {},
   "source": [
    "If I now buy a tesla on instance1, the method as you can see in the class definition, uses self. It will only affect self, e.g. the instance. Instance2 will not be affected, the class itself will not be affected."
   ]
  },
  {
   "cell_type": "code",
   "execution_count": 42,
   "id": "31eeb120",
   "metadata": {},
   "outputs": [],
   "source": [
    "tesla_car_instance1.buy_tesla()"
   ]
  },
  {
   "cell_type": "code",
   "execution_count": 45,
   "id": "984e2f61",
   "metadata": {},
   "outputs": [
    {
     "name": "stdout",
     "output_type": "stream",
     "text": [
      "1\n"
     ]
    }
   ],
   "source": [
    "tesla_car_instance1.print_how_many_instances_bought()"
   ]
  },
  {
   "cell_type": "code",
   "execution_count": 46,
   "id": "f9ee2011",
   "metadata": {},
   "outputs": [
    {
     "name": "stdout",
     "output_type": "stream",
     "text": [
      "0\n"
     ]
    }
   ],
   "source": [
    "tesla_car_instance2.print_how_many_instances_bought()"
   ]
  },
  {
   "cell_type": "code",
   "execution_count": 47,
   "id": "1aad6ef8",
   "metadata": {},
   "outputs": [
    {
     "data": {
      "text/plain": [
       "0"
      ]
     },
     "execution_count": 47,
     "metadata": {},
     "output_type": "execute_result"
    }
   ],
   "source": [
    "TeslaCar.num_tesla_cars_sold"
   ]
  },
  {
   "cell_type": "markdown",
   "id": "6b4bcf64",
   "metadata": {},
   "source": [
    "If I would somehow change the class attribute itself, not the instance copy, it would change in all instances,\n",
    "not only in the specific instance. Perhaps, this is something I want. For example I want to keep track of the number of Teslas sold. I create countless instances of TeslaCar throughout my code, some of those instances run the \n",
    "buy_tesla method, and I want to be able to keep track of this on every instance. In other words, I want the instance to be able to affect the class itself, the original attribute, so its shared across all instances. \n",
    "I want to have the ability, on every instance, to say that if the number of Tesla sold (across all instances), \n",
    "is more than x, then do y."
   ]
  },
  {
   "cell_type": "markdown",
   "id": "e6c55afd",
   "metadata": {},
   "source": [
    "Remember, although instance1 and instance2 are complete different objects, both of them are created by TeslaCar, which is the same exact object which exists only once."
   ]
  },
  {
   "cell_type": "code",
   "execution_count": 48,
   "id": "17eb4e45",
   "metadata": {},
   "outputs": [
    {
     "data": {
      "text/plain": [
       "__main__.TeslaCar"
      ]
     },
     "execution_count": 48,
     "metadata": {},
     "output_type": "execute_result"
    }
   ],
   "source": [
    "tesla_car_instance1.__class__"
   ]
  },
  {
   "cell_type": "code",
   "execution_count": 49,
   "id": "59b5960e",
   "metadata": {},
   "outputs": [
    {
     "data": {
      "text/plain": [
       "True"
      ]
     },
     "execution_count": 49,
     "metadata": {},
     "output_type": "execute_result"
    }
   ],
   "source": [
    "id(tesla_car_instance1.__class__) == id(tesla_car_instance2.__class__)"
   ]
  },
  {
   "cell_type": "markdown",
   "id": "fe8b9619",
   "metadata": {},
   "source": [
    "To do that, I need to give the instance, the ability to affect the class, the original attribute, not the instance.\n",
    "Please welcome, @classmethod. A @classmethod gives the instance access to the class itself, to the class attribute,\n",
    "and thus gives it (the instance) the ability to change the class itself, which will be reflected in all instances."
   ]
  },
  {
   "cell_type": "code",
   "execution_count": 57,
   "id": "6c092b76",
   "metadata": {},
   "outputs": [],
   "source": [
    "class TeslaCar:\n",
    "    \n",
    "    num_tesla_cars_sold = 0\n",
    "    \n",
    "    def __init__(self, model, type_, price ):\n",
    "        self.model = model\n",
    "        self.type_ = type_\n",
    "        self.price = price\n",
    "        \n",
    "    def print_how_many_instances_bought(self):\n",
    "        print(self.num_tesla_cars_sold)\n",
    "        \n",
    "    def buy_tesla(self):\n",
    "        self.num_tesla_cars_sold +=1\n",
    "        \n",
    "    @classmethod\n",
    "    def buy_tesla_through_class(cls):\n",
    "        cls.num_tesla_cars_sold +=10\n",
    "                "
   ]
  },
  {
   "cell_type": "code",
   "execution_count": 58,
   "id": "9b57313a",
   "metadata": {},
   "outputs": [],
   "source": [
    "tesla_car_instance1 = TeslaCar('x', 'electric', 100)\n",
    "tesla_car_instance2 = TeslaCar('s', 'electric', 200)"
   ]
  },
  {
   "cell_type": "markdown",
   "id": "542eb19d",
   "metadata": {},
   "source": [
    "Nothing changed in this front, those are still 2 different objects."
   ]
  },
  {
   "cell_type": "code",
   "execution_count": 59,
   "id": "01c55f32",
   "metadata": {},
   "outputs": [
    {
     "data": {
      "text/plain": [
       "False"
      ]
     },
     "execution_count": 59,
     "metadata": {},
     "output_type": "execute_result"
    }
   ],
   "source": [
    "id(tesla_car_instance1) == id(tesla_car_instance2)"
   ]
  },
  {
   "cell_type": "markdown",
   "id": "82e2120d",
   "metadata": {},
   "source": [
    "The difference is that now, the buy_tesla_through_class is a much stronger method than buy_tesla, as it affects all instances."
   ]
  },
  {
   "cell_type": "markdown",
   "id": "c52b67f1",
   "metadata": {},
   "source": [
    "Both instances have 0 cars sold"
   ]
  },
  {
   "cell_type": "code",
   "execution_count": 60,
   "id": "70f2f86a",
   "metadata": {},
   "outputs": [
    {
     "data": {
      "text/plain": [
       "0"
      ]
     },
     "execution_count": 60,
     "metadata": {},
     "output_type": "execute_result"
    }
   ],
   "source": [
    "tesla_car_instance1.num_tesla_cars_sold"
   ]
  },
  {
   "cell_type": "code",
   "execution_count": 61,
   "id": "785bbaa1",
   "metadata": {},
   "outputs": [
    {
     "data": {
      "text/plain": [
       "0"
      ]
     },
     "execution_count": 61,
     "metadata": {},
     "output_type": "execute_result"
    }
   ],
   "source": [
    "tesla_car_instance2.num_tesla_cars_sold"
   ]
  },
  {
   "cell_type": "markdown",
   "id": "c1146b12",
   "metadata": {},
   "source": [
    "Now instance1 will run the new stronger method, affecting both itself, and any other (like instance2) method."
   ]
  },
  {
   "cell_type": "code",
   "execution_count": 62,
   "id": "fd4bb169",
   "metadata": {},
   "outputs": [],
   "source": [
    "tesla_car_instance1.buy_tesla_through_class()"
   ]
  },
  {
   "cell_type": "code",
   "execution_count": 63,
   "id": "c2428dc3",
   "metadata": {},
   "outputs": [
    {
     "data": {
      "text/plain": [
       "10"
      ]
     },
     "execution_count": 63,
     "metadata": {},
     "output_type": "execute_result"
    }
   ],
   "source": [
    "tesla_car_instance1.num_tesla_cars_sold"
   ]
  },
  {
   "cell_type": "code",
   "execution_count": 64,
   "id": "ea0cbfeb",
   "metadata": {},
   "outputs": [
    {
     "data": {
      "text/plain": [
       "10"
      ]
     },
     "execution_count": 64,
     "metadata": {},
     "output_type": "execute_result"
    }
   ],
   "source": [
    "tesla_car_instance2.num_tesla_cars_sold"
   ]
  },
  {
   "cell_type": "markdown",
   "id": "2023cef0",
   "metadata": {},
   "source": [
    "And walla, both instances were affected. Now instance2 which knows nothing about instance1, got the information 10 teslas were sold although it did nothing of itself, and can act accordingly."
   ]
  },
  {
   "cell_type": "code",
   "execution_count": null,
   "id": "e16d0d52",
   "metadata": {},
   "outputs": [],
   "source": []
  }
 ],
 "metadata": {
  "kernelspec": {
   "display_name": "Python 3 (ipykernel)",
   "language": "python",
   "name": "python3"
  },
  "language_info": {
   "codemirror_mode": {
    "name": "ipython",
    "version": 3
   },
   "file_extension": ".py",
   "mimetype": "text/x-python",
   "name": "python",
   "nbconvert_exporter": "python",
   "pygments_lexer": "ipython3",
   "version": "3.11.2"
  }
 },
 "nbformat": 4,
 "nbformat_minor": 5
}
