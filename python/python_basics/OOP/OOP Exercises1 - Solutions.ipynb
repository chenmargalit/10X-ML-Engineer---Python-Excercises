{
 "cells": [
  {
   "cell_type": "markdown",
   "id": "166b086c",
   "metadata": {},
   "source": [
    "# OOP Basics"
   ]
  },
  {
   "cell_type": "markdown",
   "id": "5ee28d69",
   "metadata": {},
   "source": [
    "## Exercise 1"
   ]
  },
  {
   "cell_type": "markdown",
   "id": "c5d83b0b",
   "metadata": {},
   "source": [
    "Create a Car class with an init method and another method that prints the data you put in init. Call this new method activate. Instantiate an instance and run activate."
   ]
  },
  {
   "cell_type": "code",
   "execution_count": 20,
   "id": "71084656",
   "metadata": {},
   "outputs": [],
   "source": [
    "class Car:\n",
    "    \n",
    "    def __init__(self, price, color):\n",
    "        self.price = price\n",
    "        self.color = color\n",
    "        \n",
    "    def activate(self):\n",
    "        print(f'the price of the car is {self.price} and its color is {self.color}')"
   ]
  },
  {
   "cell_type": "code",
   "execution_count": 21,
   "id": "b522bc2c",
   "metadata": {},
   "outputs": [
    {
     "name": "stdout",
     "output_type": "stream",
     "text": [
      "the price of the car is 1200 and its color is red\n"
     ]
    }
   ],
   "source": [
    "cheap_red_car = Car(1200, 'red')\n",
    "cheap_red_car.activate()"
   ]
  },
  {
   "cell_type": "code",
   "execution_count": 22,
   "id": "1c231341",
   "metadata": {},
   "outputs": [
    {
     "name": "stdout",
     "output_type": "stream",
     "text": [
      "the price of the car is 1200000 and its color is blue\n"
     ]
    }
   ],
   "source": [
    "expensive_blue_car = Car(1200000, 'blue')\n",
    "expensive_blue_car.activate()"
   ]
  },
  {
   "cell_type": "code",
   "execution_count": 14,
   "id": "cdbe9712",
   "metadata": {},
   "outputs": [
    {
     "name": "stdout",
     "output_type": "stream",
     "text": [
      "the price of the car is 1200 and its color is red\n"
     ]
    }
   ],
   "source": [
    "cheap_red_car.activate()"
   ]
  },
  {
   "cell_type": "code",
   "execution_count": 17,
   "id": "ffe7223b",
   "metadata": {},
   "outputs": [
    {
     "name": "stdout",
     "output_type": "stream",
     "text": [
      "the price of the car is 1200000 and its color is blue\n"
     ]
    }
   ],
   "source": [
    "expensive_blue_car.activate()"
   ]
  },
  {
   "cell_type": "markdown",
   "id": "097324e5",
   "metadata": {},
   "source": [
    "## Exericse 2"
   ]
  },
  {
   "cell_type": "markdown",
   "id": "b8db33fb",
   "metadata": {},
   "source": [
    "Create a class called Player with attributes name, player_id, average_num_goals, and salary. Include a method to give a raise to the player by a specified percentage times his scoring average. The method should print the amount after the raise."
   ]
  },
  {
   "cell_type": "code",
   "execution_count": 16,
   "id": "60c6471d",
   "metadata": {},
   "outputs": [],
   "source": [
    "class Player:\n",
    "    \n",
    "    def __init__(self, name, player_id, average_num_goals, salary):\n",
    "        self.name = name\n",
    "        self.player_id = player_id,\n",
    "        self.average_num_goals = average_num_goals\n",
    "        self.salary = salary\n",
    "        self.new_salary = None\n",
    "        \n",
    "    def raise_salary(self, raise_percent):\n",
    "        new_salary = ((1 + raise_percent) * self.average_num_goals) + self.salary\n",
    "        self.new_salary = new_salary\n",
    "        print(self.new_salary)\n",
    "                "
   ]
  },
  {
   "cell_type": "code",
   "execution_count": 17,
   "id": "e094e606",
   "metadata": {},
   "outputs": [],
   "source": [
    "p = Player('Ronaldo', 1, 3, 100)"
   ]
  },
  {
   "cell_type": "code",
   "execution_count": 12,
   "id": "ab72a269",
   "metadata": {},
   "outputs": [
    {
     "name": "stdout",
     "output_type": "stream",
     "text": [
      "103.12\n"
     ]
    }
   ],
   "source": [
    "p.raise_salary(0.04)"
   ]
  },
  {
   "cell_type": "markdown",
   "id": "be3be435",
   "metadata": {},
   "source": [
    "# Intermediate difficulty"
   ]
  },
  {
   "cell_type": "markdown",
   "id": "0eba2505",
   "metadata": {},
   "source": [
    "\n",
    "Exercise: Sports League Management System\n",
    "\n",
    "Create a program to manage a sports league. The program should allow for the creation of teams, players, and matches, and should provide functionality to record match results and display league standings.\n",
    "\n",
    "Instructions:\n",
    "\n",
    "Define a Team class with the following attributes:\n",
    "\n",
    "Team name\n",
    "List of players (player names. If you know how to do this, feel free to fetch the players using an API with\n",
    "the requests or any other package. Dont spend too much time on this if it doesnt work quickly)\n",
    "Total number of matches played\n",
    "Total number of matches won\n",
    "Total number of matches lost\n",
    "Total number of matches drawn\n",
    "\n",
    "Provide methods to add players to the team, update the match statistics (e.g., record_match_result(result)), and calculate the team's points based on match results (e.g., calculate_points()).\n",
    "\n",
    "Define a Player class with the following attributes:\n",
    "Player name\n",
    "Player position\n",
    "Player number\n",
    "Provide methods to update the player's position or number if needed.\n",
    "\n",
    "Define a Match class with the following attributes:\n",
    "Home team\n",
    "Away team\n",
    "Home team score\n",
    "Away team score\n",
    "Provide a method to record the match result (e.g., record_match_result(home_score, away_score)).\n",
    "\n",
    "Create a League class to manage the league. The League class should have a list of teams and a list of matches. Provide methods to add teams to the league, schedule matches between teams, and display the league standings (e.g., team names, points, matches played, matches won, matches lost, matches drawn).\n",
    "\n",
    "Create an example league with multiple teams and players. Simulate some matches and record the results. Display the league standings after each match."
   ]
  },
  {
   "cell_type": "code",
   "execution_count": null,
   "id": "1513bceb",
   "metadata": {},
   "outputs": [],
   "source": []
  }
 ],
 "metadata": {
  "kernelspec": {
   "display_name": "all_purpose_venv",
   "language": "python",
   "name": "all_purpose_venv"
  },
  "language_info": {
   "codemirror_mode": {
    "name": "ipython",
    "version": 3
   },
   "file_extension": ".py",
   "mimetype": "text/x-python",
   "name": "python",
   "nbconvert_exporter": "python",
   "pygments_lexer": "ipython3",
   "version": "3.11.2"
  }
 },
 "nbformat": 4,
 "nbformat_minor": 5
}
