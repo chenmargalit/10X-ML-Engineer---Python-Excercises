{
 "cells": [
  {
   "cell_type": "markdown",
   "id": "8eec4408",
   "metadata": {},
   "source": [
    "# Loops"
   ]
  },
  {
   "cell_type": "markdown",
   "id": "578a62bf",
   "metadata": {},
   "source": [
    "Loops are also of extreme importance in programming languages. Loops let you do many things, and although they aren't very efficient in Python, it's easy to use and easy to read. If the number of times you are looping is not super big, it's a very good option. We will talk about more optimized ways when we get to more advanced Python"
   ]
  },
  {
   "cell_type": "markdown",
   "id": "e2c07a0e",
   "metadata": {},
   "source": [
    "# For loops"
   ]
  },
  {
   "cell_type": "markdown",
   "id": "89700ef9",
   "metadata": {},
   "source": [
    "## Exercise 1"
   ]
  },
  {
   "cell_type": "markdown",
   "id": "1c9f4366",
   "metadata": {},
   "source": [
    "Write a for loop that prints ints from 3 to 10"
   ]
  },
  {
   "cell_type": "markdown",
   "id": "971f1138",
   "metadata": {},
   "source": [
    "## Exercise 2"
   ]
  },
  {
   "cell_type": "markdown",
   "id": "7d200f9e",
   "metadata": {},
   "source": [
    "1. Create a variable called counter.\n",
    "2. Request a number a from the user using a prompt.\n",
    "3. What is the type of that prompt? change it to the data structure you need in order to use it for looping.\n",
    "4. Iterate a number of times matching that number.\n",
    "5. In every iteration, increase the counter by how ever you want.\n",
    "6. Check that counter is what you expected."
   ]
  },
  {
   "cell_type": "markdown",
   "id": "237f97f6",
   "metadata": {},
   "source": [
    "# While loops"
   ]
  },
  {
   "cell_type": "markdown",
   "id": "0728e108",
   "metadata": {},
   "source": [
    "## Exercise 3"
   ]
  },
  {
   "cell_type": "markdown",
   "id": "7cb4b881",
   "metadata": {},
   "source": [
    "Create a while loop that lets the user guess a random number you generated. The user should be able to guess however many times you want. If the user guesses right, print it. If the user doesn't, continue until the number of attempts is over and then print something like: game over"
   ]
  },
  {
   "cell_type": "markdown",
   "id": "1933998b",
   "metadata": {},
   "source": [
    "## Exercise 4"
   ]
  },
  {
   "cell_type": "markdown",
   "id": "4503e146",
   "metadata": {},
   "source": [
    "Create a list with 20 random numbers. \n",
    "Create a while loop that iterates over that list, while the number is odd, it keeps on printing. If it has come across an even number 3 times, it should stop printing."
   ]
  },
  {
   "cell_type": "markdown",
   "id": "d9adf5b9",
   "metadata": {},
   "source": [
    "## Intermediate difficulty"
   ]
  },
  {
   "cell_type": "markdown",
   "id": "ea6ca41b",
   "metadata": {},
   "source": [
    "## Exercise 5"
   ]
  },
  {
   "cell_type": "markdown",
   "id": "01ea9f6d",
   "metadata": {},
   "source": [
    "Write a function that takes a list of strings as input and returns a new list with only the strings that have more than 3 vowels, using a for loop."
   ]
  },
  {
   "cell_type": "markdown",
   "id": "cb5671d8",
   "metadata": {},
   "source": [
    "## Exercise 6"
   ]
  },
  {
   "cell_type": "markdown",
   "id": "56e92d7c",
   "metadata": {},
   "source": [
    "Write a function that takes a list of strings as input and returns a new list with the strings reversed, using a for loop."
   ]
  },
  {
   "cell_type": "markdown",
   "id": "a4b30feb",
   "metadata": {},
   "source": [
    "## Exercise 7"
   ]
  },
  {
   "cell_type": "markdown",
   "id": "a71a7094",
   "metadata": {},
   "source": [
    "Write a function that takes a list of numbers as input and returns the maximum difference between any two consecutive numbers in the list, using a for loop.\n",
    "\n",
    "For example: [1, 3, 7, 12, -3, 5]\n",
    "\n",
    "The answer is 15. The biggest difference between any two neighbouring numbers, is the differnce between 12 and -3"
   ]
  },
  {
   "cell_type": "markdown",
   "id": "ee33e00f",
   "metadata": {},
   "source": [
    "## Exercise 8"
   ]
  },
  {
   "cell_type": "markdown",
   "id": "f3ef8179",
   "metadata": {},
   "source": [
    "Do the same as exercise 7, but this time return the numbers themselves, not the difference. \n",
    "\n",
    "For example: [1, 3, 7, 12, -3, 5]\n",
    "\n",
    "The answer is 12, -3 for the same reason stated in exercise 7."
   ]
  },
  {
   "cell_type": "code",
   "execution_count": null,
   "id": "1f752efb",
   "metadata": {},
   "outputs": [],
   "source": []
  }
 ],
 "metadata": {
  "kernelspec": {
   "display_name": "Python 3 (ipykernel)",
   "language": "python",
   "name": "python3"
  },
  "language_info": {
   "codemirror_mode": {
    "name": "ipython",
    "version": 3
   },
   "file_extension": ".py",
   "mimetype": "text/x-python",
   "name": "python",
   "nbconvert_exporter": "python",
   "pygments_lexer": "ipython3",
   "version": "3.11.2"
  }
 },
 "nbformat": 4,
 "nbformat_minor": 5
}
