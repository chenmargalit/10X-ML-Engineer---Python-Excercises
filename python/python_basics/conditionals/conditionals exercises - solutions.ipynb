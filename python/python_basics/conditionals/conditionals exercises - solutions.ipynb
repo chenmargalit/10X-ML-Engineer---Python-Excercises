{
 "cells": [
  {
   "cell_type": "markdown",
   "id": "44f7addc",
   "metadata": {},
   "source": [
    "# Exercise 1"
   ]
  },
  {
   "cell_type": "markdown",
   "id": "d1183b7f",
   "metadata": {},
   "source": [
    "Tennis Scoring\n",
    "In tennis, the scoring system is a bit unique. Write a Python program that takes the current score as input and prints the score after a point is won, following these rules:\n",
    "\n",
    "If both players have less than 40 points, the score should be updated as 15, 30, 40, or \"Advantage\" based on the current score.\n",
    "If a player has 40 points and scores again, they win the game."
   ]
  },
  {
   "cell_type": "code",
   "execution_count": null,
   "id": "14e50bcb",
   "metadata": {},
   "outputs": [],
   "source": [
    "player1_score = int(input(\"Enter player 1's score: \"))\n",
    "player2_score = int(input(\"Enter player 2's score: \"))\n",
    "\n",
    "if player1_score < 40 and player2_score < 40:\n",
    "    if player1_score == 0:\n",
    "        player1_score = 15\n",
    "    elif player1_score == 15:\n",
    "        player1_score = 30\n",
    "    elif player1_score == 30:\n",
    "        player1_score = 40\n",
    "    elif player1_score == 40 and player2_score < 40:\n",
    "        print(\"Player 1 wins the game!\")\n",
    "elif player1_score == 40 and player2_score < 40:\n",
    "    print(\"Player 1 wins the game!\")\n",
    "else:\n",
    "    print(\"Invalid score\")"
   ]
  },
  {
   "cell_type": "markdown",
   "id": "74758c7d",
   "metadata": {},
   "source": [
    "# Exercise 2"
   ]
  },
  {
   "cell_type": "markdown",
   "id": "cf6cc4e6",
   "metadata": {},
   "source": [
    "Exercise 2: Football Match Outcome\n",
    "Write a Python program that takes the number of goals scored by two football teams as input and prints the outcome of the match (win, lose, or draw) based on the scores."
   ]
  },
  {
   "cell_type": "code",
   "execution_count": null,
   "id": "0c34dbed",
   "metadata": {},
   "outputs": [],
   "source": [
    "team1_goals = int(input(\"Enter the number of goals scored by team 1: \"))\n",
    "team2_goals = int(input(\"Enter the number of goals scored by team 2: \"))\n",
    "\n",
    "if team1_goals > team2_goals:\n",
    "    print(\"Team 1 wins!\")\n",
    "elif team1_goals < team2_goals:\n",
    "    print(\"Team 2 wins!\")\n",
    "else:\n",
    "    print(\"It's a draw!\")"
   ]
  },
  {
   "cell_type": "markdown",
   "id": "3bdc2f55",
   "metadata": {},
   "source": [
    "# Exercise 3"
   ]
  },
  {
   "cell_type": "markdown",
   "id": "5b6db6ab",
   "metadata": {},
   "source": [
    "Exercise 3: Basketball Shot Selection\n",
    "In basketball, a shot taken from inside the three-point line scores 2 points, and a shot taken from outside scores 3 points. Write a Python program that takes the distance of the shot as input and prints the points scored based on the shot selection."
   ]
  },
  {
   "cell_type": "code",
   "execution_count": 1,
   "id": "4cd2b0d7",
   "metadata": {},
   "outputs": [
    {
     "name": "stdout",
     "output_type": "stream",
     "text": [
      "Enter the distance of the shot (in feet): 3\n",
      "2 points!\n"
     ]
    }
   ],
   "source": [
    "shot_distance = float(input(\"Enter the distance of the shot (in feet): \"))\n",
    "\n",
    "if shot_distance <= 22:\n",
    "    print(\"2 points!\")\n",
    "else:\n",
    "    print(\"3 points!\")"
   ]
  },
  {
   "cell_type": "markdown",
   "id": "e67ee2a0",
   "metadata": {},
   "source": [
    "# Exercise 4"
   ]
  },
  {
   "cell_type": "markdown",
   "id": "8327098b",
   "metadata": {},
   "source": [
    "Exercise 4: Swimming Stroke Classifier\n",
    "Write a Python program that takes the name of a swimming stroke as input and prints whether it is a freestyle, backstroke, breaststroke, or butterfly stroke."
   ]
  },
  {
   "cell_type": "code",
   "execution_count": 2,
   "id": "9e5f5f29",
   "metadata": {},
   "outputs": [
    {
     "name": "stdout",
     "output_type": "stream",
     "text": [
      "Enter the name of the swimming stroke: freestyle\n",
      "Freestyle\n"
     ]
    }
   ],
   "source": [
    "stroke = input(\"Enter the name of the swimming stroke: \")\n",
    "\n",
    "if stroke.lower() == \"freestyle\":\n",
    "    print(\"Freestyle\")\n",
    "elif stroke.lower() == \"backstroke\":\n",
    "    print(\"Backstroke\")\n",
    "elif stroke.lower() == \"breaststroke\":\n",
    "    print(\"Breaststroke\")\n",
    "elif stroke.lower() == \"butterfly\":\n",
    "    print(\"Butterfly\")\n",
    "else:\n",
    "    print(\"Unknown stroke\")"
   ]
  }
 ],
 "metadata": {
  "kernelspec": {
   "display_name": "Python 3 (ipykernel)",
   "language": "python",
   "name": "python3"
  },
  "language_info": {
   "codemirror_mode": {
    "name": "ipython",
    "version": 3
   },
   "file_extension": ".py",
   "mimetype": "text/x-python",
   "name": "python",
   "nbconvert_exporter": "python",
   "pygments_lexer": "ipython3",
   "version": "3.11.2"
  }
 },
 "nbformat": 4,
 "nbformat_minor": 5
}
