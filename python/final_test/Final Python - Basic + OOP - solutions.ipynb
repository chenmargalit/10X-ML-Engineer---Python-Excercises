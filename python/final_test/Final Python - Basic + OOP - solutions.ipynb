{
 "cells": [
  {
   "cell_type": "code",
   "execution_count": 34,
   "id": "6bb8322f",
   "metadata": {},
   "outputs": [],
   "source": [
    "from typing import List"
   ]
  },
  {
   "cell_type": "markdown",
   "id": "92e1d2f4",
   "metadata": {},
   "source": [
    "# Basic Python"
   ]
  },
  {
   "cell_type": "markdown",
   "id": "1c6f8d64",
   "metadata": {},
   "source": [
    "## Data Structures"
   ]
  },
  {
   "cell_type": "markdown",
   "id": "defc5e69",
   "metadata": {},
   "source": [
    "What is the following code going to print in each case? "
   ]
  },
  {
   "cell_type": "code",
   "execution_count": 4,
   "id": "92e5f2dc",
   "metadata": {},
   "outputs": [],
   "source": [
    "answer = None"
   ]
  },
  {
   "cell_type": "code",
   "execution_count": 5,
   "id": "12a4f7f5",
   "metadata": {},
   "outputs": [
    {
     "name": "stdout",
     "output_type": "stream",
     "text": [
      "Havent got it\n"
     ]
    }
   ],
   "source": [
    "if answer:\n",
    "    print('Got it')\n",
    "else:\n",
    "    print('Havent got it')"
   ]
  },
  {
   "cell_type": "code",
   "execution_count": 6,
   "id": "17626ea4",
   "metadata": {},
   "outputs": [
    {
     "name": "stdout",
     "output_type": "stream",
     "text": [
      "havent got it \n"
     ]
    }
   ],
   "source": [
    "num = 0\n",
    "if num:\n",
    "    print('Got it')\n",
    "else:\n",
    "    print('havent got it ')"
   ]
  },
  {
   "cell_type": "markdown",
   "id": "4af591bb",
   "metadata": {},
   "source": [
    "The answer is havent got it in both cases. Both none and 0 are treated as false."
   ]
  },
  {
   "cell_type": "markdown",
   "id": "6a19ec58",
   "metadata": {},
   "source": [
    "## Functions"
   ]
  },
  {
   "cell_type": "markdown",
   "id": "26aa9c4a",
   "metadata": {},
   "source": [
    "1. What is the value of res?\n",
    "2. What does the sum_ function return?\n",
    "3. Are the two answers in 1 and 2 necessairly the same?"
   ]
  },
  {
   "cell_type": "code",
   "execution_count": 7,
   "id": "b54128cf",
   "metadata": {},
   "outputs": [],
   "source": [
    "def sum_(a,b):\n",
    "    ans = a+b\n",
    "    return ans"
   ]
  },
  {
   "cell_type": "code",
   "execution_count": 8,
   "id": "fcbbfb43",
   "metadata": {},
   "outputs": [],
   "source": [
    "res = sum_(1,2)"
   ]
  },
  {
   "cell_type": "markdown",
   "id": "a2e6c221",
   "metadata": {},
   "source": [
    "1. 3\n",
    "2. 3\n",
    "3. yes"
   ]
  },
  {
   "cell_type": "markdown",
   "id": "bd95e5bf",
   "metadata": {},
   "source": [
    "## Loops"
   ]
  },
  {
   "cell_type": "markdown",
   "id": "3c9543a0",
   "metadata": {},
   "source": [
    "Write a function that calculates a factorial using a loop. \n",
    "For example, the function will receive the number 4 and return 24 (4*3*2*1)."
   ]
  },
  {
   "cell_type": "code",
   "execution_count": 9,
   "id": "f3623731",
   "metadata": {},
   "outputs": [],
   "source": [
    "from typing import List\n",
    "\n",
    "def return_numbers_list(n: int) -> List[int]:\n",
    "    numbers = []\n",
    "    for i in range(2, n+1):\n",
    "        numbers.append(i)\n",
    "    return numbers"
   ]
  },
  {
   "cell_type": "code",
   "execution_count": 10,
   "id": "dc9b39ea",
   "metadata": {},
   "outputs": [],
   "source": [
    "def calc_factorial(numbers_list: List[int]):\n",
    "    res = 1\n",
    "    for num in numbers_list:\n",
    "        res *= num\n",
    "    return res"
   ]
  },
  {
   "cell_type": "code",
   "execution_count": 11,
   "id": "c9bd19d5",
   "metadata": {},
   "outputs": [],
   "source": [
    "def fact(n):\n",
    "    if n < 0: \n",
    "        return None\n",
    "    if n == 0:\n",
    "        return 1\n",
    "    else:\n",
    "        numbers_to_multiplie = return_numbers_list(n)\n",
    "        factorial_result = calc_factorial(numbers_to_multiplie)\n",
    "            \n",
    "    return factorial_result          "
   ]
  },
  {
   "cell_type": "markdown",
   "id": "76928291",
   "metadata": {},
   "source": [
    "## Importing Code"
   ]
  },
  {
   "cell_type": "markdown",
   "id": "6abd8aac",
   "metadata": {},
   "source": [
    "Why do we sometimes see people writing:\n",
    "if __name__ == \"__main__\"\n",
    "In what case would that be useful?"
   ]
  },
  {
   "cell_type": "markdown",
   "id": "1491537d",
   "metadata": {},
   "source": [
    "Something in main will only be run if the script is being run directly, and <b> wont </b> run if the file is imported"
   ]
  },
  {
   "cell_type": "markdown",
   "id": "c2e80a65",
   "metadata": {},
   "source": [
    "## Handling Files"
   ]
  },
  {
   "cell_type": "markdown",
   "id": "a671534f",
   "metadata": {},
   "source": [
    "When reading a file we might want to use the with keyword, e.g:"
   ]
  },
  {
   "cell_type": "code",
   "execution_count": 57,
   "id": "2cb28173",
   "metadata": {},
   "outputs": [],
   "source": [
    "with open(file_path, 'r') as f:\n",
    "    print(f.readlines())"
   ]
  },
  {
   "cell_type": "markdown",
   "id": "75b0a035",
   "metadata": {},
   "source": [
    "Why use with? how does it help?"
   ]
  },
  {
   "cell_type": "markdown",
   "id": "043a14e1",
   "metadata": {},
   "source": [
    "When opening a file we must later close it. If we don't there could be memory issues, or files could get locked (you won't be able to write to them). Using with, you ensure the file will be automatically closed when its done."
   ]
  },
  {
   "cell_type": "markdown",
   "id": "f6a95e1e",
   "metadata": {},
   "source": [
    "# OOP"
   ]
  },
  {
   "cell_type": "markdown",
   "id": "686fea92",
   "metadata": {},
   "source": [
    "## OOP 3 Principles"
   ]
  },
  {
   "cell_type": "markdown",
   "id": "af397ef0",
   "metadata": {},
   "source": [
    "Write a class that uses encapsulation. Use a protected variable and a method that uses that protected variable. The method can either change the variable (after some validation) or just return it"
   ]
  },
  {
   "cell_type": "markdown",
   "id": "966c7122",
   "metadata": {},
   "source": [
    "### Encapsulation"
   ]
  },
  {
   "cell_type": "code",
   "execution_count": 15,
   "id": "1fa8b660",
   "metadata": {},
   "outputs": [],
   "source": [
    "class ClsWithPrivateAttr:\n",
    "    \n",
    "    def __init__(self):\n",
    "        self._dont_touch_this = 4\n",
    "        \n",
    "    def return_private_var(self):\n",
    "        return self._dont_touch_this\n",
    "    \n",
    "    def modify_private_var(self, new_val):\n",
    "        if new_val > 0:\n",
    "            self._dont_touch_this = new_val\n",
    "            print(self._dont_touch_this)\n",
    "        "
   ]
  },
  {
   "cell_type": "markdown",
   "id": "08f2b3c4",
   "metadata": {},
   "source": [
    "### Inheritance"
   ]
  },
  {
   "cell_type": "markdown",
   "id": "14fed9fd",
   "metadata": {},
   "source": [
    "Write a class that inherits from another"
   ]
  },
  {
   "cell_type": "code",
   "execution_count": 176,
   "id": "527293a9",
   "metadata": {},
   "outputs": [],
   "source": [
    "class Sport:\n",
    "    \n",
    "    def __init__(self, game_length, is_ball_game):\n",
    "        self.game_length = game_length\n",
    "        self.is_ball_game = is_ball_game\n",
    "        \n",
    "    def start_game(self):\n",
    "        print('game on!')\n",
    "        \n",
    "    def return_is_ball_game(self):\n",
    "        return self.is_ball_game"
   ]
  },
  {
   "cell_type": "code",
   "execution_count": 177,
   "id": "6d285850",
   "metadata": {},
   "outputs": [],
   "source": [
    "class Basketball(Sport):\n",
    "    \n",
    "    def __init__(self, game_length, league_name, is_ball_game = False ):\n",
    "        super().__init__(game_length, is_ball_game)\n",
    "        self.league_name = league_name\n",
    "        \n",
    "    def print_league_name(self):\n",
    "        print(self.league_name)"
   ]
  },
  {
   "cell_type": "markdown",
   "id": "21da3399",
   "metadata": {},
   "source": [
    "### Polymorphism"
   ]
  },
  {
   "cell_type": "markdown",
   "id": "ad7d0801",
   "metadata": {},
   "source": [
    "Take one of the methods you implemented in the base class. Rewrite it in the subclass class."
   ]
  },
  {
   "cell_type": "code",
   "execution_count": 178,
   "id": "62e1247b",
   "metadata": {},
   "outputs": [],
   "source": [
    "class Basketball(Sport):\n",
    "    \n",
    "    def __init__(self, game_length, league_name, is_ball_game = False ):\n",
    "        super().__init__(game_length, is_ball_game)\n",
    "        self.league_name = league_name\n",
    "        \n",
    "    def print_league_name(self):\n",
    "        print(self.league_name)\n",
    "        \n",
    "    def return_is_ball_game(self):\n",
    "        return 'of course it is!'"
   ]
  },
  {
   "cell_type": "markdown",
   "id": "286faccd",
   "metadata": {},
   "source": [
    "## Class vs Instance Methods"
   ]
  },
  {
   "cell_type": "markdown",
   "id": "2f2a4122",
   "metadata": {},
   "source": [
    "Write a class with 2 methods. One that only affects an instance, and one that affects the entire class."
   ]
  },
  {
   "cell_type": "code",
   "execution_count": 162,
   "id": "058ae914",
   "metadata": {},
   "outputs": [],
   "source": [
    "class Sport:\n",
    "    \n",
    "    league_status = 'active'\n",
    "    \n",
    "    def __init__(self, game_length, is_ball_game):\n",
    "        self.game_length = game_length\n",
    "        self.is_ball_game = is_ball_game\n",
    "        \n",
    "    def start_game(self):\n",
    "        print('game on!')\n",
    "        \n",
    "    def change_instance_league_status(self, new_league_status):\n",
    "        self.league_status = new_league_status\n",
    "    \n",
    "    @classmethod\n",
    "    def change_cls_league_status(self, new_league_status):\n",
    "        self.league_status = new_league_status"
   ]
  }
 ],
 "metadata": {
  "kernelspec": {
   "display_name": "all_purpose_venv",
   "language": "python",
   "name": "all_purpose_venv"
  },
  "language_info": {
   "codemirror_mode": {
    "name": "ipython",
    "version": 3
   },
   "file_extension": ".py",
   "mimetype": "text/x-python",
   "name": "python",
   "nbconvert_exporter": "python",
   "pygments_lexer": "ipython3",
   "version": "3.11.2"
  }
 },
 "nbformat": 4,
 "nbformat_minor": 5
}
