{
 "cells": [
  {
   "cell_type": "markdown",
   "id": "67a98ea0",
   "metadata": {},
   "source": [
    "# Advanced Python"
   ]
  },
  {
   "cell_type": "markdown",
   "id": "0bd1da91",
   "metadata": {},
   "source": [
    "## Error Handling"
   ]
  },
  {
   "cell_type": "markdown",
   "id": "d69e5926",
   "metadata": {},
   "source": [
    "Write a function that divies two numbers. Handle a situation where one of the numbers is 0"
   ]
  },
  {
   "cell_type": "markdown",
   "id": "c1e278fc",
   "metadata": {},
   "source": [
    "## Python Conventions"
   ]
  },
  {
   "cell_type": "markdown",
   "id": "57c2e51a",
   "metadata": {},
   "source": [
    "Correct the following non conventions to their correct form"
   ]
  },
  {
   "cell_type": "code",
   "execution_count": 23,
   "id": "8875ca63",
   "metadata": {},
   "outputs": [],
   "source": [
    "Width = 10\n",
    "numHeight = 20"
   ]
  },
  {
   "cell_type": "code",
   "execution_count": 1,
   "id": "afbcdcfa",
   "metadata": {},
   "outputs": [],
   "source": [
    "def calculate_total(items):\n",
    "    total=0\n",
    "    for item in items:\n",
    "    total+=item.price\n",
    "    return total"
   ]
  },
  {
   "cell_type": "markdown",
   "id": "0a1a4dd2",
   "metadata": {},
   "source": [
    "## Type Hinting"
   ]
  },
  {
   "cell_type": "markdown",
   "id": "5d6e09fb",
   "metadata": {},
   "source": [
    "Annotate the following functions. If in doubt, import from typing (from typing import ...)"
   ]
  },
  {
   "cell_type": "code",
   "execution_count": null,
   "id": "be2fb9b9",
   "metadata": {},
   "outputs": [],
   "source": [
    "def add_numbers(x, y):\n",
    "    return x + y"
   ]
  },
  {
   "cell_type": "code",
   "execution_count": null,
   "id": "b164c48f",
   "metadata": {},
   "outputs": [],
   "source": [
    "def sum_list(numbers_list):\n",
    "    return sum(numbers)"
   ]
  },
  {
   "cell_type": "code",
   "execution_count": null,
   "id": "4de8e742",
   "metadata": {},
   "outputs": [],
   "source": [
    "# the number could be either int or float\n",
    "def square_number(num):\n",
    "    return num ** 2"
   ]
  },
  {
   "cell_type": "code",
   "execution_count": null,
   "id": "daeb1957",
   "metadata": {},
   "outputs": [],
   "source": [
    "# If the numbrer is provided, it can only be an int\n",
    "def square_optional(num):\n",
    "    if num is None:\n",
    "        return None\n",
    "    \n",
    "    return num ** 2"
   ]
  },
  {
   "cell_type": "markdown",
   "id": "2a74e3b4",
   "metadata": {},
   "source": [
    "## Virtual Environment"
   ]
  },
  {
   "cell_type": "markdown",
   "id": "f1eea4eb",
   "metadata": {},
   "source": [
    "What is a virtual environment? what is it useful for?"
   ]
  },
  {
   "cell_type": "markdown",
   "id": "b6150847",
   "metadata": {},
   "source": [
    "## Closure"
   ]
  },
  {
   "cell_type": "markdown",
   "id": "9ddd9fb9",
   "metadata": {},
   "source": [
    "What is closure? why does it allegedly contradict how Python works?"
   ]
  },
  {
   "cell_type": "markdown",
   "id": "be9790de",
   "metadata": {},
   "source": [
    "## Partial"
   ]
  },
  {
   "cell_type": "markdown",
   "id": "505d8c43",
   "metadata": {},
   "source": [
    "Define a partial. A function that takes a function with a few parameters and returns a function with less parameters"
   ]
  },
  {
   "cell_type": "markdown",
   "id": "5219d9a7",
   "metadata": {},
   "source": [
    "## Decorator"
   ]
  },
  {
   "cell_type": "markdown",
   "id": "29d05ec9",
   "metadata": {},
   "source": [
    "Write a decorator that calculates the time a function takes to run"
   ]
  },
  {
   "cell_type": "markdown",
   "id": "4289fc29",
   "metadata": {},
   "source": [
    "## Lambda"
   ]
  },
  {
   "cell_type": "markdown",
   "id": "4b29eed5",
   "metadata": {},
   "source": [
    "Sort a dictionary using the sorted method. Use lambda for the sorting logic"
   ]
  },
  {
   "cell_type": "markdown",
   "id": "3b6e27a8",
   "metadata": {},
   "source": [
    "## Big O"
   ]
  },
  {
   "cell_type": "markdown",
   "id": "10afbc40",
   "metadata": {},
   "source": [
    "What are the following Big o complexities?"
   ]
  },
  {
   "cell_type": "code",
   "execution_count": 13,
   "id": "86f24806",
   "metadata": {},
   "outputs": [],
   "source": [
    "for i in range(n):\n",
    "    print(i)"
   ]
  },
  {
   "cell_type": "code",
   "execution_count": null,
   "id": "f2952b3c",
   "metadata": {},
   "outputs": [],
   "source": [
    "for i in range(n):\n",
    "    for j in range(n):\n",
    "        print(i, j)"
   ]
  },
  {
   "cell_type": "code",
   "execution_count": null,
   "id": "d427c66f",
   "metadata": {},
   "outputs": [],
   "source": [
    "for i in range(n):\n",
    "    print(i)\n",
    "for j in range(n):\n",
    "    print(j)"
   ]
  },
  {
   "cell_type": "markdown",
   "id": "a81db8dd",
   "metadata": {},
   "source": [
    "## Generators"
   ]
  },
  {
   "cell_type": "markdown",
   "id": "bc783399",
   "metadata": {},
   "source": [
    "Write a function, that does a for loop that iterates through a generator. The generator should yield n numbers, the second function should print all those numbers."
   ]
  },
  {
   "cell_type": "markdown",
   "id": "b47f6332",
   "metadata": {},
   "source": [
    "## Async Code"
   ]
  },
  {
   "cell_type": "markdown",
   "id": "ff776669",
   "metadata": {},
   "source": [
    "1. What is the difference between a process and a thread in Python? Which fits which task?\n",
    "2. Is multithreading done in parallel in Python?\n",
    "3. Are coroutines closer to multithreading or multiprocesses? Whats the difference between coroutines and the one its more similar to?"
   ]
  }
 ],
 "metadata": {
  "kernelspec": {
   "display_name": "all_purpose_venv",
   "language": "python",
   "name": "all_purpose_venv"
  },
  "language_info": {
   "codemirror_mode": {
    "name": "ipython",
    "version": 3
   },
   "file_extension": ".py",
   "mimetype": "text/x-python",
   "name": "python",
   "nbconvert_exporter": "python",
   "pygments_lexer": "ipython3",
   "version": "3.11.2"
  }
 },
 "nbformat": 4,
 "nbformat_minor": 5
}
