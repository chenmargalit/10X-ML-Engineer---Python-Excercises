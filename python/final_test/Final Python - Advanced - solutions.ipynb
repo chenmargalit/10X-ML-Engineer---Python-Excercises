{
 "cells": [
  {
   "cell_type": "code",
   "execution_count": 3,
   "id": "0dca0d28",
   "metadata": {},
   "outputs": [],
   "source": [
    "import time\n",
    "from typing import List\n",
    "from functools import partial"
   ]
  },
  {
   "cell_type": "markdown",
   "id": "67a98ea0",
   "metadata": {},
   "source": [
    "# Advanced Python"
   ]
  },
  {
   "cell_type": "markdown",
   "id": "0bd1da91",
   "metadata": {
    "heading_collapsed": true
   },
   "source": [
    "## Error Handling"
   ]
  },
  {
   "cell_type": "markdown",
   "id": "d69e5926",
   "metadata": {
    "hidden": true
   },
   "source": [
    "Write a function that divies two numbers. Handle a situation where one of the numbers is 0"
   ]
  },
  {
   "cell_type": "code",
   "execution_count": 20,
   "id": "55c5580c",
   "metadata": {
    "hidden": true
   },
   "outputs": [],
   "source": [
    "def divide_numbers(a, b):\n",
    "    try:\n",
    "        result = num1 / num2\n",
    "        print(\"Result of division:\", result)\n",
    "    except ZeroDivisionError:\n",
    "        print(\"Error: Division by zero is not allowed.\")"
   ]
  },
  {
   "cell_type": "markdown",
   "id": "c1e278fc",
   "metadata": {
    "heading_collapsed": true
   },
   "source": [
    "## Python Conventions"
   ]
  },
  {
   "cell_type": "markdown",
   "id": "57c2e51a",
   "metadata": {
    "hidden": true
   },
   "source": [
    "Correct the following non conventions to their correct form"
   ]
  },
  {
   "cell_type": "code",
   "execution_count": 23,
   "id": "8875ca63",
   "metadata": {
    "hidden": true
   },
   "outputs": [],
   "source": [
    "Width = 10\n",
    "numHeight = 20"
   ]
  },
  {
   "cell_type": "code",
   "execution_count": 24,
   "id": "afbcdcfa",
   "metadata": {
    "hidden": true
   },
   "outputs": [
    {
     "ename": "IndentationError",
     "evalue": "expected an indented block after 'for' statement on line 3 (1772770984.py, line 4)",
     "output_type": "error",
     "traceback": [
      "\u001b[0;36m  Cell \u001b[0;32mIn[24], line 4\u001b[0;36m\u001b[0m\n\u001b[0;31m    total+=item.price\u001b[0m\n\u001b[0m    ^\u001b[0m\n\u001b[0;31mIndentationError\u001b[0m\u001b[0;31m:\u001b[0m expected an indented block after 'for' statement on line 3\n"
     ]
    }
   ],
   "source": [
    "def calculate_total(items):\n",
    "    total=0\n",
    "    for item in items:\n",
    "    total+=item.price\n",
    "    return total"
   ]
  },
  {
   "cell_type": "code",
   "execution_count": 25,
   "id": "33f4b833",
   "metadata": {
    "hidden": true
   },
   "outputs": [],
   "source": [
    "width = 10\n",
    "num_height = 20"
   ]
  },
  {
   "cell_type": "code",
   "execution_count": 33,
   "id": "05aed680",
   "metadata": {
    "hidden": true
   },
   "outputs": [],
   "source": [
    "def calculate_total(items):\n",
    "    total=0\n",
    "    for item in items:\n",
    "        total += item['price']\n",
    "    return total"
   ]
  },
  {
   "cell_type": "markdown",
   "id": "0a1a4dd2",
   "metadata": {},
   "source": [
    "## Type Hinting"
   ]
  },
  {
   "cell_type": "markdown",
   "id": "5d6e09fb",
   "metadata": {},
   "source": [
    "Annotate the following functions. If in doubt, import from typing (from typing import ...)"
   ]
  },
  {
   "cell_type": "code",
   "execution_count": null,
   "id": "be2fb9b9",
   "metadata": {},
   "outputs": [],
   "source": [
    "def add_numbers(x, y):\n",
    "    return x + y"
   ]
  },
  {
   "cell_type": "code",
   "execution_count": null,
   "id": "793204f4",
   "metadata": {},
   "outputs": [],
   "source": [
    "def add_numbers(x: int, y: int) -> int:\n",
    "    return x + y"
   ]
  },
  {
   "cell_type": "code",
   "execution_count": null,
   "id": "b164c48f",
   "metadata": {},
   "outputs": [],
   "source": [
    "def sum_list(numbers_list):\n",
    "    return sum(numbers)"
   ]
  },
  {
   "cell_type": "code",
   "execution_count": null,
   "id": "d7e9d1aa",
   "metadata": {},
   "outputs": [],
   "source": [
    "def sum_list(numbers_list: List[int]) -> int:\n",
    "    return sum(numbers)"
   ]
  },
  {
   "cell_type": "code",
   "execution_count": null,
   "id": "4de8e742",
   "metadata": {},
   "outputs": [],
   "source": [
    "# the number could be either int or float\n",
    "def square_number(num):\n",
    "    return num ** 2"
   ]
  },
  {
   "cell_type": "code",
   "execution_count": null,
   "id": "1d4bf6e7",
   "metadata": {},
   "outputs": [],
   "source": [
    "from typing import Union\n",
    "\n",
    "def square_number(num: Union[int, float]) -> Union[int, float]:\n",
    "    return num ** 2\n"
   ]
  },
  {
   "cell_type": "code",
   "execution_count": null,
   "id": "daeb1957",
   "metadata": {},
   "outputs": [],
   "source": [
    "# If the numbrer is provided, it can only be an int\n",
    "def square_optional(num):\n",
    "    if num is None:\n",
    "        return None\n",
    "    \n",
    "    return num ** 2"
   ]
  },
  {
   "cell_type": "code",
   "execution_count": null,
   "id": "d116ea8d",
   "metadata": {},
   "outputs": [],
   "source": [
    "from typing import Optional\n",
    "\n",
    "def square_optional(num: Optional[int]) -> Optional[int]:\n",
    "    if num is None:\n",
    "        return None\n",
    "    return num ** 2"
   ]
  },
  {
   "cell_type": "markdown",
   "id": "2a74e3b4",
   "metadata": {},
   "source": [
    "## Virtual Environment"
   ]
  },
  {
   "cell_type": "markdown",
   "id": "f1eea4eb",
   "metadata": {},
   "source": [
    "What is a virtual environment? what is it useful for?"
   ]
  },
  {
   "cell_type": "markdown",
   "id": "5d215d5f",
   "metadata": {},
   "source": [
    "A virtual environemnt is a Python runner + complete project code dependencies (e.g. the packages we use to run our project). A virtual environment allows us to keep our code dependencies separate in every project. If project a needs Pytorch 1.0 and project b needs Pytorch 2.0, a virtual environment might be very useful."
   ]
  },
  {
   "cell_type": "markdown",
   "id": "b6150847",
   "metadata": {
    "heading_collapsed": true
   },
   "source": [
    "## Closure"
   ]
  },
  {
   "cell_type": "markdown",
   "id": "9ddd9fb9",
   "metadata": {
    "hidden": true
   },
   "source": [
    "What is closure? why does it allegedly contradict how Python works?"
   ]
  },
  {
   "cell_type": "markdown",
   "id": "6801e6fa",
   "metadata": {
    "hidden": true
   },
   "source": [
    "Normally, when a function returns, all its variables are removed from memory. When a function defines a function, and the inner function uses a variable declared in the outer function, the reference to the parameter (hence the parameter it self) will be kept in memory even when the function returns."
   ]
  },
  {
   "cell_type": "markdown",
   "id": "be9790de",
   "metadata": {},
   "source": [
    "## Partial"
   ]
  },
  {
   "cell_type": "markdown",
   "id": "505d8c43",
   "metadata": {},
   "source": [
    "Define a partial. A function that takes a function with a few parameters and returns a function with less parameters"
   ]
  },
  {
   "cell_type": "code",
   "execution_count": 1,
   "id": "57d4b3c5",
   "metadata": {},
   "outputs": [
    {
     "name": "stdout",
     "output_type": "stream",
     "text": [
      "Bands in the rock genre:\n",
      "- Led Zeppelin\n",
      "- The Beatles\n",
      "- Queen\n",
      "- The Rolling Stones\n"
     ]
    }
   ],
   "source": [
    "def display_bands(genre, bands):\n",
    "    print(f\"Bands in the {genre} genre:\")\n",
    "    for band in bands:\n",
    "        print(\"-\", band)\n",
    "\n",
    "display_rock_bands = partial(display_bands, \"rock\")\n",
    "\n",
    "rock_bands = [\"Led Zeppelin\", \"The Beatles\", \"Queen\", \"The Rolling Stones\"]\n",
    "\n",
    "display_rock_bands(bands=rock_bands)"
   ]
  },
  {
   "cell_type": "markdown",
   "id": "5219d9a7",
   "metadata": {},
   "source": [
    "## Decorator"
   ]
  },
  {
   "cell_type": "markdown",
   "id": "29d05ec9",
   "metadata": {},
   "source": [
    "Write a decorator that calculates the time a function takes to run"
   ]
  },
  {
   "cell_type": "code",
   "execution_count": 6,
   "id": "54c1ab0d",
   "metadata": {},
   "outputs": [
    {
     "name": "stdout",
     "output_type": "stream",
     "text": [
      "Function 'some_func' took 2.003904 seconds to run.\n"
     ]
    }
   ],
   "source": [
    "def calculate_time(func):\n",
    "    def wrapper(*args, **kwargs):\n",
    "        start_time = time.perf_counter()\n",
    "        result = func(*args, **kwargs)\n",
    "        end_time = time.perf_counter()\n",
    "        print(f\"Function '{func.__name__}' took {end_time - start_time:.6f} seconds to run.\")\n",
    "        return result\n",
    "    return wrapper\n",
    "\n",
    "@calculate_time\n",
    "def some_func():\n",
    "    time.sleep(2)\n",
    "    \n",
    "some_func()\n"
   ]
  },
  {
   "cell_type": "markdown",
   "id": "4289fc29",
   "metadata": {},
   "source": [
    "## Lambda"
   ]
  },
  {
   "cell_type": "markdown",
   "id": "4b29eed5",
   "metadata": {},
   "source": [
    "Sort a dictionary using the sorted method. Use lambda for the sorting logic"
   ]
  },
  {
   "cell_type": "code",
   "execution_count": 8,
   "id": "706b3084",
   "metadata": {},
   "outputs": [
    {
     "name": "stdout",
     "output_type": "stream",
     "text": [
      "Sorted by values: [('Eilat', 21), ('Metula', 82), ('Sea', 100), ('Jerusalem', 200)]\n"
     ]
    }
   ],
   "source": [
    "my_dict = {'Eilat': 21, 'Metula': 82, 'Sea': 100, 'Jerusalem': 200}\n",
    "\n",
    "sorted_dict_values = sorted(my_dict.items(), key=lambda x: x[1])\n",
    "print(\"Sorted by values:\", sorted_dict_values)"
   ]
  },
  {
   "cell_type": "markdown",
   "id": "3b6e27a8",
   "metadata": {},
   "source": [
    "## Big O"
   ]
  },
  {
   "cell_type": "markdown",
   "id": "10afbc40",
   "metadata": {},
   "source": [
    "What are the following Big o complexities?"
   ]
  },
  {
   "cell_type": "code",
   "execution_count": 13,
   "id": "86f24806",
   "metadata": {},
   "outputs": [],
   "source": [
    "for i in range(n):\n",
    "    print(i)"
   ]
  },
  {
   "cell_type": "markdown",
   "id": "da64f80c",
   "metadata": {},
   "source": [
    "linear"
   ]
  },
  {
   "cell_type": "markdown",
   "id": "2203ff90",
   "metadata": {},
   "source": [
    "n^2"
   ]
  },
  {
   "cell_type": "code",
   "execution_count": null,
   "id": "f2952b3c",
   "metadata": {},
   "outputs": [],
   "source": [
    "for i in range(n):\n",
    "    for j in range(n):\n",
    "        print(i, j)"
   ]
  },
  {
   "cell_type": "markdown",
   "id": "6ab36615",
   "metadata": {},
   "source": [
    "linear"
   ]
  },
  {
   "cell_type": "code",
   "execution_count": null,
   "id": "d427c66f",
   "metadata": {},
   "outputs": [],
   "source": [
    "for i in range(n):\n",
    "    print(i)\n",
    "for j in range(n):\n",
    "    print(j)"
   ]
  },
  {
   "cell_type": "markdown",
   "id": "a81db8dd",
   "metadata": {},
   "source": [
    "## Generators"
   ]
  },
  {
   "cell_type": "markdown",
   "id": "bc783399",
   "metadata": {},
   "source": [
    "Write a function, that does a for loop that iterates through a generator. The generator should yield n numbers, the second function should print all those numbers."
   ]
  },
  {
   "cell_type": "code",
   "execution_count": 17,
   "id": "b1b1fabf",
   "metadata": {},
   "outputs": [],
   "source": [
    "def yield_numbers(n):\n",
    "    for num in range(n):\n",
    "        yield num"
   ]
  },
  {
   "cell_type": "code",
   "execution_count": 18,
   "id": "c3ce55de",
   "metadata": {},
   "outputs": [
    {
     "name": "stdout",
     "output_type": "stream",
     "text": [
      "0\n",
      "1\n",
      "2\n",
      "3\n"
     ]
    }
   ],
   "source": [
    "for num in yield_numbers(4):\n",
    "    print(num)"
   ]
  },
  {
   "cell_type": "markdown",
   "id": "b47f6332",
   "metadata": {
    "heading_collapsed": true
   },
   "source": [
    "## Async Code"
   ]
  },
  {
   "cell_type": "markdown",
   "id": "ff776669",
   "metadata": {
    "hidden": true
   },
   "source": [
    "1. What is the difference between a process and a thread in Python? Which fits which task?\n",
    "2. Is multithreading done in parallel in Python?\n",
    "3. Are coroutines closer to multithreading or multiprocesses? Whats the difference between coroutines and the one its more similar to?"
   ]
  },
  {
   "cell_type": "markdown",
   "id": "a7b5553f",
   "metadata": {
    "hidden": true
   },
   "source": [
    "1. A Process is a full Python engine. It works in parallel and separetly from other proccesses. It doesn't share memory by default. A thread is Python code running in the same process, it does share memory and it cannot run in parallel in Python.\n",
    "2. No. The GIL prevents threads from running in parallel.\n",
    "3. Multithreading. A coroutine runs on one thread. It saves time by not moving between different threads and implements some smamrt logic to decide what task to do at any given time."
   ]
  },
  {
   "cell_type": "markdown",
   "id": "8fa5e579",
   "metadata": {
    "hidden": true
   },
   "source": []
  }
 ],
 "metadata": {
  "kernelspec": {
   "display_name": "all_purpose_venv",
   "language": "python",
   "name": "all_purpose_venv"
  },
  "language_info": {
   "codemirror_mode": {
    "name": "ipython",
    "version": 3
   },
   "file_extension": ".py",
   "mimetype": "text/x-python",
   "name": "python",
   "nbconvert_exporter": "python",
   "pygments_lexer": "ipython3",
   "version": "3.11.2"
  }
 },
 "nbformat": 4,
 "nbformat_minor": 5
}
