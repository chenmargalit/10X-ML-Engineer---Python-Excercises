{
 "cells": [
  {
   "cell_type": "markdown",
   "id": "92e1d2f4",
   "metadata": {
    "heading_collapsed": true
   },
   "source": [
    "# Basic Python"
   ]
  },
  {
   "cell_type": "markdown",
   "id": "1c6f8d64",
   "metadata": {
    "heading_collapsed": true,
    "hidden": true
   },
   "source": [
    "## Data Structures"
   ]
  },
  {
   "cell_type": "markdown",
   "id": "defc5e69",
   "metadata": {
    "hidden": true
   },
   "source": [
    "What is the following code going to print in each case? (uncomment the code to see it with helpful colors, but don't run it so you dont see the answer)"
   ]
  },
  {
   "cell_type": "code",
   "execution_count": 2,
   "id": "92e5f2dc",
   "metadata": {
    "hidden": true
   },
   "outputs": [],
   "source": [
    "answer = None"
   ]
  },
  {
   "cell_type": "code",
   "execution_count": 1,
   "id": "12a4f7f5",
   "metadata": {
    "hidden": true
   },
   "outputs": [],
   "source": [
    "# if answer:\n",
    "#     print('Got it')\n",
    "# else:\n",
    "#     print('Havent got it')"
   ]
  },
  {
   "cell_type": "code",
   "execution_count": 2,
   "id": "17626ea4",
   "metadata": {
    "hidden": true
   },
   "outputs": [],
   "source": [
    "# num = 0\n",
    "# if num:\n",
    "#     print('Got it')\n",
    "# else:\n",
    "#     print('havent got it ')"
   ]
  },
  {
   "cell_type": "markdown",
   "id": "6a19ec58",
   "metadata": {
    "heading_collapsed": true,
    "hidden": true
   },
   "source": [
    "## Functions"
   ]
  },
  {
   "cell_type": "markdown",
   "id": "26aa9c4a",
   "metadata": {
    "hidden": true
   },
   "source": [
    "1. What is the value of res?\n",
    "2. What does the sum_ function return?\n",
    "3. Are the two answers in 1 and 2 necessairly the same?"
   ]
  },
  {
   "cell_type": "code",
   "execution_count": 7,
   "id": "b54128cf",
   "metadata": {
    "hidden": true
   },
   "outputs": [],
   "source": [
    "def sum_(a,b):\n",
    "    ans = a+b\n",
    "    return ans"
   ]
  },
  {
   "cell_type": "code",
   "execution_count": 8,
   "id": "fcbbfb43",
   "metadata": {
    "hidden": true
   },
   "outputs": [],
   "source": [
    "res = sum_(1,2)"
   ]
  },
  {
   "cell_type": "markdown",
   "id": "bd95e5bf",
   "metadata": {
    "heading_collapsed": true,
    "hidden": true
   },
   "source": [
    "## Loops"
   ]
  },
  {
   "cell_type": "markdown",
   "id": "3c9543a0",
   "metadata": {
    "hidden": true
   },
   "source": [
    "Write a function that calculates a factorial using a loop. \n",
    "For example, the function will receive the number 4 and return 24 (4*3*2*1)."
   ]
  },
  {
   "cell_type": "markdown",
   "id": "76928291",
   "metadata": {
    "heading_collapsed": true,
    "hidden": true
   },
   "source": [
    "## Importing Code"
   ]
  },
  {
   "cell_type": "markdown",
   "id": "6abd8aac",
   "metadata": {
    "hidden": true
   },
   "source": [
    "Why do we sometimes see people writing:\n",
    "if __name__ == \"__main__\"\n",
    "In what case would that be useful?"
   ]
  },
  {
   "cell_type": "markdown",
   "id": "c2e80a65",
   "metadata": {
    "heading_collapsed": true,
    "hidden": true
   },
   "source": [
    "## Handling Files"
   ]
  },
  {
   "cell_type": "markdown",
   "id": "a671534f",
   "metadata": {
    "hidden": true
   },
   "source": [
    "When reading a file we might want to use the with keyword, e.g:"
   ]
  },
  {
   "cell_type": "code",
   "execution_count": 57,
   "id": "2cb28173",
   "metadata": {
    "hidden": true
   },
   "outputs": [],
   "source": [
    "with open(file_path, 'r') as f:\n",
    "    print(f.readlines())"
   ]
  },
  {
   "cell_type": "markdown",
   "id": "75b0a035",
   "metadata": {
    "hidden": true
   },
   "source": [
    "Why use with? how does it help?"
   ]
  },
  {
   "cell_type": "markdown",
   "id": "f6a95e1e",
   "metadata": {},
   "source": [
    "# OOP"
   ]
  },
  {
   "cell_type": "markdown",
   "id": "686fea92",
   "metadata": {},
   "source": [
    "## OOP 3 Principles"
   ]
  },
  {
   "cell_type": "markdown",
   "id": "966c7122",
   "metadata": {},
   "source": [
    "### Encapsulation"
   ]
  },
  {
   "cell_type": "markdown",
   "id": "4b1602dc",
   "metadata": {},
   "source": [
    "Write a class that uses encapsulation. Use a protected variable and a method that uses that protected variable. The method can either change the variable (after some validation) or just return it"
   ]
  },
  {
   "cell_type": "markdown",
   "id": "08f2b3c4",
   "metadata": {
    "heading_collapsed": true
   },
   "source": [
    "### Inheritance"
   ]
  },
  {
   "cell_type": "markdown",
   "id": "14fed9fd",
   "metadata": {
    "hidden": true
   },
   "source": [
    "Write a class that inherits from another"
   ]
  },
  {
   "cell_type": "markdown",
   "id": "21da3399",
   "metadata": {},
   "source": [
    "### Polymorphism"
   ]
  },
  {
   "cell_type": "markdown",
   "id": "ad7d0801",
   "metadata": {},
   "source": [
    "Take one of the methods you implemented in the base class. Rewrite it in the subclass class."
   ]
  },
  {
   "cell_type": "markdown",
   "id": "286faccd",
   "metadata": {},
   "source": [
    "## Class vs Instance Methods"
   ]
  },
  {
   "cell_type": "markdown",
   "id": "2f2a4122",
   "metadata": {},
   "source": [
    "Write a class with 2 methods. One that only affects an instance, and one that affects the entire class."
   ]
  }
 ],
 "metadata": {
  "kernelspec": {
   "display_name": "all_purpose_venv",
   "language": "python",
   "name": "all_purpose_venv"
  },
  "language_info": {
   "codemirror_mode": {
    "name": "ipython",
    "version": 3
   },
   "file_extension": ".py",
   "mimetype": "text/x-python",
   "name": "python",
   "nbconvert_exporter": "python",
   "pygments_lexer": "ipython3",
   "version": "3.11.2"
  }
 },
 "nbformat": 4,
 "nbformat_minor": 5
}
