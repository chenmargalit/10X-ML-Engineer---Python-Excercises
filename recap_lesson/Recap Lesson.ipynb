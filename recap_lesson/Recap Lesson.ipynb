{
 "cells": [
  {
   "cell_type": "markdown",
   "id": "9c519f67",
   "metadata": {},
   "source": [
    "# Introductions"
   ]
  },
  {
   "cell_type": "markdown",
   "id": "b36df928",
   "metadata": {},
   "source": [
    "Python - OOP, Big O, Error Handling, Convetions, Decorators, Generators, Processes/Threads/Coroutines, Testing"
   ]
  },
  {
   "cell_type": "markdown",
   "id": "fb7630b1",
   "metadata": {},
   "source": [
    "Git - 3 stages, pull, push, branches, SSH, gitignore, merge, resolving conflicts"
   ]
  },
  {
   "cell_type": "markdown",
   "id": "71617e59",
   "metadata": {},
   "source": [
    "Statistics - Probability, descriptive, inferial"
   ]
  },
  {
   "cell_type": "markdown",
   "id": "98f0151c",
   "metadata": {},
   "source": [
    "Pandas, Visualizations, Featue Engineering"
   ]
  },
  {
   "cell_type": "markdown",
   "id": "961dd257",
   "metadata": {},
   "source": [
    "Linear Algebra, Calculus"
   ]
  },
  {
   "cell_type": "markdown",
   "id": "57c049bb",
   "metadata": {},
   "source": [
    "How the internet works, HTTP, IP, Docker"
   ]
  },
  {
   "cell_type": "markdown",
   "id": "09b091e8",
   "metadata": {},
   "source": [
    "# Machine Learning"
   ]
  },
  {
   "cell_type": "markdown",
   "id": "97d1adb6",
   "metadata": {},
   "source": [
    "Linear regression, logistic regression, K nearst neighbors, Naive Bayes, Decision Tree, Random Forst, Gradient boosting (XGboost, Catboost)"
   ]
  },
  {
   "cell_type": "markdown",
   "id": "a33ec706",
   "metadata": {},
   "source": [
    "# Deep Learning"
   ]
  },
  {
   "cell_type": "markdown",
   "id": "f0931671",
   "metadata": {},
   "source": [
    "ML vs DL, MLP, Activatoin functions, loss functions, back propogation, optimizations, vanishnig/exploding gradients, regularizations, GPU in Kaggle"
   ]
  },
  {
   "cell_type": "markdown",
   "id": "5fbaea0b",
   "metadata": {},
   "source": [
    "# Computer vision "
   ]
  },
  {
   "cell_type": "markdown",
   "id": "1578d5ec",
   "metadata": {},
   "source": [
    "Image processing, normalization, augmentation, CNN, pooling methods, Resnet with skip connections, object detection"
   ]
  },
  {
   "cell_type": "markdown",
   "id": "0e72eabb",
   "metadata": {},
   "source": [
    "# NLP"
   ]
  },
  {
   "cell_type": "markdown",
   "id": "e31d1df4",
   "metadata": {},
   "source": [
    "TF-IDF, N-grams, Word2Vec, Glove, Embeddings, attention, transformer, Sentiment analysis, summarization, LLM"
   ]
  },
  {
   "cell_type": "markdown",
   "id": "8eced8a7",
   "metadata": {},
   "source": [
    "# MLflow"
   ]
  },
  {
   "cell_type": "markdown",
   "id": "1ac085df",
   "metadata": {},
   "source": [
    "# Databases"
   ]
  },
  {
   "cell_type": "markdown",
   "id": "b64315f6",
   "metadata": {},
   "source": [
    "SQL, Mongo, Redis"
   ]
  }
 ],
 "metadata": {
  "kernelspec": {
   "display_name": "INT_venv",
   "language": "python",
   "name": "venv"
  },
  "language_info": {
   "codemirror_mode": {
    "name": "ipython",
    "version": 3
   },
   "file_extension": ".py",
   "mimetype": "text/x-python",
   "name": "python",
   "nbconvert_exporter": "python",
   "pygments_lexer": "ipython3",
   "version": "3.10.12"
  }
 },
 "nbformat": 4,
 "nbformat_minor": 5
}
