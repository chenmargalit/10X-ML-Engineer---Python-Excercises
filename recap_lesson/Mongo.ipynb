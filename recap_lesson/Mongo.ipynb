{
 "cells": [
  {
   "cell_type": "markdown",
   "id": "8a38a8bb",
   "metadata": {},
   "source": [
    "https://mongoplayground.net/"
   ]
  },
  {
   "cell_type": "code",
   "execution_count": null,
   "id": "9bc9ae3d",
   "metadata": {},
   "outputs": [],
   "source": [
    "db = {\n",
    "  \"orders\": [\n",
    "    {\n",
    "      \"_id\": 1,\n",
    "      \"item\": \"soccer ball\",\n",
    "      \"price\": 25,\n",
    "      \"quantity\": 3\n",
    "    },\n",
    "    {\n",
    "      \"_id\": 2,\n",
    "      \"item\": \"basketball\",\n",
    "      \"price\": 30,\n",
    "      \"quantity\": 2\n",
    "    },\n",
    "    {\n",
    "      \"_id\": 3\n",
    "    }\n",
    "  ],\n",
    "  \"inventory\": [\n",
    "    {\n",
    "      \"_id\": 1,\n",
    "      \"sku\": \"soccer ball\",\n",
    "      \"description\": \"Standard size 5 soccer ball\",\n",
    "      \"instock\": 150\n",
    "    },\n",
    "    {\n",
    "      \"_id\": 2,\n",
    "      \"sku\": \"basketball\",\n",
    "      \"description\": \"Official NBA-size basketball\",\n",
    "      \"instock\": 90\n",
    "    },\n",
    "    {\n",
    "      \"_id\": 3,\n",
    "      \"sku\": \"tennis racket\",\n",
    "      \"description\": \"Professional-grade tennis racket\",\n",
    "      \"instock\": 40\n",
    "    },\n",
    "    {\n",
    "      \"_id\": 4,\n",
    "      \"sku\": \"golf club\",\n",
    "      \"description\": \"High-quality golf iron\",\n",
    "      \"instock\": 35\n",
    "    },\n",
    "    {\n",
    "      \"_id\": 5,\n",
    "      \"sku\": null,\n",
    "      \"description\": \"Incomplete\"\n",
    "    }\n",
    "  ]\n",
    "}\n"
   ]
  },
  {
   "cell_type": "markdown",
   "id": "90fa728d",
   "metadata": {},
   "source": [
    "### Find all orders\n",
    "\n",
    "db.orders.find({})\n"
   ]
  },
  {
   "cell_type": "markdown",
   "id": "13a297c8",
   "metadata": {},
   "source": [
    "### Find orders where the price is greater than 20\n",
    "\n",
    "db.orders.find({ \"price\": { $gt: 20 } })\n"
   ]
  },
  {
   "cell_type": "markdown",
   "id": "813d9826",
   "metadata": {},
   "source": [
    "### Find an order with a specific item (e.g., \"basketball\")\n",
    "\n",
    "db.orders.find({ \"item\": \"basketball\" })\n"
   ]
  },
  {
   "cell_type": "markdown",
   "id": "8c37862f",
   "metadata": {},
   "source": [
    "### Find all inventory items that have more than 50 in stock\n",
    "\n",
    "db.inventory.find({ \"instock\": { $gt: 50 } })\n"
   ]
  },
  {
   "cell_type": "markdown",
   "id": "47d2b7f9",
   "metadata": {},
   "source": [
    "### Find all inventory items where SKU is not null\n",
    "\n",
    "db.inventory.find({ \"sku\": { $ne: null } })\n"
   ]
  },
  {
   "cell_type": "markdown",
   "id": "3c1403d3",
   "metadata": {},
   "source": [
    "### Update the stock for \"soccer ball\" by decreasing it by 10\n",
    "\n",
    "db.inventory.updateOne(\n",
    "  { \"sku\": \"soccer ball\" },\n",
    "  { $inc: { \"instock\": -10 } }\n",
    ")\n"
   ]
  },
  {
   "cell_type": "markdown",
   "id": "1ef196e6",
   "metadata": {},
   "source": [
    "### Delete an order with _id of 3\n",
    "\n",
    "db.orders.deleteOne({ \"_id\": 3 })\n"
   ]
  },
  {
   "cell_type": "markdown",
   "id": "fd85a17d",
   "metadata": {},
   "source": [
    "### Find all inventory items that contain the word \"ball\" in the description\n",
    "\n",
    "db.inventory.find({ \"description\": /ball/ })\n"
   ]
  },
  {
   "cell_type": "markdown",
   "id": "765dbf61",
   "metadata": {},
   "source": [
    "### Find the total stock of all items in inventory\n",
    "\n",
    "db.inventory.aggregate([\n",
    "  { $group: { _id: null, totalStock: { $sum: \"$instock\" } } }\n",
    "])\n"
   ]
  },
  {
   "cell_type": "markdown",
   "id": "912957e1",
   "metadata": {},
   "source": [
    "### Sort inventory by stock in descending order\n",
    "\n",
    "db.inventory.find().sort({ \"instock\": -1 })\n"
   ]
  },
  {
   "cell_type": "code",
   "execution_count": null,
   "id": "92d6cb78",
   "metadata": {},
   "outputs": [],
   "source": []
  },
  {
   "cell_type": "code",
   "execution_count": null,
   "id": "805f6707",
   "metadata": {},
   "outputs": [],
   "source": []
  },
  {
   "cell_type": "code",
   "execution_count": 7,
   "id": "101096bc",
   "metadata": {},
   "outputs": [],
   "source": [
    "import pandas as pd"
   ]
  },
  {
   "cell_type": "code",
   "execution_count": 9,
   "id": "bf46e037",
   "metadata": {},
   "outputs": [],
   "source": [
    "df = pd.read_csv('insurance.csv')"
   ]
  },
  {
   "cell_type": "code",
   "execution_count": 11,
   "id": "2d550369",
   "metadata": {},
   "outputs": [
    {
     "data": {
      "text/html": [
       "<div>\n",
       "<style scoped>\n",
       "    .dataframe tbody tr th:only-of-type {\n",
       "        vertical-align: middle;\n",
       "    }\n",
       "\n",
       "    .dataframe tbody tr th {\n",
       "        vertical-align: top;\n",
       "    }\n",
       "\n",
       "    .dataframe thead th {\n",
       "        text-align: right;\n",
       "    }\n",
       "</style>\n",
       "<table border=\"1\" class=\"dataframe\">\n",
       "  <thead>\n",
       "    <tr style=\"text-align: right;\">\n",
       "      <th></th>\n",
       "      <th>age</th>\n",
       "      <th>sex</th>\n",
       "      <th>bmi</th>\n",
       "      <th>children</th>\n",
       "      <th>smoker</th>\n",
       "      <th>region</th>\n",
       "      <th>charges</th>\n",
       "    </tr>\n",
       "  </thead>\n",
       "  <tbody>\n",
       "    <tr>\n",
       "      <th>0</th>\n",
       "      <td>19</td>\n",
       "      <td>female</td>\n",
       "      <td>27.900</td>\n",
       "      <td>0</td>\n",
       "      <td>yes</td>\n",
       "      <td>southwest</td>\n",
       "      <td>16884.92400</td>\n",
       "    </tr>\n",
       "    <tr>\n",
       "      <th>1</th>\n",
       "      <td>18</td>\n",
       "      <td>male</td>\n",
       "      <td>33.770</td>\n",
       "      <td>1</td>\n",
       "      <td>no</td>\n",
       "      <td>southeast</td>\n",
       "      <td>1725.55230</td>\n",
       "    </tr>\n",
       "    <tr>\n",
       "      <th>2</th>\n",
       "      <td>28</td>\n",
       "      <td>male</td>\n",
       "      <td>33.000</td>\n",
       "      <td>3</td>\n",
       "      <td>no</td>\n",
       "      <td>southeast</td>\n",
       "      <td>4449.46200</td>\n",
       "    </tr>\n",
       "    <tr>\n",
       "      <th>3</th>\n",
       "      <td>33</td>\n",
       "      <td>male</td>\n",
       "      <td>22.705</td>\n",
       "      <td>0</td>\n",
       "      <td>no</td>\n",
       "      <td>northwest</td>\n",
       "      <td>21984.47061</td>\n",
       "    </tr>\n",
       "    <tr>\n",
       "      <th>4</th>\n",
       "      <td>32</td>\n",
       "      <td>male</td>\n",
       "      <td>28.880</td>\n",
       "      <td>0</td>\n",
       "      <td>no</td>\n",
       "      <td>northwest</td>\n",
       "      <td>3866.85520</td>\n",
       "    </tr>\n",
       "  </tbody>\n",
       "</table>\n",
       "</div>"
      ],
      "text/plain": [
       "   age     sex     bmi  children smoker     region      charges\n",
       "0   19  female  27.900         0    yes  southwest  16884.92400\n",
       "1   18    male  33.770         1     no  southeast   1725.55230\n",
       "2   28    male  33.000         3     no  southeast   4449.46200\n",
       "3   33    male  22.705         0     no  northwest  21984.47061\n",
       "4   32    male  28.880         0     no  northwest   3866.85520"
      ]
     },
     "execution_count": 11,
     "metadata": {},
     "output_type": "execute_result"
    }
   ],
   "source": [
    "df.head()"
   ]
  },
  {
   "cell_type": "code",
   "execution_count": 14,
   "id": "426000d7",
   "metadata": {},
   "outputs": [],
   "source": [
    "df = pd.read_csv('fake_job_postings.csv')"
   ]
  },
  {
   "cell_type": "markdown",
   "id": "dd4b8cb8",
   "metadata": {},
   "source": [
    "https://www.kaggle.com/datasets/shivamb/real-or-fake-fake-jobposting-prediction"
   ]
  },
  {
   "cell_type": "code",
   "execution_count": null,
   "id": "2ad281e3",
   "metadata": {},
   "outputs": [],
   "source": []
  }
 ],
 "metadata": {
  "kernelspec": {
   "display_name": "INT_venv",
   "language": "python",
   "name": "venv"
  },
  "language_info": {
   "codemirror_mode": {
    "name": "ipython",
    "version": 3
   },
   "file_extension": ".py",
   "mimetype": "text/x-python",
   "name": "python",
   "nbconvert_exporter": "python",
   "pygments_lexer": "ipython3",
   "version": "3.10.12"
  }
 },
 "nbformat": 4,
 "nbformat_minor": 5
}
