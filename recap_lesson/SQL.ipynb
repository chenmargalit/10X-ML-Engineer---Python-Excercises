{
 "cells": [
  {
   "cell_type": "markdown",
   "id": "efb4a895",
   "metadata": {},
   "source": [
    "SQL DB: https://www.w3schools.com/sql/trysql.asp?filename=trysql_asc"
   ]
  },
  {
   "cell_type": "markdown",
   "id": "71a10726",
   "metadata": {},
   "source": [
    "SELECT * FROM customers;\n"
   ]
  },
  {
   "cell_type": "markdown",
   "id": "4a7bc767",
   "metadata": {},
   "source": [
    "SELECT DISTINCT country FROM customers;"
   ]
  },
  {
   "cell_type": "markdown",
   "id": "0e413ee7",
   "metadata": {},
   "source": [
    "SELECT country, COUNT(*) AS customer_count from customers group by country order by country desc;"
   ]
  },
  {
   "cell_type": "markdown",
   "id": "b55dd421",
   "metadata": {},
   "source": [
    "SELECT * FROM customers\n",
    "WHERE city = 'London';"
   ]
  },
  {
   "cell_type": "markdown",
   "id": "fdc7e642",
   "metadata": {},
   "source": [
    "SELECT * FROM customers\n",
    "WHERE contactname IS NULL;"
   ]
  },
  {
   "cell_type": "markdown",
   "id": "0d1c7075",
   "metadata": {},
   "source": [
    "SELECT * FROM customers\n",
    "WHERE contactname IS NULL;"
   ]
  },
  {
   "cell_type": "markdown",
   "id": "22f31f7a",
   "metadata": {},
   "source": [
    "SELECT * FROM customers\n",
    "WHERE customername LIKE 'A%';"
   ]
  },
  {
   "cell_type": "markdown",
   "id": "a67a6482",
   "metadata": {},
   "source": [
    "SELECT country, COUNT(*) AS total_customers\n",
    "FROM customers\n",
    "GROUP BY country\n",
    "HAVING COUNT(*) > 5;"
   ]
  },
  {
   "cell_type": "markdown",
   "id": "f17942d1",
   "metadata": {},
   "source": [
    "SQL postgres DB - https://sqlplayground.app/sandbox/67a96d9b7244bde43a35af01"
   ]
  },
  {
   "cell_type": "markdown",
   "id": "e4144b53",
   "metadata": {},
   "source": [
    "-- 1. Find all cities in a specific country (e.g., 'USA')\n",
    "\n",
    "\n",
    "SELECT name, district, population \n",
    "FROM cities \n",
    "WHERE country_code = 'USA';\n"
   ]
  },
  {
   "cell_type": "markdown",
   "id": "bb32e558",
   "metadata": {},
   "source": [
    "-- 2. Find the most populated city in each country\n",
    "\n",
    "\n",
    "SELECT c1.country_code, c1.name AS city_name, c1.population \n",
    "FROM cities c1\n",
    "WHERE c1.population = (\n",
    "    SELECT MAX(c2.population) \n",
    "    FROM cities c2 \n",
    "    WHERE c2.country_code = c1.country_code\n",
    ");\n"
   ]
  },
  {
   "cell_type": "markdown",
   "id": "1dabc168",
   "metadata": {},
   "source": [
    "-- 3. Find countries with a population greater than 100 million\n",
    "\n",
    "\n",
    "SELECT name, population \n",
    "FROM countries \n",
    "WHERE population > 100000000;\n"
   ]
  },
  {
   "cell_type": "markdown",
   "id": "c77816dd",
   "metadata": {},
   "source": [
    "-- 4. Find the official languages of a specific country (e.g., 'IND')\n",
    "\n",
    "\n",
    "SELECT language \n",
    "FROM country_languagies \n",
    "WHERE country_code = 'IND' AND is_official = 'T';\n"
   ]
  },
  {
   "cell_type": "markdown",
   "id": "5d6f02ee",
   "metadata": {},
   "source": [
    "-- 5. Find the total population of all cities in a country (e.g., 'FRA')\n",
    "\n",
    "\n",
    "SELECT SUM(population) AS total_population\n",
    "FROM cities\n",
    "WHERE country_code = 'FRA';\n"
   ]
  },
  {
   "cell_type": "markdown",
   "id": "15f1b638",
   "metadata": {},
   "source": [
    "-- 6. List the top 10 most populated countries\n",
    "\n",
    "\n",
    "SELECT name, population \n",
    "FROM countries \n",
    "ORDER BY population DESC \n",
    "LIMIT 10;\n"
   ]
  },
  {
   "cell_type": "markdown",
   "id": "f120dbcf",
   "metadata": {},
   "source": [
    "-- 7. Find countries where English is spoken (either officially or unofficially)\n",
    "\n",
    "\n",
    "SELECT DISTINCT c.name \n",
    "FROM countries c\n",
    "JOIN country_languagies cl ON c.code = cl.country_code\n",
    "WHERE cl.language = 'English';\n"
   ]
  },
  {
   "cell_type": "markdown",
   "id": "8c187c64",
   "metadata": {},
   "source": [
    "-- 8. Find countries where the capital is a city with a population of more than 5 million\n",
    "\n",
    "\n",
    "SELECT co.name, ci.name AS capital_city, ci.population\n",
    "FROM countries co\n",
    "JOIN cities ci ON co.capital = ci.id\n",
    "WHERE ci.population > 5000000;\n"
   ]
  },
  {
   "cell_type": "markdown",
   "id": "11fd3394",
   "metadata": {},
   "source": [
    "-- 9. Find the largest city in the world by population\n",
    "\n",
    "\n",
    "SELECT name, country_code, population\n",
    "FROM cities\n",
    "ORDER BY population DESC\n",
    "LIMIT 1;\n"
   ]
  },
  {
   "cell_type": "markdown",
   "id": "3bb47a1c",
   "metadata": {},
   "source": [
    "-- 10. Find the country with the highest GDP (GNP)\n",
    "\n",
    "\n",
    "SELECT name, gnp \n",
    "FROM countries \n",
    "ORDER BY gnp DESC \n",
    "LIMIT 1;\n"
   ]
  },
  {
   "cell_type": "code",
   "execution_count": null,
   "id": "7f3cce6e",
   "metadata": {},
   "outputs": [],
   "source": []
  }
 ],
 "metadata": {
  "kernelspec": {
   "display_name": "INT_venv",
   "language": "python",
   "name": "venv"
  },
  "language_info": {
   "codemirror_mode": {
    "name": "ipython",
    "version": 3
   },
   "file_extension": ".py",
   "mimetype": "text/x-python",
   "name": "python",
   "nbconvert_exporter": "python",
   "pygments_lexer": "ipython3",
   "version": "3.10.12"
  }
 },
 "nbformat": 4,
 "nbformat_minor": 5
}
