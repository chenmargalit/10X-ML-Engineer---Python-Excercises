{
 "cells": [
  {
   "cell_type": "code",
   "execution_count": 38,
   "id": "740625d9",
   "metadata": {},
   "outputs": [],
   "source": [
    "# mlflow models serve -m \"models:/<model_name>/<version>\" --host 0.0.0.0 --port 5001"
   ]
  },
  {
   "cell_type": "code",
   "execution_count": 46,
   "id": "8e434718",
   "metadata": {},
   "outputs": [],
   "source": [
    "# mlflow models serve -m \"4/064c1ab8713c40149f92bd6849cee7fc/artifacts/logistic_regression/\" --no-conda --host 0.0.0.0 --port 5001"
   ]
  },
  {
   "cell_type": "code",
   "execution_count": 47,
   "id": "bc712c18",
   "metadata": {},
   "outputs": [],
   "source": [
    "# kill -9 $(lsof -ti :5000)"
   ]
  },
  {
   "cell_type": "code",
   "execution_count": 1,
   "id": "350bdb94",
   "metadata": {},
   "outputs": [],
   "source": [
    "import numpy as np\n",
    "import requests\n",
    "import json\n",
    "import pandas as pd\n",
    "import mlflow\n",
    "from mlflow.tracking import MlflowClient\n",
    "from sklearn.datasets import fetch_covtype\n",
    "from sklearn.model_selection import train_test_split\n",
    "from sklearn.preprocessing import StandardScaler\n",
    "from sklearn.metrics import accuracy_score\n",
    "from sklearn.linear_model import LogisticRegression\n",
    "from sklearn.tree import DecisionTreeClassifier\n",
    "from catboost import CatBoostClassifier"
   ]
  },
  {
   "cell_type": "code",
   "execution_count": 2,
   "id": "cfacb451",
   "metadata": {},
   "outputs": [],
   "source": [
    "data = fetch_covtype()\n",
    "X, y = data.data, data.target"
   ]
  },
  {
   "cell_type": "code",
   "execution_count": 3,
   "id": "dfd77f0e",
   "metadata": {},
   "outputs": [],
   "source": [
    "df = pd.DataFrame(X, columns=data.feature_names)\n",
    "df['target'] = y"
   ]
  },
  {
   "cell_type": "code",
   "execution_count": 4,
   "id": "96351bb4",
   "metadata": {},
   "outputs": [],
   "source": [
    "df_sampled = df.sample(n=1000, random_state=42)"
   ]
  },
  {
   "cell_type": "code",
   "execution_count": 5,
   "id": "d4d56f9b",
   "metadata": {},
   "outputs": [],
   "source": [
    "X_sampled = df_sampled.drop(columns=['target'])\n",
    "y_sampled = df_sampled['target']"
   ]
  },
  {
   "cell_type": "code",
   "execution_count": 6,
   "id": "380ec1bf",
   "metadata": {},
   "outputs": [],
   "source": [
    "X_train, X_test, y_train, y_test = train_test_split(X_sampled, y_sampled, test_size=0.2, random_state=42, stratify=y_sampled)"
   ]
  },
  {
   "cell_type": "code",
   "execution_count": 7,
   "id": "a20f1a55",
   "metadata": {},
   "outputs": [],
   "source": [
    "scaler = StandardScaler()\n",
    "X_train = scaler.fit_transform(X_train)\n",
    "X_test = scaler.transform(X_test)"
   ]
  },
  {
   "cell_type": "code",
   "execution_count": 8,
   "id": "ed92aba7",
   "metadata": {},
   "outputs": [],
   "source": [
    "models = {\n",
    "    \"Logistic Regression\": LogisticRegression(max_iter=1000, solver='saga'),\n",
    "    \"Decision Tree\": DecisionTreeClassifier(max_depth=10),\n",
    "    \"CatBoost\": CatBoostClassifier(verbose=0)\n",
    "}"
   ]
  },
  {
   "cell_type": "code",
   "execution_count": 9,
   "id": "1fb381a5",
   "metadata": {},
   "outputs": [
    {
     "name": "stdout",
     "output_type": "stream",
     "text": [
      "Logistic Regression: Accuracy = 0.7350\n",
      "Decision Tree: Accuracy = 0.6600\n",
      "CatBoost: Accuracy = 0.7800\n"
     ]
    }
   ],
   "source": [
    "results = {}\n",
    "for name, model in models.items():\n",
    "    model.fit(X_train, y_train)\n",
    "    y_pred = model.predict(X_test)\n",
    "    acc = accuracy_score(y_test, y_pred)\n",
    "    results[name] = acc\n",
    "    print(f\"{name}: Accuracy = {acc:.4f}\")"
   ]
  },
  {
   "cell_type": "code",
   "execution_count": 10,
   "id": "d19adad9",
   "metadata": {},
   "outputs": [
    {
     "data": {
      "text/plain": [
       "'file:///home/chen/Desktop/lectures/10x-ML-engineer/mlflow/mlruns'"
      ]
     },
     "execution_count": 10,
     "metadata": {},
     "output_type": "execute_result"
    }
   ],
   "source": [
    "mlflow.get_tracking_uri()"
   ]
  },
  {
   "cell_type": "code",
   "execution_count": 11,
   "id": "5f69c6b9",
   "metadata": {},
   "outputs": [],
   "source": [
    "mlflow.set_tracking_uri(\"http://127.0.0.1:5000\")\n",
    "# mlflow.create_experiment(\"new_experiment\")\n",
    "# mlflow.set_experiment(\"new_experiment\")"
   ]
  },
  {
   "cell_type": "code",
   "execution_count": 12,
   "id": "eb283ad2",
   "metadata": {},
   "outputs": [
    {
     "name": "stderr",
     "output_type": "stream",
     "text": [
      "2025/02/10 15:54:33 INFO mlflow.tracking.fluent: Experiment with name 'experiment_1' does not exist. Creating a new experiment.\n"
     ]
    },
    {
     "data": {
      "text/plain": [
       "<Experiment: artifact_location='/home/chen/Desktop/lectures/10x-ML-engineer/mlflow/mlruns/169155279765312299', creation_time=1739195673073, experiment_id='169155279765312299', last_update_time=1739195673073, lifecycle_stage='active', name='experiment_1', tags={}>"
      ]
     },
     "execution_count": 12,
     "metadata": {},
     "output_type": "execute_result"
    }
   ],
   "source": [
    "# Start MLflow experiment\n",
    "mlflow.set_experiment(\"experiment_1\")"
   ]
  },
  {
   "cell_type": "code",
   "execution_count": 13,
   "id": "1c596dec",
   "metadata": {},
   "outputs": [],
   "source": [
    "input_example = X_train[0]"
   ]
  },
  {
   "cell_type": "code",
   "execution_count": 14,
   "id": "9887e008",
   "metadata": {},
   "outputs": [],
   "source": [
    "input_example = input_example.reshape(1, -1)"
   ]
  },
  {
   "cell_type": "code",
   "execution_count": 15,
   "id": "9de07274",
   "metadata": {},
   "outputs": [
    {
     "data": {
      "text/plain": [
       "{'Logistic Regression': LogisticRegression(max_iter=1000, solver='saga'),\n",
       " 'Decision Tree': DecisionTreeClassifier(max_depth=10),\n",
       " 'CatBoost': <catboost.core.CatBoostClassifier at 0x75eb21338a60>}"
      ]
     },
     "execution_count": 15,
     "metadata": {},
     "output_type": "execute_result"
    }
   ],
   "source": [
    "models"
   ]
  },
  {
   "cell_type": "code",
   "execution_count": 16,
   "id": "206700d7",
   "metadata": {},
   "outputs": [
    {
     "name": "stdout",
     "output_type": "stream",
     "text": [
      "Logistic Regression: Accuracy = 0.7350\n",
      "🏃 View run Logistic Regression at: http://127.0.0.1:5000/#/experiments/169155279765312299/runs/9b179cf37dd247fcaa54dcc36f2e2d98\n",
      "🧪 View experiment at: http://127.0.0.1:5000/#/experiments/169155279765312299\n",
      "Decision Tree: Accuracy = 0.6800\n",
      "🏃 View run Decision Tree at: http://127.0.0.1:5000/#/experiments/169155279765312299/runs/91a4b196f0da4fa296cbd6c08296ab27\n",
      "🧪 View experiment at: http://127.0.0.1:5000/#/experiments/169155279765312299\n",
      "CatBoost: Accuracy = 0.7800\n",
      "🏃 View run CatBoost at: http://127.0.0.1:5000/#/experiments/169155279765312299/runs/7efe2da061c64680b9ed0eeca36e59d0\n",
      "🧪 View experiment at: http://127.0.0.1:5000/#/experiments/169155279765312299\n",
      "\n",
      "✅ Experiment tracking complete. Run `mlflow ui` to view results.\n"
     ]
    }
   ],
   "source": [
    "\n",
    "results = {}\n",
    "for name, model in models.items():\n",
    "    with mlflow.start_run(run_name=name):\n",
    "        # Train model\n",
    "        model.fit(X_train, y_train)\n",
    "        y_pred = model.predict(X_test)\n",
    "        acc = accuracy_score(y_test, y_pred)\n",
    "\n",
    "        # Log model parameters\n",
    "        if hasattr(model, \"get_params\"):\n",
    "            params = model.get_params()\n",
    "            mlflow.log_params(params)\n",
    "\n",
    "        # Log additional metadata\n",
    "        mlflow.log_param(\"model_name\", name)\n",
    "        mlflow.log_param(\"dataset_size\", len(X_sampled))\n",
    "        mlflow.log_param(\"test_size_ratio\", 0.2)\n",
    "        mlflow.log_param(\"feature_scaling\", \"StandardScaler\")\n",
    "\n",
    "        # Log metrics\n",
    "        mlflow.log_metric(\"accuracy\", acc)\n",
    "\n",
    "        # Log model itself\n",
    "        mlflow.sklearn.log_model(model, name, input_example=input_example)\n",
    "\n",
    "        results[name] = acc\n",
    "        print(f\"{name}: Accuracy = {acc:.4f}\")\n",
    "\n",
    "print(\"\\n✅ Experiment tracking complete. Run `mlflow ui` to view results.\")\n"
   ]
  },
  {
   "cell_type": "code",
   "execution_count": 31,
   "id": "f1216114",
   "metadata": {},
   "outputs": [
    {
     "name": "stdout",
     "output_type": "stream",
     "text": [
      "http://127.0.0.1:5000\n"
     ]
    }
   ],
   "source": [
    "print(mlflow.get_tracking_uri())"
   ]
  },
  {
   "cell_type": "markdown",
   "id": "fa1893e9",
   "metadata": {},
   "source": [
    "# mlflow Registry"
   ]
  },
  {
   "cell_type": "code",
   "execution_count": 17,
   "id": "5072e908",
   "metadata": {},
   "outputs": [
    {
     "name": "stderr",
     "output_type": "stream",
     "text": [
      "2025/02/10 15:55:01 INFO mlflow.tracking.fluent: Experiment with name 'experiment_2' does not exist. Creating a new experiment.\n"
     ]
    },
    {
     "data": {
      "text/plain": [
       "<Experiment: artifact_location='/home/chen/Desktop/lectures/10x-ML-engineer/mlflow/mlruns/497038454285270979', creation_time=1739195701664, experiment_id='497038454285270979', last_update_time=1739195701664, lifecycle_stage='active', name='experiment_2', tags={}>"
      ]
     },
     "execution_count": 17,
     "metadata": {},
     "output_type": "execute_result"
    }
   ],
   "source": [
    "mlflow.set_experiment(\"experiment_2\")"
   ]
  },
  {
   "cell_type": "code",
   "execution_count": 18,
   "id": "64919833",
   "metadata": {},
   "outputs": [],
   "source": [
    "mdl = LogisticRegression()\n",
    "mdl.fit(X_train, y_train)\n",
    "y_pred = model.predict(X_test)"
   ]
  },
  {
   "cell_type": "code",
   "execution_count": 19,
   "id": "5fab1c66",
   "metadata": {},
   "outputs": [
    {
     "name": "stdout",
     "output_type": "stream",
     "text": [
      "0.78\n"
     ]
    }
   ],
   "source": [
    "acc = accuracy_score(y_test, y_pred)\n",
    "print(acc)"
   ]
  },
  {
   "cell_type": "code",
   "execution_count": 20,
   "id": "a80f4b66",
   "metadata": {},
   "outputs": [
    {
     "name": "stderr",
     "output_type": "stream",
     "text": [
      "Successfully registered model 'logistic_regression'.\n",
      "2025/02/10 15:55:06 INFO mlflow.store.model_registry.abstract_store: Waiting up to 300 seconds for model version to finish creation. Model name: logistic_regression, version 1\n"
     ]
    },
    {
     "name": "stdout",
     "output_type": "stream",
     "text": [
      "🏃 View run nimble-shrew-62 at: http://127.0.0.1:5000/#/experiments/497038454285270979/runs/939817291cba41449a81e2d5fa70ff97\n",
      "🧪 View experiment at: http://127.0.0.1:5000/#/experiments/497038454285270979\n",
      "Model registered as: logistic_regression, version: 1\n"
     ]
    },
    {
     "name": "stderr",
     "output_type": "stream",
     "text": [
      "Created version '1' of model 'logistic_regression'.\n"
     ]
    }
   ],
   "source": [
    "model = mdl\n",
    "\n",
    "with mlflow.start_run():\n",
    "    # Log model parameters (optional)\n",
    "    mlflow.log_param(\"model_type\", \"logistic_regression\")\n",
    "\n",
    "    # Log the trained model\n",
    "    model_uri = \"logistic_regression\"\n",
    "    mlflow.sklearn.log_model(model, model_uri, input_example=input_example)\n",
    "\n",
    "    # Register the model in the MLflow Model Registry\n",
    "    result = mlflow.register_model(f\"runs:/{mlflow.active_run().info.run_id}/{model_uri}\", \"logistic_regression\")\n",
    "\n",
    "print(f\"Model registered as: {result.name}, version: {result.version}\")\n"
   ]
  },
  {
   "cell_type": "code",
   "execution_count": 21,
   "id": "f6d2d9bf",
   "metadata": {},
   "outputs": [
    {
     "data": {
      "text/plain": [
       "'http://127.0.0.1:5000'"
      ]
     },
     "execution_count": 21,
     "metadata": {},
     "output_type": "execute_result"
    }
   ],
   "source": [
    "mlflow.get_tracking_uri()"
   ]
  },
  {
   "cell_type": "code",
   "execution_count": 22,
   "id": "d14b9ec6",
   "metadata": {},
   "outputs": [],
   "source": [
    "client = MlflowClient()"
   ]
  },
  {
   "cell_type": "code",
   "execution_count": 23,
   "id": "dd10c7bd",
   "metadata": {},
   "outputs": [
    {
     "name": "stdout",
     "output_type": "stream",
     "text": [
      "Version 1 - None\n"
     ]
    },
    {
     "name": "stderr",
     "output_type": "stream",
     "text": [
      "/tmp/ipykernel_230018/4164226889.py:1: FutureWarning: ``mlflow.tracking.client.MlflowClient.get_latest_versions`` is deprecated since 2.9.0. Model registry stages will be removed in a future major release. To learn more about the deprecation of model registry stages, see our migration guide here: https://mlflow.org/docs/latest/model-registry.html#migrating-from-stages\n",
      "  model_versions = client.get_latest_versions(\"logistic_regression\")\n"
     ]
    }
   ],
   "source": [
    "model_versions = client.get_latest_versions(\"logistic_regression\")\n",
    "for v in model_versions:\n",
    "    print(f\"Version {v.version} - {v.current_stage}\")"
   ]
  },
  {
   "cell_type": "code",
   "execution_count": 24,
   "id": "68b79ae3",
   "metadata": {},
   "outputs": [
    {
     "data": {
      "text/plain": [
       "array([2], dtype=int32)"
      ]
     },
     "execution_count": 24,
     "metadata": {},
     "output_type": "execute_result"
    }
   ],
   "source": [
    "mdl.predict(input_example)"
   ]
  },
  {
   "cell_type": "code",
   "execution_count": 26,
   "id": "e74b7a1d",
   "metadata": {},
   "outputs": [
    {
     "name": "stdout",
     "output_type": "stream",
     "text": [
      "{'predictions': [2]}\n"
     ]
    }
   ],
   "source": [
    "url = \"http://localhost:5001/invocations\"\n",
    "\n",
    "data = json.dumps({\"instances\": input_example.tolist()})\n",
    "\n",
    "headers = {\"Content-Type\": \"application/json\"}\n",
    "\n",
    "response = requests.post(url, headers=headers, data=data)\n",
    "\n",
    "print(response.json())"
   ]
  },
  {
   "cell_type": "code",
   "execution_count": null,
   "id": "326aa466",
   "metadata": {},
   "outputs": [],
   "source": []
  }
 ],
 "metadata": {
  "kernelspec": {
   "display_name": "INT_venv",
   "language": "python",
   "name": "venv"
  },
  "language_info": {
   "codemirror_mode": {
    "name": "ipython",
    "version": 3
   },
   "file_extension": ".py",
   "mimetype": "text/x-python",
   "name": "python",
   "nbconvert_exporter": "python",
   "pygments_lexer": "ipython3",
   "version": "3.10.12"
  }
 },
 "nbformat": 4,
 "nbformat_minor": 5
}
