{
 "cells": [
  {
   "cell_type": "code",
   "execution_count": 54,
   "id": "f244bcfc",
   "metadata": {},
   "outputs": [],
   "source": [
    "# mlflow server --backend-store-uri sqlite:///path/to/mlflow.db --default-artifact-root ./mlruns --host 0.0.0.0 --port 5000"
   ]
  },
  {
   "cell_type": "code",
   "execution_count": 46,
   "id": "8e434718",
   "metadata": {},
   "outputs": [],
   "source": [
    "# mlflow models serve -m \"4/064c1ab8713c40149f92bd6849cee7fc/artifacts/logistic_regression/\" --no-conda --host 0.0.0.0 --port 5001"
   ]
  },
  {
   "cell_type": "code",
   "execution_count": 47,
   "id": "bc712c18",
   "metadata": {},
   "outputs": [],
   "source": [
    "# kill -9 $(lsof -ti :5000)"
   ]
  },
  {
   "cell_type": "code",
   "execution_count": 14,
   "id": "350bdb94",
   "metadata": {},
   "outputs": [],
   "source": [
    "import numpy as np\n",
    "import requests\n",
    "import json\n",
    "import pandas as pd\n",
    "import mlflow\n",
    "from mlflow.tracking import MlflowClient\n",
    "from sklearn.datasets import fetch_covtype\n",
    "from sklearn.model_selection import train_test_split\n",
    "from sklearn.preprocessing import StandardScaler\n",
    "from sklearn.metrics import accuracy_score\n",
    "from sklearn.linear_model import LogisticRegression\n",
    "from sklearn.tree import DecisionTreeClassifier\n",
    "from catboost import CatBoostClassifier"
   ]
  },
  {
   "cell_type": "code",
   "execution_count": 15,
   "id": "cfacb451",
   "metadata": {},
   "outputs": [],
   "source": [
    "data = fetch_covtype()\n",
    "X, y = data.data, data.target"
   ]
  },
  {
   "cell_type": "code",
   "execution_count": 16,
   "id": "dfd77f0e",
   "metadata": {},
   "outputs": [],
   "source": [
    "df = pd.DataFrame(X, columns=data.feature_names)\n",
    "df['target'] = y"
   ]
  },
  {
   "cell_type": "code",
   "execution_count": 17,
   "id": "96351bb4",
   "metadata": {},
   "outputs": [],
   "source": [
    "df_sampled = df.sample(n=1000, random_state=42)"
   ]
  },
  {
   "cell_type": "code",
   "execution_count": 18,
   "id": "d4d56f9b",
   "metadata": {},
   "outputs": [],
   "source": [
    "X_sampled = df_sampled.drop(columns=['target'])\n",
    "y_sampled = df_sampled['target']"
   ]
  },
  {
   "cell_type": "code",
   "execution_count": 19,
   "id": "380ec1bf",
   "metadata": {},
   "outputs": [],
   "source": [
    "X_train, X_test, y_train, y_test = train_test_split(X_sampled, y_sampled, test_size=0.2, random_state=42, stratify=y_sampled)"
   ]
  },
  {
   "cell_type": "code",
   "execution_count": 20,
   "id": "a20f1a55",
   "metadata": {},
   "outputs": [],
   "source": [
    "scaler = StandardScaler()\n",
    "X_train = scaler.fit_transform(X_train)\n",
    "X_test = scaler.transform(X_test)"
   ]
  },
  {
   "cell_type": "code",
   "execution_count": 21,
   "id": "ed92aba7",
   "metadata": {},
   "outputs": [],
   "source": [
    "models = {\n",
    "    \"Logistic Regression\": LogisticRegression(max_iter=1000, solver='saga'),\n",
    "    \"Decision Tree\": DecisionTreeClassifier(max_depth=10),\n",
    "    \"CatBoost\": CatBoostClassifier(verbose=0)\n",
    "}"
   ]
  },
  {
   "cell_type": "code",
   "execution_count": 22,
   "id": "1fb381a5",
   "metadata": {},
   "outputs": [
    {
     "name": "stdout",
     "output_type": "stream",
     "text": [
      "Logistic Regression: Accuracy = 0.7350\n",
      "Decision Tree: Accuracy = 0.6400\n",
      "CatBoost: Accuracy = 0.7800\n"
     ]
    }
   ],
   "source": [
    "results = {}\n",
    "for name, model in models.items():\n",
    "    model.fit(X_train, y_train)\n",
    "    y_pred = model.predict(X_test)\n",
    "    acc = accuracy_score(y_test, y_pred)\n",
    "    results[name] = acc\n",
    "    print(f\"{name}: Accuracy = {acc:.4f}\")"
   ]
  },
  {
   "cell_type": "code",
   "execution_count": 23,
   "id": "5f69c6b9",
   "metadata": {},
   "outputs": [],
   "source": [
    "# mlflow.set_tracking_uri(\"http://127.0.0.1:5000\")\n",
    "# mlflow.create_experiment(\"new_experiment\")\n",
    "# mlflow.set_experiment(\"new_experiment\")"
   ]
  },
  {
   "cell_type": "code",
   "execution_count": 27,
   "id": "eb283ad2",
   "metadata": {},
   "outputs": [
    {
     "data": {
      "text/plain": [
       "<Experiment: artifact_location='/home/chen/Desktop/mlruns/3', creation_time=1738836534702, experiment_id='3', last_update_time=1738836534702, lifecycle_stage='active', name='experiment_2', tags={}>"
      ]
     },
     "execution_count": 27,
     "metadata": {},
     "output_type": "execute_result"
    }
   ],
   "source": [
    "# Start MLflow experiment\n",
    "mlflow.set_experiment(\"experiment_2\")"
   ]
  },
  {
   "cell_type": "code",
   "execution_count": 24,
   "id": "1c596dec",
   "metadata": {},
   "outputs": [],
   "source": [
    "input_example = X_train[0]"
   ]
  },
  {
   "cell_type": "code",
   "execution_count": 37,
   "id": "9887e008",
   "metadata": {},
   "outputs": [],
   "source": [
    "input_example = input_example.reshape(1, -1)"
   ]
  },
  {
   "cell_type": "code",
   "execution_count": 30,
   "id": "206700d7",
   "metadata": {},
   "outputs": [
    {
     "name": "stdout",
     "output_type": "stream",
     "text": [
      "Logistic Regression: Accuracy = 0.7350\n",
      "🏃 View run Logistic Regression at: http://127.0.0.1:5000/#/experiments/3/runs/b49f402432bc4e52880f8d6f7e5aff34\n",
      "🧪 View experiment at: http://127.0.0.1:5000/#/experiments/3\n",
      "Decision Tree: Accuracy = 0.6800\n",
      "🏃 View run Decision Tree at: http://127.0.0.1:5000/#/experiments/3/runs/c87947d63ba54c8a94998208b690b972\n",
      "🧪 View experiment at: http://127.0.0.1:5000/#/experiments/3\n",
      "CatBoost: Accuracy = 0.7800\n",
      "🏃 View run CatBoost at: http://127.0.0.1:5000/#/experiments/3/runs/6a466b77ed2644b6b66ea36366e9ccff\n",
      "🧪 View experiment at: http://127.0.0.1:5000/#/experiments/3\n",
      "\n",
      "✅ Experiment tracking complete. Run `mlflow ui` to view results.\n"
     ]
    }
   ],
   "source": [
    "\n",
    "results = {}\n",
    "for name, model in models.items():\n",
    "    with mlflow.start_run(run_name=name):\n",
    "        # Train model\n",
    "        model.fit(X_train, y_train)\n",
    "        y_pred = model.predict(X_test)\n",
    "        acc = accuracy_score(y_test, y_pred)\n",
    "\n",
    "        # Log model parameters\n",
    "        if hasattr(model, \"get_params\"):\n",
    "            params = model.get_params()\n",
    "            mlflow.log_params(params)\n",
    "\n",
    "        # Log additional metadata\n",
    "        mlflow.log_param(\"model_name\", name)\n",
    "        mlflow.log_param(\"dataset_size\", len(X_sampled))\n",
    "        mlflow.log_param(\"test_size_ratio\", 0.2)\n",
    "        mlflow.log_param(\"feature_scaling\", \"StandardScaler\")\n",
    "\n",
    "        # Log metrics\n",
    "        mlflow.log_metric(\"accuracy\", acc)\n",
    "\n",
    "        # Log model itself\n",
    "        mlflow.sklearn.log_model(model, name, input_example=input_example)\n",
    "\n",
    "        results[name] = acc\n",
    "        print(f\"{name}: Accuracy = {acc:.4f}\")\n",
    "\n",
    "print(\"\\n✅ Experiment tracking complete. Run `mlflow ui` to view results.\")\n"
   ]
  },
  {
   "cell_type": "code",
   "execution_count": 31,
   "id": "f1216114",
   "metadata": {},
   "outputs": [
    {
     "name": "stdout",
     "output_type": "stream",
     "text": [
      "http://127.0.0.1:5000\n"
     ]
    }
   ],
   "source": [
    "print(mlflow.get_tracking_uri())"
   ]
  },
  {
   "cell_type": "markdown",
   "id": "fa1893e9",
   "metadata": {},
   "source": [
    "# mlflow Registry"
   ]
  },
  {
   "cell_type": "code",
   "execution_count": 34,
   "id": "5072e908",
   "metadata": {},
   "outputs": [
    {
     "name": "stderr",
     "output_type": "stream",
     "text": [
      "2025/02/06 12:09:29 INFO mlflow.tracking.fluent: Experiment with name 'experiment_3' does not exist. Creating a new experiment.\n"
     ]
    },
    {
     "data": {
      "text/plain": [
       "<Experiment: artifact_location='/home/chen/Desktop/mlruns/4', creation_time=1738836569932, experiment_id='4', last_update_time=1738836569932, lifecycle_stage='active', name='experiment_3', tags={}>"
      ]
     },
     "execution_count": 34,
     "metadata": {},
     "output_type": "execute_result"
    }
   ],
   "source": [
    "mlflow.set_experiment(\"experiment_3\")"
   ]
  },
  {
   "cell_type": "code",
   "execution_count": 35,
   "id": "64919833",
   "metadata": {},
   "outputs": [],
   "source": [
    "mdl = LogisticRegression()\n",
    "mdl.fit(X_train, y_train)\n",
    "y_pred = model.predict(X_test)"
   ]
  },
  {
   "cell_type": "code",
   "execution_count": 36,
   "id": "5fab1c66",
   "metadata": {},
   "outputs": [
    {
     "name": "stdout",
     "output_type": "stream",
     "text": [
      "0.78\n"
     ]
    }
   ],
   "source": [
    "acc = accuracy_score(y_test, y_pred)\n",
    "print(acc)"
   ]
  },
  {
   "cell_type": "code",
   "execution_count": 37,
   "id": "a80f4b66",
   "metadata": {},
   "outputs": [
    {
     "name": "stderr",
     "output_type": "stream",
     "text": [
      "Successfully registered model 'logistic_regression'.\n",
      "2025/02/06 12:09:35 INFO mlflow.store.model_registry.abstract_store: Waiting up to 300 seconds for model version to finish creation. Model name: logistic_regression, version 1\n"
     ]
    },
    {
     "name": "stdout",
     "output_type": "stream",
     "text": [
      "🏃 View run crawling-ray-512 at: http://127.0.0.1:5000/#/experiments/4/runs/064c1ab8713c40149f92bd6849cee7fc\n",
      "🧪 View experiment at: http://127.0.0.1:5000/#/experiments/4\n",
      "Model registered as: logistic_regression, version: 1\n"
     ]
    },
    {
     "name": "stderr",
     "output_type": "stream",
     "text": [
      "Created version '1' of model 'logistic_regression'.\n"
     ]
    }
   ],
   "source": [
    "model = mdl\n",
    "\n",
    "with mlflow.start_run():\n",
    "    # Log model parameters (optional)\n",
    "    mlflow.log_param(\"model_type\", \"logistic_regression\")\n",
    "\n",
    "    # Log the trained model\n",
    "    model_uri = \"logistic_regression\"\n",
    "    mlflow.sklearn.log_model(model, model_uri, input_example=input_example)\n",
    "\n",
    "    # Register the model in the MLflow Model Registry\n",
    "    result = mlflow.register_model(f\"runs:/{mlflow.active_run().info.run_id}/{model_uri}\", \"logistic_regression\")\n",
    "\n",
    "print(f\"Model registered as: {result.name}, version: {result.version}\")\n"
   ]
  },
  {
   "cell_type": "code",
   "execution_count": 41,
   "id": "f6d2d9bf",
   "metadata": {},
   "outputs": [
    {
     "data": {
      "text/plain": [
       "'http://127.0.0.1:5000'"
      ]
     },
     "execution_count": 41,
     "metadata": {},
     "output_type": "execute_result"
    }
   ],
   "source": [
    "mlflow.get_tracking_uri()"
   ]
  },
  {
   "cell_type": "code",
   "execution_count": 42,
   "id": "dd10c7bd",
   "metadata": {},
   "outputs": [
    {
     "name": "stdout",
     "output_type": "stream",
     "text": [
      "Version 1 - None\n"
     ]
    },
    {
     "name": "stderr",
     "output_type": "stream",
     "text": [
      "/tmp/ipykernel_58213/2109146132.py:4: FutureWarning: ``mlflow.tracking.client.MlflowClient.get_latest_versions`` is deprecated since 2.9.0. Model registry stages will be removed in a future major release. To learn more about the deprecation of model registry stages, see our migration guide here: https://mlflow.org/docs/latest/model-registry.html#migrating-from-stages\n",
      "  model_versions = client.get_latest_versions(\"logistic_regression\")\n"
     ]
    }
   ],
   "source": [
    "\n",
    "client = MlflowClient()\n",
    "model_versions = client.get_latest_versions(\"logistic_regression\")\n",
    "for v in model_versions:\n",
    "    print(f\"Version {v.version} - {v.current_stage}\")\n"
   ]
  },
  {
   "cell_type": "code",
   "execution_count": 43,
   "id": "e4cb4f1f",
   "metadata": {},
   "outputs": [
    {
     "data": {
      "text/plain": [
       "array([[ 0.31905034,  0.92898242,  0.78444028, -0.38050697, -0.63090735,\n",
       "        -1.06414993, -1.62927445,  1.07074037,  1.89420581, -0.77028791,\n",
       "        -0.93228691, -0.22021079,  1.17815946, -0.27435163, -0.07930516,\n",
       "        -0.1334605 , -0.09395338, -0.15597367, -0.05006262, -0.09395338,\n",
       "        -0.03537746,  0.        ,  0.        , -0.27170849, -0.10666772,\n",
       "        -0.24413654,  7.        , -0.03537746,  0.        , -0.05006262,\n",
       "        -0.07088812, -0.05006262, -0.10666772, -0.1334605 ,  0.        ,\n",
       "        -0.27697656, -0.33333333, -0.21068086,  0.        , -0.03537746,\n",
       "        -0.08692914,  0.        , -0.5       , -0.23241869, -0.21707238,\n",
       "        -0.31207962, -0.27170849, -0.05006262, -0.03537746,  0.        ,\n",
       "        -0.03537746, -0.1382327 , -0.1382327 , -0.12852402]])"
      ]
     },
     "execution_count": 43,
     "metadata": {},
     "output_type": "execute_result"
    }
   ],
   "source": [
    "input_example"
   ]
  },
  {
   "cell_type": "code",
   "execution_count": 44,
   "id": "68b79ae3",
   "metadata": {},
   "outputs": [
    {
     "data": {
      "text/plain": [
       "array([2], dtype=int32)"
      ]
     },
     "execution_count": 44,
     "metadata": {},
     "output_type": "execute_result"
    }
   ],
   "source": [
    "mdl.predict(input_example)"
   ]
  },
  {
   "cell_type": "code",
   "execution_count": 52,
   "id": "e74b7a1d",
   "metadata": {},
   "outputs": [],
   "source": [
    "url = \"http://localhost:5001/invocations\"\n",
    "\n",
    "data = json.dumps({\"instances\": input_example.tolist()})\n",
    "\n",
    "headers = {\"Content-Type\": \"application/json\"}"
   ]
  },
  {
   "cell_type": "code",
   "execution_count": 53,
   "id": "48ddf701",
   "metadata": {},
   "outputs": [
    {
     "name": "stdout",
     "output_type": "stream",
     "text": [
      "{'predictions': [2]}\n"
     ]
    }
   ],
   "source": [
    "response = requests.post(url, headers=headers, data=data)\n",
    "\n",
    "print(response.json())"
   ]
  },
  {
   "cell_type": "code",
   "execution_count": null,
   "id": "57e1d2ff",
   "metadata": {},
   "outputs": [],
   "source": []
  }
 ],
 "metadata": {
  "kernelspec": {
   "display_name": "INT_venv",
   "language": "python",
   "name": "venv"
  },
  "language_info": {
   "codemirror_mode": {
    "name": "ipython",
    "version": 3
   },
   "file_extension": ".py",
   "mimetype": "text/x-python",
   "name": "python",
   "nbconvert_exporter": "python",
   "pygments_lexer": "ipython3",
   "version": "3.10.12"
  }
 },
 "nbformat": 4,
 "nbformat_minor": 5
}
