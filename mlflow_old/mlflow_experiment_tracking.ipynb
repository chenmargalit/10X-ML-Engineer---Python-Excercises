{
 "cells": [
  {
   "cell_type": "code",
   "execution_count": 1,
   "id": "350bdb94",
   "metadata": {},
   "outputs": [],
   "source": [
    "import mlflow\n",
    "import numpy as np\n",
    "import pandas as pd\n",
    "from sklearn.datasets import fetch_covtype\n",
    "from sklearn.model_selection import train_test_split\n",
    "from sklearn.preprocessing import StandardScaler\n",
    "from sklearn.metrics import accuracy_score\n",
    "from sklearn.linear_model import LogisticRegression\n",
    "from sklearn.tree import DecisionTreeClassifier\n",
    "from catboost import CatBoostClassifier"
   ]
  },
  {
   "cell_type": "code",
   "execution_count": 2,
   "id": "cfacb451",
   "metadata": {},
   "outputs": [],
   "source": [
    "data = fetch_covtype()\n",
    "X, y = data.data, data.target"
   ]
  },
  {
   "cell_type": "code",
   "execution_count": 3,
   "id": "dfd77f0e",
   "metadata": {},
   "outputs": [],
   "source": [
    "df = pd.DataFrame(X, columns=data.feature_names)\n",
    "df['target'] = y"
   ]
  },
  {
   "cell_type": "code",
   "execution_count": 4,
   "id": "96351bb4",
   "metadata": {},
   "outputs": [],
   "source": [
    "df_sampled = df.sample(n=1000, random_state=42)"
   ]
  },
  {
   "cell_type": "code",
   "execution_count": 5,
   "id": "d4d56f9b",
   "metadata": {},
   "outputs": [],
   "source": [
    "X_sampled = df_sampled.drop(columns=['target'])\n",
    "y_sampled = df_sampled['target']"
   ]
  },
  {
   "cell_type": "code",
   "execution_count": 6,
   "id": "380ec1bf",
   "metadata": {},
   "outputs": [],
   "source": [
    "X_train, X_test, y_train, y_test = train_test_split(X_sampled, y_sampled, test_size=0.2, random_state=42, stratify=y_sampled)"
   ]
  },
  {
   "cell_type": "code",
   "execution_count": 7,
   "id": "a20f1a55",
   "metadata": {},
   "outputs": [],
   "source": [
    "scaler = StandardScaler()\n",
    "X_train = scaler.fit_transform(X_train)\n",
    "X_test = scaler.transform(X_test)"
   ]
  },
  {
   "cell_type": "code",
   "execution_count": 8,
   "id": "ed92aba7",
   "metadata": {},
   "outputs": [],
   "source": [
    "models = {\n",
    "    \"Logistic Regression\": LogisticRegression(max_iter=1000, solver='saga'),\n",
    "    \"Decision Tree\": DecisionTreeClassifier(max_depth=10),\n",
    "    \"CatBoost\": CatBoostClassifier(verbose=0)\n",
    "}"
   ]
  },
  {
   "cell_type": "code",
   "execution_count": 9,
   "id": "1fb381a5",
   "metadata": {},
   "outputs": [
    {
     "name": "stdout",
     "output_type": "stream",
     "text": [
      "Logistic Regression: Accuracy = 0.7350\n",
      "Decision Tree: Accuracy = 0.6600\n",
      "CatBoost: Accuracy = 0.7800\n"
     ]
    }
   ],
   "source": [
    "results = {}\n",
    "for name, model in models.items():\n",
    "    model.fit(X_train, y_train)\n",
    "    y_pred = model.predict(X_test)\n",
    "    acc = accuracy_score(y_test, y_pred)\n",
    "    results[name] = acc\n",
    "    print(f\"{name}: Accuracy = {acc:.4f}\")"
   ]
  },
  {
   "cell_type": "code",
   "execution_count": 10,
   "id": "5f69c6b9",
   "metadata": {},
   "outputs": [],
   "source": [
    "# mlflow.set_tracking_uri(\"http://127.0.0.1:5000\")\n",
    "# mlflow.create_experiment(\"new_experiment\")\n",
    "# mlflow.set_experiment(\"new_experiment\")"
   ]
  },
  {
   "cell_type": "code",
   "execution_count": 43,
   "id": "eb283ad2",
   "metadata": {},
   "outputs": [
    {
     "data": {
      "text/plain": [
       "<Experiment: artifact_location='file:///home/chen/Desktop/lectures/10x-ML-engineer/mlflow/mlruns/593170406082354387', creation_time=1738829665802, experiment_id='593170406082354387', last_update_time=1738829665802, lifecycle_stage='active', name='experiment_6', tags={}>"
      ]
     },
     "execution_count": 43,
     "metadata": {},
     "output_type": "execute_result"
    }
   ],
   "source": [
    "# Start MLflow experiment\n",
    "mlflow.set_experiment(\"experiment_6\")"
   ]
  },
  {
   "cell_type": "code",
   "execution_count": 44,
   "id": "1c596dec",
   "metadata": {},
   "outputs": [],
   "source": [
    "input_example = X_train[0]"
   ]
  },
  {
   "cell_type": "code",
   "execution_count": 45,
   "id": "9887e008",
   "metadata": {},
   "outputs": [],
   "source": [
    "input_example = input_example.reshape(1, -1)"
   ]
  },
  {
   "cell_type": "code",
   "execution_count": null,
   "id": "206700d7",
   "metadata": {},
   "outputs": [],
   "source": [
    "\n",
    "results = {}\n",
    "for name, model in models.items():\n",
    "    with mlflow.start_run(run_name=name):\n",
    "        # Train model\n",
    "        model.fit(X_train, y_train)\n",
    "        y_pred = model.predict(X_test)\n",
    "        acc = accuracy_score(y_test, y_pred)\n",
    "\n",
    "        # Log model parameters\n",
    "        if hasattr(model, \"get_params\"):\n",
    "            params = model.get_params()\n",
    "            mlflow.log_params(params)\n",
    "\n",
    "        # Log additional metadata\n",
    "        mlflow.log_param(\"model_name\", name)\n",
    "        mlflow.log_param(\"dataset_size\", len(X_sampled))\n",
    "        mlflow.log_param(\"test_size_ratio\", 0.2)\n",
    "        mlflow.log_param(\"feature_scaling\", \"StandardScaler\")\n",
    "\n",
    "        # Log metrics\n",
    "        mlflow.log_metric(\"accuracy\", acc)\n",
    "\n",
    "        # Log model itself\n",
    "        mlflow.sklearn.log_model(model, name, input_example=input_example)\n",
    "\n",
    "        results[name] = acc\n",
    "        print(f\"{name}: Accuracy = {acc:.4f}\")\n",
    "\n",
    "print(\"\\n✅ Experiment tracking complete. Run `mlflow ui` to view results.\")\n"
   ]
  },
  {
   "cell_type": "code",
   "execution_count": 38,
   "id": "f1216114",
   "metadata": {},
   "outputs": [
    {
     "name": "stdout",
     "output_type": "stream",
     "text": [
      "file:///home/chen/Desktop/lectures/10x-ML-engineer/mlflow/mlruns\n"
     ]
    }
   ],
   "source": [
    "import mlflow\n",
    "print(mlflow.get_tracking_uri())\n"
   ]
  },
  {
   "cell_type": "code",
   "execution_count": null,
   "id": "8c1f304c",
   "metadata": {},
   "outputs": [],
   "source": []
  },
  {
   "cell_type": "code",
   "execution_count": null,
   "id": "fea2b9b5",
   "metadata": {},
   "outputs": [],
   "source": []
  },
  {
   "cell_type": "code",
   "execution_count": null,
   "id": "4122bcb8",
   "metadata": {},
   "outputs": [],
   "source": []
  },
  {
   "cell_type": "markdown",
   "id": "fa1893e9",
   "metadata": {},
   "source": [
    "# mlflow Registry"
   ]
  },
  {
   "cell_type": "code",
   "execution_count": 19,
   "id": "64919833",
   "metadata": {},
   "outputs": [],
   "source": [
    "mdl = LogisticRegression()\n",
    "mdl.fit(X_train, y_train)\n",
    "y_pred = model.predict(X_test)"
   ]
  },
  {
   "cell_type": "code",
   "execution_count": 20,
   "id": "5fab1c66",
   "metadata": {},
   "outputs": [
    {
     "name": "stdout",
     "output_type": "stream",
     "text": [
      "0.78\n"
     ]
    }
   ],
   "source": [
    "acc = accuracy_score(y_test, y_pred)\n",
    "print(acc)"
   ]
  },
  {
   "cell_type": "code",
   "execution_count": 22,
   "id": "a80f4b66",
   "metadata": {},
   "outputs": [
    {
     "name": "stdout",
     "output_type": "stream",
     "text": [
      "Model registered as: logistic_regression, version: 2\n"
     ]
    },
    {
     "name": "stderr",
     "output_type": "stream",
     "text": [
      "Registered model 'logistic_regression' already exists. Creating a new version of this model...\n",
      "Created version '2' of model 'logistic_regression'.\n"
     ]
    }
   ],
   "source": [
    "model = mdl\n",
    "\n",
    "with mlflow.start_run():\n",
    "    # Log model parameters (optional)\n",
    "    mlflow.log_param(\"model_type\", \"logistic_regression\")\n",
    "\n",
    "    # Log the trained model\n",
    "    model_uri = \"logistic_regression\"\n",
    "    mlflow.sklearn.log_model(model, model_uri, input_example=input_example)\n",
    "\n",
    "    # Register the model in the MLflow Model Registry\n",
    "    result = mlflow.register_model(f\"runs:/{mlflow.active_run().info.run_id}/{model_uri}\", \"logistic_regression\")\n",
    "\n",
    "print(f\"Model registered as: {result.name}, version: {result.version}\")\n"
   ]
  }
 ],
 "metadata": {
  "kernelspec": {
   "display_name": "INT_venv",
   "language": "python",
   "name": "venv"
  },
  "language_info": {
   "codemirror_mode": {
    "name": "ipython",
    "version": 3
   },
   "file_extension": ".py",
   "mimetype": "text/x-python",
   "name": "python",
   "nbconvert_exporter": "python",
   "pygments_lexer": "ipython3",
   "version": "3.10.12"
  }
 },
 "nbformat": 4,
 "nbformat_minor": 5
}
