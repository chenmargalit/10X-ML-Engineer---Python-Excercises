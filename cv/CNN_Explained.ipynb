{
 "cells": [
  {
   "cell_type": "markdown",
   "id": "aeffdb4a",
   "metadata": {},
   "source": [
    "# Convolutional Neural Networks (CNNs)"
   ]
  },
  {
   "cell_type": "markdown",
   "id": "698aab44",
   "metadata": {},
   "source": [
    "\n",
    "## What are CNNs?\n",
    "\n",
    "Convolutional Neural Networks (CNNs) are a type of deep learning architecture primarily designed for analyzing visual data. CNNs are particularly effective at extracting spatial and temporal hierarchies in images by applying a series of operations like convolutions, pooling, and non-linear activations.\n",
    "\n",
    "Key applications of CNNs include:\n",
    "- Image classification\n",
    "- Object detection\n",
    "- Semantic segmentation"
   ]
  },
  {
   "cell_type": "markdown",
   "id": "2135a773",
   "metadata": {},
   "source": [
    "\n",
    "## Core Components of CNNs\n",
    "\n",
    "### Convolutional Layers\n",
    "The convolutional layer applies filters (also known as kernels) to input data, extracting features like edges, textures, and patterns. Each filter slides over the input image, performing element-wise multiplication and summation.\n",
    "\n",
    "**Key Concepts**:\n",
    "- Stride: The step size for moving the filter across the input.\n",
    "- Padding: Adding extra borders to the input to maintain dimensions.\n",
    "- Number of Filters: Determines how many feature maps are created.\n",
    "\n",
    "### Activation Functions\n",
    "Non-linear activation functions like ReLU (Rectified Linear Unit) are applied to introduce non-linearity, allowing the model to learn complex patterns.\n",
    "\n",
    "### Pooling Layers\n",
    "Pooling reduces the spatial dimensions of feature maps, retaining essential information while reducing computational complexity. Common types include:\n",
    "- Max Pooling: Retains the maximum value in a region.\n",
    "- Average Pooling: Retains the average value in a region.\n",
    "\n",
    "### Fully Connected Layers\n",
    "These layers connect all neurons from the previous layer to classify the image based on the extracted features.\n",
    "\n",
    "### Dropout\n",
    "Dropout is a regularization technique that randomly disables neurons during training, reducing overfitting.\n"
   ]
  },
  {
   "cell_type": "code",
   "execution_count": 17,
   "id": "d0100f4d",
   "metadata": {},
   "outputs": [],
   "source": [
    "import torch\n",
    "import torchvision\n",
    "from torchvision import datasets, transforms\n",
    "import torch.nn as nn\n",
    "import torch.optim as optim\n",
    "import matplotlib.pyplot as plt\n",
    "from pdb import set_trace\n",
    "\n",
    "device = torch.device(\"cuda\" if torch.cuda.is_available() else \"cpu\")"
   ]
  },
  {
   "cell_type": "code",
   "execution_count": 8,
   "id": "1f28b377",
   "metadata": {},
   "outputs": [],
   "source": [
    "nn.Conv2d?"
   ]
  },
  {
   "cell_type": "markdown",
   "id": "235d5f86",
   "metadata": {},
   "source": [
    "\n",
    "## Loading and Preprocessing Data\n",
    "\n",
    "In this example, we use the CIFAR-10 dataset, which contains 60,000 32x32 color images in 10 different classes.\n",
    "\n",
    "### Transformations\n",
    "- **ToTensor**: Converts images to tensors.\n",
    "- **Normalization**: Scales pixel values to mean=1 and std=1 for faster convergence.\n"
   ]
  },
  {
   "cell_type": "code",
   "execution_count": 9,
   "id": "31977260",
   "metadata": {},
   "outputs": [],
   "source": [
    "mean = 0\n",
    "std = 1"
   ]
  },
  {
   "cell_type": "code",
   "execution_count": 42,
   "id": "eed18f5e",
   "metadata": {},
   "outputs": [
    {
     "name": "stdout",
     "output_type": "stream",
     "text": [
      "Files already downloaded and verified\n",
      "Files already downloaded and verified\n"
     ]
    }
   ],
   "source": [
    "transform = transforms.Compose([\n",
    "    transforms.ToTensor(),\n",
    "    transforms.Normalize((mean, mean, mean), (std, std, std))\n",
    "])\n",
    "\n",
    "train_dataset = datasets.CIFAR10(root='./data', train=True, download=True, transform=transform)\n",
    "test_dataset = datasets.CIFAR10(root='./data', train=False, download=True, transform=transform)\n",
    "\n",
    "train_loader = torch.utils.data.DataLoader(train_dataset, batch_size=64, shuffle=True)\n",
    "test_loader = torch.utils.data.DataLoader(test_dataset, batch_size=64, shuffle=False)\n"
   ]
  },
  {
   "cell_type": "markdown",
   "id": "585c9cc4",
   "metadata": {},
   "source": [
    "\n",
    "## Defining a CNN Model\n",
    "\n",
    "This model consists of:\n",
    "1. Three convolutional layers to extract features.\n",
    "2. Two fully connected layers for classification.\n",
    "3. ReLU activation for non-linearity.\n",
    "4. Dropout for regularization.\n"
   ]
  },
  {
   "cell_type": "code",
   "execution_count": 43,
   "id": "64b977f1",
   "metadata": {},
   "outputs": [
    {
     "name": "stdout",
     "output_type": "stream",
     "text": [
      "torch.Size([64, 3, 32, 32])\n",
      "tensor([4, 6, 0, 4, 6, 2, 1, 4, 8, 6, 1, 5, 4, 5, 3, 1, 1, 9, 7, 3, 3, 9, 8, 6,\n",
      "        1, 8, 2, 8, 1, 5, 8, 1, 1, 6, 6, 4, 3, 9, 7, 2, 8, 8, 0, 4, 0, 9, 1, 3,\n",
      "        9, 2, 5, 0, 3, 3, 0, 8, 2, 5, 1, 6, 9, 3, 7, 3])\n"
     ]
    }
   ],
   "source": [
    "for image, label in train_loader:\n",
    "    print(image.shape)\n",
    "    print(label)\n",
    "    break"
   ]
  },
  {
   "cell_type": "markdown",
   "id": "e154150f",
   "metadata": {},
   "source": [
    "(Input height + 2 * padding - kernel size) / stride + 1"
   ]
  },
  {
   "cell_type": "code",
   "execution_count": 46,
   "id": "0bce5a35",
   "metadata": {},
   "outputs": [
    {
     "data": {
      "text/plain": [
       "32.0"
      ]
     },
     "execution_count": 46,
     "metadata": {},
     "output_type": "execute_result"
    }
   ],
   "source": [
    "((32 + 2 * 1 - 3) / 1) +1"
   ]
  },
  {
   "cell_type": "code",
   "execution_count": 53,
   "id": "806ee4d4",
   "metadata": {},
   "outputs": [],
   "source": [
    "class CNN(nn.Module):\n",
    "    def __init__(self):\n",
    "        super(CNN, self).__init__()\n",
    "        self.conv1 = nn.Conv2d(3, 32, kernel_size=3, padding=1)\n",
    "        self.conv2 = nn.Conv2d(32, 64, kernel_size=3, padding=1)\n",
    "        self.conv3 = nn.Conv2d(64, 128, kernel_size=3, padding=1)\n",
    "        self.pool = nn.MaxPool2d(2, 2)\n",
    "        self.fc1 = nn.Linear(128 * 8 * 8, 256)\n",
    "        self.fc2 = nn.Linear(256, 10)\n",
    "        self.relu = nn.ReLU()\n",
    "        self.dropout = nn.Dropout(0.5)\n",
    "    \n",
    "    def forward(self, x):\n",
    "#         set_trace()\n",
    "        x = self.conv1(x)\n",
    "        x = self.relu(x)\n",
    "        x = self.conv2(x)\n",
    "        x = self.relu(x)\n",
    "        x = self.pool(x)\n",
    "        x = self.conv3(x)\n",
    "        x = self.relu(x)\n",
    "        x = self.pool(x)\n",
    "        x = x.view(x.size(0), -1)\n",
    "        x = self.fc1(x)\n",
    "        x = self.relu(x)\n",
    "        x = self.dropout(x)\n",
    "        x = self.fc2(x)\n",
    "        return x"
   ]
  },
  {
   "cell_type": "code",
   "execution_count": 54,
   "id": "5706ba44",
   "metadata": {},
   "outputs": [
    {
     "data": {
      "text/plain": [
       "device(type='cpu')"
      ]
     },
     "execution_count": 54,
     "metadata": {},
     "output_type": "execute_result"
    }
   ],
   "source": [
    "device"
   ]
  },
  {
   "cell_type": "code",
   "execution_count": 55,
   "id": "5126288c",
   "metadata": {},
   "outputs": [],
   "source": [
    "model = CNN().to(device)"
   ]
  },
  {
   "cell_type": "markdown",
   "id": "a80d270a",
   "metadata": {},
   "source": [
    "\n",
    "## Training the Model\n",
    "\n",
    "The model is trained using the Adam optimizer and cross-entropy loss.\n"
   ]
  },
  {
   "cell_type": "code",
   "execution_count": 56,
   "id": "d4502575",
   "metadata": {},
   "outputs": [],
   "source": [
    "criterion = nn.CrossEntropyLoss()\n",
    "optimizer = optim.Adam(model.parameters(), lr=0.01)"
   ]
  },
  {
   "cell_type": "code",
   "execution_count": 57,
   "id": "e31595e9-9c7e-4b61-9c63-64c8589bf380",
   "metadata": {},
   "outputs": [
    {
     "name": "stdout",
     "output_type": "stream",
     "text": [
      "torch.Size([64, 3, 32, 32])\n"
     ]
    }
   ],
   "source": [
    "for img, label in train_loader:\n",
    "    print(img.shape)\n",
    "    break"
   ]
  },
  {
   "cell_type": "code",
   "execution_count": null,
   "id": "dd72215e",
   "metadata": {},
   "outputs": [
    {
     "name": "stdout",
     "output_type": "stream",
     "text": [
      "Epoch 1/4, Loss: 2.3036\n",
      "Epoch 2/4, Loss: 2.3038\n"
     ]
    }
   ],
   "source": [
    "%%time\n",
    "epochs = 4\n",
    "for epoch in range(epochs):\n",
    "    model.train()\n",
    "    running_loss = 0.0\n",
    "    for inputs, labels in train_loader:\n",
    "        inputs, labels = inputs.to(device), labels.to(device)\n",
    "        optimizer.zero_grad()\n",
    "        outputs = model(inputs)\n",
    "        loss = criterion(outputs, labels)\n",
    "        loss.backward()\n",
    "        optimizer.step()\n",
    "        \n",
    "        running_loss += loss.item()\n",
    "    \n",
    "    print(f\"Epoch {epoch+1}/{epochs}, Loss: {running_loss/len(train_loader):.4f}\")\n"
   ]
  },
  {
   "cell_type": "markdown",
   "id": "84244403",
   "metadata": {},
   "source": [
    "\n",
    "## Evaluating the Model\n",
    "\n",
    "The trained model is evaluated on the test dataset to measure accuracy.\n"
   ]
  },
  {
   "cell_type": "code",
   "execution_count": null,
   "id": "55e54861",
   "metadata": {},
   "outputs": [],
   "source": [
    "%%time\n",
    "\n",
    "mdl.eval()\n",
    "correct = 0\n",
    "total = 0\n",
    "with torch.no_grad():\n",
    "    for inputs, labels in test_loader:\n",
    "        inputs, labels = inputs.to(device), labels.to(device)\n",
    "        outputs = mdl(inputs)\n",
    "        _, predicted = torch.max(outputs, 1)\n",
    "        total += labels.size(0)\n",
    "        correct += (predicted == labels).sum().item()\n",
    "\n",
    "print(f\"Test Accuracy: {100 * correct / total:.2f}%\")\n"
   ]
  }
 ],
 "metadata": {
  "kernelspec": {
   "display_name": "Python 3 (ipykernel)",
   "language": "python",
   "name": "python3"
  },
  "language_info": {
   "codemirror_mode": {
    "name": "ipython",
    "version": 3
   },
   "file_extension": ".py",
   "mimetype": "text/x-python",
   "name": "python",
   "nbconvert_exporter": "python",
   "pygments_lexer": "ipython3",
   "version": "3.11.2"
  },
  "toc": {
   "base_numbering": 1,
   "nav_menu": {},
   "number_sections": true,
   "sideBar": true,
   "skip_h1_title": false,
   "title_cell": "Table of Contents",
   "title_sidebar": "Contents",
   "toc_cell": false,
   "toc_position": {},
   "toc_section_display": true,
   "toc_window_display": false
  }
 },
 "nbformat": 4,
 "nbformat_minor": 5
}
