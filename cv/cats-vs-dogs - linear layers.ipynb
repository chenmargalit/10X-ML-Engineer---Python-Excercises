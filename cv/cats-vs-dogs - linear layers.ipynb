{
 "cells": [
  {
   "cell_type": "code",
   "execution_count": 1,
   "metadata": {
    "execution": {
     "iopub.execute_input": "2024-12-17T10:04:31.934148Z",
     "iopub.status.busy": "2024-12-17T10:04:31.933303Z",
     "iopub.status.idle": "2024-12-17T10:04:34.162566Z",
     "shell.execute_reply": "2024-12-17T10:04:34.161786Z",
     "shell.execute_reply.started": "2024-12-17T10:04:31.934094Z"
    }
   },
   "outputs": [],
   "source": [
    "import os\n",
    "import torch\n",
    "import torch.nn as nn\n",
    "import torch.optim as optim\n",
    "from torch.utils.data import Dataset, DataLoader\n",
    "from PIL import Image\n",
    "from torchvision import transforms\n",
    "import os\n",
    "from PIL import Image, UnidentifiedImageError\n",
    "from torch.utils.data import Dataset\n",
    "from torch.utils.data import DataLoader\n",
    "from torchvision import transforms\n",
    "from torchvision.io import read_image\n",
    "from pdb import set_trace\n",
    "from torch.optim.lr_scheduler import StepLR"
   ]
  },
  {
   "cell_type": "code",
   "execution_count": 2,
   "metadata": {
    "execution": {
     "iopub.execute_input": "2024-12-17T10:04:34.165353Z",
     "iopub.status.busy": "2024-12-17T10:04:34.164432Z",
     "iopub.status.idle": "2024-12-17T10:04:34.169776Z",
     "shell.execute_reply": "2024-12-17T10:04:34.168822Z",
     "shell.execute_reply.started": "2024-12-17T10:04:34.165304Z"
    }
   },
   "outputs": [],
   "source": [
    "transform = transforms.Compose([\n",
    "    transforms.Resize((64, 64)),\n",
    "    transforms.ToTensor(),\n",
    "    transforms.Normalize(mean=[0], std=[1])  # Normalize to [-1, 1]\n",
    "])"
   ]
  },
  {
   "cell_type": "code",
   "execution_count": 3,
   "metadata": {
    "execution": {
     "iopub.execute_input": "2024-12-17T10:04:34.171261Z",
     "iopub.status.busy": "2024-12-17T10:04:34.170985Z",
     "iopub.status.idle": "2024-12-17T10:04:34.183502Z",
     "shell.execute_reply": "2024-12-17T10:04:34.182738Z",
     "shell.execute_reply.started": "2024-12-17T10:04:34.171208Z"
    }
   },
   "outputs": [],
   "source": [
    "root_dir = \"../input/microsoft-catsvsdogs-dataset/PetImages\""
   ]
  },
  {
   "cell_type": "code",
   "execution_count": 4,
   "metadata": {
    "execution": {
     "iopub.execute_input": "2024-12-17T10:04:34.185514Z",
     "iopub.status.busy": "2024-12-17T10:04:34.185209Z",
     "iopub.status.idle": "2024-12-17T10:04:34.197156Z",
     "shell.execute_reply": "2024-12-17T10:04:34.196497Z",
     "shell.execute_reply.started": "2024-12-17T10:04:34.185486Z"
    }
   },
   "outputs": [],
   "source": [
    "class CatsAndDogsDataset(Dataset):\n",
    "    def __init__(self, root_dir, transform=None, start=0, finish=1000):\n",
    "        self.root_dir = root_dir\n",
    "        self.transform = transform\n",
    "        \n",
    "        self.dog_files = os.listdir(os.path.join(root_dir, \"Dog\"))[start:finish]\n",
    "        self.cat_files = os.listdir(os.path.join(root_dir, \"Cat\"))[start:finish]\n",
    "        \n",
    "        self.length = min(len(self.dog_files), len(self.cat_files))\n",
    "    \n",
    "    def __len__(self):\n",
    "        return self.length * 2\n",
    "    \n",
    "\n",
    "    def __getitem__(self, idx):\n",
    "        try:\n",
    "            if idx % 2 == 0:\n",
    "                folder = \"Dog\"\n",
    "                image_files = self.dog_files\n",
    "                label = 1\n",
    "            else:\n",
    "                folder = \"Cat\"\n",
    "                image_files = self.cat_files\n",
    "                label = 0  # Cat label\n",
    "            \n",
    "            adjusted_idx = idx // 2\n",
    "            img_path = os.path.join(self.root_dir, folder, image_files[adjusted_idx])\n",
    "            \n",
    "            image = Image.open(img_path).convert(\"RGB\")\n",
    "            \n",
    "            if self.transform:\n",
    "                image = self.transform(image)\n",
    "            \n",
    "            return image, label\n",
    "            \n",
    "        except (UnidentifiedImageError, OSError) as e:\n",
    "            print(f\"Skipping corrupted image: {img_path}\")\n",
    "            return self.__getitem__((idx + 2) % len(self))\n"
   ]
  },
  {
   "cell_type": "code",
   "execution_count": 5,
   "metadata": {
    "execution": {
     "iopub.execute_input": "2024-12-17T10:04:34.198514Z",
     "iopub.status.busy": "2024-12-17T10:04:34.198221Z",
     "iopub.status.idle": "2024-12-17T10:04:34.225421Z",
     "shell.execute_reply": "2024-12-17T10:04:34.224713Z",
     "shell.execute_reply.started": "2024-12-17T10:04:34.198487Z"
    }
   },
   "outputs": [],
   "source": [
    "# Create datasets\n",
    "train_dataset = CatsAndDogsDataset(root_dir=root_dir, transform=transform, finish=8000)\n",
    "val_dataset = CatsAndDogsDataset(root_dir=root_dir, transform=transform, start=8000, finish=9000)\n",
    "\n",
    "# Create DataLoaders\n",
    "train_loader = DataLoader(train_dataset, batch_size=64, shuffle=True)\n",
    "val_loader = DataLoader(val_dataset, batch_size=64, shuffle=False)"
   ]
  },
  {
   "cell_type": "code",
   "execution_count": 6,
   "metadata": {
    "execution": {
     "iopub.execute_input": "2024-12-17T10:04:34.226665Z",
     "iopub.status.busy": "2024-12-17T10:04:34.226382Z",
     "iopub.status.idle": "2024-12-17T10:04:34.232621Z",
     "shell.execute_reply": "2024-12-17T10:04:34.231702Z",
     "shell.execute_reply.started": "2024-12-17T10:04:34.226638Z"
    }
   },
   "outputs": [],
   "source": [
    "import torch.nn as nn\n",
    "\n",
    "class FullyConnectedNetwork(nn.Module):\n",
    "    def __init__(self, input_size, hidden_sizes, output_size, dropout_prob=0.5):\n",
    "        super().__init__()\n",
    "        self.fc_layers = nn.Sequential(\n",
    "            nn.Linear(input_size, hidden_sizes[0]),\n",
    "            nn.ReLU(),\n",
    "            nn.BatchNorm1d(hidden_sizes[0]),\n",
    "            nn.Dropout(dropout_prob), \n",
    "            \n",
    "            nn.Linear(hidden_sizes[0], hidden_sizes[1]),\n",
    "            nn.ReLU(),\n",
    "            nn.BatchNorm1d(hidden_sizes[1]),\n",
    "            nn.Dropout(dropout_prob), \n",
    "            \n",
    "            nn.Linear(hidden_sizes[1], output_size),\n",
    "            nn.Sigmoid() \n",
    "        )\n",
    "    \n",
    "    def forward(self, x):\n",
    "        return self.fc_layers(x)\n"
   ]
  },
  {
   "cell_type": "code",
   "execution_count": 7,
   "metadata": {
    "execution": {
     "iopub.execute_input": "2024-12-17T10:04:34.233887Z",
     "iopub.status.busy": "2024-12-17T10:04:34.233626Z",
     "iopub.status.idle": "2024-12-17T10:04:34.242269Z",
     "shell.execute_reply": "2024-12-17T10:04:34.241584Z",
     "shell.execute_reply.started": "2024-12-17T10:04:34.233847Z"
    }
   },
   "outputs": [],
   "source": [
    "input_size = 3 * 64 * 64\n",
    "hidden_sizes = [512, 128]  # hidden layer sizes\n",
    "output_size = 1  "
   ]
  },
  {
   "cell_type": "code",
   "execution_count": 8,
   "metadata": {
    "execution": {
     "iopub.execute_input": "2024-12-17T10:04:34.243507Z",
     "iopub.status.busy": "2024-12-17T10:04:34.243267Z",
     "iopub.status.idle": "2024-12-17T10:04:34.464720Z",
     "shell.execute_reply": "2024-12-17T10:04:34.463790Z",
     "shell.execute_reply.started": "2024-12-17T10:04:34.243482Z"
    }
   },
   "outputs": [
    {
     "data": {
      "text/plain": [
       "FullyConnectedNetwork(\n",
       "  (fc_layers): Sequential(\n",
       "    (0): Linear(in_features=12288, out_features=512, bias=True)\n",
       "    (1): ReLU()\n",
       "    (2): BatchNorm1d(512, eps=1e-05, momentum=0.1, affine=True, track_running_stats=True)\n",
       "    (3): Dropout(p=0.5, inplace=False)\n",
       "    (4): Linear(in_features=512, out_features=128, bias=True)\n",
       "    (5): ReLU()\n",
       "    (6): BatchNorm1d(128, eps=1e-05, momentum=0.1, affine=True, track_running_stats=True)\n",
       "    (7): Dropout(p=0.5, inplace=False)\n",
       "    (8): Linear(in_features=128, out_features=1, bias=True)\n",
       "    (9): Sigmoid()\n",
       "  )\n",
       ")"
      ]
     },
     "execution_count": 8,
     "metadata": {},
     "output_type": "execute_result"
    }
   ],
   "source": [
    "model = FullyConnectedNetwork(input_size, hidden_sizes, output_size)\n",
    "criterion = nn.BCELoss()\n",
    "optimizer = optim.Adam(model.parameters(), lr=0.001)\n",
    "\n",
    "device = torch.device(\"cuda\" if torch.cuda.is_available() else \"cpu\")\n",
    "model.to(device)"
   ]
  },
  {
   "cell_type": "code",
   "execution_count": 9,
   "metadata": {
    "execution": {
     "iopub.execute_input": "2024-12-17T10:04:34.466024Z",
     "iopub.status.busy": "2024-12-17T10:04:34.465741Z",
     "iopub.status.idle": "2024-12-17T10:04:34.470383Z",
     "shell.execute_reply": "2024-12-17T10:04:34.469431Z",
     "shell.execute_reply.started": "2024-12-17T10:04:34.465996Z"
    }
   },
   "outputs": [],
   "source": [
    "scheduler = StepLR(optimizer, step_size=10, gamma=0.1)  # Reduce LR by 0.1 every 10 epochs"
   ]
  },
  {
   "cell_type": "code",
   "execution_count": 10,
   "metadata": {
    "execution": {
     "iopub.execute_input": "2024-12-17T10:04:34.472878Z",
     "iopub.status.busy": "2024-12-17T10:04:34.472622Z",
     "iopub.status.idle": "2024-12-17T10:05:39.459829Z",
     "shell.execute_reply": "2024-12-17T10:05:39.458873Z",
     "shell.execute_reply.started": "2024-12-17T10:04:34.472852Z"
    }
   },
   "outputs": [
    {
     "name": "stderr",
     "output_type": "stream",
     "text": [
      "/opt/conda/lib/python3.10/site-packages/PIL/TiffImagePlugin.py:935: UserWarning: Truncated File Read\n",
      "  warnings.warn(str(msg))\n"
     ]
    },
    {
     "name": "stdout",
     "output_type": "stream",
     "text": [
      "Skipping corrupted image: ../input/microsoft-catsvsdogs-dataset/PetImages/Dog/11702.jpg\n",
      "Epoch 1/1, Loss: 0.6941\n",
      "CPU times: user 35.4 s, sys: 1.93 s, total: 37.3 s\n",
      "Wall time: 1min 4s\n"
     ]
    }
   ],
   "source": [
    "%%time\n",
    "\n",
    "epochs = 1\n",
    "for epoch in range(epochs):\n",
    "    model.train()\n",
    "    running_loss = 0.0\n",
    "    for images, labels in train_loader:\n",
    "        # images = images.to(device)\n",
    "        # labels = labels.float().unsqueeze(1).to(device)\n",
    "        images = images.view(images.size(0), -1).to(device)  # Flatten\n",
    "        labels = labels.float().unsqueeze(1).to(device)  # Match output shape\n",
    "\n",
    "        optimizer.zero_grad()\n",
    "        outputs = model(images)\n",
    "        loss = criterion(outputs, labels)\n",
    "        loss.backward()\n",
    "        optimizer.step()\n",
    "        \n",
    "        running_loss += loss.item()\n",
    "    scheduler.step()\n",
    "    # if epoch % 10 == 0:\n",
    "    print(f\"Epoch {epoch+1}/{epochs}, Loss: {running_loss/len(train_loader):.4f}\")"
   ]
  },
  {
   "cell_type": "code",
   "execution_count": 11,
   "metadata": {
    "execution": {
     "iopub.execute_input": "2024-12-17T10:05:39.461162Z",
     "iopub.status.busy": "2024-12-17T10:05:39.460849Z",
     "iopub.status.idle": "2024-12-17T10:05:45.955025Z",
     "shell.execute_reply": "2024-12-17T10:05:45.954064Z",
     "shell.execute_reply.started": "2024-12-17T10:05:39.461129Z"
    }
   },
   "outputs": [
    {
     "name": "stdout",
     "output_type": "stream",
     "text": [
      "Skipping corrupted image: ../input/microsoft-catsvsdogs-dataset/PetImages/Dog/Thumbs.db\n",
      "Skipping corrupted image: ../input/microsoft-catsvsdogs-dataset/PetImages/Cat/Thumbs.db\n",
      "Validation Accuracy: 57.80%\n",
      "CPU times: user 4.58 s, sys: 242 ms, total: 4.82 s\n",
      "Wall time: 6.49 s\n"
     ]
    }
   ],
   "source": [
    "%%time\n",
    "model.eval()\n",
    "correct = 0\n",
    "total = 0\n",
    "with torch.no_grad():\n",
    "    for images, labels in val_loader:\n",
    "        try:\n",
    "            images = images.view(images.size(0), -1).to(device)\n",
    "            labels = labels.to(device)\n",
    "            outputs = model(images)\n",
    "            predicted = (outputs > 0.5).float()\n",
    "            total += labels.size(0)\n",
    "            correct += (predicted == labels.unsqueeze(1)).sum().item()\n",
    "            \n",
    "        except Exception as e:\n",
    "            print('exception raised', e)\n",
    "            pass\n",
    "\n",
    "    print(f\"Validation Accuracy: {100 * correct / (total + 0.000001):.2f}%\")"
   ]
  },
  {
   "cell_type": "code",
   "execution_count": 12,
   "metadata": {
    "execution": {
     "iopub.execute_input": "2024-12-17T10:05:45.956488Z",
     "iopub.status.busy": "2024-12-17T10:05:45.956151Z",
     "iopub.status.idle": "2024-12-17T10:05:46.014998Z",
     "shell.execute_reply": "2024-12-17T10:05:46.014266Z",
     "shell.execute_reply.started": "2024-12-17T10:05:45.956456Z"
    }
   },
   "outputs": [],
   "source": [
    "torch.save(model, 'test.pth')"
   ]
  }
 ],
 "metadata": {
  "kaggle": {
   "accelerator": "gpu",
   "dataSources": [
    {
     "datasetId": 550917,
     "sourceId": 1003830,
     "sourceType": "datasetVersion"
    },
    {
     "isSourceIdPinned": true,
     "modelId": 193313,
     "modelInstanceId": 170997,
     "sourceId": 200437,
     "sourceType": "modelInstanceVersion"
    }
   ],
   "dockerImageVersionId": 30804,
   "isGpuEnabled": true,
   "isInternetEnabled": true,
   "language": "python",
   "sourceType": "notebook"
  },
  "kernelspec": {
   "display_name": "Python 3 (ipykernel)",
   "language": "python",
   "name": "python3"
  },
  "language_info": {
   "codemirror_mode": {
    "name": "ipython",
    "version": 3
   },
   "file_extension": ".py",
   "mimetype": "text/x-python",
   "name": "python",
   "nbconvert_exporter": "python",
   "pygments_lexer": "ipython3",
   "version": "3.11.2"
  },
  "toc": {
   "base_numbering": 1,
   "nav_menu": {},
   "number_sections": true,
   "sideBar": true,
   "skip_h1_title": false,
   "title_cell": "Table of Contents",
   "title_sidebar": "Contents",
   "toc_cell": false,
   "toc_position": {},
   "toc_section_display": true,
   "toc_window_display": false
  }
 },
 "nbformat": 4,
 "nbformat_minor": 4
}
