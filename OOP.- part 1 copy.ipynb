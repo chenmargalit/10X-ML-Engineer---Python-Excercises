{
 "cells": [
  {
   "cell_type": "markdown",
<<<<<<< HEAD
   "id": "2f3b5140",
=======
   "id": "d2b447a6",
>>>>>>> 4109f62 (push new exercises)
   "metadata": {},
   "source": [
    "# Exercise 1"
   ]
  },
  {
   "cell_type": "markdown",
<<<<<<< HEAD
   "id": "1de6aacf",
=======
   "id": "ba2a82b3",
>>>>>>> 4109f62 (push new exercises)
   "metadata": {},
   "source": [
    "We are building a sports team. Everything from the team, the coach, the players, and the goal keeper.\n",
    "Each Entity should have a sport_id, team_name, team_id, league_id and what ever personal details you think it should have.\n",
<<<<<<< HEAD
    "Each entity should also have its own set of methods, whatever you think is right.\n",
=======
    "Each entity should also have its own set of methods. What ever you think is right.\n",
>>>>>>> 4109f62 (push new exercises)
    "Each class should be completely separated. No class should depend on another class."
   ]
  },
  {
   "cell_type": "markdown",
<<<<<<< HEAD
   "id": "d7757198",
   "metadata": {},
   "source": [
    "Create a conversation between the different entities, however you see fit, that demonstrates their different capabilities."
=======
   "id": "c026ced3",
   "metadata": {},
   "source": [
    "Create a conversation between the different entities, how ever you see fit, that demonstrates their different capabilities."
>>>>>>> 4109f62 (push new exercises)
   ]
  },
  {
   "cell_type": "markdown",
<<<<<<< HEAD
   "id": "7bac9d2b",
=======
   "id": "50e27d96",
>>>>>>> 4109f62 (push new exercises)
   "metadata": {},
   "source": [
    "# Exercise 2\n"
   ]
  },
  {
   "cell_type": "markdown",
<<<<<<< HEAD
   "id": "95953d34",
   "metadata": {},
   "source": [
    "1. Expand the sports team entities by introducing inheritance and polymorphism. Create subclasses for a specific type of team, coach, player and transform the entities you have prepared to match the new form (e.g. your player should now inherit from the main player class)\n",
    "2. Introduce polymorphism by overwriting methods the class you're inheriting from has."
=======
   "id": "1e725151",
   "metadata": {},
   "source": [
    "1. Expand the sport team entities by introducing inheritance and polymorphism. Create subclasses for speciifc type of teams, coaches, players and transform the entites you're prepared to match the new form (e.g. your player should now inehrit from the main player class)\n",
    "2. Intorduce polymorphism by overwritting methods the class you're inheriting from has."
>>>>>>> 4109f62 (push new exercises)
   ]
  },
  {
   "cell_type": "markdown",
<<<<<<< HEAD
   "id": "8823df68",
=======
   "id": "82a21635",
>>>>>>> 4109f62 (push new exercises)
   "metadata": {},
   "source": [
    "# Exercise 3\n"
   ]
  },
  {
   "cell_type": "markdown",
<<<<<<< HEAD
   "id": "51531d57",
=======
   "id": "553feca7",
>>>>>>> 4109f62 (push new exercises)
   "metadata": {},
   "source": [
    "1. Encapsulate a few of the variables, like sport_id, or league_id (where you find appropriate) as private attributes.\n",
    "2. Implement methods for changing teams/leagues and don't forget to change the according league/team private variables."
   ]
  },
  {
   "cell_type": "markdown",
<<<<<<< HEAD
   "id": "ab115416",
=======
   "id": "4cff62d5",
>>>>>>> 4109f62 (push new exercises)
   "metadata": {},
   "source": [
    "# Exercise 4\n"
   ]
  },
  {
   "cell_type": "markdown",
<<<<<<< HEAD
   "id": "b4af8be6",
   "metadata": {},
   "source": [
    "Do Something of your own! Build a very simple service that does a very simple thing. For example:\n",
=======
   "id": "af280929",
   "metadata": {},
   "source": [
    "Do Something of your own!. Build a very simple service that does a very simple thing. For example:\n",
>>>>>>> 4109f62 (push new exercises)
    "Read a file and state how many stopwords it has or whatever you see fit."
   ]
  },
  {
   "cell_type": "code",
   "execution_count": null,
<<<<<<< HEAD
   "id": "4bcf6cfa",
=======
   "id": "1a6c1e44",
>>>>>>> 4109f62 (push new exercises)
   "metadata": {},
   "outputs": [],
   "source": []
  }
 ],
 "metadata": {
  "kernelspec": {
   "display_name": "Python 3 (ipykernel)",
   "language": "python",
   "name": "python3"
  },
  "language_info": {
   "codemirror_mode": {
    "name": "ipython",
    "version": 3
   },
   "file_extension": ".py",
   "mimetype": "text/x-python",
   "name": "python",
   "nbconvert_exporter": "python",
   "pygments_lexer": "ipython3",
   "version": "3.11.2"
  }
 },
 "nbformat": 4,
 "nbformat_minor": 5
}
