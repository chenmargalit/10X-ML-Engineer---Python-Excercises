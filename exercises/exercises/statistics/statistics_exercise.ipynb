{
 "cells": [
  {
   "cell_type": "markdown",
   "id": "d3182523",
   "metadata": {},
   "source": [
    "# Statistics Exercises"
   ]
  },
  {
   "cell_type": "markdown",
   "id": "55ae51da",
   "metadata": {},
   "source": [
    "## Part 1: Type I and Type II Errors\n",
    "### Task: Evaluate the Effectiveness of a Training Program\n",
    "- A coach believes that a new training program improves the sprint speed of athletes.\n",
    "- Define what a Type I error and Type II error would mean in this context.\n",
    "- What are the potential consequences of each type of error?"
   ]
  },
  {
   "cell_type": "markdown",
   "id": "e275bf0e",
   "metadata": {},
   "source": [
    "## Part 2: Hypothesis Testing & Confidence Interval\n",
    "### Task: Soccer Team's Goal Scoring Rate\n",
    "- A soccer team claims that they score an average of at least 2.5 goals per match.\n",
    "- Formulate null and alternative hypotheses for this claim.\n",
    "- Use a t-test to test the hypothesis and construct a 95% confidence interval for the average goals per match."
   ]
  },
  {
   "cell_type": "markdown",
   "id": "3de91858",
   "metadata": {},
   "source": [
    "## Part 3: Correlation\n",
    "### Task: Relationship Between Age and Performance\n",
    "- You have data on the ages of marathon runners and their finishing times (in minutes).\n",
    "- Calculate both the Pearson and Spearman correlation coefficients to assess the relationship between age and finishing time.\n",
    "- Interpret the results."
   ]
  },
  {
   "cell_type": "code",
   "execution_count": 1,
   "id": "abd69124",
   "metadata": {},
   "outputs": [],
   "source": [
    "import numpy as np\n",
    "from scipy.stats import pearsonr, spearmanr\n",
    "\n",
    "np.random.seed(42) \n",
    "num_runners = 50\n",
    "\n",
    "ages = np.random.randint(20, 60, num_runners)\n",
    "\n",
    "finishing_times = 300 - (ages * 2) + np.random.normal(0, 10, num_runners)"
   ]
  },
  {
   "cell_type": "markdown",
   "id": "eb148d2b",
   "metadata": {},
   "source": [
    "## Part 4: Central Limit Theorem & Law of Large Numbers\n",
    "### Task: Free Throw Shooting in Basketball\n",
    "- Assume a basketball player has a free-throw success rate of 75%.\n",
    "- Simulate the player's success rate over different numbers of attempts (10, 100, 1000, and 10,000).\n",
    "- Use the simulations to demonstrate the Law of Large Numbers and the Central Limit Theorem."
   ]
  },
  {
   "cell_type": "markdown",
   "id": "139ffc1f",
   "metadata": {},
   "source": [
    "## Part 5: Z-Test, T-Test, ANOVA, and Confidence Interval\n",
    "### Task: Compare Average Running Speeds across Different Sports\n",
    "- You have data on the running speeds (in km/h) of players from three sports: soccer, basketball, and baseball.\n",
    "- Use an ANOVA test to determine if there's a statistically significant difference in running speeds across the sports.\n",
    "- Construct a 95% confidence interval for the average speed of each sport."
   ]
  },
  {
   "cell_type": "code",
   "execution_count": 2,
   "id": "f72c2db8",
   "metadata": {},
   "outputs": [],
   "source": [
    "np.random.seed(42)\n",
    "\n",
    "soccer_mean, soccer_std, soccer_count = 28, 3, 50   # Soccer players are generally faster\n",
    "basketball_mean, basketball_std, basketball_count = 25, 2, 50  # Basketball players are moderately fast\n",
    "baseball_mean, baseball_std, baseball_count = 22, 4, 50  # Baseball players are typically slower\n",
    "\n",
    "soccer_speeds = np.random.normal(soccer_mean, soccer_std, soccer_count)\n",
    "basketball_speeds = np.random.normal(basketball_mean, basketball_std, basketball_count)\n",
    "baseball_speeds = np.random.normal(baseball_mean, baseball_std, baseball_count)"
   ]
  },
  {
   "cell_type": "markdown",
   "id": "46fa56b7",
   "metadata": {},
   "source": [
    "## Part 6: Statistical Significance and Power\n",
    "### Task: Power Analysis for a Sports Training Program\n",
    "- A new training method is hypothesized to improve the endurance of cyclists.\n",
    "- You are planning a study to test this training method's effect.\n",
    "- Calculate the sample size needed to achieve 80% power for detecting a medium effect size at a significance level of 0.05."
   ]
  },
  {
   "cell_type": "markdown",
   "id": "b0fc16d2",
   "metadata": {},
   "source": [
    "Learn from <a href='https://www.statsmodels.org/stable/generated/statsmodels.stats.power.FTestAnovaPower.solve_power.html#statsmodels.stats.power.FTestAnovaPower.solve_power'>documentation </a> how the TTestIndPower function works and how you can use it to complete the exercise."
   ]
  },
  {
   "cell_type": "code",
   "execution_count": 3,
   "id": "fc6114b8",
   "metadata": {},
   "outputs": [],
   "source": [
    "from statsmodels.stats.power import TTestIndPower"
   ]
  }
 ],
 "metadata": {
  "kernelspec": {
   "display_name": "Python 3 (ipykernel)",
   "language": "python",
   "name": "python3"
  },
  "language_info": {
   "codemirror_mode": {
    "name": "ipython",
    "version": 3
   },
   "file_extension": ".py",
   "mimetype": "text/x-python",
   "name": "python",
   "nbconvert_exporter": "python",
   "pygments_lexer": "ipython3",
   "version": "3.11.2"
  }
 },
 "nbformat": 4,
 "nbformat_minor": 5
}
