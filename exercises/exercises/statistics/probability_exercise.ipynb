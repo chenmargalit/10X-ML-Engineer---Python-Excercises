{
 "cells": [
  {
   "cell_type": "markdown",
   "id": "47e69af6",
   "metadata": {},
   "source": [
    "# Probability"
   ]
  },
  {
   "cell_type": "markdown",
   "id": "2d24f264",
   "metadata": {},
   "source": [
    "## Part 1: Basic Probability\n",
    "### Task: Simulate a Simple Coin Toss Experiment\n",
    "- Write a function `simulate_coin_tosses` that simulates `n` tosses of a fair coin (heads or tails).\n",
    "- Return the proportion of heads and tails as a dictionary.\n",
    "- Show that the bigger n is, the closer the probability of both head and tails is to 0.5."
   ]
  },
  {
   "cell_type": "markdown",
   "id": "fa103509",
   "metadata": {},
   "source": [
    "## Part 2: Probability Rules\n",
    "### Task: Rolling a Die\n",
    "- Write a function `roll_die` that simulates rolling a fair 6-sided die `n` times.\n",
    "- Count the occurrences of each outcome (1 to 6) and return a probability distribution.\n",
    "- Show that the bigger n is, the closer you get to probability 0.166 for each number."
   ]
  },
  {
   "cell_type": "markdown",
   "id": "7d5255bc",
   "metadata": {},
   "source": [
    "## Part 3: Bayes' Theorem and Conditional Probability\n",
    "### Task: Disease Testing Simulation\n",
    "- Assume a rare disease has a 1% prevalence rate. A test for the disease has a 91% true positive rate and a 9% false positive rate.\n",
    "- Write a function to simulate the probability of actually having the disease given a positive test result."
   ]
  },
  {
   "cell_type": "markdown",
   "id": "61f5c7fe",
   "metadata": {},
   "source": [
    "## Part 4: Moments, Expectation, Variance, Higher Moments, Covariance\n",
    "### Task: Calculating Moments\n",
    "- Write a function `calculate_moments` that calculates the mean, variance, skewness, and kurtosis of a given dataset.\n",
    "- Feel free to use any normally distributed dataset, or the code in the line below."
   ]
  },
  {
   "cell_type": "code",
   "execution_count": 5,
   "id": "666ef0aa",
   "metadata": {},
   "outputs": [],
   "source": [
    "import numpy as np"
   ]
  },
  {
   "cell_type": "code",
   "execution_count": 6,
   "id": "35ce7395",
   "metadata": {},
   "outputs": [],
   "source": [
    "normal_distributed_data = np.random.normal(0, 1, 10_000)"
   ]
  }
 ],
 "metadata": {
  "kernelspec": {
   "display_name": "Python 3 (ipykernel)",
   "language": "python",
   "name": "python3"
  },
  "language_info": {
   "codemirror_mode": {
    "name": "ipython",
    "version": 3
   },
   "file_extension": ".py",
   "mimetype": "text/x-python",
   "name": "python",
   "nbconvert_exporter": "python",
   "pygments_lexer": "ipython3",
   "version": "3.11.2"
  }
 },
 "nbformat": 4,
 "nbformat_minor": 5
}
