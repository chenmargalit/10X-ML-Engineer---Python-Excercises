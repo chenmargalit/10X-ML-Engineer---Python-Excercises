{
 "cells": [
  {
   "cell_type": "markdown",
   "id": "caa8307b",
   "metadata": {},
   "source": [
    "# Machine Learning Engineering Exercises"
   ]
  },
  {
   "cell_type": "markdown",
   "id": "c512cfe4",
   "metadata": {},
   "source": [
    "\n",
    "## 1. How Does the Internet Work?\n",
    "**Exercise:**  \n",
    "- Explain the roles of **modem** and **router** in a home network setup.\n",
    "- What is the difference between a **public IP** and a **private IP**?\n",
    "- Write Python code to get the public IP of the current machine using an API call.\n",
    "    "
   ]
  },
  {
   "cell_type": "markdown",
   "id": "ae4a5180",
   "metadata": {},
   "source": [
    "\n",
    "## 2. Communication Protocols\n",
    "**Exercise:**  \n",
    "- Briefly describe the following protocols:  \n",
    "  - **HTTP**  \n",
    "  - **Socket**  \n",
    "  - **gRPC**\n",
    "\n",
    "- Write a simple **HTTP GET request** using Python's `requests` library.\n",
    "    "
   ]
  },
  {
   "cell_type": "code",
   "execution_count": null,
   "id": "61b8ed67",
   "metadata": {},
   "outputs": [],
   "source": [
    "\n",
    "# Perform an HTTP GET request\n",
    "response = requests.get('https://jsonplaceholder.typicode.com/posts/1')\n",
    "print(response.json())\n"
   ]
  },
  {
   "cell_type": "markdown",
   "id": "d844456c",
   "metadata": {},
   "source": [
    "\n",
    "## 3. Packaging a Model\n",
    "**Exercise:**  \n",
    "- Create a Python script that loads a scikit-learn model and saves it using **pickle**.\n",
    "- Write a simple example showing how to load the model from the pickle file.\n",
    "    "
   ]
  },
  {
   "cell_type": "markdown",
   "id": "57600527",
   "metadata": {},
   "source": [
    "\n",
    "## 4. FastAPI - HTTP Methods\n",
    "**Exercise:**  \n",
    "- Create a FastAPI application with the following routes:\n",
    "  - **GET**: Retrieve an item\n",
    "  - **POST**: Add a new item\n",
    "  - **PUT**: Update an existing item\n",
    "  - **PATCH**: Partially update an item\n",
    "  - **DELETE**: Remove an item\n",
    "\n",
    "- Use `uvicorn` to run the FastAPI app locally.\n",
    "\n",
    "- What does each method used for?\n",
    "    "
   ]
  },
  {
   "cell_type": "markdown",
   "id": "a93cdb68",
   "metadata": {},
   "source": [
    "\n",
    "## 5. What is Docker? What is Kubernetes (K8S)?\n",
    "**Exercise:**  \n",
    "- Write a brief summary of **Docker** and **Kubernetes**.\n",
    "- Explain how Docker can be used for ML model deployment."
   ]
  },
  {
   "cell_type": "markdown",
   "id": "9ca8c863",
   "metadata": {},
   "source": [
    "\n",
    "## 6. Logging and Data Decay Exercise\n",
    "**Exercise:**  \n",
    "- Create a simple logging setup that tracks incoming requests to the FastAPI server.\n",
    "- Write code to simulate **data decay** by altering old records randomly and logging the changes.\n",
    "    "
   ]
  }
 ],
 "metadata": {
  "kernelspec": {
   "display_name": "Python 3 (ipykernel)",
   "language": "python",
   "name": "python3"
  },
  "language_info": {
   "codemirror_mode": {
    "name": "ipython",
    "version": 3
   },
   "file_extension": ".py",
   "mimetype": "text/x-python",
   "name": "python",
   "nbconvert_exporter": "python",
   "pygments_lexer": "ipython3",
   "version": "3.11.2"
  }
 },
 "nbformat": 4,
 "nbformat_minor": 5
}
