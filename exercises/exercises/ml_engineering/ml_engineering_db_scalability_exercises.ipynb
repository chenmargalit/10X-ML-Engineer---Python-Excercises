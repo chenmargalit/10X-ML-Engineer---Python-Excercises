{
 "cells": [
  {
   "cell_type": "markdown",
   "id": "fea21ee7",
   "metadata": {},
   "source": [
    "# ML Engineering - Databases and Scalability Exercises"
   ]
  },
  {
   "cell_type": "markdown",
   "id": "d33f817d",
   "metadata": {},
   "source": [
    "\n",
    "## 1. Relational vs Non-Relational Databases\n",
    "**Exercise:**  \n",
    "- List at least 3 key differences between **relational** and **non-relational** databases.\n",
    "- Provide 2 examples of relational databases and 2 examples of non-relational databases.\n",
    "- In which cases would you prefer one over the other?\n",
    "    "
   ]
  },
  {
   "cell_type": "markdown",
   "id": "2ada2073",
   "metadata": {},
   "source": [
    "\n",
    "## 2. Scalability - Auto Scaling and Load Balancers\n",
    "**Exercise:**  \n",
    "- Explain what **auto-scaling** is and how it helps with scalability.\n",
    "- What is a **load balancer**, and how does it distribute traffic?\n",
    "- Write a brief Python script to simulate a round-robin load balancer.\n",
    "    "
   ]
  }
 ],
 "metadata": {
  "kernelspec": {
   "display_name": "Python 3 (ipykernel)",
   "language": "python",
   "name": "python3"
  },
  "language_info": {
   "codemirror_mode": {
    "name": "ipython",
    "version": 3
   },
   "file_extension": ".py",
   "mimetype": "text/x-python",
   "name": "python",
   "nbconvert_exporter": "python",
   "pygments_lexer": "ipython3",
   "version": "3.11.2"
  }
 },
 "nbformat": 4,
 "nbformat_minor": 5
}
