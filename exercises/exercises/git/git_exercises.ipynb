{
 "cells": [
  {
   "cell_type": "markdown",
   "id": "6b84a571",
   "metadata": {},
   "source": [
    "# Git"
   ]
  },
  {
   "cell_type": "markdown",
   "id": "1d02e6a3",
   "metadata": {},
   "source": [
    "## Initialize a Git Repository"
   ]
  },
  {
   "cell_type": "markdown",
   "id": "6035e7ba",
   "metadata": {},
   "source": [
    "Create a folder on your local machine and initiate a git repo inside it"
   ]
  },
  {
   "cell_type": "markdown",
   "id": "df9fc93f",
   "metadata": {},
   "source": [
    "## Git 3 Main Stages"
   ]
  },
  {
   "cell_type": "markdown",
   "id": "a5eb8a86",
   "metadata": {},
   "source": [
    "Type *git status* in the terminal. Think of What do you expect to see?. Did the result match your expectation?"
   ]
  },
  {
   "cell_type": "markdown",
   "id": "084b409c",
   "metadata": {},
   "source": [
    "1. Create a README.txt file. Put some text explaining what this repo is about inside it."
   ]
  },
  {
   "cell_type": "markdown",
   "id": "1f9bb1d5",
   "metadata": {},
   "source": [
    "Type *git status* in the terminal. Think of What do you expect to see. Did the result match your expectation?"
   ]
  },
  {
   "cell_type": "markdown",
   "id": "1cb10f77",
   "metadata": {},
   "source": [
    "2. Add the README.txt file to the staging area"
   ]
  },
  {
   "cell_type": "markdown",
   "id": "9e0ccf30",
   "metadata": {},
   "source": [
    "3. Commit the changes"
   ]
  },
  {
   "cell_type": "markdown",
   "id": "fa9b359f",
   "metadata": {},
   "source": [
    "Make another change to the file. Add and commit it."
   ]
  },
  {
   "cell_type": "markdown",
   "id": "b37f5780",
   "metadata": {},
   "source": [
    "# GitHub"
   ]
  },
  {
   "cell_type": "markdown",
   "id": "32e42dc1",
   "metadata": {},
   "source": [
    "1. Create a new GitHub Repo.\n",
    "2. Connect the local repository you just created, to this new, remote github repo."
   ]
  },
  {
   "cell_type": "markdown",
   "id": "5ec842af",
   "metadata": {},
   "source": [
    "Verify the remote is set through *git remote -v*. Do you fully understand what you're seeing?"
   ]
  },
  {
   "cell_type": "markdown",
   "id": "426a3124",
   "metadata": {},
   "source": [
    "Push the local repo (containing the README.txt file) to this newly remote repo on the default remote branch (what ever the branch the repo was created with, probably either master or main)"
   ]
  },
  {
   "cell_type": "markdown",
   "id": "fddac92e",
   "metadata": {},
   "source": [
    "## GitHub Branches"
   ]
  },
  {
   "cell_type": "markdown",
   "id": "eb521198",
   "metadata": {},
   "source": [
    "1. Create a new branch with a meaningful name (wait to read the entire assignment so you know whats an adequate name).\n",
    "2. While on the new branch, change the README.txt file to have some other text in it. Replace the written line with some other text.\n",
    "3. Add, commit and push the new file to the feature-branch in GitHub."
   ]
  },
  {
   "cell_type": "markdown",
   "id": "4e72d625",
   "metadata": {},
   "source": [
    "Make sure you see the new file, under the right branch, in GitHub"
   ]
  },
  {
   "cell_type": "markdown",
   "id": "c4f48bf3",
   "metadata": {},
   "source": [
    "## Resolving Conflicts"
   ]
  },
  {
   "cell_type": "markdown",
   "id": "e1334db9",
   "metadata": {},
   "source": [
    "Checkout to the default branch (probably either main or master)"
   ]
  },
  {
   "cell_type": "markdown",
   "id": "9ba74f7e",
   "metadata": {},
   "source": [
    "Modify the README.txt file again. Add and commit the changes."
   ]
  },
  {
   "cell_type": "markdown",
   "id": "da293180",
   "metadata": {},
   "source": [
    "Merge the feature branch into main. \n",
    "\n",
    "Did you face conflicts? If not, redo the exercise, following the exact instructions. If you did, fix them in a way, the text that will appear in the default branch is the text from the feature branch."
   ]
  }
 ],
 "metadata": {
  "kernelspec": {
   "display_name": "all_purpose_venv",
   "language": "python",
   "name": "all_purpose_venv"
  },
  "language_info": {
   "codemirror_mode": {
    "name": "ipython",
    "version": 3
   },
   "file_extension": ".py",
   "mimetype": "text/x-python",
   "name": "python",
   "nbconvert_exporter": "python",
   "pygments_lexer": "ipython3",
   "version": "3.11.2"
  }
 },
 "nbformat": 4,
 "nbformat_minor": 5
}
