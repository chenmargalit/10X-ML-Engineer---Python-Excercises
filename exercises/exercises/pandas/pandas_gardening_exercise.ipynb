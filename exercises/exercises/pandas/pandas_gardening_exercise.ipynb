{
 "cells": [
  {
   "cell_type": "code",
   "execution_count": 3,
   "id": "597cfd8b",
   "metadata": {},
   "outputs": [],
   "source": [
    "import pandas as pd"
   ]
  },
  {
   "cell_type": "code",
   "execution_count": 6,
   "id": "73e4d1f2",
   "metadata": {},
   "outputs": [],
   "source": [
    "gardening_data = pd.read_csv('gardening_data.csv')"
   ]
  },
  {
   "cell_type": "markdown",
   "id": "f1436368",
   "metadata": {},
   "source": [
    "# Gardening with Pandas: Exercise Notebook\n",
    "This notebook introduces some basic and commonly used Pandas methods in Python, focusing on a gardening theme. Please choose at least 10 methods from the list provided below to explore, practice, and understand their functionalities. You do not need to work through all of them. Feel free to experiment with any dataset related to gardening that you have access to or create your own.\n",
    "\n",
    "### List of Methods to Choose From\n",
    "- **File Operations**: `read_csv`, `to_csv`\n",
    "- **Basic Data Inspection**: `head`, `tail`, `info`, `describe`, `shape`, `dtypes`\n",
    "- **Data Cleaning and Missing Values**: `astype`, `isnull`, `dropna`, `fillna`, `drop`, `duplicated`, `drop_duplicates`\n",
    "- **Sorting and Selecting Data**: `sort_values`, `loc`, `iloc`\n",
    "- **Data Transformation**: `apply`, `map`\n",
    "- **Grouping and Aggregation**: `groupby`, `agg`\n",
    "- **Value Counts and Categorization**: `value_counts`, `cut`, `qcut`\n",
    "- **Statistical Analysis**: `corr`, `cov`\n",
    "- **Visualization**: `plot`\n",
    "- **Rolling Window Calculations**: `rolling`, `shift`\n",
    "- **Finding Extremes**: `nlargest`, `nsmallest`\n",
    "- **Data Replacement**: `replace`\n",
    "\n",
    "### Example Theme\n",
    "Imagine you are analyzing a dataset related to gardening, such as plant growth, soil quality, water usage, sunlight exposure, etc."
   ]
  },
  {
   "cell_type": "markdown",
   "id": "02fdfe9b",
   "metadata": {},
   "source": [
    "## Part 1: File Operations\n",
    "### Task: Load Your Gardening Data\n",
    "- Load the csv dataset called gardening_dataset"
   ]
  },
  {
   "cell_type": "markdown",
   "id": "91244c10",
   "metadata": {},
   "source": [
    "## Part 2: Basic Data Inspection\n",
    "### Task: Inspect Your Gardening Data\n",
    "- Use methods like `head`, `tail`, `info`, `describe`, `shape`, and `dtypes` to explore the structure and summary of your data."
   ]
  },
  {
   "cell_type": "markdown",
   "id": "557b1e29",
   "metadata": {},
   "source": [
    "How many columns in the dataset are numeric? how many are non-numeric?"
   ]
  },
  {
   "cell_type": "markdown",
   "id": "62f909e8",
   "metadata": {},
   "source": [
    "## Part 3: Data Cleaning and Missing Values\n",
    "### Task: Handle Missing Values and Data Cleaning\n",
    "- Identify missing values using `isnull` and handle them using `dropna` or `fillna`.\n",
    "- Are there duplicated rows in the data? If so, remove them using `drop_duplicates`."
   ]
  },
  {
   "cell_type": "markdown",
   "id": "84f052c2",
   "metadata": {},
   "source": [
    "## Part 4: Sorting and Selecting Data\n",
    "### Task: Sort and Select Specific Rows/Columns\n",
    "- Use `sort_values` to sort your gardening data by a column (e.g., plant height).\n",
    "- Use `loc` and `iloc` to select rows and columns based on labels and positions."
   ]
  },
  {
   "cell_type": "markdown",
   "id": "c073e1c1",
   "metadata": {},
   "source": [
    "## Part 5: Data Transformation\n",
    "### Task: Transform Your Data\n",
    "- Apply a function to a column or an entire DataFrame using `apply` or `map`.\n",
    "- For example, convert sunlight hours to minutes."
   ]
  },
  {
   "cell_type": "markdown",
   "id": "106dd703",
   "metadata": {},
   "source": [
    "## Part 6: Grouping and Aggregation\n",
    "### Task: Group and Aggregate Data\n",
    "- Use `groupby` and `agg` to summarize your gardening data by categories, such as grouping plants by type and calculating their average height."
   ]
  },
  {
   "cell_type": "markdown",
   "id": "af7b40fc",
   "metadata": {},
   "source": [
    "## Part 7: Data Replacement\n",
    "### Task: Replace Specific Values\n",
    "- Use `replace` to change specific values in your dataset (e.g., transform growth rate from numbers to categories, like slow, fast, super fast)."
   ]
  },
  {
   "cell_type": "markdown",
   "id": "b3aee510",
   "metadata": {},
   "source": [
    "## Part 8: Value Counts and Categorization\n",
    "### Task: Count and Bin Data\n",
    "- Use `value_counts` to count the occurrences of categorical values (e.g., plant types).\n",
    "- Use `cut` or `qcut` to bin continuous variables into categories."
   ]
  },
  {
   "cell_type": "markdown",
   "id": "6892eca7",
   "metadata": {},
   "source": [
    "## Part 9: Statistical Analysis\n",
    "### Task: Calculate Correlations and Covariance\n",
    "- Use `corr` to find correlations between numerical columns (e.g., sunlight and plant growth).\n",
    "- Use `cov` to find covariances between columns.\n",
    "\n",
    "If you dont know these methods, check the documentation."
   ]
  },
  {
   "cell_type": "markdown",
   "id": "0bd36e00",
   "metadata": {},
   "source": [
    "## Part 10: Visualization\n",
    "### Task: Visualize Data Trends\n",
    "- Use `plot` to create line plots, bar charts, histograms, etc., to visualize gardening data (e.g., plant growth over time)."
   ]
  },
  {
   "cell_type": "markdown",
   "id": "bbf3e105",
   "metadata": {},
   "source": [
    "## Part 11: Rolling Calculations\n",
    "### Task: Calculate Rolling Statistics and Shifts\n",
    "- Use `rolling` to calculate a rolling mean or other statistics (e.g., average water usage over the last 7 days).\n",
    "- Use `shift` to shift values in a column by a specified number of periods."
   ]
  },
  {
   "cell_type": "markdown",
   "id": "0899d676",
   "metadata": {},
   "source": [
    "## Part 12: Finding Extremes\n",
    "### Task: Find the Largest or Smallest Values\n",
    "- Use `nlargest` and `nsmallest` to find the top or bottom `n` values in a column (e.g., tallest or shortest plants)."
   ]
  }
 ],
 "metadata": {
  "kernelspec": {
   "display_name": "Python 3 (ipykernel)",
   "language": "python",
   "name": "python3"
  },
  "language_info": {
   "codemirror_mode": {
    "name": "ipython",
    "version": 3
   },
   "file_extension": ".py",
   "mimetype": "text/x-python",
   "name": "python",
   "nbconvert_exporter": "python",
   "pygments_lexer": "ipython3",
   "version": "3.11.2"
  }
 },
 "nbformat": 4,
 "nbformat_minor": 5
}
