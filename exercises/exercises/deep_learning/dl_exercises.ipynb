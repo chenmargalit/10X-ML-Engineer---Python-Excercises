{
 "cells": [
  {
   "cell_type": "markdown",
   "id": "66a88d3d",
   "metadata": {},
   "source": [
    "# Machine Learning and Deep Learning Exercises"
   ]
  },
  {
   "cell_type": "markdown",
   "id": "ffa39ab5",
   "metadata": {},
   "source": [
    "\n",
    "## 1. Machine Learning (ML) vs Deep Learning (DL)\n",
    "**Exercise:**  \n",
    "- List at least 3 key differences between ML and DL.\n",
    "- Provide 2 examples of real-world applications where ML is preferred over DL.\n",
    "- Provide 2 examples where DL is the better approach.\n",
    "    "
   ]
  },
  {
   "cell_type": "markdown",
   "id": "4107d8b1",
   "metadata": {},
   "source": [
    "\n",
    "## 2. Multilayer Perceptron (MLP)\n",
    "**Exercise:**  \n",
    "- Build a basic **MLP model** using PyTorch with one hidden layer and ReLU activation.\n",
    "- Use synthetic data (e.g., random inputs and labels) to train the model.\n",
    "    "
   ]
  },
  {
   "cell_type": "markdown",
   "id": "970afeb1",
   "metadata": {},
   "source": [
    "\n",
    "## 3. Feedforward Neural Networks\n",
    "**Exercise:**  \n",
    "- Explain how a feedforward neural network works.\n",
    "- What makes it different from a recurrent neural network (RNN)?\n",
    "    "
   ]
  },
  {
   "cell_type": "markdown",
   "id": "807ca48f",
   "metadata": {},
   "source": [
    "\n",
    "## 4. Activation Functions\n",
    "**Exercise:**  \n",
    "- Implement the following activation functions: ReLU, Sigmoid, and Softmax using PyTorch.\n",
    "- Plot their curves using `matplotlib` for the range of inputs from -10 to 10.\n",
    "    "
   ]
  },
  {
   "cell_type": "markdown",
   "id": "ddc24d47",
   "metadata": {},
   "source": [
    "\n",
    "## 5. Loss Functions\n",
    "**Exercise:**  \n",
    "- Implement **Mean Absolute Error (MAE)** and **Categorical Cross-Entropy** using PyTorch.\n",
    "- Use dummy data to calculate these loss values.\n",
    "    "
   ]
  },
  {
   "cell_type": "markdown",
   "id": "2490730f",
   "metadata": {},
   "source": [
    "\n",
    "## 6. Backpropagation\n",
    "**Exercise:**  \n",
    "- Write a brief explanation of how backpropagation updates weights in a neural network.\n",
    "- What role does the gradient play in backpropagation?\n",
    "    "
   ]
  },
  {
   "cell_type": "markdown",
   "id": "92262d52",
   "metadata": {},
   "source": [
    "\n",
    "## 7. Optimizations\n",
    "**Exercise:**  \n",
    "- Implement optimizers: **SGD**, **Adam**, and **RMSprop** in PyTorch.\n",
    "- Train a simple model with each optimizer and compare the results.\n",
    "    "
   ]
  },
  {
   "cell_type": "markdown",
   "id": "2410825b",
   "metadata": {},
   "source": [
    "\n",
    "## 8. Vanishing/Exploding Gradients\n",
    "**Exercise:**  \n",
    "- Explain the vanishing and exploding gradient problem.\n",
    "- What measures can be taken to mitigate these problems?\n",
    "    "
   ]
  },
  {
   "cell_type": "markdown",
   "id": "c5c46d1d",
   "metadata": {},
   "source": [
    "\n",
    "## 9. Regularization Techniques\n",
    "**Exercise:**  \n",
    "- Implement **Dropout** and **Batch Normalization** in a PyTorch model.\n",
    "- Explain how L1 and L2 regularization work.\n",
    "    "
   ]
  }
 ],
 "metadata": {
  "kernelspec": {
   "display_name": "Python 3 (ipykernel)",
   "language": "python",
   "name": "python3"
  },
  "language_info": {
   "codemirror_mode": {
    "name": "ipython",
    "version": 3
   },
   "file_extension": ".py",
   "mimetype": "text/x-python",
   "name": "python",
   "nbconvert_exporter": "python",
   "pygments_lexer": "ipython3",
   "version": "3.11.2"
  }
 },
 "nbformat": 4,
 "nbformat_minor": 5
}
