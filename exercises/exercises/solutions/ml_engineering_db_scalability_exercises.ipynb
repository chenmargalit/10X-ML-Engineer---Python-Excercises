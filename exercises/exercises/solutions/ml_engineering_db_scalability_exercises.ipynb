{
 "cells": [
  {
   "cell_type": "markdown",
   "id": "fea21ee7",
   "metadata": {},
   "source": [
    "# ML Engineering - Databases and Scalability Exercises"
   ]
  },
  {
   "cell_type": "markdown",
   "id": "d33f817d",
   "metadata": {},
   "source": [
    "\n",
    "## 1. Relational vs Non-Relational Databases\n",
    "**Exercise:**  \n",
    "- List at least 3 key differences between **relational** and **non-relational** databases.\n",
    "- Provide 2 examples of relational databases and 2 examples of non-relational databases.\n",
    "- In which cases would you prefer one over the other?\n",
    "    "
   ]
  },
  {
   "cell_type": "markdown",
   "id": "901146b9",
   "metadata": {},
   "source": [
    "\n",
    "## 2. SQL, MongoDB, Redis\n",
    "**Exercise:**  \n",
    "- Write SQL code to create a table and insert 3 records.\n",
    "- Demonstrate how to store and retrieve data in **MongoDB** using Python.\n",
    "- Show an example of storing a key-value pair in **Redis** using Python.\n",
    "    "
   ]
  },
  {
   "cell_type": "code",
   "execution_count": null,
   "id": "573a865d",
   "metadata": {},
   "outputs": [],
   "source": [
    "\n",
    "# SQL Example (SQLite)\n",
    "import sqlite3\n",
    "\n",
    "# Connect to an in-memory SQLite database\n",
    "conn = sqlite3.connect(':memory:')\n",
    "cursor = conn.cursor()\n",
    "\n",
    "# Create a table and insert records\n",
    "cursor.execute('''CREATE TABLE students (id INTEGER PRIMARY KEY, name TEXT, age INTEGER)''')\n",
    "cursor.execute(\"INSERT INTO students (name, age) VALUES ('Alice', 21)\")\n",
    "cursor.execute(\"INSERT INTO students (name, age) VALUES ('Bob', 22)\")\n",
    "cursor.execute(\"INSERT INTO students (name, age) VALUES ('Charlie', 23)\")\n",
    "\n",
    "# Retrieve and print the records\n",
    "cursor.execute(\"SELECT * FROM students\")\n",
    "rows = cursor.fetchall()\n",
    "print(rows)\n",
    "\n",
    "# Close the connection\n",
    "conn.close()\n"
   ]
  },
  {
   "cell_type": "code",
   "execution_count": null,
   "id": "a80265db",
   "metadata": {},
   "outputs": [],
   "source": [
    "\n",
    "# MongoDB Example (Requires pymongo)\n",
    "from pymongo import MongoClient\n",
    "\n",
    "# Connect to MongoDB (Assumes MongoDB is running locally)\n",
    "client = MongoClient('mongodb://localhost:27017/')\n",
    "db = client['school']\n",
    "collection = db['students']\n",
    "\n",
    "# Insert documents\n",
    "collection.insert_many([\n",
    "    {\"name\": \"Alice\", \"age\": 21},\n",
    "    {\"name\": \"Bob\", \"age\": 22},\n",
    "    {\"name\": \"Charlie\", \"age\": 23}\n",
    "])\n",
    "\n",
    "# Retrieve and print the documents\n",
    "for student in collection.find():\n",
    "    print(student)\n"
   ]
  },
  {
   "cell_type": "code",
   "execution_count": null,
   "id": "fb807e23",
   "metadata": {},
   "outputs": [],
   "source": [
    "\n",
    "# Redis Example (Requires redis-py)\n",
    "import redis\n",
    "\n",
    "# Connect to Redis (Assumes Redis is running locally)\n",
    "r = redis.StrictRedis(host='localhost', port=6379, decode_responses=True)\n",
    "\n",
    "# Store and retrieve a key-value pair\n",
    "r.set('name', 'Alice')\n",
    "print(r.get('name'))\n"
   ]
  },
  {
   "cell_type": "markdown",
   "id": "2ada2073",
   "metadata": {},
   "source": [
    "\n",
    "## 3. Scalability - Auto Scaling and Load Balancers\n",
    "**Exercise:**  \n",
    "- Explain what **auto-scaling** is and how it helps with scalability.\n",
    "- What is a **load balancer**, and how does it distribute traffic?\n",
    "- Write a brief Python script to simulate a round-robin load balancer.\n",
    "    "
   ]
  },
  {
   "cell_type": "code",
   "execution_count": null,
   "id": "b77dc6a0",
   "metadata": {},
   "outputs": [],
   "source": [
    "\n",
    "# Simulate a Round-Robin Load Balancer\n",
    "class LoadBalancer:\n",
    "    def __init__(self, servers):\n",
    "        self.servers = servers\n",
    "        self.index = 0\n",
    "\n",
    "    def get_server(self):\n",
    "        server = self.servers[self.index]\n",
    "        self.index = (self.index + 1) % len(self.servers)\n",
    "        return server\n",
    "\n",
    "# Example usage\n",
    "servers = [\"Server1\", \"Server2\", \"Server3\"]\n",
    "lb = LoadBalancer(servers)\n",
    "\n",
    "# Simulate incoming requests\n",
    "for i in range(6):\n",
    "    print(f\"Request {i + 1} directed to: {lb.get_server()}\")\n"
   ]
  }
 ],
 "metadata": {},
 "nbformat": 4,
 "nbformat_minor": 5
}
