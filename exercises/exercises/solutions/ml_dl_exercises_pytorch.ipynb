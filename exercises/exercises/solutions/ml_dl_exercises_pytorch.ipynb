{
 "cells": [
  {
   "cell_type": "markdown",
   "id": "66a88d3d",
   "metadata": {},
   "source": [
    "# Machine Learning and Deep Learning Exercises"
   ]
  },
  {
   "cell_type": "markdown",
   "id": "ffa39ab5",
   "metadata": {},
   "source": [
    "\n",
    "## 1. Machine Learning (ML) vs Deep Learning (DL)\n",
    "**Exercise:**  \n",
    "- List at least 3 key differences between ML and DL.\n",
    "- Provide 2 examples of real-world applications where ML is preferred over DL.\n",
    "- Provide 2 examples where DL is the better approach.\n",
    "    "
   ]
  },
  {
   "cell_type": "markdown",
   "id": "4107d8b1",
   "metadata": {},
   "source": [
    "\n",
    "## 2. Multilayer Perceptron (MLP)\n",
    "**Exercise:**  \n",
    "- Build a basic **MLP model** using PyTorch with one hidden layer and ReLU activation.\n",
    "- Use synthetic data (e.g., random inputs and labels) to train the model.\n",
    "    "
   ]
  },
  {
   "cell_type": "code",
   "execution_count": null,
   "id": "547af7bb",
   "metadata": {},
   "outputs": [],
   "source": [
    "\n",
    "import torch\n",
    "import torch.nn as nn\n",
    "import torch.optim as optim\n",
    "\n",
    "# Define synthetic data\n",
    "X = torch.randn(100, 5)\n",
    "y = torch.randint(0, 2, (100, 1)).float()\n",
    "\n",
    "# Define an MLP model using PyTorch\n",
    "class MLP(nn.Module):\n",
    "    def __init__(self):\n",
    "        super(MLP, self).__init__()\n",
    "        self.hidden = nn.Linear(5, 10)\n",
    "        self.output = nn.Linear(10, 1)\n",
    "        self.relu = nn.ReLU()\n",
    "    \n",
    "    def forward(self, x):\n",
    "        x = self.relu(self.hidden(x))\n",
    "        return torch.sigmoid(self.output(x))\n",
    "\n",
    "# Instantiate the model, define loss function and optimizer\n",
    "model = MLP()\n",
    "criterion = nn.BCELoss()\n",
    "optimizer = optim.Adam(model.parameters(), lr=0.01)\n",
    "\n",
    "# Training loop\n",
    "for epoch in range(5):\n",
    "    optimizer.zero_grad()\n",
    "    output = model(X)\n",
    "    loss = criterion(output, y)\n",
    "    loss.backward()\n",
    "    optimizer.step()\n",
    "    print(f\"Epoch {epoch+1}, Loss: {loss.item():.4f}\")\n"
   ]
  },
  {
   "cell_type": "markdown",
   "id": "970afeb1",
   "metadata": {},
   "source": [
    "\n",
    "## 3. Feedforward Neural Networks\n",
    "**Exercise:**  \n",
    "- Explain how a feedforward neural network works.\n",
    "- What makes it different from a recurrent neural network (RNN)?\n",
    "    "
   ]
  },
  {
   "cell_type": "markdown",
   "id": "807ca48f",
   "metadata": {},
   "source": [
    "\n",
    "## 4. Activation Functions\n",
    "**Exercise:**  \n",
    "- Implement the following activation functions: ReLU, Sigmoid, Tanh, and Softmax using PyTorch.\n",
    "- Plot their curves using `matplotlib` for the range of inputs from -10 to 10.\n",
    "    "
   ]
  },
  {
   "cell_type": "code",
   "execution_count": null,
   "id": "6ac671c6",
   "metadata": {},
   "outputs": [],
   "source": [
    "\n",
    "import matplotlib.pyplot as plt\n",
    "import torch.nn.functional as F\n",
    "\n",
    "# Define input range\n",
    "x = torch.linspace(-10, 10, 100)\n",
    "\n",
    "# Calculate activations\n",
    "relu = F.relu(x)\n",
    "sigmoid = torch.sigmoid(x)\n",
    "tanh = torch.tanh(x)\n",
    "softmax = F.softmax(x, dim=0)\n",
    "\n",
    "# Plotting\n",
    "fig, axes = plt.subplots(2, 2, figsize=(12, 8))\n",
    "axes[0, 0].plot(x.numpy(), relu.numpy()); axes[0, 0].set_title(\"ReLU\")\n",
    "axes[0, 1].plot(x.numpy(), sigmoid.numpy()); axes[0, 1].set_title(\"Sigmoid\")\n",
    "axes[1, 0].plot(x.numpy(), tanh.numpy()); axes[1, 0].set_title(\"Tanh\")\n",
    "axes[1, 1].plot(x.numpy(), softmax.numpy()); axes[1, 1].set_title(\"Softmax\")\n",
    "plt.show()\n"
   ]
  },
  {
   "cell_type": "markdown",
   "id": "ddc24d47",
   "metadata": {},
   "source": [
    "\n",
    "## 5. Loss Functions\n",
    "**Exercise:**  \n",
    "- Implement **Mean Absolute Error (MAE)** and **Categorical Cross-Entropy** using PyTorch.\n",
    "- Use dummy data to calculate these loss values.\n",
    "    "
   ]
  },
  {
   "cell_type": "code",
   "execution_count": null,
   "id": "99c68991",
   "metadata": {},
   "outputs": [],
   "source": [
    "\n",
    "y_true = torch.tensor([0.1, 0.5, 0.9])\n",
    "y_pred = torch.tensor([0.2, 0.4, 0.8])\n",
    "\n",
    "# Calculate MAE\n",
    "mae = torch.abs(y_true - y_pred).mean()\n",
    "\n",
    "# Categorical Cross-Entropy\n",
    "y_true_cat = torch.tensor([[1, 0, 0], [0, 1, 0]]).float()\n",
    "y_pred_cat = torch.tensor([[0.9, 0.05, 0.05], [0.2, 0.7, 0.1]]).float()\n",
    "loss_fn = nn.CrossEntropyLoss()\n",
    "cce = loss_fn(y_pred_cat, y_true_cat.argmax(dim=1))\n",
    "\n",
    "print(f\"Mean Absolute Error: {mae.item():.4f}\")\n",
    "print(f\"Categorical Cross-Entropy: {cce.item():.4f}\")\n"
   ]
  },
  {
   "cell_type": "markdown",
   "id": "2490730f",
   "metadata": {},
   "source": [
    "\n",
    "## 6. Backpropagation\n",
    "**Exercise:**  \n",
    "- Write a brief explanation of how backpropagation updates weights in a neural network.\n",
    "- What role does the gradient play in backpropagation?\n",
    "    "
   ]
  },
  {
   "cell_type": "markdown",
   "id": "92262d52",
   "metadata": {},
   "source": [
    "\n",
    "## 7. Optimizations\n",
    "**Exercise:**  \n",
    "- Implement optimizers: **SGD**, **Adam**, and **RMSprop** in PyTorch.\n",
    "- Train a simple model with each optimizer and compare the results.\n",
    "    "
   ]
  },
  {
   "cell_type": "code",
   "execution_count": null,
   "id": "8e4baada",
   "metadata": {},
   "outputs": [],
   "source": [
    "\n",
    "# Test different optimizers\n",
    "for optimizer_name in ['SGD', 'Adam', 'RMSprop']:\n",
    "    optimizer = getattr(optim, optimizer_name)(model.parameters(), lr=0.01)\n",
    "    print(f\"Training with {optimizer_name} optimizer:\")\n",
    "    for epoch in range(3):\n",
    "        optimizer.zero_grad()\n",
    "        output = model(X)\n",
    "        loss = criterion(output, y)\n",
    "        loss.backward()\n",
    "        optimizer.step()\n",
    "        print(f\"Epoch {epoch+1}, Loss: {loss.item():.4f}\")\n",
    "    print(\"\n",
    "\")\n"
   ]
  },
  {
   "cell_type": "markdown",
   "id": "2410825b",
   "metadata": {},
   "source": [
    "\n",
    "## 8. Vanishing/Exploding Gradients\n",
    "**Exercise:**  \n",
    "- Explain the vanishing and exploding gradient problem.\n",
    "- What measures can be taken to mitigate these problems?\n",
    "    "
   ]
  },
  {
   "cell_type": "markdown",
   "id": "c5c46d1d",
   "metadata": {},
   "source": [
    "\n",
    "## 9. Regularization Techniques\n",
    "**Exercise:**  \n",
    "- Implement **Dropout** and **Batch Normalization** in a PyTorch model.\n",
    "- Explain how L1 and L2 regularization work.\n",
    "    "
   ]
  },
  {
   "cell_type": "code",
   "execution_count": null,
   "id": "2b9ead9e",
   "metadata": {},
   "outputs": [],
   "source": [
    "\n",
    "# Model with Dropout and Batch Normalization\n",
    "class RegularizedMLP(nn.Module):\n",
    "    def __init__(self):\n",
    "        super(RegularizedMLP, self).__init__()\n",
    "        self.hidden = nn.Linear(5, 64)\n",
    "        self.batch_norm = nn.BatchNorm1d(64)\n",
    "        self.dropout = nn.Dropout(0.5)\n",
    "        self.output = nn.Linear(64, 1)\n",
    "\n",
    "    def forward(self, x):\n",
    "        x = F.relu(self.batch_norm(self.hidden(x)))\n",
    "        x = self.dropout(x)\n",
    "        return torch.sigmoid(self.output(x))\n",
    "\n",
    "# Instantiate and display the model\n",
    "model = RegularizedMLP()\n",
    "print(model)\n"
   ]
  },
  {
   "cell_type": "markdown",
   "id": "7c7f63ff",
   "metadata": {},
   "source": [
    "\n",
    "## 10. Taking Advantage of Free GPUs (Colab/Kaggle)\n",
    "**Exercise:**  \n",
    "- Write down the steps to access and enable free GPUs on **Google Colab** and **Kaggle**.\n",
    "- Explain how you can monitor GPU usage during model training.\n",
    "    "
   ]
  }
 ],
 "metadata": {},
 "nbformat": 4,
 "nbformat_minor": 5
}
