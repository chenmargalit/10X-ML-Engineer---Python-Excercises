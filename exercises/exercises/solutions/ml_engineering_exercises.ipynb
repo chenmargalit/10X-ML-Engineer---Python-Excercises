{
 "cells": [
  {
   "cell_type": "markdown",
   "id": "caa8307b",
   "metadata": {},
   "source": [
    "# Machine Learning Engineering Exercises"
   ]
  },
  {
   "cell_type": "markdown",
   "id": "c512cfe4",
   "metadata": {},
   "source": [
    "\n",
    "## 1. How Does the Internet Work?\n",
    "**Exercise:**  \n",
    "- Explain the roles of **modem** and **router** in a home network setup.\n",
    "- What is the difference between a **public IP** and a **private IP**?\n",
    "- Write Python code to get the public IP of the current machine using an API call.\n",
    "    "
   ]
  },
  {
   "cell_type": "code",
   "execution_count": null,
   "id": "16c62db8",
   "metadata": {},
   "outputs": [],
   "source": [
    "\n",
    "import requests\n",
    "\n",
    "# Get public IP using a public API\n",
    "response = requests.get('https://api.ipify.org?format=json')\n",
    "public_ip = response.json()['ip']\n",
    "print(f\"Public IP Address: {public_ip}\")\n"
   ]
  },
  {
   "cell_type": "markdown",
   "id": "ae4a5180",
   "metadata": {},
   "source": [
    "\n",
    "## 2. Communication Protocols\n",
    "**Exercise:**  \n",
    "- Briefly describe the following protocols:  \n",
    "  - **HTTP**  \n",
    "  - **Socket**  \n",
    "  - **gRPC**\n",
    "\n",
    "- Write a simple **HTTP GET request** using Python's `requests` library.\n",
    "    "
   ]
  },
  {
   "cell_type": "code",
   "execution_count": null,
   "id": "61b8ed67",
   "metadata": {},
   "outputs": [],
   "source": [
    "\n",
    "# Perform an HTTP GET request\n",
    "response = requests.get('https://jsonplaceholder.typicode.com/posts/1')\n",
    "print(response.json())\n"
   ]
  },
  {
   "cell_type": "markdown",
   "id": "d844456c",
   "metadata": {},
   "source": [
    "\n",
    "## 3. Packaging a Model\n",
    "**Exercise:**  \n",
    "- Create a Python script that loads a scikit-learn model and saves it using **pickle**.\n",
    "- Write a simple example showing how to load the model from the pickle file.\n",
    "    "
   ]
  },
  {
   "cell_type": "code",
   "execution_count": null,
   "id": "515daa72",
   "metadata": {},
   "outputs": [],
   "source": [
    "\n",
    "from sklearn.datasets import load_iris\n",
    "from sklearn.linear_model import LogisticRegression\n",
    "import pickle\n",
    "\n",
    "# Train a simple model\n",
    "X, y = load_iris(return_X_y=True)\n",
    "model = LogisticRegression()\n",
    "model.fit(X, y)\n",
    "\n",
    "# Save the model\n",
    "with open('model.pkl', 'wb') as f:\n",
    "    pickle.dump(model, f)\n",
    "\n",
    "# Load the model\n",
    "with open('model.pkl', 'rb') as f:\n",
    "    loaded_model = pickle.load(f)\n",
    "\n",
    "print(\"Model loaded successfully:\", loaded_model)\n"
   ]
  },
  {
   "cell_type": "markdown",
   "id": "57600527",
   "metadata": {},
   "source": [
    "\n",
    "## 4. FastAPI - HTTP Methods\n",
    "**Exercise:**  \n",
    "- Create a FastAPI application with the following routes:\n",
    "  - **GET**: Retrieve an item\n",
    "  - **POST**: Add a new item\n",
    "  - **PUT**: Update an existing item\n",
    "  - **PATCH**: Partially update an item\n",
    "  - **DELETE**: Remove an item\n",
    "\n",
    "- Use `uvicorn` to run the FastAPI app locally.\n",
    "    "
   ]
  },
  {
   "cell_type": "code",
   "execution_count": null,
   "id": "40a4c888",
   "metadata": {},
   "outputs": [],
   "source": [
    "\n",
    "from fastapi import FastAPI\n",
    "\n",
    "app = FastAPI()\n",
    "\n",
    "items = {\"item1\": \"This is an item\"}\n",
    "\n",
    "@app.get(\"/items/{item_id}\")\n",
    "def get_item(item_id: str):\n",
    "    return {\"item\": items.get(item_id)}\n",
    "\n",
    "@app.post(\"/items/\")\n",
    "def create_item(item_id: str, item: str):\n",
    "    items[item_id] = item\n",
    "    return {\"msg\": \"Item added\"}\n",
    "\n",
    "@app.put(\"/items/{item_id}\")\n",
    "def update_item(item_id: str, item: str):\n",
    "    items[item_id] = item\n",
    "    return {\"msg\": \"Item updated\"}\n",
    "\n",
    "@app.patch(\"/items/{item_id}\")\n",
    "def partial_update_item(item_id: str, item: str):\n",
    "    if item_id in items:\n",
    "        items[item_id] += f\" {item}\"\n",
    "    return {\"msg\": \"Item partially updated\"}\n",
    "\n",
    "@app.delete(\"/items/{item_id}\")\n",
    "def delete_item(item_id: str):\n",
    "    items.pop(item_id, None)\n",
    "    return {\"msg\": \"Item deleted\"}\n"
   ]
  },
  {
   "cell_type": "markdown",
   "id": "a93cdb68",
   "metadata": {},
   "source": [
    "\n",
    "## 6. What is Docker? What is Kubernetes (K8S)?\n",
    "**Exercise:**  \n",
    "- Write a brief summary of **Docker** and **Kubernetes**.\n",
    "- Explain how Docker can be used for ML model deployment.\n",
    "- Provide a sample `Dockerfile` for the FastAPI application.\n",
    "    "
   ]
  },
  {
   "cell_type": "code",
   "execution_count": null,
   "id": "5135a540",
   "metadata": {},
   "outputs": [],
   "source": [
    "\n",
    "# Sample Dockerfile\n",
    "dockerfile_content = '''\n",
    "FROM python:3.8-slim\n",
    "\n",
    "WORKDIR /app\n",
    "\n",
    "COPY requirements.txt .\n",
    "\n",
    "RUN pip install -r requirements.txt\n",
    "\n",
    "COPY . .\n",
    "\n",
    "CMD [\"uvicorn\", \"main:app\", \"--host\", \"0.0.0.0\", \"--port\", \"80\"]\n",
    "'''\n",
    "print(dockerfile_content)\n"
   ]
  },
  {
   "cell_type": "markdown",
   "id": "9ca8c863",
   "metadata": {},
   "source": [
    "\n",
    "## 7. Logging and Data Decay Exercise\n",
    "**Exercise:**  \n",
    "- Create a simple logging setup that tracks incoming requests to the FastAPI server.\n",
    "- Write code to simulate **data decay** by altering old records randomly and logging the changes.\n",
    "    "
   ]
  },
  {
   "cell_type": "code",
   "execution_count": null,
   "id": "f59cd3f4",
   "metadata": {},
   "outputs": [],
   "source": [
    "\n",
    "import logging\n",
    "import random\n",
    "\n",
    "# Configure logging\n",
    "logging.basicConfig(filename=\"server.log\", level=logging.INFO)\n",
    "\n",
    "def simulate_data_decay(data):\n",
    "    if random.random() > 0.5:\n",
    "        altered_value = data + random.uniform(-0.5, 0.5)\n",
    "        logging.info(f\"Data altered: {data} -> {altered_value}\")\n",
    "        return altered_value\n",
    "    return data\n",
    "\n",
    "# Example of data decay simulation\n",
    "data_point = 5.0\n",
    "new_data_point = simulate_data_decay(data_point)\n",
    "print(f\"Original: {data_point}, New: {new_data_point}\")\n"
   ]
  }
 ],
 "metadata": {},
 "nbformat": 4,
 "nbformat_minor": 5
}
