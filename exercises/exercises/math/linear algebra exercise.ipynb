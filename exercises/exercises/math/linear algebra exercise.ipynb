{
 "cells": [
  {
   "cell_type": "markdown",
   "id": "fed1dd84",
   "metadata": {},
   "source": [
    "\n",
    "# World Attractions Linear Algebra Exercises\n",
    "\n",
    "In this notebook, you will practice various linear algebra concepts using a dataset themed around famous world attractions.\n",
    "These exercises will guide you through operations on vectors and matrices, matrix decompositions, and understanding the implications of matrix rank and eigenvalues.\n",
    "\n",
    "## Dataset:\n",
    "The dataset includes fictional attributes for famous attractions like Disney World, Machu Picchu, the Great Wall of China, and others. The attributes represent:\n",
    "- `Attraction`: Name of the attraction\n",
    "- `Visitors_per_year`: Number of visitors per year (in millions)\n",
    "- `Entrance_fee`: Average entrance fee (in local currency)\n",
    "- `Country`: Country where the attraction is located\n",
    "- `Height`: Height of the attraction (if applicable, in meters)\n",
    "- `Area`: Area of the attraction site (in square kilometers)\n",
    "\n",
    "The dataset and exercises below will help you apply linear algebra techniques to analyze these attractions.\n"
   ]
  },
  {
   "cell_type": "markdown",
   "id": "0b7bc22a",
   "metadata": {},
   "source": [
    "## Dataset Creation"
   ]
  },
  {
   "cell_type": "code",
   "execution_count": 1,
   "id": "d2fdbc8c",
   "metadata": {},
   "outputs": [
    {
     "data": {
      "text/html": [
       "<div>\n",
       "<style scoped>\n",
       "    .dataframe tbody tr th:only-of-type {\n",
       "        vertical-align: middle;\n",
       "    }\n",
       "\n",
       "    .dataframe tbody tr th {\n",
       "        vertical-align: top;\n",
       "    }\n",
       "\n",
       "    .dataframe thead th {\n",
       "        text-align: right;\n",
       "    }\n",
       "</style>\n",
       "<table border=\"1\" class=\"dataframe\">\n",
       "  <thead>\n",
       "    <tr style=\"text-align: right;\">\n",
       "      <th></th>\n",
       "      <th>Attraction</th>\n",
       "      <th>Visitors_per_year</th>\n",
       "      <th>Entrance_fee</th>\n",
       "      <th>Height</th>\n",
       "      <th>Area</th>\n",
       "      <th>Country</th>\n",
       "    </tr>\n",
       "  </thead>\n",
       "  <tbody>\n",
       "    <tr>\n",
       "      <th>0</th>\n",
       "      <td>Disney World</td>\n",
       "      <td>58.0</td>\n",
       "      <td>109</td>\n",
       "      <td>0</td>\n",
       "      <td>110.000</td>\n",
       "      <td>USA</td>\n",
       "    </tr>\n",
       "    <tr>\n",
       "      <th>1</th>\n",
       "      <td>Machu Picchu</td>\n",
       "      <td>1.5</td>\n",
       "      <td>70</td>\n",
       "      <td>2430</td>\n",
       "      <td>0.032</td>\n",
       "      <td>Peru</td>\n",
       "    </tr>\n",
       "    <tr>\n",
       "      <th>2</th>\n",
       "      <td>Great Wall</td>\n",
       "      <td>10.0</td>\n",
       "      <td>0</td>\n",
       "      <td>0</td>\n",
       "      <td>21196.000</td>\n",
       "      <td>China</td>\n",
       "    </tr>\n",
       "    <tr>\n",
       "      <th>3</th>\n",
       "      <td>Eiffel Tower</td>\n",
       "      <td>7.0</td>\n",
       "      <td>25</td>\n",
       "      <td>324</td>\n",
       "      <td>0.010</td>\n",
       "      <td>France</td>\n",
       "    </tr>\n",
       "    <tr>\n",
       "      <th>4</th>\n",
       "      <td>Colosseum</td>\n",
       "      <td>6.0</td>\n",
       "      <td>16</td>\n",
       "      <td>48</td>\n",
       "      <td>0.025</td>\n",
       "      <td>Italy</td>\n",
       "    </tr>\n",
       "    <tr>\n",
       "      <th>5</th>\n",
       "      <td>Christ the Redeemer</td>\n",
       "      <td>2.0</td>\n",
       "      <td>22</td>\n",
       "      <td>38</td>\n",
       "      <td>0.030</td>\n",
       "      <td>Brazil</td>\n",
       "    </tr>\n",
       "  </tbody>\n",
       "</table>\n",
       "</div>"
      ],
      "text/plain": [
       "            Attraction  Visitors_per_year  Entrance_fee  Height       Area  \\\n",
       "0         Disney World               58.0           109       0    110.000   \n",
       "1         Machu Picchu                1.5            70    2430      0.032   \n",
       "2           Great Wall               10.0             0       0  21196.000   \n",
       "3         Eiffel Tower                7.0            25     324      0.010   \n",
       "4            Colosseum                6.0            16      48      0.025   \n",
       "5  Christ the Redeemer                2.0            22      38      0.030   \n",
       "\n",
       "  Country  \n",
       "0     USA  \n",
       "1    Peru  \n",
       "2   China  \n",
       "3  France  \n",
       "4   Italy  \n",
       "5  Brazil  "
      ]
     },
     "execution_count": 1,
     "metadata": {},
     "output_type": "execute_result"
    }
   ],
   "source": [
    "import numpy as np\n",
    "import pandas as pd\n",
    "\n",
    "data = {\n",
    "    'Attraction': ['Disney World', 'Machu Picchu', 'Great Wall', 'Eiffel Tower', 'Colosseum', 'Christ the Redeemer'],\n",
    "    'Visitors_per_year': [58, 1.5, 10, 7, 6, 2],\n",
    "    'Entrance_fee': [109, 70, 0, 25, 16, 22],\n",
    "    'Height': [0, 2430, 0, 324, 48, 38],  # Some attractions don't have a height attribute\n",
    "    'Area': [110, 0.032, 21_196, 0.01, 0.025, 0.03],  # Area in square kilometers\n",
    "    'Country': ['USA', 'Peru', 'China', 'France', 'Italy', 'Brazil']\n",
    "}\n",
    "\n",
    "df = pd.DataFrame(data)\n",
    "df"
   ]
  },
  {
   "cell_type": "markdown",
   "id": "42d4b5ba",
   "metadata": {},
   "source": [
    "\n",
    "## Exercise 1: Vectors & Norms\n",
    "Consider the vector of the number of visitors per year for each attraction: `[58, 1.5, 10, 7, 6, 2]`.\n",
    "\n",
    "- Compute the L1 norm (Manhattan distance) and the L2 norm (Euclidean distance) of this vector.\n",
    "- How do the norms provide information about the scale and distribution of the visitor numbers?\n"
   ]
  },
  {
   "cell_type": "markdown",
   "id": "78430366",
   "metadata": {},
   "source": [
    "\n",
    "## Exercise 2: Matrices\n",
    "Construct a matrix using the `Visitors_per_year`, `Entrance_fee`, and `Height` columns from the dataset.\n",
    "\n",
    "- What does each row of this matrix represent?\n",
    "- What does each column represent?\n"
   ]
  },
  {
   "cell_type": "markdown",
   "id": "e6f7680e",
   "metadata": {},
   "source": [
    "\n",
    "## Exercise 3: Matrix Operations\n",
    "Given the matrix created in the previous exercise:\n",
    "- Compute the sum and product of the matrix with its transpose.\n",
    "- Compute the inverse of the matrix (if possible).\n",
    "- How do these operations help in understanding the relationships between the attractions' attributes?\n"
   ]
  },
  {
   "cell_type": "markdown",
   "id": "5a8e8ee8",
   "metadata": {},
   "source": [
    "\n",
    "## Exercise 4: Vector Dependency and Subspaces\n",
    "Using the `Visitors_per_year` and `Entrance_fee` columns as vectors, determine if these vectors are linearly dependent or independent.\n",
    "\n",
    "- What does vector dependency mean in the context of world attractions?\n",
    "- What are the implications of vector dependency for data analysis?\n"
   ]
  },
  {
   "cell_type": "markdown",
   "id": "b3281166",
   "metadata": {},
   "source": [
    "\n",
    "## Exercise 5: Special Matrices\n",
    "Create identity, diagonal, and symmetric matrices using the data from the attractions.\n",
    "\n",
    "- How does an identity matrix function in the context of linear algebra?\n",
    "- Create a diagonal matrix using the `Visitors_per_year` values and analyze its properties.\n",
    "- Is it possible to create a symmetric matrix from the attraction data? Why or why not?\n"
   ]
  },
  {
   "cell_type": "markdown",
   "id": "b7bee5f8",
   "metadata": {},
   "source": [
    "\n",
    "## Exercise 6: Matrix Rank and Data Redundancy\n",
    "Calculate the rank of the matrix created from the `Visitors_per_year`, `Entrance_fee`, and `Height` columns.\n",
    "\n",
    "- What does the rank tell you about the data redundancy in the dataset?\n",
    "- How does matrix rank relate to the uniqueness or dependence of rows/columns in the dataset?\n"
   ]
  },
  {
   "cell_type": "markdown",
   "id": "fcfab5d4",
   "metadata": {},
   "source": [
    "\n",
    "## Exercise 7: Matrix Decomposition + SVD\n",
    "Perform Singular Value Decomposition (SVD) on the matrix created earlier.\n",
    "\n",
    "- What do the singular values tell you about the variance in the data?\n",
    "- How can SVD be used to reduce dimensionality in this dataset?\n"
   ]
  },
  {
   "cell_type": "markdown",
   "id": "0d7aad3a",
   "metadata": {},
   "source": [
    "\n",
    "## Exercise 8: Eigenvalues and Eigenvectors\n",
    "Compute the eigenvalues and eigenvectors of the covariance matrix of the dataset (using numerical columns only).\n",
    "\n",
    "- How do eigenvalues and eigenvectors help in understanding the dataset?\n",
    "- What information do they provide about the structure of the attraction data?\n"
   ]
  },
  {
   "cell_type": "markdown",
   "id": "3cc148a0",
   "metadata": {},
   "source": [
    "\n",
    "## Exercise 9: Principal Component Analysis (PCA)\n",
    "Perform PCA on the matrix constructed from `Visitors_per_year`, `Entrance_fee`, and `Height`.\n",
    "\n",
    "- How many principal components are necessary to explain most of the variance in the dataset?\n",
    "- What is the impact of reducing the dimensionality using PCA on this data?\n"
   ]
  }
 ],
 "metadata": {
  "kernelspec": {
   "display_name": "Python 3 (ipykernel)",
   "language": "python",
   "name": "python3"
  },
  "language_info": {
   "codemirror_mode": {
    "name": "ipython",
    "version": 3
   },
   "file_extension": ".py",
   "mimetype": "text/x-python",
   "name": "python",
   "nbconvert_exporter": "python",
   "pygments_lexer": "ipython3",
   "version": "3.11.2"
  }
 },
 "nbformat": 4,
 "nbformat_minor": 5
}
