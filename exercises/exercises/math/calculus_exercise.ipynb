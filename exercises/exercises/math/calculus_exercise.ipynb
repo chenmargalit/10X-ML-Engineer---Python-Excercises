{
 "cells": [
  {
   "cell_type": "markdown",
   "id": "4bea51bb",
   "metadata": {},
   "source": [
    "# Calculus Exercises: Books Theme"
   ]
  },
  {
   "cell_type": "markdown",
   "id": "69105e62",
   "metadata": {},
   "source": [
    "## 1. Limits and Continuity"
   ]
  },
  {
   "cell_type": "markdown",
   "id": "6135ac40",
   "metadata": {},
   "source": [
    "\n",
    "In this exercise, we explore how continuity and limits apply in the context of book ratings.\n",
    "\n",
    "### Task:\n",
    "- Use the following function to model the rating as a continuous function of the number of pages:\n",
    "\n",
    "$$ f(x) = 5 - \\frac{100}{x + 1} $$\n",
    "\n",
    "- Calculate the limit of the function as the number of pages approaches infinity.\n",
    "- Plot the function to visualize continuity.\n"
   ]
  },
  {
   "cell_type": "markdown",
   "id": "491594eb",
   "metadata": {},
   "source": [
    "## 2. Derivatives: Partial and Gradient"
   ]
  },
  {
   "cell_type": "markdown",
   "id": "59a4d5ab",
   "metadata": {},
   "source": [
    "\n",
    "Use the sympy package and the following functions:\n",
    "\n",
    "$$ f(P, R) = P^{0.5} + \\log(R) $$\n",
    "\n",
    "where \\(P\\) is the number of pages and \\(R\\) is the rating.\n",
    "- Calculate the partial derivatives with respect to \\(P\\) and \\(R\\).\n",
    "- Calculate the gradient at a specific point, e.g., \\(P = 300\\), \\(R = 4.5\\).\n"
   ]
  },
  {
   "cell_type": "markdown",
   "id": "44690c45",
   "metadata": {},
   "source": [
    "## 3. Critical Points and Convex/Non-Convex Functions"
   ]
  },
  {
   "cell_type": "markdown",
   "id": "c36ed309",
   "metadata": {},
   "source": [
    "\n",
    "A function's critical points help us understand where it might reach a maximum, minimum, or saddle point.\n",
    "\n",
    "### Task:\n",
    "- Consider the following function:\n",
    "\n",
    "$$ f(x) = x^3 - 6x^2 + 9x + 1 $$\n",
    "\n",
    "- Find the critical points of the function.\n",
    "- Determine whether these points are maxima, minima, or saddle points, (you might want to calculate the second derivative for that).\n",
    "- Plot the function to visualize its shape.\n"
   ]
  },
  {
   "cell_type": "markdown",
   "id": "0cd97989",
   "metadata": {},
   "source": [
    "## 4. Chain Rule and Partial Differentiation"
   ]
  },
  {
   "cell_type": "markdown",
   "id": "82e83797",
   "metadata": {},
   "source": [
    "\n",
    "In this exercise, we model part of a neural network's activation using a **composite function** involving a **ReLU** activation and a squaring function.\n",
    "\n",
    "The ReLU function is defined as:\n",
    "\n",
    "$$\n",
    "\\text{ReLU}(x) = \\max(0, x)\n",
    "$$\n",
    "\n",
    "The composite function is defined as:\n",
    "\n",
    "$$\n",
    "f(g(x)) = (\\text{ReLU}(x))^2\n",
    "$$\n",
    "\n",
    "### Task:\n",
    "1. Implement the two functions: one for ReLU and one for squaring the input.\n",
    "2. Use the **chain rule** to calculate the derivative of the composite function \\(f(g(x))\\) with respect to \\(x\\).\n",
    "3. Evaluate the derivative at:\n",
    "   - \\(x = -1\\)\n",
    "   - \\(x = 1\\)\n",
    "   - \\(x = 3\\)\n",
    "\n",
    "Use the following formulas to help with your calculations:\n",
    "\n",
    "- **ReLU derivative:**\n",
    "\n",
    "  $$\n",
    "  \\text{ReLU}'(x) = \n",
    "  \\begin{cases}\n",
    "  0 & \\text{if } x \\leq 0 \\\\\n",
    "  1 & \\text{if } x > 0\n",
    "  \\end{cases}\n",
    "  $$\n",
    "\n",
    "- **Composite function derivative:**\n",
    "\n",
    "  $$\n",
    "  \\frac{df}{dx} = 2 \\cdot \\text{ReLU}(x) \\cdot \\text{ReLU}'(x)\n",
    "  $$"
   ]
  },
  {
   "cell_type": "markdown",
   "id": "cda8683a",
   "metadata": {},
   "source": [
    "### Explanation:\n",
    "- When (x < 0), the ReLU function outputs 0, so its derivative and the derivative of the composite function will be 0.\n",
    "- When (x > 0), the ReLU function outputs (x), and the derivative becomes (2 * x)."
   ]
  },
  {
   "cell_type": "markdown",
   "id": "dcb9b387",
   "metadata": {},
   "source": [
    "## 5. Integration - Integrals"
   ]
  },
  {
   "cell_type": "markdown",
   "id": "6dcecebf",
   "metadata": {},
   "source": [
    "\n",
    "Integration can help us calculate areas under curves. Use sympy to calculate the following integral.\n",
    "\n",
    "### Task:\n",
    "- Calculate the integral of the function:\n",
    "\n",
    "$$ f(x) = x^2 + 2x + 1 $$\n",
    "\n",
    "from \\(x = 0\\) to \\(x = 10\\).\n"
   ]
  }
 ],
 "metadata": {
  "kernelspec": {
   "display_name": "Python 3 (ipykernel)",
   "language": "python",
   "name": "python3"
  },
  "language_info": {
   "codemirror_mode": {
    "name": "ipython",
    "version": 3
   },
   "file_extension": ".py",
   "mimetype": "text/x-python",
   "name": "python",
   "nbconvert_exporter": "python",
   "pygments_lexer": "ipython3",
   "version": "3.11.2"
  }
 },
 "nbformat": 4,
 "nbformat_minor": 5
}
