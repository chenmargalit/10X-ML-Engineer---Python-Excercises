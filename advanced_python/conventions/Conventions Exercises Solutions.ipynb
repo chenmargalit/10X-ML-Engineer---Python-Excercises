{
 "cells": [
  {
   "cell_type": "markdown",
   "id": "6c370b00",
   "metadata": {},
   "source": [
    "# Exercise 1"
   ]
  },
  {
   "cell_type": "markdown",
   "id": "867e9c94",
   "metadata": {},
   "source": [
    "Write the following code using Python conventions:\n",
    "\n",
    "    a variable that describes a number\n",
    "    a variable that describes a specific kind of ID\n",
    "    a variable that describes a name of a Python file\n",
    "    a variable that describes a constant variable\n",
    "    a variable that describes a class name\n",
    "    a variable that describes a function name"
   ]
  },
  {
   "cell_type": "code",
   "execution_count": 17,
   "id": "4c9fe620",
   "metadata": {},
   "outputs": [],
   "source": [
    "number = 5\n",
    "businees_club_id = 878598567\n",
    "main_python_file = 'main.py'\n",
    "NUM_ALLOWED_ATTEMPTS = 3\n",
    "my_class = MyClass\n",
    "my_func = my_func"
   ]
  },
  {
   "cell_type": "markdown",
   "id": "c33c6407",
   "metadata": {},
   "source": [
    "# Exercise 2"
   ]
  },
  {
   "cell_type": "markdown",
   "id": "e971fc3a",
   "metadata": {},
   "source": [
    "Correct the following code to follow Python naming conventions:"
   ]
  },
  {
   "cell_type": "code",
   "execution_count": 2,
   "id": "6cea72e8",
   "metadata": {},
   "outputs": [],
   "source": [
    "aVariable = 10\n",
    "another_variable = 20\n",
    "YetAnotherVariable = 30"
   ]
  },
  {
   "cell_type": "code",
   "execution_count": 3,
   "id": "f2467f08",
   "metadata": {},
   "outputs": [],
   "source": [
    "a_variable = 10\n",
    "another_variable # is okay\n",
    "yet_another_variable = 30"
   ]
  },
  {
   "cell_type": "markdown",
   "id": "0706d300",
   "metadata": {},
   "source": [
    "# Exercise 3"
   ]
  },
  {
   "cell_type": "markdown",
   "id": "deab6a28",
   "metadata": {},
   "source": [
    "Rewrite the following function using proper snake_case for the function name and variable names:"
   ]
  },
  {
   "cell_type": "code",
   "execution_count": 15,
   "id": "0af600e0",
   "metadata": {},
   "outputs": [],
   "source": [
    "def MultiplyNumbers(x, y):\n",
    "    result = x * y\n",
    "    return result"
   ]
  },
  {
   "cell_type": "code",
   "execution_count": 4,
   "id": "171ec260",
   "metadata": {},
   "outputs": [],
   "source": [
    "def multiply_numbers(x, y):\n",
    "    result = x * y\n",
    "    return result"
   ]
  },
  {
   "cell_type": "markdown",
   "id": "bed6fe88",
   "metadata": {},
   "source": [
    "# Exercise 4"
   ]
  },
  {
   "cell_type": "markdown",
   "id": "d67a2c19",
   "metadata": {},
   "source": [
    "Refactor the following code to use proper indentation:"
   ]
  },
  {
   "cell_type": "code",
   "execution_count": 5,
   "id": "39ac73c6",
   "metadata": {},
   "outputs": [
    {
     "name": "stdout",
     "output_type": "stream",
     "text": [
      "Even\n",
      "Odd\n",
      "Even\n",
      "Odd\n",
      "Even\n"
     ]
    }
   ],
   "source": [
    "for i in range(5):\n",
    "    if i % 2 == 0:\n",
    "        print(\"Even\")\n",
    "    else:\n",
    "        print(\"Odd\")"
   ]
  },
  {
   "cell_type": "code",
   "execution_count": null,
   "id": "01bf6b69",
   "metadata": {},
   "outputs": [],
   "source": []
  }
 ],
 "metadata": {
  "kernelspec": {
   "display_name": "Python 3 (ipykernel)",
   "language": "python",
   "name": "python3"
  },
  "language_info": {
   "codemirror_mode": {
    "name": "ipython",
    "version": 3
   },
   "file_extension": ".py",
   "mimetype": "text/x-python",
   "name": "python",
   "nbconvert_exporter": "python",
   "pygments_lexer": "ipython3",
   "version": "3.11.2"
  }
 },
 "nbformat": 4,
 "nbformat_minor": 5
}
