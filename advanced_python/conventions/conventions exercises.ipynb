{
 "cells": [
  {
   "cell_type": "markdown",
   "id": "612e125c",
   "metadata": {},
   "source": [
    "# Exercise 1"
   ]
  },
  {
   "cell_type": "markdown",
   "id": "be389164",
   "metadata": {},
   "source": [
    "Write the following code using Python conventions:\n",
    "\n",
    "1. a variable that describes a number\n",
    "2. a variable that describes a specific kind of ID\n",
    "3. a variable that describes a name of a Python file\n",
    "4. a variable that describes a constant variable\n",
    "5. a variable that describes a class name\n",
    "6. a variable that describes a function name"
   ]
  }
 ],
 "metadata": {
  "kernelspec": {
   "display_name": "Python 3 (ipykernel)",
   "language": "python",
   "name": "python3"
  },
  "language_info": {
   "codemirror_mode": {
    "name": "ipython",
    "version": 3
   },
   "file_extension": ".py",
   "mimetype": "text/x-python",
   "name": "python",
   "nbconvert_exporter": "python",
   "pygments_lexer": "ipython3",
   "version": "3.11.2"
  }
 },
 "nbformat": 4,
 "nbformat_minor": 5
}
