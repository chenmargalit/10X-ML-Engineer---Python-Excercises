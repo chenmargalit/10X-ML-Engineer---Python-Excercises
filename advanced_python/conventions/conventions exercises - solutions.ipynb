{
 "cells": [
  {
   "cell_type": "markdown",
   "id": "155cf3da",
   "metadata": {},
   "source": [
    "# Exercise 1"
   ]
  },
  {
   "cell_type": "markdown",
   "id": "5dc8c2d4",
   "metadata": {},
   "source": [
    "Write the following code using Python conventions:\n",
    "\n",
    "1. a variable that describes a number\n",
    "2. a variable that describes a specific kind of ID\n",
    "3. a variable that describes a name of a Python file\n",
    "4. a variable that describes a constant variable\n",
    "5. a variable that describes a class name\n",
    "6. a variable that describes a function name"
   ]
  },
  {
   "cell_type": "markdown",
   "id": "9895950b",
   "metadata": {},
   "source": [
    "Running this won't work"
   ]
  },
  {
   "cell_type": "code",
   "execution_count": 5,
   "id": "73480774",
   "metadata": {},
   "outputs": [],
   "source": [
    "number = 5\n",
    "businees_club_id = 878598567\n",
    "main_python_file = 'main.py'\n",
    "NUM_ALLOWED_ATTEMPTS = 3\n",
    "my_class = MyClass\n",
    "my_func = my_func"
   ]
  }
 ],
 "metadata": {
  "kernelspec": {
   "display_name": "Python 3 (ipykernel)",
   "language": "python",
   "name": "python3"
  },
  "language_info": {
   "codemirror_mode": {
    "name": "ipython",
    "version": 3
   },
   "file_extension": ".py",
   "mimetype": "text/x-python",
   "name": "python",
   "nbconvert_exporter": "python",
   "pygments_lexer": "ipython3",
   "version": "3.11.2"
  }
 },
 "nbformat": 4,
 "nbformat_minor": 5
}
