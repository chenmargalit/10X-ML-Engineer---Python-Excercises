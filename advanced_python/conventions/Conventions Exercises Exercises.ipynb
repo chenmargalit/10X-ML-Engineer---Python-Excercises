{
 "cells": [
  {
   "cell_type": "markdown",
   "id": "6c370b00",
   "metadata": {},
   "source": [
    "# Exercise 1"
   ]
  },
  {
   "cell_type": "markdown",
   "id": "867e9c94",
   "metadata": {},
   "source": [
    "Write the following code using Python conventions:\n",
    "\n",
    "    a variable that describes a number\n",
    "    a variable that describes a specific kind of ID\n",
    "    a variable that describes a name of a Python file\n",
    "    a variable that describes a constant variable\n",
    "    a variable that describes a class name\n",
    "    a variable that describes a function name"
   ]
  },
  {
   "cell_type": "markdown",
   "id": "c33c6407",
   "metadata": {},
   "source": [
    "# Exercise 2"
   ]
  },
  {
   "cell_type": "markdown",
   "id": "e971fc3a",
   "metadata": {},
   "source": [
    "Correct the following code to follow Python naming conventions:"
   ]
  },
  {
   "cell_type": "markdown",
   "id": "0706d300",
   "metadata": {},
   "source": [
    "# Exercise 3"
   ]
  },
  {
   "cell_type": "markdown",
   "id": "deab6a28",
   "metadata": {},
   "source": [
    "Rewrite the following function using proper snake_case for the function name and variable names:"
   ]
  },
  {
   "cell_type": "markdown",
   "id": "bed6fe88",
   "metadata": {},
   "source": [
    "# Exercise 4"
   ]
  },
  {
   "cell_type": "markdown",
   "id": "d67a2c19",
   "metadata": {},
   "source": [
    "Refactor the following code to use proper indentation:"
   ]
  },
  {
   "cell_type": "markdown",
   "id": "cae268ef",
   "metadata": {},
   "source": [
    "# Intermediate difficulty"
   ]
  },
  {
   "cell_type": "markdown",
   "id": "b8044c86",
   "metadata": {},
   "source": [
    "# Exercise 1"
   ]
  },
  {
   "cell_type": "markdown",
   "id": "87270666",
   "metadata": {},
   "source": [
    "Function Naming Convention:\n",
    "Rewrite the following function using proper snake_case for the function name and variable names:"
   ]
  },
  {
   "cell_type": "markdown",
   "id": "4093d6a9",
   "metadata": {},
   "source": [
    "# Exercise 2"
   ]
  },
  {
   "cell_type": "markdown",
   "id": "d8b531e3",
   "metadata": {},
   "source": [
    "Define a class for a car rental service using PascalCase for the class name and snake_case for the method names:"
   ]
  }
 ],
 "metadata": {
  "kernelspec": {
   "display_name": "Python 3 (ipykernel)",
   "language": "python",
   "name": "python3"
  },
  "language_info": {
   "codemirror_mode": {
    "name": "ipython",
    "version": 3
   },
   "file_extension": ".py",
   "mimetype": "text/x-python",
   "name": "python",
   "nbconvert_exporter": "python",
   "pygments_lexer": "ipython3",
   "version": "3.11.2"
  }
 },
 "nbformat": 4,
 "nbformat_minor": 5
}
