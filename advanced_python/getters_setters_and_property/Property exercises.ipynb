{
 "cells": [
  {
   "cell_type": "markdown",
   "id": "44f7addc",
   "metadata": {},
   "source": [
    "# Exercise 1"
   ]
  },
  {
   "cell_type": "markdown",
   "id": "04cf65bf",
   "metadata": {},
   "source": [
    "Plant Class with Getter and Setter:\n",
    "Create a Plant class with attributes name, type, and watered. Implement a property needs_water which returns True if the plant has not been watered (watered is False), and False otherwise. Implement a setter for needs_water to update the watered attribute."
   ]
  },
  {
   "cell_type": "markdown",
   "id": "ef85655b",
   "metadata": {},
   "source": [
    "# Exercise 2"
   ]
  },
  {
   "cell_type": "markdown",
   "id": "86f06b02",
   "metadata": {},
   "source": [
    "Garden Class with Property:\n",
    "Create a Garden class that contains a list of Plant objects. Implement a property needs_watering which returns a list of plants in the garden that need watering (based on their needs_water property)."
   ]
  },
  {
   "cell_type": "markdown",
   "id": "3bdc2f55",
   "metadata": {},
   "source": [
    "# Exercise 3"
   ]
  },
  {
   "cell_type": "markdown",
   "id": "fbdb2984",
   "metadata": {},
   "source": [
    "Gardener Class with Property and Setter:\n",
    "Create a Gardener class with attributes name and plants. Implement a property favorite_plant which returns the name of the gardener's favorite plant. Implement a setter for favorite_plant to update the plants attribute to include the favorite plant if it's not already in the list."
   ]
  },
  {
   "cell_type": "markdown",
   "id": "fcc69f59",
   "metadata": {},
   "source": [
    "# Intermediate difficulty"
   ]
  },
  {
   "cell_type": "markdown",
   "id": "f62d6fbf",
   "metadata": {},
   "source": [
    "Create a Plant class with attributes name, age, growth_rate, and max_height. Implement a property current_height which calculates and returns the current height of the plant based on its age and growth rate. Ensure that the current height does not exceed the max_height of the plant.\n",
    "\n",
    "You can also add methods to simulate the passage of time and water the plant, which could affect its growth rate and thus its height. The goal is to use the @property decorator to calculate and return the current height dynamically."
   ]
  },
  {
   "cell_type": "code",
   "execution_count": null,
   "id": "011286fa",
   "metadata": {},
   "outputs": [],
   "source": []
  }
 ],
 "metadata": {
  "kernelspec": {
   "display_name": "Python 3 (ipykernel)",
   "language": "python",
   "name": "python3"
  },
  "language_info": {
   "codemirror_mode": {
    "name": "ipython",
    "version": 3
   },
   "file_extension": ".py",
   "mimetype": "text/x-python",
   "name": "python",
   "nbconvert_exporter": "python",
   "pygments_lexer": "ipython3",
   "version": "3.11.2"
  }
 },
 "nbformat": 4,
 "nbformat_minor": 5
}
