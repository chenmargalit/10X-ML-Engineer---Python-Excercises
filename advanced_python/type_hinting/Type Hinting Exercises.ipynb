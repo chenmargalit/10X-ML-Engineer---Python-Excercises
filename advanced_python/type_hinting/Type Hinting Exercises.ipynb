{
 "cells": [
  {
   "cell_type": "markdown",
   "id": "612e125c",
   "metadata": {},
   "source": [
    "# Exercise 1"
   ]
  },
  {
   "cell_type": "markdown",
   "id": "2a8dc347",
   "metadata": {},
   "source": [
    "Define a Car class with the following attributes:\n",
    "\n",
    "make (str): The make of the car.\n",
    "model (str): The model of the car.\n",
    "year (int): The year the car was manufactured.\n",
    "mileage (float): The mileage of the car."
   ]
  },
  {
   "cell_type": "markdown",
   "id": "c57f5024",
   "metadata": {},
   "source": [
    "# Exercise 2"
   ]
  },
  {
   "cell_type": "markdown",
   "id": "b896cdaf",
   "metadata": {},
   "source": [
    "Define a function called drive_car that takes a Car object as input and returns a str indicating that the car is being driven."
   ]
  },
  {
   "cell_type": "markdown",
   "id": "63a5ae1a",
   "metadata": {},
   "source": [
    "# Exercise 3"
   ]
  },
  {
   "cell_type": "markdown",
   "id": "356d44c7",
   "metadata": {},
   "source": [
    "Define a function called find_most_mileage_car that takes a list of Car objects as input and returns the Car object with the highest mileage."
   ]
  },
  {
   "cell_type": "markdown",
   "id": "ae065946",
   "metadata": {},
   "source": [
    "# Exercise 4"
   ]
  },
  {
   "cell_type": "markdown",
   "id": "efbb4534",
   "metadata": {},
   "source": [
    "Define a function called group_cars_by_make that takes a list of Car objects as input and returns a dictionary where the keys are the makes of the cars and the values are lists of Car objects of that make."
   ]
  }
 ],
 "metadata": {
  "kernelspec": {
   "display_name": "Python 3 (ipykernel)",
   "language": "python",
   "name": "python3"
  },
  "language_info": {
   "codemirror_mode": {
    "name": "ipython",
    "version": 3
   },
   "file_extension": ".py",
   "mimetype": "text/x-python",
   "name": "python",
   "nbconvert_exporter": "python",
   "pygments_lexer": "ipython3",
   "version": "3.11.2"
  }
 },
 "nbformat": 4,
 "nbformat_minor": 5
}
