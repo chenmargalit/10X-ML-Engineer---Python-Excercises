{
 "cells": [
  {
   "cell_type": "markdown",
   "id": "612e125c",
   "metadata": {},
   "source": [
    "# Exercise 1"
   ]
  },
  {
   "cell_type": "markdown",
   "id": "273371ed",
   "metadata": {},
   "source": [
    "Define a Car class with the following attributes:\n",
    "\n",
    "Company (str): The company who made the car. (e.g. Toyota)\n",
    "model (str): The model of the car. (e.g. Land cruizer)\n",
    "year (int): The year the car was manufactured.\n",
    "mileage (float): The mileage of the car."
   ]
  },
  {
   "cell_type": "markdown",
   "id": "191e7064",
   "metadata": {},
   "source": [
    "# Exercise 2"
   ]
  },
  {
   "cell_type": "markdown",
   "id": "bd0261f4",
   "metadata": {},
   "source": [
    "Define a function called drive_car that takes a Car object as input and returns a str indicating that the car is being driven."
   ]
  },
  {
   "cell_type": "markdown",
   "id": "217fd4bb",
   "metadata": {},
   "source": [
    "# Exercise 3"
   ]
  },
  {
   "cell_type": "markdown",
   "id": "7b2324d5",
   "metadata": {},
   "source": [
    "Define a function called find_most_mileage_car that takes a list of Car objects as input and returns the Car object with the highest mileage."
   ]
  },
  {
   "cell_type": "markdown",
   "id": "173ca813",
   "metadata": {},
   "source": [
    "# Exercise 4"
   ]
  },
  {
   "cell_type": "markdown",
   "id": "e66469b5",
   "metadata": {},
   "source": [
    "Modify the Car class to include an optional attribute color (str) to represent the color of the car."
   ]
  },
  {
   "cell_type": "markdown",
   "id": "c1c39583",
   "metadata": {},
   "source": [
    "# Exercise 5"
   ]
  },
  {
   "cell_type": "markdown",
   "id": "3d8df130",
   "metadata": {},
   "source": [
    "Define a function called group_cars_by_make that takes a list of Car objects as input and returns a dictionary where the keys are the makes of the cars and the values are lists of Car objects of that make."
   ]
  }
 ],
 "metadata": {
  "kernelspec": {
   "display_name": "Python 3 (ipykernel)",
   "language": "python",
   "name": "python3"
  },
  "language_info": {
   "codemirror_mode": {
    "name": "ipython",
    "version": 3
   },
   "file_extension": ".py",
   "mimetype": "text/x-python",
   "name": "python",
   "nbconvert_exporter": "python",
   "pygments_lexer": "ipython3",
   "version": "3.11.2"
  }
 },
 "nbformat": 4,
 "nbformat_minor": 5
}
