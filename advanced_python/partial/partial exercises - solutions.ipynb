{
 "cells": [
  {
   "cell_type": "markdown",
   "id": "c0c8a9b2",
   "metadata": {},
   "source": [
    "# Exercise 1"
   ]
  },
  {
   "cell_type": "markdown",
   "id": "6447626b",
   "metadata": {},
   "source": [
    "Exercise: Planting Seeds with Fixed Seed Type\n",
    "Use functools.partial to create a function plant_seeds that plants a fixed type of seeds (e.g., \"Tomato\") with variable quantities. The function should take the quantity as an argument and return a message indicating the action.\n",
    "Create another variable for the same vegtable, with a different seed"
   ]
  },
  {
   "cell_type": "code",
   "execution_count": 4,
   "id": "2131d0cf",
   "metadata": {},
   "outputs": [
    {
     "name": "stdout",
     "output_type": "stream",
     "text": [
      "Planting 10 Tomato seeds.\n",
      "Planting 15 Tomato seeds.\n"
     ]
    }
   ],
   "source": [
    "from functools import partial\n",
    "\n",
    "def plant_seeds(seed_type, quantity):\n",
    "    return f\"Planting {quantity} {seed_type} seeds.\"\n",
    "\n",
    "plant_tomato_seeds = partial(plant_seeds, \"Tomato\")\n",
    "\n",
    "quantity = 10\n",
    "print(plant_tomato_seeds(quantity))\n",
    "\n",
    "quantity = 15\n",
    "print(plant_tomato_seeds(quantity))"
   ]
  },
  {
   "cell_type": "markdown",
   "id": "835ddc2c",
   "metadata": {},
   "source": [
    "# Exercise 2"
   ]
  },
  {
   "cell_type": "markdown",
   "id": "dea23eca",
   "metadata": {},
   "source": [
    "Exercise: Watering Plants with Fixed Frequency\n",
    "Use functools.partial to create a function water_plants that waters plants with a fixed frequency (e.g., every 3 days) but variable plant names. The function should take the plant name as an argument and return a message indicating the watering schedule.\n",
    "\n",
    "Create another plant that needs the same frequent watering and print it too."
   ]
  },
  {
   "cell_type": "code",
   "execution_count": null,
   "id": "7a074c6a",
   "metadata": {},
   "outputs": [],
   "source": [
    "from functools import partial\n",
    "\n",
    "def water_plants(plant_name, frequency):\n",
    "    return f\"Water {plant_name} every {frequency} days.\"\n",
    "\n",
    "water_every_3_days = partial(water_plants, frequency=3)\n",
    "\n",
    "plant_name = \"Lavender\"\n",
    "print(water_every_3_days(plant_name))"
   ]
  },
  {
   "cell_type": "markdown",
   "id": "668c335b",
   "metadata": {},
   "source": [
    "# Exercise 3"
   ]
  },
  {
   "cell_type": "markdown",
   "id": "fd5ea9c6",
   "metadata": {},
   "source": [
    "Exercise: Harvesting Vegetables with Fixed Harvesting Time\n",
    "Use functools.partial to create a function harvest_vegetables that indicates when to harvest a fixed type of vegetable (e.g., \"Carrot\") with variable expected days to harvest. The function should take the days to harvest as an argument and return a message indicating when to harvest."
   ]
  },
  {
   "cell_type": "code",
   "execution_count": 10,
   "id": "59ee73b1",
   "metadata": {},
   "outputs": [
    {
     "name": "stdout",
     "output_type": "stream",
     "text": [
      "Harvest Carrot after 60 days.\n"
     ]
    }
   ],
   "source": [
    "from functools import partial\n",
    "\n",
    "def harvest_vegetables(vegetable_type, days_to_harvest):\n",
    "    return f\"Harvest {vegetable_type} after {days_to_harvest} days.\"\n",
    "\n",
    "harvest_carrots = partial(harvest_vegetables, \"Carrot\")\n",
    "\n",
    "days_to_harvest = 60\n",
    "print(harvest_carrots(days_to_harvest))"
   ]
  },
  {
   "cell_type": "markdown",
   "id": "ce1fe50e",
   "metadata": {},
   "source": [
    "# Intermediate difficulty"
   ]
  },
  {
   "cell_type": "markdown",
   "id": "bb281c04",
   "metadata": {},
   "source": [
    "Create a pipeline for gardening tasks using functools.partial. Define a series of functions representing different gardening tasks, such as planting seeds, watering plants, and harvesting vegetables. Use functools.partial to create partial functions for each task with some fixed parameters (e.g., specific plant types, quantities, or frequencies). Then, combine these partial functions into a pipeline that executes the tasks in a specific order."
   ]
  },
  {
   "cell_type": "code",
   "execution_count": 2,
   "id": "20b537b3",
   "metadata": {},
   "outputs": [
    {
     "name": "stdout",
     "output_type": "stream",
     "text": [
      "Planting 2 Tomato seeds.\n",
      "Water Basil every 3 days.\n",
      "Harvest Carrot after 60 days.\n"
     ]
    }
   ],
   "source": [
    "from functools import partial\n",
    "from typing import Callable\n",
    "\n",
    "def plant_seeds(seed_type: str, quantity: int) -> str:\n",
    "    return f\"Planting {quantity} {seed_type} seeds.\"\n",
    "\n",
    "def water_plants(plant_name: str, frequency: int) -> str:\n",
    "    return f\"Water {plant_name} every {frequency} days.\"\n",
    "\n",
    "def harvest_vegetables(vegetable_type: str, days_to_harvest: int) -> str:\n",
    "    return f\"Harvest {vegetable_type} after {days_to_harvest} days.\"\n",
    "\n",
    "def create_gardening_pipeline(tasks: list[Callable]) -> Callable:\n",
    "    def pipeline():\n",
    "        for task in tasks:\n",
    "            print(task())\n",
    "    \n",
    "    return pipeline\n",
    "\n",
    "plant_tomato_seeds = partial(plant_seeds, \"Tomato\", 2)\n",
    "water_basil = partial(water_plants, \"Basil\", 3)\n",
    "harvest_carrots = partial(harvest_vegetables, \"Carrot\", 60)\n",
    "\n",
    "tasks = [plant_tomato_seeds, water_basil, harvest_carrots]\n",
    "gardening_pipeline = create_gardening_pipeline(tasks)\n",
    "\n",
    "gardening_pipeline()\n"
   ]
  },
  {
   "cell_type": "code",
   "execution_count": null,
   "id": "06d08026",
   "metadata": {},
   "outputs": [],
   "source": []
  }
 ],
 "metadata": {
  "kernelspec": {
   "display_name": "Python 3 (ipykernel)",
   "language": "python",
   "name": "python3"
  },
  "language_info": {
   "codemirror_mode": {
    "name": "ipython",
    "version": 3
   },
   "file_extension": ".py",
   "mimetype": "text/x-python",
   "name": "python",
   "nbconvert_exporter": "python",
   "pygments_lexer": "ipython3",
   "version": "3.11.2"
  }
 },
 "nbformat": 4,
 "nbformat_minor": 5
}
