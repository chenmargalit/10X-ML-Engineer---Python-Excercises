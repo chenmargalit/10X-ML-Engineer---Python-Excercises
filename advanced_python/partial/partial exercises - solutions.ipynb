{
 "cells": [
  {
   "cell_type": "markdown",
   "id": "6447626b",
   "metadata": {},
   "source": [
    "Exercise: Planting Seeds with Fixed Seed Type\n",
    "Use functools.partial to create a function plant_seeds that plants a fixed type of seeds (e.g., \"Tomato\") with variable quantities. The function should take the quantity as an argument and return a message indicating the action.\n",
    "Create another variable for the same vegtable, with a different seed"
   ]
  },
  {
   "cell_type": "code",
   "execution_count": 4,
   "id": "2131d0cf",
   "metadata": {},
   "outputs": [
    {
     "name": "stdout",
     "output_type": "stream",
     "text": [
      "Planting 10 Tomato seeds.\n",
      "Planting 15 Tomato seeds.\n"
     ]
    }
   ],
   "source": [
    "from functools import partial\n",
    "\n",
    "def plant_seeds(seed_type, quantity):\n",
    "    return f\"Planting {quantity} {seed_type} seeds.\"\n",
    "\n",
    "plant_tomato_seeds = partial(plant_seeds, \"Tomato\")\n",
    "\n",
    "quantity = 10\n",
    "print(plant_tomato_seeds(quantity))\n",
    "\n",
    "quantity = 15\n",
    "print(plant_tomato_seeds(quantity))"
   ]
  },
  {
   "cell_type": "markdown",
   "id": "dea23eca",
   "metadata": {},
   "source": [
    "Exercise: Watering Plants with Fixed Frequency\n",
    "Use functools.partial to create a function water_plants that waters plants with a fixed frequency (e.g., every 3 days) but variable plant names. The function should take the plant name as an argument and return a message indicating the watering schedule.\n",
    "\n",
    "Create another plant that needs the same frequent watering and print it too."
   ]
  },
  {
   "cell_type": "code",
   "execution_count": null,
   "id": "7a074c6a",
   "metadata": {},
   "outputs": [],
   "source": [
    "from functools import partial\n",
    "\n",
    "def water_plants(plant_name, frequency):\n",
    "    return f\"Water {plant_name} every {frequency} days.\"\n",
    "\n",
    "water_every_3_days = partial(water_plants, frequency=3)\n",
    "\n",
    "plant_name = \"Lavender\"\n",
    "print(water_every_3_days(plant_name))"
   ]
  },
  {
   "cell_type": "markdown",
   "id": "fd5ea9c6",
   "metadata": {},
   "source": [
    "Exercise: Harvesting Vegetables with Fixed Harvesting Time\n",
    "Use functools.partial to create a function harvest_vegetables that indicates when to harvest a fixed type of vegetable (e.g., \"Carrot\") with variable expected days to harvest. The function should take the days to harvest as an argument and return a message indicating when to harvest."
   ]
  },
  {
   "cell_type": "code",
   "execution_count": 10,
   "id": "59ee73b1",
   "metadata": {},
   "outputs": [
    {
     "name": "stdout",
     "output_type": "stream",
     "text": [
      "Harvest Carrot after 60 days.\n"
     ]
    }
   ],
   "source": [
    "from functools import partial\n",
    "\n",
    "def harvest_vegetables(vegetable_type, days_to_harvest):\n",
    "    return f\"Harvest {vegetable_type} after {days_to_harvest} days.\"\n",
    "\n",
    "harvest_carrots = partial(harvest_vegetables, \"Carrot\")\n",
    "\n",
    "days_to_harvest = 60\n",
    "print(harvest_carrots(days_to_harvest))"
   ]
  },
  {
   "cell_type": "code",
   "execution_count": null,
   "id": "8ef99a86",
   "metadata": {},
   "outputs": [],
   "source": []
  }
 ],
 "metadata": {
  "kernelspec": {
   "display_name": "Python 3 (ipykernel)",
   "language": "python",
   "name": "python3"
  },
  "language_info": {
   "codemirror_mode": {
    "name": "ipython",
    "version": 3
   },
   "file_extension": ".py",
   "mimetype": "text/x-python",
   "name": "python",
   "nbconvert_exporter": "python",
   "pygments_lexer": "ipython3",
   "version": "3.11.2"
  }
 },
 "nbformat": 4,
 "nbformat_minor": 5
}
