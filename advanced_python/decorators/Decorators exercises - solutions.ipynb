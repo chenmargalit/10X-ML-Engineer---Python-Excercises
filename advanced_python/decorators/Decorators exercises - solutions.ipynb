{
 "cells": [
  {
   "cell_type": "markdown",
   "id": "44f7addc",
   "metadata": {},
   "source": [
    "# Exercise 1"
   ]
  },
  {
   "cell_type": "markdown",
   "id": "c0de37dc",
   "metadata": {},
   "source": [
    "Timing Decorator: Create a decorator that calculates and prints the time taken by a function to execute."
   ]
  },
  {
   "cell_type": "code",
   "execution_count": 2,
   "id": "0a8f6b7e",
   "metadata": {},
   "outputs": [
    {
     "name": "stdout",
     "output_type": "stream",
     "text": [
      "Time taken: 2.1457672119140625e-06 seconds\n"
     ]
    }
   ],
   "source": [
    "import time\n",
    "\n",
    "def timer(func):\n",
    "    def wrapper(*args, **kwargs):\n",
    "        start_time = time.time()\n",
    "        result = func(*args, **kwargs)\n",
    "        end_time = time.time()\n",
    "        print(f\"Time taken: {end_time - start_time} seconds\")\n",
    "        return result\n",
    "    return wrapper\n",
    "\n",
    "def sum_two_numbers(a,b):\n",
    "    return a+b\n",
    "    \n",
    "\n",
    "@timer\n",
    "def example_function():\n",
    "    sum_two_numbers(1,2)\n",
    "\n",
    "example_function()"
   ]
  },
  {
   "cell_type": "markdown",
   "id": "74758c7d",
   "metadata": {},
   "source": [
    "# Exercise 2"
   ]
  },
  {
   "cell_type": "markdown",
   "id": "4bebabd0",
   "metadata": {},
   "source": [
    "Logging Decorator: Implement a decorator that logs the arguments and return value of a function."
   ]
  },
  {
   "cell_type": "code",
   "execution_count": 3,
   "id": "e1d5262b",
   "metadata": {},
   "outputs": [
    {
     "name": "stdout",
     "output_type": "stream",
     "text": [
      "Arguments: (3, 5), {}\n",
      "Return value: 8\n"
     ]
    },
    {
     "data": {
      "text/plain": [
       "8"
      ]
     },
     "execution_count": 3,
     "metadata": {},
     "output_type": "execute_result"
    }
   ],
   "source": [
    "def logger(func):\n",
    "    def wrapper(*args, **kwargs):\n",
    "        print(f\"Arguments: {args}, {kwargs}\")\n",
    "        result = func(*args, **kwargs)\n",
    "        print(f\"Return value: {result}\")\n",
    "        return result\n",
    "    return wrapper\n",
    "\n",
    "@logger\n",
    "def add(x, y):\n",
    "    return x + y\n",
    "\n",
    "add(3, 5)"
   ]
  },
  {
   "cell_type": "markdown",
   "id": "3bdc2f55",
   "metadata": {},
   "source": [
    "# Exercise 3"
   ]
  },
  {
   "cell_type": "markdown",
   "id": "c1db5a5f",
   "metadata": {},
   "source": [
    "Authorization Decorator: Create a decorator that checks if a user is authorized to call a function."
   ]
  },
  {
   "cell_type": "code",
   "execution_count": 5,
   "id": "cd3d93ca",
   "metadata": {},
   "outputs": [
    {
     "name": "stdout",
     "output_type": "stream",
     "text": [
      "Hello, admin\n"
     ]
    }
   ],
   "source": [
    "def authorize(func):\n",
    "    def wrapper(user):\n",
    "        if user == \"admin\":\n",
    "            return func(user)\n",
    "        else:\n",
    "            raise PermissionError(\"Unauthorized access\")\n",
    "    return wrapper\n",
    "\n",
    "@authorize\n",
    "def secure_function(user):\n",
    "    return f\"Hello, {user}\"\n",
    "\n",
    "print(secure_function(\"admin\"))"
   ]
  },
  {
   "cell_type": "code",
   "execution_count": 6,
   "id": "fe310fda",
   "metadata": {},
   "outputs": [
    {
     "ename": "PermissionError",
     "evalue": "Unauthorized access",
     "output_type": "error",
     "traceback": [
      "\u001b[0;31m---------------------------------------------------------------------------\u001b[0m",
      "\u001b[0;31mPermissionError\u001b[0m                           Traceback (most recent call last)",
      "Cell \u001b[0;32mIn[6], line 1\u001b[0m\n\u001b[0;32m----> 1\u001b[0m \u001b[38;5;28mprint\u001b[39m(\u001b[43msecure_function\u001b[49m\u001b[43m(\u001b[49m\u001b[38;5;124;43m\"\u001b[39;49m\u001b[38;5;124;43mguest\u001b[39;49m\u001b[38;5;124;43m\"\u001b[39;49m\u001b[43m)\u001b[49m)\n",
      "Cell \u001b[0;32mIn[5], line 6\u001b[0m, in \u001b[0;36mauthorize.<locals>.wrapper\u001b[0;34m(user)\u001b[0m\n\u001b[1;32m      4\u001b[0m     \u001b[38;5;28;01mreturn\u001b[39;00m func(user)\n\u001b[1;32m      5\u001b[0m \u001b[38;5;28;01melse\u001b[39;00m:\n\u001b[0;32m----> 6\u001b[0m     \u001b[38;5;28;01mraise\u001b[39;00m \u001b[38;5;167;01mPermissionError\u001b[39;00m(\u001b[38;5;124m\"\u001b[39m\u001b[38;5;124mUnauthorized access\u001b[39m\u001b[38;5;124m\"\u001b[39m)\n",
      "\u001b[0;31mPermissionError\u001b[0m: Unauthorized access"
     ]
    }
   ],
   "source": [
    "print(secure_function(\"guest\"))"
   ]
  },
  {
   "cell_type": "markdown",
   "id": "fcc69f59",
   "metadata": {},
   "source": [
    "# Intermediate difficulty"
   ]
  },
  {
   "cell_type": "markdown",
   "id": "e764fcd4",
   "metadata": {},
   "source": [
    "Caching Decorator:\n",
    "Create a decorator that caches the return value of the fibonacci function you see. The cache should be made such that if the function is called again with the same arguments, it returns the cached result instead of recalculating it."
   ]
  },
  {
   "cell_type": "code",
   "execution_count": 37,
   "id": "971d5530",
   "metadata": {},
   "outputs": [],
   "source": [
    "def fibonacci(n):\n",
    "    if n < 2:\n",
    "        return n\n",
    "    return fibonacci(n-1) + fibonacci(n-2)"
   ]
  },
  {
   "cell_type": "code",
   "execution_count": 44,
   "id": "aa34440a",
   "metadata": {},
   "outputs": [
    {
     "name": "stdout",
     "output_type": "stream",
     "text": [
      "39088169\n",
      "CPU times: user 4.34 s, sys: 3.05 ms, total: 4.35 s\n",
      "Wall time: 4.36 s\n"
     ]
    }
   ],
   "source": [
    "%time print(fibonacci(38))"
   ]
  },
  {
   "cell_type": "code",
   "execution_count": 45,
   "id": "5de170eb",
   "metadata": {},
   "outputs": [],
   "source": [
    "def cache(func):\n",
    "    cached_results = {}\n",
    "    \n",
    "    def wrapper(*args, **kwargs):\n",
    "        key = (args, tuple(kwargs.items()))\n",
    "        if key in cached_results:\n",
    "            return cached_results[key]\n",
    "        else:\n",
    "            result = func(*args, **kwargs)\n",
    "            cached_results[key] = result\n",
    "            return result\n",
    "    \n",
    "    return wrapper\n",
    "\n",
    "@cache\n",
    "def fibonacci(n):\n",
    "    if n < 2:\n",
    "        return n\n",
    "    return fibonacci(n-1) + fibonacci(n-2)"
   ]
  },
  {
   "cell_type": "code",
   "execution_count": 46,
   "id": "c22e0d37",
   "metadata": {},
   "outputs": [
    {
     "name": "stdout",
     "output_type": "stream",
     "text": [
      "39088169\n",
      "CPU times: user 123 µs, sys: 32 µs, total: 155 µs\n",
      "Wall time: 138 µs\n"
     ]
    }
   ],
   "source": [
    "%time print(fibonacci(38))"
   ]
  },
  {
   "cell_type": "code",
   "execution_count": null,
   "id": "76941cb6",
   "metadata": {},
   "outputs": [],
   "source": []
  }
 ],
 "metadata": {
  "kernelspec": {
   "display_name": "Python 3 (ipykernel)",
   "language": "python",
   "name": "python3"
  },
  "language_info": {
   "codemirror_mode": {
    "name": "ipython",
    "version": 3
   },
   "file_extension": ".py",
   "mimetype": "text/x-python",
   "name": "python",
   "nbconvert_exporter": "python",
   "pygments_lexer": "ipython3",
   "version": "3.11.2"
  }
 },
 "nbformat": 4,
 "nbformat_minor": 5
}
