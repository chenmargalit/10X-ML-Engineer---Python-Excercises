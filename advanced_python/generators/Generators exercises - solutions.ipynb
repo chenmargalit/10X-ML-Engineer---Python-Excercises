{
 "cells": [
  {
   "cell_type": "code",
   "execution_count": 3,
   "id": "a4f5a39c",
   "metadata": {},
   "outputs": [],
   "source": [
    "stars = ['Alpha Centauri', 'Sirius', 'Polaris', 'Orion', 'Ursa Major', 'Andromeda']"
   ]
  },
  {
   "cell_type": "markdown",
   "id": "44f7addc",
   "metadata": {},
   "source": [
    "# Exercise 1"
   ]
  },
  {
   "cell_type": "markdown",
   "id": "883af6a3",
   "metadata": {},
   "source": [
    "Write a generator function that yield names of stars"
   ]
  },
  {
   "cell_type": "code",
   "execution_count": 6,
   "id": "126ca19c",
   "metadata": {},
   "outputs": [
    {
     "name": "stdout",
     "output_type": "stream",
     "text": [
      "Alpha Centauri\n",
      "Sirius\n",
      "Polaris\n",
      "Orion\n",
      "Ursa Major\n",
      "Andromeda\n"
     ]
    }
   ],
   "source": [
    "def loop_through_the_stars(some_list):\n",
    "    for item in some_list:\n",
    "        yield item\n",
    "\n",
    "for star in loop_through_the_stars(stars):\n",
    "    print(star)"
   ]
  },
  {
   "cell_type": "markdown",
   "id": "12223524",
   "metadata": {},
   "source": [
    "# Exercise 2"
   ]
  },
  {
   "cell_type": "markdown",
   "id": "d1183b7f",
   "metadata": {},
   "source": [
    "Write a generator function countdown(n) that yields the numbers from n down to 1."
   ]
  },
  {
   "cell_type": "code",
   "execution_count": 1,
   "id": "561a95ac",
   "metadata": {},
   "outputs": [
    {
     "name": "stdout",
     "output_type": "stream",
     "text": [
      "5\n",
      "4\n",
      "3\n",
      "2\n",
      "1\n"
     ]
    }
   ],
   "source": [
    "def countdown(n):\n",
    "    while n > 0:\n",
    "        yield n\n",
    "        n -= 1\n",
    "\n",
    "for number in countdown(5):\n",
    "    print(number)"
   ]
  },
  {
   "cell_type": "markdown",
   "id": "74758c7d",
   "metadata": {},
   "source": [
    "# Exercise 3"
   ]
  },
  {
   "cell_type": "markdown",
   "id": "849637b7",
   "metadata": {},
   "source": [
    "Write a generator function that yield names of stars if the length of their name is even (including spaces)."
   ]
  },
  {
   "cell_type": "code",
   "execution_count": 7,
   "id": "de385391",
   "metadata": {},
   "outputs": [
    {
     "name": "stdout",
     "output_type": "stream",
     "text": [
      "Alpha Centauri\n",
      "Sirius\n",
      "Ursa Major\n"
     ]
    }
   ],
   "source": [
    "def even_lengthed_named_stars(some_list):\n",
    "    for item in some_list:\n",
    "        if len(item) % 2 == 0:\n",
    "            yield item\n",
    "            \n",
    "for star in even_lengthed_named_stars(stars):\n",
    "    print(star)"
   ]
  },
  {
   "cell_type": "markdown",
   "id": "fcc69f59",
   "metadata": {},
   "source": [
    "# Intermediate difficulty"
   ]
  },
  {
   "cell_type": "markdown",
   "id": "58eb5d9d",
   "metadata": {},
   "source": [
    "Write a generator function star_system_info() that yields tuples containing the name of a star system and the number of stars in that system. Assume each star system has between 1 and 5 stars."
   ]
  },
  {
   "cell_type": "code",
   "execution_count": 62,
   "id": "e34d11ec",
   "metadata": {
    "scrolled": true
   },
   "outputs": [
    {
     "name": "stdout",
     "output_type": "stream",
     "text": [
      "Alpha Centauri: 4 stars\n",
      "Sirius: 5 stars\n",
      "Polaris: 1 stars\n",
      "Orion: 1 stars\n",
      "Ursa Major: 3 stars\n",
      "Andromeda: 4 stars\n"
     ]
    }
   ],
   "source": [
    "import random\n",
    "\n",
    "def star_system_info(some_list):\n",
    "    for item in some_list:\n",
    "        random_num = random.randint(1, 5)\n",
    "        yield (item, random_num)\n",
    "\n",
    "for system, num_stars in star_system_info(stars):\n",
    "    print(f'{system}: {num_stars} stars')"
   ]
  }
 ],
 "metadata": {
  "kernelspec": {
   "display_name": "Python 3 (ipykernel)",
   "language": "python",
   "name": "python3"
  },
  "language_info": {
   "codemirror_mode": {
    "name": "ipython",
    "version": 3
   },
   "file_extension": ".py",
   "mimetype": "text/x-python",
   "name": "python",
   "nbconvert_exporter": "python",
   "pygments_lexer": "ipython3",
   "version": "3.11.2"
  }
 },
 "nbformat": 4,
 "nbformat_minor": 5
}
