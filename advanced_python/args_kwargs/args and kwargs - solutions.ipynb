{
 "cells": [
  {
   "cell_type": "markdown",
   "id": "191e5f6d",
   "metadata": {},
   "source": [
    "# Exercise 1"
   ]
  },
  {
   "cell_type": "markdown",
   "id": "98cb881d",
   "metadata": {},
   "source": [
    "Exercise: Planting Multiple Seeds\n",
    "Write a function plant_seeds that takes a variable number of arguments representing the types of seeds to plant. Print a message for each seed type indicating the planting action."
   ]
  },
  {
   "cell_type": "code",
   "execution_count": 1,
   "id": "f4feb9d5",
   "metadata": {},
   "outputs": [
    {
     "name": "stdout",
     "output_type": "stream",
     "text": [
      "Planting Tomato seeds.\n",
      "Planting Basil seeds.\n",
      "Planting Lettuce seeds.\n"
     ]
    }
   ],
   "source": [
    "def plant_seeds(*args):\n",
    "    for seed_type in args:\n",
    "        print(f\"Planting {seed_type} seeds.\")\n",
    "\n",
    "plant_seeds(\"Tomato\", \"Basil\", \"Lettuce\")"
   ]
  },
  {
   "cell_type": "markdown",
   "id": "f698d80a",
   "metadata": {},
   "source": [
    "# Exercise 2"
   ]
  },
  {
   "cell_type": "markdown",
   "id": "ff08d35d",
   "metadata": {},
   "source": [
    "Exercise: Watering Plants with Specific Intervals\n",
    "Write a function water_plants that takes a variable number of keyword arguments representing different plant names and their watering intervals. Print a message for each plant indicating the watering schedule."
   ]
  },
  {
   "cell_type": "code",
   "execution_count": 3,
   "id": "886e7a7b",
   "metadata": {},
   "outputs": [
    {
     "name": "stdout",
     "output_type": "stream",
     "text": [
      "Water Tomato every 2 days.\n",
      "Water Basil every 3 days.\n",
      "Water Lettuce every 1 days.\n"
     ]
    }
   ],
   "source": [
    "def water_plants(**kwargs):\n",
    "    for plant, interval in kwargs.items():\n",
    "        print(f\"Water {plant} every {interval} days.\")\n",
    "\n",
    "water_plants(Tomato=2, Basil=3, Lettuce=1)"
   ]
  },
  {
   "cell_type": "markdown",
   "id": "e2c0ada5",
   "metadata": {},
   "source": [
    "Exercise: Harvesting Vegetables with Specific Durations\n",
    "Write a function harvest_vegetables that takes a variable number of keyword arguments representing different vegetable types and the number of days to harvest. Print a message for each vegetable indicating the harvesting duration."
   ]
  },
  {
   "cell_type": "code",
   "execution_count": 4,
   "id": "739fac0a",
   "metadata": {},
   "outputs": [
    {
     "name": "stdout",
     "output_type": "stream",
     "text": [
      "Harvest Carrot after 60 days.\n",
      "Harvest Tomato after 75 days.\n",
      "Harvest Lettuce after 50 days.\n"
     ]
    }
   ],
   "source": [
    "def harvest_vegetables(**kwargs):\n",
    "    for vegetable, days_to_harvest in kwargs.items():\n",
    "        print(f\"Harvest {vegetable} after {days_to_harvest} days.\")\n",
    "\n",
    "harvest_vegetables(Carrot=60, Tomato=75, Lettuce=50)"
   ]
  },
  {
   "cell_type": "markdown",
   "id": "0988d1b6",
   "metadata": {},
   "source": [
    "# Intermediate difficulty"
   ]
  },
  {
   "cell_type": "markdown",
   "id": "12879ba6",
   "metadata": {},
   "source": [
    "Exercise: Planning Garden Layout\n",
    "You are planning the layout for a garden and want to create a function that can handle different types of plants and their quantities. Write a function plan_garden that takes the garden name as the first argument, followed by *args representing the plant types, and **kwargs representing the quantities of each plant type. The function should print a message indicating the garden name, followed by the list of plants and their quantities."
   ]
  },
  {
   "cell_type": "code",
   "execution_count": 5,
   "id": "f194455f",
   "metadata": {},
   "outputs": [
    {
     "name": "stdout",
     "output_type": "stream",
     "text": [
      "Planning garden: My Backyard\n",
      "Planting 5 Tomato(s).\n",
      "Planting 3 Basil(s).\n",
      "Planting 10 Lettuce(s).\n"
     ]
    }
   ],
   "source": [
    "def plan_garden(garden_name, *args, **kwargs):\n",
    "    print(f\"Planning garden: {garden_name}\")\n",
    "    for plant, quantity in zip(args, kwargs.values()):\n",
    "        print(f\"Planting {quantity} {plant}(s).\")\n",
    "\n",
    "plan_garden(\"My Backyard\", \"Tomato\", \"Basil\", \"Lettuce\", Tomato=5, Basil=3, Lettuce=10)"
   ]
  },
  {
   "cell_type": "code",
   "execution_count": null,
   "id": "915c156a",
   "metadata": {},
   "outputs": [],
   "source": []
  }
 ],
 "metadata": {
  "kernelspec": {
   "display_name": "Python 3 (ipykernel)",
   "language": "python",
   "name": "python3"
  },
  "language_info": {
   "codemirror_mode": {
    "name": "ipython",
    "version": 3
   },
   "file_extension": ".py",
   "mimetype": "text/x-python",
   "name": "python",
   "nbconvert_exporter": "python",
   "pygments_lexer": "ipython3",
   "version": "3.11.2"
  }
 },
 "nbformat": 4,
 "nbformat_minor": 5
}
