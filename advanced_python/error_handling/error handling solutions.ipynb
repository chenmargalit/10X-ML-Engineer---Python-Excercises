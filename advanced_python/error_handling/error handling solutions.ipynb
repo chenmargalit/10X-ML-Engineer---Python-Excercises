{
 "cells": [
  {
   "cell_type": "markdown",
   "id": "4a911ff8",
   "metadata": {},
   "source": [
    "# Exercise 1"
   ]
  },
  {
   "cell_type": "markdown",
   "id": "a1415b47",
   "metadata": {},
   "source": [
    "Write a program that takes two numbers from the user and divides the first number by the second number. Handle the ZeroDivisionError if the second number is zero."
   ]
  },
  {
   "cell_type": "code",
   "execution_count": 2,
   "id": "ff1f12d0",
   "metadata": {},
   "outputs": [
    {
     "name": "stdout",
     "output_type": "stream",
     "text": [
      "Enter the first number: 3\n",
      "Enter the second number: 0\n",
      "Error: Cannot divide by zero.\n"
     ]
    }
   ],
   "source": [
    "try:\n",
    "    num1 = int(input(\"Enter the first number: \"))\n",
    "    num2 = int(input(\"Enter the second number: \"))\n",
    "    result = num1 / num2\n",
    "    print(\"Result:\", result)\n",
    "except ZeroDivisionError:\n",
    "    print(\"Error: Cannot divide by zero.\")"
   ]
  },
  {
   "cell_type": "markdown",
   "id": "4cb0a93c",
   "metadata": {},
   "source": [
    "# Exercise 2"
   ]
  },
  {
   "cell_type": "markdown",
   "id": "42626cf2",
   "metadata": {},
   "source": [
    "Write a program that opens a file specified by the user and reads its contents. Handle the FileNotFoundError if the specified file does not exist."
   ]
  },
  {
   "cell_type": "code",
   "execution_count": null,
   "id": "efb99e2f",
   "metadata": {},
   "outputs": [],
   "source": [
    "try:\n",
    "    filename = input(\"Enter the file name: \")\n",
    "    with open(filename, 'r') as file:\n",
    "        content = file.read()\n",
    "        print(\"File content:\", content)\n",
    "except FileNotFoundError:\n",
    "    print(\"Error: File not found.\")\n"
   ]
  },
  {
   "cell_type": "markdown",
   "id": "52d3b123",
   "metadata": {},
   "source": [
    "# Exercise 3"
   ]
  },
  {
   "cell_type": "markdown",
   "id": "06d6764c",
   "metadata": {},
   "source": [
    "Write a program that takes an integer input from the user and converts it into a float. Handle the ValueError if the user enters a non-integer input."
   ]
  },
  {
   "cell_type": "code",
   "execution_count": null,
   "id": "24ccfe54",
   "metadata": {},
   "outputs": [],
   "source": [
    "try:\n",
    "    num = int(input(\"Enter an integer: \"))\n",
    "    float_num = float(num)\n",
    "    print(\"Float value:\", float_num)\n",
    "except ValueError:\n",
    "    print(\"Error: Invalid input. Please enter an integer.\")\n"
   ]
  },
  {
   "cell_type": "markdown",
   "id": "87ef7989",
   "metadata": {},
   "source": [
    "# Exercise 4"
   ]
  },
  {
   "cell_type": "markdown",
   "id": "5767e8b9",
   "metadata": {},
   "source": [
    "Write a program that takes a list from the user and prints the element at a specified index. Handle the IndexError if the specified index is out of range."
   ]
  },
  {
   "cell_type": "code",
   "execution_count": null,
   "id": "f7a02ce9",
   "metadata": {},
   "outputs": [],
   "source": [
    "try:\n",
    "    my_list = [1, 2, 3, 4, 5]\n",
    "    index = int(input(\"Enter an index: \"))\n",
    "    print(\"Element at index\", index, \"is\", my_list[index])\n",
    "except IndexError:\n",
    "    print(\"Error: Index out of range.\")\n"
   ]
  },
  {
   "cell_type": "markdown",
   "id": "929671a5",
   "metadata": {},
   "source": [
    "# Exercise 5"
   ]
  },
  {
   "cell_type": "markdown",
   "id": "e273e1ad",
   "metadata": {},
   "source": [
    "Write a program that takes a dictionary from the user and prints the value associated with a specified key. Handle the KeyError if the specified key does not exist in the dictionary."
   ]
  },
  {
   "cell_type": "code",
   "execution_count": null,
   "id": "c48f42ab",
   "metadata": {},
   "outputs": [],
   "source": [
    "try:\n",
    "    my_dict = {'a': 1, 'b': 2, 'c': 3}\n",
    "    key = input(\"Enter a key: \")\n",
    "    print(\"Value for key\", key, \"is\", my_dict[key])\n",
    "except KeyError:\n",
    "    print(\"Error: Key not found.\")\n"
   ]
  }
 ],
 "metadata": {
  "kernelspec": {
   "display_name": "Python 3 (ipykernel)",
   "language": "python",
   "name": "python3"
  },
  "language_info": {
   "codemirror_mode": {
    "name": "ipython",
    "version": 3
   },
   "file_extension": ".py",
   "mimetype": "text/x-python",
   "name": "python",
   "nbconvert_exporter": "python",
   "pygments_lexer": "ipython3",
   "version": "3.11.2"
  }
 },
 "nbformat": 4,
 "nbformat_minor": 5
}
