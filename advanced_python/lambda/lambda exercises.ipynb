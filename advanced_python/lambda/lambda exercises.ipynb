{
 "cells": [
  {
   "cell_type": "markdown",
   "id": "44f7addc",
   "metadata": {},
   "source": [
    "# Exercise 1"
   ]
  },
  {
   "cell_type": "markdown",
   "id": "d1183b7f",
   "metadata": {},
   "source": [
    "Create a dictionary of plants with their names and types (e.g., \"Rose\": \"Flower\", \"Tomato\": \"Vegetable\", \"Lemon Tree\": \"Fruit Tree\"). Use a lambda function to filter only the plants that are flowers. * Use the filter built in method"
   ]
  },
  {
   "cell_type": "markdown",
   "id": "74758c7d",
   "metadata": {},
   "source": [
    "# Exercise 2"
   ]
  },
  {
   "cell_type": "markdown",
   "id": "cf6cc4e6",
   "metadata": {},
   "source": [
    "Create a list of plant heights at the beginning of the season. Use a lambda function to calculate the growth of each plant by subtracting the final height from the initial height. * Use the map built in method"
   ]
  },
  {
   "cell_type": "markdown",
   "id": "3bdc2f55",
   "metadata": {},
   "source": [
    "# Exercise 3"
   ]
  },
  {
   "cell_type": "markdown",
   "id": "5b6db6ab",
   "metadata": {},
   "source": [
    "Create a list of plant names. Use a lambda function to sort the plant names based on the length of their names, from shortest to longest. * Use the sorted built in method. \n",
    "\n",
    "Bonus: Do the same, but start with the longest names first"
   ]
  },
  {
   "cell_type": "markdown",
   "id": "fcc69f59",
   "metadata": {},
   "source": [
    "# Intermediate difficulty"
   ]
  },
  {
   "cell_type": "markdown",
   "id": "778ae305",
   "metadata": {},
   "source": [
    "You have a list of tuples containing plant names and the number of days since they were last watered. Write a function that takes this list and a threshold value for the number of days (e.g., 3 days) and returns a list of plants that need to be watered (i.e., those that have not been watered for more than the threshold number of days)."
   ]
  },
  {
   "cell_type": "code",
   "execution_count": null,
   "id": "cef96f43",
   "metadata": {},
   "outputs": [],
   "source": []
  }
 ],
 "metadata": {
  "kernelspec": {
   "display_name": "Python 3 (ipykernel)",
   "language": "python",
   "name": "python3"
  },
  "language_info": {
   "codemirror_mode": {
    "name": "ipython",
    "version": 3
   },
   "file_extension": ".py",
   "mimetype": "text/x-python",
   "name": "python",
   "nbconvert_exporter": "python",
   "pygments_lexer": "ipython3",
   "version": "3.11.2"
  }
 },
 "nbformat": 4,
 "nbformat_minor": 5
}
