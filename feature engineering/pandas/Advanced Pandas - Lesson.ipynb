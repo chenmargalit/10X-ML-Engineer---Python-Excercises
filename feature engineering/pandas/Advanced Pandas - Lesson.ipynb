{
 "cells": [
  {
   "cell_type": "code",
   "execution_count": 1,
   "id": "c674dc8b",
   "metadata": {},
   "outputs": [],
   "source": [
    "import multiprocessing as mp\n",
    "from multiprocessing import Pool, cpu_count\n",
    "from cpu_bound_func import cpu_bound_task\n",
    "import pandas as pd\n",
    "import numpy as np"
   ]
  },
  {
   "cell_type": "code",
   "execution_count": 2,
   "id": "c81b4664",
   "metadata": {
    "scrolled": true
   },
   "outputs": [],
   "source": [
    "df = pd.read_csv('../datasets/AB_NYC_2019.csv')"
   ]
  },
  {
   "cell_type": "code",
   "execution_count": 3,
   "id": "1c92429d",
   "metadata": {},
   "outputs": [
    {
     "data": {
      "text/plain": [
       "48895"
      ]
     },
     "execution_count": 3,
     "metadata": {},
     "output_type": "execute_result"
    }
   ],
   "source": [
    "len(df)"
   ]
  },
  {
   "cell_type": "code",
   "execution_count": 4,
   "id": "7dff5fb2",
   "metadata": {},
   "outputs": [
    {
     "data": {
      "text/html": [
       "<div>\n",
       "<style scoped>\n",
       "    .dataframe tbody tr th:only-of-type {\n",
       "        vertical-align: middle;\n",
       "    }\n",
       "\n",
       "    .dataframe tbody tr th {\n",
       "        vertical-align: top;\n",
       "    }\n",
       "\n",
       "    .dataframe thead th {\n",
       "        text-align: right;\n",
       "    }\n",
       "</style>\n",
       "<table border=\"1\" class=\"dataframe\">\n",
       "  <thead>\n",
       "    <tr style=\"text-align: right;\">\n",
       "      <th></th>\n",
       "      <th>id</th>\n",
       "      <th>name</th>\n",
       "      <th>host_id</th>\n",
       "      <th>host_name</th>\n",
       "      <th>neighbourhood_group</th>\n",
       "      <th>neighbourhood</th>\n",
       "      <th>latitude</th>\n",
       "      <th>longitude</th>\n",
       "      <th>room_type</th>\n",
       "      <th>price</th>\n",
       "      <th>minimum_nights</th>\n",
       "      <th>number_of_reviews</th>\n",
       "      <th>last_review</th>\n",
       "      <th>reviews_per_month</th>\n",
       "      <th>calculated_host_listings_count</th>\n",
       "      <th>availability_365</th>\n",
       "    </tr>\n",
       "  </thead>\n",
       "  <tbody>\n",
       "    <tr>\n",
       "      <th>0</th>\n",
       "      <td>2539</td>\n",
       "      <td>Clean &amp; quiet apt home by the park</td>\n",
       "      <td>2787</td>\n",
       "      <td>John</td>\n",
       "      <td>Brooklyn</td>\n",
       "      <td>Kensington</td>\n",
       "      <td>40.64749</td>\n",
       "      <td>-73.97237</td>\n",
       "      <td>Private room</td>\n",
       "      <td>149</td>\n",
       "      <td>1</td>\n",
       "      <td>9</td>\n",
       "      <td>2018-10-19</td>\n",
       "      <td>0.21</td>\n",
       "      <td>6</td>\n",
       "      <td>365</td>\n",
       "    </tr>\n",
       "    <tr>\n",
       "      <th>1</th>\n",
       "      <td>2595</td>\n",
       "      <td>Skylit Midtown Castle</td>\n",
       "      <td>2845</td>\n",
       "      <td>Jennifer</td>\n",
       "      <td>Manhattan</td>\n",
       "      <td>Midtown</td>\n",
       "      <td>40.75362</td>\n",
       "      <td>-73.98377</td>\n",
       "      <td>Entire home/apt</td>\n",
       "      <td>225</td>\n",
       "      <td>1</td>\n",
       "      <td>45</td>\n",
       "      <td>2019-05-21</td>\n",
       "      <td>0.38</td>\n",
       "      <td>2</td>\n",
       "      <td>355</td>\n",
       "    </tr>\n",
       "    <tr>\n",
       "      <th>2</th>\n",
       "      <td>3647</td>\n",
       "      <td>THE VILLAGE OF HARLEM....NEW YORK !</td>\n",
       "      <td>4632</td>\n",
       "      <td>Elisabeth</td>\n",
       "      <td>Manhattan</td>\n",
       "      <td>Harlem</td>\n",
       "      <td>40.80902</td>\n",
       "      <td>-73.94190</td>\n",
       "      <td>Private room</td>\n",
       "      <td>150</td>\n",
       "      <td>3</td>\n",
       "      <td>0</td>\n",
       "      <td>NaN</td>\n",
       "      <td>NaN</td>\n",
       "      <td>1</td>\n",
       "      <td>365</td>\n",
       "    </tr>\n",
       "    <tr>\n",
       "      <th>3</th>\n",
       "      <td>3831</td>\n",
       "      <td>Cozy Entire Floor of Brownstone</td>\n",
       "      <td>4869</td>\n",
       "      <td>LisaRoxanne</td>\n",
       "      <td>Brooklyn</td>\n",
       "      <td>Clinton Hill</td>\n",
       "      <td>40.68514</td>\n",
       "      <td>-73.95976</td>\n",
       "      <td>Entire home/apt</td>\n",
       "      <td>89</td>\n",
       "      <td>1</td>\n",
       "      <td>270</td>\n",
       "      <td>2019-07-05</td>\n",
       "      <td>4.64</td>\n",
       "      <td>1</td>\n",
       "      <td>194</td>\n",
       "    </tr>\n",
       "    <tr>\n",
       "      <th>4</th>\n",
       "      <td>5022</td>\n",
       "      <td>Entire Apt: Spacious Studio/Loft by central park</td>\n",
       "      <td>7192</td>\n",
       "      <td>Laura</td>\n",
       "      <td>Manhattan</td>\n",
       "      <td>East Harlem</td>\n",
       "      <td>40.79851</td>\n",
       "      <td>-73.94399</td>\n",
       "      <td>Entire home/apt</td>\n",
       "      <td>80</td>\n",
       "      <td>10</td>\n",
       "      <td>9</td>\n",
       "      <td>2018-11-19</td>\n",
       "      <td>0.10</td>\n",
       "      <td>1</td>\n",
       "      <td>0</td>\n",
       "    </tr>\n",
       "  </tbody>\n",
       "</table>\n",
       "</div>"
      ],
      "text/plain": [
       "     id                                              name  host_id  \\\n",
       "0  2539                Clean & quiet apt home by the park     2787   \n",
       "1  2595                             Skylit Midtown Castle     2845   \n",
       "2  3647               THE VILLAGE OF HARLEM....NEW YORK !     4632   \n",
       "3  3831                   Cozy Entire Floor of Brownstone     4869   \n",
       "4  5022  Entire Apt: Spacious Studio/Loft by central park     7192   \n",
       "\n",
       "     host_name neighbourhood_group neighbourhood  latitude  longitude  \\\n",
       "0         John            Brooklyn    Kensington  40.64749  -73.97237   \n",
       "1     Jennifer           Manhattan       Midtown  40.75362  -73.98377   \n",
       "2    Elisabeth           Manhattan        Harlem  40.80902  -73.94190   \n",
       "3  LisaRoxanne            Brooklyn  Clinton Hill  40.68514  -73.95976   \n",
       "4        Laura           Manhattan   East Harlem  40.79851  -73.94399   \n",
       "\n",
       "         room_type  price  minimum_nights  number_of_reviews last_review  \\\n",
       "0     Private room    149               1                  9  2018-10-19   \n",
       "1  Entire home/apt    225               1                 45  2019-05-21   \n",
       "2     Private room    150               3                  0         NaN   \n",
       "3  Entire home/apt     89               1                270  2019-07-05   \n",
       "4  Entire home/apt     80              10                  9  2018-11-19   \n",
       "\n",
       "   reviews_per_month  calculated_host_listings_count  availability_365  \n",
       "0               0.21                               6               365  \n",
       "1               0.38                               2               355  \n",
       "2                NaN                               1               365  \n",
       "3               4.64                               1               194  \n",
       "4               0.10                               1                 0  "
      ]
     },
     "execution_count": 4,
     "metadata": {},
     "output_type": "execute_result"
    }
   ],
   "source": [
    "df.head()"
   ]
  },
  {
   "cell_type": "markdown",
   "id": "a0182f89",
   "metadata": {},
   "source": [
    "# Multiprocessing"
   ]
  },
  {
   "cell_type": "code",
   "execution_count": 21,
   "id": "4e0e1f3e",
   "metadata": {},
   "outputs": [
    {
     "name": "stdout",
     "output_type": "stream",
     "text": [
      "CPU times: user 12.2 ms, sys: 6.83 ms, total: 19 ms\n",
      "Wall time: 22.4 ms\n"
     ]
    }
   ],
   "source": [
    "%%time\n",
    "\n",
    "def split_dataframe(df, num_chunks):\n",
    "    return np.array_split(df, num_chunks)\n",
    "\n",
    "num_processes = 5\n",
    "chunks = split_dataframe(df, num_processes)"
   ]
  },
  {
   "cell_type": "code",
   "execution_count": 22,
   "id": "1a6100dc",
   "metadata": {},
   "outputs": [
    {
     "name": "stdout",
     "output_type": "stream",
     "text": [
      "CPU times: user 22.1 ms, sys: 27.6 ms, total: 49.7 ms\n",
      "Wall time: 746 ms\n"
     ]
    }
   ],
   "source": [
    "%%time\n",
    "\n",
    "with mp.Pool(processes=num_processes) as pool:\n",
    "    # Apply the function to each chunk in parallel\n",
    "    results = pool.map(cpu_bound_task, chunks)\n",
    "\n",
    "    df_result = pd.concat(results)"
   ]
  },
  {
   "cell_type": "code",
   "execution_count": 9,
   "id": "70ae67a1",
   "metadata": {},
   "outputs": [
    {
     "name": "stdout",
     "output_type": "stream",
     "text": [
      "0\n",
      "10000\n",
      "20000\n",
      "30000\n",
      "40000\n",
      "CPU times: user 1.04 s, sys: 118 ms, total: 1.15 s\n",
      "Wall time: 7.46 s\n"
     ]
    }
   ],
   "source": [
    "%%time\n",
    "\n",
    "l = []\n",
    "for idx, row in df.iterrows():\n",
    "    if idx % 10_000 == 0: print(idx)\n",
    "    res = cpu_bound_task(row)\n",
    "    l.append(res)\n",
    "\n"
   ]
  },
  {
   "cell_type": "code",
   "execution_count": null,
   "id": "0469341c",
   "metadata": {},
   "outputs": [],
   "source": []
  },
  {
   "cell_type": "code",
   "execution_count": null,
   "id": "11ff72b6",
   "metadata": {},
   "outputs": [],
   "source": []
  },
  {
   "cell_type": "code",
   "execution_count": null,
   "id": "83bd85fa",
   "metadata": {},
   "outputs": [],
   "source": []
  },
  {
   "cell_type": "code",
   "execution_count": 10,
   "id": "4ea20540",
   "metadata": {},
   "outputs": [
    {
     "data": {
      "text/plain": [
       "True"
      ]
     },
     "execution_count": 10,
     "metadata": {},
     "output_type": "execute_result"
    }
   ],
   "source": [
    "all(df_result[:10] == l[:10])"
   ]
  },
  {
   "cell_type": "code",
   "execution_count": 11,
   "id": "cfc3fa06",
   "metadata": {},
   "outputs": [
    {
     "data": {
      "text/plain": [
       "True"
      ]
     },
     "execution_count": 11,
     "metadata": {},
     "output_type": "execute_result"
    }
   ],
   "source": [
    "len(df_result) == len(l)"
   ]
  },
  {
   "cell_type": "code",
   "execution_count": 12,
   "id": "5f55e9bb",
   "metadata": {},
   "outputs": [
    {
     "data": {
      "text/plain": [
       "48895"
      ]
     },
     "execution_count": 12,
     "metadata": {},
     "output_type": "execute_result"
    }
   ],
   "source": [
    "len(df_result)"
   ]
  },
  {
   "cell_type": "markdown",
   "id": "aaf77062",
   "metadata": {
    "heading_collapsed": true
   },
   "source": [
    "# Vectorization vs Iteration"
   ]
  },
  {
   "cell_type": "code",
   "execution_count": 16,
   "id": "f48c110d",
   "metadata": {
    "hidden": true
   },
   "outputs": [
    {
     "name": "stdout",
     "output_type": "stream",
     "text": [
      "666 ms ± 2.28 ms per loop (mean ± std. dev. of 7 runs, 1 loop each)\n"
     ]
    }
   ],
   "source": [
    "%%timeit\n",
    "\n",
    "l = []\n",
    "for idx, row in df.iterrows():\n",
    "    l.append(row['neighbourhood_group'] + row['neighbourhood'])"
   ]
  },
  {
   "cell_type": "code",
   "execution_count": 81,
   "id": "9c12af5f",
   "metadata": {
    "hidden": true
   },
   "outputs": [
    {
     "name": "stdout",
     "output_type": "stream",
     "text": [
      "130 ms ± 1.01 ms per loop (mean ± std. dev. of 7 runs, 10 loops each)\n"
     ]
    }
   ],
   "source": [
    "%%timeit\n",
    "# axis = 0 -- column\n",
    "# axis = 1 -- row\n",
    "res = df.apply(lambda row: row['neighbourhood_group'] + row['neighbourhood'], axis=1)"
   ]
  },
  {
   "cell_type": "code",
   "execution_count": 77,
   "id": "efea0374",
   "metadata": {
    "hidden": true
   },
   "outputs": [
    {
     "name": "stdout",
     "output_type": "stream",
     "text": [
      "3.38 ms ± 49.3 µs per loop (mean ± std. dev. of 7 runs, 100 loops each)\n"
     ]
    }
   ],
   "source": [
    "%%timeit\n",
    "\n",
    "df['combined'] = df['neighbourhood_group'] + ' - ' + df['neighbourhood']"
   ]
  },
  {
   "cell_type": "code",
   "execution_count": 78,
   "id": "883df75c",
   "metadata": {
    "hidden": true
   },
   "outputs": [
    {
     "data": {
      "text/plain": [
       "34.86005089058524"
      ]
     },
     "execution_count": 78,
     "metadata": {},
     "output_type": "execute_result"
    }
   ],
   "source": [
    "137 / 3.93"
   ]
  },
  {
   "cell_type": "code",
   "execution_count": 79,
   "id": "80bd99ef",
   "metadata": {
    "hidden": true
   },
   "outputs": [
    {
     "data": {
      "text/plain": [
       "177.09923664122135"
      ]
     },
     "execution_count": 79,
     "metadata": {},
     "output_type": "execute_result"
    }
   ],
   "source": [
    "696 / 3.93"
   ]
  },
  {
   "cell_type": "markdown",
   "id": "15341985",
   "metadata": {
    "hidden": true
   },
   "source": [
    "Lets do something more complicated"
   ]
  },
  {
   "cell_type": "markdown",
   "id": "a1cdb668",
   "metadata": {
    "hidden": true
   },
   "source": [
    "1. Normalize the price column: Subtract the mean price and divide by the standard deviation to get a normalized value.\n",
    "2. Calculate a weighted price: Multiply the normalized price by the minimum_nights for each listing.\n",
    "3. Group by host_name: Aggregate the data to calculate the mean price and mean weighted_price for each host."
   ]
  },
  {
   "cell_type": "code",
   "execution_count": 53,
   "id": "98b8cbe3",
   "metadata": {
    "hidden": true
   },
   "outputs": [
    {
     "name": "stdout",
     "output_type": "stream",
     "text": [
      "Iteration time: 6.096760988235474\n"
     ]
    }
   ],
   "source": [
    "start_time = time.time()\n",
    "\n",
    "price_sums_iter = {}\n",
    "price_counts_iter = {}\n",
    "weighted_price_sums_iter = {}\n",
    "\n",
    "for index, row in df.iterrows():\n",
    "    host_name = row['host_name']\n",
    "    normalized_price = (row['price'] - df['price'].mean()) / df['price'].std()\n",
    "    weight = row['minimum_nights']\n",
    "    weighted_price = normalized_price * weight\n",
    "\n",
    "    if host_name in price_sums_iter:\n",
    "        price_sums_iter[host_name] += row['price']\n",
    "        price_counts_iter[host_name] += 1\n",
    "        weighted_price_sums_iter[host_name] += weighted_price\n",
    "    else:\n",
    "        price_sums_iter[host_name] = row['price']\n",
    "        price_counts_iter[host_name] = 1\n",
    "        weighted_price_sums_iter[host_name] = weighted_price\n",
    "\n",
    "average_prices_iter = {name: price_sums_iter[name] / price_counts_iter[name] for name in price_sums_iter}\n",
    "weighted_averages_iter = {name: weighted_price_sums_iter[name] / price_counts_iter[name] for name in weighted_price_sums_iter}\n",
    "\n",
    "print(\"Iteration time:\", time.time() - start_time)"
   ]
  },
  {
   "cell_type": "code",
   "execution_count": 54,
   "id": "e89dacb3",
   "metadata": {
    "hidden": true
   },
   "outputs": [
    {
     "name": "stdout",
     "output_type": "stream",
     "text": [
      "Vectorized time: 0.010769844055175781\n"
     ]
    }
   ],
   "source": [
    "start_time = time.time()\n",
    "\n",
    "# Normalize price\n",
    "df['normalized_price'] = (df['price'] - df['price'].mean()) / df['price'].std()\n",
    "\n",
    "# Calculate weighted price\n",
    "df['weighted_price'] = df['normalized_price'] * df['minimum_nights']\n",
    "\n",
    "# Group by host_name and calculate average and weighted average price\n",
    "grouped = df.groupby('host_name').agg({\n",
    "    'price': 'mean',\n",
    "    'weighted_price': 'mean'\n",
    "})\n",
    "\n",
    "average_prices_vectorized = grouped['price'].to_dict()\n",
    "weighted_averages_vectorized = grouped['weighted_price'].to_dict()\n",
    "\n",
    "print(\"Vectorized time:\", time.time() - start_time)\n"
   ]
  },
  {
   "cell_type": "markdown",
   "id": "c4da72a3",
   "metadata": {
    "hidden": true
   },
   "source": [
    "When is vectorization extremely useful?"
   ]
  },
  {
   "cell_type": "markdown",
   "id": "de09a7e3",
   "metadata": {
    "hidden": true
   },
   "source": [
    "1. Operations on Arrays/Matrices: Vectorization is ideal for operations that apply to entire arrays or matrices at once, such as element-wise addition, subtraction, multiplication, or division.\n",
    "\n",
    "2. Statistical Operations: Many statistical operations, like computing means, sums, or variances, can be efficiently vectorized.\n",
    "\n",
    "3. Linear Algebra: Vectorization is useful for matrix multiplications, decompositions, and other linear algebra operations."
   ]
  },
  {
   "cell_type": "markdown",
   "id": "887b5f77",
   "metadata": {
    "hidden": true
   },
   "source": [
    "When is vectorization <b> not </b> useful or even possible?"
   ]
  },
  {
   "cell_type": "markdown",
   "id": "7810c393",
   "metadata": {
    "hidden": true
   },
   "source": [
    "1. Non-Numeric Data: Vectorization generally applies to numerical data. For categorical data or text processing, other techniques are more appropriate.\n",
    "\n",
    "2. Complex Dependencies: If the operation on an element depends on the result of the previous element (e.g., cumulative sums with conditions), vectorization may be challenging.\n",
    "\n",
    "3. Conditional Logic: When operations involve complex conditional logic or branching that can't be easily expressed in a vectorized form, you might need to use loops or other approaches.\n",
    "\n",
    "4. Sparse Data: For sparse matrices where most elements are zero, special techniques or libraries (e.g., SciPy's sparse matrices) might be required, and standard vectorization might not be efficient.\n",
    "\n",
    "4. Operations with Side Effects: If your operation involves side effects, like modifying global state or interacting with I/O, vectorization may not be applicable."
   ]
  }
 ],
 "metadata": {
  "kernelspec": {
   "display_name": "all_purpose_venv",
   "language": "python",
   "name": "all_purpose_venv"
  },
  "language_info": {
   "codemirror_mode": {
    "name": "ipython",
    "version": 3
   },
   "file_extension": ".py",
   "mimetype": "text/x-python",
   "name": "python",
   "nbconvert_exporter": "python",
   "pygments_lexer": "ipython3",
   "version": "3.11.2"
  }
 },
 "nbformat": 4,
 "nbformat_minor": 5
}
