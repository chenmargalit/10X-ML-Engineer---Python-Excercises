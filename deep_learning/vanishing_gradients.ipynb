{
 "cells": [
  {
   "cell_type": "code",
   "execution_count": 12,
   "id": "d398b21b",
   "metadata": {},
   "outputs": [],
   "source": [
    "from pdb import set_trace\n",
    "\n",
    "import matplotlib.pyplot as plt\n",
    "\n",
    "import torch\n",
    "import torch.nn as nn\n",
    "import torch.optim as optim\n",
    "from torch.utils.data import DataLoader\n",
    "from torchvision import datasets, transforms\n",
    "\n",
    "from sklearn.datasets import load_iris\n",
    "from sklearn.model_selection import train_test_split\n",
    "from sklearn.preprocessing import StandardScaler"
   ]
  },
  {
   "cell_type": "markdown",
   "id": "f38fd4c4",
   "metadata": {},
   "source": [
    "# Vanishing Gradients"
   ]
  },
  {
   "cell_type": "markdown",
   "id": "6c0091bf",
   "metadata": {
    "heading_collapsed": true
   },
   "source": [
    "## Introduction\n",
    "This notebook explains the concepts of **vanishing gradients** and **exploding gradients**, demonstrates them using examples, and provides solutions to handle them both in vanilla Python and PyTorch.\n",
    "\n",
    "### What are Vanishing and Exploding Gradients?\n",
    "- **Vanishing Gradients**: Gradients become very small during backpropagation, leading to slow or halted learning, especially in deep networks with sigmoid or tanh activations.\n",
    "- **Exploding Gradients**: Gradients grow excessively, making the training unstable, often due to poor initialization or high learning rates."
   ]
  },
  {
   "cell_type": "code",
   "execution_count": 1,
   "id": "e15c9576",
   "metadata": {
    "hidden": true
   },
   "outputs": [],
   "source": [
    "import math\n",
    "import numpy as np\n",
    "from sklearn.datasets import load_iris\n",
    "from sklearn.model_selection import train_test_split\n",
    "from sklearn.preprocessing import StandardScaler\n",
    "import torch\n",
    "import torch.nn as nn\n",
    "import matplotlib.pyplot as plt"
   ]
  },
  {
   "cell_type": "markdown",
   "id": "e96ecad8",
   "metadata": {},
   "source": [
    "## Demonstrating Vanishing Gradients\n",
    "\n",
    "Here, we create a deep neural network with sigmoid activation functions to observe the vanishing gradients problem."
   ]
  },
  {
   "cell_type": "code",
   "execution_count": 13,
   "id": "a2f37da0",
   "metadata": {},
   "outputs": [],
   "source": [
    "def return_data():\n",
    "    iris = load_iris()\n",
    "    X = iris.data\n",
    "    y = iris.target\n",
    "\n",
    "    X_train, X_test, y_train, y_test = train_test_split(X, y, test_size=0.2, random_state=42)\n",
    "\n",
    "    scaler = StandardScaler()\n",
    "    X_train_scaled = scaler.fit_transform(X_train)\n",
    "    X_test_scaled = scaler.transform(X_test)\n",
    "\n",
    "\n",
    "    x_train = torch.FloatTensor(X_train_scaled)\n",
    "    y_train = torch.LongTensor(y_train)\n",
    "    \n",
    "    return x_train, y_train"
   ]
  },
  {
   "cell_type": "code",
   "execution_count": 14,
   "id": "c6aaed2e",
   "metadata": {},
   "outputs": [],
   "source": [
    "x,y = return_data()"
   ]
  },
  {
   "cell_type": "code",
   "execution_count": 15,
   "id": "feaca79a",
   "metadata": {},
   "outputs": [],
   "source": [
    "class SigmoidNet(nn.Module):\n",
    "    def __init__(self):\n",
    "        super().__init__()\n",
    "        self.layers = nn.Sequential(\n",
    "            nn.Linear(4, 32),\n",
    "            nn.Sigmoid(),\n",
    "            nn.Linear(32, 32),\n",
    "            nn.Sigmoid(),\n",
    "            nn.Linear(32, 32),\n",
    "            nn.Sigmoid(),\n",
    "            nn.Linear(32, 32),\n",
    "            nn.Sigmoid(),\n",
    "            nn.Linear(32, 16),\n",
    "            nn.Sigmoid(),\n",
    "            nn.Linear(16, 8),\n",
    "            nn.Sigmoid(),\n",
    "            nn.Linear(8, 3),\n",
    "        )\n",
    "    \n",
    "    def forward(self, x):\n",
    "        return self.layers(x)"
   ]
  },
  {
   "cell_type": "code",
   "execution_count": 16,
   "id": "f26d4725",
   "metadata": {},
   "outputs": [],
   "source": [
    "sig_mdl = SigmoidNet()\n",
    "criterion = nn.CrossEntropyLoss()\n",
    "optimizer = torch.optim.SGD(sig_mdl.parameters(), lr=0.1)"
   ]
  },
  {
   "cell_type": "code",
   "execution_count": 17,
   "id": "c7017d53",
   "metadata": {},
   "outputs": [],
   "source": [
    "def train_and_return_grads(mdl):\n",
    "    '''\n",
    "    returns mdl, grads, loss_gaps\n",
    "    '''\n",
    "    grads = []\n",
    "    loss_gaps = 0\n",
    "    for epoch in range(500):\n",
    "        optimizer.zero_grad()\n",
    "        output = mdl(x)\n",
    "        loss = criterion(output, y)\n",
    "        loss.backward()\n",
    "        grads.append(mdl.layers[0].weight.grad.norm().item())\n",
    "        optimizer.step()\n",
    "        \n",
    "        if epoch == 0:\n",
    "            loss_gaps = loss\n",
    "        \n",
    "        if epoch % 100 == 0:\n",
    "            print(loss)\n",
    "            \n",
    "        if epoch == 499:\n",
    "            loss_gaps = loss - loss_gaps\n",
    "        \n",
    "    return mdl, grads, loss_gaps.item()"
   ]
  },
  {
   "cell_type": "code",
   "execution_count": 18,
   "id": "074ae464",
   "metadata": {},
   "outputs": [
    {
     "name": "stdout",
     "output_type": "stream",
     "text": [
      "tensor(1.1404, grad_fn=<NllLossBackward0>)\n",
      "tensor(1.0984, grad_fn=<NllLossBackward0>)\n",
      "tensor(1.0984, grad_fn=<NllLossBackward0>)\n",
      "tensor(1.0984, grad_fn=<NllLossBackward0>)\n",
      "tensor(1.0984, grad_fn=<NllLossBackward0>)\n"
     ]
    }
   ],
   "source": [
    "mdl, sigmoid_grads, sig_loss_gaps = train_and_return_grads(sig_mdl)"
   ]
  },
  {
   "cell_type": "code",
   "execution_count": 19,
   "id": "9542d2bc",
   "metadata": {},
   "outputs": [
    {
     "data": {
      "text/plain": [
       "-0.04203641414642334"
      ]
     },
     "execution_count": 19,
     "metadata": {},
     "output_type": "execute_result"
    }
   ],
   "source": [
    "sig_loss_gaps"
   ]
  },
  {
   "cell_type": "code",
   "execution_count": 20,
   "id": "1b15243c",
   "metadata": {},
   "outputs": [
    {
     "data": {
      "text/plain": [
       "[<matplotlib.lines.Line2D at 0x32479cb10>]"
      ]
     },
     "execution_count": 20,
     "metadata": {},
     "output_type": "execute_result"
    },
    {
     "data": {
      "image/png": "[encoded data removed]",
      "text/plain": [
       "<Figure size 640x480 with 1 Axes>"
      ]
     },
     "metadata": {},
     "output_type": "display_data"
    }
   ],
   "source": [
    "plt.yscale(\"log\") \n",
    "plt.plot(sigmoid_grads)"
   ]
  },
  {
   "cell_type": "code",
   "execution_count": 10,
   "id": "0ce2424b",
   "metadata": {},
   "outputs": [
    {
     "data": {
      "text/plain": [
       "4.553330883936724e-06"
      ]
     },
     "execution_count": 10,
     "metadata": {},
     "output_type": "execute_result"
    }
   ],
   "source": [
    "sum(sigmoid_grads) / len(sigmoid_grads)"
   ]
  },
  {
   "cell_type": "code",
   "execution_count": 21,
   "id": "0fcb312f",
   "metadata": {},
   "outputs": [],
   "source": [
    "def calc_acc(mdl):\n",
    "    score = 0\n",
    "    for idx, tensor in enumerate(mdl(x)):\n",
    "        res = tensor.argmax()\n",
    "        if res == y[idx]:\n",
    "            score +=1\n",
    "    avg_score = score / len(x)\n",
    "    return avg_score"
   ]
  },
  {
   "cell_type": "code",
   "execution_count": 41,
   "id": "6c6ce2db",
   "metadata": {},
   "outputs": [
    {
     "ename": "AttributeError",
     "evalue": "module 'torch.nn' has no attribute 'sigmoid'",
     "output_type": "error",
     "traceback": [
      "\u001b[0;31m---------------------------------------------------------------------------\u001b[0m",
      "\u001b[0;31mAttributeError\u001b[0m                            Traceback (most recent call last)",
      "Cell \u001b[0;32mIn[41], line 1\u001b[0m\n\u001b[0;32m----> 1\u001b[0m \u001b[43mnn\u001b[49m\u001b[38;5;241;43m.\u001b[39;49m\u001b[43msigmoid\u001b[49m(torch\u001b[38;5;241m.\u001b[39mtensor([\u001b[38;5;241m1\u001b[39m,\u001b[38;5;241m2\u001b[39m]))\n",
      "\u001b[0;31mAttributeError\u001b[0m: module 'torch.nn' has no attribute 'sigmoid'"
     ]
    }
   ],
   "source": [
    "nn.sigmoid(torch.tensor([1,2]))"
   ]
  },
  {
   "cell_type": "code",
   "execution_count": 42,
   "id": "27b4879b",
   "metadata": {},
   "outputs": [
    {
     "data": {
      "text/plain": [
       "<module 'torch.nn' from '/Library/Frameworks/Python.framework/Versions/3.11/lib/python3.11/site-packages/torch/nn/__init__.py'>"
      ]
     },
     "execution_count": 42,
     "metadata": {},
     "output_type": "execute_result"
    }
   ],
   "source": [
    "nn.sig"
   ]
  },
  {
   "cell_type": "code",
   "execution_count": 22,
   "id": "9f9fef82",
   "metadata": {
    "scrolled": true
   },
   "outputs": [
    {
     "data": {
      "text/plain": [
       "0.3416666666666667"
      ]
     },
     "execution_count": 22,
     "metadata": {},
     "output_type": "execute_result"
    }
   ],
   "source": [
    "calc_acc(mdl)"
   ]
  },
  {
   "cell_type": "code",
   "execution_count": 19,
   "id": "064d2e4f",
   "metadata": {},
   "outputs": [],
   "source": [
    "x,y = return_data()"
   ]
  },
  {
   "cell_type": "code",
   "execution_count": 23,
   "id": "76bf8364",
   "metadata": {},
   "outputs": [],
   "source": [
    "class ReluMdl(nn.Module):\n",
    "    def __init__(self):\n",
    "        super().__init__()\n",
    "        self.layers = nn.Sequential(\n",
    "            nn.Linear(4, 32),\n",
    "            nn.ReLU(),\n",
    "            nn.Linear(32, 32),\n",
    "            nn.ReLU(),\n",
    "            nn.Linear(32, 32),\n",
    "            nn.ReLU(),\n",
    "            nn.Linear(32, 32),\n",
    "            nn.ReLU(),\n",
    "            nn.Linear(32, 16),\n",
    "            nn.ReLU(),\n",
    "            nn.Linear(16, 8),\n",
    "            nn.ReLU(),\n",
    "            nn.Linear(8, 3)\n",
    "        )\n",
    "    \n",
    "    def forward(self, x):\n",
    "        return self.layers(x)\n"
   ]
  },
  {
   "cell_type": "code",
   "execution_count": 24,
   "id": "e699de2e",
   "metadata": {},
   "outputs": [],
   "source": [
    "relu_mdl = ReluMdl()\n",
    "optimizer = torch.optim.SGD(relu_mdl.parameters(), lr=0.1)"
   ]
  },
  {
   "cell_type": "code",
   "execution_count": 25,
   "id": "7afa5624",
   "metadata": {
    "scrolled": true
   },
   "outputs": [
    {
     "name": "stdout",
     "output_type": "stream",
     "text": [
      "tensor(1.1262, grad_fn=<NllLossBackward0>)\n",
      "tensor(1.0851, grad_fn=<NllLossBackward0>)\n",
      "tensor(0.2848, grad_fn=<NllLossBackward0>)\n",
      "tensor(0.0722, grad_fn=<NllLossBackward0>)\n",
      "tensor(0.0746, grad_fn=<NllLossBackward0>)\n"
     ]
    }
   ],
   "source": [
    "mdl, relu_grads, relu_loss_gaps = train_and_return_grads(relu_mdl)"
   ]
  },
  {
   "cell_type": "code",
   "execution_count": 26,
   "id": "ea150f87",
   "metadata": {},
   "outputs": [
    {
     "data": {
      "text/plain": [
       "[<matplotlib.lines.Line2D at 0x32ca635d0>]"
      ]
     },
     "execution_count": 26,
     "metadata": {},
     "output_type": "execute_result"
    },
    {
     "data": {
      "image/png": "[encoded data removed]",
      "text/plain": [
       "<Figure size 640x480 with 1 Axes>"
      ]
     },
     "metadata": {},
     "output_type": "display_data"
    }
   ],
   "source": [
    "plt.yscale(\"log\") \n",
    "plt.plot(relu_grads)"
   ]
  },
  {
   "cell_type": "code",
   "execution_count": 27,
   "id": "9985857a",
   "metadata": {},
   "outputs": [
    {
     "data": {
      "text/plain": [
       "0.1438513027378358"
      ]
     },
     "execution_count": 27,
     "metadata": {},
     "output_type": "execute_result"
    }
   ],
   "source": [
    "sum(relu_grads) / len(relu_grads)"
   ]
  },
  {
   "cell_type": "code",
   "execution_count": 28,
   "id": "f5e2af47",
   "metadata": {},
   "outputs": [
    {
     "data": {
      "text/plain": [
       "-1.0912302732467651"
      ]
     },
     "execution_count": 28,
     "metadata": {},
     "output_type": "execute_result"
    }
   ],
   "source": [
    "relu_loss_gaps"
   ]
  },
  {
   "cell_type": "code",
   "execution_count": 29,
   "id": "d6c8a5a0",
   "metadata": {},
   "outputs": [],
   "source": [
    "def calc_acc(mdl):\n",
    "    score = 0\n",
    "    for idx, tensor in enumerate(mdl(x)):\n",
    "        res = tensor.argmax()\n",
    "        if res == y[idx]:\n",
    "            score +=1\n",
    "    avg_score = score / len(x)\n",
    "    return avg_score"
   ]
  },
  {
   "cell_type": "code",
   "execution_count": 30,
   "id": "1a197ac5",
   "metadata": {},
   "outputs": [
    {
     "data": {
      "text/plain": [
       "0.3416666666666667"
      ]
     },
     "execution_count": 30,
     "metadata": {},
     "output_type": "execute_result"
    }
   ],
   "source": [
    "calc_acc(sig_mdl)"
   ]
  },
  {
   "cell_type": "code",
   "execution_count": 31,
   "id": "1f43bf4a",
   "metadata": {},
   "outputs": [
    {
     "data": {
      "text/plain": [
       "0.9916666666666667"
      ]
     },
     "execution_count": 31,
     "metadata": {},
     "output_type": "execute_result"
    }
   ],
   "source": [
    "calc_acc(relu_mdl)"
   ]
  },
  {
   "cell_type": "code",
   "execution_count": 32,
   "id": "0e4603e2",
   "metadata": {
    "scrolled": true
   },
   "outputs": [
    {
     "data": {
      "text/plain": [
       "(0.04203641414642334, 1.3640378415584564)"
      ]
     },
     "execution_count": 32,
     "metadata": {},
     "output_type": "execute_result"
    },
    {
     "data": {
      "image/png": "[encoded data removed]",
      "text/plain": [
       "<Figure size 640x480 with 1 Axes>"
      ]
     },
     "metadata": {},
     "output_type": "display_data"
    }
   ],
   "source": [
    "plt.bar(['Sigmoid', 'ReLU'], [-sig_loss_gaps, -relu_loss_gaps])\n",
    "plt.ylim(-sig_loss_gaps, -relu_loss_gaps * 1.25)"
   ]
  },
  {
   "cell_type": "markdown",
   "id": "4f25e52a",
   "metadata": {},
   "source": [
    "\n",
    "# Mitigating Vanishing Gradients\n",
    "\n",
    "### 1. Replace Sigmoid with ReLU\n",
    "ReLU activations avoid saturation, keeping gradients larger.\n",
    "\n",
    "### 2. Use Batch Normalization\n",
    "Batch normalization normalizes activations, reducing gradient shrinkage.\n",
    "\n",
    "### 3. Proper Weight Initialization\n",
    "Techniques like Xavier Initialization or He Initialization help maintain gradient flow.\n",
    "\n",
    "---\n"
   ]
  },
  {
   "cell_type": "markdown",
   "id": "2e79189b",
   "metadata": {},
   "source": [
    "\n",
    "### Using Batch Normalization\n",
    "\n",
    "Here, we add Batch Normalization to further stabilize gradients.\n"
   ]
  },
  {
   "cell_type": "markdown",
   "id": "842fa8e4",
   "metadata": {},
   "source": [
    "BatchNorm1d operates on 1 dimensional data, like the one coming out ouf a linear layer.\n",
    "\n",
    "For example, if we have the data (16, 4) -> for 16 images with 4 features each, we calculate a 16 rows mean for every feature. We are going to get 4 means, one for every feature. "
   ]
  },
  {
   "cell_type": "markdown",
   "id": "8a40c307",
   "metadata": {},
   "source": [
    "If I have 2d data, like width and height for an image for example, I use BatchNorm2d, which takes every channel (red/green/blue) and for each channel it computes the average using both height and width treated equally. It will then take every pixel and normalize it using that value. In this case we get 3 means and 3 stds, one for each channel."
   ]
  },
  {
   "cell_type": "code",
   "execution_count": 33,
   "id": "4e23890e",
   "metadata": {},
   "outputs": [],
   "source": [
    "class DeepNetBatchNorm(nn.Module):\n",
    "    def __init__(self):\n",
    "        super(DeepNetBatchNorm, self).__init__()\n",
    "        self.layers = nn.Sequential(\n",
    "            nn.Linear(4, 64),\n",
    "            nn.BatchNorm1d(64),\n",
    "            nn.ReLU(),\n",
    "            nn.Linear(64, 32),\n",
    "            nn.BatchNorm1d(32),\n",
    "            nn.ReLU(),\n",
    "            nn.Linear(32, 16),\n",
    "            nn.BatchNorm1d(16),\n",
    "            nn.ReLU(),\n",
    "            nn.Linear(16, 3)\n",
    "        )\n",
    "    \n",
    "    def forward(self, x):\n",
    "        return self.layers(x)"
   ]
  },
  {
   "cell_type": "code",
   "execution_count": 34,
   "id": "4d57427a",
   "metadata": {},
   "outputs": [],
   "source": [
    "x,y = return_data()"
   ]
  },
  {
   "cell_type": "code",
   "execution_count": 35,
   "id": "153c870d",
   "metadata": {},
   "outputs": [],
   "source": [
    "model = DeepNetBatchNorm()\n",
    "criterion = nn.CrossEntropyLoss()\n",
    "optimizer = torch.optim.Adam(model.parameters(), lr=0.01)"
   ]
  },
  {
   "cell_type": "code",
   "execution_count": 36,
   "id": "8b539bc2",
   "metadata": {},
   "outputs": [
    {
     "name": "stdout",
     "output_type": "stream",
     "text": [
      "tensor(1.0538, grad_fn=<NllLossBackward0>)\n",
      "tensor(0.0016, grad_fn=<NllLossBackward0>)\n",
      "tensor(0.0006, grad_fn=<NllLossBackward0>)\n",
      "tensor(0.0003, grad_fn=<NllLossBackward0>)\n",
      "tensor(0.0002, grad_fn=<NllLossBackward0>)\n"
     ]
    }
   ],
   "source": [
    "mdl, batch_norm_grads, _ = train_and_return_grads(model)"
   ]
  },
  {
   "cell_type": "code",
   "execution_count": 37,
   "id": "6ecc7c04",
   "metadata": {},
   "outputs": [
    {
     "data": {
      "text/plain": [
       "[0.3150328993797302,\n",
       " 0.24069415032863617,\n",
       " 0.16002337634563446,\n",
       " 0.0964677482843399,\n",
       " 0.0574646070599556,\n",
       " 0.04031243547797203,\n",
       " 0.044325366616249084,\n",
       " 0.0458955243229866,\n",
       " 0.04586837813258171,\n",
       " 0.038557421416044235,\n",
       " 0.036421485245227814,\n",
       " 0.03717328608036041,\n",
       " 0.03155295550823212,\n",
       " 0.03346782177686691,\n",
       " 0.03552224114537239,\n",
       " 0.031776223331689835,\n",
       " 0.029892848804593086,\n",
       " 0.024186428636312485,\n",
       " 0.023618489503860474,\n",
       " 0.0362916998565197,\n",
       " 0.036260511726140976,\n",
       " 0.040997810661792755,\n",
       " 0.036904167383909225,\n",
       " 0.030248286202549934,\n",
       " 0.022618599236011505,\n",
       " 0.020282384008169174,\n",
       " 0.019315287470817566,\n",
       " 0.020166438072919846,\n",
       " 0.02956308238208294,\n",
       " 0.0367870032787323,\n",
       " 0.031090978533029556,\n",
       " 0.028348585590720177,\n",
       " 0.02488640509545803,\n",
       " 0.02860521711409092,\n",
       " 0.030957769602537155,\n",
       " 0.03147761896252632,\n",
       " 0.028130194172263145,\n",
       " 0.028468959033489227,\n",
       " 0.033602796494960785,\n",
       " 0.035801373422145844,\n",
       " 0.027561020106077194,\n",
       " 0.026859449222683907,\n",
       " 0.026172230020165443,\n",
       " 0.049101267009973526,\n",
       " 0.04403357207775116,\n",
       " 0.052244916558265686,\n",
       " 0.027222277596592903,\n",
       " 0.03614471107721329,\n",
       " 0.03349514305591583,\n",
       " 0.024920109659433365,\n",
       " 0.05410473048686981,\n",
       " 0.028703315183520317,\n",
       " 0.036537978798151016,\n",
       " 0.032276052981615067,\n",
       " 0.02717892825603485,\n",
       " 0.027398690581321716,\n",
       " 0.023995570838451385,\n",
       " 0.011984000913798809,\n",
       " 0.03164686635136604,\n",
       " 0.023936478421092033,\n",
       " 0.027685942128300667,\n",
       " 0.020022321492433548,\n",
       " 0.015669124200940132,\n",
       " 0.014160942286252975,\n",
       " 0.02788245864212513,\n",
       " 0.01498958095908165,\n",
       " 0.014707724563777447,\n",
       " 0.013561569154262543,\n",
       " 0.013000438921153545,\n",
       " 0.012289133854210377,\n",
       " 0.010759185999631882,\n",
       " 0.009623052552342415,\n",
       " 0.008587104268372059,\n",
       " 0.007254613563418388,\n",
       " 0.008534030988812447,\n",
       " 0.00931031908839941,\n",
       " 0.010800830088555813,\n",
       " 0.006006532348692417,\n",
       " 0.0056569562293589115,\n",
       " 0.005887423176318407,\n",
       " 0.006725221406668425,\n",
       " 0.006076579447835684,\n",
       " 0.005620672833174467,\n",
       " 0.005559597630053759,\n",
       " 0.0059642610140144825,\n",
       " 0.005674657877534628,\n",
       " 0.004985804669559002,\n",
       " 0.004158406518399715,\n",
       " 0.006737878080457449,\n",
       " 0.006360335275530815,\n",
       " 0.0064851040951907635,\n",
       " 0.0047636209055781364,\n",
       " 0.004732649773359299,\n",
       " 0.003141324734315276,\n",
       " 0.0024434602819383144,\n",
       " 0.0031526791863143444,\n",
       " 0.0037432333920150995,\n",
       " 0.005106174852699041,\n",
       " 0.004121001344174147,\n",
       " 0.0019658224191516638,\n",
       " 0.002112308982759714,\n",
       " 0.00209366949275136,\n",
       " 0.002092622919008136,\n",
       " 0.0046861665323376656,\n",
       " 0.0026755903381854296,\n",
       " 0.0022349499631673098,\n",
       " 0.0024664392694830894,\n",
       " 0.002317057689651847,\n",
       " 0.0026874488685280085,\n",
       " 0.0021131413523107767,\n",
       " 0.0016323905438184738,\n",
       " 0.0019721926655620337,\n",
       " 0.001979651628062129,\n",
       " 0.0017945390427485108,\n",
       " 0.0014774702722206712,\n",
       " 0.0014646109193563461,\n",
       " 0.0017106893938034773,\n",
       " 0.001843480858951807,\n",
       " 0.001665978692471981,\n",
       " 0.001411900157108903,\n",
       " 0.0013703685253858566,\n",
       " 0.0014743235660716891,\n",
       " 0.0012800168478861451,\n",
       " 0.002035632496699691,\n",
       " 0.001915962086059153,\n",
       " 0.0014043849660083652,\n",
       " 0.001436223043128848,\n",
       " 0.0013642912963405252,\n",
       " 0.0013454697327688336,\n",
       " 0.001409113872796297,\n",
       " 0.0011948260944336653,\n",
       " 0.001102360780350864,\n",
       " 0.0012906828196719289,\n",
       " 0.0009377229143865407,\n",
       " 0.0013634911738336086,\n",
       " 0.0010767340427264571,\n",
       " 0.0010479596676304936,\n",
       " 0.0011143387528136373,\n",
       " 0.001714313286356628,\n",
       " 0.0012867095647379756,\n",
       " 0.0012782145058736205,\n",
       " 0.001289948122575879,\n",
       " 0.000974238442722708,\n",
       " 0.000980284414254129,\n",
       " 0.0014866574201732874,\n",
       " 0.0009241035440936685,\n",
       " 0.0008452666806988418,\n",
       " 0.0014968813629820943,\n",
       " 0.0008651754469610751,\n",
       " 0.00100705586373806,\n",
       " 0.0011921804398298264,\n",
       " 0.001209678826853633,\n",
       " 0.001478790771216154,\n",
       " 0.0009257945348508656,\n",
       " 0.0008902619010768831,\n",
       " 0.0008237608126364648,\n",
       " 0.0009639401105232537,\n",
       " 0.0007986916461959481,\n",
       " 0.0018593635177239776,\n",
       " 0.0011924989521503448,\n",
       " 0.0012508827494457364,\n",
       " 0.0007519004284404218,\n",
       " 0.0008428448927588761,\n",
       " 0.0009683553362265229,\n",
       " 0.0009515107958577573,\n",
       " 0.0008848138968460262,\n",
       " 0.0007070761057548225,\n",
       " 0.001304882811382413,\n",
       " 0.0013606908032670617,\n",
       " 0.000592223193962127,\n",
       " 0.0007177701336331666,\n",
       " 0.0007716268301010132,\n",
       " 0.0007386996294371784,\n",
       " 0.0014862027019262314,\n",
       " 0.0006933659897185862,\n",
       " 0.0005293061840347946,\n",
       " 0.0015237160259857774,\n",
       " 0.0006985042127780616,\n",
       " 0.0006252543535083532,\n",
       " 0.000623299099970609,\n",
       " 0.0007425689836964011,\n",
       " 0.0012475205585360527,\n",
       " 0.0006571284029632807,\n",
       " 0.00059463334036991,\n",
       " 0.0013258734252303839,\n",
       " 0.0005907185841351748,\n",
       " 0.0006478878203779459,\n",
       " 0.0005899861571379006,\n",
       " 0.0006034348625689745,\n",
       " 0.0005477597587741911,\n",
       " 0.0015165020013228059,\n",
       " 0.0011712497798725963,\n",
       " 0.0008698305464349687,\n",
       " 0.0007331130327656865,\n",
       " 0.0006927274516783655,\n",
       " 0.0008264252683147788,\n",
       " 0.0005525474552996457,\n",
       " 0.00045566901098936796,\n",
       " 0.0013075285824015737,\n",
       " 0.0011639032745733857,\n",
       " 0.0007041656645014882,\n",
       " 0.0007589975721202791,\n",
       " 0.0007084174430929124,\n",
       " 0.0006010403158143163,\n",
       " 0.0004940442158840597,\n",
       " 0.0006061280728317797,\n",
       " 0.0010577018838375807,\n",
       " 0.001053333980962634,\n",
       " 0.0006371205672621727,\n",
       " 0.0004977995413355529,\n",
       " 0.0005929004400968552,\n",
       " 0.0005797392223030329,\n",
       " 0.0005219305166974664,\n",
       " 0.0011398635106161237,\n",
       " 0.000385649676900357,\n",
       " 0.0006762476987205446,\n",
       " 0.0005383152747526765,\n",
       " 0.001097206026315689,\n",
       " 0.00038179155671969056,\n",
       " 0.0004330554511398077,\n",
       " 0.00047893839655444026,\n",
       " 0.0005050899344496429,\n",
       " 0.0011989281047135592,\n",
       " 0.0003053395194001496,\n",
       " 0.00039479020051658154,\n",
       " 0.000557993829715997,\n",
       " 0.0004221311246510595,\n",
       " 0.0003914929402526468,\n",
       " 0.0010484817903488874,\n",
       " 0.0003551145491655916,\n",
       " 0.00046614353777840734,\n",
       " 0.0003990591212641448,\n",
       " 0.00039490038761869073,\n",
       " 0.0009501459426246583,\n",
       " 0.00039675075095146894,\n",
       " 0.0003685426199808717,\n",
       " 0.000652576272841543,\n",
       " 0.00040651223389431834,\n",
       " 0.0008140172576531768,\n",
       " 0.0006277181091718376,\n",
       " 0.00037832025554962456,\n",
       " 0.000433939800132066,\n",
       " 0.0004508970014285296,\n",
       " 0.0004612854099832475,\n",
       " 0.0003089131787419319,\n",
       " 0.0003203051455784589,\n",
       " 0.0009011794463731349,\n",
       " 0.0009032626403495669,\n",
       " 0.0004233768559060991,\n",
       " 0.00040462726610712707,\n",
       " 0.00035235515679232776,\n",
       " 0.0003511735412757844,\n",
       " 0.0004366119974292815,\n",
       " 0.0003408942138776183,\n",
       " 0.00030182741465978324,\n",
       " 0.0002824222610797733,\n",
       " 0.000853540375828743,\n",
       " 0.0003084969939664006,\n",
       " 0.00025943006039597094,\n",
       " 0.0008390402654185891,\n",
       " 0.00029559535323642194,\n",
       " 0.00034729306935332716,\n",
       " 0.0003016383561771363,\n",
       " 0.0003232060116715729,\n",
       " 0.00030143061303533614,\n",
       " 0.0003103219496551901,\n",
       " 0.0007284334860742092,\n",
       " 0.0007402614573948085,\n",
       " 0.00030476858955807984,\n",
       " 0.0003518718294799328,\n",
       " 0.0003408767224755138,\n",
       " 0.0003805306041613221,\n",
       " 0.00033426075242459774,\n",
       " 0.00036096732947044075,\n",
       " 0.00041412009159103036,\n",
       " 0.0007731452933512628,\n",
       " 0.0006833162624388933,\n",
       " 0.00031935691367834806,\n",
       " 0.0003932627441827208,\n",
       " 0.0003168786352034658,\n",
       " 0.00033139315200969577,\n",
       " 0.0002959329285658896,\n",
       " 0.0003416367690078914,\n",
       " 0.0008560525020584464,\n",
       " 0.0006756182992830873,\n",
       " 0.00030806908034719527,\n",
       " 0.00030153628904372454,\n",
       " 0.00046146809472702444,\n",
       " 0.0003223341191187501,\n",
       " 0.000285024696495384,\n",
       " 0.00028601352823898196,\n",
       " 0.0002571940131019801,\n",
       " 0.00022618332877755165,\n",
       " 0.0006848330958746374,\n",
       " 0.0006323420093394816,\n",
       " 0.00026128595345653594,\n",
       " 0.00031330561614595354,\n",
       " 0.00028779302374459803,\n",
       " 0.00026541572879068553,\n",
       " 0.0002656913420651108,\n",
       " 0.00027227686950936913,\n",
       " 0.00020370836136862636,\n",
       " 0.00025656394427642226,\n",
       " 0.0007217904785647988,\n",
       " 0.0006107878871262074,\n",
       " 0.00029847424593754113,\n",
       " 0.0002715357986744493,\n",
       " 0.00030434579821303487,\n",
       " 0.0002904405118897557,\n",
       " 0.0002583034511189908,\n",
       " 0.0002641653991304338,\n",
       " 0.0003433177771512419,\n",
       " 0.0001979809021577239,\n",
       " 0.0006133950082585216,\n",
       " 0.00066248798975721,\n",
       " 0.00024806224973872304,\n",
       " 0.00024116270651575178,\n",
       " 0.000248688185820356,\n",
       " 0.0002472075284458697,\n",
       " 0.00026259207515977323,\n",
       " 0.0002661229809746146,\n",
       " 0.00020106203737668693,\n",
       " 0.00019622559193521738,\n",
       " 0.0006251705926842988,\n",
       " 0.00021947326604276896,\n",
       " 0.0002444326819386333,\n",
       " 0.00022789691865909845,\n",
       " 0.0005765469977632165,\n",
       " 0.00023136685194913298,\n",
       " 0.0002831905731000006,\n",
       " 0.00025342885055579245,\n",
       " 0.000217824024730362,\n",
       " 0.0002212620893260464,\n",
       " 0.0006244208780117333,\n",
       " 0.000498108216561377,\n",
       " 0.00021636697056237608,\n",
       " 0.00033114440157078207,\n",
       " 0.0003550528490450233,\n",
       " 0.00020371150458231568,\n",
       " 0.00024596625007689,\n",
       " 0.0002083473082166165,\n",
       " 0.0002558062260504812,\n",
       " 0.0002791080914903432,\n",
       " 0.0005179924773983657,\n",
       " 0.0004971761372871697,\n",
       " 0.00017704222409520298,\n",
       " 0.00021277474297676235,\n",
       " 0.0002479077083989978,\n",
       " 0.00021836537052877247,\n",
       " 0.00021729111904278398,\n",
       " 0.00019081127538811415,\n",
       " 0.0002056116354651749,\n",
       " 0.0001330806699115783,\n",
       " 0.00046391470823436975,\n",
       " 0.00018476336845196784,\n",
       " 0.00012452868395484984,\n",
       " 0.000168949511134997,\n",
       " 0.00015138865273911506,\n",
       " 0.0005499938852153718,\n",
       " 0.00025821838062256575,\n",
       " 0.0002165883925044909,\n",
       " 0.00021276308689266443,\n",
       " 0.00019779897411353886,\n",
       " 0.0002941859420388937,\n",
       " 0.00018186827946919948,\n",
       " 0.0001587958977324888,\n",
       " 0.00044858985347673297,\n",
       " 0.0004750397929456085,\n",
       " 0.00022764776076655835,\n",
       " 0.00023880682419985533,\n",
       " 0.00021549221128225327,\n",
       " 0.00016411213437095284,\n",
       " 0.00017115884111262858,\n",
       " 0.00018072171951644123,\n",
       " 0.00013976481568533927,\n",
       " 0.00016057024186011404,\n",
       " 0.0001802798651624471,\n",
       " 0.0005034276400692761,\n",
       " 0.0004269381461199373,\n",
       " 0.0001621535629965365,\n",
       " 0.00018843344878405333,\n",
       " 0.00019265014270786196,\n",
       " 0.00020955305080860853,\n",
       " 0.00018329678277950734,\n",
       " 0.00015982812328729779,\n",
       " 0.00017138844123110175,\n",
       " 0.00014368630945682526,\n",
       " 0.00011367351544322446,\n",
       " 0.00011115121014881879,\n",
       " 0.000166118930792436,\n",
       " 0.00014095682126935571,\n",
       " 0.00015731985331512988,\n",
       " 0.0004893007571808994,\n",
       " 0.00016665467410348356,\n",
       " 0.0001585955178597942,\n",
       " 0.00015473604435101151,\n",
       " 0.0001582317636348307,\n",
       " 0.00013069147826172411,\n",
       " 0.00013162035611458123,\n",
       " 0.00014813376765232533,\n",
       " 0.0004145677376072854,\n",
       " 0.00012641469947993755,\n",
       " 0.00017301067418884486,\n",
       " 0.00014831133012194186,\n",
       " 0.0001287576014874503,\n",
       " 0.000181380077265203,\n",
       " 0.00046399779967032373,\n",
       " 0.0001280796277569607,\n",
       " 0.0001633874635444954,\n",
       " 0.00012186377716716379,\n",
       " 0.00014095155347604305,\n",
       " 0.0001142702458309941,\n",
       " 0.00013237308303359896,\n",
       " 0.00015832339704502374,\n",
       " 8.660609455546364e-05,\n",
       " 0.00014447167632170022,\n",
       " 0.00042566226329654455,\n",
       " 0.0003489239315968007,\n",
       " 0.00016754854004830122,\n",
       " 0.00016142350796144456,\n",
       " 0.00016108104318846017,\n",
       " 0.0001039816634147428,\n",
       " 0.00012880995927844197,\n",
       " 0.00011596341209951788,\n",
       " 0.00012420698476489633,\n",
       " 0.0001454426092095673,\n",
       " 0.00011547232861630619,\n",
       " 0.00016156717902049422,\n",
       " 0.00013449597463477403,\n",
       " 0.00010737029515439644,\n",
       " 0.00011028698645532131,\n",
       " 0.00034331053029745817,\n",
       " 0.00034377718111500144,\n",
       " 0.00020838214550167322,\n",
       " 9.868903725873679e-05,\n",
       " 0.00011127383186249062,\n",
       " 0.0001251377834705636,\n",
       " 0.00010262904834235087,\n",
       " 9.823936852626503e-05,\n",
       " 0.0001482929801568389,\n",
       " 9.672624582890421e-05,\n",
       " 0.0001028391852742061,\n",
       " 0.00012034847895847633,\n",
       " 9.789235627977178e-05,\n",
       " 0.0003499799349810928,\n",
       " 8.729816909180954e-05,\n",
       " 0.00012475856055971235,\n",
       " 0.00015276219346560538,\n",
       " 9.204570960719138e-05,\n",
       " 0.00010810595995280892,\n",
       " 8.913796773413196e-05,\n",
       " 0.0003073968691751361,\n",
       " 0.0001419836626155302,\n",
       " 0.00014309216930996627,\n",
       " 0.0001190018592751585,\n",
       " 8.83216125657782e-05,\n",
       " 9.083838085643947e-05,\n",
       " 8.734611765248701e-05,\n",
       " 0.00013537114136852324,\n",
       " 0.00012455738033168018,\n",
       " 0.00034636439522728324,\n",
       " 0.00012561818584799767,\n",
       " 9.975874854717404e-05,\n",
       " 9.982696792576462e-05,\n",
       " 8.59099454828538e-05,\n",
       " 0.00011645456834230572,\n",
       " 0.00013571063755080104,\n",
       " 9.220729407388717e-05,\n",
       " 0.00011344671656843275,\n",
       " 9.471207158640027e-05,\n",
       " 8.512778003932908e-05,\n",
       " 0.0002995070826727897,\n",
       " 7.71123159211129e-05,\n",
       " 0.00012343644630163908,\n",
       " 8.490852633258328e-05,\n",
       " 8.941848500398919e-05,\n",
       " 9.6461437351536e-05,\n",
       " 9.029474313138053e-05,\n",
       " 0.00010631808981997892,\n",
       " 0.00015392426575999707,\n",
       " 0.00028140455833636224,\n",
       " 0.00012976540892850608,\n",
       " 0.00013664407015312463,\n",
       " 0.00013760362344328314,\n",
       " 0.0003196585748810321,\n",
       " 8.766898099565879e-05,\n",
       " 0.00010243739961879328,\n",
       " 0.00012668129056692123,\n",
       " 0.00010113983444171026,\n",
       " 9.965599747374654e-05,\n",
       " 0.0001357169239781797,\n",
       " 0.00010680559353204444,\n",
       " 0.00024801064864732325,\n",
       " 7.529088907176629e-05,\n",
       " 0.00010992237366735935,\n",
       " 8.53323726914823e-05,\n",
       " 0.00010019191540777683,\n",
       " 0.0002390618756180629,\n",
       " 9.035786933964118e-05,\n",
       " 0.00013076337927486748]"
      ]
     },
     "execution_count": 37,
     "metadata": {},
     "output_type": "execute_result"
    }
   ],
   "source": [
    "batch_norm_grads"
   ]
  },
  {
   "cell_type": "code",
   "execution_count": 38,
   "id": "7705e1cf",
   "metadata": {},
   "outputs": [
    {
     "data": {
      "text/plain": [
       "[<matplotlib.lines.Line2D at 0x32ce770d0>]"
      ]
     },
     "execution_count": 38,
     "metadata": {},
     "output_type": "execute_result"
    },
    {
     "data": {
      "image/png": "[encoded data removed]",
      "text/plain": [
       "<Figure size 640x480 with 1 Axes>"
      ]
     },
     "metadata": {},
     "output_type": "display_data"
    }
   ],
   "source": [
    "plt.plot(batch_norm_grads)"
   ]
  },
  {
   "cell_type": "code",
   "execution_count": 39,
   "id": "343ba4be",
   "metadata": {},
   "outputs": [
    {
     "data": {
      "text/plain": [
       "0.006434015173435909"
      ]
     },
     "execution_count": 39,
     "metadata": {},
     "output_type": "execute_result"
    }
   ],
   "source": [
    "sum(batch_norm_grads) / len(batch_norm_grads)"
   ]
  },
  {
   "cell_type": "code",
   "execution_count": 40,
   "id": "909673ac",
   "metadata": {
    "scrolled": true
   },
   "outputs": [
    {
     "data": {
      "text/plain": [
       "1.0"
      ]
     },
     "execution_count": 40,
     "metadata": {},
     "output_type": "execute_result"
    }
   ],
   "source": [
    "calc_acc(model)"
   ]
  }
 ],
 "metadata": {
  "kernelspec": {
   "display_name": "all_purpose_venv",
   "language": "python",
   "name": "all_purpose_venv"
  },
  "language_info": {
   "codemirror_mode": {
    "name": "ipython",
    "version": 3
   },
   "file_extension": ".py",
   "mimetype": "text/x-python",
   "name": "python",
   "nbconvert_exporter": "python",
   "pygments_lexer": "ipython3",
   "version": "3.11.2"
  },
  "toc": {
   "base_numbering": 1,
   "nav_menu": {},
   "number_sections": true,
   "sideBar": true,
   "skip_h1_title": false,
   "title_cell": "Table of Contents",
   "title_sidebar": "Contents",
   "toc_cell": false,
   "toc_position": {},
   "toc_section_display": true,
   "toc_window_display": false
  }
 },
 "nbformat": 4,
 "nbformat_minor": 5
}
