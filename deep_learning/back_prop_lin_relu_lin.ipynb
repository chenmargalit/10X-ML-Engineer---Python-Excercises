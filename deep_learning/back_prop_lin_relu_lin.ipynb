{
 "cells": [
  {
   "cell_type": "code",
   "execution_count": 77,
   "id": "9efb35f1",
   "metadata": {},
   "outputs": [],
   "source": [
    "import torch\n",
    "import torch.nn as nn\n",
    "import torch.optim as optim\n",
    "from pdb import set_trace"
   ]
  },
  {
   "cell_type": "code",
   "execution_count": 88,
   "id": "a749a741",
   "metadata": {},
   "outputs": [],
   "source": [
    "def pow_(x: torch.tensor, power:int, ):\n",
    "    return x**power"
   ]
  },
  {
   "cell_type": "code",
   "execution_count": 89,
   "id": "f4461a6e",
   "metadata": {},
   "outputs": [],
   "source": [
    "t = torch.tensor([2.0]).requires_grad_()\n",
    "t.retain_grad()"
   ]
  },
  {
   "cell_type": "code",
   "execution_count": 90,
   "id": "be7e16d5",
   "metadata": {
    "scrolled": true
   },
   "outputs": [
    {
     "data": {
      "text/plain": [
       "tensor([4.], grad_fn=<PowBackward0>)"
      ]
     },
     "execution_count": 90,
     "metadata": {},
     "output_type": "execute_result"
    }
   ],
   "source": [
    "res = pow_(t, 2)\n",
    "res"
   ]
  },
  {
   "cell_type": "code",
   "execution_count": 91,
   "id": "93c5fdbe",
   "metadata": {},
   "outputs": [
    {
     "data": {
      "text/plain": [
       "tensor([4.])"
      ]
     },
     "execution_count": 91,
     "metadata": {},
     "output_type": "execute_result"
    }
   ],
   "source": [
    "res.backward()\n",
    "t.grad"
   ]
  },
  {
   "cell_type": "code",
   "execution_count": 6,
   "id": "b86c57a7",
   "metadata": {},
   "outputs": [],
   "source": [
    "t = torch.tensor([3.0]).requires_grad_()\n",
    "t.retain_grad()"
   ]
  },
  {
   "cell_type": "code",
   "execution_count": 7,
   "id": "6bb5c476",
   "metadata": {},
   "outputs": [
    {
     "data": {
      "text/plain": [
       "tensor([81.], grad_fn=<PowBackward0>)"
      ]
     },
     "execution_count": 7,
     "metadata": {},
     "output_type": "execute_result"
    }
   ],
   "source": [
    "res = pow_(t, 4)\n",
    "res"
   ]
  },
  {
   "cell_type": "code",
   "execution_count": 8,
   "id": "b1000849",
   "metadata": {},
   "outputs": [],
   "source": [
    "res.backward()"
   ]
  },
  {
   "cell_type": "code",
   "execution_count": 9,
   "id": "963419d7",
   "metadata": {},
   "outputs": [
    {
     "data": {
      "text/plain": [
       "tensor([108.])"
      ]
     },
     "execution_count": 9,
     "metadata": {},
     "output_type": "execute_result"
    }
   ],
   "source": [
    "t.grad"
   ]
  },
  {
   "cell_type": "markdown",
   "id": "f7f03d72",
   "metadata": {},
   "source": [
    "# Initialization"
   ]
  },
  {
   "cell_type": "code",
   "execution_count": 10,
   "id": "2ef1dcc1",
   "metadata": {},
   "outputs": [],
   "source": [
    "def relu(x): \n",
    "    return x.clamp_min(0.)"
   ]
  },
  {
   "cell_type": "code",
   "execution_count": 11,
   "id": "0c086e26",
   "metadata": {},
   "outputs": [],
   "source": [
    "def calc_grad():\n",
    "    for name, param in model.named_parameters():\n",
    "        if name == \"fc1.weight\":\n",
    "            print(\"Gradient of weight:\", param.grad)"
   ]
  },
  {
   "cell_type": "code",
   "execution_count": 12,
   "id": "35796c0c",
   "metadata": {},
   "outputs": [],
   "source": [
    "class SimpleNet(nn.Module):\n",
    "    def __init__(self):\n",
    "        super(SimpleNet, self).__init__()\n",
    "        self.fc1 = nn.Linear(2, 1) \n",
    "        self.relu = nn.ReLU()      \n",
    "        self.fc2 = nn.Linear(1, 1) \n",
    "\n",
    "    def forward(self, x):\n",
    "        x = self.fc1(x)\n",
    "        x = self.relu(x)\n",
    "        x = self.fc2(x)\n",
    "        \n",
    "        return x"
   ]
  },
  {
   "cell_type": "code",
   "execution_count": 13,
   "id": "145d9371",
   "metadata": {},
   "outputs": [],
   "source": [
    "x = torch.tensor([\n",
    "    [1.0, 3.0],\n",
    "    [4.0, 1.2],\n",
    "    [3.0, 2.0]\n",
    "])\n",
    "y = torch.tensor([1.0, 0, 1.0])"
   ]
  },
  {
   "cell_type": "code",
   "execution_count": 14,
   "id": "394e892a",
   "metadata": {},
   "outputs": [
    {
     "data": {
      "text/plain": [
       "torch.Size([3, 2])"
      ]
     },
     "execution_count": 14,
     "metadata": {},
     "output_type": "execute_result"
    }
   ],
   "source": [
    "x.shape"
   ]
  },
  {
   "cell_type": "code",
   "execution_count": 15,
   "id": "734c8b31",
   "metadata": {},
   "outputs": [],
   "source": [
    "def train(inputs=x, targets=y):\n",
    "    optimizer.zero_grad()\n",
    "    outputs = model(inputs)\n",
    "    loss = criterion(outputs.squeeze(1), targets)\n",
    "    loss.backward()\n",
    "    optimizer.step()\n",
    "    print('loss is', loss)\n",
    "    outputs = model(inputs)\n",
    "    new_loss = criterion(outputs.squeeze(1), targets)\n",
    "    print(\"New Loss after one step:\", new_loss.item())"
   ]
  },
  {
   "cell_type": "code",
   "execution_count": 16,
   "id": "439adfa2",
   "metadata": {},
   "outputs": [],
   "source": [
    "model = SimpleNet()\n",
    "criterion = nn.MSELoss()\n",
    "optimizer = optim.SGD(model.parameters(), lr=0.01)"
   ]
  },
  {
   "cell_type": "code",
   "execution_count": 17,
   "id": "34d28ff4",
   "metadata": {},
   "outputs": [],
   "source": [
    "w1 = torch.tensor([[1.0, 2.0]])\n",
    "b1 = torch.tensor([1.0])\n",
    "\n",
    "w2 = torch.tensor([[1.0]])\n",
    "b2 = torch.tensor([[1.0]])"
   ]
  },
  {
   "cell_type": "code",
   "execution_count": 18,
   "id": "90aea5c0",
   "metadata": {},
   "outputs": [],
   "source": [
    "model.fc1.weight.data = w1.clone()\n",
    "model.fc1.bias.data = b1.clone()\n",
    "\n",
    "model.fc2.weight.data = w2.clone()\n",
    "model.fc2.bias.data = b2.clone()"
   ]
  },
  {
   "cell_type": "code",
   "execution_count": 19,
   "id": "be05d758",
   "metadata": {},
   "outputs": [],
   "source": [
    "model.fc1.weight.grad"
   ]
  },
  {
   "cell_type": "code",
   "execution_count": 20,
   "id": "2684872b",
   "metadata": {},
   "outputs": [
    {
     "data": {
      "text/plain": [
       "tensor([[1., 2.]])"
      ]
     },
     "execution_count": 20,
     "metadata": {},
     "output_type": "execute_result"
    }
   ],
   "source": [
    "model.fc1.weight.data"
   ]
  },
  {
   "cell_type": "code",
   "execution_count": 21,
   "id": "2210a893",
   "metadata": {},
   "outputs": [
    {
     "data": {
      "text/plain": [
       "(tensor([[1.]]), tensor([[1.]]))"
      ]
     },
     "execution_count": 21,
     "metadata": {},
     "output_type": "execute_result"
    }
   ],
   "source": [
    "model.fc2.weight.data, model.fc2.bias.data"
   ]
  },
  {
   "cell_type": "code",
   "execution_count": 22,
   "id": "b8895655",
   "metadata": {},
   "outputs": [
    {
     "data": {
      "text/plain": [
       "tensor([[9.0000],\n",
       "        [8.4000],\n",
       "        [9.0000]], grad_fn=<AddmmBackward0>)"
      ]
     },
     "execution_count": 22,
     "metadata": {},
     "output_type": "execute_result"
    }
   ],
   "source": [
    "first_pred = model(x)\n",
    "first_pred"
   ]
  },
  {
   "cell_type": "code",
   "execution_count": 23,
   "id": "ebad28af",
   "metadata": {},
   "outputs": [
    {
     "data": {
      "text/plain": [
       "(torch.Size([3, 1]), torch.Size([3]))"
      ]
     },
     "execution_count": 23,
     "metadata": {},
     "output_type": "execute_result"
    }
   ],
   "source": [
    "first_pred.shape, y.shape"
   ]
  },
  {
   "cell_type": "code",
   "execution_count": 24,
   "id": "e3e975fc",
   "metadata": {},
   "outputs": [],
   "source": [
    "def calc_loss(pred):\n",
    "    res = 0\n",
    "    for idx, num in enumerate(pred):\n",
    "        res += (pred[idx] - y[idx])**2\n",
    "    return res / len(pred)"
   ]
  },
  {
   "cell_type": "code",
   "execution_count": 25,
   "id": "9a870f6f",
   "metadata": {},
   "outputs": [
    {
     "data": {
      "text/plain": [
       "tensor([66.1867], grad_fn=<DivBackward0>)"
      ]
     },
     "execution_count": 25,
     "metadata": {},
     "output_type": "execute_result"
    }
   ],
   "source": [
    "calc_loss(first_pred)    "
   ]
  },
  {
   "cell_type": "code",
   "execution_count": 26,
   "id": "447cff37",
   "metadata": {},
   "outputs": [
    {
     "data": {
      "text/plain": [
       "(torch.Size([3, 1]), torch.Size([3]))"
      ]
     },
     "execution_count": 26,
     "metadata": {},
     "output_type": "execute_result"
    }
   ],
   "source": [
    "first_pred.shape, y.shape"
   ]
  },
  {
   "cell_type": "code",
   "execution_count": 27,
   "id": "493b8f23",
   "metadata": {},
   "outputs": [
    {
     "name": "stdout",
     "output_type": "stream",
     "text": [
      "loss is tensor(66.1867, grad_fn=<MseLossBackward0>)\n",
      "New Loss after one step: 2.2632858753204346\n"
     ]
    }
   ],
   "source": [
    "train()"
   ]
  },
  {
   "cell_type": "code",
   "execution_count": 28,
   "id": "e0c40b3e",
   "metadata": {},
   "outputs": [
    {
     "data": {
      "text/plain": [
       "tensor([[-0.8757],\n",
       "        [-0.5247],\n",
       "        [-0.7309]], grad_fn=<AddmmBackward0>)"
      ]
     },
     "execution_count": 28,
     "metadata": {},
     "output_type": "execute_result"
    }
   ],
   "source": [
    "second_pred = model(x)\n",
    "second_pred"
   ]
  },
  {
   "cell_type": "code",
   "execution_count": 29,
   "id": "4febce70",
   "metadata": {},
   "outputs": [
    {
     "data": {
      "text/plain": [
       "tensor([2.2633], grad_fn=<DivBackward0>)"
      ]
     },
     "execution_count": 29,
     "metadata": {},
     "output_type": "execute_result"
    }
   ],
   "source": [
    "calc_loss(second_pred)"
   ]
  },
  {
   "cell_type": "code",
   "execution_count": 30,
   "id": "5744e0e8",
   "metadata": {},
   "outputs": [
    {
     "data": {
      "text/plain": [
       "tensor([[0.5627, 1.6661]])"
      ]
     },
     "execution_count": 30,
     "metadata": {},
     "output_type": "execute_result"
    }
   ],
   "source": [
    "model.fc1.weight.data"
   ]
  },
  {
   "cell_type": "markdown",
   "id": "444bc532",
   "metadata": {},
   "source": [
    "# First Pass"
   ]
  },
  {
   "cell_type": "code",
   "execution_count": 31,
   "id": "7d2c4c96",
   "metadata": {},
   "outputs": [
    {
     "data": {
      "text/plain": [
       "(torch.Size([3, 2]), torch.Size([1, 2]), torch.Size([1]))"
      ]
     },
     "execution_count": 31,
     "metadata": {},
     "output_type": "execute_result"
    }
   ],
   "source": [
    "x.shape, w1.shape, b1.shape"
   ]
  },
  {
   "cell_type": "code",
   "execution_count": 32,
   "id": "c7148959",
   "metadata": {},
   "outputs": [],
   "source": [
    "w1 = w1.t()"
   ]
  },
  {
   "cell_type": "code",
   "execution_count": 33,
   "id": "184e3589",
   "metadata": {},
   "outputs": [],
   "source": [
    "def lin(x, w, b):\n",
    "    return x @ w + b"
   ]
  },
  {
   "cell_type": "code",
   "execution_count": 34,
   "id": "bb491d62",
   "metadata": {},
   "outputs": [
    {
     "data": {
      "text/plain": [
       "tensor([[8.0000],\n",
       "        [7.4000],\n",
       "        [8.0000]])"
      ]
     },
     "execution_count": 34,
     "metadata": {},
     "output_type": "execute_result"
    }
   ],
   "source": [
    "fc1_first_pass = lin(x, w1, b1)\n",
    "fc1_first_pass"
   ]
  },
  {
   "cell_type": "code",
   "execution_count": 35,
   "id": "3acbea8b",
   "metadata": {},
   "outputs": [],
   "source": [
    "relu_first_pass = relu(fc1_first_pass)"
   ]
  },
  {
   "cell_type": "code",
   "execution_count": 36,
   "id": "ef504293",
   "metadata": {},
   "outputs": [],
   "source": [
    "fc2_first_pass = lin(relu_first_pass, w2, b2)"
   ]
  },
  {
   "cell_type": "code",
   "execution_count": 37,
   "id": "13bb06a0",
   "metadata": {},
   "outputs": [
    {
     "data": {
      "text/plain": [
       "tensor([66.1867])"
      ]
     },
     "execution_count": 37,
     "metadata": {},
     "output_type": "execute_result"
    }
   ],
   "source": [
    "calc_loss(fc2_first_pass)"
   ]
  },
  {
   "cell_type": "code",
   "execution_count": 58,
   "id": "9e390c5b",
   "metadata": {},
   "outputs": [],
   "source": [
    "def forward_with_loss_calc(w1, b1, w2, b2):\n",
    "    lin_1 = lin(x, w1, b1)\n",
    "    relu_res = relu(lin_1)\n",
    "    lin_2 = lin(relu_res, w2, b2)\n",
    "    return calc_loss(lin_2)"
   ]
  },
  {
   "cell_type": "markdown",
   "id": "fc68150d",
   "metadata": {},
   "source": [
    "# Back Propogation"
   ]
  },
  {
   "cell_type": "markdown",
   "id": "d9e4fbfc",
   "metadata": {},
   "source": [
    "    mse_grad(out, target)\n",
    "    lin_grad(l2, out, w2, b2)\n",
    "    relu_grad(l1, l2)    \n",
    "    lin_grad(inp, l1, w1, b1)"
   ]
  },
  {
   "cell_type": "code",
   "execution_count": 38,
   "id": "91300f6d",
   "metadata": {},
   "outputs": [],
   "source": [
    "def mse_grad(inp, targ):\n",
    "#     set_trace()\n",
    "    inp.gradient = 2. * (inp.squeeze() - targ).unsqueeze(-1) / inp.shape[0]"
   ]
  },
  {
   "cell_type": "code",
   "execution_count": 39,
   "id": "9232dca0",
   "metadata": {},
   "outputs": [],
   "source": [
    "mse_grad(fc2_first_pass, y)"
   ]
  },
  {
   "cell_type": "code",
   "execution_count": 40,
   "id": "4e2a68f2",
   "metadata": {},
   "outputs": [],
   "source": [
    "def lin_grad(inp, out, w, b):\n",
    "    \n",
    "    # the gradient of a matrix product, is the matrix product with a transpose\n",
    "    inp.gradient = out.gradient @ w.t()\n",
    "        \n",
    "#     w.gradient = (inp.unsqueeze(-1) * out.gradient.unsqueeze(1)).sum(0)\n",
    "    w.gradient = (inp * out.gradient).sum(0)\n",
    "\n",
    "    b.gradient  = out.gradient.sum(0)"
   ]
  },
  {
   "cell_type": "code",
   "execution_count": 41,
   "id": "8f730caa",
   "metadata": {},
   "outputs": [],
   "source": [
    "lin_grad(relu_first_pass, fc2_first_pass, w2, b2)"
   ]
  },
  {
   "cell_type": "code",
   "execution_count": 42,
   "id": "c41920ff",
   "metadata": {},
   "outputs": [],
   "source": [
    "def relu_grad(inp, out):\n",
    "    # gradient of relu multiplied by the gradient of the next layer\n",
    "    inp.gradient = (inp > 0).float() * out.gradient"
   ]
  },
  {
   "cell_type": "code",
   "execution_count": 43,
   "id": "7edc9a76",
   "metadata": {},
   "outputs": [],
   "source": [
    "relu_grad(fc1_first_pass, relu_first_pass)"
   ]
  },
  {
   "cell_type": "code",
   "execution_count": 44,
   "id": "239733da",
   "metadata": {},
   "outputs": [],
   "source": [
    "lin_grad(x, fc1_first_pass, w1, b1)"
   ]
  },
  {
   "cell_type": "code",
   "execution_count": 49,
   "id": "53761fa2",
   "metadata": {},
   "outputs": [
    {
     "data": {
      "text/plain": [
       "tensor([126.7733])"
      ]
     },
     "execution_count": 49,
     "metadata": {},
     "output_type": "execute_result"
    }
   ],
   "source": [
    "w2.gradient"
   ]
  },
  {
   "cell_type": "code",
   "execution_count": 50,
   "id": "5c3036ed",
   "metadata": {},
   "outputs": [
    {
     "data": {
      "text/plain": [
       "tensor([[126.7733]])"
      ]
     },
     "execution_count": 50,
     "metadata": {},
     "output_type": "execute_result"
    }
   ],
   "source": [
    "model.fc2.weight.grad"
   ]
  },
  {
   "cell_type": "markdown",
   "id": "d629b6f9",
   "metadata": {},
   "source": [
    "# Re Calculate Weights"
   ]
  },
  {
   "cell_type": "code",
   "execution_count": 51,
   "id": "6e44bf8f",
   "metadata": {},
   "outputs": [],
   "source": [
    "lr = 0.01"
   ]
  },
  {
   "cell_type": "code",
   "execution_count": 52,
   "id": "7bc8aa9b",
   "metadata": {
    "scrolled": true
   },
   "outputs": [],
   "source": [
    "w1 -= lr * w1.gradient.unsqueeze(1)\n",
    "b1 -= lr * b1.gradient\n",
    "\n",
    "w2 -= lr * w2.gradient.unsqueeze(1)\n",
    "b2 -= lr * b2.gradient"
   ]
  },
  {
   "cell_type": "code",
   "execution_count": 53,
   "id": "d0b296f8",
   "metadata": {},
   "outputs": [
    {
     "data": {
      "text/plain": [
       "(tensor([[0.5627, 1.6661]]), tensor([0.8373]))"
      ]
     },
     "execution_count": 53,
     "metadata": {},
     "output_type": "execute_result"
    }
   ],
   "source": [
    "model.fc1.weight.data, model.fc1.bias.data"
   ]
  },
  {
   "cell_type": "code",
   "execution_count": 54,
   "id": "95ce4c1a",
   "metadata": {},
   "outputs": [
    {
     "data": {
      "text/plain": [
       "(tensor([[0.5627],\n",
       "         [1.6661]]),\n",
       " tensor([0.8373]))"
      ]
     },
     "execution_count": 54,
     "metadata": {},
     "output_type": "execute_result"
    }
   ],
   "source": [
    "w1, b1"
   ]
  },
  {
   "cell_type": "code",
   "execution_count": 55,
   "id": "d9c7a83f",
   "metadata": {},
   "outputs": [
    {
     "data": {
      "text/plain": [
       "(tensor([[-0.2677]]), tensor([[0.8373]]))"
      ]
     },
     "execution_count": 55,
     "metadata": {},
     "output_type": "execute_result"
    }
   ],
   "source": [
    "model.fc2.weight.data, model.fc2.bias.data"
   ]
  },
  {
   "cell_type": "code",
   "execution_count": 56,
   "id": "d89b038f",
   "metadata": {},
   "outputs": [
    {
     "data": {
      "text/plain": [
       "(tensor([[-0.2677]]), tensor([[0.8373]]))"
      ]
     },
     "execution_count": 56,
     "metadata": {},
     "output_type": "execute_result"
    }
   ],
   "source": [
    "w2, b2"
   ]
  },
  {
   "cell_type": "markdown",
   "id": "40b75653",
   "metadata": {},
   "source": [
    "# Re Calculate Loss"
   ]
  },
  {
   "cell_type": "code",
   "execution_count": 59,
   "id": "a2ea9457",
   "metadata": {},
   "outputs": [
    {
     "data": {
      "text/plain": [
       "tensor([2.2633])"
      ]
     },
     "execution_count": 59,
     "metadata": {},
     "output_type": "execute_result"
    }
   ],
   "source": [
    "forward_with_loss_calc(w1, b1, w2, b2)"
   ]
  },
  {
   "cell_type": "code",
   "execution_count": 60,
   "id": "baa678dd",
   "metadata": {},
   "outputs": [
    {
     "data": {
      "text/plain": [
       "(tensor([[0.5627],\n",
       "         [1.6661]]),\n",
       " tensor([0.8373]))"
      ]
     },
     "execution_count": 60,
     "metadata": {},
     "output_type": "execute_result"
    }
   ],
   "source": [
    "w1, b1"
   ]
  },
  {
   "cell_type": "code",
   "execution_count": 61,
   "id": "73b20986",
   "metadata": {},
   "outputs": [
    {
     "data": {
      "text/plain": [
       "tensor([0.8373])"
      ]
     },
     "execution_count": 61,
     "metadata": {},
     "output_type": "execute_result"
    }
   ],
   "source": [
    "model.fc1.bias.data"
   ]
  },
  {
   "cell_type": "markdown",
   "id": "a1c54792",
   "metadata": {},
   "source": [
    "# Recalculate Weights Second time"
   ]
  },
  {
   "cell_type": "code",
   "execution_count": 62,
   "id": "ef968167",
   "metadata": {},
   "outputs": [
    {
     "name": "stdout",
     "output_type": "stream",
     "text": [
      "loss is tensor(2.2633, grad_fn=<MseLossBackward0>)\n",
      "New Loss after one step: 0.42095747590065\n"
     ]
    }
   ],
   "source": [
    "train()"
   ]
  },
  {
   "cell_type": "code",
   "execution_count": 63,
   "id": "9614fa90",
   "metadata": {},
   "outputs": [],
   "source": [
    "fc1_second_pass = lin(x, w1, b1)\n",
    "relu_second_pass = relu(fc1_second_pass)\n",
    "fc2_second_pass = lin(relu_second_pass, w2, b2)"
   ]
  },
  {
   "cell_type": "code",
   "execution_count": 64,
   "id": "e144e084",
   "metadata": {},
   "outputs": [],
   "source": [
    "mse_grad(fc2_second_pass, y)\n",
    "lin_grad(relu_second_pass, fc2_second_pass, w2, b2)\n",
    "relu_grad(fc1_second_pass, relu_second_pass)\n",
    "lin_grad(x, fc1_second_pass, w1, b1)"
   ]
  },
  {
   "cell_type": "code",
   "execution_count": 65,
   "id": "687011ad",
   "metadata": {},
   "outputs": [],
   "source": [
    "w1 -= lr * w1.gradient.unsqueeze(1)\n",
    "b1 -= lr * b1.gradient\n",
    "\n",
    "w2 -= lr * w2.gradient.unsqueeze(1)\n",
    "b2 -= lr * b2.gradient"
   ]
  },
  {
   "cell_type": "code",
   "execution_count": 67,
   "id": "de5f3e40",
   "metadata": {},
   "outputs": [
    {
     "data": {
      "text/plain": [
       "tensor([0.4210])"
      ]
     },
     "execution_count": 67,
     "metadata": {},
     "output_type": "execute_result"
    }
   ],
   "source": [
    "forward_with_loss_calc(w1, b1, w2, b2)"
   ]
  },
  {
   "cell_type": "code",
   "execution_count": 68,
   "id": "66492e70",
   "metadata": {},
   "outputs": [
    {
     "data": {
      "text/plain": [
       "(tensor([[0.5463, 1.6488]]), tensor([0.8300]))"
      ]
     },
     "execution_count": 68,
     "metadata": {},
     "output_type": "execute_result"
    }
   ],
   "source": [
    "model.fc1.weight.data, model.fc1.bias.data, "
   ]
  },
  {
   "cell_type": "code",
   "execution_count": 69,
   "id": "574e2fb6",
   "metadata": {},
   "outputs": [
    {
     "data": {
      "text/plain": [
       "(tensor([[0.5463],\n",
       "         [1.6488]]),\n",
       " tensor([0.8300]))"
      ]
     },
     "execution_count": 69,
     "metadata": {},
     "output_type": "execute_result"
    }
   ],
   "source": [
    "w1, b1"
   ]
  },
  {
   "cell_type": "code",
   "execution_count": 70,
   "id": "33075445",
   "metadata": {},
   "outputs": [
    {
     "data": {
      "text/plain": [
       "(tensor([[-0.1023]]), tensor([[0.8649]]))"
      ]
     },
     "execution_count": 70,
     "metadata": {},
     "output_type": "execute_result"
    }
   ],
   "source": [
    "model.fc2.weight.data, model.fc2.bias.data, "
   ]
  },
  {
   "cell_type": "code",
   "execution_count": 71,
   "id": "66191ac2",
   "metadata": {},
   "outputs": [
    {
     "data": {
      "text/plain": [
       "(tensor([[-0.1023]]), tensor([[0.8649]]))"
      ]
     },
     "execution_count": 71,
     "metadata": {},
     "output_type": "execute_result"
    }
   ],
   "source": [
    "w2, b2"
   ]
  },
  {
   "cell_type": "code",
   "execution_count": 72,
   "id": "b129b15a",
   "metadata": {},
   "outputs": [
    {
     "data": {
      "text/plain": [
       "tensor([[0.3348],\n",
       "        [0.0937],\n",
       "        [0.3090]])"
      ]
     },
     "execution_count": 72,
     "metadata": {},
     "output_type": "execute_result"
    }
   ],
   "source": [
    "fc1_second_pass.gradient"
   ]
  },
  {
   "cell_type": "code",
   "execution_count": 73,
   "id": "60c0367f",
   "metadata": {},
   "outputs": [
    {
     "data": {
      "text/plain": [
       "tensor([1.6363, 1.7347])"
      ]
     },
     "execution_count": 73,
     "metadata": {},
     "output_type": "execute_result"
    }
   ],
   "source": [
    "w1.gradient"
   ]
  },
  {
   "cell_type": "code",
   "execution_count": 74,
   "id": "3bc6b077",
   "metadata": {},
   "outputs": [
    {
     "data": {
      "text/plain": [
       "tensor([[-0.4187],\n",
       "        [-0.0328],\n",
       "        [-0.3565]])"
      ]
     },
     "execution_count": 74,
     "metadata": {},
     "output_type": "execute_result"
    }
   ],
   "source": [
    "fc2_second_pass.gradient * relu_second_pass.gradient"
   ]
  },
  {
   "cell_type": "code",
   "execution_count": 75,
   "id": "c8ef4a74",
   "metadata": {},
   "outputs": [
    {
     "data": {
      "text/plain": [
       "tensor([[5.3333],\n",
       "        [5.6000],\n",
       "        [5.3333]])"
      ]
     },
     "execution_count": 75,
     "metadata": {},
     "output_type": "execute_result"
    }
   ],
   "source": [
    "fc1_first_pass.gradient"
   ]
  },
  {
   "cell_type": "code",
   "execution_count": 76,
   "id": "02d23505",
   "metadata": {},
   "outputs": [
    {
     "data": {
      "text/plain": [
       "tensor([[-0.8757],\n",
       "        [-0.5247],\n",
       "        [-0.7309]])"
      ]
     },
     "execution_count": 76,
     "metadata": {},
     "output_type": "execute_result"
    }
   ],
   "source": [
    "fc2_second_pass"
   ]
  },
  {
   "cell_type": "code",
   "execution_count": null,
   "id": "1cd99dc4",
   "metadata": {},
   "outputs": [],
   "source": []
  }
 ],
 "metadata": {
  "kernelspec": {
   "display_name": "all_purpose_venv",
   "language": "python",
   "name": "all_purpose_venv"
  },
  "language_info": {
   "codemirror_mode": {
    "name": "ipython",
    "version": 3
   },
   "file_extension": ".py",
   "mimetype": "text/x-python",
   "name": "python",
   "nbconvert_exporter": "python",
   "pygments_lexer": "ipython3",
   "version": "3.11.2"
  },
  "toc": {
   "base_numbering": 1,
   "nav_menu": {},
   "number_sections": true,
   "sideBar": true,
   "skip_h1_title": false,
   "title_cell": "Table of Contents",
   "title_sidebar": "Contents",
   "toc_cell": false,
   "toc_position": {},
   "toc_section_display": true,
   "toc_window_display": false
  }
 },
 "nbformat": 4,
 "nbformat_minor": 5
}
