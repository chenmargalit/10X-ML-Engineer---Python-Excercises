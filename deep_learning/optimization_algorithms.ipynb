{
 "cells": [
  {
   "cell_type": "code",
   "execution_count": 1,
   "id": "7cf69d7b",
   "metadata": {},
   "outputs": [],
   "source": [
    "from pdb import set_trace\n",
    "\n",
    "import matplotlib.pyplot as plt\n",
    "\n",
    "import torch\n",
    "import torch.nn as nn\n",
    "import torch.optim as optim\n",
    "from torch.utils.data import DataLoader\n",
    "from torchvision import datasets, transforms\n",
    "\n",
    "from sklearn.datasets import load_iris\n",
    "from sklearn.model_selection import train_test_split\n",
    "from sklearn.preprocessing import StandardScaler"
   ]
  },
  {
   "cell_type": "code",
   "execution_count": 76,
   "id": "ace85cc4",
   "metadata": {},
   "outputs": [],
   "source": [
    "def load_data(float_dtype=False):\n",
    "    \n",
    "    iris = load_iris()\n",
    "    X = iris.data  \n",
    "    y = iris.target\n",
    "\n",
    "    x_train, x_valid, y_train, y_valid = train_test_split(X, y, test_size=0.2, random_state=42)\n",
    "\n",
    "    x_train = torch.tensor(x_train, dtype=torch.float32)\n",
    "    x_valid = torch.tensor(x_valid, dtype=torch.float32)\n",
    "    y_train = torch.tensor(y_train, dtype=torch.long)\n",
    "    y_valid = torch.tensor(y_valid, dtype=torch.long)\n",
    "    \n",
    "    return x_train, y_train, x_valid, y_valid"
   ]
  },
  {
   "cell_type": "markdown",
   "id": "5ca1752c",
   "metadata": {},
   "source": [
    "# Optimization Algorithms in Deep Learning"
   ]
  },
  {
   "cell_type": "markdown",
   "id": "361e3aea",
   "metadata": {},
   "source": [
    "In this notebook, we'll cover some of the most commonly used optimization algorithms in training deep learning models, including **SGD**, **Adam**, **RMSprop**, and others. We'll explore how each one works, implement them in PyTorch, and compare their behaviors.\n",
    "\n",
    "## Overview of Optimization Algorithms\n",
    "- **Stochastic Gradient Descent (SGD)**\n",
    "- **Momentum**\n",
    "- **Adagrad**\n",
    "- **RMSprop**\n",
    "- **Adam**"
   ]
  },
  {
   "cell_type": "markdown",
   "id": "ae47bf3f",
   "metadata": {
    "heading_collapsed": true
   },
   "source": [
    "# Stochastic Gradient Descent (SGD)"
   ]
  },
  {
   "cell_type": "markdown",
   "id": "5ae9f63e",
   "metadata": {
    "hidden": true
   },
   "source": [
    "SGD updates the parameters based on each individual training sample. It's one of the simplest optimization algorithms but can be enhanced with techniques like momentum.\n",
    "\n",
    "## PyTorch Implementation\n"
   ]
  },
  {
   "cell_type": "code",
   "execution_count": 77,
   "id": "a99f2646",
   "metadata": {
    "hidden": true
   },
   "outputs": [],
   "source": [
    "x, y, _, _ = load_data(True)"
   ]
  },
  {
   "cell_type": "code",
   "execution_count": 78,
   "id": "4f3aa70a",
   "metadata": {
    "hidden": true
   },
   "outputs": [
    {
     "data": {
      "text/plain": [
       "(torch.Size([120, 4]), torch.Size([120]))"
      ]
     },
     "execution_count": 78,
     "metadata": {},
     "output_type": "execute_result"
    }
   ],
   "source": [
    "x.shape, y.shape"
   ]
  },
  {
   "cell_type": "code",
   "execution_count": 79,
   "id": "862eb99a",
   "metadata": {
    "hidden": true
   },
   "outputs": [],
   "source": [
    "model = nn.Sequential(nn.Linear(4, 1))\n",
    "criterion = nn.MSELoss()\n",
    "learning_rate = 0.01\n",
    "epochs = 800"
   ]
  },
  {
   "cell_type": "code",
   "execution_count": 80,
   "id": "e50a1458",
   "metadata": {
    "hidden": true
   },
   "outputs": [
    {
     "data": {
      "text/plain": [
       "Sequential(\n",
       "  (0): Linear(in_features=4, out_features=1, bias=True)\n",
       ")"
      ]
     },
     "execution_count": 80,
     "metadata": {},
     "output_type": "execute_result"
    }
   ],
   "source": [
    "model"
   ]
  },
  {
   "cell_type": "code",
   "execution_count": 81,
   "id": "8e7b05d5",
   "metadata": {
    "hidden": true
   },
   "outputs": [],
   "source": [
    "def train_with_manul_SGD(x,y, squeeze=False):\n",
    "    \n",
    "    torch.manual_seed(0)\n",
    "    \n",
    "    for epoch in range(epochs):\n",
    "        y_pred = model(x)\n",
    "        y_pred = y_pred if squeeze is False else y_pred.squeeze()\n",
    "        loss = criterion(y_pred, y)\n",
    "        loss.backward()\n",
    "        \n",
    "        with torch.no_grad():\n",
    "            \n",
    "            for param in model.parameters():\n",
    "                param -= learning_rate * param.grad\n",
    "                \n",
    "#             model.zero_grad()\n",
    "            \n",
    "        if epoch % 10 == 0:\n",
    "            print(loss)\n",
    "            "
   ]
  },
  {
   "cell_type": "code",
   "execution_count": 82,
   "id": "b1c5870a",
   "metadata": {
    "hidden": true,
    "scrolled": true
   },
   "outputs": [
    {
     "name": "stderr",
     "output_type": "stream",
     "text": [
      "/Library/Frameworks/Python.framework/Versions/3.11/lib/python3.11/site-packages/torch/nn/modules/loss.py:535: UserWarning: Using a target size (torch.Size([120])) that is different to the input size (torch.Size([120, 1])). This will likely lead to incorrect results due to broadcasting. Please ensure they have the same size.\n",
      "  return F.mse_loss(input, target, reduction=self.reduction)\n"
     ]
    },
    {
     "ename": "RuntimeError",
     "evalue": "Found dtype Long but expected Float",
     "output_type": "error",
     "traceback": [
      "\u001b[0;31m---------------------------------------------------------------------------\u001b[0m",
      "\u001b[0;31mRuntimeError\u001b[0m                              Traceback (most recent call last)",
      "Cell \u001b[0;32mIn[82], line 1\u001b[0m\n\u001b[0;32m----> 1\u001b[0m \u001b[43mtrain_with_manul_SGD\u001b[49m\u001b[43m(\u001b[49m\u001b[43mx\u001b[49m\u001b[43m,\u001b[49m\u001b[43my\u001b[49m\u001b[43m)\u001b[49m\n",
      "Cell \u001b[0;32mIn[81], line 9\u001b[0m, in \u001b[0;36mtrain_with_manul_SGD\u001b[0;34m(x, y, squeeze)\u001b[0m\n\u001b[1;32m      7\u001b[0m y_pred \u001b[38;5;241m=\u001b[39m y_pred \u001b[38;5;28;01mif\u001b[39;00m squeeze \u001b[38;5;129;01mis\u001b[39;00m \u001b[38;5;28;01mFalse\u001b[39;00m \u001b[38;5;28;01melse\u001b[39;00m y_pred\u001b[38;5;241m.\u001b[39msqueeze()\n\u001b[1;32m      8\u001b[0m loss \u001b[38;5;241m=\u001b[39m criterion(y_pred, y)\n\u001b[0;32m----> 9\u001b[0m \u001b[43mloss\u001b[49m\u001b[38;5;241;43m.\u001b[39;49m\u001b[43mbackward\u001b[49m\u001b[43m(\u001b[49m\u001b[43m)\u001b[49m\n\u001b[1;32m     11\u001b[0m \u001b[38;5;28;01mwith\u001b[39;00m torch\u001b[38;5;241m.\u001b[39mno_grad():\n\u001b[1;32m     13\u001b[0m     \u001b[38;5;28;01mfor\u001b[39;00m param \u001b[38;5;129;01min\u001b[39;00m model\u001b[38;5;241m.\u001b[39mparameters():\n",
      "File \u001b[0;32m/Library/Frameworks/Python.framework/Versions/3.11/lib/python3.11/site-packages/torch/_tensor.py:525\u001b[0m, in \u001b[0;36mTensor.backward\u001b[0;34m(self, gradient, retain_graph, create_graph, inputs)\u001b[0m\n\u001b[1;32m    515\u001b[0m \u001b[38;5;28;01mif\u001b[39;00m has_torch_function_unary(\u001b[38;5;28mself\u001b[39m):\n\u001b[1;32m    516\u001b[0m     \u001b[38;5;28;01mreturn\u001b[39;00m handle_torch_function(\n\u001b[1;32m    517\u001b[0m         Tensor\u001b[38;5;241m.\u001b[39mbackward,\n\u001b[1;32m    518\u001b[0m         (\u001b[38;5;28mself\u001b[39m,),\n\u001b[0;32m   (...)\u001b[0m\n\u001b[1;32m    523\u001b[0m         inputs\u001b[38;5;241m=\u001b[39minputs,\n\u001b[1;32m    524\u001b[0m     )\n\u001b[0;32m--> 525\u001b[0m \u001b[43mtorch\u001b[49m\u001b[38;5;241;43m.\u001b[39;49m\u001b[43mautograd\u001b[49m\u001b[38;5;241;43m.\u001b[39;49m\u001b[43mbackward\u001b[49m\u001b[43m(\u001b[49m\n\u001b[1;32m    526\u001b[0m \u001b[43m    \u001b[49m\u001b[38;5;28;43mself\u001b[39;49m\u001b[43m,\u001b[49m\u001b[43m \u001b[49m\u001b[43mgradient\u001b[49m\u001b[43m,\u001b[49m\u001b[43m \u001b[49m\u001b[43mretain_graph\u001b[49m\u001b[43m,\u001b[49m\u001b[43m \u001b[49m\u001b[43mcreate_graph\u001b[49m\u001b[43m,\u001b[49m\u001b[43m \u001b[49m\u001b[43minputs\u001b[49m\u001b[38;5;241;43m=\u001b[39;49m\u001b[43minputs\u001b[49m\n\u001b[1;32m    527\u001b[0m \u001b[43m\u001b[49m\u001b[43m)\u001b[49m\n",
      "File \u001b[0;32m/Library/Frameworks/Python.framework/Versions/3.11/lib/python3.11/site-packages/torch/autograd/__init__.py:267\u001b[0m, in \u001b[0;36mbackward\u001b[0;34m(tensors, grad_tensors, retain_graph, create_graph, grad_variables, inputs)\u001b[0m\n\u001b[1;32m    262\u001b[0m     retain_graph \u001b[38;5;241m=\u001b[39m create_graph\n\u001b[1;32m    264\u001b[0m \u001b[38;5;66;03m# The reason we repeat the same comment below is that\u001b[39;00m\n\u001b[1;32m    265\u001b[0m \u001b[38;5;66;03m# some Python versions print out the first line of a multi-line function\u001b[39;00m\n\u001b[1;32m    266\u001b[0m \u001b[38;5;66;03m# calls in the traceback and some print out the last line\u001b[39;00m\n\u001b[0;32m--> 267\u001b[0m \u001b[43m_engine_run_backward\u001b[49m\u001b[43m(\u001b[49m\n\u001b[1;32m    268\u001b[0m \u001b[43m    \u001b[49m\u001b[43mtensors\u001b[49m\u001b[43m,\u001b[49m\n\u001b[1;32m    269\u001b[0m \u001b[43m    \u001b[49m\u001b[43mgrad_tensors_\u001b[49m\u001b[43m,\u001b[49m\n\u001b[1;32m    270\u001b[0m \u001b[43m    \u001b[49m\u001b[43mretain_graph\u001b[49m\u001b[43m,\u001b[49m\n\u001b[1;32m    271\u001b[0m \u001b[43m    \u001b[49m\u001b[43mcreate_graph\u001b[49m\u001b[43m,\u001b[49m\n\u001b[1;32m    272\u001b[0m \u001b[43m    \u001b[49m\u001b[43minputs\u001b[49m\u001b[43m,\u001b[49m\n\u001b[1;32m    273\u001b[0m \u001b[43m    \u001b[49m\u001b[43mallow_unreachable\u001b[49m\u001b[38;5;241;43m=\u001b[39;49m\u001b[38;5;28;43;01mTrue\u001b[39;49;00m\u001b[43m,\u001b[49m\n\u001b[1;32m    274\u001b[0m \u001b[43m    \u001b[49m\u001b[43maccumulate_grad\u001b[49m\u001b[38;5;241;43m=\u001b[39;49m\u001b[38;5;28;43;01mTrue\u001b[39;49;00m\u001b[43m,\u001b[49m\n\u001b[1;32m    275\u001b[0m \u001b[43m\u001b[49m\u001b[43m)\u001b[49m\n",
      "File \u001b[0;32m/Library/Frameworks/Python.framework/Versions/3.11/lib/python3.11/site-packages/torch/autograd/graph.py:744\u001b[0m, in \u001b[0;36m_engine_run_backward\u001b[0;34m(t_outputs, *args, **kwargs)\u001b[0m\n\u001b[1;32m    742\u001b[0m     unregister_hooks \u001b[38;5;241m=\u001b[39m _register_logging_hooks_on_whole_graph(t_outputs)\n\u001b[1;32m    743\u001b[0m \u001b[38;5;28;01mtry\u001b[39;00m:\n\u001b[0;32m--> 744\u001b[0m     \u001b[38;5;28;01mreturn\u001b[39;00m \u001b[43mVariable\u001b[49m\u001b[38;5;241;43m.\u001b[39;49m\u001b[43m_execution_engine\u001b[49m\u001b[38;5;241;43m.\u001b[39;49m\u001b[43mrun_backward\u001b[49m\u001b[43m(\u001b[49m\u001b[43m  \u001b[49m\u001b[38;5;66;43;03m# Calls into the C++ engine to run the backward pass\u001b[39;49;00m\n\u001b[1;32m    745\u001b[0m \u001b[43m        \u001b[49m\u001b[43mt_outputs\u001b[49m\u001b[43m,\u001b[49m\u001b[43m \u001b[49m\u001b[38;5;241;43m*\u001b[39;49m\u001b[43margs\u001b[49m\u001b[43m,\u001b[49m\u001b[43m \u001b[49m\u001b[38;5;241;43m*\u001b[39;49m\u001b[38;5;241;43m*\u001b[39;49m\u001b[43mkwargs\u001b[49m\n\u001b[1;32m    746\u001b[0m \u001b[43m    \u001b[49m\u001b[43m)\u001b[49m  \u001b[38;5;66;03m# Calls into the C++ engine to run the backward pass\u001b[39;00m\n\u001b[1;32m    747\u001b[0m \u001b[38;5;28;01mfinally\u001b[39;00m:\n\u001b[1;32m    748\u001b[0m     \u001b[38;5;28;01mif\u001b[39;00m attach_logging_hooks:\n",
      "\u001b[0;31mRuntimeError\u001b[0m: Found dtype Long but expected Float"
     ]
    }
   ],
   "source": [
    "train_with_manul_SGD(x,y)"
   ]
  },
  {
   "cell_type": "code",
   "execution_count": 83,
   "id": "da8464f4",
   "metadata": {
    "hidden": true
   },
   "outputs": [
    {
     "ename": "RuntimeError",
     "evalue": "Found dtype Long but expected Float",
     "output_type": "error",
     "traceback": [
      "\u001b[0;31m---------------------------------------------------------------------------\u001b[0m",
      "\u001b[0;31mRuntimeError\u001b[0m                              Traceback (most recent call last)",
      "Cell \u001b[0;32mIn[83], line 1\u001b[0m\n\u001b[0;32m----> 1\u001b[0m \u001b[43mtrain_with_manul_SGD\u001b[49m\u001b[43m(\u001b[49m\u001b[43mx\u001b[49m\u001b[43m,\u001b[49m\u001b[43my\u001b[49m\u001b[43m,\u001b[49m\u001b[43m \u001b[49m\u001b[38;5;28;43;01mTrue\u001b[39;49;00m\u001b[43m)\u001b[49m\n",
      "Cell \u001b[0;32mIn[81], line 9\u001b[0m, in \u001b[0;36mtrain_with_manul_SGD\u001b[0;34m(x, y, squeeze)\u001b[0m\n\u001b[1;32m      7\u001b[0m y_pred \u001b[38;5;241m=\u001b[39m y_pred \u001b[38;5;28;01mif\u001b[39;00m squeeze \u001b[38;5;129;01mis\u001b[39;00m \u001b[38;5;28;01mFalse\u001b[39;00m \u001b[38;5;28;01melse\u001b[39;00m y_pred\u001b[38;5;241m.\u001b[39msqueeze()\n\u001b[1;32m      8\u001b[0m loss \u001b[38;5;241m=\u001b[39m criterion(y_pred, y)\n\u001b[0;32m----> 9\u001b[0m \u001b[43mloss\u001b[49m\u001b[38;5;241;43m.\u001b[39;49m\u001b[43mbackward\u001b[49m\u001b[43m(\u001b[49m\u001b[43m)\u001b[49m\n\u001b[1;32m     11\u001b[0m \u001b[38;5;28;01mwith\u001b[39;00m torch\u001b[38;5;241m.\u001b[39mno_grad():\n\u001b[1;32m     13\u001b[0m     \u001b[38;5;28;01mfor\u001b[39;00m param \u001b[38;5;129;01min\u001b[39;00m model\u001b[38;5;241m.\u001b[39mparameters():\n",
      "File \u001b[0;32m/Library/Frameworks/Python.framework/Versions/3.11/lib/python3.11/site-packages/torch/_tensor.py:525\u001b[0m, in \u001b[0;36mTensor.backward\u001b[0;34m(self, gradient, retain_graph, create_graph, inputs)\u001b[0m\n\u001b[1;32m    515\u001b[0m \u001b[38;5;28;01mif\u001b[39;00m has_torch_function_unary(\u001b[38;5;28mself\u001b[39m):\n\u001b[1;32m    516\u001b[0m     \u001b[38;5;28;01mreturn\u001b[39;00m handle_torch_function(\n\u001b[1;32m    517\u001b[0m         Tensor\u001b[38;5;241m.\u001b[39mbackward,\n\u001b[1;32m    518\u001b[0m         (\u001b[38;5;28mself\u001b[39m,),\n\u001b[0;32m   (...)\u001b[0m\n\u001b[1;32m    523\u001b[0m         inputs\u001b[38;5;241m=\u001b[39minputs,\n\u001b[1;32m    524\u001b[0m     )\n\u001b[0;32m--> 525\u001b[0m \u001b[43mtorch\u001b[49m\u001b[38;5;241;43m.\u001b[39;49m\u001b[43mautograd\u001b[49m\u001b[38;5;241;43m.\u001b[39;49m\u001b[43mbackward\u001b[49m\u001b[43m(\u001b[49m\n\u001b[1;32m    526\u001b[0m \u001b[43m    \u001b[49m\u001b[38;5;28;43mself\u001b[39;49m\u001b[43m,\u001b[49m\u001b[43m \u001b[49m\u001b[43mgradient\u001b[49m\u001b[43m,\u001b[49m\u001b[43m \u001b[49m\u001b[43mretain_graph\u001b[49m\u001b[43m,\u001b[49m\u001b[43m \u001b[49m\u001b[43mcreate_graph\u001b[49m\u001b[43m,\u001b[49m\u001b[43m \u001b[49m\u001b[43minputs\u001b[49m\u001b[38;5;241;43m=\u001b[39;49m\u001b[43minputs\u001b[49m\n\u001b[1;32m    527\u001b[0m \u001b[43m\u001b[49m\u001b[43m)\u001b[49m\n",
      "File \u001b[0;32m/Library/Frameworks/Python.framework/Versions/3.11/lib/python3.11/site-packages/torch/autograd/__init__.py:267\u001b[0m, in \u001b[0;36mbackward\u001b[0;34m(tensors, grad_tensors, retain_graph, create_graph, grad_variables, inputs)\u001b[0m\n\u001b[1;32m    262\u001b[0m     retain_graph \u001b[38;5;241m=\u001b[39m create_graph\n\u001b[1;32m    264\u001b[0m \u001b[38;5;66;03m# The reason we repeat the same comment below is that\u001b[39;00m\n\u001b[1;32m    265\u001b[0m \u001b[38;5;66;03m# some Python versions print out the first line of a multi-line function\u001b[39;00m\n\u001b[1;32m    266\u001b[0m \u001b[38;5;66;03m# calls in the traceback and some print out the last line\u001b[39;00m\n\u001b[0;32m--> 267\u001b[0m \u001b[43m_engine_run_backward\u001b[49m\u001b[43m(\u001b[49m\n\u001b[1;32m    268\u001b[0m \u001b[43m    \u001b[49m\u001b[43mtensors\u001b[49m\u001b[43m,\u001b[49m\n\u001b[1;32m    269\u001b[0m \u001b[43m    \u001b[49m\u001b[43mgrad_tensors_\u001b[49m\u001b[43m,\u001b[49m\n\u001b[1;32m    270\u001b[0m \u001b[43m    \u001b[49m\u001b[43mretain_graph\u001b[49m\u001b[43m,\u001b[49m\n\u001b[1;32m    271\u001b[0m \u001b[43m    \u001b[49m\u001b[43mcreate_graph\u001b[49m\u001b[43m,\u001b[49m\n\u001b[1;32m    272\u001b[0m \u001b[43m    \u001b[49m\u001b[43minputs\u001b[49m\u001b[43m,\u001b[49m\n\u001b[1;32m    273\u001b[0m \u001b[43m    \u001b[49m\u001b[43mallow_unreachable\u001b[49m\u001b[38;5;241;43m=\u001b[39;49m\u001b[38;5;28;43;01mTrue\u001b[39;49;00m\u001b[43m,\u001b[49m\n\u001b[1;32m    274\u001b[0m \u001b[43m    \u001b[49m\u001b[43maccumulate_grad\u001b[49m\u001b[38;5;241;43m=\u001b[39;49m\u001b[38;5;28;43;01mTrue\u001b[39;49;00m\u001b[43m,\u001b[49m\n\u001b[1;32m    275\u001b[0m \u001b[43m\u001b[49m\u001b[43m)\u001b[49m\n",
      "File \u001b[0;32m/Library/Frameworks/Python.framework/Versions/3.11/lib/python3.11/site-packages/torch/autograd/graph.py:744\u001b[0m, in \u001b[0;36m_engine_run_backward\u001b[0;34m(t_outputs, *args, **kwargs)\u001b[0m\n\u001b[1;32m    742\u001b[0m     unregister_hooks \u001b[38;5;241m=\u001b[39m _register_logging_hooks_on_whole_graph(t_outputs)\n\u001b[1;32m    743\u001b[0m \u001b[38;5;28;01mtry\u001b[39;00m:\n\u001b[0;32m--> 744\u001b[0m     \u001b[38;5;28;01mreturn\u001b[39;00m \u001b[43mVariable\u001b[49m\u001b[38;5;241;43m.\u001b[39;49m\u001b[43m_execution_engine\u001b[49m\u001b[38;5;241;43m.\u001b[39;49m\u001b[43mrun_backward\u001b[49m\u001b[43m(\u001b[49m\u001b[43m  \u001b[49m\u001b[38;5;66;43;03m# Calls into the C++ engine to run the backward pass\u001b[39;49;00m\n\u001b[1;32m    745\u001b[0m \u001b[43m        \u001b[49m\u001b[43mt_outputs\u001b[49m\u001b[43m,\u001b[49m\u001b[43m \u001b[49m\u001b[38;5;241;43m*\u001b[39;49m\u001b[43margs\u001b[49m\u001b[43m,\u001b[49m\u001b[43m \u001b[49m\u001b[38;5;241;43m*\u001b[39;49m\u001b[38;5;241;43m*\u001b[39;49m\u001b[43mkwargs\u001b[49m\n\u001b[1;32m    746\u001b[0m \u001b[43m    \u001b[49m\u001b[43m)\u001b[49m  \u001b[38;5;66;03m# Calls into the C++ engine to run the backward pass\u001b[39;00m\n\u001b[1;32m    747\u001b[0m \u001b[38;5;28;01mfinally\u001b[39;00m:\n\u001b[1;32m    748\u001b[0m     \u001b[38;5;28;01mif\u001b[39;00m attach_logging_hooks:\n",
      "\u001b[0;31mRuntimeError\u001b[0m: Found dtype Long but expected Float"
     ]
    }
   ],
   "source": [
    "train_with_manul_SGD(x,y, True)"
   ]
  },
  {
   "cell_type": "code",
   "execution_count": 84,
   "id": "3f9675b4",
   "metadata": {
    "hidden": true
   },
   "outputs": [],
   "source": [
    "t1 = torch.rand(3,1)\n",
    "t2 = torch.rand(3)"
   ]
  },
  {
   "cell_type": "code",
   "execution_count": 85,
   "id": "2ae3e1bf",
   "metadata": {
    "hidden": true
   },
   "outputs": [
    {
     "data": {
      "text/plain": [
       "(torch.Size([3, 1]), torch.Size([3]))"
      ]
     },
     "execution_count": 85,
     "metadata": {},
     "output_type": "execute_result"
    }
   ],
   "source": [
    "t1.shape, t2.shape"
   ]
  },
  {
   "cell_type": "code",
   "execution_count": 86,
   "id": "c62634f8",
   "metadata": {
    "hidden": true,
    "scrolled": true
   },
   "outputs": [
    {
     "data": {
      "text/plain": [
       "tensor(0.2142)"
      ]
     },
     "execution_count": 86,
     "metadata": {},
     "output_type": "execute_result"
    }
   ],
   "source": [
    "criterion(t1.squeeze(),t2)"
   ]
  },
  {
   "cell_type": "code",
   "execution_count": 87,
   "id": "0ceab86b",
   "metadata": {
    "hidden": true
   },
   "outputs": [],
   "source": [
    "def calc_mse(small_y_pred, small_y):\n",
    "    res = []\n",
    "    for i in range(len(small_y_pred)):\n",
    "        res.append((small_y_pred[i] - small_y[i])**2)\n",
    "    sum_ = sum(res)\n",
    "    return sum_ / len(small_y_pred)"
   ]
  },
  {
   "cell_type": "code",
   "execution_count": 88,
   "id": "cc64d4e2",
   "metadata": {
    "hidden": true
   },
   "outputs": [
    {
     "data": {
      "text/plain": [
       "tensor([0.2142])"
      ]
     },
     "execution_count": 88,
     "metadata": {},
     "output_type": "execute_result"
    }
   ],
   "source": [
    "calc_mse(t1, t2)"
   ]
  },
  {
   "cell_type": "code",
   "execution_count": 89,
   "id": "8a622c73",
   "metadata": {
    "hidden": true
   },
   "outputs": [
    {
     "name": "stderr",
     "output_type": "stream",
     "text": [
      "/Library/Frameworks/Python.framework/Versions/3.11/lib/python3.11/site-packages/torch/nn/modules/loss.py:535: UserWarning: Using a target size (torch.Size([3])) that is different to the input size (torch.Size([3, 1])). This will likely lead to incorrect results due to broadcasting. Please ensure they have the same size.\n",
      "  return F.mse_loss(input, target, reduction=self.reduction)\n"
     ]
    },
    {
     "data": {
      "text/plain": [
       "tensor(0.1300)"
      ]
     },
     "execution_count": 89,
     "metadata": {},
     "output_type": "execute_result"
    }
   ],
   "source": [
    "criterion(t1, t2)"
   ]
  },
  {
   "cell_type": "code",
   "execution_count": 90,
   "id": "56ce5eb8",
   "metadata": {
    "hidden": true
   },
   "outputs": [
    {
     "data": {
      "text/plain": [
       "(torch.Size([3, 1]), torch.Size([3]))"
      ]
     },
     "execution_count": 90,
     "metadata": {},
     "output_type": "execute_result"
    }
   ],
   "source": [
    "t1.shape, t2.shape"
   ]
  },
  {
   "cell_type": "code",
   "execution_count": 91,
   "id": "3c1e64e7",
   "metadata": {
    "hidden": true
   },
   "outputs": [
    {
     "data": {
      "text/plain": [
       "tensor([[0.4963],\n",
       "        [0.7682],\n",
       "        [0.0885]])"
      ]
     },
     "execution_count": 91,
     "metadata": {},
     "output_type": "execute_result"
    }
   ],
   "source": [
    "t1"
   ]
  },
  {
   "cell_type": "code",
   "execution_count": 92,
   "id": "db23c12f",
   "metadata": {
    "hidden": true
   },
   "outputs": [
    {
     "data": {
      "text/plain": [
       "tensor([0.1320, 0.3074, 0.6341])"
      ]
     },
     "execution_count": 92,
     "metadata": {},
     "output_type": "execute_result"
    }
   ],
   "source": [
    "t2"
   ]
  },
  {
   "cell_type": "code",
   "execution_count": 93,
   "id": "db1d76eb",
   "metadata": {
    "hidden": true
   },
   "outputs": [],
   "source": [
    "x=torch.rand(3,2,2,2)\n",
    "y=torch.rand(  2,1,1)"
   ]
  },
  {
   "cell_type": "code",
   "execution_count": 94,
   "id": "8ba0805c",
   "metadata": {
    "hidden": true
   },
   "outputs": [
    {
     "data": {
      "text/plain": [
       "torch.Size([3, 2, 2, 2])"
      ]
     },
     "execution_count": 94,
     "metadata": {},
     "output_type": "execute_result"
    }
   ],
   "source": [
    "x.shape"
   ]
  },
  {
   "cell_type": "code",
   "execution_count": 95,
   "id": "e8ae05c3",
   "metadata": {
    "hidden": true
   },
   "outputs": [
    {
     "name": "stderr",
     "output_type": "stream",
     "text": [
      "/Library/Frameworks/Python.framework/Versions/3.11/lib/python3.11/site-packages/torch/nn/modules/loss.py:535: UserWarning: Using a target size (torch.Size([2, 1, 1])) that is different to the input size (torch.Size([3, 2, 2, 2])). This will likely lead to incorrect results due to broadcasting. Please ensure they have the same size.\n",
      "  return F.mse_loss(input, target, reduction=self.reduction)\n"
     ]
    },
    {
     "data": {
      "text/plain": [
       "tensor(0.2562)"
      ]
     },
     "execution_count": 95,
     "metadata": {},
     "output_type": "execute_result"
    }
   ],
   "source": [
    "criterion(x,y)"
   ]
  },
  {
   "cell_type": "code",
   "execution_count": 96,
   "id": "b0d80097",
   "metadata": {
    "hidden": true
   },
   "outputs": [
    {
     "data": {
      "text/plain": [
       "tensor([[[[0.3051, 0.3051],\n",
       "          [0.3051, 0.3051]],\n",
       "\n",
       "         [[0.9320, 0.9320],\n",
       "          [0.9320, 0.9320]]],\n",
       "\n",
       "\n",
       "        [[[0.3051, 0.3051],\n",
       "          [0.3051, 0.3051]],\n",
       "\n",
       "         [[0.9320, 0.9320],\n",
       "          [0.9320, 0.9320]]],\n",
       "\n",
       "\n",
       "        [[[0.3051, 0.3051],\n",
       "          [0.3051, 0.3051]],\n",
       "\n",
       "         [[0.9320, 0.9320],\n",
       "          [0.9320, 0.9320]]]])"
      ]
     },
     "execution_count": 96,
     "metadata": {},
     "output_type": "execute_result"
    }
   ],
   "source": [
    "y.expand_as(x)"
   ]
  },
  {
   "cell_type": "code",
   "execution_count": 97,
   "id": "5368c8e1",
   "metadata": {
    "hidden": true
   },
   "outputs": [
    {
     "data": {
      "text/plain": [
       "tensor([[[[0.4901, 0.8964],\n",
       "          [0.4556, 0.6323]],\n",
       "\n",
       "         [[0.3489, 0.4017],\n",
       "          [0.0223, 0.1689]]],\n",
       "\n",
       "\n",
       "        [[[0.2939, 0.5185],\n",
       "          [0.6977, 0.8000]],\n",
       "\n",
       "         [[0.1610, 0.2823],\n",
       "          [0.6816, 0.9152]]],\n",
       "\n",
       "\n",
       "        [[[0.3971, 0.8742],\n",
       "          [0.4194, 0.5529]],\n",
       "\n",
       "         [[0.9527, 0.0362],\n",
       "          [0.1852, 0.3734]]]])"
      ]
     },
     "execution_count": 97,
     "metadata": {},
     "output_type": "execute_result"
    }
   ],
   "source": [
    "x"
   ]
  },
  {
   "cell_type": "code",
   "execution_count": 98,
   "id": "bef9f99f",
   "metadata": {
    "hidden": true
   },
   "outputs": [
    {
     "data": {
      "text/plain": [
       "tensor([[[[0.7952, 1.2015],\n",
       "          [0.7607, 0.9374]],\n",
       "\n",
       "         [[1.2809, 1.3337],\n",
       "          [0.9543, 1.1009]]],\n",
       "\n",
       "\n",
       "        [[[0.5990, 0.8236],\n",
       "          [1.0028, 1.1051]],\n",
       "\n",
       "         [[1.0930, 1.2143],\n",
       "          [1.6136, 1.8472]]],\n",
       "\n",
       "\n",
       "        [[[0.7022, 1.1793],\n",
       "          [0.7245, 0.8580]],\n",
       "\n",
       "         [[1.8847, 0.9682],\n",
       "          [1.1172, 1.3054]]]])"
      ]
     },
     "execution_count": 98,
     "metadata": {},
     "output_type": "execute_result"
    }
   ],
   "source": [
    "x+y"
   ]
  },
  {
   "cell_type": "code",
   "execution_count": 99,
   "id": "2583c451",
   "metadata": {
    "hidden": true
   },
   "outputs": [],
   "source": [
    "optimizer = optim.SGD(model.parameters(), lr=learning_rate)\n",
    "x, y, _, _ = load_data(True)"
   ]
  },
  {
   "cell_type": "code",
   "execution_count": 100,
   "id": "ecf55d5b",
   "metadata": {
    "hidden": true
   },
   "outputs": [],
   "source": [
    "def train_with_PyTorch_SGD(x,y):\n",
    "    \n",
    "    for epoch in range(epochs):\n",
    "        y_pred = model(x)\n",
    "        loss = criterion(y_pred, y)\n",
    "        optimizer.zero_grad()\n",
    "        loss.backward()\n",
    "        optimizer.step()\n",
    "            \n",
    "        if epoch % 100 == 0:\n",
    "            print(loss)"
   ]
  },
  {
   "cell_type": "code",
   "execution_count": 101,
   "id": "ecaddcb4",
   "metadata": {
    "hidden": true,
    "scrolled": true
   },
   "outputs": [
    {
     "ename": "RuntimeError",
     "evalue": "Found dtype Long but expected Float",
     "output_type": "error",
     "traceback": [
      "\u001b[0;31m---------------------------------------------------------------------------\u001b[0m",
      "\u001b[0;31mRuntimeError\u001b[0m                              Traceback (most recent call last)",
      "Cell \u001b[0;32mIn[101], line 1\u001b[0m\n\u001b[0;32m----> 1\u001b[0m \u001b[43mtrain_with_PyTorch_SGD\u001b[49m\u001b[43m(\u001b[49m\u001b[43mx\u001b[49m\u001b[43m,\u001b[49m\u001b[43my\u001b[49m\u001b[43m)\u001b[49m\n",
      "Cell \u001b[0;32mIn[100], line 7\u001b[0m, in \u001b[0;36mtrain_with_PyTorch_SGD\u001b[0;34m(x, y)\u001b[0m\n\u001b[1;32m      5\u001b[0m loss \u001b[38;5;241m=\u001b[39m criterion(y_pred, y)\n\u001b[1;32m      6\u001b[0m optimizer\u001b[38;5;241m.\u001b[39mzero_grad()\n\u001b[0;32m----> 7\u001b[0m \u001b[43mloss\u001b[49m\u001b[38;5;241;43m.\u001b[39;49m\u001b[43mbackward\u001b[49m\u001b[43m(\u001b[49m\u001b[43m)\u001b[49m\n\u001b[1;32m      8\u001b[0m optimizer\u001b[38;5;241m.\u001b[39mstep()\n\u001b[1;32m     10\u001b[0m \u001b[38;5;28;01mif\u001b[39;00m epoch \u001b[38;5;241m%\u001b[39m \u001b[38;5;241m100\u001b[39m \u001b[38;5;241m==\u001b[39m \u001b[38;5;241m0\u001b[39m:\n",
      "File \u001b[0;32m/Library/Frameworks/Python.framework/Versions/3.11/lib/python3.11/site-packages/torch/_tensor.py:525\u001b[0m, in \u001b[0;36mTensor.backward\u001b[0;34m(self, gradient, retain_graph, create_graph, inputs)\u001b[0m\n\u001b[1;32m    515\u001b[0m \u001b[38;5;28;01mif\u001b[39;00m has_torch_function_unary(\u001b[38;5;28mself\u001b[39m):\n\u001b[1;32m    516\u001b[0m     \u001b[38;5;28;01mreturn\u001b[39;00m handle_torch_function(\n\u001b[1;32m    517\u001b[0m         Tensor\u001b[38;5;241m.\u001b[39mbackward,\n\u001b[1;32m    518\u001b[0m         (\u001b[38;5;28mself\u001b[39m,),\n\u001b[0;32m   (...)\u001b[0m\n\u001b[1;32m    523\u001b[0m         inputs\u001b[38;5;241m=\u001b[39minputs,\n\u001b[1;32m    524\u001b[0m     )\n\u001b[0;32m--> 525\u001b[0m \u001b[43mtorch\u001b[49m\u001b[38;5;241;43m.\u001b[39;49m\u001b[43mautograd\u001b[49m\u001b[38;5;241;43m.\u001b[39;49m\u001b[43mbackward\u001b[49m\u001b[43m(\u001b[49m\n\u001b[1;32m    526\u001b[0m \u001b[43m    \u001b[49m\u001b[38;5;28;43mself\u001b[39;49m\u001b[43m,\u001b[49m\u001b[43m \u001b[49m\u001b[43mgradient\u001b[49m\u001b[43m,\u001b[49m\u001b[43m \u001b[49m\u001b[43mretain_graph\u001b[49m\u001b[43m,\u001b[49m\u001b[43m \u001b[49m\u001b[43mcreate_graph\u001b[49m\u001b[43m,\u001b[49m\u001b[43m \u001b[49m\u001b[43minputs\u001b[49m\u001b[38;5;241;43m=\u001b[39;49m\u001b[43minputs\u001b[49m\n\u001b[1;32m    527\u001b[0m \u001b[43m\u001b[49m\u001b[43m)\u001b[49m\n",
      "File \u001b[0;32m/Library/Frameworks/Python.framework/Versions/3.11/lib/python3.11/site-packages/torch/autograd/__init__.py:267\u001b[0m, in \u001b[0;36mbackward\u001b[0;34m(tensors, grad_tensors, retain_graph, create_graph, grad_variables, inputs)\u001b[0m\n\u001b[1;32m    262\u001b[0m     retain_graph \u001b[38;5;241m=\u001b[39m create_graph\n\u001b[1;32m    264\u001b[0m \u001b[38;5;66;03m# The reason we repeat the same comment below is that\u001b[39;00m\n\u001b[1;32m    265\u001b[0m \u001b[38;5;66;03m# some Python versions print out the first line of a multi-line function\u001b[39;00m\n\u001b[1;32m    266\u001b[0m \u001b[38;5;66;03m# calls in the traceback and some print out the last line\u001b[39;00m\n\u001b[0;32m--> 267\u001b[0m \u001b[43m_engine_run_backward\u001b[49m\u001b[43m(\u001b[49m\n\u001b[1;32m    268\u001b[0m \u001b[43m    \u001b[49m\u001b[43mtensors\u001b[49m\u001b[43m,\u001b[49m\n\u001b[1;32m    269\u001b[0m \u001b[43m    \u001b[49m\u001b[43mgrad_tensors_\u001b[49m\u001b[43m,\u001b[49m\n\u001b[1;32m    270\u001b[0m \u001b[43m    \u001b[49m\u001b[43mretain_graph\u001b[49m\u001b[43m,\u001b[49m\n\u001b[1;32m    271\u001b[0m \u001b[43m    \u001b[49m\u001b[43mcreate_graph\u001b[49m\u001b[43m,\u001b[49m\n\u001b[1;32m    272\u001b[0m \u001b[43m    \u001b[49m\u001b[43minputs\u001b[49m\u001b[43m,\u001b[49m\n\u001b[1;32m    273\u001b[0m \u001b[43m    \u001b[49m\u001b[43mallow_unreachable\u001b[49m\u001b[38;5;241;43m=\u001b[39;49m\u001b[38;5;28;43;01mTrue\u001b[39;49;00m\u001b[43m,\u001b[49m\n\u001b[1;32m    274\u001b[0m \u001b[43m    \u001b[49m\u001b[43maccumulate_grad\u001b[49m\u001b[38;5;241;43m=\u001b[39;49m\u001b[38;5;28;43;01mTrue\u001b[39;49;00m\u001b[43m,\u001b[49m\n\u001b[1;32m    275\u001b[0m \u001b[43m\u001b[49m\u001b[43m)\u001b[49m\n",
      "File \u001b[0;32m/Library/Frameworks/Python.framework/Versions/3.11/lib/python3.11/site-packages/torch/autograd/graph.py:744\u001b[0m, in \u001b[0;36m_engine_run_backward\u001b[0;34m(t_outputs, *args, **kwargs)\u001b[0m\n\u001b[1;32m    742\u001b[0m     unregister_hooks \u001b[38;5;241m=\u001b[39m _register_logging_hooks_on_whole_graph(t_outputs)\n\u001b[1;32m    743\u001b[0m \u001b[38;5;28;01mtry\u001b[39;00m:\n\u001b[0;32m--> 744\u001b[0m     \u001b[38;5;28;01mreturn\u001b[39;00m \u001b[43mVariable\u001b[49m\u001b[38;5;241;43m.\u001b[39;49m\u001b[43m_execution_engine\u001b[49m\u001b[38;5;241;43m.\u001b[39;49m\u001b[43mrun_backward\u001b[49m\u001b[43m(\u001b[49m\u001b[43m  \u001b[49m\u001b[38;5;66;43;03m# Calls into the C++ engine to run the backward pass\u001b[39;49;00m\n\u001b[1;32m    745\u001b[0m \u001b[43m        \u001b[49m\u001b[43mt_outputs\u001b[49m\u001b[43m,\u001b[49m\u001b[43m \u001b[49m\u001b[38;5;241;43m*\u001b[39;49m\u001b[43margs\u001b[49m\u001b[43m,\u001b[49m\u001b[43m \u001b[49m\u001b[38;5;241;43m*\u001b[39;49m\u001b[38;5;241;43m*\u001b[39;49m\u001b[43mkwargs\u001b[49m\n\u001b[1;32m    746\u001b[0m \u001b[43m    \u001b[49m\u001b[43m)\u001b[49m  \u001b[38;5;66;03m# Calls into the C++ engine to run the backward pass\u001b[39;00m\n\u001b[1;32m    747\u001b[0m \u001b[38;5;28;01mfinally\u001b[39;00m:\n\u001b[1;32m    748\u001b[0m     \u001b[38;5;28;01mif\u001b[39;00m attach_logging_hooks:\n",
      "\u001b[0;31mRuntimeError\u001b[0m: Found dtype Long but expected Float"
     ]
    }
   ],
   "source": [
    "train_with_PyTorch_SGD(x,y)"
   ]
  },
  {
   "cell_type": "code",
   "execution_count": 102,
   "id": "77b12965",
   "metadata": {
    "hidden": true
   },
   "outputs": [
    {
     "data": {
      "text/plain": [
       "torch.Size([120])"
      ]
     },
     "execution_count": 102,
     "metadata": {},
     "output_type": "execute_result"
    }
   ],
   "source": [
    "y.shape"
   ]
  },
  {
   "cell_type": "code",
   "execution_count": 103,
   "id": "b121d69f",
   "metadata": {
    "hidden": true
   },
   "outputs": [
    {
     "data": {
      "text/plain": [
       "torch.Size([120, 1])"
      ]
     },
     "execution_count": 103,
     "metadata": {},
     "output_type": "execute_result"
    }
   ],
   "source": [
    "y = y.reshape(y.shape[0], -1)\n",
    "y.shape"
   ]
  },
  {
   "cell_type": "code",
   "execution_count": 104,
   "id": "dc2f1738",
   "metadata": {
    "hidden": true
   },
   "outputs": [
    {
     "ename": "RuntimeError",
     "evalue": "Found dtype Long but expected Float",
     "output_type": "error",
     "traceback": [
      "\u001b[0;31m---------------------------------------------------------------------------\u001b[0m",
      "\u001b[0;31mRuntimeError\u001b[0m                              Traceback (most recent call last)",
      "Cell \u001b[0;32mIn[104], line 1\u001b[0m\n\u001b[0;32m----> 1\u001b[0m \u001b[43mtrain_with_PyTorch_SGD\u001b[49m\u001b[43m(\u001b[49m\u001b[43mx\u001b[49m\u001b[43m,\u001b[49m\u001b[43my\u001b[49m\u001b[43m)\u001b[49m\n",
      "Cell \u001b[0;32mIn[100], line 7\u001b[0m, in \u001b[0;36mtrain_with_PyTorch_SGD\u001b[0;34m(x, y)\u001b[0m\n\u001b[1;32m      5\u001b[0m loss \u001b[38;5;241m=\u001b[39m criterion(y_pred, y)\n\u001b[1;32m      6\u001b[0m optimizer\u001b[38;5;241m.\u001b[39mzero_grad()\n\u001b[0;32m----> 7\u001b[0m \u001b[43mloss\u001b[49m\u001b[38;5;241;43m.\u001b[39;49m\u001b[43mbackward\u001b[49m\u001b[43m(\u001b[49m\u001b[43m)\u001b[49m\n\u001b[1;32m      8\u001b[0m optimizer\u001b[38;5;241m.\u001b[39mstep()\n\u001b[1;32m     10\u001b[0m \u001b[38;5;28;01mif\u001b[39;00m epoch \u001b[38;5;241m%\u001b[39m \u001b[38;5;241m100\u001b[39m \u001b[38;5;241m==\u001b[39m \u001b[38;5;241m0\u001b[39m:\n",
      "File \u001b[0;32m/Library/Frameworks/Python.framework/Versions/3.11/lib/python3.11/site-packages/torch/_tensor.py:525\u001b[0m, in \u001b[0;36mTensor.backward\u001b[0;34m(self, gradient, retain_graph, create_graph, inputs)\u001b[0m\n\u001b[1;32m    515\u001b[0m \u001b[38;5;28;01mif\u001b[39;00m has_torch_function_unary(\u001b[38;5;28mself\u001b[39m):\n\u001b[1;32m    516\u001b[0m     \u001b[38;5;28;01mreturn\u001b[39;00m handle_torch_function(\n\u001b[1;32m    517\u001b[0m         Tensor\u001b[38;5;241m.\u001b[39mbackward,\n\u001b[1;32m    518\u001b[0m         (\u001b[38;5;28mself\u001b[39m,),\n\u001b[0;32m   (...)\u001b[0m\n\u001b[1;32m    523\u001b[0m         inputs\u001b[38;5;241m=\u001b[39minputs,\n\u001b[1;32m    524\u001b[0m     )\n\u001b[0;32m--> 525\u001b[0m \u001b[43mtorch\u001b[49m\u001b[38;5;241;43m.\u001b[39;49m\u001b[43mautograd\u001b[49m\u001b[38;5;241;43m.\u001b[39;49m\u001b[43mbackward\u001b[49m\u001b[43m(\u001b[49m\n\u001b[1;32m    526\u001b[0m \u001b[43m    \u001b[49m\u001b[38;5;28;43mself\u001b[39;49m\u001b[43m,\u001b[49m\u001b[43m \u001b[49m\u001b[43mgradient\u001b[49m\u001b[43m,\u001b[49m\u001b[43m \u001b[49m\u001b[43mretain_graph\u001b[49m\u001b[43m,\u001b[49m\u001b[43m \u001b[49m\u001b[43mcreate_graph\u001b[49m\u001b[43m,\u001b[49m\u001b[43m \u001b[49m\u001b[43minputs\u001b[49m\u001b[38;5;241;43m=\u001b[39;49m\u001b[43minputs\u001b[49m\n\u001b[1;32m    527\u001b[0m \u001b[43m\u001b[49m\u001b[43m)\u001b[49m\n",
      "File \u001b[0;32m/Library/Frameworks/Python.framework/Versions/3.11/lib/python3.11/site-packages/torch/autograd/__init__.py:267\u001b[0m, in \u001b[0;36mbackward\u001b[0;34m(tensors, grad_tensors, retain_graph, create_graph, grad_variables, inputs)\u001b[0m\n\u001b[1;32m    262\u001b[0m     retain_graph \u001b[38;5;241m=\u001b[39m create_graph\n\u001b[1;32m    264\u001b[0m \u001b[38;5;66;03m# The reason we repeat the same comment below is that\u001b[39;00m\n\u001b[1;32m    265\u001b[0m \u001b[38;5;66;03m# some Python versions print out the first line of a multi-line function\u001b[39;00m\n\u001b[1;32m    266\u001b[0m \u001b[38;5;66;03m# calls in the traceback and some print out the last line\u001b[39;00m\n\u001b[0;32m--> 267\u001b[0m \u001b[43m_engine_run_backward\u001b[49m\u001b[43m(\u001b[49m\n\u001b[1;32m    268\u001b[0m \u001b[43m    \u001b[49m\u001b[43mtensors\u001b[49m\u001b[43m,\u001b[49m\n\u001b[1;32m    269\u001b[0m \u001b[43m    \u001b[49m\u001b[43mgrad_tensors_\u001b[49m\u001b[43m,\u001b[49m\n\u001b[1;32m    270\u001b[0m \u001b[43m    \u001b[49m\u001b[43mretain_graph\u001b[49m\u001b[43m,\u001b[49m\n\u001b[1;32m    271\u001b[0m \u001b[43m    \u001b[49m\u001b[43mcreate_graph\u001b[49m\u001b[43m,\u001b[49m\n\u001b[1;32m    272\u001b[0m \u001b[43m    \u001b[49m\u001b[43minputs\u001b[49m\u001b[43m,\u001b[49m\n\u001b[1;32m    273\u001b[0m \u001b[43m    \u001b[49m\u001b[43mallow_unreachable\u001b[49m\u001b[38;5;241;43m=\u001b[39;49m\u001b[38;5;28;43;01mTrue\u001b[39;49;00m\u001b[43m,\u001b[49m\n\u001b[1;32m    274\u001b[0m \u001b[43m    \u001b[49m\u001b[43maccumulate_grad\u001b[49m\u001b[38;5;241;43m=\u001b[39;49m\u001b[38;5;28;43;01mTrue\u001b[39;49;00m\u001b[43m,\u001b[49m\n\u001b[1;32m    275\u001b[0m \u001b[43m\u001b[49m\u001b[43m)\u001b[49m\n",
      "File \u001b[0;32m/Library/Frameworks/Python.framework/Versions/3.11/lib/python3.11/site-packages/torch/autograd/graph.py:744\u001b[0m, in \u001b[0;36m_engine_run_backward\u001b[0;34m(t_outputs, *args, **kwargs)\u001b[0m\n\u001b[1;32m    742\u001b[0m     unregister_hooks \u001b[38;5;241m=\u001b[39m _register_logging_hooks_on_whole_graph(t_outputs)\n\u001b[1;32m    743\u001b[0m \u001b[38;5;28;01mtry\u001b[39;00m:\n\u001b[0;32m--> 744\u001b[0m     \u001b[38;5;28;01mreturn\u001b[39;00m \u001b[43mVariable\u001b[49m\u001b[38;5;241;43m.\u001b[39;49m\u001b[43m_execution_engine\u001b[49m\u001b[38;5;241;43m.\u001b[39;49m\u001b[43mrun_backward\u001b[49m\u001b[43m(\u001b[49m\u001b[43m  \u001b[49m\u001b[38;5;66;43;03m# Calls into the C++ engine to run the backward pass\u001b[39;49;00m\n\u001b[1;32m    745\u001b[0m \u001b[43m        \u001b[49m\u001b[43mt_outputs\u001b[49m\u001b[43m,\u001b[49m\u001b[43m \u001b[49m\u001b[38;5;241;43m*\u001b[39;49m\u001b[43margs\u001b[49m\u001b[43m,\u001b[49m\u001b[43m \u001b[49m\u001b[38;5;241;43m*\u001b[39;49m\u001b[38;5;241;43m*\u001b[39;49m\u001b[43mkwargs\u001b[49m\n\u001b[1;32m    746\u001b[0m \u001b[43m    \u001b[49m\u001b[43m)\u001b[49m  \u001b[38;5;66;03m# Calls into the C++ engine to run the backward pass\u001b[39;00m\n\u001b[1;32m    747\u001b[0m \u001b[38;5;28;01mfinally\u001b[39;00m:\n\u001b[1;32m    748\u001b[0m     \u001b[38;5;28;01mif\u001b[39;00m attach_logging_hooks:\n",
      "\u001b[0;31mRuntimeError\u001b[0m: Found dtype Long but expected Float"
     ]
    }
   ],
   "source": [
    "train_with_PyTorch_SGD(x,y)"
   ]
  },
  {
   "cell_type": "code",
   "execution_count": 129,
   "id": "ef01fd9b",
   "metadata": {
    "hidden": true
   },
   "outputs": [],
   "source": [
    "x, y, x_valid, y_valid = load_data(True)"
   ]
  },
  {
   "cell_type": "code",
   "execution_count": 130,
   "id": "9eca3f44",
   "metadata": {
    "hidden": true
   },
   "outputs": [
    {
     "data": {
      "text/plain": [
       "torch.Size([30])"
      ]
     },
     "execution_count": 130,
     "metadata": {},
     "output_type": "execute_result"
    }
   ],
   "source": [
    "y_valid.shape"
   ]
  },
  {
   "cell_type": "markdown",
   "id": "b8ed00c4",
   "metadata": {
    "hidden": true
   },
   "source": [
    "## Actually Working Neural Net"
   ]
  },
  {
   "cell_type": "code",
   "execution_count": 159,
   "id": "3904d398",
   "metadata": {
    "hidden": true
   },
   "outputs": [],
   "source": [
    "class IrisDataNeuralNet(nn.Module):\n",
    "    \n",
    "    def __init__(self):\n",
    "        super().__init__()\n",
    "        self.fc1 = nn.Linear(4,10)\n",
    "        self.fc2 = nn.Linear(10,3)\n",
    "        \n",
    "    def forward(self, x):\n",
    "        x = self.fc1(x)\n",
    "        x = self.fc2(x)\n",
    "        return x"
   ]
  },
  {
   "cell_type": "code",
   "execution_count": null,
   "id": "9b127418",
   "metadata": {
    "hidden": true
   },
   "outputs": [],
   "source": [
    "for i in rage(50):\n",
    "    mdl = IrisDataNeuralNet()\n",
    "    criterion = nn.CrossEntropyLoss()\n",
    "    optimizer = optim.SGD(mdl.parameters(), lr=0.01)\n",
    "    train(epochs, mdl, x_train, y_train, criterion, optimizer)"
   ]
  },
  {
   "cell_type": "code",
   "execution_count": null,
   "id": "43243a20",
   "metadata": {
    "hidden": true
   },
   "outputs": [],
   "source": []
  },
  {
   "cell_type": "code",
   "execution_count": 160,
   "id": "6a60d385",
   "metadata": {
    "hidden": true
   },
   "outputs": [],
   "source": [
    "mdl = IrisDataNeuralNet()\n",
    "criterion = nn.CrossEntropyLoss()\n",
    "optimizer = optim.SGD(mdl.parameters(), lr=0.01)"
   ]
  },
  {
   "cell_type": "code",
   "execution_count": 133,
   "id": "064254a0",
   "metadata": {
    "hidden": true
   },
   "outputs": [],
   "source": [
    "epochs = 30"
   ]
  },
  {
   "cell_type": "code",
   "execution_count": 161,
   "id": "979c0ebb",
   "metadata": {
    "hidden": true
   },
   "outputs": [],
   "source": []
  },
  {
   "cell_type": "code",
   "execution_count": 162,
   "id": "a8c4d3ef",
   "metadata": {
    "hidden": true
   },
   "outputs": [],
   "source": [
    "def train(epochs, mdl, x, y, criterion, optimizer):\n",
    "    for epoch in range(epochs):\n",
    "        prediction = mdl(x)\n",
    "        loss = criterion(prediction, y)\n",
    "        optimizer.zero_grad()\n",
    "        loss.backward()\n",
    "        optimizer.step()\n",
    "        \n",
    "#         if epoch % 100 == 0:\n",
    "#             print(loss)\n",
    "    avg_loss.append(loss.item())"
   ]
  },
  {
   "cell_type": "code",
   "execution_count": 135,
   "id": "54d5e194",
   "metadata": {
    "hidden": true
   },
   "outputs": [],
   "source": [
    "x_train, y_train, x_valid, y_valid = load_data()"
   ]
  },
  {
   "cell_type": "code",
   "execution_count": 136,
   "id": "6d72d9f7",
   "metadata": {
    "hidden": true
   },
   "outputs": [
    {
     "name": "stdout",
     "output_type": "stream",
     "text": [
      "tensor(1.2435, grad_fn=<NllLossBackward0>)\n",
      "tensor(1.0797, grad_fn=<NllLossBackward0>)\n",
      "tensor(1.0030, grad_fn=<NllLossBackward0>)\n"
     ]
    }
   ],
   "source": [
    "train(epochs, mdl, x_train, y_train, criterion, optimizer)"
   ]
  },
  {
   "cell_type": "markdown",
   "id": "a4bcce26",
   "metadata": {
    "hidden": true
   },
   "source": [
    "Why is this not working? How do u suggest I debug this?"
   ]
  },
  {
   "cell_type": "code",
   "execution_count": 181,
   "id": "7c07e8ed",
   "metadata": {
    "hidden": true
   },
   "outputs": [],
   "source": [
    "avg_loss = []\n",
    "for i in range(50):\n",
    "    mdl = IrisDataNeuralNet()\n",
    "    criterion = nn.CrossEntropyLoss()\n",
    "    optimizer = optim.SGD(mdl.parameters(), lr=0.01)\n",
    "    train(epochs, mdl, x_train, y_train, criterion, optimizer)"
   ]
  },
  {
   "cell_type": "code",
   "execution_count": 182,
   "id": "a6cdf866",
   "metadata": {
    "hidden": true
   },
   "outputs": [],
   "source": [
    "avg_loss_with_SGD = sum(avg_loss) / len(avg_loss)"
   ]
  },
  {
   "cell_type": "code",
   "execution_count": 183,
   "id": "e4e1a28d",
   "metadata": {
    "hidden": true
   },
   "outputs": [
    {
     "data": {
      "text/plain": [
       "0.9302096748352051"
      ]
     },
     "execution_count": 183,
     "metadata": {},
     "output_type": "execute_result"
    }
   ],
   "source": [
    "avg_loss_with_SGD"
   ]
  },
  {
   "cell_type": "code",
   "execution_count": 70,
   "id": "6b2aafcd",
   "metadata": {
    "code_folding": [],
    "hidden": true
   },
   "outputs": [],
   "source": [
    "def accuracy(x_valid, y_valid, mdl):\n",
    "    preds = torch.argmax(mdl(x_valid), dim=1)\n",
    "    accuracy = (preds == y_valid).float().mean().item()\n",
    "    return accuracy"
   ]
  },
  {
   "cell_type": "code",
   "execution_count": 71,
   "id": "cad999a1",
   "metadata": {
    "hidden": true
   },
   "outputs": [
    {
     "data": {
      "text/plain": [
       "1.0"
      ]
     },
     "execution_count": 71,
     "metadata": {},
     "output_type": "execute_result"
    }
   ],
   "source": [
    "accuracy(x_valid, y_valid, mdl)"
   ]
  },
  {
   "cell_type": "code",
   "execution_count": 35,
   "id": "12e089b1",
   "metadata": {
    "hidden": true
   },
   "outputs": [
    {
     "data": {
      "text/plain": [
       "tensor([1, 0, 2, 1, 1])"
      ]
     },
     "execution_count": 35,
     "metadata": {},
     "output_type": "execute_result"
    }
   ],
   "source": [
    "y_valid[:5]"
   ]
  },
  {
   "cell_type": "code",
   "execution_count": 36,
   "id": "bd393bc4",
   "metadata": {
    "hidden": true
   },
   "outputs": [
    {
     "data": {
      "text/plain": [
       "torch.Size([5, 4])"
      ]
     },
     "execution_count": 36,
     "metadata": {},
     "output_type": "execute_result"
    }
   ],
   "source": [
    "ds = x_valid[:5]\n",
    "ds.shape"
   ]
  },
  {
   "cell_type": "code",
   "execution_count": 37,
   "id": "4e888d90",
   "metadata": {
    "hidden": true
   },
   "outputs": [
    {
     "data": {
      "text/plain": [
       "torch.Size([5, 3])"
      ]
     },
     "execution_count": 37,
     "metadata": {},
     "output_type": "execute_result"
    }
   ],
   "source": [
    "preds = mdl(ds)\n",
    "preds.shape"
   ]
  },
  {
   "cell_type": "code",
   "execution_count": 38,
   "id": "5302fbdd",
   "metadata": {
    "hidden": true
   },
   "outputs": [
    {
     "data": {
      "text/plain": [
       "tensor([1, 0, 2, 1, 1])"
      ]
     },
     "execution_count": 38,
     "metadata": {},
     "output_type": "execute_result"
    }
   ],
   "source": [
    "preds.argmax(dim=1)"
   ]
  },
  {
   "cell_type": "markdown",
   "id": "4d73fae1",
   "metadata": {
    "heading_collapsed": true
   },
   "source": [
    "# SGD with Momentum\n",
    "\n",
    "Momentum helps accelerate SGD in the relevant direction and dampens oscillations."
   ]
  },
  {
   "cell_type": "markdown",
   "id": "2dadde01",
   "metadata": {
    "hidden": true
   },
   "source": [
    "Using momentum, the optimizer keeps track of the derivative calculated so far. The next time we will want to modify the weights, a big part of the change will be determined by the saved derivatives."
   ]
  },
  {
   "cell_type": "markdown",
   "id": "414e1282",
   "metadata": {
    "hidden": true
   },
   "source": [
    "Optimizer works by keeping track of the derivative I had so far. The next time I want to change my weights, I'll take a big portion of the previous derivative and only a small portion of the current one"
   ]
  },
  {
   "attachments": {
    "image.png": {
     "image/png": "[encoded data removed]"
    }
   },
   "cell_type": "markdown",
   "id": "d185060b",
   "metadata": {
    "hidden": true
   },
   "source": [
    "![image.png](attachment:image.png)"
   ]
  },
  {
   "cell_type": "markdown",
   "id": "46899228",
   "metadata": {
    "hidden": true
   },
   "source": [
    "## Self Implementation"
   ]
  },
  {
   "cell_type": "code",
   "execution_count": 137,
   "id": "300677b5",
   "metadata": {
    "hidden": true
   },
   "outputs": [],
   "source": [
    "gradients = []"
   ]
  },
  {
   "cell_type": "code",
   "execution_count": 198,
   "id": "fe41252e",
   "metadata": {
    "hidden": true
   },
   "outputs": [],
   "source": [
    "mdl = IrisDataNeuralNet()"
   ]
  },
  {
   "cell_type": "code",
   "execution_count": 187,
   "id": "dcd492b8",
   "metadata": {
    "hidden": true
   },
   "outputs": [],
   "source": [
    "def train_with_momentum(epochs, mdl, x, criterion, y, momentum, lr):\n",
    "    \n",
    "    velocity = {param: torch.zeros_like(param) for param in mdl.parameters()}\n",
    "    \n",
    "    for epoch in range(epochs):\n",
    "        preds = mdl(x)\n",
    "        loss = criterion(preds, y)\n",
    "        mdl.zero_grad()\n",
    "        loss.backward()\n",
    "        \n",
    "        with torch.no_grad():\n",
    "            for param in mdl.parameters():\n",
    "                if param.grad is not None:\n",
    "                    gradients.append(param.grad.sum())\n",
    "                    velocity[param] = momentum * velocity[param] - lr * param.grad\n",
    "                    param += velocity[param]\n",
    "                    \n",
    "    acc = accuracy(x_valid, y_valid, mdl)\n",
    "    return acc      "
   ]
  },
  {
   "cell_type": "code",
   "execution_count": 188,
   "id": "dfa7a3f9",
   "metadata": {
    "hidden": true
   },
   "outputs": [
    {
     "data": {
      "text/plain": [
       "{Parameter containing:\n",
       " tensor([[-0.0835, -0.2612,  0.4457,  0.2817],\n",
       "         [-0.1185, -0.0292, -0.0746,  0.0384],\n",
       "         [-0.0377, -0.0602, -0.2956,  0.0724],\n",
       "         [-0.2810,  0.1186,  0.2420,  0.4677],\n",
       "         [-0.3168,  0.0344, -0.0490, -0.0829],\n",
       "         [ 0.3784, -0.0555, -0.3824, -0.1063],\n",
       "         [ 0.3696,  0.3712, -0.5937, -0.5326],\n",
       "         [ 0.1440, -0.0105,  0.3460, -0.4591],\n",
       "         [-0.0807, -0.1979, -0.2127,  0.2820],\n",
       "         [ 0.3398,  0.0446, -0.7274, -0.2301]], requires_grad=True): tensor([[0., 0., 0., 0.],\n",
       "         [0., 0., 0., 0.],\n",
       "         [0., 0., 0., 0.],\n",
       "         [0., 0., 0., 0.],\n",
       "         [0., 0., 0., 0.],\n",
       "         [0., 0., 0., 0.],\n",
       "         [0., 0., 0., 0.],\n",
       "         [0., 0., 0., 0.],\n",
       "         [0., 0., 0., 0.],\n",
       "         [0., 0., 0., 0.]]),\n",
       " Parameter containing:\n",
       " tensor([ 0.1844, -0.2918, -0.2270,  0.0637, -0.1749,  0.3185,  0.3807,  0.0364,\n",
       "         -0.2754, -0.0485], requires_grad=True): tensor([0., 0., 0., 0., 0., 0., 0., 0., 0., 0.]),\n",
       " Parameter containing:\n",
       " tensor([[-0.2513,  0.0572,  0.2421, -0.0438, -0.0407,  0.3612,  0.4360, -0.1603,\n",
       "           0.0719,  0.4679],\n",
       "         [ 0.3447, -0.0030, -0.0553,  0.3177, -0.2089,  0.1284, -0.1351,  0.0792,\n",
       "           0.1271, -0.1385],\n",
       "         [ 0.4022, -0.0642,  0.0187,  0.3047, -0.0745, -0.1055, -0.7010, -0.0659,\n",
       "          -0.0924, -0.3705]], requires_grad=True): tensor([[0., 0., 0., 0., 0., 0., 0., 0., 0., 0.],\n",
       "         [0., 0., 0., 0., 0., 0., 0., 0., 0., 0.],\n",
       "         [0., 0., 0., 0., 0., 0., 0., 0., 0., 0.]]),\n",
       " Parameter containing:\n",
       " tensor([ 0.1262, -0.1722, -0.3178], requires_grad=True): tensor([0., 0., 0.])}"
      ]
     },
     "execution_count": 188,
     "metadata": {},
     "output_type": "execute_result"
    }
   ],
   "source": [
    "velocity = {param: torch.zeros_like(param) for param in mdl.parameters()}\n",
    "velocity"
   ]
  },
  {
   "cell_type": "code",
   "execution_count": 189,
   "id": "40d57d23",
   "metadata": {
    "hidden": true
   },
   "outputs": [
    {
     "name": "stdout",
     "output_type": "stream",
     "text": [
      "Parameter containing:\n",
      "tensor([[-0.0835, -0.2612,  0.4457,  0.2817],\n",
      "        [-0.1185, -0.0292, -0.0746,  0.0384],\n",
      "        [-0.0377, -0.0602, -0.2956,  0.0724],\n",
      "        [-0.2810,  0.1186,  0.2420,  0.4677],\n",
      "        [-0.3168,  0.0344, -0.0490, -0.0829],\n",
      "        [ 0.3784, -0.0555, -0.3824, -0.1063],\n",
      "        [ 0.3696,  0.3712, -0.5937, -0.5326],\n",
      "        [ 0.1440, -0.0105,  0.3460, -0.4591],\n",
      "        [-0.0807, -0.1979, -0.2127,  0.2820],\n",
      "        [ 0.3398,  0.0446, -0.7274, -0.2301]], requires_grad=True)\n",
      "Parameter containing:\n",
      "tensor([ 0.1844, -0.2918, -0.2270,  0.0637, -0.1749,  0.3185,  0.3807,  0.0364,\n",
      "        -0.2754, -0.0485], requires_grad=True)\n",
      "Parameter containing:\n",
      "tensor([[-0.2513,  0.0572,  0.2421, -0.0438, -0.0407,  0.3612,  0.4360, -0.1603,\n",
      "          0.0719,  0.4679],\n",
      "        [ 0.3447, -0.0030, -0.0553,  0.3177, -0.2089,  0.1284, -0.1351,  0.0792,\n",
      "          0.1271, -0.1385],\n",
      "        [ 0.4022, -0.0642,  0.0187,  0.3047, -0.0745, -0.1055, -0.7010, -0.0659,\n",
      "         -0.0924, -0.3705]], requires_grad=True)\n",
      "Parameter containing:\n",
      "tensor([ 0.1262, -0.1722, -0.3178], requires_grad=True)\n"
     ]
    }
   ],
   "source": [
    "for param in mdl.parameters():\n",
    "    print(param)"
   ]
  },
  {
   "cell_type": "code",
   "execution_count": 190,
   "id": "eef0f875",
   "metadata": {
    "hidden": true
   },
   "outputs": [],
   "source": [
    "x_train, y_train, x_valid, y_valid = load_data()\n",
    "\n",
    "mdl = IrisDataNeuralNet()\n",
    "criterion = nn.CrossEntropyLoss()\n",
    "lr = 0.01\n",
    "optimizer = optim.SGD(mdl.parameters(), lr=lr)\n",
    "epochs = 30"
   ]
  },
  {
   "cell_type": "code",
   "execution_count": 195,
   "id": "2a77929e",
   "metadata": {
    "hidden": true
   },
   "outputs": [],
   "source": [
    "avg_loss = []\n",
    "for i in range(50):\n",
    "    mdl = IrisDataNeuralNet()\n",
    "    criterion = nn.CrossEntropyLoss()\n",
    "    loss = train_with_momentum(30, mdl, x_train, criterion, y, 0.9, lr)\n",
    "    avg_loss.append(loss)"
   ]
  },
  {
   "cell_type": "code",
   "execution_count": 196,
   "id": "9c0a4543",
   "metadata": {
    "hidden": true
   },
   "outputs": [
    {
     "data": {
      "text/plain": [
       "0.48648258447647097"
      ]
     },
     "execution_count": 196,
     "metadata": {},
     "output_type": "execute_result"
    }
   ],
   "source": [
    "sum(avg_loss) / len(avg_loss)"
   ]
  },
  {
   "cell_type": "code",
   "execution_count": 158,
   "id": "5cca82e4",
   "metadata": {
    "hidden": true,
    "scrolled": true
   },
   "outputs": [
    {
     "data": {
      "text/plain": [
       "0.8333333134651184"
      ]
     },
     "execution_count": 158,
     "metadata": {},
     "output_type": "execute_result"
    }
   ],
   "source": [
    "train_with_momentum(30, mdl, x_train, criterion, y, 0.9, lr)"
   ]
  },
  {
   "cell_type": "code",
   "execution_count": 172,
   "id": "e10b6ba6",
   "metadata": {
    "hidden": true
   },
   "outputs": [
    {
     "data": {
      "text/plain": [
       "[<matplotlib.lines.Line2D at 0x31fb63690>]"
      ]
     },
     "execution_count": 172,
     "metadata": {},
     "output_type": "execute_result"
    },
    {
     "data": {
      "image/png": "[encoded data removed]",
      "text/plain": [
       "<Figure size 640x480 with 1 Axes>"
      ]
     },
     "metadata": {},
     "output_type": "display_data"
    }
   ],
   "source": [
    "plt.plot(gradients)"
   ]
  },
  {
   "cell_type": "code",
   "execution_count": 173,
   "id": "85894238",
   "metadata": {
    "hidden": true
   },
   "outputs": [
    {
     "data": {
      "text/plain": [
       "120"
      ]
     },
     "execution_count": 173,
     "metadata": {},
     "output_type": "execute_result"
    }
   ],
   "source": [
    "len(gradients)"
   ]
  },
  {
   "cell_type": "code",
   "execution_count": 174,
   "id": "f0a65f20",
   "metadata": {
    "hidden": true
   },
   "outputs": [
    {
     "name": "stdout",
     "output_type": "stream",
     "text": [
      "0.7333333492279053\n",
      "0.8333333134651184\n",
      "0.699999988079071\n",
      "0.8333333134651184\n",
      "0.8333333134651184\n",
      "0.800000011920929\n",
      "1.0\n",
      "1.0\n",
      "0.7333333492279053\n",
      "0.7333333492279053\n"
     ]
    }
   ],
   "source": [
    "for i in range(10):\n",
    "    x_train, y_train, x_valid, y_valid = load_data()\n",
    "    mdl = IrisDataNeuralNet()\n",
    "    acc = train_with_momentum(30, mdl, x_train, criterion, y, 0.9, lr)\n",
    "    print(acc)"
   ]
  },
  {
   "cell_type": "code",
   "execution_count": 175,
   "id": "c6511ad8",
   "metadata": {
    "hidden": true
   },
   "outputs": [
    {
     "name": "stdout",
     "output_type": "stream",
     "text": [
      "0.699999988079071\n",
      "0.6666666865348816\n",
      "0.7333333492279053\n",
      "0.7333333492279053\n",
      "0.699999988079071\n",
      "0.699999988079071\n",
      "0.36666667461395264\n",
      "0.699999988079071\n",
      "0.699999988079071\n",
      "0.699999988079071\n"
     ]
    }
   ],
   "source": [
    "for i in range(10):\n",
    "    x_train, y_train, x_valid, y_valid = load_data()\n",
    "    mdl = IrisDataNeuralNet()\n",
    "    acc = train_with_momentum(30, mdl, x_train, criterion, y, 0, lr)\n",
    "    print(acc)"
   ]
  },
  {
   "cell_type": "markdown",
   "id": "6a5ffdc7",
   "metadata": {
    "hidden": true
   },
   "source": [
    "### How many parameters does the network use?"
   ]
  },
  {
   "cell_type": "markdown",
   "id": "d85c7f46",
   "metadata": {
    "hidden": true
   },
   "source": [
    "The calculation is as follows:\n",
    "- fc layer - num_inputs * num_outputs + num_outputs (assuming bias=True which is the default)"
   ]
  },
  {
   "cell_type": "code",
   "execution_count": 176,
   "id": "421cdc30",
   "metadata": {
    "hidden": true
   },
   "outputs": [
    {
     "data": {
      "text/plain": [
       "Sequential(\n",
       "  (0): Linear(in_features=4, out_features=1, bias=True)\n",
       ")"
      ]
     },
     "execution_count": 176,
     "metadata": {},
     "output_type": "execute_result"
    }
   ],
   "source": [
    "model"
   ]
  },
  {
   "cell_type": "code",
   "execution_count": 177,
   "id": "0ba0de7d",
   "metadata": {
    "hidden": true
   },
   "outputs": [],
   "source": [
    "# sum(p.numel() for p in model.parameters() if p.requires_grad)"
   ]
  },
  {
   "cell_type": "markdown",
   "id": "35cdcc44",
   "metadata": {
    "hidden": true
   },
   "source": [
    "### How many gradients matrices are there?"
   ]
  },
  {
   "cell_type": "markdown",
   "id": "62c4ae02",
   "metadata": {
    "hidden": true
   },
   "source": [
    "In each layer, PyTorch stores all params in one matrix. A matrix for weights and a matrix for bias. If we have two layers, how many param tensors do we have?"
   ]
  },
  {
   "cell_type": "code",
   "execution_count": 206,
   "id": "9af39f95",
   "metadata": {
    "hidden": true
   },
   "outputs": [
    {
     "data": {
      "text/plain": [
       "IrisDataNeuralNet(\n",
       "  (fc1): Linear(in_features=4, out_features=10, bias=True)\n",
       "  (fc2): Linear(in_features=10, out_features=3, bias=True)\n",
       ")"
      ]
     },
     "execution_count": 206,
     "metadata": {},
     "output_type": "execute_result"
    }
   ],
   "source": [
    "mdl"
   ]
  },
  {
   "cell_type": "code",
   "execution_count": 207,
   "id": "8f824810",
   "metadata": {
    "hidden": true
   },
   "outputs": [
    {
     "data": {
      "text/plain": [
       "0"
      ]
     },
     "execution_count": 207,
     "metadata": {},
     "output_type": "execute_result"
    }
   ],
   "source": [
    "sum(1 for param in mdl.parameters() if param.grad is not None)"
   ]
  },
  {
   "cell_type": "markdown",
   "id": "89abb9f3",
   "metadata": {
    "hidden": true
   },
   "source": [
    "If this is the case, why is this the size of the gradients list?\n",
    "Hint: look at the code that creates the gradients list"
   ]
  },
  {
   "cell_type": "markdown",
   "id": "ee993585",
   "metadata": {
    "heading_collapsed": true,
    "hidden": true
   },
   "source": [
    "## PyTorch Implementation"
   ]
  },
  {
   "cell_type": "code",
   "execution_count": 226,
   "id": "52c562fb",
   "metadata": {
    "hidden": true
   },
   "outputs": [],
   "source": [
    "def load_data_train_and_evaluate(momentum=0.9, epochs=30):\n",
    "    \n",
    "    x_train, y_train, x_valid, y_valid = load_data()\n",
    "    mdl = IrisDataNeuralNet()\n",
    "    criterion = nn.CrossEntropyLoss()\n",
    "    optimizer = optim.SGD(mdl.parameters(), lr=0.01, momentum=momentum)\n",
    "    \n",
    "    for epoch in range(epochs):\n",
    "        prediction = mdl(x_train)\n",
    "        loss = criterion(prediction, y_train)\n",
    "        optimizer.zero_grad()\n",
    "        loss.backward()\n",
    "        optimizer.step()\n",
    "\n",
    "    acc = accuracy(x_valid, y_valid, mdl)\n",
    "    return acc"
   ]
  },
  {
   "cell_type": "code",
   "execution_count": 227,
   "id": "feaca455",
   "metadata": {
    "hidden": true,
    "scrolled": true
   },
   "outputs": [
    {
     "data": {
      "text/plain": [
       "0.5333333611488342"
      ]
     },
     "execution_count": 227,
     "metadata": {},
     "output_type": "execute_result"
    }
   ],
   "source": [
    "load_data_train_and_evaluate(momentum=0)"
   ]
  },
  {
   "cell_type": "code",
   "execution_count": 228,
   "id": "be4c866f",
   "metadata": {
    "hidden": true
   },
   "outputs": [
    {
     "data": {
      "text/plain": [
       "1.0"
      ]
     },
     "execution_count": 228,
     "metadata": {},
     "output_type": "execute_result"
    }
   ],
   "source": [
    "load_data_train_and_evaluate(momentum=0.9)"
   ]
  },
  {
   "cell_type": "code",
   "execution_count": 229,
   "id": "26ce11a7",
   "metadata": {
    "hidden": true
   },
   "outputs": [],
   "source": [
    "def calc_avg_with_and_without_momentum(epochs=10):\n",
    "    res_without_mom = []\n",
    "    res_with_mom = []\n",
    "    \n",
    "    for i in range(epochs):\n",
    "        res_without_mom.append(load_data_train_and_evaluate())\n",
    "        res_with_mom.append(load_data_train_and_evaluate(with_momentum=True))        \n",
    "        \n",
    "    res_with_mom_avg = sum(res_with_mom) / len(res_with_mom)\n",
    "    res_without_mom_avg = sum(res_without_mom) / len(res_with_mom)\n",
    "    \n",
    "    return {'with_mom': res_with_mom_avg, 'without_mom': res_without_mom_avg}"
   ]
  },
  {
   "cell_type": "code",
   "execution_count": 230,
   "id": "3873d3c0",
   "metadata": {
    "hidden": true
   },
   "outputs": [
    {
     "ename": "TypeError",
     "evalue": "load_data_train_and_evaluate() got an unexpected keyword argument 'with_momentum'",
     "output_type": "error",
     "traceback": [
      "\u001b[0;31m---------------------------------------------------------------------------\u001b[0m",
      "\u001b[0;31mTypeError\u001b[0m                                 Traceback (most recent call last)",
      "Cell \u001b[0;32mIn[230], line 1\u001b[0m\n\u001b[0;32m----> 1\u001b[0m \u001b[43mcalc_avg_with_and_without_momentum\u001b[49m\u001b[43m(\u001b[49m\u001b[43m)\u001b[49m\n",
      "Cell \u001b[0;32mIn[229], line 7\u001b[0m, in \u001b[0;36mcalc_avg_with_and_without_momentum\u001b[0;34m(epochs)\u001b[0m\n\u001b[1;32m      5\u001b[0m \u001b[38;5;28;01mfor\u001b[39;00m i \u001b[38;5;129;01min\u001b[39;00m \u001b[38;5;28mrange\u001b[39m(epochs):\n\u001b[1;32m      6\u001b[0m     res_without_mom\u001b[38;5;241m.\u001b[39mappend(load_data_train_and_evaluate())\n\u001b[0;32m----> 7\u001b[0m     res_with_mom\u001b[38;5;241m.\u001b[39mappend(\u001b[43mload_data_train_and_evaluate\u001b[49m\u001b[43m(\u001b[49m\u001b[43mwith_momentum\u001b[49m\u001b[38;5;241;43m=\u001b[39;49m\u001b[38;5;28;43;01mTrue\u001b[39;49;00m\u001b[43m)\u001b[49m)        \n\u001b[1;32m      9\u001b[0m res_with_mom_avg \u001b[38;5;241m=\u001b[39m \u001b[38;5;28msum\u001b[39m(res_with_mom) \u001b[38;5;241m/\u001b[39m \u001b[38;5;28mlen\u001b[39m(res_with_mom)\n\u001b[1;32m     10\u001b[0m res_without_mom_avg \u001b[38;5;241m=\u001b[39m \u001b[38;5;28msum\u001b[39m(res_without_mom) \u001b[38;5;241m/\u001b[39m \u001b[38;5;28mlen\u001b[39m(res_with_mom)\n",
      "\u001b[0;31mTypeError\u001b[0m: load_data_train_and_evaluate() got an unexpected keyword argument 'with_momentum'"
     ]
    }
   ],
   "source": [
    "calc_avg_with_and_without_momentum()"
   ]
  },
  {
   "cell_type": "markdown",
   "id": "c71cfccb",
   "metadata": {
    "heading_collapsed": true
   },
   "source": [
    "# Adagrad"
   ]
  },
  {
   "cell_type": "markdown",
   "id": "9e45b0f2",
   "metadata": {
    "hidden": true
   },
   "source": [
    "Adagrad adapts the learning rate for each parameter based on the history of squared gradients, making it suitable for sparse data.\n",
    "\n",
    "## PyTorch Implementation\n"
   ]
  },
  {
   "cell_type": "code",
   "execution_count": 263,
   "id": "daa1fa56",
   "metadata": {
    "hidden": true
   },
   "outputs": [],
   "source": [
    "mdl = IrisDataNeuralNet()"
   ]
  },
  {
   "cell_type": "code",
   "execution_count": 264,
   "id": "93973940",
   "metadata": {
    "hidden": true
   },
   "outputs": [],
   "source": [
    "x_train, y_train, x_valid, y_valid = load_data()"
   ]
  },
  {
   "cell_type": "code",
   "execution_count": 260,
   "id": "42b3dd46",
   "metadata": {
    "hidden": true
   },
   "outputs": [],
   "source": [
    "optimizer = optim.Adagrad(model.parameters(), lr=0.01)"
   ]
  },
  {
   "cell_type": "code",
   "execution_count": 266,
   "id": "a805f775",
   "metadata": {
    "hidden": true
   },
   "outputs": [
    {
     "name": "stdout",
     "output_type": "stream",
     "text": [
      "tensor([0, 1, 2])\n"
     ]
    }
   ],
   "source": [
    "print(y_train.unique())\n"
   ]
  },
  {
   "cell_type": "code",
   "execution_count": 267,
   "id": "f7f6662c",
   "metadata": {
    "hidden": true
   },
   "outputs": [
    {
     "data": {
      "text/plain": [
       "Sequential(\n",
       "  (0): Linear(in_features=4, out_features=1, bias=True)\n",
       ")"
      ]
     },
     "execution_count": 267,
     "metadata": {},
     "output_type": "execute_result"
    }
   ],
   "source": [
    "model"
   ]
  },
  {
   "cell_type": "code",
   "execution_count": 281,
   "id": "9b6a9120",
   "metadata": {
    "hidden": true
   },
   "outputs": [],
   "source": [
    "avg_loss = []\n",
    "for i in range(50):\n",
    "    mdl = IrisDataNeuralNet()\n",
    "    criterion = nn.CrossEntropyLoss()\n",
    "    optimizer = optim.Adagrad(mdl.parameters(), lr=0.01)\n",
    "    train(epochs, mdl, x_train, y_train, criterion, optimizer)"
   ]
  },
  {
   "cell_type": "code",
   "execution_count": 282,
   "id": "0708a77b",
   "metadata": {
    "hidden": true
   },
   "outputs": [
    {
     "data": {
      "text/plain": [
       "0.8302608633041382"
      ]
     },
     "execution_count": 282,
     "metadata": {},
     "output_type": "execute_result"
    }
   ],
   "source": [
    "sum(avg_loss) / len(avg_loss)"
   ]
  },
  {
   "cell_type": "code",
   "execution_count": 272,
   "id": "c664e52a",
   "metadata": {
    "hidden": true
   },
   "outputs": [
    {
     "data": {
      "text/plain": [
       "Sequential(\n",
       "  (0): Linear(in_features=4, out_features=1, bias=True)\n",
       ")"
      ]
     },
     "execution_count": 272,
     "metadata": {},
     "output_type": "execute_result"
    }
   ],
   "source": [
    "model"
   ]
  },
  {
   "cell_type": "code",
   "execution_count": 273,
   "id": "5f18e76c",
   "metadata": {
    "hidden": true
   },
   "outputs": [
    {
     "data": {
      "text/plain": [
       "IrisDataNeuralNet(\n",
       "  (fc1): Linear(in_features=4, out_features=10, bias=True)\n",
       "  (fc2): Linear(in_features=10, out_features=3, bias=True)\n",
       ")"
      ]
     },
     "execution_count": 273,
     "metadata": {},
     "output_type": "execute_result"
    }
   ],
   "source": [
    "mdl"
   ]
  },
  {
   "cell_type": "code",
   "execution_count": 274,
   "id": "f25fcbf9",
   "metadata": {
    "hidden": true
   },
   "outputs": [
    {
     "name": "stdout",
     "output_type": "stream",
     "text": [
      "Adagrad step completed. Loss: 0.937211275100708\n"
     ]
    }
   ],
   "source": [
    "\n",
    "optimizer.zero_grad()\n",
    "output = mdl(x_train)\n",
    "# from pdb import set_trace\n",
    "# set_trace()\n",
    "loss = criterion(output, y_train)\n",
    "loss.backward()\n",
    "optimizer.step()\n",
    "\n",
    "\n",
    "print(\"Adagrad step completed. Loss:\", loss.item())"
   ]
  },
  {
   "cell_type": "code",
   "execution_count": 268,
   "id": "12e389c7",
   "metadata": {
    "hidden": true
   },
   "outputs": [
    {
     "name": "stdout",
     "output_type": "stream",
     "text": [
      "Adagrad step completed. Loss: 1.2488263845443726\n"
     ]
    }
   ],
   "source": [
    "\n",
    "optimizer.zero_grad()\n",
    "output = mdl(x_train)\n",
    "loss = criterion(output, y_train)\n",
    "loss.backward()\n",
    "optimizer.step()\n",
    "\n",
    "\n",
    "print(\"Adagrad step completed. Loss:\", loss.item())"
   ]
  },
  {
   "cell_type": "markdown",
   "id": "ea5dfe4f",
   "metadata": {},
   "source": [
    "# RMSprop - Root Mean Square Propogation"
   ]
  },
  {
   "cell_type": "markdown",
   "id": "1737dc48",
   "metadata": {},
   "source": [
    "\n",
    "RMSprop divides the learning rate by an exponentially decaying average of squared gradients. It is often used in RNNs and handles non-stationary objectives well.\n",
    "\n",
    "## PyTorch Implementation\n"
   ]
  },
  {
   "cell_type": "code",
   "execution_count": 283,
   "id": "bd8c0747",
   "metadata": {},
   "outputs": [],
   "source": [
    "def load_data_train_and_evaluate(epochs=30):\n",
    "    \n",
    "    x_train, y_train, x_valid, y_valid = load_data()\n",
    "    mdl = IrisDataNeuralNet()\n",
    "    criterion = nn.CrossEntropyLoss()\n",
    "    optimizer = optim.RMSprop(model.parameters(), lr=0.01)\n",
    "    \n",
    "    for epoch in range(epochs):\n",
    "        prediction = mdl(x_train)\n",
    "        loss = criterion(prediction, y_train)\n",
    "        optimizer.zero_grad()\n",
    "        loss.backward()\n",
    "        optimizer.step()\n",
    "\n",
    "    acc = accuracy(x_valid, y_valid, mdl)\n",
    "    return acc"
   ]
  },
  {
   "cell_type": "code",
   "execution_count": 284,
   "id": "0f44460d",
   "metadata": {},
   "outputs": [
    {
     "data": {
      "text/plain": [
       "0.30000001192092896"
      ]
     },
     "execution_count": 284,
     "metadata": {},
     "output_type": "execute_result"
    }
   ],
   "source": [
    "load_data_train_and_evaluate()"
   ]
  },
  {
   "cell_type": "code",
   "execution_count": 293,
   "id": "98c79589",
   "metadata": {},
   "outputs": [],
   "source": [
    "avg_loss = []\n",
    "for i in range(50):\n",
    "    mdl = IrisDataNeuralNet()\n",
    "    criterion = nn.CrossEntropyLoss()\n",
    "    optimizer = optim.RMSprop(mdl.parameters(), lr=0.01)\n",
    "    train(epochs, mdl, x_train, y_train, criterion, optimizer)"
   ]
  },
  {
   "cell_type": "code",
   "execution_count": 294,
   "id": "ad1e5f25",
   "metadata": {},
   "outputs": [
    {
     "data": {
      "text/plain": [
       "0.36562441289424896"
      ]
     },
     "execution_count": 294,
     "metadata": {},
     "output_type": "execute_result"
    }
   ],
   "source": [
    "sum(avg_loss) / len(avg_loss)"
   ]
  },
  {
   "cell_type": "markdown",
   "id": "7087de97",
   "metadata": {},
   "source": [
    "# Adam"
   ]
  },
  {
   "cell_type": "markdown",
   "id": "04c211fe",
   "metadata": {},
   "source": [
    "Adam combines the benefits of RMSprop and momentum by using adaptive learning rates and momentum.\n",
    "\n",
    "## PyTorch Implementation\n"
   ]
  },
  {
   "cell_type": "code",
   "execution_count": 295,
   "id": "542d9bb0",
   "metadata": {},
   "outputs": [],
   "source": [
    "def load_data_train_and_evaluate(epochs=30):\n",
    "    \n",
    "    x_train, y_train, x_valid, y_valid = load_data()\n",
    "    mdl = IrisDataNeuralNet()\n",
    "    criterion = nn.CrossEntropyLoss()\n",
    "    optimizer = optim.Adam(model.parameters(), lr=0.001)\n",
    "    \n",
    "    for epoch in range(epochs):\n",
    "        prediction = mdl(x_train)\n",
    "        loss = criterion(prediction, y_train)\n",
    "        optimizer.zero_grad()\n",
    "        loss.backward()\n",
    "        optimizer.step()\n",
    "\n",
    "    acc = accuracy(x_valid, y_valid, mdl)\n",
    "    return acc"
   ]
  },
  {
   "cell_type": "code",
   "execution_count": 305,
   "id": "8c21ed87",
   "metadata": {},
   "outputs": [],
   "source": [
    "avg_loss = []\n",
    "for i in range(50):\n",
    "    mdl = IrisDataNeuralNet()\n",
    "    criterion = nn.CrossEntropyLoss()\n",
    "    optimizer = optim.Adam(mdl.parameters(), lr=0.01)\n",
    "    train(epochs, mdl, x_train, y_train, criterion, optimizer)"
   ]
  },
  {
   "cell_type": "code",
   "execution_count": 306,
   "id": "6fb5a874",
   "metadata": {},
   "outputs": [
    {
     "data": {
      "text/plain": [
       "0.5031394863128662"
      ]
     },
     "execution_count": 306,
     "metadata": {},
     "output_type": "execute_result"
    }
   ],
   "source": [
    "sum(avg_loss) / len(avg_loss)"
   ]
  },
  {
   "cell_type": "code",
   "execution_count": null,
   "id": "606bf8bc",
   "metadata": {},
   "outputs": [],
   "source": []
  },
  {
   "cell_type": "code",
   "execution_count": null,
   "id": "006788d3",
   "metadata": {},
   "outputs": [],
   "source": []
  },
  {
   "cell_type": "code",
   "execution_count": 296,
   "id": "d938fac7",
   "metadata": {
    "scrolled": true
   },
   "outputs": [
    {
     "name": "stdout",
     "output_type": "stream",
     "text": [
      "0.30000001192092896\n",
      "0.36666667461395264\n",
      "0.5333333611488342\n",
      "0.30000001192092896\n",
      "0.0\n",
      "0.36666667461395264\n",
      "0.4333333373069763\n",
      "0.3333333432674408\n",
      "0.36666667461395264\n",
      "0.3333333432674408\n"
     ]
    }
   ],
   "source": [
    "for i in range(10):\n",
    "    print(load_data_train_and_evaluate())"
   ]
  },
  {
   "cell_type": "code",
   "execution_count": 307,
   "id": "550827f4",
   "metadata": {},
   "outputs": [
    {
     "name": "stdout",
     "output_type": "stream",
     "text": [
      "Files already downloaded and verified\n",
      "Files already downloaded and verified\n"
     ]
    }
   ],
   "source": [
    "batch_size = 64\n",
    "learning_rate = 0.001\n",
    "num_epochs = 10\n",
    "\n",
    "transform = transforms.Compose([\n",
    "    transforms.ToTensor(),\n",
    "    transforms.Normalize((0.5, 0.5, 0.5), (0.5, 0.5, 0.5)) \n",
    "])\n",
    "\n",
    "train_dataset = datasets.CIFAR10(root='./data', train=True, transform=transform, download=True)\n",
    "test_dataset = datasets.CIFAR10(root='./data', train=False, transform=transform, download=True)\n",
    "\n",
    "train_loader = DataLoader(dataset=train_dataset, batch_size=batch_size, shuffle=True)\n",
    "test_loader = DataLoader(dataset=test_dataset, batch_size=batch_size, shuffle=False)"
   ]
  },
  {
   "cell_type": "code",
   "execution_count": 308,
   "id": "3fca20fc",
   "metadata": {},
   "outputs": [],
   "source": [
    "image, label = train_dataset[15]"
   ]
  },
  {
   "cell_type": "code",
   "execution_count": 309,
   "id": "a82d2511",
   "metadata": {},
   "outputs": [
    {
     "data": {
      "text/plain": [
       "torch.Size([3, 32, 32])"
      ]
     },
     "execution_count": 309,
     "metadata": {},
     "output_type": "execute_result"
    }
   ],
   "source": [
    "image.shape"
   ]
  },
  {
   "cell_type": "code",
   "execution_count": 310,
   "id": "300d952b",
   "metadata": {},
   "outputs": [
    {
     "name": "stderr",
     "output_type": "stream",
     "text": [
      "Clipping input data to the valid range for imshow with RGB data ([0..1] for floats or [0..255] for integers).\n"
     ]
    },
    {
     "data": {
      "image/png": "[encoded data removed]",
      "text/plain": [
       "<Figure size 640x480 with 1 Axes>"
      ]
     },
     "metadata": {},
     "output_type": "display_data"
    }
   ],
   "source": [
    "plt.imshow(image.permute(1, 2, 0)) # height, width, channels\n",
    "plt.title(f\"Class: {label}\")\n",
    "plt.axis(\"off\")\n",
    "plt.show()"
   ]
  },
  {
   "cell_type": "code",
   "execution_count": 311,
   "id": "1edfd5de",
   "metadata": {},
   "outputs": [],
   "source": [
    "class SimpleCNN(nn.Module):\n",
    "    def __init__(self):\n",
    "        super(SimpleCNN, self).__init__()\n",
    "        self.conv1 = nn.Conv2d(3, 32, kernel_size=3, padding=1)\n",
    "        self.conv2 = nn.Conv2d(32, 64, kernel_size=3, padding=1)\n",
    "        self.pool = nn.MaxPool2d(2, 2)\n",
    "        self.fc1 = nn.Linear(64 * 8 * 8, 128)\n",
    "        self.fc2 = nn.Linear(128, 10)\n",
    "        self.relu = nn.ReLU()\n",
    "        self.dropout = nn.Dropout(0.25)\n",
    "\n",
    "    def forward(self, x):\n",
    "        x = self.pool(self.relu(self.conv1(x)))\n",
    "        x = self.pool(self.relu(self.conv2(x)))\n",
    "        x = x.view(-1, 64 * 8 * 8)\n",
    "        x = self.dropout(self.relu(self.fc1(x)))\n",
    "        x = self.fc2(x)\n",
    "        return x"
   ]
  },
  {
   "cell_type": "code",
   "execution_count": 312,
   "id": "00080bdd",
   "metadata": {},
   "outputs": [],
   "source": [
    "def train(model, optimizer, num_epochs):\n",
    "    for epoch in range(num_epochs):\n",
    "        model.train()\n",
    "        running_loss = 0.0\n",
    "        for images, labels in train_loader:\n",
    "            optimizer.zero_grad()\n",
    "            outputs = model(images)\n",
    "            loss = criterion(outputs, labels)\n",
    "            loss.backward()\n",
    "            optimizer.step()\n",
    "            running_loss += loss.item()\n",
    "\n",
    "        print(f\"Epoch [{epoch + 1}/{num_epochs}], Loss: {running_loss / len(train_loader):.4f}\")"
   ]
  },
  {
   "cell_type": "code",
   "execution_count": 313,
   "id": "0875e32f",
   "metadata": {},
   "outputs": [],
   "source": [
    "model = SimpleCNN()\n",
    "criterion = nn.CrossEntropyLoss()\n",
    "optimizer = optim.Adam(model.parameters(), lr=learning_rate)"
   ]
  },
  {
   "cell_type": "code",
   "execution_count": 314,
   "id": "40348cb0",
   "metadata": {},
   "outputs": [
    {
     "name": "stdout",
     "output_type": "stream",
     "text": [
      "Epoch [1/10], Loss: 1.4332\n",
      "Epoch [2/10], Loss: 1.0690\n",
      "Epoch [3/10], Loss: 0.9270\n",
      "Epoch [4/10], Loss: 0.8282\n",
      "Epoch [5/10], Loss: 0.7524\n",
      "Epoch [6/10], Loss: 0.6830\n",
      "Epoch [7/10], Loss: 0.6266\n",
      "Epoch [8/10], Loss: 0.5675\n",
      "Epoch [9/10], Loss: 0.5176\n",
      "Epoch [10/10], Loss: 0.4786\n",
      "CPU times: user 13min 43s, sys: 35min 52s, total: 49min 36s\n",
      "Wall time: 6min 6s\n"
     ]
    }
   ],
   "source": [
    "%time train(model, optimizer, 10)"
   ]
  },
  {
   "cell_type": "code",
   "execution_count": null,
   "id": "ece12f88",
   "metadata": {},
   "outputs": [
    {
     "name": "stdout",
     "output_type": "stream",
     "text": [
      "Epoch [1/10], Loss: 0.4396\n",
      "Epoch [2/10], Loss: 0.4007\n"
     ]
    }
   ],
   "source": [
    "def test(model):\n",
    "    model.eval()\n",
    "    correct = 0\n",
    "    total = 0\n",
    "    with torch.no_grad():\n",
    "        for images, labels in test_loader:\n",
    "            outputs = model(images)\n",
    "            _, predicted = torch.max(outputs.data, 1)\n",
    "            total += labels.size(0)\n",
    "            correct += (predicted == labels).sum().item()\n",
    "\n",
    "    print(f\"Accuracy on test set: {100 * correct / total:.2f}%\")\n",
    "\n",
    "train(model, optimizer, num_epochs)\n",
    "test(model)"
   ]
  },
  {
   "cell_type": "code",
   "execution_count": null,
   "id": "dd29f8aa",
   "metadata": {},
   "outputs": [],
   "source": [
    "batch_size = 64\n",
    "learning_rate = 0.1\n",
    "num_epochs = 10\n",
    "\n",
    "transform = transforms.Compose([\n",
    "    transforms.ToTensor(),\n",
    "    transforms.Normalize((0.5, 0.5, 0.5), (0.5, 0.5, 0.5))  # Normalizing CIFAR-10 images\n",
    "])\n",
    "\n",
    "train_dataset = datasets.CIFAR10(root='./data', train=True, transform=transform, download=True)\n",
    "test_dataset = datasets.CIFAR10(root='./data', train=False, transform=transform, download=True)\n",
    "\n",
    "train_loader = DataLoader(dataset=train_dataset, batch_size=batch_size, shuffle=True)\n",
    "test_loader = DataLoader(dataset=test_dataset, batch_size=batch_size, shuffle=False)"
   ]
  },
  {
   "cell_type": "code",
   "execution_count": null,
   "id": "10465dc9",
   "metadata": {},
   "outputs": [],
   "source": [
    "model = SimpleCNN()\n",
    "criterion = nn.CrossEntropyLoss()\n",
    "optimizer = optim.SGD(model.parameters(), lr=learning_rate, momentum=0.9)"
   ]
  },
  {
   "cell_type": "code",
   "execution_count": null,
   "id": "8243b909",
   "metadata": {},
   "outputs": [],
   "source": [
    "def train(model, optimizer, num_epochs):\n",
    "    for epoch in range(num_epochs):\n",
    "        model.train()\n",
    "        running_loss = 0.0\n",
    "        for images, labels in train_loader:\n",
    "            optimizer.zero_grad()\n",
    "            outputs = model(images)\n",
    "            loss = criterion(outputs, labels)\n",
    "            loss.backward()\n",
    "            optimizer.step()\n",
    "            running_loss += loss.item()\n",
    "\n",
    "        print(f\"Epoch [{epoch + 1}/{num_epochs}], Loss: {running_loss / len(train_loader):.4f}\")"
   ]
  },
  {
   "cell_type": "code",
   "execution_count": null,
   "id": "abbd725b",
   "metadata": {},
   "outputs": [],
   "source": [
    "%time train(model, optimizer, 20)"
   ]
  },
  {
   "cell_type": "code",
   "execution_count": null,
   "id": "7a3831d0",
   "metadata": {},
   "outputs": [],
   "source": []
  }
 ],
 "metadata": {
  "kernelspec": {
   "display_name": "Python 3 (ipykernel)",
   "language": "python",
   "name": "python3"
  },
  "language_info": {
   "codemirror_mode": {
    "name": "ipython",
    "version": 3
   },
   "file_extension": ".py",
   "mimetype": "text/x-python",
   "name": "python",
   "nbconvert_exporter": "python",
   "pygments_lexer": "ipython3",
   "version": "3.11.2"
  },
  "toc": {
   "base_numbering": 1,
   "nav_menu": {},
   "number_sections": true,
   "sideBar": true,
   "skip_h1_title": false,
   "title_cell": "Table of Contents",
   "title_sidebar": "Contents",
   "toc_cell": false,
   "toc_position": {},
   "toc_section_display": true,
   "toc_window_display": false
  }
 },
 "nbformat": 4,
 "nbformat_minor": 5
}
