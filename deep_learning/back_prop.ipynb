{
 "cells": [
  {
   "cell_type": "code",
   "execution_count": 6,
   "id": "c9134f32",
   "metadata": {},
   "outputs": [],
   "source": [
    "import torch\n",
    "import torch.nn as nn\n",
    "import torch.optim as optim\n",
    "from pdb import set_trace"
   ]
  },
  {
   "cell_type": "markdown",
   "id": "f7f03d72",
   "metadata": {},
   "source": [
    "# Initialization"
   ]
  },
  {
   "cell_type": "code",
   "execution_count": 7,
   "id": "0c086e26",
   "metadata": {},
   "outputs": [],
   "source": [
    "def calc_grad():\n",
    "    for name, param in model.named_parameters():\n",
    "        if name == \"fc1.weight\":\n",
    "            print(\"Gradient of weight:\", param.grad)"
   ]
  },
  {
   "cell_type": "code",
   "execution_count": 8,
   "id": "35796c0c",
   "metadata": {},
   "outputs": [],
   "source": [
    "class SimpleNet(nn.Module):\n",
    "    def __init__(self):\n",
    "        super(SimpleNet, self).__init__()\n",
    "        self.fc1 = nn.Linear(2, 1) \n",
    "#         self.relu = nn.ReLU()      \n",
    "#         self.fc2 = nn.Linear(1, 1) \n",
    "\n",
    "    def forward(self, x):\n",
    "        x = self.fc1(x)\n",
    "#         x = self.relu(x)\n",
    "#         x = self.fc2(x)\n",
    "        return x"
   ]
  },
  {
   "cell_type": "code",
   "execution_count": 9,
   "id": "145d9371",
   "metadata": {},
   "outputs": [],
   "source": [
    "x = torch.tensor([\n",
    "    [1.0, 3.0],\n",
    "    [4.0, 1.2],\n",
    "    [3.0, 2.0]\n",
    "])\n",
    "y = torch.tensor([1.0, 0, 1.0])"
   ]
  },
  {
   "cell_type": "code",
   "execution_count": 10,
   "id": "394e892a",
   "metadata": {},
   "outputs": [
    {
     "data": {
      "text/plain": [
       "torch.Size([3, 2])"
      ]
     },
     "execution_count": 10,
     "metadata": {},
     "output_type": "execute_result"
    }
   ],
   "source": [
    "x.shape"
   ]
  },
  {
   "cell_type": "code",
   "execution_count": 11,
   "id": "dc925680-77c0-4ed6-9b76-e48ec9fa8f1f",
   "metadata": {},
   "outputs": [],
   "source": [
    "epochs = 1"
   ]
  },
  {
   "cell_type": "code",
   "execution_count": 12,
   "id": "431f4fbb",
   "metadata": {},
   "outputs": [
    {
     "ename": "NameError",
     "evalue": "name 'n' is not defined",
     "output_type": "error",
     "traceback": [
      "\u001b[0;31m---------------------------------------------------------------------------\u001b[0m",
      "\u001b[0;31mNameError\u001b[0m                                 Traceback (most recent call last)",
      "Cell \u001b[0;32mIn[12], line 2\u001b[0m\n\u001b[1;32m      1\u001b[0m \u001b[38;5;28;01mfor\u001b[39;00m epoch \u001b[38;5;129;01min\u001b[39;00m \u001b[38;5;28mrange\u001b[39m(epochs):\n\u001b[0;32m----> 2\u001b[0m     \u001b[38;5;28;01mfor\u001b[39;00m i \u001b[38;5;129;01min\u001b[39;00m \u001b[38;5;28mrange\u001b[39m(\u001b[38;5;241m0\u001b[39m, \u001b[43mn\u001b[49m,  bs):\n\u001b[1;32m      3\u001b[0m         s \u001b[38;5;241m=\u001b[39m \u001b[38;5;28mslice\u001b[39m(i, \u001b[38;5;28mmin\u001b[39m(n, i\u001b[38;5;241m+\u001b[39mbs))\n\u001b[1;32m      4\u001b[0m         xb \u001b[38;5;241m=\u001b[39m x_train[s]\n",
      "\u001b[0;31mNameError\u001b[0m: name 'n' is not defined"
     ]
    }
   ],
   "source": [
    "for epoch in range(epochs):\n",
    "    for i in range(0, n,  bs):\n",
    "        s = slice(i, min(n, i+bs))\n",
    "        xb = x_train[s]\n",
    "        yb = y_train[s].long()\n",
    "        preds = model(xb)\n",
    "        loss = loss_func(preds, yb)\n",
    "        loss.backward()\n",
    "        \n",
    "        if i % 100 == 0:\n",
    "            print(loss.item())\n",
    "        \n",
    "        with torch.no_grad():\n",
    "            for l in model.layers:\n",
    "                if hasattr(l, 'weight'):\n",
    "                    l.weight -= l.weight.grad * lr\n",
    "                    l.bias -= l.bias.grad * lr\n",
    "                    l.weight.grad.zero_()\n",
    "                    l.bias.grad.zero_()  "
   ]
  },
  {
   "cell_type": "code",
   "execution_count": 13,
   "id": "734c8b31",
   "metadata": {},
   "outputs": [],
   "source": [
    "def train(inputs=x, targets=y):\n",
    "    optimizer.zero_grad()\n",
    "    outputs = model(inputs) # forward pass\n",
    "    loss = criterion(outputs.squeeze(1), targets) # loss calculation\n",
    "    loss.backward() # gradient calculation \n",
    "    optimizer.step() # weights update\n",
    "#     outputs = model(inputs) # forward pass\n",
    "#     new_loss = criterion(outputs, targets) # new loss calculation\n",
    "#     print(\"New Loss after one step:\", new_loss.item())"
   ]
  },
  {
   "cell_type": "code",
   "execution_count": 14,
   "id": "439adfa2",
   "metadata": {},
   "outputs": [],
   "source": [
    "model = SimpleNet()\n",
    "criterion = nn.MSELoss()\n",
    "optimizer = optim.SGD(model.parameters(), lr=0.01)"
   ]
  },
  {
   "cell_type": "code",
   "execution_count": 15,
   "id": "34d28ff4",
   "metadata": {},
   "outputs": [],
   "source": [
    "w1 = torch.tensor([[1.0, 2.0]])\n",
    "b1 = torch.tensor([1.0])"
   ]
  },
  {
   "cell_type": "code",
   "execution_count": 16,
   "id": "2e3ecdae",
   "metadata": {},
   "outputs": [
    {
     "data": {
      "text/plain": [
       "tensor([[0.4401, 0.5435]])"
      ]
     },
     "execution_count": 16,
     "metadata": {},
     "output_type": "execute_result"
    }
   ],
   "source": [
    "model.fc1.weight.data"
   ]
  },
  {
   "cell_type": "code",
   "execution_count": 17,
   "id": "fc837ed7",
   "metadata": {},
   "outputs": [
    {
     "data": {
      "text/plain": [
       "tensor([-0.2245])"
      ]
     },
     "execution_count": 17,
     "metadata": {},
     "output_type": "execute_result"
    }
   ],
   "source": [
    "model.fc1.bias.data"
   ]
  },
  {
   "cell_type": "code",
   "execution_count": 18,
   "id": "90aea5c0",
   "metadata": {},
   "outputs": [],
   "source": [
    "model.fc1.weight.data = w1.clone()\n",
    "model.fc1.bias.data = b1.clone()"
   ]
  },
  {
   "cell_type": "code",
   "execution_count": 19,
   "id": "be05d758",
   "metadata": {},
   "outputs": [
    {
     "data": {
      "text/plain": [
       "(tensor([[1., 2.]]), tensor([1.]))"
      ]
     },
     "execution_count": 19,
     "metadata": {},
     "output_type": "execute_result"
    }
   ],
   "source": [
    "model.fc1.weight.data, model.fc1.bias.data"
   ]
  },
  {
   "cell_type": "code",
   "execution_count": 20,
   "id": "b8895655",
   "metadata": {},
   "outputs": [
    {
     "data": {
      "text/plain": [
       "tensor([[8.0000],\n",
       "        [7.4000],\n",
       "        [8.0000]], grad_fn=<AddmmBackward0>)"
      ]
     },
     "execution_count": 20,
     "metadata": {},
     "output_type": "execute_result"
    }
   ],
   "source": [
    "first_pred = model(x)\n",
    "first_pred"
   ]
  },
  {
   "cell_type": "code",
   "execution_count": null,
   "id": "c1d6adab",
   "metadata": {},
   "outputs": [],
   "source": [
    "x.shape"
   ]
  },
  {
   "cell_type": "code",
   "execution_count": null,
   "id": "a6e4d153",
   "metadata": {},
   "outputs": [],
   "source": [
    "model.fc1.weight.shape"
   ]
  },
  {
   "cell_type": "code",
   "execution_count": 21,
   "id": "e3e975fc",
   "metadata": {},
   "outputs": [],
   "source": [
    "def calc_loss(pred):\n",
    "    res = 0\n",
    "    for idx, num in enumerate(pred):\n",
    "        res += (pred[idx] - y[idx])**2\n",
    "    return res / len(pred)"
   ]
  },
  {
   "cell_type": "code",
   "execution_count": 22,
   "id": "9a870f6f",
   "metadata": {},
   "outputs": [
    {
     "data": {
      "text/plain": [
       "tensor([50.9200], grad_fn=<DivBackward0>)"
      ]
     },
     "execution_count": 22,
     "metadata": {},
     "output_type": "execute_result"
    }
   ],
   "source": [
    "calc_loss(first_pred)    "
   ]
  },
  {
   "cell_type": "code",
   "execution_count": 23,
   "id": "447cff37",
   "metadata": {},
   "outputs": [
    {
     "data": {
      "text/plain": [
       "(torch.Size([3, 1]), torch.Size([3]))"
      ]
     },
     "execution_count": 23,
     "metadata": {},
     "output_type": "execute_result"
    }
   ],
   "source": [
    "first_pred.shape, y.shape"
   ]
  },
  {
   "cell_type": "code",
   "execution_count": 24,
   "id": "2ba2f98a",
   "metadata": {},
   "outputs": [],
   "source": [
    "model.fc1.weight.grad"
   ]
  },
  {
   "cell_type": "code",
   "execution_count": 25,
   "id": "493b8f23",
   "metadata": {},
   "outputs": [],
   "source": [
    "train()"
   ]
  },
  {
   "cell_type": "code",
   "execution_count": 26,
   "id": "32d1ecaf",
   "metadata": {},
   "outputs": [
    {
     "data": {
      "text/plain": [
       "(tensor([[38.4000, 29.2533]]), tensor([14.2667]))"
      ]
     },
     "execution_count": 26,
     "metadata": {},
     "output_type": "execute_result"
    }
   ],
   "source": [
    "model.fc1.weight.grad, model.fc1.bias.grad"
   ]
  },
  {
   "cell_type": "code",
   "execution_count": 27,
   "id": "e0c40b3e",
   "metadata": {},
   "outputs": [
    {
     "data": {
      "text/plain": [
       "tensor([[6.5957],\n",
       "        [5.3703],\n",
       "        [6.1203]], grad_fn=<AddmmBackward0>)"
      ]
     },
     "execution_count": 27,
     "metadata": {},
     "output_type": "execute_result"
    }
   ],
   "source": [
    "second_pred = model(x)\n",
    "second_pred"
   ]
  },
  {
   "cell_type": "code",
   "execution_count": 28,
   "id": "4febce70",
   "metadata": {},
   "outputs": [
    {
     "data": {
      "text/plain": [
       "tensor([28.7898], grad_fn=<DivBackward0>)"
      ]
     },
     "execution_count": 28,
     "metadata": {},
     "output_type": "execute_result"
    }
   ],
   "source": [
    "calc_loss(second_pred)"
   ]
  },
  {
   "cell_type": "code",
   "execution_count": 29,
   "id": "5744e0e8",
   "metadata": {},
   "outputs": [
    {
     "data": {
      "text/plain": [
       "(tensor([[0.6160, 1.7075]]), tensor([0.8573]))"
      ]
     },
     "execution_count": 29,
     "metadata": {},
     "output_type": "execute_result"
    }
   ],
   "source": [
    "model.fc1.weight.data, model.fc1.bias.data"
   ]
  },
  {
   "cell_type": "code",
   "execution_count": 30,
   "id": "8b20be24",
   "metadata": {},
   "outputs": [
    {
     "data": {
      "text/plain": [
       "(tensor([[38.4000, 29.2533]]), tensor([14.2667]))"
      ]
     },
     "execution_count": 30,
     "metadata": {},
     "output_type": "execute_result"
    }
   ],
   "source": [
    "model.fc1.weight.grad, model.fc1.bias.grad"
   ]
  },
  {
   "cell_type": "markdown",
   "id": "444bc532",
   "metadata": {},
   "source": [
    "# First Pass"
   ]
  },
  {
   "cell_type": "code",
   "execution_count": 31,
   "id": "7d2c4c96",
   "metadata": {},
   "outputs": [
    {
     "data": {
      "text/plain": [
       "(torch.Size([3, 2]), torch.Size([1, 2]), torch.Size([1]))"
      ]
     },
     "execution_count": 31,
     "metadata": {},
     "output_type": "execute_result"
    }
   ],
   "source": [
    "x.shape, w1.shape, b1.shape"
   ]
  },
  {
   "cell_type": "code",
   "execution_count": 32,
   "id": "c7148959",
   "metadata": {},
   "outputs": [],
   "source": [
    "w1 = w1.t()"
   ]
  },
  {
   "cell_type": "code",
   "execution_count": 33,
   "id": "184e3589",
   "metadata": {},
   "outputs": [],
   "source": [
    "def lin(x, w, b):\n",
    "    return x @ w + b"
   ]
  },
  {
   "cell_type": "code",
   "execution_count": 40,
   "id": "1490cd69-8b6a-4e10-ae77-adf500cf1df2",
   "metadata": {},
   "outputs": [
    {
     "data": {
      "text/plain": [
       "tensor([[1.0000, 3.0000],\n",
       "        [4.0000, 1.2000],\n",
       "        [3.0000, 2.0000]])"
      ]
     },
     "execution_count": 40,
     "metadata": {},
     "output_type": "execute_result"
    }
   ],
   "source": [
    "x"
   ]
  },
  {
   "cell_type": "code",
   "execution_count": 41,
   "id": "a3d0e048-76de-47ce-a7cf-7165e2ced0f7",
   "metadata": {},
   "outputs": [
    {
     "data": {
      "text/plain": [
       "tensor([[1.],\n",
       "        [2.]])"
      ]
     },
     "execution_count": 41,
     "metadata": {},
     "output_type": "execute_result"
    }
   ],
   "source": [
    "w1"
   ]
  },
  {
   "cell_type": "code",
   "execution_count": 42,
   "id": "10e4bc56-99f0-4a6e-9528-558a050b0f54",
   "metadata": {},
   "outputs": [
    {
     "data": {
      "text/plain": [
       "tensor([1.])"
      ]
     },
     "execution_count": 42,
     "metadata": {},
     "output_type": "execute_result"
    }
   ],
   "source": [
    "b1"
   ]
  },
  {
   "cell_type": "code",
   "execution_count": 34,
   "id": "bb491d62",
   "metadata": {},
   "outputs": [
    {
     "data": {
      "text/plain": [
       "tensor([[8.0000],\n",
       "        [7.4000],\n",
       "        [8.0000]])"
      ]
     },
     "execution_count": 34,
     "metadata": {},
     "output_type": "execute_result"
    }
   ],
   "source": [
    "fc_res = lin(x, w1, b1)\n",
    "fc_res"
   ]
  },
  {
   "cell_type": "code",
   "execution_count": 35,
   "id": "a7d4e0d2",
   "metadata": {},
   "outputs": [
    {
     "ename": "AttributeError",
     "evalue": "'Tensor' object has no attribute 'gradient'",
     "output_type": "error",
     "traceback": [
      "\u001b[0;31m---------------------------------------------------------------------------\u001b[0m",
      "\u001b[0;31mAttributeError\u001b[0m                            Traceback (most recent call last)",
      "Cell \u001b[0;32mIn[35], line 1\u001b[0m\n\u001b[0;32m----> 1\u001b[0m \u001b[43mfc_res\u001b[49m\u001b[38;5;241;43m.\u001b[39;49m\u001b[43mgradient\u001b[49m\n",
      "\u001b[0;31mAttributeError\u001b[0m: 'Tensor' object has no attribute 'gradient'"
     ]
    }
   ],
   "source": [
    "fc_res.gradient"
   ]
  },
  {
   "cell_type": "code",
   "execution_count": 36,
   "id": "13bb06a0",
   "metadata": {},
   "outputs": [
    {
     "data": {
      "text/plain": [
       "tensor([50.9200])"
      ]
     },
     "execution_count": 36,
     "metadata": {},
     "output_type": "execute_result"
    }
   ],
   "source": [
    "calc_loss(fc_res)"
   ]
  },
  {
   "cell_type": "markdown",
   "id": "fc68150d",
   "metadata": {},
   "source": [
    "# Back Propogation"
   ]
  },
  {
   "cell_type": "code",
   "execution_count": 37,
   "id": "0e649834",
   "metadata": {},
   "outputs": [
    {
     "data": {
      "text/plain": [
       "(tensor([[1.],\n",
       "         [2.]]),\n",
       " tensor([1.]))"
      ]
     },
     "execution_count": 37,
     "metadata": {},
     "output_type": "execute_result"
    }
   ],
   "source": [
    "w1, b1"
   ]
  },
  {
   "cell_type": "code",
   "execution_count": 38,
   "id": "91300f6d",
   "metadata": {},
   "outputs": [],
   "source": [
    "def mse_grad(inp, targ):\n",
    "    inp.gradient = 2. * (inp.squeeze() - targ).unsqueeze(-1) / inp.shape[0]"
   ]
  },
  {
   "cell_type": "code",
   "execution_count": 45,
   "id": "ae92acad",
   "metadata": {},
   "outputs": [],
   "source": [
    "fc_res.gradient"
   ]
  },
  {
   "cell_type": "markdown",
   "id": "77220f80-4c43-4f96-ada2-7efdba286dce",
   "metadata": {},
   "source": [
    "### Gradient Self Calculation"
   ]
  },
  {
   "cell_type": "code",
   "execution_count": 46,
   "id": "82afffc0-ebf2-4922-827e-bbcc6c17f47e",
   "metadata": {},
   "outputs": [
    {
     "data": {
      "text/plain": [
       "torch.Size([3, 1])"
      ]
     },
     "execution_count": 46,
     "metadata": {},
     "output_type": "execute_result"
    }
   ],
   "source": [
    "fc_res.shape"
   ]
  },
  {
   "cell_type": "code",
   "execution_count": 49,
   "id": "8423ea21-12f8-4bb1-ae09-dee5a6a7ef96",
   "metadata": {},
   "outputs": [
    {
     "data": {
      "text/plain": [
       "torch.Size([3])"
      ]
     },
     "execution_count": 49,
     "metadata": {},
     "output_type": "execute_result"
    }
   ],
   "source": [
    "fc_res.squeeze().shape"
   ]
  },
  {
   "cell_type": "code",
   "execution_count": 51,
   "id": "255fa838-49a2-40ba-9f9e-4094109d6757",
   "metadata": {},
   "outputs": [
    {
     "data": {
      "text/plain": [
       "torch.Size([3])"
      ]
     },
     "execution_count": 51,
     "metadata": {},
     "output_type": "execute_result"
    }
   ],
   "source": [
    "y.shape"
   ]
  },
  {
   "cell_type": "code",
   "execution_count": null,
   "id": "dfaf3bf7-d5de-4e94-a5d1-2e4a498d0f3d",
   "metadata": {},
   "outputs": [],
   "source": [
    "fc_res, y"
   ]
  },
  {
   "cell_type": "code",
   "execution_count": 64,
   "id": "fdf39787-6bc9-4d7c-ba5a-8bb9a2258290",
   "metadata": {},
   "outputs": [
    {
     "data": {
      "text/plain": [
       "tensor([[4.6667],\n",
       "        [4.9333],\n",
       "        [4.6667]])"
      ]
     },
     "execution_count": 64,
     "metadata": {},
     "output_type": "execute_result"
    }
   ],
   "source": [
    "2 * (fc_res.squeeze() - y).unsqueeze(-1) / fc_res.shape[0]"
   ]
  },
  {
   "cell_type": "code",
   "execution_count": 62,
   "id": "bb5c6592-1ca7-4641-b1de-323be9471857",
   "metadata": {},
   "outputs": [
    {
     "data": {
      "text/plain": [
       "torch.Size([1])"
      ]
     },
     "execution_count": 62,
     "metadata": {},
     "output_type": "execute_result"
    }
   ],
   "source": []
  },
  {
   "cell_type": "code",
   "execution_count": null,
   "id": "cde56061-9f58-40fc-9fb0-7fb081023788",
   "metadata": {
    "scrolled": true
   },
   "outputs": [],
   "source": [
    "2 * (fc_res.squeeze() - y).unsqueeze(-1) / fc_res.shape[0]"
   ]
  },
  {
   "cell_type": "markdown",
   "id": "9d38f5e6-caa5-48dd-b1c5-af14317f6392",
   "metadata": {},
   "source": [
    "### End of calculation"
   ]
  },
  {
   "cell_type": "code",
   "execution_count": 43,
   "id": "9232dca0",
   "metadata": {},
   "outputs": [],
   "source": [
    "mse_grad(fc_res, y)"
   ]
  },
  {
   "cell_type": "code",
   "execution_count": 65,
   "id": "047c0dd1",
   "metadata": {},
   "outputs": [
    {
     "data": {
      "text/plain": [
       "tensor([[4.6667],\n",
       "        [4.9333],\n",
       "        [4.6667]])"
      ]
     },
     "execution_count": 65,
     "metadata": {},
     "output_type": "execute_result"
    }
   ],
   "source": [
    "fc_res.gradient"
   ]
  },
  {
   "cell_type": "code",
   "execution_count": null,
   "id": "c32f6bde",
   "metadata": {},
   "outputs": [],
   "source": [
    "fc_res"
   ]
  },
  {
   "cell_type": "code",
   "execution_count": null,
   "id": "9b47a05a",
   "metadata": {},
   "outputs": [],
   "source": [
    "fc_res.shape, y.shape"
   ]
  },
  {
   "cell_type": "code",
   "execution_count": null,
   "id": "abcb3ddf",
   "metadata": {},
   "outputs": [],
   "source": [
    "fc_res.gradient"
   ]
  },
  {
   "cell_type": "code",
   "execution_count": null,
   "id": "bd0e8a72",
   "metadata": {},
   "outputs": [],
   "source": [
    "fc_res.gradient.shape"
   ]
  },
  {
   "cell_type": "code",
   "execution_count": 77,
   "id": "1d0040a3",
   "metadata": {},
   "outputs": [],
   "source": [
    "def lin_grad(inp, out, w, b):    \n",
    "    # the gradient of a matrix product, is the matrix product with a transpose\n",
    "#     inp.gradient = out.gradient @ w.t()\n",
    "        \n",
    "    w.gradient = (inp.unsqueeze(-1) * out.gradient.unsqueeze(1)).sum(0)\n",
    "\n",
    "    b.gradient  = out.gradient.sum(0)"
   ]
  },
  {
   "cell_type": "code",
   "execution_count": null,
   "id": "3659a6e0-e4d0-41dd-86fe-b7fa7e84e47b",
   "metadata": {},
   "outputs": [],
   "source": [
    "(inp.unsqueeze(-1) * out.gradient.unsqueeze(1)).sum(0)"
   ]
  },
  {
   "cell_type": "code",
   "execution_count": 75,
   "id": "b751d733-3963-464a-9eec-7ad09f7a3bb5",
   "metadata": {},
   "outputs": [
    {
     "data": {
      "text/plain": [
       "tensor([[38.4000],\n",
       "        [29.2533]])"
      ]
     },
     "execution_count": 75,
     "metadata": {},
     "output_type": "execute_result"
    }
   ],
   "source": [
    "(x.unsqueeze(-1) * fc_res.gradient.unsqueeze(1)).sum(0)"
   ]
  },
  {
   "cell_type": "code",
   "execution_count": 79,
   "id": "852f067d-43af-4ec1-b208-136ead6c26c7",
   "metadata": {},
   "outputs": [
    {
     "data": {
      "text/plain": [
       "tensor([[38.4000],\n",
       "        [29.2533]])"
      ]
     },
     "execution_count": 79,
     "metadata": {},
     "output_type": "execute_result"
    }
   ],
   "source": [
    "w1.gradient"
   ]
  },
  {
   "cell_type": "code",
   "execution_count": 86,
   "id": "a8db110d-050c-4ea3-b901-f22dbeb08a47",
   "metadata": {},
   "outputs": [
    {
     "data": {
      "text/plain": [
       "tensor([14.2667])"
      ]
     },
     "execution_count": 86,
     "metadata": {},
     "output_type": "execute_result"
    }
   ],
   "source": [
    "fc_res.gradient.sum(0)"
   ]
  },
  {
   "cell_type": "code",
   "execution_count": 84,
   "id": "f501e384-5868-45a1-a7af-ed6d7aa4b7ec",
   "metadata": {},
   "outputs": [
    {
     "data": {
      "text/plain": [
       "tensor([14.2667])"
      ]
     },
     "execution_count": 84,
     "metadata": {},
     "output_type": "execute_result"
    }
   ],
   "source": [
    "b1.gradient"
   ]
  },
  {
   "cell_type": "code",
   "execution_count": 85,
   "id": "e830e6a6-b80d-4c72-8184-ea77a3aee9cb",
   "metadata": {},
   "outputs": [
    {
     "data": {
      "text/plain": [
       "torch.Size([3, 1])"
      ]
     },
     "execution_count": 85,
     "metadata": {},
     "output_type": "execute_result"
    }
   ],
   "source": [
    "fc_res.gradient.shape"
   ]
  },
  {
   "cell_type": "code",
   "execution_count": 66,
   "id": "ab72844a",
   "metadata": {},
   "outputs": [
    {
     "ename": "AttributeError",
     "evalue": "'Tensor' object has no attribute 'gradient'",
     "output_type": "error",
     "traceback": [
      "\u001b[0;31m---------------------------------------------------------------------------\u001b[0m",
      "\u001b[0;31mAttributeError\u001b[0m                            Traceback (most recent call last)",
      "Cell \u001b[0;32mIn[66], line 1\u001b[0m\n\u001b[0;32m----> 1\u001b[0m \u001b[43mw1\u001b[49m\u001b[38;5;241;43m.\u001b[39;49m\u001b[43mgradient\u001b[49m\n",
      "\u001b[0;31mAttributeError\u001b[0m: 'Tensor' object has no attribute 'gradient'"
     ]
    }
   ],
   "source": [
    "w1.gradient"
   ]
  },
  {
   "cell_type": "code",
   "execution_count": null,
   "id": "88c1d4ce-179b-43e6-9550-fd6140787a12",
   "metadata": {},
   "outputs": [],
   "source": [
    "# lin_grad(x, fc_res, w1, b1)"
   ]
  },
  {
   "cell_type": "code",
   "execution_count": null,
   "id": "1fa29079-70a5-4276-8824-10a280e071e5",
   "metadata": {},
   "outputs": [],
   "source": [
    "x.unsqueeze(-1).shape"
   ]
  },
  {
   "cell_type": "code",
   "execution_count": null,
   "id": "73c7441e-b1c6-43cb-b062-5ec54c3e5f95",
   "metadata": {},
   "outputs": [],
   "source": [
    "fc_res.gradient.unsqueeze(1).shape"
   ]
  },
  {
   "cell_type": "code",
   "execution_count": null,
   "id": "f457f848-0cc6-4308-89b9-0a0110b9178d",
   "metadata": {},
   "outputs": [],
   "source": []
  },
  {
   "cell_type": "code",
   "execution_count": null,
   "id": "b401acac-dad2-4371-a644-acc7cbf96840",
   "metadata": {},
   "outputs": [],
   "source": [
    "((x.unsqueeze(-1) * fc_res.gradient.unsqueeze(1))).shape"
   ]
  },
  {
   "cell_type": "code",
   "execution_count": null,
   "id": "931ddd16-21eb-476a-a6be-aaa17973c799",
   "metadata": {},
   "outputs": [],
   "source": [
    "(x.unsqueeze(-1) * fc_res.gradient.unsqueeze(1)).sum(0)"
   ]
  },
  {
   "cell_type": "code",
   "execution_count": null,
   "id": "f9862b34-cce1-4c65-a27c-6a101df849d7",
   "metadata": {},
   "outputs": [],
   "source": [
    "fc_res.gradient.sum(0)"
   ]
  },
  {
   "cell_type": "code",
   "execution_count": 78,
   "id": "239733da",
   "metadata": {},
   "outputs": [],
   "source": [
    "lin_grad(x, fc_res, w1, b1)"
   ]
  },
  {
   "cell_type": "code",
   "execution_count": null,
   "id": "6cd3fa37",
   "metadata": {},
   "outputs": [],
   "source": [
    "w1.gradient, b1.shape"
   ]
  },
  {
   "cell_type": "code",
   "execution_count": null,
   "id": "5c3036ed",
   "metadata": {},
   "outputs": [],
   "source": [
    "model.fc1.weight.grad"
   ]
  },
  {
   "cell_type": "code",
   "execution_count": null,
   "id": "a63233db",
   "metadata": {},
   "outputs": [],
   "source": [
    "fc_res.gradient"
   ]
  },
  {
   "cell_type": "markdown",
   "id": "d629b6f9",
   "metadata": {},
   "source": [
    "# Re Calculate Weights"
   ]
  },
  {
   "cell_type": "code",
   "execution_count": null,
   "id": "6e44bf8f",
   "metadata": {},
   "outputs": [],
   "source": [
    "lr = 0.01"
   ]
  },
  {
   "cell_type": "code",
   "execution_count": null,
   "id": "37a14d21",
   "metadata": {},
   "outputs": [],
   "source": [
    "w1"
   ]
  },
  {
   "cell_type": "code",
   "execution_count": null,
   "id": "92ded42c",
   "metadata": {},
   "outputs": [],
   "source": [
    "model.fc1.weight.data"
   ]
  },
  {
   "cell_type": "code",
   "execution_count": null,
   "id": "7b758940",
   "metadata": {},
   "outputs": [],
   "source": [
    "w1.gradient.shape"
   ]
  },
  {
   "cell_type": "code",
   "execution_count": null,
   "id": "7bc8aa9b",
   "metadata": {
    "scrolled": true
   },
   "outputs": [],
   "source": [
    "w1 = w1 - lr * w1.gradient\n",
    "b1 -= lr * b1.gradient"
   ]
  },
  {
   "cell_type": "code",
   "execution_count": null,
   "id": "d0b296f8",
   "metadata": {},
   "outputs": [],
   "source": [
    "model.fc1.weight.data"
   ]
  },
  {
   "cell_type": "code",
   "execution_count": null,
   "id": "95ce4c1a",
   "metadata": {},
   "outputs": [],
   "source": [
    "w1"
   ]
  },
  {
   "cell_type": "markdown",
   "id": "40b75653",
   "metadata": {},
   "source": [
    "# Re Calculate Loss"
   ]
  },
  {
   "cell_type": "code",
   "execution_count": null,
   "id": "a2ea9457",
   "metadata": {},
   "outputs": [],
   "source": [
    "new_fc_res = lin(x, w1.squeeze(0), b1)\n",
    "new_fc_res"
   ]
  },
  {
   "cell_type": "code",
   "execution_count": null,
   "id": "8813d8ed",
   "metadata": {},
   "outputs": [],
   "source": [
    "calc_loss(new_fc_res)"
   ]
  },
  {
   "cell_type": "code",
   "execution_count": null,
   "id": "baa678dd",
   "metadata": {},
   "outputs": [],
   "source": [
    "w1, b1"
   ]
  },
  {
   "cell_type": "code",
   "execution_count": null,
   "id": "73b20986",
   "metadata": {},
   "outputs": [],
   "source": [
    "model.fc1.bias.data"
   ]
  },
  {
   "cell_type": "markdown",
   "id": "a1c54792",
   "metadata": {},
   "source": [
    "# Recalculate Weights Second time"
   ]
  },
  {
   "cell_type": "code",
   "execution_count": null,
   "id": "ef968167",
   "metadata": {},
   "outputs": [],
   "source": [
    "train()"
   ]
  },
  {
   "cell_type": "code",
   "execution_count": null,
   "id": "e00ded93",
   "metadata": {},
   "outputs": [],
   "source": [
    "model.fc1.weight.data"
   ]
  },
  {
   "cell_type": "code",
   "execution_count": null,
   "id": "2dbe03d6",
   "metadata": {},
   "outputs": [],
   "source": [
    "model.fc1.weight.grad"
   ]
  },
  {
   "cell_type": "code",
   "execution_count": null,
   "id": "94ab003c",
   "metadata": {},
   "outputs": [],
   "source": [
    "fc_res_2 = lin(x, w1, b1)"
   ]
  },
  {
   "cell_type": "code",
   "execution_count": null,
   "id": "80b08637",
   "metadata": {},
   "outputs": [],
   "source": [
    "fc_res_2.gradient"
   ]
  },
  {
   "cell_type": "code",
   "execution_count": null,
   "id": "4b742159",
   "metadata": {},
   "outputs": [],
   "source": [
    "mse_grad(fc_res_2, y)"
   ]
  },
  {
   "cell_type": "code",
   "execution_count": null,
   "id": "955ecec3",
   "metadata": {},
   "outputs": [],
   "source": [
    "fc_res_2.gradient"
   ]
  },
  {
   "cell_type": "code",
   "execution_count": null,
   "id": "4f7fbc9d",
   "metadata": {},
   "outputs": [],
   "source": [
    "lin_grad(x, fc_res_2, w1, b1)"
   ]
  },
  {
   "cell_type": "code",
   "execution_count": null,
   "id": "b0ad0630",
   "metadata": {},
   "outputs": [],
   "source": [
    "model.fc1.weight.grad"
   ]
  },
  {
   "cell_type": "code",
   "execution_count": null,
   "id": "132a1917",
   "metadata": {},
   "outputs": [],
   "source": [
    "fc_res_2.gradient"
   ]
  },
  {
   "cell_type": "code",
   "execution_count": null,
   "id": "0a18ccf6",
   "metadata": {},
   "outputs": [],
   "source": [
    "w1 = w1 - lr * w1.gradient\n",
    "b1 -= lr * b1.gradient"
   ]
  },
  {
   "cell_type": "code",
   "execution_count": null,
   "id": "6cac2804",
   "metadata": {},
   "outputs": [],
   "source": [
    "model.fc1.weight.data"
   ]
  },
  {
   "cell_type": "code",
   "execution_count": null,
   "id": "6e97ba2c",
   "metadata": {},
   "outputs": [],
   "source": [
    "w1"
   ]
  },
  {
   "cell_type": "code",
   "execution_count": null,
   "id": "c4ed1ed3",
   "metadata": {},
   "outputs": [],
   "source": [
    "second_update_weights = lin(x, w1, b1)"
   ]
  },
  {
   "cell_type": "code",
   "execution_count": null,
   "id": "34934a9f",
   "metadata": {},
   "outputs": [],
   "source": [
    "calc_loss(second_update_weights)"
   ]
  },
  {
   "cell_type": "code",
   "execution_count": null,
   "id": "b7ebabe6",
   "metadata": {},
   "outputs": [],
   "source": [
    "model.fc1.weight.data"
   ]
  },
  {
   "cell_type": "code",
   "execution_count": null,
   "id": "68e5297a",
   "metadata": {},
   "outputs": [],
   "source": [
    "w1"
   ]
  },
  {
   "cell_type": "code",
   "execution_count": null,
   "id": "0441302b",
   "metadata": {},
   "outputs": [],
   "source": [
    "model.fc1.bias.data"
   ]
  },
  {
   "cell_type": "code",
   "execution_count": null,
   "id": "4d71eff6",
   "metadata": {},
   "outputs": [],
   "source": [
    "b1"
   ]
  },
  {
   "cell_type": "code",
   "execution_count": null,
   "id": "bffa3930",
   "metadata": {},
   "outputs": [],
   "source": [
    "b1.gradient"
   ]
  },
  {
   "cell_type": "code",
   "execution_count": null,
   "id": "7c3d8a7b",
   "metadata": {},
   "outputs": [],
   "source": [
    "model.fc1.bias.grad"
   ]
  },
  {
   "cell_type": "code",
   "execution_count": null,
   "id": "7d7eeb7d",
   "metadata": {},
   "outputs": [],
   "source": []
  },
  {
   "cell_type": "code",
   "execution_count": null,
   "id": "91cdd225-f36f-43e7-92dc-711b8584ac79",
   "metadata": {},
   "outputs": [],
   "source": []
  },
  {
   "cell_type": "code",
   "execution_count": null,
   "id": "fe7a51b5-9492-4081-9fca-7bf7db3c4930",
   "metadata": {},
   "outputs": [],
   "source": []
  },
  {
   "cell_type": "code",
   "execution_count": null,
   "id": "f98ed96a-3d49-4b37-afb1-5a6e73ca660c",
   "metadata": {},
   "outputs": [],
   "source": []
  }
 ],
 "metadata": {
  "kernelspec": {
   "display_name": "all_purpose_venv",
   "language": "python",
   "name": "all_purpose_venv"
  },
  "language_info": {
   "codemirror_mode": {
    "name": "ipython",
    "version": 3
   },
   "file_extension": ".py",
   "mimetype": "text/x-python",
   "name": "python",
   "nbconvert_exporter": "python",
   "pygments_lexer": "ipython3",
   "version": "3.11.2"
  },
  "toc": {
   "base_numbering": 1,
   "nav_menu": {},
   "number_sections": true,
   "sideBar": true,
   "skip_h1_title": false,
   "title_cell": "Table of Contents",
   "title_sidebar": "Contents",
   "toc_cell": false,
   "toc_position": {},
   "toc_section_display": true,
   "toc_window_display": false
  }
 },
 "nbformat": 4,
 "nbformat_minor": 5
}
