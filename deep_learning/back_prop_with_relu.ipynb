{
 "cells": [
  {
   "cell_type": "code",
   "execution_count": 97,
   "id": "c9134f32",
   "metadata": {},
   "outputs": [],
   "source": [
    "import torch\n",
    "import torch.nn as nn\n",
    "import torch.optim as optim\n",
    "from pdb import set_trace"
   ]
  },
  {
   "cell_type": "markdown",
   "id": "f7f03d72",
   "metadata": {},
   "source": [
    "# Initialization"
   ]
  },
  {
   "cell_type": "code",
   "execution_count": 98,
   "id": "2ef1dcc1",
   "metadata": {},
   "outputs": [],
   "source": [
    "def relu(x): \n",
    "    return x.clamp_min(0.)"
   ]
  },
  {
   "cell_type": "code",
   "execution_count": 99,
   "id": "0c086e26",
   "metadata": {},
   "outputs": [],
   "source": [
    "def calc_grad():\n",
    "    for name, param in model.named_parameters():\n",
    "        if name == \"fc1.weight\":\n",
    "            print(\"Gradient of weight:\", param.grad)"
   ]
  },
  {
   "cell_type": "code",
   "execution_count": 100,
   "id": "35796c0c",
   "metadata": {},
   "outputs": [],
   "source": [
    "class SimpleNet(nn.Module):\n",
    "    def __init__(self):\n",
    "        super(SimpleNet, self).__init__()\n",
    "        self.fc1 = nn.Linear(2, 1) \n",
    "        self.relu = nn.ReLU()      \n",
    "#         self.fc2 = nn.Linear(1, 1) \n",
    "\n",
    "    def forward(self, x):\n",
    "        x = self.fc1(x)\n",
    "        x = self.relu(x)\n",
    "#         x = self.fc2(x)\n",
    "        return x"
   ]
  },
  {
   "cell_type": "code",
   "execution_count": 101,
   "id": "145d9371",
   "metadata": {},
   "outputs": [],
   "source": [
    "x = torch.tensor([\n",
    "    [1.0, 3.0],\n",
    "    [4.0, 1.2],\n",
    "    [3.0, 2.0]\n",
    "])\n",
    "y = torch.tensor([1.0, 0, 1.0])"
   ]
  },
  {
   "cell_type": "code",
   "execution_count": 102,
   "id": "394e892a",
   "metadata": {},
   "outputs": [
    {
     "data": {
      "text/plain": [
       "torch.Size([3, 2])"
      ]
     },
     "execution_count": 102,
     "metadata": {},
     "output_type": "execute_result"
    }
   ],
   "source": [
    "x.shape"
   ]
  },
  {
   "cell_type": "code",
   "execution_count": 103,
   "id": "734c8b31",
   "metadata": {},
   "outputs": [],
   "source": [
    "def train(inputs=x, targets=y):\n",
    "    optimizer.zero_grad()\n",
    "    outputs = model(inputs)\n",
    "    loss = criterion(outputs.squeeze(1), targets)\n",
    "    loss.backward()\n",
    "    optimizer.step()\n",
    "    print('loss is', loss)\n",
    "    outputs = model(inputs)\n",
    "    new_loss = criterion(outputs.squeeze(1), targets)\n",
    "    print(\"New Loss after one step:\", new_loss.item())"
   ]
  },
  {
   "cell_type": "code",
   "execution_count": 104,
   "id": "439adfa2",
   "metadata": {},
   "outputs": [],
   "source": [
    "model = SimpleNet()\n",
    "criterion = nn.MSELoss()\n",
    "optimizer = optim.SGD(model.parameters(), lr=0.01)"
   ]
  },
  {
   "cell_type": "code",
   "execution_count": 105,
   "id": "34d28ff4",
   "metadata": {},
   "outputs": [],
   "source": [
    "w1 = torch.tensor([[1.0, 2.0]])\n",
    "b1 = torch.tensor([1.0])"
   ]
  },
  {
   "cell_type": "code",
   "execution_count": 106,
   "id": "90aea5c0",
   "metadata": {},
   "outputs": [],
   "source": [
    "model.fc1.weight.data = w1.clone()\n",
    "model.fc1.bias.data = b1.clone()"
   ]
  },
  {
   "cell_type": "code",
   "execution_count": 107,
   "id": "be05d758",
   "metadata": {},
   "outputs": [],
   "source": [
    "model.fc1.weight.grad"
   ]
  },
  {
   "cell_type": "code",
   "execution_count": 108,
   "id": "2684872b",
   "metadata": {},
   "outputs": [
    {
     "data": {
      "text/plain": [
       "tensor([[1., 2.]])"
      ]
     },
     "execution_count": 108,
     "metadata": {},
     "output_type": "execute_result"
    }
   ],
   "source": [
    "model.fc1.weight.data"
   ]
  },
  {
   "cell_type": "code",
   "execution_count": 109,
   "id": "b8895655",
   "metadata": {},
   "outputs": [
    {
     "data": {
      "text/plain": [
       "tensor([[8.0000],\n",
       "        [7.4000],\n",
       "        [8.0000]], grad_fn=<ReluBackward0>)"
      ]
     },
     "execution_count": 109,
     "metadata": {},
     "output_type": "execute_result"
    }
   ],
   "source": [
    "first_pred = model(x)\n",
    "first_pred"
   ]
  },
  {
   "cell_type": "code",
   "execution_count": 110,
   "id": "e3e975fc",
   "metadata": {},
   "outputs": [],
   "source": [
    "def calc_loss(pred):\n",
    "    res = 0\n",
    "    for idx, num in enumerate(pred):\n",
    "        res += (pred[idx] - y[idx])**2\n",
    "    return res / len(pred)"
   ]
  },
  {
   "cell_type": "code",
   "execution_count": 111,
   "id": "9a870f6f",
   "metadata": {},
   "outputs": [
    {
     "data": {
      "text/plain": [
       "tensor([50.9200], grad_fn=<DivBackward0>)"
      ]
     },
     "execution_count": 111,
     "metadata": {},
     "output_type": "execute_result"
    }
   ],
   "source": [
    "calc_loss(first_pred)    "
   ]
  },
  {
   "cell_type": "code",
   "execution_count": 112,
   "id": "447cff37",
   "metadata": {},
   "outputs": [
    {
     "data": {
      "text/plain": [
       "(torch.Size([3, 1]), torch.Size([3]))"
      ]
     },
     "execution_count": 112,
     "metadata": {},
     "output_type": "execute_result"
    }
   ],
   "source": [
    "first_pred.shape, y.shape"
   ]
  },
  {
   "cell_type": "code",
   "execution_count": 113,
   "id": "493b8f23",
   "metadata": {},
   "outputs": [
    {
     "name": "stdout",
     "output_type": "stream",
     "text": [
      "loss is tensor(50.9200, grad_fn=<MseLossBackward0>)\n",
      "New Loss after one step: 28.7898006439209\n"
     ]
    }
   ],
   "source": [
    "train()"
   ]
  },
  {
   "cell_type": "code",
   "execution_count": 114,
   "id": "e0c40b3e",
   "metadata": {},
   "outputs": [
    {
     "data": {
      "text/plain": [
       "tensor([[6.5957],\n",
       "        [5.3703],\n",
       "        [6.1203]], grad_fn=<ReluBackward0>)"
      ]
     },
     "execution_count": 114,
     "metadata": {},
     "output_type": "execute_result"
    }
   ],
   "source": [
    "second_pred = model(x)\n",
    "second_pred"
   ]
  },
  {
   "cell_type": "code",
   "execution_count": 115,
   "id": "4febce70",
   "metadata": {},
   "outputs": [
    {
     "data": {
      "text/plain": [
       "tensor([28.7898], grad_fn=<DivBackward0>)"
      ]
     },
     "execution_count": 115,
     "metadata": {},
     "output_type": "execute_result"
    }
   ],
   "source": [
    "calc_loss(second_pred)"
   ]
  },
  {
   "cell_type": "code",
   "execution_count": 116,
   "id": "5744e0e8",
   "metadata": {},
   "outputs": [
    {
     "data": {
      "text/plain": [
       "tensor([[0.6160, 1.7075]])"
      ]
     },
     "execution_count": 116,
     "metadata": {},
     "output_type": "execute_result"
    }
   ],
   "source": [
    "model.fc1.weight.data"
   ]
  },
  {
   "cell_type": "markdown",
   "id": "444bc532",
   "metadata": {},
   "source": [
    "# First Pass"
   ]
  },
  {
   "cell_type": "code",
   "execution_count": 117,
   "id": "7d2c4c96",
   "metadata": {},
   "outputs": [
    {
     "data": {
      "text/plain": [
       "(torch.Size([3, 2]), torch.Size([1, 2]), torch.Size([1]))"
      ]
     },
     "execution_count": 117,
     "metadata": {},
     "output_type": "execute_result"
    }
   ],
   "source": [
    "x.shape, w1.shape, b1.shape"
   ]
  },
  {
   "cell_type": "code",
   "execution_count": 118,
   "id": "c7148959",
   "metadata": {},
   "outputs": [],
   "source": [
    "w1 = w1.t()"
   ]
  },
  {
   "cell_type": "code",
   "execution_count": 119,
   "id": "184e3589",
   "metadata": {},
   "outputs": [],
   "source": [
    "def lin(x, w, b):\n",
    "    return x @ w + b"
   ]
  },
  {
   "cell_type": "code",
   "execution_count": 120,
   "id": "bb491d62",
   "metadata": {},
   "outputs": [
    {
     "data": {
      "text/plain": [
       "tensor([[8.0000],\n",
       "        [7.4000],\n",
       "        [8.0000]])"
      ]
     },
     "execution_count": 120,
     "metadata": {},
     "output_type": "execute_result"
    }
   ],
   "source": [
    "fc_res = lin(x, w1, b1)\n",
    "fc_res"
   ]
  },
  {
   "cell_type": "code",
   "execution_count": 121,
   "id": "3acbea8b",
   "metadata": {},
   "outputs": [],
   "source": [
    "relu_pass_1 = relu(fc_res)"
   ]
  },
  {
   "cell_type": "code",
   "execution_count": 122,
   "id": "c26489a5",
   "metadata": {},
   "outputs": [
    {
     "data": {
      "text/plain": [
       "(torch.Size([3, 1]), torch.Size([3]))"
      ]
     },
     "execution_count": 122,
     "metadata": {},
     "output_type": "execute_result"
    }
   ],
   "source": [
    "fc_res.shape, y.shape"
   ]
  },
  {
   "cell_type": "code",
   "execution_count": 123,
   "id": "13bb06a0",
   "metadata": {},
   "outputs": [
    {
     "data": {
      "text/plain": [
       "tensor([50.9200])"
      ]
     },
     "execution_count": 123,
     "metadata": {},
     "output_type": "execute_result"
    }
   ],
   "source": [
    "calc_loss(relu_pass_1)"
   ]
  },
  {
   "cell_type": "markdown",
   "id": "fc68150d",
   "metadata": {},
   "source": [
    "# Back Propogation"
   ]
  },
  {
   "cell_type": "code",
   "execution_count": 124,
   "id": "91300f6d",
   "metadata": {},
   "outputs": [],
   "source": [
    "def mse_grad(inp, targ):\n",
    "#     set_trace()\n",
    "    inp.gradient = 2. * (inp.squeeze() - targ).unsqueeze(-1) / inp.shape[0]"
   ]
  },
  {
   "cell_type": "code",
   "execution_count": 125,
   "id": "4ae0d6f7",
   "metadata": {},
   "outputs": [
    {
     "ename": "AttributeError",
     "evalue": "'Tensor' object has no attribute 'gradient'",
     "output_type": "error",
     "traceback": [
      "\u001b[0;31m---------------------------------------------------------------------------\u001b[0m",
      "\u001b[0;31mAttributeError\u001b[0m                            Traceback (most recent call last)",
      "Cell \u001b[0;32mIn[125], line 1\u001b[0m\n\u001b[0;32m----> 1\u001b[0m \u001b[43mrelu_pass_1\u001b[49m\u001b[38;5;241;43m.\u001b[39;49m\u001b[43mgradient\u001b[49m\n",
      "\u001b[0;31mAttributeError\u001b[0m: 'Tensor' object has no attribute 'gradient'"
     ]
    }
   ],
   "source": [
    "relu_pass_1.gradient"
   ]
  },
  {
   "cell_type": "code",
   "execution_count": 126,
   "id": "9232dca0",
   "metadata": {},
   "outputs": [],
   "source": [
    "mse_grad(relu_pass_1, y)"
   ]
  },
  {
   "cell_type": "code",
   "execution_count": 127,
   "id": "4d28cab7-889c-459b-aeb7-ce97e2b43a4e",
   "metadata": {},
   "outputs": [
    {
     "data": {
      "text/plain": [
       "tensor([[8.0000],\n",
       "        [7.4000],\n",
       "        [8.0000]])"
      ]
     },
     "execution_count": 127,
     "metadata": {},
     "output_type": "execute_result"
    }
   ],
   "source": [
    "relu_pass_1"
   ]
  },
  {
   "cell_type": "code",
   "execution_count": 128,
   "id": "2ef01931-cca3-4d57-af93-6b8798cd78c3",
   "metadata": {},
   "outputs": [
    {
     "data": {
      "text/plain": [
       "torch.Size([3, 1])"
      ]
     },
     "execution_count": 128,
     "metadata": {},
     "output_type": "execute_result"
    }
   ],
   "source": [
    "relu_pass_1.shape"
   ]
  },
  {
   "cell_type": "code",
   "execution_count": 129,
   "id": "b614b080-8a55-4bc6-aa08-437c6592c492",
   "metadata": {},
   "outputs": [
    {
     "data": {
      "text/plain": [
       "tensor([8.0000, 7.4000, 8.0000])"
      ]
     },
     "execution_count": 129,
     "metadata": {},
     "output_type": "execute_result"
    }
   ],
   "source": [
    "relu_pass_1.squeeze()"
   ]
  },
  {
   "cell_type": "code",
   "execution_count": 130,
   "id": "fd1f3e07-6593-416f-bb91-998429dd5ff2",
   "metadata": {},
   "outputs": [
    {
     "data": {
      "text/plain": [
       "torch.Size([3])"
      ]
     },
     "execution_count": 130,
     "metadata": {},
     "output_type": "execute_result"
    }
   ],
   "source": [
    "y.shape"
   ]
  },
  {
   "cell_type": "code",
   "execution_count": 131,
   "id": "e395383a-2180-46b0-bbdc-9924fc91da08",
   "metadata": {},
   "outputs": [
    {
     "data": {
      "text/plain": [
       "tensor([1., 0., 1.])"
      ]
     },
     "execution_count": 131,
     "metadata": {},
     "output_type": "execute_result"
    }
   ],
   "source": [
    "y"
   ]
  },
  {
   "cell_type": "code",
   "execution_count": 132,
   "id": "32b23f47-3715-4347-91ee-e4af8906d220",
   "metadata": {},
   "outputs": [
    {
     "data": {
      "text/plain": [
       "tensor([7.0000, 7.4000, 7.0000])"
      ]
     },
     "execution_count": 132,
     "metadata": {},
     "output_type": "execute_result"
    }
   ],
   "source": [
    "relu_pass_1.squeeze() - y"
   ]
  },
  {
   "cell_type": "code",
   "execution_count": 133,
   "id": "fcb9d7bb-87fb-4fba-bf94-b9b1c957a784",
   "metadata": {},
   "outputs": [
    {
     "data": {
      "text/plain": [
       "tensor([[8.0000],\n",
       "        [7.4000],\n",
       "        [8.0000]])"
      ]
     },
     "execution_count": 133,
     "metadata": {},
     "output_type": "execute_result"
    }
   ],
   "source": [
    "relu_pass_1 "
   ]
  },
  {
   "cell_type": "code",
   "execution_count": 134,
   "id": "077ded0f-b1f8-4112-8bc3-7a8fe78f916e",
   "metadata": {},
   "outputs": [
    {
     "data": {
      "text/plain": [
       "3"
      ]
     },
     "execution_count": 134,
     "metadata": {},
     "output_type": "execute_result"
    }
   ],
   "source": [
    "relu_pass_1.shape[0]"
   ]
  },
  {
   "cell_type": "code",
   "execution_count": 135,
   "id": "1f171063-6314-45f2-ac09-a2ad66579e29",
   "metadata": {},
   "outputs": [],
   "source": [
    "new_ten = torch.tensor([7.0, 7.4, 7.0])"
   ]
  },
  {
   "cell_type": "code",
   "execution_count": 138,
   "id": "28ffda83-4cb8-4632-9c04-a55da2991c13",
   "metadata": {},
   "outputs": [
    {
     "data": {
      "text/plain": [
       "torch.Size([3])"
      ]
     },
     "execution_count": 138,
     "metadata": {},
     "output_type": "execute_result"
    }
   ],
   "source": [
    "new_ten.shape"
   ]
  },
  {
   "cell_type": "code",
   "execution_count": 139,
   "id": "faf80142-7b4f-47a2-9468-9fe3a4279a1c",
   "metadata": {},
   "outputs": [
    {
     "data": {
      "text/plain": [
       "tensor([[2.3333],\n",
       "        [2.4667],\n",
       "        [2.3333]])"
      ]
     },
     "execution_count": 139,
     "metadata": {},
     "output_type": "execute_result"
    }
   ],
   "source": [
    "new_ten.unsqueeze(1) / relu_pass_1.shape[0]"
   ]
  },
  {
   "cell_type": "code",
   "execution_count": 141,
   "id": "5ad983a6-fc47-46b8-9eb9-0bea18e63dff",
   "metadata": {},
   "outputs": [
    {
     "data": {
      "text/plain": [
       "tensor([[4.6667],\n",
       "        [4.9333],\n",
       "        [4.6667]])"
      ]
     },
     "execution_count": 141,
     "metadata": {},
     "output_type": "execute_result"
    }
   ],
   "source": [
    "(new_ten.unsqueeze(1) / relu_pass_1.shape[0]) * 2"
   ]
  },
  {
   "cell_type": "code",
   "execution_count": 94,
   "id": "bd0e8a72",
   "metadata": {},
   "outputs": [
    {
     "data": {
      "text/plain": [
       "torch.Size([3, 1])"
      ]
     },
     "execution_count": 94,
     "metadata": {},
     "output_type": "execute_result"
    }
   ],
   "source": [
    "relu_pass_1.gradient.shape"
   ]
  },
  {
   "cell_type": "code",
   "execution_count": 95,
   "id": "25c27efe",
   "metadata": {},
   "outputs": [
    {
     "data": {
      "text/plain": [
       "tensor([[4.6667],\n",
       "        [4.9333],\n",
       "        [4.6667]])"
      ]
     },
     "execution_count": 95,
     "metadata": {},
     "output_type": "execute_result"
    }
   ],
   "source": [
    "relu_pass_1.gradient"
   ]
  },
  {
   "cell_type": "code",
   "execution_count": 32,
   "id": "f3274d1d",
   "metadata": {},
   "outputs": [
    {
     "data": {
      "text/plain": [
       "tensor([[38.4000, 29.2533]])"
      ]
     },
     "execution_count": 32,
     "metadata": {},
     "output_type": "execute_result"
    }
   ],
   "source": [
    "model.fc1.weight.grad"
   ]
  },
  {
   "cell_type": "code",
   "execution_count": 33,
   "id": "c41920ff",
   "metadata": {},
   "outputs": [],
   "source": [
    "def relu_grad(inp, out):\n",
    "    # gradient of relu multiplied by the gradient of the next layer\n",
    "    inp.gradient = (inp > 0).float() * out.gradient"
   ]
  },
  {
   "cell_type": "code",
   "execution_count": 34,
   "id": "7edc9a76",
   "metadata": {},
   "outputs": [
    {
     "ename": "AttributeError",
     "evalue": "'Tensor' object has no attribute 'gradient'",
     "output_type": "error",
     "traceback": [
      "\u001b[0;31m---------------------------------------------------------------------------\u001b[0m",
      "\u001b[0;31mAttributeError\u001b[0m                            Traceback (most recent call last)",
      "Cell \u001b[0;32mIn[34], line 1\u001b[0m\n\u001b[0;32m----> 1\u001b[0m \u001b[43mrelu_grad\u001b[49m\u001b[43m(\u001b[49m\u001b[43mfc_res\u001b[49m\u001b[43m,\u001b[49m\u001b[43m \u001b[49m\u001b[43mrelu_pass_1\u001b[49m\u001b[43m)\u001b[49m\n",
      "Cell \u001b[0;32mIn[33], line 3\u001b[0m, in \u001b[0;36mrelu_grad\u001b[0;34m(inp, out)\u001b[0m\n\u001b[1;32m      1\u001b[0m \u001b[38;5;28;01mdef\u001b[39;00m \u001b[38;5;21mrelu_grad\u001b[39m(inp, out):\n\u001b[1;32m      2\u001b[0m     \u001b[38;5;66;03m# gradient of relu multiplied by the gradient of the next layer\u001b[39;00m\n\u001b[0;32m----> 3\u001b[0m     inp\u001b[38;5;241m.\u001b[39mgradient \u001b[38;5;241m=\u001b[39m (inp \u001b[38;5;241m>\u001b[39m \u001b[38;5;241m0\u001b[39m)\u001b[38;5;241m.\u001b[39mfloat() \u001b[38;5;241m*\u001b[39m \u001b[43mout\u001b[49m\u001b[38;5;241;43m.\u001b[39;49m\u001b[43mgradient\u001b[49m\n",
      "\u001b[0;31mAttributeError\u001b[0m: 'Tensor' object has no attribute 'gradient'"
     ]
    }
   ],
   "source": [
    "relu_grad(fc_res, relu_pass_1)"
   ]
  },
  {
   "cell_type": "code",
   "execution_count": 35,
   "id": "b222004c",
   "metadata": {},
   "outputs": [
    {
     "ename": "AttributeError",
     "evalue": "'Tensor' object has no attribute 'gradient'",
     "output_type": "error",
     "traceback": [
      "\u001b[0;31m---------------------------------------------------------------------------\u001b[0m",
      "\u001b[0;31mAttributeError\u001b[0m                            Traceback (most recent call last)",
      "Cell \u001b[0;32mIn[35], line 1\u001b[0m\n\u001b[0;32m----> 1\u001b[0m \u001b[43mfc_res\u001b[49m\u001b[38;5;241;43m.\u001b[39;49m\u001b[43mgradient\u001b[49m\n",
      "\u001b[0;31mAttributeError\u001b[0m: 'Tensor' object has no attribute 'gradient'"
     ]
    }
   ],
   "source": [
    "fc_res.gradient"
   ]
  },
  {
   "cell_type": "code",
   "execution_count": 36,
   "id": "b9919b91",
   "metadata": {},
   "outputs": [
    {
     "data": {
      "text/plain": [
       "tensor([[38.4000, 29.2533]])"
      ]
     },
     "execution_count": 36,
     "metadata": {},
     "output_type": "execute_result"
    }
   ],
   "source": [
    "model.fc1.weight.grad"
   ]
  },
  {
   "cell_type": "code",
   "execution_count": 37,
   "id": "1d0040a3",
   "metadata": {},
   "outputs": [],
   "source": [
    "def lin_grad(inp, out, w, b):\n",
    "#     set_trace()\n",
    "    \n",
    "    # the gradient of a matrix product, is the matrix product with a transpose\n",
    "    inp.gradient = out.gradient @ w.t()\n",
    "        \n",
    "#     w.gradient = (inp.unsqueeze(-1) * out.gradient.unsqueeze(1)).sum(0)\n",
    "    w.gradient = (inp * out.gradient).sum(0)\n",
    "\n",
    "    b.gradient  = out.gradient.sum(0)"
   ]
  },
  {
   "cell_type": "code",
   "execution_count": 38,
   "id": "32f93304",
   "metadata": {},
   "outputs": [
    {
     "ename": "AttributeError",
     "evalue": "'Tensor' object has no attribute 'gradient'",
     "output_type": "error",
     "traceback": [
      "\u001b[0;31m---------------------------------------------------------------------------\u001b[0m",
      "\u001b[0;31mAttributeError\u001b[0m                            Traceback (most recent call last)",
      "Cell \u001b[0;32mIn[38], line 1\u001b[0m\n\u001b[0;32m----> 1\u001b[0m \u001b[43mfc_res\u001b[49m\u001b[38;5;241;43m.\u001b[39;49m\u001b[43mgradient\u001b[49m\u001b[38;5;241m.\u001b[39mshape, w1\u001b[38;5;241m.\u001b[39mshape\n",
      "\u001b[0;31mAttributeError\u001b[0m: 'Tensor' object has no attribute 'gradient'"
     ]
    }
   ],
   "source": [
    "fc_res.gradient.shape, w1.shape"
   ]
  },
  {
   "cell_type": "code",
   "execution_count": 39,
   "id": "239733da",
   "metadata": {},
   "outputs": [
    {
     "ename": "AttributeError",
     "evalue": "'Tensor' object has no attribute 'gradient'",
     "output_type": "error",
     "traceback": [
      "\u001b[0;31m---------------------------------------------------------------------------\u001b[0m",
      "\u001b[0;31mAttributeError\u001b[0m                            Traceback (most recent call last)",
      "Cell \u001b[0;32mIn[39], line 1\u001b[0m\n\u001b[0;32m----> 1\u001b[0m \u001b[43mlin_grad\u001b[49m\u001b[43m(\u001b[49m\u001b[43mx\u001b[49m\u001b[43m,\u001b[49m\u001b[43m \u001b[49m\u001b[43mfc_res\u001b[49m\u001b[43m,\u001b[49m\u001b[43m \u001b[49m\u001b[43mw1\u001b[49m\u001b[43m,\u001b[49m\u001b[43m \u001b[49m\u001b[43mb1\u001b[49m\u001b[43m)\u001b[49m\n",
      "Cell \u001b[0;32mIn[37], line 5\u001b[0m, in \u001b[0;36mlin_grad\u001b[0;34m(inp, out, w, b)\u001b[0m\n\u001b[1;32m      1\u001b[0m \u001b[38;5;28;01mdef\u001b[39;00m \u001b[38;5;21mlin_grad\u001b[39m(inp, out, w, b):\n\u001b[1;32m      2\u001b[0m \u001b[38;5;66;03m#     set_trace()\u001b[39;00m\n\u001b[1;32m      3\u001b[0m     \n\u001b[1;32m      4\u001b[0m     \u001b[38;5;66;03m# the gradient of a matrix product, is the matrix product with a transpose\u001b[39;00m\n\u001b[0;32m----> 5\u001b[0m     inp\u001b[38;5;241m.\u001b[39mgradient \u001b[38;5;241m=\u001b[39m \u001b[43mout\u001b[49m\u001b[38;5;241;43m.\u001b[39;49m\u001b[43mgradient\u001b[49m \u001b[38;5;241m@\u001b[39m w\u001b[38;5;241m.\u001b[39mt()\n\u001b[1;32m      7\u001b[0m \u001b[38;5;66;03m#     w.gradient = (inp.unsqueeze(-1) * out.gradient.unsqueeze(1)).sum(0)\u001b[39;00m\n\u001b[1;32m      8\u001b[0m     w\u001b[38;5;241m.\u001b[39mgradient \u001b[38;5;241m=\u001b[39m (inp \u001b[38;5;241m*\u001b[39m out\u001b[38;5;241m.\u001b[39mgradient)\u001b[38;5;241m.\u001b[39msum(\u001b[38;5;241m0\u001b[39m)\n",
      "\u001b[0;31mAttributeError\u001b[0m: 'Tensor' object has no attribute 'gradient'"
     ]
    }
   ],
   "source": [
    "lin_grad(x, fc_res, w1, b1)"
   ]
  },
  {
   "cell_type": "code",
   "execution_count": 40,
   "id": "b7b95294",
   "metadata": {},
   "outputs": [
    {
     "ename": "AttributeError",
     "evalue": "'Tensor' object has no attribute 'gradient'",
     "output_type": "error",
     "traceback": [
      "\u001b[0;31m---------------------------------------------------------------------------\u001b[0m",
      "\u001b[0;31mAttributeError\u001b[0m                            Traceback (most recent call last)",
      "Cell \u001b[0;32mIn[40], line 1\u001b[0m\n\u001b[0;32m----> 1\u001b[0m x\u001b[38;5;241m.\u001b[39mshape, \u001b[43mfc_res\u001b[49m\u001b[38;5;241;43m.\u001b[39;49m\u001b[43mgradient\u001b[49m\u001b[38;5;241m.\u001b[39mshape\n",
      "\u001b[0;31mAttributeError\u001b[0m: 'Tensor' object has no attribute 'gradient'"
     ]
    }
   ],
   "source": [
    "x.shape, fc_res.gradient.shape"
   ]
  },
  {
   "cell_type": "code",
   "execution_count": 41,
   "id": "53761fa2",
   "metadata": {},
   "outputs": [
    {
     "ename": "AttributeError",
     "evalue": "'Tensor' object has no attribute 'gradient'",
     "output_type": "error",
     "traceback": [
      "\u001b[0;31m---------------------------------------------------------------------------\u001b[0m",
      "\u001b[0;31mAttributeError\u001b[0m                            Traceback (most recent call last)",
      "Cell \u001b[0;32mIn[41], line 1\u001b[0m\n\u001b[0;32m----> 1\u001b[0m \u001b[43mw1\u001b[49m\u001b[38;5;241;43m.\u001b[39;49m\u001b[43mgradient\u001b[49m\n",
      "\u001b[0;31mAttributeError\u001b[0m: 'Tensor' object has no attribute 'gradient'"
     ]
    }
   ],
   "source": [
    "w1.gradient"
   ]
  },
  {
   "cell_type": "code",
   "execution_count": 42,
   "id": "5c3036ed",
   "metadata": {},
   "outputs": [
    {
     "data": {
      "text/plain": [
       "tensor([[38.4000, 29.2533]])"
      ]
     },
     "execution_count": 42,
     "metadata": {},
     "output_type": "execute_result"
    }
   ],
   "source": [
    "model.fc1.weight.grad"
   ]
  },
  {
   "cell_type": "markdown",
   "id": "d629b6f9",
   "metadata": {},
   "source": [
    "# Re Calculate Weights"
   ]
  },
  {
   "cell_type": "code",
   "execution_count": 43,
   "id": "6e44bf8f",
   "metadata": {},
   "outputs": [],
   "source": [
    "lr = 0.01"
   ]
  },
  {
   "cell_type": "code",
   "execution_count": 44,
   "id": "7bc8aa9b",
   "metadata": {
    "scrolled": true
   },
   "outputs": [
    {
     "ename": "AttributeError",
     "evalue": "'Tensor' object has no attribute 'gradient'",
     "output_type": "error",
     "traceback": [
      "\u001b[0;31m---------------------------------------------------------------------------\u001b[0m",
      "\u001b[0;31mAttributeError\u001b[0m                            Traceback (most recent call last)",
      "Cell \u001b[0;32mIn[44], line 1\u001b[0m\n\u001b[0;32m----> 1\u001b[0m w1 \u001b[38;5;241m=\u001b[39m w1 \u001b[38;5;241m-\u001b[39m lr \u001b[38;5;241m*\u001b[39m \u001b[43mw1\u001b[49m\u001b[38;5;241;43m.\u001b[39;49m\u001b[43mgradient\u001b[49m\u001b[38;5;241m.\u001b[39munsqueeze(\u001b[38;5;241m1\u001b[39m)\n\u001b[1;32m      2\u001b[0m b1 \u001b[38;5;241m-\u001b[39m\u001b[38;5;241m=\u001b[39m lr \u001b[38;5;241m*\u001b[39m b1\u001b[38;5;241m.\u001b[39mgradient\n",
      "\u001b[0;31mAttributeError\u001b[0m: 'Tensor' object has no attribute 'gradient'"
     ]
    }
   ],
   "source": [
    "w1 = w1 - lr * w1.gradient.unsqueeze(1)\n",
    "b1 -= lr * b1.gradient"
   ]
  },
  {
   "cell_type": "code",
   "execution_count": 45,
   "id": "d0b296f8",
   "metadata": {},
   "outputs": [
    {
     "data": {
      "text/plain": [
       "tensor([[0.6160, 1.7075]])"
      ]
     },
     "execution_count": 45,
     "metadata": {},
     "output_type": "execute_result"
    }
   ],
   "source": [
    "model.fc1.weight.data"
   ]
  },
  {
   "cell_type": "code",
   "execution_count": 46,
   "id": "95ce4c1a",
   "metadata": {},
   "outputs": [
    {
     "data": {
      "text/plain": [
       "tensor([[1.],\n",
       "        [2.]])"
      ]
     },
     "execution_count": 46,
     "metadata": {},
     "output_type": "execute_result"
    }
   ],
   "source": [
    "w1"
   ]
  },
  {
   "cell_type": "markdown",
   "id": "40b75653",
   "metadata": {},
   "source": [
    "# Re Calculate Loss"
   ]
  },
  {
   "cell_type": "code",
   "execution_count": 47,
   "id": "a2ea9457",
   "metadata": {},
   "outputs": [
    {
     "data": {
      "text/plain": [
       "tensor([[8.0000],\n",
       "        [7.4000],\n",
       "        [8.0000]])"
      ]
     },
     "execution_count": 47,
     "metadata": {},
     "output_type": "execute_result"
    }
   ],
   "source": [
    "fc_res_2 = lin(x, w1.squeeze(0), b1)\n",
    "fc_res_2"
   ]
  },
  {
   "cell_type": "code",
   "execution_count": 48,
   "id": "8813d8ed",
   "metadata": {},
   "outputs": [
    {
     "data": {
      "text/plain": [
       "tensor([[8.0000],\n",
       "        [7.4000],\n",
       "        [8.0000]])"
      ]
     },
     "execution_count": 48,
     "metadata": {},
     "output_type": "execute_result"
    }
   ],
   "source": [
    "relu_pass_2 = relu(fc_res_2)\n",
    "relu_pass_2"
   ]
  },
  {
   "cell_type": "code",
   "execution_count": 49,
   "id": "89acfee4",
   "metadata": {},
   "outputs": [
    {
     "data": {
      "text/plain": [
       "tensor([50.9200])"
      ]
     },
     "execution_count": 49,
     "metadata": {},
     "output_type": "execute_result"
    }
   ],
   "source": [
    "calc_loss(relu_pass_2)"
   ]
  },
  {
   "cell_type": "code",
   "execution_count": 50,
   "id": "baa678dd",
   "metadata": {},
   "outputs": [
    {
     "data": {
      "text/plain": [
       "(tensor([[1.],\n",
       "         [2.]]),\n",
       " tensor([1.]))"
      ]
     },
     "execution_count": 50,
     "metadata": {},
     "output_type": "execute_result"
    }
   ],
   "source": [
    "w1, b1"
   ]
  },
  {
   "cell_type": "code",
   "execution_count": 51,
   "id": "73b20986",
   "metadata": {},
   "outputs": [
    {
     "data": {
      "text/plain": [
       "tensor([0.8573])"
      ]
     },
     "execution_count": 51,
     "metadata": {},
     "output_type": "execute_result"
    }
   ],
   "source": [
    "model.fc1.bias.data"
   ]
  },
  {
   "cell_type": "markdown",
   "id": "a1c54792",
   "metadata": {},
   "source": [
    "# Recalculate Weights Second time"
   ]
  },
  {
   "cell_type": "code",
   "execution_count": 52,
   "id": "ef968167",
   "metadata": {},
   "outputs": [
    {
     "name": "stdout",
     "output_type": "stream",
     "text": [
      "loss is tensor(28.7898, grad_fn=<MseLossBackward0>)\n",
      "New Loss after one step: 16.442419052124023\n"
     ]
    }
   ],
   "source": [
    "train()"
   ]
  },
  {
   "cell_type": "code",
   "execution_count": 53,
   "id": "e00ded93",
   "metadata": {},
   "outputs": [
    {
     "data": {
      "text/plain": [
       "tensor([[0.3331, 1.4843]])"
      ]
     },
     "execution_count": 53,
     "metadata": {},
     "output_type": "execute_result"
    }
   ],
   "source": [
    "model.fc1.weight.data"
   ]
  },
  {
   "cell_type": "code",
   "execution_count": 54,
   "id": "2dbe03d6",
   "metadata": {},
   "outputs": [
    {
     "data": {
      "text/plain": [
       "tensor([[28.2918, 22.3147]])"
      ]
     },
     "execution_count": 54,
     "metadata": {},
     "output_type": "execute_result"
    }
   ],
   "source": [
    "model.fc1.weight.grad"
   ]
  },
  {
   "cell_type": "code",
   "execution_count": 55,
   "id": "94ab003c",
   "metadata": {},
   "outputs": [],
   "source": [
    "fc_res_2 = lin(x, w1, b1)"
   ]
  },
  {
   "cell_type": "code",
   "execution_count": 56,
   "id": "7024bec4",
   "metadata": {},
   "outputs": [],
   "source": [
    "relu_res_2 = relu(fc_res_2)"
   ]
  },
  {
   "cell_type": "code",
   "execution_count": 57,
   "id": "11b7a507",
   "metadata": {},
   "outputs": [
    {
     "data": {
      "text/plain": [
       "tensor([[8.0000],\n",
       "        [7.4000],\n",
       "        [8.0000]])"
      ]
     },
     "execution_count": 57,
     "metadata": {},
     "output_type": "execute_result"
    }
   ],
   "source": [
    "relu_res_2"
   ]
  },
  {
   "cell_type": "code",
   "execution_count": 58,
   "id": "4b742159",
   "metadata": {},
   "outputs": [],
   "source": [
    "mse_grad(relu_res_2, y)"
   ]
  },
  {
   "cell_type": "code",
   "execution_count": 59,
   "id": "09e4e8ea",
   "metadata": {},
   "outputs": [],
   "source": [
    "relu_grad(fc_res_2, relu_res_2)"
   ]
  },
  {
   "cell_type": "code",
   "execution_count": 60,
   "id": "4f7fbc9d",
   "metadata": {},
   "outputs": [],
   "source": [
    "lin_grad(x, fc_res_2, w1, b1)"
   ]
  },
  {
   "cell_type": "code",
   "execution_count": 61,
   "id": "0a18ccf6",
   "metadata": {},
   "outputs": [],
   "source": [
    "w1 = w1 - lr * w1.gradient.unsqueeze(1)\n",
    "b1 -= lr * b1.gradient"
   ]
  },
  {
   "cell_type": "code",
   "execution_count": 62,
   "id": "6cac2804",
   "metadata": {},
   "outputs": [
    {
     "data": {
      "text/plain": [
       "tensor([[0.3331, 1.4843]])"
      ]
     },
     "execution_count": 62,
     "metadata": {},
     "output_type": "execute_result"
    }
   ],
   "source": [
    "model.fc1.weight.data"
   ]
  },
  {
   "cell_type": "code",
   "execution_count": 63,
   "id": "6e97ba2c",
   "metadata": {},
   "outputs": [
    {
     "data": {
      "text/plain": [
       "tensor([[0.6160],\n",
       "        [1.7075]])"
      ]
     },
     "execution_count": 63,
     "metadata": {},
     "output_type": "execute_result"
    }
   ],
   "source": [
    "w1"
   ]
  },
  {
   "cell_type": "code",
   "execution_count": 64,
   "id": "c4ed1ed3",
   "metadata": {},
   "outputs": [],
   "source": [
    "res_after_second_update_change = lin(x, w1, b1)"
   ]
  },
  {
   "cell_type": "code",
   "execution_count": 65,
   "id": "34934a9f",
   "metadata": {},
   "outputs": [
    {
     "data": {
      "text/plain": [
       "tensor([28.7898])"
      ]
     },
     "execution_count": 65,
     "metadata": {},
     "output_type": "execute_result"
    }
   ],
   "source": [
    "calc_loss(res_after_second_update_change)"
   ]
  },
  {
   "cell_type": "code",
   "execution_count": 66,
   "id": "b7ebabe6",
   "metadata": {},
   "outputs": [
    {
     "data": {
      "text/plain": [
       "tensor([[0.3331, 1.4843]])"
      ]
     },
     "execution_count": 66,
     "metadata": {},
     "output_type": "execute_result"
    }
   ],
   "source": [
    "model.fc1.weight.data"
   ]
  },
  {
   "cell_type": "code",
   "execution_count": 67,
   "id": "68e5297a",
   "metadata": {},
   "outputs": [
    {
     "data": {
      "text/plain": [
       "tensor([[0.6160],\n",
       "        [1.7075]])"
      ]
     },
     "execution_count": 67,
     "metadata": {},
     "output_type": "execute_result"
    }
   ],
   "source": [
    "w1"
   ]
  },
  {
   "cell_type": "code",
   "execution_count": 68,
   "id": "0441302b",
   "metadata": {},
   "outputs": [
    {
     "data": {
      "text/plain": [
       "tensor([0.7501])"
      ]
     },
     "execution_count": 68,
     "metadata": {},
     "output_type": "execute_result"
    }
   ],
   "source": [
    "model.fc1.bias.data"
   ]
  },
  {
   "cell_type": "code",
   "execution_count": 69,
   "id": "4d71eff6",
   "metadata": {},
   "outputs": [
    {
     "data": {
      "text/plain": [
       "tensor([0.8573])"
      ]
     },
     "execution_count": 69,
     "metadata": {},
     "output_type": "execute_result"
    }
   ],
   "source": [
    "b1"
   ]
  },
  {
   "cell_type": "code",
   "execution_count": 70,
   "id": "bffa3930",
   "metadata": {},
   "outputs": [
    {
     "data": {
      "text/plain": [
       "tensor([14.2667])"
      ]
     },
     "execution_count": 70,
     "metadata": {},
     "output_type": "execute_result"
    }
   ],
   "source": [
    "b1.gradient"
   ]
  },
  {
   "cell_type": "code",
   "execution_count": 71,
   "id": "7c3d8a7b",
   "metadata": {},
   "outputs": [
    {
     "data": {
      "text/plain": [
       "tensor([10.7242])"
      ]
     },
     "execution_count": 71,
     "metadata": {},
     "output_type": "execute_result"
    }
   ],
   "source": [
    "model.fc1.bias.grad"
   ]
  },
  {
   "cell_type": "code",
   "execution_count": null,
   "id": "9614fa90",
   "metadata": {},
   "outputs": [],
   "source": []
  },
  {
   "cell_type": "code",
   "execution_count": null,
   "id": "79944077-9d08-494f-b729-5b14959c5217",
   "metadata": {},
   "outputs": [],
   "source": []
  },
  {
   "cell_type": "code",
   "execution_count": null,
   "id": "e15320cd-3473-48de-95fa-656068147173",
   "metadata": {},
   "outputs": [],
   "source": []
  },
  {
   "cell_type": "code",
   "execution_count": null,
   "id": "fccaa572-e3fd-4031-82d0-9275c21e9da2",
   "metadata": {},
   "outputs": [],
   "source": []
  },
  {
   "cell_type": "code",
   "execution_count": null,
   "id": "e833afa5-558e-4230-8d33-346a23aef9a2",
   "metadata": {},
   "outputs": [],
   "source": []
  },
  {
   "cell_type": "code",
   "execution_count": null,
   "id": "73ad7022-f9db-4a21-98f4-3bb8b1b588cb",
   "metadata": {},
   "outputs": [],
   "source": []
  },
  {
   "cell_type": "code",
   "execution_count": null,
   "id": "b7d0d3b3-d04f-4477-89c2-b6aa54b72e47",
   "metadata": {},
   "outputs": [],
   "source": []
  }
 ],
 "metadata": {
  "kernelspec": {
   "display_name": "all_purpose_venv",
   "language": "python",
   "name": "all_purpose_venv"
  },
  "language_info": {
   "codemirror_mode": {
    "name": "ipython",
    "version": 3
   },
   "file_extension": ".py",
   "mimetype": "text/x-python",
   "name": "python",
   "nbconvert_exporter": "python",
   "pygments_lexer": "ipython3",
   "version": "3.11.2"
  },
  "toc": {
   "base_numbering": 1,
   "nav_menu": {},
   "number_sections": true,
   "sideBar": true,
   "skip_h1_title": false,
   "title_cell": "Table of Contents",
   "title_sidebar": "Contents",
   "toc_cell": false,
   "toc_position": {},
   "toc_section_display": true,
   "toc_window_display": false
  }
 },
 "nbformat": 4,
 "nbformat_minor": 5
}
