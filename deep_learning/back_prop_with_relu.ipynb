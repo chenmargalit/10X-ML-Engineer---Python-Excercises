{
 "cells": [
  {
   "cell_type": "code",
   "execution_count": 1,
   "id": "c9134f32",
   "metadata": {},
   "outputs": [],
   "source": [
    "import torch\n",
    "import torch.nn as nn\n",
    "import torch.optim as optim\n",
    "from pdb import set_trace"
   ]
  },
  {
   "cell_type": "markdown",
   "id": "f7f03d72",
   "metadata": {},
   "source": [
    "# Initialization"
   ]
  },
  {
   "cell_type": "code",
   "execution_count": 2,
   "id": "2ef1dcc1",
   "metadata": {},
   "outputs": [],
   "source": [
    "def relu(x): \n",
    "    return x.clamp_min(0.)"
   ]
  },
  {
   "cell_type": "code",
   "execution_count": 3,
   "id": "0c086e26",
   "metadata": {},
   "outputs": [],
   "source": [
    "def calc_grad():\n",
    "    for name, param in model.named_parameters():\n",
    "        if name == \"fc1.weight\":\n",
    "            print(\"Gradient of weight:\", param.grad)"
   ]
  },
  {
   "cell_type": "code",
   "execution_count": 4,
   "id": "35796c0c",
   "metadata": {},
   "outputs": [],
   "source": [
    "class SimpleNet(nn.Module):\n",
    "    def __init__(self):\n",
    "        super(SimpleNet, self).__init__()\n",
    "        self.fc1 = nn.Linear(2, 1) \n",
    "        self.relu = nn.ReLU()      \n",
    "#         self.fc2 = nn.Linear(1, 1) \n",
    "\n",
    "    def forward(self, x):\n",
    "        x = self.fc1(x)\n",
    "        x = self.relu(x)\n",
    "#         x = self.fc2(x)\n",
    "        return x"
   ]
  },
  {
   "cell_type": "code",
   "execution_count": 5,
   "id": "145d9371",
   "metadata": {},
   "outputs": [],
   "source": [
    "x = torch.tensor([\n",
    "    [1.0, 3.0],\n",
    "    [4.0, 1.2],\n",
    "    [3.0, 2.0]\n",
    "])\n",
    "y = torch.tensor([1.0, 0, 1.0])"
   ]
  },
  {
   "cell_type": "code",
   "execution_count": 6,
   "id": "394e892a",
   "metadata": {},
   "outputs": [
    {
     "data": {
      "text/plain": [
       "torch.Size([3, 2])"
      ]
     },
     "execution_count": 6,
     "metadata": {},
     "output_type": "execute_result"
    }
   ],
   "source": [
    "x.shape"
   ]
  },
  {
   "cell_type": "code",
   "execution_count": 7,
   "id": "734c8b31",
   "metadata": {},
   "outputs": [],
   "source": [
    "def train(inputs=x, targets=y):\n",
    "    optimizer.zero_grad()\n",
    "    outputs = model(inputs)\n",
    "    loss = criterion(outputs.squeeze(1), targets)\n",
    "    loss.backward()\n",
    "    optimizer.step()\n",
    "    print('loss is', loss)\n",
    "    outputs = model(inputs)\n",
    "    new_loss = criterion(outputs.squeeze(1), targets)\n",
    "    print(\"New Loss after one step:\", new_loss.item())"
   ]
  },
  {
   "cell_type": "code",
   "execution_count": 8,
   "id": "439adfa2",
   "metadata": {},
   "outputs": [],
   "source": [
    "model = SimpleNet()\n",
    "criterion = nn.MSELoss()\n",
    "optimizer = optim.SGD(model.parameters(), lr=0.01)"
   ]
  },
  {
   "cell_type": "code",
   "execution_count": 9,
   "id": "34d28ff4",
   "metadata": {},
   "outputs": [],
   "source": [
    "w1 = torch.tensor([[1.0, 2.0]])\n",
    "b1 = torch.tensor([1.0])"
   ]
  },
  {
   "cell_type": "code",
   "execution_count": 10,
   "id": "90aea5c0",
   "metadata": {},
   "outputs": [],
   "source": [
    "model.fc1.weight.data = w1.clone()\n",
    "model.fc1.bias.data = b1.clone()"
   ]
  },
  {
   "cell_type": "code",
   "execution_count": 11,
   "id": "be05d758",
   "metadata": {},
   "outputs": [],
   "source": [
    "model.fc1.weight.grad"
   ]
  },
  {
   "cell_type": "code",
   "execution_count": 12,
   "id": "2684872b",
   "metadata": {},
   "outputs": [
    {
     "data": {
      "text/plain": [
       "tensor([[1., 2.]])"
      ]
     },
     "execution_count": 12,
     "metadata": {},
     "output_type": "execute_result"
    }
   ],
   "source": [
    "model.fc1.weight.data"
   ]
  },
  {
   "cell_type": "code",
   "execution_count": 13,
   "id": "b8895655",
   "metadata": {},
   "outputs": [
    {
     "data": {
      "text/plain": [
       "tensor([[8.0000],\n",
       "        [7.4000],\n",
       "        [8.0000]], grad_fn=<ReluBackward0>)"
      ]
     },
     "execution_count": 13,
     "metadata": {},
     "output_type": "execute_result"
    }
   ],
   "source": [
    "first_pred = model(x)\n",
    "first_pred"
   ]
  },
  {
   "cell_type": "code",
   "execution_count": 14,
   "id": "e3e975fc",
   "metadata": {},
   "outputs": [],
   "source": [
    "def calc_loss(pred):\n",
    "    res = 0\n",
    "    for idx, num in enumerate(pred):\n",
    "        res += (pred[idx] - y[idx])**2\n",
    "    return res / len(pred)"
   ]
  },
  {
   "cell_type": "code",
   "execution_count": 15,
   "id": "9a870f6f",
   "metadata": {},
   "outputs": [
    {
     "data": {
      "text/plain": [
       "tensor([50.9200], grad_fn=<DivBackward0>)"
      ]
     },
     "execution_count": 15,
     "metadata": {},
     "output_type": "execute_result"
    }
   ],
   "source": [
    "calc_loss(first_pred)    "
   ]
  },
  {
   "cell_type": "code",
   "execution_count": 16,
   "id": "447cff37",
   "metadata": {},
   "outputs": [
    {
     "data": {
      "text/plain": [
       "(torch.Size([3, 1]), torch.Size([3]))"
      ]
     },
     "execution_count": 16,
     "metadata": {},
     "output_type": "execute_result"
    }
   ],
   "source": [
    "first_pred.shape, y.shape"
   ]
  },
  {
   "cell_type": "code",
   "execution_count": 17,
   "id": "493b8f23",
   "metadata": {},
   "outputs": [
    {
     "name": "stdout",
     "output_type": "stream",
     "text": [
      "loss is tensor(50.9200, grad_fn=<MseLossBackward0>)\n",
      "New Loss after one step: 28.7898006439209\n"
     ]
    }
   ],
   "source": [
    "train()"
   ]
  },
  {
   "cell_type": "code",
   "execution_count": 18,
   "id": "e0c40b3e",
   "metadata": {},
   "outputs": [
    {
     "data": {
      "text/plain": [
       "tensor([[6.5957],\n",
       "        [5.3703],\n",
       "        [6.1203]], grad_fn=<ReluBackward0>)"
      ]
     },
     "execution_count": 18,
     "metadata": {},
     "output_type": "execute_result"
    }
   ],
   "source": [
    "second_pred = model(x)\n",
    "second_pred"
   ]
  },
  {
   "cell_type": "code",
   "execution_count": 19,
   "id": "4febce70",
   "metadata": {},
   "outputs": [
    {
     "data": {
      "text/plain": [
       "tensor([28.7898], grad_fn=<DivBackward0>)"
      ]
     },
     "execution_count": 19,
     "metadata": {},
     "output_type": "execute_result"
    }
   ],
   "source": [
    "calc_loss(second_pred)"
   ]
  },
  {
   "cell_type": "code",
   "execution_count": null,
   "id": "5744e0e8",
   "metadata": {},
   "outputs": [],
   "source": [
    "model.fc1.weight.data"
   ]
  },
  {
   "cell_type": "markdown",
   "id": "444bc532",
   "metadata": {},
   "source": [
    "# First Pass"
   ]
  },
  {
   "cell_type": "code",
   "execution_count": 20,
   "id": "7d2c4c96",
   "metadata": {},
   "outputs": [
    {
     "data": {
      "text/plain": [
       "(torch.Size([3, 2]), torch.Size([1, 2]), torch.Size([1]))"
      ]
     },
     "execution_count": 20,
     "metadata": {},
     "output_type": "execute_result"
    }
   ],
   "source": [
    "x.shape, w1.shape, b1.shape"
   ]
  },
  {
   "cell_type": "code",
   "execution_count": 21,
   "id": "c7148959",
   "metadata": {},
   "outputs": [],
   "source": [
    "w1 = w1.t()"
   ]
  },
  {
   "cell_type": "code",
   "execution_count": 22,
   "id": "184e3589",
   "metadata": {},
   "outputs": [],
   "source": [
    "def lin(x, w, b):\n",
    "    return x @ w + b"
   ]
  },
  {
   "cell_type": "code",
   "execution_count": 23,
   "id": "bb491d62",
   "metadata": {},
   "outputs": [
    {
     "data": {
      "text/plain": [
       "tensor([[8.0000],\n",
       "        [7.4000],\n",
       "        [8.0000]])"
      ]
     },
     "execution_count": 23,
     "metadata": {},
     "output_type": "execute_result"
    }
   ],
   "source": [
    "fc_res = lin(x, w1, b1)\n",
    "fc_res"
   ]
  },
  {
   "cell_type": "code",
   "execution_count": 24,
   "id": "3acbea8b",
   "metadata": {},
   "outputs": [],
   "source": [
    "relu_pass_1 = relu(fc_res)"
   ]
  },
  {
   "cell_type": "code",
   "execution_count": 26,
   "id": "c26489a5",
   "metadata": {},
   "outputs": [
    {
     "data": {
      "text/plain": [
       "(torch.Size([3, 1]), torch.Size([3]))"
      ]
     },
     "execution_count": 26,
     "metadata": {},
     "output_type": "execute_result"
    }
   ],
   "source": [
    "fc_res.shape, y.shape"
   ]
  },
  {
   "cell_type": "code",
   "execution_count": 27,
   "id": "13bb06a0",
   "metadata": {},
   "outputs": [
    {
     "data": {
      "text/plain": [
       "tensor([50.9200])"
      ]
     },
     "execution_count": 27,
     "metadata": {},
     "output_type": "execute_result"
    }
   ],
   "source": [
    "calc_loss(relu_pass_1)"
   ]
  },
  {
   "cell_type": "markdown",
   "id": "fc68150d",
   "metadata": {},
   "source": [
    "# Back Propogation"
   ]
  },
  {
   "cell_type": "code",
   "execution_count": 30,
   "id": "91300f6d",
   "metadata": {},
   "outputs": [],
   "source": [
    "def mse_grad(inp, targ):\n",
    "#     set_trace()\n",
    "    inp.gradient = 2. * (inp.squeeze() - targ).unsqueeze(-1) / inp.shape[0]"
   ]
  },
  {
   "cell_type": "code",
   "execution_count": 28,
   "id": "4ae0d6f7",
   "metadata": {},
   "outputs": [
    {
     "ename": "AttributeError",
     "evalue": "'Tensor' object has no attribute 'gradient'",
     "output_type": "error",
     "traceback": [
      "\u001b[0;31m---------------------------------------------------------------------------\u001b[0m",
      "\u001b[0;31mAttributeError\u001b[0m                            Traceback (most recent call last)",
      "Cell \u001b[0;32mIn[28], line 1\u001b[0m\n\u001b[0;32m----> 1\u001b[0m \u001b[43mrelu_pass_1\u001b[49m\u001b[38;5;241;43m.\u001b[39;49m\u001b[43mgradient\u001b[49m\n",
      "\u001b[0;31mAttributeError\u001b[0m: 'Tensor' object has no attribute 'gradient'"
     ]
    }
   ],
   "source": [
    "relu_pass_1.gradient"
   ]
  },
  {
   "cell_type": "code",
   "execution_count": 31,
   "id": "9232dca0",
   "metadata": {},
   "outputs": [],
   "source": [
    "mse_grad(relu_pass_1, y)"
   ]
  },
  {
   "cell_type": "code",
   "execution_count": 32,
   "id": "bd0e8a72",
   "metadata": {},
   "outputs": [
    {
     "data": {
      "text/plain": [
       "torch.Size([3, 1])"
      ]
     },
     "execution_count": 32,
     "metadata": {},
     "output_type": "execute_result"
    }
   ],
   "source": [
    "relu_pass_1.gradient.shape"
   ]
  },
  {
   "cell_type": "code",
   "execution_count": 33,
   "id": "25c27efe",
   "metadata": {},
   "outputs": [
    {
     "data": {
      "text/plain": [
       "tensor([[4.6667],\n",
       "        [4.9333],\n",
       "        [4.6667]])"
      ]
     },
     "execution_count": 33,
     "metadata": {},
     "output_type": "execute_result"
    }
   ],
   "source": [
    "relu_pass_1.gradient"
   ]
  },
  {
   "cell_type": "code",
   "execution_count": 34,
   "id": "f3274d1d",
   "metadata": {},
   "outputs": [
    {
     "data": {
      "text/plain": [
       "tensor([[38.4000, 29.2533]])"
      ]
     },
     "execution_count": 34,
     "metadata": {},
     "output_type": "execute_result"
    }
   ],
   "source": [
    "model.fc1.weight.grad"
   ]
  },
  {
   "cell_type": "code",
   "execution_count": 35,
   "id": "c41920ff",
   "metadata": {},
   "outputs": [],
   "source": [
    "def relu_grad(inp, out):\n",
    "    # gradient of relu multiplied by the gradient of the next layer\n",
    "    inp.gradient = (inp > 0).float() * out.gradient"
   ]
  },
  {
   "cell_type": "code",
   "execution_count": 36,
   "id": "7edc9a76",
   "metadata": {},
   "outputs": [],
   "source": [
    "relu_grad(fc_res, relu_pass_1)"
   ]
  },
  {
   "cell_type": "code",
   "execution_count": 38,
   "id": "b222004c",
   "metadata": {},
   "outputs": [
    {
     "data": {
      "text/plain": [
       "tensor([[4.6667],\n",
       "        [4.9333],\n",
       "        [4.6667]])"
      ]
     },
     "execution_count": 38,
     "metadata": {},
     "output_type": "execute_result"
    }
   ],
   "source": [
    "fc_res.gradient"
   ]
  },
  {
   "cell_type": "code",
   "execution_count": 39,
   "id": "b9919b91",
   "metadata": {},
   "outputs": [
    {
     "data": {
      "text/plain": [
       "tensor([[38.4000, 29.2533]])"
      ]
     },
     "execution_count": 39,
     "metadata": {},
     "output_type": "execute_result"
    }
   ],
   "source": [
    "model.fc1.weight.grad"
   ]
  },
  {
   "cell_type": "code",
   "execution_count": 40,
   "id": "1d0040a3",
   "metadata": {},
   "outputs": [],
   "source": [
    "def lin_grad(inp, out, w, b):\n",
    "#     set_trace()\n",
    "    \n",
    "    # the gradient of a matrix product, is the matrix product with a transpose\n",
    "    inp.gradient = out.gradient @ w.t()\n",
    "        \n",
    "#     w.gradient = (inp.unsqueeze(-1) * out.gradient.unsqueeze(1)).sum(0)\n",
    "    w.gradient = (inp * out.gradient).sum(0)\n",
    "\n",
    "    b.gradient  = out.gradient.sum(0)"
   ]
  },
  {
   "cell_type": "code",
   "execution_count": 41,
   "id": "32f93304",
   "metadata": {},
   "outputs": [
    {
     "data": {
      "text/plain": [
       "(torch.Size([3, 1]), torch.Size([2, 1]))"
      ]
     },
     "execution_count": 41,
     "metadata": {},
     "output_type": "execute_result"
    }
   ],
   "source": [
    "fc_res.gradient.shape, w1.shape"
   ]
  },
  {
   "cell_type": "code",
   "execution_count": 42,
   "id": "239733da",
   "metadata": {},
   "outputs": [],
   "source": [
    "lin_grad(x, fc_res, w1, b1)"
   ]
  },
  {
   "cell_type": "code",
   "execution_count": 43,
   "id": "b7b95294",
   "metadata": {},
   "outputs": [
    {
     "data": {
      "text/plain": [
       "(torch.Size([3, 2]), torch.Size([3, 1]))"
      ]
     },
     "execution_count": 43,
     "metadata": {},
     "output_type": "execute_result"
    }
   ],
   "source": [
    "x.shape, fc_res.gradient.shape"
   ]
  },
  {
   "cell_type": "code",
   "execution_count": 44,
   "id": "53761fa2",
   "metadata": {},
   "outputs": [
    {
     "data": {
      "text/plain": [
       "tensor([38.4000, 29.2533])"
      ]
     },
     "execution_count": 44,
     "metadata": {},
     "output_type": "execute_result"
    }
   ],
   "source": [
    "w1.gradient"
   ]
  },
  {
   "cell_type": "code",
   "execution_count": 45,
   "id": "5c3036ed",
   "metadata": {},
   "outputs": [
    {
     "data": {
      "text/plain": [
       "tensor([[38.4000, 29.2533]])"
      ]
     },
     "execution_count": 45,
     "metadata": {},
     "output_type": "execute_result"
    }
   ],
   "source": [
    "model.fc1.weight.grad"
   ]
  },
  {
   "cell_type": "markdown",
   "id": "d629b6f9",
   "metadata": {},
   "source": [
    "# Re Calculate Weights"
   ]
  },
  {
   "cell_type": "code",
   "execution_count": 46,
   "id": "6e44bf8f",
   "metadata": {},
   "outputs": [],
   "source": [
    "lr = 0.01"
   ]
  },
  {
   "cell_type": "code",
   "execution_count": 47,
   "id": "7bc8aa9b",
   "metadata": {
    "scrolled": true
   },
   "outputs": [],
   "source": [
    "w1 = w1 - lr * w1.gradient.unsqueeze(1)\n",
    "b1 -= lr * b1.gradient"
   ]
  },
  {
   "cell_type": "code",
   "execution_count": 48,
   "id": "d0b296f8",
   "metadata": {},
   "outputs": [
    {
     "data": {
      "text/plain": [
       "tensor([[0.6160, 1.7075]])"
      ]
     },
     "execution_count": 48,
     "metadata": {},
     "output_type": "execute_result"
    }
   ],
   "source": [
    "model.fc1.weight.data"
   ]
  },
  {
   "cell_type": "code",
   "execution_count": 49,
   "id": "95ce4c1a",
   "metadata": {},
   "outputs": [
    {
     "data": {
      "text/plain": [
       "tensor([[0.6160],\n",
       "        [1.7075]])"
      ]
     },
     "execution_count": 49,
     "metadata": {},
     "output_type": "execute_result"
    }
   ],
   "source": [
    "w1"
   ]
  },
  {
   "cell_type": "markdown",
   "id": "40b75653",
   "metadata": {},
   "source": [
    "# Re Calculate Loss"
   ]
  },
  {
   "cell_type": "code",
   "execution_count": 50,
   "id": "a2ea9457",
   "metadata": {},
   "outputs": [
    {
     "data": {
      "text/plain": [
       "tensor([[6.5957],\n",
       "        [5.3703],\n",
       "        [6.1203]])"
      ]
     },
     "execution_count": 50,
     "metadata": {},
     "output_type": "execute_result"
    }
   ],
   "source": [
    "fc_res_2 = lin(x, w1.squeeze(0), b1)\n",
    "fc_res_2"
   ]
  },
  {
   "cell_type": "code",
   "execution_count": 51,
   "id": "8813d8ed",
   "metadata": {},
   "outputs": [
    {
     "data": {
      "text/plain": [
       "tensor([[6.5957],\n",
       "        [5.3703],\n",
       "        [6.1203]])"
      ]
     },
     "execution_count": 51,
     "metadata": {},
     "output_type": "execute_result"
    }
   ],
   "source": [
    "relu_pass_2 = relu(fc_res_2)\n",
    "relu_pass_2"
   ]
  },
  {
   "cell_type": "code",
   "execution_count": 52,
   "id": "89acfee4",
   "metadata": {},
   "outputs": [
    {
     "data": {
      "text/plain": [
       "tensor([28.7898])"
      ]
     },
     "execution_count": 52,
     "metadata": {},
     "output_type": "execute_result"
    }
   ],
   "source": [
    "calc_loss(relu_pass_2)"
   ]
  },
  {
   "cell_type": "code",
   "execution_count": 53,
   "id": "baa678dd",
   "metadata": {},
   "outputs": [
    {
     "data": {
      "text/plain": [
       "(tensor([[0.6160],\n",
       "         [1.7075]]),\n",
       " tensor([0.8573]))"
      ]
     },
     "execution_count": 53,
     "metadata": {},
     "output_type": "execute_result"
    }
   ],
   "source": [
    "w1, b1"
   ]
  },
  {
   "cell_type": "code",
   "execution_count": 54,
   "id": "73b20986",
   "metadata": {},
   "outputs": [
    {
     "data": {
      "text/plain": [
       "tensor([0.8573])"
      ]
     },
     "execution_count": 54,
     "metadata": {},
     "output_type": "execute_result"
    }
   ],
   "source": [
    "model.fc1.bias.data"
   ]
  },
  {
   "cell_type": "markdown",
   "id": "a1c54792",
   "metadata": {},
   "source": [
    "# Recalculate Weights Second time"
   ]
  },
  {
   "cell_type": "code",
   "execution_count": 55,
   "id": "ef968167",
   "metadata": {},
   "outputs": [
    {
     "name": "stdout",
     "output_type": "stream",
     "text": [
      "loss is tensor(28.7898, grad_fn=<MseLossBackward0>)\n",
      "New Loss after one step: 16.442419052124023\n"
     ]
    }
   ],
   "source": [
    "train()"
   ]
  },
  {
   "cell_type": "code",
   "execution_count": 56,
   "id": "e00ded93",
   "metadata": {},
   "outputs": [
    {
     "data": {
      "text/plain": [
       "tensor([[0.3331, 1.4843]])"
      ]
     },
     "execution_count": 56,
     "metadata": {},
     "output_type": "execute_result"
    }
   ],
   "source": [
    "model.fc1.weight.data"
   ]
  },
  {
   "cell_type": "code",
   "execution_count": 57,
   "id": "2dbe03d6",
   "metadata": {},
   "outputs": [
    {
     "data": {
      "text/plain": [
       "tensor([[28.2918, 22.3147]])"
      ]
     },
     "execution_count": 57,
     "metadata": {},
     "output_type": "execute_result"
    }
   ],
   "source": [
    "model.fc1.weight.grad"
   ]
  },
  {
   "cell_type": "code",
   "execution_count": 58,
   "id": "94ab003c",
   "metadata": {},
   "outputs": [],
   "source": [
    "fc_res_2 = lin(x, w1, b1)"
   ]
  },
  {
   "cell_type": "code",
   "execution_count": 60,
   "id": "7024bec4",
   "metadata": {},
   "outputs": [],
   "source": [
    "relu_res_2 = relu(fc_res_2)"
   ]
  },
  {
   "cell_type": "code",
   "execution_count": 61,
   "id": "11b7a507",
   "metadata": {},
   "outputs": [
    {
     "data": {
      "text/plain": [
       "tensor([[6.5957],\n",
       "        [5.3703],\n",
       "        [6.1203]])"
      ]
     },
     "execution_count": 61,
     "metadata": {},
     "output_type": "execute_result"
    }
   ],
   "source": [
    "relu_res_2"
   ]
  },
  {
   "cell_type": "code",
   "execution_count": 62,
   "id": "4b742159",
   "metadata": {},
   "outputs": [],
   "source": [
    "mse_grad(relu_res_2, y)"
   ]
  },
  {
   "cell_type": "code",
   "execution_count": 63,
   "id": "09e4e8ea",
   "metadata": {},
   "outputs": [],
   "source": [
    "relu_grad(fc_res_2, relu_res_2)"
   ]
  },
  {
   "cell_type": "code",
   "execution_count": 64,
   "id": "4f7fbc9d",
   "metadata": {},
   "outputs": [],
   "source": [
    "lin_grad(x, fc_res_2, w1, b1)"
   ]
  },
  {
   "cell_type": "code",
   "execution_count": 65,
   "id": "0a18ccf6",
   "metadata": {},
   "outputs": [],
   "source": [
    "w1 = w1 - lr * w1.gradient.unsqueeze(1)\n",
    "b1 -= lr * b1.gradient"
   ]
  },
  {
   "cell_type": "code",
   "execution_count": 66,
   "id": "6cac2804",
   "metadata": {},
   "outputs": [
    {
     "data": {
      "text/plain": [
       "tensor([[0.3331, 1.4843]])"
      ]
     },
     "execution_count": 66,
     "metadata": {},
     "output_type": "execute_result"
    }
   ],
   "source": [
    "model.fc1.weight.data"
   ]
  },
  {
   "cell_type": "code",
   "execution_count": 67,
   "id": "6e97ba2c",
   "metadata": {},
   "outputs": [
    {
     "data": {
      "text/plain": [
       "tensor([[0.3331],\n",
       "        [1.4843]])"
      ]
     },
     "execution_count": 67,
     "metadata": {},
     "output_type": "execute_result"
    }
   ],
   "source": [
    "w1"
   ]
  },
  {
   "cell_type": "code",
   "execution_count": 68,
   "id": "c4ed1ed3",
   "metadata": {},
   "outputs": [],
   "source": [
    "res_after_second_update_change = lin(x, w1, b1)"
   ]
  },
  {
   "cell_type": "code",
   "execution_count": 69,
   "id": "34934a9f",
   "metadata": {},
   "outputs": [
    {
     "data": {
      "text/plain": [
       "tensor([16.4424])"
      ]
     },
     "execution_count": 69,
     "metadata": {},
     "output_type": "execute_result"
    }
   ],
   "source": [
    "calc_loss(res_after_second_update_change)"
   ]
  },
  {
   "cell_type": "code",
   "execution_count": 70,
   "id": "b7ebabe6",
   "metadata": {},
   "outputs": [
    {
     "data": {
      "text/plain": [
       "tensor([[0.3331, 1.4843]])"
      ]
     },
     "execution_count": 70,
     "metadata": {},
     "output_type": "execute_result"
    }
   ],
   "source": [
    "model.fc1.weight.data"
   ]
  },
  {
   "cell_type": "code",
   "execution_count": 71,
   "id": "68e5297a",
   "metadata": {},
   "outputs": [
    {
     "data": {
      "text/plain": [
       "tensor([[0.3331],\n",
       "        [1.4843]])"
      ]
     },
     "execution_count": 71,
     "metadata": {},
     "output_type": "execute_result"
    }
   ],
   "source": [
    "w1"
   ]
  },
  {
   "cell_type": "code",
   "execution_count": 72,
   "id": "0441302b",
   "metadata": {},
   "outputs": [
    {
     "data": {
      "text/plain": [
       "tensor([0.7501])"
      ]
     },
     "execution_count": 72,
     "metadata": {},
     "output_type": "execute_result"
    }
   ],
   "source": [
    "model.fc1.bias.data"
   ]
  },
  {
   "cell_type": "code",
   "execution_count": 73,
   "id": "4d71eff6",
   "metadata": {},
   "outputs": [
    {
     "data": {
      "text/plain": [
       "tensor([0.7501])"
      ]
     },
     "execution_count": 73,
     "metadata": {},
     "output_type": "execute_result"
    }
   ],
   "source": [
    "b1"
   ]
  },
  {
   "cell_type": "code",
   "execution_count": 74,
   "id": "bffa3930",
   "metadata": {},
   "outputs": [
    {
     "data": {
      "text/plain": [
       "tensor([10.7242])"
      ]
     },
     "execution_count": 74,
     "metadata": {},
     "output_type": "execute_result"
    }
   ],
   "source": [
    "b1.gradient"
   ]
  },
  {
   "cell_type": "code",
   "execution_count": 75,
   "id": "7c3d8a7b",
   "metadata": {},
   "outputs": [
    {
     "data": {
      "text/plain": [
       "tensor([10.7242])"
      ]
     },
     "execution_count": 75,
     "metadata": {},
     "output_type": "execute_result"
    }
   ],
   "source": [
    "model.fc1.bias.grad"
   ]
  },
  {
   "cell_type": "code",
   "execution_count": null,
   "id": "9614fa90",
   "metadata": {},
   "outputs": [],
   "source": []
  }
 ],
 "metadata": {
  "kernelspec": {
   "display_name": "all_purpose_venv",
   "language": "python",
   "name": "all_purpose_venv"
  },
  "language_info": {
   "codemirror_mode": {
    "name": "ipython",
    "version": 3
   },
   "file_extension": ".py",
   "mimetype": "text/x-python",
   "name": "python",
   "nbconvert_exporter": "python",
   "pygments_lexer": "ipython3",
   "version": "3.11.2"
  },
  "toc": {
   "base_numbering": 1,
   "nav_menu": {},
   "number_sections": true,
   "sideBar": true,
   "skip_h1_title": false,
   "title_cell": "Table of Contents",
   "title_sidebar": "Contents",
   "toc_cell": false,
   "toc_position": {},
   "toc_section_display": true,
   "toc_window_display": false
  }
 },
 "nbformat": 4,
 "nbformat_minor": 5
}
