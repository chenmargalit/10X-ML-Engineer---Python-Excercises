{
 "cells": [
  {
   "cell_type": "markdown",
   "metadata": {},
   "source": [
    "# Multilayer Perceptrons (MLP) - Theory and Practice"
   ]
  },
  {
   "cell_type": "markdown",
   "metadata": {},
   "source": [
    "## Introduction\n",
    "A Multilayer Perceptron (MLP) is a class of feedforward artificial neural networks. An MLP consists of at least three layers of nodes: an input layer, one or more hidden layers, and an output layer. Each neuron in one layer is connected to every neuron in the next layer, and these connections have associated weights.\n",
    "\n",
    "In this notebook, we will explore the theory and practice of MLPs using examples from the sports domain, such as predicting a player's performance based on their past game statistics.\n"
   ]
  },
  {
   "cell_type": "markdown",
   "metadata": {},
   "source": [
    "## Why Use MLP?\n",
    "MLPs are well-suited for problems where the relationship between inputs and outputs is complex and non-linear. By stacking layers and using non-linear activation functions, MLPs can approximate any continuous function."
   ]
  },
  {
   "cell_type": "code",
   "execution_count": 8,
   "metadata": {},
   "outputs": [],
   "source": [
    "import torch\n",
    "import torch.nn as nn\n",
    "import torch.optim as optim\n",
    "import numpy as np\n",
    "import matplotlib.pyplot as plt"
   ]
  },
  {
   "cell_type": "markdown",
   "metadata": {},
   "source": [
    "## Step 1: Generate Data\n",
    "We'll simulate some sports data, for example, basketball players' statistics. This will include points, assists, rebounds, etc., and we'll try to predict the player's performance category (excellent, average, or poor)."
   ]
  },
  {
   "cell_type": "code",
   "execution_count": 9,
   "metadata": {},
   "outputs": [
    {
     "data": {
      "text/plain": [
       "((500, 4), (500,))"
      ]
     },
     "execution_count": 9,
     "metadata": {},
     "output_type": "execute_result"
    }
   ],
   "source": [
    "np.random.seed(0)\n",
    "n_samples = 500\n",
    "X = np.random.rand(n_samples, 4) * 100  # 4 features: points, assists, rebounds, steals\n",
    "y = np.random.randint(0, 3, n_samples)  # 3 classes: 0 - poor, 1 - average, 2 - excellent\n",
    "\n",
    "X.shape, y.shape"
   ]
  },
  {
   "cell_type": "code",
   "execution_count": 10,
   "metadata": {},
   "outputs": [
    {
     "data": {
      "text/plain": [
       "array([[54.88135039, 71.51893664, 60.27633761, 54.4883183 ],\n",
       "       [42.36547993, 64.58941131, 43.75872113, 89.17730008],\n",
       "       [96.36627605, 38.34415188, 79.17250381, 52.88949198]])"
      ]
     },
     "execution_count": 10,
     "metadata": {},
     "output_type": "execute_result"
    }
   ],
   "source": [
    "X[:3]"
   ]
  },
  {
   "cell_type": "code",
   "execution_count": 11,
   "metadata": {},
   "outputs": [
    {
     "data": {
      "text/plain": [
       "array([1, 0, 1])"
      ]
     },
     "execution_count": 11,
     "metadata": {},
     "output_type": "execute_result"
    }
   ],
   "source": [
    "y[:3]"
   ]
  },
  {
   "cell_type": "markdown",
   "metadata": {},
   "source": [
    "## Step 2: Create MLP Model\n",
    "Now, let's create an MLP model using PyTorch. The architecture will include an input layer, two hidden layers, and an output layer corresponding to the three categories of player performance."
   ]
  },
  {
   "cell_type": "code",
   "execution_count": 12,
   "metadata": {},
   "outputs": [],
   "source": [
    "class MLP(nn.Module):\n",
    "    def __init__(self, input_size, hidden_size, output_size):\n",
    "        super().__init__()\n",
    "        self.fc1 = nn.Linear(input_size, hidden_size)\n",
    "        self.relu = nn.ReLU()\n",
    "        self.fc2 = nn.Linear(hidden_size, hidden_size)\n",
    "        self.fc3 = nn.Linear(hidden_size, output_size)\n",
    "\n",
    "    def forward(self, x):            \n",
    "        x = self.fc1(x)\n",
    "        x = self.relu(x)\n",
    "        x = self.fc2(x)\n",
    "        x = self.relu(x)\n",
    "        x = self.fc3(x)\n",
    "        return x"
   ]
  },
  {
   "cell_type": "markdown",
   "metadata": {},
   "source": [
    "## Step 3: Train the Model\n",
    "We'll use CrossEntropyLoss since this is a classification problem. The optimizer will be Stochastic Gradient Descent (SGD)."
   ]
  },
  {
   "cell_type": "code",
   "execution_count": 19,
   "metadata": {},
   "outputs": [],
   "source": [
    "input_size = 4\n",
    "hidden_size = 200\n",
    "output_size = 3\n",
    "learning_rate = 0.01\n",
    "num_epochs = 5000\n",
    "\n",
    "model = MLP(input_size, hidden_size, output_size)\n",
    "criterion = nn.CrossEntropyLoss()\n",
    "optimizer = optim.SGD(model.parameters(), lr=learning_rate)"
   ]
  },
  {
   "cell_type": "markdown",
   "metadata": {},
   "source": [
    "## Step 4: Train and Evaluate the Model"
   ]
  },
  {
   "cell_type": "code",
   "execution_count": 7,
   "metadata": {},
   "outputs": [
    {
     "ename": "NameError",
     "evalue": "name 'num_epochs' is not defined",
     "output_type": "error",
     "traceback": [
      "\u001b[0;31m---------------------------------------------------------------------------\u001b[0m",
      "\u001b[0;31mNameError\u001b[0m                                 Traceback (most recent call last)",
      "Cell \u001b[0;32mIn[7], line 4\u001b[0m\n\u001b[1;32m      1\u001b[0m X_train \u001b[38;5;241m=\u001b[39m torch\u001b[38;5;241m.\u001b[39mtensor(X, dtype\u001b[38;5;241m=\u001b[39mtorch\u001b[38;5;241m.\u001b[39mfloat32)\n\u001b[1;32m      2\u001b[0m y_train \u001b[38;5;241m=\u001b[39m torch\u001b[38;5;241m.\u001b[39mtensor(y, dtype\u001b[38;5;241m=\u001b[39mtorch\u001b[38;5;241m.\u001b[39mlong)\n\u001b[0;32m----> 4\u001b[0m \u001b[38;5;28;01mfor\u001b[39;00m epoch \u001b[38;5;129;01min\u001b[39;00m \u001b[38;5;28mrange\u001b[39m(\u001b[43mnum_epochs\u001b[49m):\n\u001b[1;32m      5\u001b[0m     outputs \u001b[38;5;241m=\u001b[39m model(X_train)\n\u001b[1;32m      6\u001b[0m     loss \u001b[38;5;241m=\u001b[39m criterion(outputs, y_train)\n",
      "\u001b[0;31mNameError\u001b[0m: name 'num_epochs' is not defined"
     ]
    }
   ],
   "source": [
    "X_train = torch.tensor(X, dtype=torch.float32)\n",
    "y_train = torch.tensor(y, dtype=torch.long)\n",
    "\n",
    "for epoch in range(num_epochs):\n",
    "    outputs = model(X_train)\n",
    "    loss = criterion(outputs, y_train)\n",
    "\n",
    "    optimizer.zero_grad()\n",
    "    loss.backward()\n",
    "    optimizer.step()\n",
    "\n",
    "#     if (epoch+1) % 100 == 0:\n",
    "#         print(f'Epoch [{epoch+1}/{num_epochs}], Loss: {loss.item():.4f}')"
   ]
  },
  {
   "cell_type": "markdown",
   "metadata": {},
   "source": [
    "## Conclusion\n",
    "In this notebook, we have learned how to build a basic MLP model to predict player performance based on their statistics. By using MLP's powerful representation learning ability, we can model non-linear relationships, making it a powerful tool for sports analytics."
   ]
  },
  {
   "cell_type": "markdown",
   "metadata": {},
   "source": [
    "# Your Turn!"
   ]
  },
  {
   "cell_type": "markdown",
   "metadata": {},
   "source": [
    "Build your own MLP. Take this input data, and this output data, and try to build an MLP that trains. How do you know that it trains? The loss decreases.\n",
    "\n",
    "Try to build a 5 layers MLP, with at least one ReLU. You can use the same loss function and optimizer as we've seen in class."
   ]
  },
  {
   "cell_type": "code",
   "execution_count": 56,
   "metadata": {
    "scrolled": true
   },
   "outputs": [
    {
     "data": {
      "text/plain": [
       "((1000, 6), (1000,))"
      ]
     },
     "execution_count": 56,
     "metadata": {},
     "output_type": "execute_result"
    }
   ],
   "source": [
    "np.random.seed(0)\n",
    "n_samples = 1000\n",
    "X = np.random.rand(n_samples, 6) * 100  # 6 features\n",
    "y = np.random.randint(0, 4, n_samples)  # 4 classes\n",
    "\n",
    "X.shape, y.shape"
   ]
  },
  {
   "cell_type": "code",
   "execution_count": 57,
   "metadata": {},
   "outputs": [],
   "source": [
    "input_size = 6\n",
    "hidden_size = 256\n",
    "output_size = 4\n",
    "learning_rate = 0.01\n",
    "num_epochs = 5000\n",
    "\n",
    "model = MLP(input_size, hidden_size, output_size)\n",
    "criterion = nn.CrossEntropyLoss()\n",
    "optimizer = optim.SGD(model.parameters(), lr=learning_rate)"
   ]
  },
  {
   "cell_type": "code",
   "execution_count": 58,
   "metadata": {},
   "outputs": [],
   "source": [
    "class MLP(nn.Module):\n",
    "    def __init__(self, input_size, hidden_size, output_size):\n",
    "        super().__init__()\n",
    "        self.fc1 = nn.Linear(input_size, hidden_size)\n",
    "        self.relu = nn.ReLU()\n",
    "        self.fc2 = nn.Linear(hidden_size, hidden_size)\n",
    "        self.fc3 = nn.Linear(hidden_size, output_size)\n",
    "\n",
    "    def forward(self, x):\n",
    "        x = self.fc1(x)\n",
    "        x = self.relu(x)\n",
    "        x = self.fc2(x)\n",
    "        x = self.relu(x)\n",
    "        x = self.fc3(x)\n",
    "        return x"
   ]
  },
  {
   "cell_type": "code",
   "execution_count": 59,
   "metadata": {},
   "outputs": [
    {
     "name": "stdout",
     "output_type": "stream",
     "text": [
      "Epoch [100/5000], Loss: 1.3013\n",
      "Epoch [200/5000], Loss: 1.2568\n",
      "Epoch [300/5000], Loss: 1.2170\n",
      "Epoch [400/5000], Loss: 1.1835\n",
      "Epoch [500/5000], Loss: 1.1524\n",
      "Epoch [600/5000], Loss: 1.1286\n",
      "Epoch [700/5000], Loss: 1.1154\n",
      "Epoch [800/5000], Loss: 1.0775\n",
      "Epoch [900/5000], Loss: 1.0506\n",
      "Epoch [1000/5000], Loss: 1.0457\n",
      "Epoch [1100/5000], Loss: 1.0468\n",
      "Epoch [1200/5000], Loss: 0.9978\n",
      "Epoch [1300/5000], Loss: 1.0229\n",
      "Epoch [1400/5000], Loss: 0.9409\n",
      "Epoch [1500/5000], Loss: 0.9003\n",
      "Epoch [1600/5000], Loss: 0.9273\n",
      "Epoch [1700/5000], Loss: 0.9088\n",
      "Epoch [1800/5000], Loss: 0.8664\n",
      "Epoch [1900/5000], Loss: 0.8748\n",
      "Epoch [2000/5000], Loss: 0.8367\n",
      "Epoch [2100/5000], Loss: 0.8138\n",
      "Epoch [2200/5000], Loss: 0.7850\n",
      "Epoch [2300/5000], Loss: 0.7912\n",
      "Epoch [2400/5000], Loss: 0.7428\n",
      "Epoch [2500/5000], Loss: 0.7218\n",
      "Epoch [2600/5000], Loss: 0.7383\n",
      "Epoch [2700/5000], Loss: 0.7467\n",
      "Epoch [2800/5000], Loss: 0.6590\n",
      "Epoch [2900/5000], Loss: 0.6338\n",
      "Epoch [3000/5000], Loss: 0.5771\n",
      "Epoch [3100/5000], Loss: 0.6223\n",
      "Epoch [3200/5000], Loss: 0.6591\n",
      "Epoch [3300/5000], Loss: 0.5509\n",
      "Epoch [3400/5000], Loss: 0.5176\n",
      "Epoch [3500/5000], Loss: 0.5446\n",
      "Epoch [3600/5000], Loss: 0.4469\n",
      "Epoch [3700/5000], Loss: 0.5117\n",
      "Epoch [3800/5000], Loss: 0.4834\n",
      "Epoch [3900/5000], Loss: 0.3941\n",
      "Epoch [4000/5000], Loss: 0.3715\n",
      "Epoch [4100/5000], Loss: 0.7682\n",
      "Epoch [4200/5000], Loss: 0.3822\n",
      "Epoch [4300/5000], Loss: 0.5515\n",
      "Epoch [4400/5000], Loss: 0.3521\n",
      "Epoch [4500/5000], Loss: 0.3317\n",
      "Epoch [4600/5000], Loss: 0.4565\n",
      "Epoch [4700/5000], Loss: 0.5957\n",
      "Epoch [4800/5000], Loss: 0.2944\n",
      "Epoch [4900/5000], Loss: 0.2663\n",
      "Epoch [5000/5000], Loss: 0.2676\n",
      "CPU times: user 17.2 s, sys: 48.3 s, total: 1min 5s\n",
      "Wall time: 7.84 s\n"
     ]
    }
   ],
   "source": [
    "%%time\n",
    "\n",
    "X_train = torch.tensor(X, dtype=torch.float32)\n",
    "y_train = torch.tensor(y, dtype=torch.long)\n",
    "\n",
    "for epoch in range(num_epochs):\n",
    "    outputs = model(X_train)\n",
    "    loss = criterion(outputs, y_train)\n",
    "\n",
    "    optimizer.zero_grad()\n",
    "    loss.backward()\n",
    "    optimizer.step()\n",
    "\n",
    "    if (epoch+1) % 100 == 0:\n",
    "        print(f'Epoch [{epoch+1}/{num_epochs}], Loss: {loss.item():.4f}')"
   ]
  },
  {
   "cell_type": "code",
   "execution_count": null,
   "metadata": {},
   "outputs": [],
   "source": []
  }
 ],
 "metadata": {
  "kernelspec": {
   "display_name": "Python 3 (ipykernel)",
   "language": "python",
   "name": "python3"
  },
  "language_info": {
   "codemirror_mode": {
    "name": "ipython",
    "version": 3
   },
   "file_extension": ".py",
   "mimetype": "text/x-python",
   "name": "python",
   "nbconvert_exporter": "python",
   "pygments_lexer": "ipython3",
   "version": "3.11.2"
  },
  "toc": {
   "base_numbering": 1,
   "nav_menu": {},
   "number_sections": true,
   "sideBar": true,
   "skip_h1_title": false,
   "title_cell": "Table of Contents",
   "title_sidebar": "Contents",
   "toc_cell": false,
   "toc_position": {},
   "toc_section_display": true,
   "toc_window_display": false
  }
 },
 "nbformat": 4,
 "nbformat_minor": 2
}
