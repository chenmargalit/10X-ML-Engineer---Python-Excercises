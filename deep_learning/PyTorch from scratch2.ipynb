{
 "cells": [
  {
   "cell_type": "code",
   "execution_count": 1,
   "id": "95f40ab8",
   "metadata": {},
   "outputs": [],
   "source": [
    "ReLU is very simple. Take any negative value, replace it with zero. Take any positive value, keep it as it was.\n",
    "\n",
    "def relu(x): \n",
    "    return x.clamp_min(0.)\n",
    "\n",
    "negative_tensor = torch.tensor(-3)\n",
    "negative_tensor\n",
    "\n",
    "positive_tensor = torch.tensor(3)\n",
    "positive_tensor\n",
    "\n",
    "relu(negative_tensor)\n",
    "\n",
    "relu(positive_tensor)\n",
    "\n",
    "t = relu(lin(x_valid, w1, b1))\n",
    "\n",
    "Once again, not normalized.\n",
    "\n",
    "t.mean(), t.std()\n",
    "\n",
    "![image.png](attachment:image.png)from pathlib import Path\n",
    "import pickle\n",
    "import gzip\n",
    "import math\n",
    "import os\n",
    "import time\n",
    "import shutil\n",
    "import struct\n",
    "\n",
    "import torch\n",
    "from torch import tensor, clamp_min\n",
    "import matplotlib as mpl\n",
    "import matplotlib.pyplot as plt\n",
    "import numpy as np\n",
    "from torch import nn\n",
    "import torch.nn.functional as F"
   ]
  },
  {
   "cell_type": "markdown",
   "id": "eb0b0cb0",
   "metadata": {
    "heading_collapsed": true
   },
   "source": [
    "# Convienience Methods & Setup"
   ]
  },
  {
   "cell_type": "code",
   "execution_count": 2,
   "id": "c10ff7d4",
   "metadata": {
    "hidden": true
   },
   "outputs": [],
   "source": [
    "def relu(x): \n",
    "    return x.clamp_min(0.)"
   ]
  },
  {
   "cell_type": "code",
   "execution_count": 3,
   "id": "1b046f30",
   "metadata": {
    "hidden": true
   },
   "outputs": [],
   "source": [
    "def lin(x, w, b):\n",
    "    return x @ w + b"
   ]
  },
  {
   "cell_type": "code",
   "execution_count": 4,
   "id": "4fbecb49",
   "metadata": {
    "hidden": true
   },
   "outputs": [],
   "source": [
    "def report(loss, preds, yb): print(f'{loss:.2f}, {accuracy(preds, yb):.2f}')"
   ]
  },
  {
   "cell_type": "code",
   "execution_count": 5,
   "id": "a11a0922",
   "metadata": {
    "hidden": true
   },
   "outputs": [],
   "source": [
    "def accuracy(out, yb): return (out.argmax(dim=1)==yb).float().mean()"
   ]
  },
  {
   "cell_type": "code",
   "execution_count": 6,
   "id": "04f082ed",
   "metadata": {
    "hidden": true
   },
   "outputs": [],
   "source": [
    "def return_params():\n",
    "    n = x_train.shape[0]\n",
    "    nh = 50\n",
    "    bs = 50\n",
    "    epochs = 3\n",
    "    lr = 0.1\n",
    "    \n",
    "    return n, nh, bs, epochs, lr"
   ]
  },
  {
   "cell_type": "code",
   "execution_count": 7,
   "id": "074cda2c",
   "metadata": {
    "hidden": true
   },
   "outputs": [],
   "source": [
    "def test_pred_without_training(x, y, mdl=None):\n",
    "    \n",
    "    if mdl is None:\n",
    "        mdl = nn.Sequential(nn.Linear(m,nh), nn.ReLU(), nn.Linear(nh,10))\n",
    "        opt = Optimizer(mdl.parameters())\n",
    "    \n",
    "    preds = mdl(x)\n",
    "    loss = loss_func(preds, y.long())\n",
    "    return report(loss, preds, y)"
   ]
  },
  {
   "cell_type": "code",
   "execution_count": 8,
   "id": "d714fbfa",
   "metadata": {
    "hidden": true
   },
   "outputs": [],
   "source": [
    "def report(loss, preds, yb):\n",
    "    print(f'{loss:.2f}, {accuracy(preds, yb):.2f}')"
   ]
  },
  {
   "cell_type": "code",
   "execution_count": 9,
   "id": "a7031032",
   "metadata": {
    "hidden": true
   },
   "outputs": [],
   "source": [
    "mpl.rcParams['image.cmap'] = 'gray'"
   ]
  },
  {
   "cell_type": "markdown",
   "id": "536485fa",
   "metadata": {
    "heading_collapsed": true
   },
   "source": [
    "# Data Preparation"
   ]
  },
  {
   "cell_type": "code",
   "execution_count": 10,
   "id": "a5094d9e",
   "metadata": {
    "hidden": true
   },
   "outputs": [],
   "source": [
    "MNIST_URL='https://github.com/mnielsen/neural-networks-and-deep-learning/blob/master/data/mnist.pkl.gz?raw=true'\n",
    "path_data = Path('data')\n",
    "path_data.mkdir(exist_ok=True)\n",
    "path_gz = path_data/'mnist.pkl.gz'"
   ]
  },
  {
   "cell_type": "code",
   "execution_count": 11,
   "id": "58c8a8d5",
   "metadata": {
    "hidden": true
   },
   "outputs": [],
   "source": [
    "from urllib.request import urlretrieve\n",
    "if not path_gz.exists(): urlretrieve(MNIST_URL, path_gz)"
   ]
  },
  {
   "cell_type": "code",
   "execution_count": 255,
   "id": "c18a4882",
   "metadata": {
    "hidden": true
   },
   "outputs": [],
   "source": [
    "def load_data():\n",
    "    with gzip.open(path_gz, 'rb') as f:\n",
    "        ((x_train, y_train), (x_valid, y_valid), _) = pickle.load(f, encoding='latin-1')\n",
    "        \n",
    "    x_train, y_train, x_valid, y_valid = map(lambda x: torch.from_numpy(x).float(),\n",
    "                                             (x_train, y_train, x_valid, y_valid))\n",
    "    \n",
    "    return (x_train, y_train, x_valid, y_valid)"
   ]
  },
  {
   "cell_type": "code",
   "execution_count": 53,
   "id": "daa83b48",
   "metadata": {
    "hidden": true
   },
   "outputs": [],
   "source": [
    "x_train, y_train, x_valid, y_valid = load_data()"
   ]
  },
  {
   "cell_type": "code",
   "execution_count": 54,
   "id": "a740350a",
   "metadata": {
    "hidden": true
   },
   "outputs": [
    {
     "data": {
      "text/plain": [
       "((50000, 784), (50000,), (10000, 784), (10000,))"
      ]
     },
     "execution_count": 54,
     "metadata": {},
     "output_type": "execute_result"
    }
   ],
   "source": [
    "x_train.shape, y_train.shape, x_valid.shape, y_valid.shape"
   ]
  },
  {
   "cell_type": "code",
   "execution_count": 55,
   "id": "a226cfd2",
   "metadata": {
    "hidden": true
   },
   "outputs": [
    {
     "data": {
      "text/plain": [
       "numpy.ndarray"
      ]
     },
     "execution_count": 55,
     "metadata": {},
     "output_type": "execute_result"
    }
   ],
   "source": [
    "type(x_train)"
   ]
  },
  {
   "cell_type": "code",
   "execution_count": 56,
   "id": "b4732978",
   "metadata": {
    "hidden": true
   },
   "outputs": [
    {
     "data": {
      "text/plain": [
       "(784,)"
      ]
     },
     "execution_count": 56,
     "metadata": {},
     "output_type": "execute_result"
    }
   ],
   "source": [
    "x_train[0].shape"
   ]
  },
  {
   "cell_type": "code",
   "execution_count": 57,
   "id": "6c022e52",
   "metadata": {
    "hidden": true
   },
   "outputs": [
    {
     "data": {
      "text/plain": [
       "(50000, 784)"
      ]
     },
     "execution_count": 57,
     "metadata": {},
     "output_type": "execute_result"
    }
   ],
   "source": [
    "x_train.shape"
   ]
  },
  {
   "cell_type": "code",
   "execution_count": 58,
   "id": "4105077d",
   "metadata": {
    "hidden": true
   },
   "outputs": [
    {
     "data": {
      "text/plain": [
       "2"
      ]
     },
     "execution_count": 58,
     "metadata": {},
     "output_type": "execute_result"
    }
   ],
   "source": [
    "x_train.ndim"
   ]
  },
  {
   "cell_type": "code",
   "execution_count": 59,
   "id": "a413b009",
   "metadata": {
    "hidden": true
   },
   "outputs": [],
   "source": [
    "def normalize(x, m, s):\n",
    "    return (x-m)/s"
   ]
  },
  {
   "cell_type": "code",
   "execution_count": 60,
   "id": "ee68890e",
   "metadata": {
    "hidden": true
   },
   "outputs": [
    {
     "data": {
      "text/plain": [
       "numpy.ndarray"
      ]
     },
     "execution_count": 60,
     "metadata": {},
     "output_type": "execute_result"
    }
   ],
   "source": [
    "type(x_train)"
   ]
  },
  {
   "cell_type": "code",
   "execution_count": 61,
   "id": "5f38259a",
   "metadata": {
    "hidden": true
   },
   "outputs": [],
   "source": [
    "train_mean = x_train.mean()\n",
    "train_std = x_train.std()"
   ]
  },
  {
   "cell_type": "markdown",
   "id": "a006ca5a",
   "metadata": {
    "hidden": true
   },
   "source": [
    "The mean is not 0, the std is not 1, which makes sense, because there's no praticulat reason for it to be so,\n",
    "but we do want that so we'll normalize which just means substracting the mean and dividing by standard deviation."
   ]
  },
  {
   "cell_type": "code",
   "execution_count": 62,
   "id": "5a77ef9d",
   "metadata": {
    "hidden": true
   },
   "outputs": [
    {
     "data": {
      "text/plain": [
       "(0.13044983, 0.3072898)"
      ]
     },
     "execution_count": 62,
     "metadata": {},
     "output_type": "execute_result"
    }
   ],
   "source": [
    "train_mean, train_std"
   ]
  },
  {
   "cell_type": "code",
   "execution_count": 63,
   "id": "af9ef56b",
   "metadata": {
    "hidden": true
   },
   "outputs": [],
   "source": [
    "x_train = normalize(x_train, train_mean, train_std)\n",
    "x_valid = normalize(x_valid, train_mean, train_std)"
   ]
  },
  {
   "cell_type": "code",
   "execution_count": 64,
   "id": "2c11f293",
   "metadata": {
    "hidden": true
   },
   "outputs": [
    {
     "data": {
      "text/plain": [
       "(-3.1638146e-07, 0.99999934)"
      ]
     },
     "execution_count": 64,
     "metadata": {},
     "output_type": "execute_result"
    }
   ],
   "source": [
    "x_train.mean(), x_train.std()"
   ]
  },
  {
   "cell_type": "code",
   "execution_count": 65,
   "id": "32e24c75",
   "metadata": {
    "hidden": true
   },
   "outputs": [],
   "source": [
    "def test_near_zero(num: float, tol=1e-3):\n",
    "    assert np.abs(num) < tol, f'Near zero {num}'"
   ]
  },
  {
   "cell_type": "code",
   "execution_count": 66,
   "id": "9231b85d",
   "metadata": {
    "hidden": true
   },
   "outputs": [
    {
     "data": {
      "text/plain": [
       "-3.1638146e-07"
      ]
     },
     "execution_count": 66,
     "metadata": {},
     "output_type": "execute_result"
    }
   ],
   "source": [
    "x_train.mean()"
   ]
  },
  {
   "cell_type": "code",
   "execution_count": 67,
   "id": "13f77119",
   "metadata": {
    "hidden": true
   },
   "outputs": [],
   "source": [
    "# passes\n",
    "test_near_zero(x_train.mean())\n",
    "test_near_zero(1-x_train.std())"
   ]
  },
  {
   "cell_type": "code",
   "execution_count": 68,
   "id": "6b178e5d",
   "metadata": {
    "hidden": true
   },
   "outputs": [],
   "source": [
    "x_train, y_train, x_valid, y_valid = map(tensor, (x_train, y_train, x_valid, y_valid))"
   ]
  },
  {
   "cell_type": "code",
   "execution_count": 69,
   "id": "6d98f1a9",
   "metadata": {
    "hidden": true
   },
   "outputs": [
    {
     "data": {
      "text/plain": [
       "'gray'"
      ]
     },
     "execution_count": 69,
     "metadata": {},
     "output_type": "execute_result"
    }
   ],
   "source": [
    "mpl.rcParams['image.cmap']"
   ]
  },
  {
   "cell_type": "code",
   "execution_count": 70,
   "id": "1746f0bf",
   "metadata": {
    "hidden": true
   },
   "outputs": [],
   "source": [
    "mpl.rcParams['image.cmap'] = 'gray'"
   ]
  },
  {
   "cell_type": "code",
   "execution_count": 71,
   "id": "19d52232",
   "metadata": {
    "hidden": true
   },
   "outputs": [
    {
     "data": {
      "text/plain": [
       "<matplotlib.image.AxesImage at 0x12fbccb10>"
      ]
     },
     "execution_count": 71,
     "metadata": {},
     "output_type": "execute_result"
    },
    {
     "data": {
      "image/png": "[encoded data removed]",
      "text/plain": [
       "<Figure size 640x480 with 1 Axes>"
      ]
     },
     "metadata": {},
     "output_type": "display_data"
    }
   ],
   "source": [
    "plt.imshow(x_train[0].reshape(28,28))"
   ]
  },
  {
   "cell_type": "code",
   "execution_count": 72,
   "id": "cf5eebdf",
   "metadata": {
    "hidden": true
   },
   "outputs": [
    {
     "data": {
      "text/plain": [
       "tensor([5, 0, 4])"
      ]
     },
     "execution_count": 72,
     "metadata": {},
     "output_type": "execute_result"
    }
   ],
   "source": [
    "y_train[:3]"
   ]
  },
  {
   "cell_type": "code",
   "execution_count": 73,
   "id": "6c5957cd",
   "metadata": {
    "hidden": true
   },
   "outputs": [
    {
     "data": {
      "text/plain": [
       "tensor(0)"
      ]
     },
     "execution_count": 73,
     "metadata": {},
     "output_type": "execute_result"
    }
   ],
   "source": [
    "y_train.min()"
   ]
  },
  {
   "cell_type": "code",
   "execution_count": 74,
   "id": "615c9b65",
   "metadata": {
    "hidden": true
   },
   "outputs": [
    {
     "data": {
      "text/plain": [
       "tensor(9)"
      ]
     },
     "execution_count": 74,
     "metadata": {},
     "output_type": "execute_result"
    }
   ],
   "source": [
    "y_train.max()"
   ]
  },
  {
   "cell_type": "markdown",
   "id": "1668813d",
   "metadata": {
    "hidden": true
   },
   "source": [
    "initialize with random weights and bias. * we will later find out this random initializing is quite a bad idea\n",
    "but more to come on that later"
   ]
  },
  {
   "cell_type": "code",
   "execution_count": 75,
   "id": "de9e2a33",
   "metadata": {
    "hidden": true
   },
   "outputs": [],
   "source": [
    "weights = torch.randn(784, 10)\n",
    "bias = torch.zeros(10)"
   ]
  },
  {
   "cell_type": "code",
   "execution_count": 76,
   "id": "0e56a39c",
   "metadata": {
    "hidden": true
   },
   "outputs": [
    {
     "data": {
      "text/plain": [
       "(torch.Size([784, 10]), torch.Size([10]))"
      ]
     },
     "execution_count": 76,
     "metadata": {},
     "output_type": "execute_result"
    }
   ],
   "source": [
    "weights.shape, bias.shape"
   ]
  },
  {
   "cell_type": "markdown",
   "id": "2869ddb9",
   "metadata": {
    "heading_collapsed": true
   },
   "source": [
    "# Matrix Multiplication"
   ]
  },
  {
   "cell_type": "markdown",
   "id": "6a0158c1",
   "metadata": {
    "hidden": true
   },
   "source": [
    "regular matrix multipication. For every row of left matrix, for every coloumn of right matrix, multiple and add\n",
    "every intersection. for better visualization, see here http://matrixmultiplication.xyz/"
   ]
  },
  {
   "cell_type": "code",
   "execution_count": 86,
   "id": "95baea4c",
   "metadata": {
    "hidden": true
   },
   "outputs": [],
   "source": [
    "def matmul_one(a,b):\n",
    "    ar, ac = a.shape\n",
    "    br, bc = b.shape\n",
    "    assert ac == br\n",
    "    c = torch.zeros(ar, bc)\n",
    "    for i in range(ar):\n",
    "        for j in range(bc):\n",
    "            for k in range(ac):\n",
    "                c[i,j] += a[i,k] * b[k,j]\n",
    "    return c"
   ]
  },
  {
   "cell_type": "code",
   "execution_count": 87,
   "id": "f82b0f3e",
   "metadata": {
    "hidden": true
   },
   "outputs": [],
   "source": [
    "# we're going to multiplie the 5 first images in validation set with the random weights we gathered\n",
    "imgs = x_valid[:5]\n",
    "weights = weights"
   ]
  },
  {
   "cell_type": "code",
   "execution_count": 88,
   "id": "ab9e074c",
   "metadata": {
    "hidden": true
   },
   "outputs": [
    {
     "data": {
      "text/plain": [
       "(torch.Size([5, 784]), torch.Size([784, 10]))"
      ]
     },
     "execution_count": 88,
     "metadata": {},
     "output_type": "execute_result"
    }
   ],
   "source": [
    "imgs.shape, weights.shape"
   ]
  },
  {
   "cell_type": "code",
   "execution_count": 89,
   "id": "fdd45c88",
   "metadata": {
    "hidden": true
   },
   "outputs": [],
   "source": [
    "assert imgs.shape[1] == weights.shape[0]"
   ]
  },
  {
   "cell_type": "code",
   "execution_count": 81,
   "id": "6f59d597",
   "metadata": {
    "hidden": true
   },
   "outputs": [
    {
     "data": {
      "text/plain": [
       "torch.Size([5, 784])"
      ]
     },
     "execution_count": 81,
     "metadata": {},
     "output_type": "execute_result"
    }
   ],
   "source": [
    "imgs.shape"
   ]
  },
  {
   "cell_type": "code",
   "execution_count": 82,
   "id": "54d6ee69",
   "metadata": {
    "hidden": true
   },
   "outputs": [
    {
     "data": {
      "text/plain": [
       "torch.Size([5, 784])"
      ]
     },
     "execution_count": 82,
     "metadata": {},
     "output_type": "execute_result"
    }
   ],
   "source": [
    "imgs.view(5, -1).shape"
   ]
  },
  {
   "cell_type": "markdown",
   "id": "7a7784cc",
   "metadata": {
    "hidden": true
   },
   "source": [
    "- view(5, -1): This reshapes the tensor to have 5 rows and automatically calculates the second dimension (28 * 28 = 784). The -1 tells PyTorch to infer the appropriate size for that dimension.\n",
    "- You can also use .reshape(5, 784) if you prefer."
   ]
  },
  {
   "cell_type": "code",
   "execution_count": 90,
   "id": "9a6bc7a1",
   "metadata": {
    "hidden": true
   },
   "outputs": [
    {
     "data": {
      "text/plain": [
       "torch.Size([5, 784])"
      ]
     },
     "execution_count": 90,
     "metadata": {},
     "output_type": "execute_result"
    }
   ],
   "source": [
    "imgs.reshape(5, 784).shape"
   ]
  },
  {
   "cell_type": "code",
   "execution_count": 91,
   "id": "68f24b68",
   "metadata": {
    "hidden": true
   },
   "outputs": [],
   "source": [
    "imgs = imgs.view(5, -1)"
   ]
  },
  {
   "cell_type": "code",
   "execution_count": 92,
   "id": "a6ceae84",
   "metadata": {
    "hidden": true
   },
   "outputs": [
    {
     "data": {
      "text/plain": [
       "torch.Size([5, 784])"
      ]
     },
     "execution_count": 92,
     "metadata": {},
     "output_type": "execute_result"
    }
   ],
   "source": [
    "imgs.shape"
   ]
  },
  {
   "cell_type": "code",
   "execution_count": 93,
   "id": "ac3f6cf5",
   "metadata": {
    "hidden": true
   },
   "outputs": [],
   "source": [
    "assert imgs.shape[1] == weights.shape[0]"
   ]
  },
  {
   "cell_type": "code",
   "execution_count": 94,
   "id": "832fdedd",
   "metadata": {
    "hidden": true
   },
   "outputs": [
    {
     "data": {
      "text/plain": [
       "(torch.Size([5, 784]), torch.Size([784, 10]))"
      ]
     },
     "execution_count": 94,
     "metadata": {},
     "output_type": "execute_result"
    }
   ],
   "source": [
    "imgs.shape, weights.shape"
   ]
  },
  {
   "cell_type": "code",
   "execution_count": 95,
   "id": "c4f9bd2a",
   "metadata": {
    "hidden": true
   },
   "outputs": [
    {
     "name": "stdout",
     "output_type": "stream",
     "text": [
      "372 ms ± 14.7 ms per loop (mean ± std. dev. of 7 runs, 1 loop each)\n"
     ]
    }
   ],
   "source": [
    "%timeit matmul_one(imgs, weights)"
   ]
  },
  {
   "cell_type": "code",
   "execution_count": 96,
   "id": "e6d0b466",
   "metadata": {
    "hidden": true
   },
   "outputs": [],
   "source": [
    "t1 = matmul_one(imgs, weights)"
   ]
  },
  {
   "cell_type": "code",
   "execution_count": 97,
   "id": "60777080",
   "metadata": {
    "hidden": true
   },
   "outputs": [
    {
     "data": {
      "text/plain": [
       "torch.Size([5, 10])"
      ]
     },
     "execution_count": 97,
     "metadata": {},
     "output_type": "execute_result"
    }
   ],
   "source": [
    "t1.shape"
   ]
  },
  {
   "cell_type": "code",
   "execution_count": 98,
   "id": "6ff14c31",
   "metadata": {
    "hidden": true
   },
   "outputs": [
    {
     "data": {
      "text/plain": [
       "tensor([  6.8446, -34.5271,   7.5899,  -7.4181,   6.9764, -20.5725,  29.3994,\n",
       "        -21.3841,  28.9898, -45.1712])"
      ]
     },
     "execution_count": 98,
     "metadata": {},
     "output_type": "execute_result"
    }
   ],
   "source": [
    "t1[0]"
   ]
  },
  {
   "cell_type": "code",
   "execution_count": 99,
   "id": "1d138ed6",
   "metadata": {
    "hidden": true
   },
   "outputs": [
    {
     "data": {
      "text/plain": [
       "tensor(29.3994)"
      ]
     },
     "execution_count": 99,
     "metadata": {},
     "output_type": "execute_result"
    }
   ],
   "source": [
    "t1[0].max()"
   ]
  },
  {
   "cell_type": "markdown",
   "id": "01dbfb53",
   "metadata": {
    "hidden": true
   },
   "source": [
    "This simple matrix multiplication takes way too long. We want to do things faster, the way we would do that, is basically not use Python (as its too slow). We will write python, but the calculation will be done in C++.\n",
    "\n",
    "The way we do this, is using PyTorch's element-wise operations which will behind the scences use the Aten C++ library. https://pytorch.org/cppdocs/. But there is some time until we get to that, lets make our way up, speeding up the process."
   ]
  },
  {
   "cell_type": "markdown",
   "id": "0c5bbde9",
   "metadata": {
    "hidden": true
   },
   "source": [
    "So this 1 line change will make things much faster. Instead of going through every intersection and adding it, we will multiple the entire column with the entire row, and only then sum it together. "
   ]
  },
  {
   "cell_type": "code",
   "execution_count": 100,
   "id": "4f1e762a",
   "metadata": {
    "hidden": true
   },
   "outputs": [],
   "source": [
    "def matmul_two(a, b):\n",
    "    ar, ac = a.shape\n",
    "    br, bc = b.shape\n",
    "    assert ac == br\n",
    "    c = torch.zeros(ar, bc)\n",
    "    for i in range(ar):\n",
    "        for j in range(bc):\n",
    "            # this is the only different part from our previous loop.\n",
    "            # the \":\" after a[i] is redundant, only here for making\n",
    "            # things clearer\n",
    "            c[i,j] = (a[i,:] * b[:,j]).sum()\n",
    "    return c"
   ]
  },
  {
   "cell_type": "markdown",
   "id": "bc139d6c",
   "metadata": {
    "hidden": true
   },
   "source": [
    "521 microseconds. A thousand (!) times faster."
   ]
  },
  {
   "cell_type": "code",
   "execution_count": 101,
   "id": "9e1e0d07",
   "metadata": {
    "hidden": true
   },
   "outputs": [
    {
     "name": "stdout",
     "output_type": "stream",
     "text": [
      "363 ms ± 1.99 ms per loop (mean ± std. dev. of 7 runs, 10 loops each)\n"
     ]
    }
   ],
   "source": [
    "%timeit -n 10 _= matmul_one(imgs, weights)"
   ]
  },
  {
   "cell_type": "code",
   "execution_count": 102,
   "id": "ef3ac5e5",
   "metadata": {
    "hidden": true
   },
   "outputs": [
    {
     "name": "stdout",
     "output_type": "stream",
     "text": [
      "420 µs ± 24.4 µs per loop (mean ± std. dev. of 7 runs, 10 loops each)\n"
     ]
    }
   ],
   "source": [
    "%timeit -n 10 _= matmul_two(imgs, weights)"
   ]
  },
  {
   "cell_type": "code",
   "execution_count": null,
   "id": "ef53a753",
   "metadata": {
    "hidden": true
   },
   "outputs": [],
   "source": [
    "411 * 1000 / 553 # 743 times faster"
   ]
  },
  {
   "cell_type": "markdown",
   "id": "e0e6a498",
   "metadata": {
    "heading_collapsed": true,
    "hidden": true
   },
   "source": [
    "### Broadcasting"
   ]
  },
  {
   "cell_type": "markdown",
   "id": "b4df7e16",
   "metadata": {
    "hidden": true
   },
   "source": [
    "**broadcasting** describes how arrays with different shapes are handled during arithmetic operations."
   ]
  },
  {
   "cell_type": "code",
   "execution_count": 103,
   "id": "eba95b96",
   "metadata": {
    "hidden": true
   },
   "outputs": [
    {
     "data": {
      "text/plain": [
       "tensor([ True, False,  True, False])"
      ]
     },
     "execution_count": 103,
     "metadata": {},
     "output_type": "execute_result"
    }
   ],
   "source": [
    "a = tensor([5, -0.4, 7, -5 ])\n",
    "a > 0"
   ]
  },
  {
   "cell_type": "markdown",
   "id": "3f64dac6",
   "metadata": {
    "hidden": true
   },
   "source": [
    "This line above works as expected although it could seem a bit weird it does. We are checking if 0 is smaller then every one of those numbers in the a tensor, although 0 is just a scalar. The way it actually works is that 0 is being broadcasted, meaning some kind of \"copied\" (not really copied, memory wise) 4 times, so its actually only checking if each 0 is smaller then the respective number, we just have 4 times 0."
   ]
  },
  {
   "cell_type": "markdown",
   "id": "f4e06755",
   "metadata": {
    "hidden": true
   },
   "source": [
    "Its basically doing this, just not really copying, to save memory."
   ]
  },
  {
   "cell_type": "code",
   "execution_count": 104,
   "id": "9f3875b0",
   "metadata": {
    "hidden": true
   },
   "outputs": [],
   "source": [
    "zeros = torch.zeros(4)"
   ]
  },
  {
   "cell_type": "code",
   "execution_count": 105,
   "id": "a0db92de",
   "metadata": {
    "hidden": true
   },
   "outputs": [
    {
     "data": {
      "text/plain": [
       "tensor([0., 0., 0., 0.])"
      ]
     },
     "execution_count": 105,
     "metadata": {},
     "output_type": "execute_result"
    }
   ],
   "source": [
    "zeros"
   ]
  },
  {
   "cell_type": "code",
   "execution_count": 108,
   "id": "5f349c18",
   "metadata": {
    "hidden": true
   },
   "outputs": [
    {
     "data": {
      "text/plain": [
       "tensor([ True, False,  True, False])"
      ]
     },
     "execution_count": 108,
     "metadata": {},
     "output_type": "execute_result"
    }
   ],
   "source": [
    "a > zeros"
   ]
  },
  {
   "cell_type": "code",
   "execution_count": 109,
   "id": "268575a6",
   "metadata": {
    "hidden": true
   },
   "outputs": [
    {
     "data": {
      "text/plain": [
       "tensor([ True, False,  True, False])"
      ]
     },
     "execution_count": 109,
     "metadata": {},
     "output_type": "execute_result"
    }
   ],
   "source": [
    "b = 0\n",
    "a > b"
   ]
  },
  {
   "cell_type": "code",
   "execution_count": 110,
   "id": "a7585c93",
   "metadata": {
    "hidden": true
   },
   "outputs": [],
   "source": [
    "a = tensor([[1, 2, 3], [4, 5, 6], [7, 8, 9]])\n",
    "b = tensor([1, 2, 3])"
   ]
  },
  {
   "cell_type": "markdown",
   "id": "a0df39d2",
   "metadata": {
    "hidden": true
   },
   "source": [
    "This is what basically happens, b behaves as if it was expanded to the size needed to handle a 3 size tensor. What actually happened is that "
   ]
  },
  {
   "cell_type": "code",
   "execution_count": 111,
   "id": "8c0f1a7b",
   "metadata": {
    "hidden": true
   },
   "outputs": [
    {
     "data": {
      "text/plain": [
       "tensor([[1, 2, 3],\n",
       "        [1, 2, 3],\n",
       "        [1, 2, 3]])"
      ]
     },
     "execution_count": 111,
     "metadata": {},
     "output_type": "execute_result"
    }
   ],
   "source": [
    "c = b.expand_as(a)\n",
    "c"
   ]
  },
  {
   "cell_type": "code",
   "execution_count": 112,
   "id": "f6a9df38",
   "metadata": {
    "hidden": true
   },
   "outputs": [
    {
     "data": {
      "text/plain": [
       "torch.Size([3])"
      ]
     },
     "execution_count": 112,
     "metadata": {},
     "output_type": "execute_result"
    }
   ],
   "source": [
    "b.shape"
   ]
  },
  {
   "cell_type": "code",
   "execution_count": 113,
   "id": "a50eb9f0",
   "metadata": {
    "hidden": true
   },
   "outputs": [
    {
     "data": {
      "text/plain": [
       "torch.Size([3, 3])"
      ]
     },
     "execution_count": 113,
     "metadata": {},
     "output_type": "execute_result"
    }
   ],
   "source": [
    "c.shape"
   ]
  },
  {
   "cell_type": "markdown",
   "id": "d9fc03b2",
   "metadata": {
    "hidden": true
   },
   "source": [
    "we see c is actually stored once, not really 3 times. So how does this work ? "
   ]
  },
  {
   "cell_type": "code",
   "execution_count": 114,
   "id": "a00f777f",
   "metadata": {
    "hidden": true,
    "scrolled": true
   },
   "outputs": [
    {
     "name": "stderr",
     "output_type": "stream",
     "text": [
      "/var/folders/30/hc9ysmcs0rz72fll1lphhpp00000gp/T/ipykernel_7433/1226304414.py:1: UserWarning: TypedStorage is deprecated. It will be removed in the future and UntypedStorage will be the only storage class. This should only matter to you if you are using storages directly.  To access UntypedStorage directly, use tensor.untyped_storage() instead of tensor.storage()\n",
      "  c.storage()\n"
     ]
    },
    {
     "data": {
      "text/plain": [
       " 1\n",
       " 2\n",
       " 3\n",
       "[torch.storage.TypedStorage(dtype=torch.int64, device=cpu) of size 3]"
      ]
     },
     "execution_count": 114,
     "metadata": {},
     "output_type": "execute_result"
    }
   ],
   "source": [
    "c.storage()"
   ]
  },
  {
   "cell_type": "markdown",
   "id": "1dd82b2c",
   "metadata": {
    "hidden": true
   },
   "source": [
    "b (here named \"c\"), is just doing a 0 sized move every time it moves a line, and a 1 size move every time it moves a column, so for every row, it basically just does not move"
   ]
  },
  {
   "cell_type": "code",
   "execution_count": 116,
   "id": "392c95a3",
   "metadata": {
    "hidden": true
   },
   "outputs": [
    {
     "data": {
      "text/plain": [
       "torch.Size([1])"
      ]
     },
     "execution_count": 116,
     "metadata": {},
     "output_type": "execute_result"
    }
   ],
   "source": [
    "a = tensor([3])\n",
    "# one rank tensor\n",
    "a.shape"
   ]
  },
  {
   "cell_type": "code",
   "execution_count": 118,
   "id": "436cb96f",
   "metadata": {
    "hidden": true
   },
   "outputs": [
    {
     "data": {
      "text/plain": [
       "torch.Size([1])"
      ]
     },
     "execution_count": 118,
     "metadata": {},
     "output_type": "execute_result"
    }
   ],
   "source": [
    "a.shape"
   ]
  },
  {
   "cell_type": "code",
   "execution_count": 120,
   "id": "e2f41f32",
   "metadata": {
    "hidden": true
   },
   "outputs": [
    {
     "data": {
      "text/plain": [
       "torch.Size([1, 1])"
      ]
     },
     "execution_count": 120,
     "metadata": {},
     "output_type": "execute_result"
    }
   ],
   "source": [
    "a.unsqueeze(1).shape"
   ]
  },
  {
   "cell_type": "code",
   "execution_count": 121,
   "id": "0bfa5dea",
   "metadata": {
    "hidden": true
   },
   "outputs": [
    {
     "data": {
      "text/plain": [
       "torch.Size([1, 1])"
      ]
     },
     "execution_count": 121,
     "metadata": {},
     "output_type": "execute_result"
    }
   ],
   "source": [
    "a[None].shape"
   ]
  },
  {
   "cell_type": "code",
   "execution_count": 122,
   "id": "f31c7903",
   "metadata": {
    "hidden": true
   },
   "outputs": [
    {
     "data": {
      "text/plain": [
       "torch.Size([1, 1])"
      ]
     },
     "execution_count": 122,
     "metadata": {},
     "output_type": "execute_result"
    }
   ],
   "source": [
    "a.unsqueeze(-1).shape"
   ]
  },
  {
   "cell_type": "code",
   "execution_count": 117,
   "id": "80ea45a0",
   "metadata": {
    "hidden": true
   },
   "outputs": [
    {
     "data": {
      "text/plain": [
       "True"
      ]
     },
     "execution_count": 117,
     "metadata": {},
     "output_type": "execute_result"
    }
   ],
   "source": [
    "a.unsqueeze(1).shape == a[None].shape == a.unsqueeze(-1).shape"
   ]
  },
  {
   "cell_type": "markdown",
   "id": "d0637b69",
   "metadata": {
    "hidden": true
   },
   "source": [
    "So lets reduce everything to 1 loop, we only loop through the rows in the left matrix and say: broadcast the first row in a to a 2 rank tensor so it can be multiplied with b and then sum everything on the first axis. Do this for every row in a. "
   ]
  },
  {
   "cell_type": "code",
   "execution_count": 136,
   "id": "a78cdf56",
   "metadata": {
    "hidden": true
   },
   "outputs": [
    {
     "data": {
      "text/plain": [
       "torch.Size([5, 784, 1])"
      ]
     },
     "execution_count": 136,
     "metadata": {},
     "output_type": "execute_result"
    }
   ],
   "source": [
    "imgs.unsqueeze(-1).shape"
   ]
  },
  {
   "cell_type": "code",
   "execution_count": 137,
   "id": "dae4df84",
   "metadata": {
    "hidden": true
   },
   "outputs": [
    {
     "data": {
      "text/plain": [
       "torch.Size([784, 10])"
      ]
     },
     "execution_count": 137,
     "metadata": {},
     "output_type": "execute_result"
    }
   ],
   "source": [
    "weights.shape"
   ]
  },
  {
   "cell_type": "markdown",
   "id": "e357a6e4",
   "metadata": {
    "heading_collapsed": true,
    "hidden": true
   },
   "source": [
    "## Matmul Using Broadcasting"
   ]
  },
  {
   "cell_type": "code",
   "execution_count": 186,
   "id": "70df56af",
   "metadata": {
    "hidden": true
   },
   "outputs": [],
   "source": [
    "def matmul_three(a, b):\n",
    "    ar, ac = a.shape\n",
    "    br, bc = b.shape\n",
    "    assert ac == br\n",
    "    c = torch.zeros(ar, bc)\n",
    "    for i in range(ar):\n",
    "#         c[i] = (a[i].unsqueeze(-1) * b).sum(dim=0) # this line and the next are the same\n",
    "        c[i] = (a[i, :, None] * b).sum(dim=0) # take every row, all its columns and create another axis. This \n",
    "    # additional axis will be broadcasted to the size of b. This allows us to get rid of looping through b\n",
    "    return c"
   ]
  },
  {
   "cell_type": "code",
   "execution_count": 187,
   "id": "06ccada7",
   "metadata": {
    "hidden": true
   },
   "outputs": [
    {
     "name": "stdout",
     "output_type": "stream",
     "text": [
      "298 µs ± 152 µs per loop (mean ± std. dev. of 7 runs, 10 loops each)\n"
     ]
    }
   ],
   "source": [
    "%timeit -n 10 _= matmul_three(imgs, weights)"
   ]
  },
  {
   "cell_type": "code",
   "execution_count": 188,
   "id": "00b43dbf",
   "metadata": {
    "hidden": true
   },
   "outputs": [
    {
     "name": "stdout",
     "output_type": "stream",
     "text": [
      "367 ms ± 5.87 ms per loop (mean ± std. dev. of 7 runs, 10 loops each)\n"
     ]
    }
   ],
   "source": [
    "%timeit -n 10 _= matmul_one(imgs, weights)"
   ]
  },
  {
   "cell_type": "code",
   "execution_count": 157,
   "id": "354f3d26",
   "metadata": {
    "hidden": true
   },
   "outputs": [
    {
     "data": {
      "text/plain": [
       "1593.0232558139535"
      ]
     },
     "execution_count": 157,
     "metadata": {},
     "output_type": "execute_result"
    }
   ],
   "source": [
    "411 * 1000 / 258"
   ]
  },
  {
   "cell_type": "markdown",
   "id": "2652eaf5",
   "metadata": {
    "hidden": true
   },
   "source": [
    "Lastly, we will use the PyTorch function matmul (also works as @) which is by far the fastest. PyTorch uses a totally different way calculation. While Python has to use RAM memory again and again, PyTorch splits the calculation into separate parts and so is able to do things faster. *Pytorch doesn't really do it itself, it actually uses a linear algerbra library named BLAS (some companies like Intel, Nvidia etc have their own implementations for that). Bottom line - it works way faster. The down side is of course, we lose quite a lot of flexibility"
   ]
  },
  {
   "cell_type": "markdown",
   "id": "813ab3d4",
   "metadata": {
    "hidden": true
   },
   "source": [
    "Didnt we just say PyTorch is using a package called Aten?\n",
    "\n",
    "ATen is the core library for PyTorch's tensor operations.\n",
    "For linear algebra and other optimized operations, PyTorch can use BLAS on CPU (MKL, OpenBLAS, etc.) and cuBLAS on GPU."
   ]
  },
  {
   "cell_type": "code",
   "execution_count": 189,
   "id": "1f73ca19",
   "metadata": {
    "hidden": true
   },
   "outputs": [
    {
     "data": {
      "text/plain": [
       "(torch.Size([5, 784]), torch.Size([784, 10]))"
      ]
     },
     "execution_count": 189,
     "metadata": {},
     "output_type": "execute_result"
    }
   ],
   "source": [
    "imgs.shape, weights.shape"
   ]
  },
  {
   "cell_type": "code",
   "execution_count": 191,
   "id": "dce99878",
   "metadata": {
    "hidden": true
   },
   "outputs": [
    {
     "name": "stdout",
     "output_type": "stream",
     "text": [
      "The slowest run took 7.88 times longer than the fastest. This could mean that an intermediate result is being cached.\n",
      "27.4 µs ± 27.7 µs per loop (mean ± std. dev. of 7 runs, 10 loops each)\n"
     ]
    }
   ],
   "source": [
    "%timeit -n 10 imgs @ weights"
   ]
  },
  {
   "cell_type": "code",
   "execution_count": null,
   "id": "2c1ef3e5",
   "metadata": {
    "hidden": true
   },
   "outputs": [],
   "source": [
    "%timeit -n 10 matmul_one(imgs, weights)"
   ]
  },
  {
   "cell_type": "markdown",
   "id": "53be78b4",
   "metadata": {
    "hidden": true
   },
   "source": [
    "Twenty five thousand (!!!) times faster."
   ]
  },
  {
   "cell_type": "code",
   "execution_count": null,
   "id": "62927904",
   "metadata": {
    "hidden": true,
    "scrolled": true
   },
   "outputs": [],
   "source": [
    "370 * 1000 / 15"
   ]
  },
  {
   "cell_type": "markdown",
   "id": "e2c10f48",
   "metadata": {},
   "source": [
    "# Normalization"
   ]
  },
  {
   "cell_type": "markdown",
   "id": "7e884e74",
   "metadata": {
    "heading_collapsed": true
   },
   "source": [
    "## Random Weights Initialization"
   ]
  },
  {
   "cell_type": "markdown",
   "id": "17c211a3",
   "metadata": {
    "hidden": true
   },
   "source": [
    "Start with fresh, unmanipulated data"
   ]
  },
  {
   "cell_type": "code",
   "execution_count": 313,
   "id": "d520b8de",
   "metadata": {
    "hidden": true
   },
   "outputs": [],
   "source": [
    "x_train, y_train, x_valid, y_valid = load_data()"
   ]
  },
  {
   "cell_type": "code",
   "execution_count": 314,
   "id": "d7efb1c0",
   "metadata": {
    "hidden": true
   },
   "outputs": [],
   "source": [
    "def normalize(x, mean, std):\n",
    "    return (x - mean) / std"
   ]
  },
  {
   "cell_type": "code",
   "execution_count": 315,
   "id": "ce50af89",
   "metadata": {
    "hidden": true
   },
   "outputs": [
    {
     "data": {
      "text/plain": [
       "torch.Tensor"
      ]
     },
     "execution_count": 315,
     "metadata": {},
     "output_type": "execute_result"
    }
   ],
   "source": [
    "type(x_train)"
   ]
  },
  {
   "cell_type": "code",
   "execution_count": 312,
   "id": "25e1222a",
   "metadata": {
    "hidden": true
   },
   "outputs": [],
   "source": [
    "train_mean = x_train.mean()\n",
    "train_std = x_train.std()"
   ]
  },
  {
   "cell_type": "markdown",
   "id": "232ca620",
   "metadata": {
    "hidden": true
   },
   "source": [
    "The mean is not 1, the std is not 1, which makes sense, because there's no particular reason for it to be so,\n",
    "but we do want that  cause it works less good, so we'll normalize which just means subtracting the mean and dividing by standard deviation."
   ]
  },
  {
   "cell_type": "code",
   "execution_count": 279,
   "id": "7b9553e7",
   "metadata": {
    "hidden": true
   },
   "outputs": [
    {
     "data": {
      "text/plain": [
       "(tensor(0.1304), tensor(0.3073))"
      ]
     },
     "execution_count": 279,
     "metadata": {},
     "output_type": "execute_result"
    }
   ],
   "source": [
    "train_mean, train_std"
   ]
  },
  {
   "cell_type": "code",
   "execution_count": 280,
   "id": "401ff650",
   "metadata": {
    "hidden": true
   },
   "outputs": [],
   "source": [
    "x_train = normalize(x_train, train_mean, train_std)\n",
    "x_valid = normalize(x_valid, train_mean, train_std)"
   ]
  },
  {
   "cell_type": "code",
   "execution_count": 281,
   "id": "fdb8e615",
   "metadata": {
    "hidden": true
   },
   "outputs": [
    {
     "data": {
      "text/plain": [
       "(tensor(2.1325e-08), tensor(1.))"
      ]
     },
     "execution_count": 281,
     "metadata": {},
     "output_type": "execute_result"
    }
   ],
   "source": [
    "x_train.mean(), x_train.std()"
   ]
  },
  {
   "cell_type": "code",
   "execution_count": 282,
   "id": "731497d1",
   "metadata": {
    "hidden": true
   },
   "outputs": [],
   "source": [
    "train_mean = x_train.mean()\n",
    "train_std = x_train.std()"
   ]
  },
  {
   "cell_type": "code",
   "execution_count": 283,
   "id": "539f1097",
   "metadata": {
    "hidden": true
   },
   "outputs": [],
   "source": [
    "def test_near_zero(num: float, tol=1e-3):\n",
    "    assert np.abs(num) < tol, f'Near zero {num}'"
   ]
  },
  {
   "cell_type": "code",
   "execution_count": 284,
   "id": "f6098e10",
   "metadata": {
    "hidden": true
   },
   "outputs": [],
   "source": [
    "# passes\n",
    "test_near_zero(x_train.mean())\n",
    "test_near_zero(1-x_train.std())"
   ]
  },
  {
   "cell_type": "markdown",
   "id": "bc425a21",
   "metadata": {
    "hidden": true
   },
   "source": [
    "So the problem is this: we want the inputs to any layer to be with a mean o 0 and std of 1. On the first layer, mission accomplished, we have it. Problem is .. if we initialize the weights randomly, the input to the second layer, won't be like this anymore. Lets see this"
   ]
  },
  {
   "cell_type": "code",
   "execution_count": 316,
   "id": "d1c6214b",
   "metadata": {
    "hidden": true
   },
   "outputs": [],
   "source": [
    "# number of hidden parameters\n",
    "nh = 50"
   ]
  },
  {
   "cell_type": "code",
   "execution_count": 317,
   "id": "7461afed",
   "metadata": {
    "hidden": true
   },
   "outputs": [
    {
     "data": {
      "text/plain": [
       "torch.Size([50000, 784])"
      ]
     },
     "execution_count": 317,
     "metadata": {},
     "output_type": "execute_result"
    }
   ],
   "source": [
    "x_train.shape"
   ]
  },
  {
   "cell_type": "code",
   "execution_count": 320,
   "id": "eed0dbef",
   "metadata": {
    "hidden": true
   },
   "outputs": [],
   "source": [
    "w1 = torch.randn(28*28, nh)\n",
    "b1 = torch.randn(nh)"
   ]
  },
  {
   "cell_type": "code",
   "execution_count": 321,
   "id": "9cd58664",
   "metadata": {
    "hidden": true
   },
   "outputs": [
    {
     "data": {
      "text/plain": [
       "(torch.Size([784, 50]), torch.Size([50]))"
      ]
     },
     "execution_count": 321,
     "metadata": {},
     "output_type": "execute_result"
    }
   ],
   "source": [
    "w1.shape, b1.shape"
   ]
  },
  {
   "cell_type": "code",
   "execution_count": 322,
   "id": "9ca20af8",
   "metadata": {
    "hidden": true
   },
   "outputs": [
    {
     "data": {
      "text/plain": [
       "torch.Size([10000, 784])"
      ]
     },
     "execution_count": 322,
     "metadata": {},
     "output_type": "execute_result"
    }
   ],
   "source": [
    "x_valid.shape"
   ]
  },
  {
   "cell_type": "code",
   "execution_count": 323,
   "id": "b3ecd480",
   "metadata": {
    "hidden": true
   },
   "outputs": [],
   "source": [
    "def lin(x, w, b):\n",
    "    return x @ w + b"
   ]
  },
  {
   "cell_type": "code",
   "execution_count": 324,
   "id": "aa172c67",
   "metadata": {
    "hidden": true
   },
   "outputs": [],
   "source": [
    "r1 = lin(x_valid, w1, b1)"
   ]
  },
  {
   "cell_type": "code",
   "execution_count": 325,
   "id": "0f87aa14",
   "metadata": {
    "hidden": true
   },
   "outputs": [
    {
     "data": {
      "text/plain": [
       "(torch.Tensor, torch.Tensor, torch.Tensor)"
      ]
     },
     "execution_count": 325,
     "metadata": {},
     "output_type": "execute_result"
    }
   ],
   "source": [
    "type(x_valid), type(w1), type(b1)"
   ]
  },
  {
   "cell_type": "code",
   "execution_count": 326,
   "id": "c951536a",
   "metadata": {
    "hidden": true
   },
   "outputs": [
    {
     "data": {
      "text/plain": [
       "(torch.float32, torch.float32, torch.float32)"
      ]
     },
     "execution_count": 326,
     "metadata": {},
     "output_type": "execute_result"
    }
   ],
   "source": [
    "x_valid.dtype, w1.dtype, b1.dtype"
   ]
  },
  {
   "cell_type": "code",
   "execution_count": 327,
   "id": "f86e79f4",
   "metadata": {
    "hidden": true
   },
   "outputs": [
    {
     "data": {
      "text/plain": [
       "torch.Size([10000, 50])"
      ]
     },
     "execution_count": 327,
     "metadata": {},
     "output_type": "execute_result"
    }
   ],
   "source": [
    "r1.shape"
   ]
  },
  {
   "cell_type": "code",
   "execution_count": 328,
   "id": "25ae5888",
   "metadata": {
    "hidden": true
   },
   "outputs": [
    {
     "data": {
      "text/plain": [
       "(tensor(-0.1188), tensor(8.7247))"
      ]
     },
     "execution_count": 328,
     "metadata": {},
     "output_type": "execute_result"
    }
   ],
   "source": [
    "r1.mean(), r1.std()"
   ]
  },
  {
   "cell_type": "markdown",
   "id": "992c2045",
   "metadata": {},
   "source": [
    "## Kaming He Weights Initialization"
   ]
  },
  {
   "cell_type": "code",
   "execution_count": 329,
   "id": "83ae205c",
   "metadata": {},
   "outputs": [],
   "source": [
    "x_train, y_train, x_valid, y_valid = load_data()"
   ]
  },
  {
   "cell_type": "code",
   "execution_count": 330,
   "id": "b3efe02b",
   "metadata": {},
   "outputs": [],
   "source": [
    "train_mean = x_train.mean()\n",
    "train_std = x_train.std()"
   ]
  },
  {
   "cell_type": "code",
   "execution_count": 331,
   "id": "37e8e445",
   "metadata": {},
   "outputs": [],
   "source": [
    "x_train = normalize(x_train, train_mean, train_std)\n",
    "x_valid = normalize(x_valid, train_mean, train_std)"
   ]
  },
  {
   "cell_type": "code",
   "execution_count": 332,
   "id": "8579a325",
   "metadata": {},
   "outputs": [
    {
     "data": {
      "text/plain": [
       "(tensor(2.1325e-08), tensor(1.))"
      ]
     },
     "execution_count": 332,
     "metadata": {},
     "output_type": "execute_result"
    }
   ],
   "source": [
    "x_train.mean(), x_train.std()"
   ]
  },
  {
   "cell_type": "code",
   "execution_count": 333,
   "id": "9ec1e670",
   "metadata": {},
   "outputs": [],
   "source": [
    "weights = torch.randn(784, 10)\n",
    "imgs = x_valid[:5]"
   ]
  },
  {
   "cell_type": "code",
   "execution_count": 334,
   "id": "0871a9ba",
   "metadata": {},
   "outputs": [],
   "source": [
    "m = 784\n",
    "nh = 50"
   ]
  },
  {
   "cell_type": "markdown",
   "id": "0fdde3d1",
   "metadata": {},
   "source": [
    "Without normalizing the weights, after one linear process, the result will no longer be normalized"
   ]
  },
  {
   "cell_type": "code",
   "execution_count": 335,
   "id": "d5116e93",
   "metadata": {},
   "outputs": [],
   "source": [
    "w1 = torch.randn(m, nh)\n",
    "b1 = torch.zeros(nh)\n",
    "w2 = torch.randn(nh, 1)\n",
    "b2 = torch.zeros(1)"
   ]
  },
  {
   "cell_type": "code",
   "execution_count": 336,
   "id": "5c100a79",
   "metadata": {},
   "outputs": [],
   "source": [
    "r2 = lin(x_valid, w1, b1)"
   ]
  },
  {
   "cell_type": "code",
   "execution_count": 337,
   "id": "f83efa49",
   "metadata": {},
   "outputs": [
    {
     "data": {
      "text/plain": [
       "(tensor(0.6894), tensor(29.0576))"
      ]
     },
     "execution_count": 337,
     "metadata": {},
     "output_type": "execute_result"
    }
   ],
   "source": [
    "r2.mean(), r2.std()"
   ]
  },
  {
   "cell_type": "code",
   "execution_count": 338,
   "id": "7a2f569f",
   "metadata": {},
   "outputs": [],
   "source": [
    "w1 = torch.randn(m, nh)/math.sqrt(m)\n",
    "b1 = torch.zeros(nh)\n",
    "w2 = torch.randn(nh, 1)/math.sqrt(nh)\n",
    "b2 = torch.zeros(1)"
   ]
  },
  {
   "cell_type": "markdown",
   "id": "eacf1b83",
   "metadata": {},
   "source": [
    "Now, they ARE normalized"
   ]
  },
  {
   "cell_type": "code",
   "execution_count": 339,
   "id": "4ea3b154",
   "metadata": {},
   "outputs": [
    {
     "data": {
      "text/plain": [
       "(tensor(-0.0009), tensor(0.9586))"
      ]
     },
     "execution_count": 339,
     "metadata": {},
     "output_type": "execute_result"
    }
   ],
   "source": [
    "r2 = lin(x_valid, w1, b1)\n",
    "r2.mean(), r2.std()"
   ]
  },
  {
   "cell_type": "markdown",
   "id": "cd1815b4",
   "metadata": {},
   "source": [
    "# Activation Functions - See Separate Notebook"
   ]
  },
  {
   "cell_type": "markdown",
   "id": "e6399557",
   "metadata": {},
   "source": [
    "ReLU is very simple. Take any negative value, replace it with zero. Take any positive value, keep it as it was."
   ]
  },
  {
   "cell_type": "code",
   "execution_count": 17,
   "id": "76365a9d",
   "metadata": {},
   "outputs": [],
   "source": [
    "def relu(x): \n",
    "    return x.clamp_min(0.)"
   ]
  },
  {
   "cell_type": "code",
   "execution_count": 18,
   "id": "0a53e10e",
   "metadata": {},
   "outputs": [
    {
     "data": {
      "text/plain": [
       "tensor(-3)"
      ]
     },
     "execution_count": 18,
     "metadata": {},
     "output_type": "execute_result"
    }
   ],
   "source": [
    "negative_tensor = torch.tensor(-3)\n",
    "negative_tensor"
   ]
  },
  {
   "cell_type": "code",
   "execution_count": 19,
   "id": "b5ef26f5",
   "metadata": {},
   "outputs": [
    {
     "data": {
      "text/plain": [
       "tensor(3)"
      ]
     },
     "execution_count": 19,
     "metadata": {},
     "output_type": "execute_result"
    }
   ],
   "source": [
    "positive_tensor = torch.tensor(3)\n",
    "positive_tensor"
   ]
  },
  {
   "cell_type": "code",
   "execution_count": 20,
   "id": "524389aa",
   "metadata": {},
   "outputs": [
    {
     "data": {
      "text/plain": [
       "tensor(0.)"
      ]
     },
     "execution_count": 20,
     "metadata": {},
     "output_type": "execute_result"
    }
   ],
   "source": [
    "relu(negative_tensor)"
   ]
  },
  {
   "cell_type": "code",
   "execution_count": 21,
   "id": "49397369",
   "metadata": {},
   "outputs": [
    {
     "data": {
      "text/plain": [
       "tensor(3.)"
      ]
     },
     "execution_count": 21,
     "metadata": {},
     "output_type": "execute_result"
    }
   ],
   "source": [
    "relu(positive_tensor)"
   ]
  },
  {
   "cell_type": "code",
   "execution_count": 22,
   "id": "6f4fa353",
   "metadata": {},
   "outputs": [],
   "source": [
    "t = relu(lin(x_valid, w1, b1))"
   ]
  },
  {
   "cell_type": "markdown",
   "id": "e05696ca",
   "metadata": {},
   "source": [
    "Once again, not normalized."
   ]
  },
  {
   "cell_type": "code",
   "execution_count": 23,
   "id": "28c3ae7d",
   "metadata": {},
   "outputs": [
    {
     "data": {
      "text/plain": [
       "(tensor(0.4322), tensor(0.6080))"
      ]
     },
     "execution_count": 23,
     "metadata": {},
     "output_type": "execute_result"
    }
   ],
   "source": [
    "t.mean(), t.std()"
   ]
  },
  {
   "attachments": {
    "image.png": {
     "image/png": "[encoded data removed]"
    }
   },
   "cell_type": "markdown",
   "id": "b5117dfd",
   "metadata": {},
   "source": [
    "![image.png](attachment:image.png)"
   ]
  }
 ],
 "metadata": {
  "kernelspec": {
   "display_name": "all_purpose_venv",
   "language": "python",
   "name": "all_purpose_venv"
  },
  "language_info": {
   "codemirror_mode": {
    "name": "ipython",
    "version": 3
   },
   "file_extension": ".py",
   "mimetype": "text/x-python",
   "name": "python",
   "nbconvert_exporter": "python",
   "pygments_lexer": "ipython3",
   "version": "3.11.2"
  },
  "toc": {
   "base_numbering": 1,
   "nav_menu": {
    "height": "344px",
    "width": "394px"
   },
   "number_sections": true,
   "sideBar": true,
   "skip_h1_title": false,
   "title_cell": "Table of Contents",
   "title_sidebar": "Contents",
   "toc_cell": false,
   "toc_position": {},
   "toc_section_display": true,
   "toc_window_display": false
  }
 },
 "nbformat": 4,
 "nbformat_minor": 5
}
